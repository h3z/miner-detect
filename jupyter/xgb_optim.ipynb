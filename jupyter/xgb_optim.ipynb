{
 "cells": [
  {
   "cell_type": "code",
   "execution_count": null,
   "metadata": {},
   "outputs": [],
   "source": [
    "from sklearn.model_selection import KFold, StratifiedKFold\n",
    "# params = {'learning_rate': .3, 'max_depth': 4, 'n_estimators': 50}\n",
    "params = {}\n",
    "params_xgb = params.copy()\n",
    "# num_round = params_xgb['n_estimators']\n",
    "# params_xgb['eta'] = params_xgb['learning_rate']\n",
    "# del params_xgb['n_estimators']\n",
    "# del params_xgb['learning_rate']\n",
    "\n",
    "cv = StratifiedKFold(5, shuffle=True, random_state=23)\n",
    "\n",
    "# xgb.cv(params_xgb, xgb.DMatrix(x, y), num_round, folds=cv, metrics='error')\n",
    "xgb.cv(params_xgb, xgb.DMatrix(x, y), 50, folds=cv, metrics='error')\n"
   ]
  }
 ],
 "metadata": {
  "language_info": {
   "name": "python"
  },
  "orig_nbformat": 4
 },
 "nbformat": 4,
 "nbformat_minor": 2
}
