{
 "cells": [
  {
   "cell_type": "code",
   "execution_count": 2,
   "metadata": {},
   "outputs": [
    {
     "name": "stderr",
     "output_type": "stream",
     "text": [
      "/opt/conda/envs/miner/lib/python3.8/site-packages/xgboost/compat.py:31: FutureWarning: pandas.Int64Index is deprecated and will be removed from pandas in a future version. Use pandas.Index with the appropriate dtype instead.\n",
      "  from pandas import MultiIndex, Int64Index\n"
     ]
    }
   ],
   "source": [
    "%load_ext autoreload\n",
    "%autoreload 2\n",
    " \n",
    "import sys\n",
    "sys.path.append('../src')\n",
    "import xgboost as xgb\n",
    "import pandas as pd\n",
    "from features.UserJoin import UserJoin\n",
    "from features.UserJoin import submit, diff, plt_month, plt_day, load_ids, info, infot\n",
    "import config as C\n",
    "import matplotlib.pyplot as plt\n",
    "import plotly.express as px\n",
    "import numpy as np\n",
    "\n",
    "\n",
    "from sklearn.model_selection import KFold, StratifiedKFold\n",
    "import seaborn as sns\n",
    "from xgboost import plot_tree\n"
   ]
  },
  {
   "cell_type": "code",
   "execution_count": 3,
   "metadata": {},
   "outputs": [],
   "source": [
    "ds = UserJoin()"
   ]
  },
  {
   "cell_type": "markdown",
   "metadata": {},
   "source": [
    "# 工具：打分"
   ]
  },
  {
   "cell_type": "code",
   "execution_count": 4,
   "metadata": {},
   "outputs": [],
   "source": [
    "def get_compare():\n",
    "    compare = pd.concat([pd.DataFrame({'id': list(C.true_ids), 'label': 1}),\n",
    "                         pd.DataFrame({'id': list(C.false_ids), 'label': 0}),\n",
    "                         # pd.DataFrame({'id': list(C.ids_4_2), 'label': .5}),\n",
    "                         # pd.DataFrame({'id': list(C.ids_4_2_V2), 'label': .5}),\n",
    "                        #  pd.DataFrame({'id': list(C.ids_13_4), 'label': .692})\n",
    "                         ])\n",
    "    compare = compare.set_index('id')\n",
    "    return compare\n",
    "\n",
    "def score(ids):\n",
    "    ids = list(ids)\n",
    "    compare = get_compare()\n",
    "    print(f'共 {len(ids)} 忽略的 ', len(set(ids) - set(compare.index.values)))\n",
    "    compare = compare.join(pd.DataFrame({'id': ids, 'pred': 1}).set_index('id')).fillna(0)\n",
    "    compare = compare.reset_index()\n",
    "    # sns.jointplot(data=compare, x='label', y='pred')\n",
    "    print(f'{np.mean((compare.pred - compare.label) ** 2):.3f}')\n",
    "    return compare"
   ]
  },
  {
   "cell_type": "markdown",
   "metadata": {},
   "source": [
    "# 工具：增加数据"
   ]
  },
  {
   "cell_type": "code",
   "execution_count": 5,
   "metadata": {},
   "outputs": [],
   "source": [
    "# def aug1(df):\n",
    "#     df = df.copy()\n",
    "#     df.loc[df.index.isin(testids), 'IS_FLAG'] = 0\n",
    "#     return df\n",
    "\n",
    "# 把挖矿用户按比例变化，1个变成10个\n",
    "def aug2(df):\n",
    "    idmax = df.index.max()\n",
    "\n",
    "    d = df[df.IS_FLAG == 1]\n",
    "    p = d[['pq_f', 'pq_p', 'pq_g', 'pq_z']] * .002\n",
    "\n",
    "    newdfs = []\n",
    "    for i in range(-400, 500):\n",
    "        newd = d.copy()\n",
    "\n",
    "        newd[['pq_f', 'pq_p', 'pq_g', 'pq_z']] = newd[['pq_f', 'pq_p', 'pq_g', 'pq_z']] + p*i\n",
    "        newd = newd.reset_index()\n",
    "        newd.id = newd.id + idmax*(i+6)\n",
    "        newd = newd.set_index('id')\n",
    "\n",
    "        newdfs.append(newd)\n",
    "\n",
    "    return pd.concat(newdfs + [df])"
   ]
  },
  {
   "cell_type": "code",
   "execution_count": 8,
   "metadata": {},
   "outputs": [],
   "source": [
    "def exp(features, df, params):\n",
    "    x, x_val = df.loc[df.label != 'test', features], df.loc[df.label == 'test', features]\n",
    "    y = df.loc[df.label != 'test', 'IS_FLAG']\n",
    "\n",
    "    model = xgb.XGBClassifier(**params)\n",
    "    model.fit(x, y)\n",
    "    pred_y = model.predict(x)\n",
    "    print((pred_y != y).sum())\n",
    "\n",
    "    y_val = model.predict(x_val)\n",
    "    pred_val = pd.DataFrame({'id': x_val.index.values, 'pred': y_val}).groupby('id').sum()\n",
    "    return pred_y, pred_val"
   ]
  },
  {
   "cell_type": "markdown",
   "metadata": {},
   "source": [
    "## 1. 之前 .88 的，不过 UserJoin 里做了一点小改动，所以结果不太一样了"
   ]
  },
  {
   "cell_type": "code",
   "execution_count": 122,
   "metadata": {},
   "outputs": [
    {
     "name": "stderr",
     "output_type": "stream",
     "text": [
      "/opt/conda/envs/miner/lib/python3.8/site-packages/xgboost/sklearn.py:1146: UserWarning: The use of label encoder in XGBClassifier is deprecated and will be removed in a future release. To remove this warning, do the following: 1) Pass option use_label_encoder=False when constructing XGBClassifier object; and 2) Encode your labels (y) as integers starting with 0, i.e. 0, 1, 2, ..., [num_class - 1].\n",
      "  warnings.warn(label_encoder_deprecation_msg, UserWarning)\n",
      "/opt/conda/envs/miner/lib/python3.8/site-packages/xgboost/data.py:208: FutureWarning: pandas.Int64Index is deprecated and will be removed from pandas in a future version. Use pandas.Index with the appropriate dtype instead.\n",
      "  from pandas import MultiIndex, Int64Index\n"
     ]
    },
    {
     "name": "stdout",
     "output_type": "stream",
     "text": [
      "[14:30:55] WARNING: ../src/learner.cc:1095: Starting in XGBoost 1.3.0, the default evaluation metric used with the objective 'binary:logistic' was changed from 'error' to 'logloss'. Explicitly set eval_metric if you'd like to restore the old behavior.\n",
      "0\n",
      "共 39 忽略的  24\n",
      "0.127\n",
      "共 34 忽略的  20\n",
      "0.157\n"
     ]
    }
   ],
   "source": [
    "_, pred = exp(C.month_features, ds.month, {})\n",
    "pred = pred[pred.pred > 7]\n",
    "\n",
    "score(pred.index.values)\n",
    "score(load_ids('submit_3_7_1.csv'))"
   ]
  },
  {
   "cell_type": "markdown",
   "metadata": {},
   "source": [
    "## 2. 实验：复制了挖矿用户\n",
    "有那么一点点效果"
   ]
  },
  {
   "cell_type": "code",
   "execution_count": 106,
   "metadata": {},
   "outputs": [
    {
     "name": "stderr",
     "output_type": "stream",
     "text": [
      "/opt/conda/envs/miner/lib/python3.8/site-packages/xgboost/sklearn.py:1146: UserWarning: The use of label encoder in XGBClassifier is deprecated and will be removed in a future release. To remove this warning, do the following: 1) Pass option use_label_encoder=False when constructing XGBClassifier object; and 2) Encode your labels (y) as integers starting with 0, i.e. 0, 1, 2, ..., [num_class - 1].\n",
      "  warnings.warn(label_encoder_deprecation_msg, UserWarning)\n",
      "/opt/conda/envs/miner/lib/python3.8/site-packages/xgboost/data.py:208: FutureWarning: pandas.Int64Index is deprecated and will be removed from pandas in a future version. Use pandas.Index with the appropriate dtype instead.\n",
      "  from pandas import MultiIndex, Int64Index\n"
     ]
    },
    {
     "name": "stdout",
     "output_type": "stream",
     "text": [
      "[14:29:14] WARNING: ../src/learner.cc:1095: Starting in XGBoost 1.3.0, the default evaluation metric used with the objective 'binary:logistic' was changed from 'error' to 'logloss'. Explicitly set eval_metric if you'd like to restore the old behavior.\n",
      "183\n"
     ]
    }
   ],
   "source": [
    "t = aug2(ds.month)\n",
    "y, pred = exp(C.month_features, t, {})"
   ]
  },
  {
   "cell_type": "code",
   "execution_count": 121,
   "metadata": {},
   "outputs": [
    {
     "name": "stdout",
     "output_type": "stream",
     "text": [
      "共 35 忽略的  20\n",
      "0.127\n"
     ]
    }
   ],
   "source": [
    "tmp = pred[pred.pred > 13]\n",
    "score(tmp.index.values)"
   ]
  },
  {
   "cell_type": "markdown",
   "metadata": {},
   "source": [
    "## 3. 实验：组合月数据的全局统计\n",
    "这个尝试下来效果都不太好"
   ]
  },
  {
   "cell_type": "code",
   "execution_count": 9,
   "metadata": {},
   "outputs": [
    {
     "name": "stderr",
     "output_type": "stream",
     "text": [
      "/opt/conda/envs/miner/lib/python3.8/site-packages/xgboost/sklearn.py:1146: UserWarning: The use of label encoder in XGBClassifier is deprecated and will be removed in a future release. To remove this warning, do the following: 1) Pass option use_label_encoder=False when constructing XGBClassifier object; and 2) Encode your labels (y) as integers starting with 0, i.e. 0, 1, 2, ..., [num_class - 1].\n",
      "  warnings.warn(label_encoder_deprecation_msg, UserWarning)\n",
      "/opt/conda/envs/miner/lib/python3.8/site-packages/xgboost/data.py:208: FutureWarning: pandas.Int64Index is deprecated and will be removed from pandas in a future version. Use pandas.Index with the appropriate dtype instead.\n",
      "  from pandas import MultiIndex, Int64Index\n"
     ]
    },
    {
     "name": "stdout",
     "output_type": "stream",
     "text": [
      "[16:49:35] WARNING: ../src/learner.cc:1095: Starting in XGBoost 1.3.0, the default evaluation metric used with the objective 'binary:logistic' was changed from 'error' to 'logloss'. Explicitly set eval_metric if you'd like to restore the old behavior.\n",
      "0\n"
     ]
    }
   ],
   "source": [
    "user = ds.train[C.user_features]\n",
    "monthjoin = ds.month.join(user, rsuffix='_mean')\n",
    "\n",
    "# mean_cols = []\n",
    "# for i in monthjoin.columns:\n",
    "#     if 'mean' in i:\n",
    "#         monthjoin[i.replace('mean', 'sub_mean')] = monthjoin[i.replace('_mean', '')] - monthjoin[i]\n",
    "#         mean_cols.append(i)\n",
    "\n",
    "# monthjoin = monthjoin.drop(columns=mean_cols)\n",
    "\n",
    "monthjoin_features = [\n",
    "    'pq_f',\n",
    "    'pq_g',\n",
    "    'pq_p',\n",
    "    'pq_z',\n",
    "    'pf',\n",
    "    'pg',\n",
    "    'pp',\n",
    "    'p_f',\n",
    "    'p_g',\n",
    "    'f_g',\n",
    "    'monthcv',\n",
    "    # 'pq_f_mean',\n",
    "    # 'pq_g_mean',\n",
    "    # 'pq_p_mean',\n",
    "    # 'pq_z_mean',\n",
    "    # 'pp_mean',\n",
    "    # 'pf_mean',\n",
    "    # 'pg_mean',\n",
    "    # 'p_f_mean',\n",
    "    # 'p_g_mean',\n",
    "    # 'f_g_mean',\n",
    "    'monthcv_mean',\n",
    "]\n",
    "\n",
    "# monthjoin = aug2(monthjoin)\n",
    "y, pred = exp(monthjoin_features, monthjoin, {})"
   ]
  },
  {
   "cell_type": "code",
   "execution_count": 11,
   "metadata": {},
   "outputs": [
    {
     "name": "stdout",
     "output_type": "stream",
     "text": [
      "共 27 忽略的  15\n",
      "0.477\n"
     ]
    }
   ],
   "source": [
    "# pred[pred.pred > 0].hist()\n",
    "tmp = pred[pred.pred > 5]\n",
    "res = score(tmp.index.values)\n",
    "# res[res.label != res.pred]"
   ]
  },
  {
   "cell_type": "markdown",
   "metadata": {},
   "source": [
    "## 4. 实验：用 gridsearch 试试看。还有一些调参相关的学习"
   ]
  },
  {
   "cell_type": "code",
   "execution_count": null,
   "metadata": {},
   "outputs": [],
   "source": [
    "params = {\n",
    "    \n",
    "}\n",
    "xgb.XGBClassifier()"
   ]
  }
 ],
 "metadata": {
  "interpreter": {
   "hash": "ecdeaf2ac59fb4ad11976aef5258ba241a9bb1bfad09d91039c8d9c71c1b3462"
  },
  "kernelspec": {
   "display_name": "Python 3.8.12 ('miner')",
   "language": "python",
   "name": "python3"
  },
  "language_info": {
   "codemirror_mode": {
    "name": "ipython",
    "version": 3
   },
   "file_extension": ".py",
   "mimetype": "text/x-python",
   "name": "python",
   "nbconvert_exporter": "python",
   "pygments_lexer": "ipython3",
   "version": "3.8.12"
  },
  "orig_nbformat": 4
 },
 "nbformat": 4,
 "nbformat_minor": 2
}
