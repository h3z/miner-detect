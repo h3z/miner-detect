{
 "cells": [
  {
   "cell_type": "code",
   "execution_count": 1,
   "metadata": {},
   "outputs": [
    {
     "name": "stderr",
     "output_type": "stream",
     "text": [
      "/opt/conda/envs/miner/lib/python3.8/site-packages/xgboost/compat.py:31: FutureWarning: pandas.Int64Index is deprecated and will be removed from pandas in a future version. Use pandas.Index with the appropriate dtype instead.\n",
      "  from pandas import MultiIndex, Int64Index\n"
     ]
    }
   ],
   "source": [
    "import sys\n",
    "sys.path.append('../src')\n",
    "import xgboost as xgb\n",
    "import pandas as pd\n",
    "from features.UserJoin import UserJoin\n",
    "from features.UserJoin import diff, plt_month, plt_day, load_ids\n",
    "import config as C\n",
    "import matplotlib.pyplot as plt\n",
    "import plotly.express as px"
   ]
  },
  {
   "cell_type": "code",
   "execution_count": 14,
   "metadata": {},
   "outputs": [
    {
     "data": {
      "text/plain": [
       "37"
      ]
     },
     "execution_count": 14,
     "metadata": {},
     "output_type": "execute_result"
    }
   ],
   "source": [
    "len(load_ids('t.csv'))"
   ]
  },
  {
   "cell_type": "code",
   "execution_count": 16,
   "metadata": {},
   "outputs": [
    {
     "name": "stdout",
     "output_type": "stream",
     "text": [
      "in s1 not s2 7\n",
      "in s2 not s1 10\n",
      "inner 27\n"
     ]
    },
    {
     "data": {
      "text/plain": [
       "{179458306,\n",
       " 179569820,\n",
       " 855996491,\n",
       " 1606708811,\n",
       " 1916407803,\n",
       " 2071313507,\n",
       " 2172970175,\n",
       " 2186749200,\n",
       " 2212416005,\n",
       " 2238809293,\n",
       " 2251440776,\n",
       " 2256064355,\n",
       " 2347718608,\n",
       " 2347718610,\n",
       " 2427050072,\n",
       " 2445049876,\n",
       " 2451165982,\n",
       " 2471562086,\n",
       " 2479963778,\n",
       " 2496032641,\n",
       " 2523401557,\n",
       " 2535198432,\n",
       " 2576321385,\n",
       " 2717225077,\n",
       " 2741872006,\n",
       " 2759232590,\n",
       " 2817362052}"
      ]
     },
     "execution_count": 16,
     "metadata": {},
     "output_type": "execute_result"
    }
   ],
   "source": [
    "diff('submit_3_7_1.csv', 't.csv')"
   ]
  },
  {
   "cell_type": "code",
   "execution_count": null,
   "metadata": {},
   "outputs": [],
   "source": []
  }
 ],
 "metadata": {
  "interpreter": {
   "hash": "ecdeaf2ac59fb4ad11976aef5258ba241a9bb1bfad09d91039c8d9c71c1b3462"
  },
  "kernelspec": {
   "display_name": "Python 3.8.12 ('miner')",
   "language": "python",
   "name": "python3"
  },
  "language_info": {
   "codemirror_mode": {
    "name": "ipython",
    "version": 3
   },
   "file_extension": ".py",
   "mimetype": "text/x-python",
   "name": "python",
   "nbconvert_exporter": "python",
   "pygments_lexer": "ipython3",
   "version": "3.8.12"
  },
  "orig_nbformat": 4
 },
 "nbformat": 4,
 "nbformat_minor": 2
}
