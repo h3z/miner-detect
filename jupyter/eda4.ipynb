{
 "cells": [
  {
   "cell_type": "code",
   "execution_count": 22,
   "metadata": {},
   "outputs": [
    {
     "name": "stdout",
     "output_type": "stream",
     "text": [
      "The autoreload extension is already loaded. To reload it, use:\n",
      "  %reload_ext autoreload\n"
     ]
    }
   ],
   "source": [
    "%load_ext autoreload\n",
    "%autoreload 2\n",
    "\n",
    "import sys\n",
    "sys.path.append('../src')\n",
    "\n",
    "import matplotlib.pylab as plt\n",
    "import pandas as pd\n",
    "import numpy as np\n",
    "import config as C\n",
    "import plotly.express as px\n",
    "from features.UserJoin import UserJoin\n",
    "\n",
    "pd.options.display.float_format = '{:,.3f}'.format\n",
    "pd.options.display.max_columns = None"
   ]
  },
  {
   "cell_type": "code",
   "execution_count": 44,
   "metadata": {},
   "outputs": [],
   "source": [
    "ds = UserJoin()"
   ]
  },
  {
   "cell_type": "code",
   "execution_count": 39,
   "metadata": {},
   "outputs": [],
   "source": [
    "test_ids = pd.read_csv('submit_3_3_1.csv')\n",
    "test_ids = test_ids[test_ids.label == 1].id.values\n",
    "# print((month[['p_f', 'p_g', 'f_g']] < 0).sum().values)\n",
    "# print((day[['2_3', '2_4', '3_4']]<0).sum().values)\n",
    "\n",
    "def norm_arr(s, n=2):\n",
    "    return s[((s < (s.mean() + n*s.std())) & (s > (s.mean() - n*s.std())))]\n",
    "\n",
    "def state(df):\n",
    "    nowids = set(df.index.unique().values)\n",
    "    testids = set(test_ids)\n",
    "    print('in testids not in now ids', len(testids - nowids))\n",
    "    return df.groupby('label').count().iloc[:, [0]]\n",
    "\n",
    "def checkids(origin, df):\n",
    "    nowids = set(df.index.unique().values)\n",
    "    testids = set(test_ids)\n",
    "    print('before ids len', len(origin.index.unique().values))\n",
    "    print('now ids len', len(nowids))\n",
    "    print('test ids len', len(testids))\n",
    "\n",
    "    print('in testids not in now ids', len(testids - nowids))\n",
    "    return df.groupby('label').count().iloc[:, [0]]"
   ]
  },
  {
   "cell_type": "code",
   "execution_count": 46,
   "metadata": {},
   "outputs": [
    {
     "data": {
      "image/png": "[encoded data removed]",
      "text/plain": [
       "<Figure size 432x288 with 1 Axes>"
      ]
     },
     "metadata": {
      "needs_background": "light"
     },
     "output_type": "display_data"
    },
    {
     "data": {
      "image/png": "[encoded data removed]",
      "text/plain": [
       "<Figure size 432x288 with 1 Axes>"
      ]
     },
     "metadata": {
      "needs_background": "light"
     },
     "output_type": "display_data"
    }
   ],
   "source": [
    "def check_f(s, df=ds.train2):\n",
    "    norm_arr(df[s]).hist(bins=60, alpha=.4)\n",
    "\n",
    "    s2 = df[df.index.isin(C.minerids)][s]\n",
    "    s2.hist(bins=60)\n",
    "\n",
    "    plt.axvline(x=s2.min(), c='r')\n",
    "    plt.axvline(x=s2.max(), c='r')\n",
    "    plt.title(s)\n",
    "    plt.show()\n",
    "\n",
    "\n",
    "for i in ds.train2.columns:\n",
    "    if 'cv' not in i:\n",
    "        continue\n",
    "    try:\n",
    "        check_f(i)\n",
    "    except:\n",
    "        continue"
   ]
  },
  {
   "cell_type": "code",
   "execution_count": null,
   "metadata": {},
   "outputs": [],
   "source": []
  }
 ],
 "metadata": {
  "interpreter": {
   "hash": "ecdeaf2ac59fb4ad11976aef5258ba241a9bb1bfad09d91039c8d9c71c1b3462"
  },
  "kernelspec": {
   "display_name": "Python 3.8.12 ('miner')",
   "language": "python",
   "name": "python3"
  },
  "language_info": {
   "codemirror_mode": {
    "name": "ipython",
    "version": 3
   },
   "file_extension": ".py",
   "mimetype": "text/x-python",
   "name": "python",
   "nbconvert_exporter": "python",
   "pygments_lexer": "ipython3",
   "version": "3.8.12"
  },
  "orig_nbformat": 4
 },
 "nbformat": 4,
 "nbformat_minor": 2
}
