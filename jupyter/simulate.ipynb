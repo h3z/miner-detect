{
 "cells": [
  {
   "cell_type": "code",
   "execution_count": 1,
   "metadata": {},
   "outputs": [],
   "source": [
    "import random"
   ]
  },
  {
   "cell_type": "code",
   "execution_count": 6,
   "metadata": {},
   "outputs": [],
   "source": [
    "def pick(N, t, count=1):\n",
    "    if t == 0:\n",
    "        return count\n",
    "    if N == t:\n",
    "        # print(f\"找到 {t} 个\")\n",
    "        return count\n",
    "    # print(f'{N} 个里边找 {t} 个，现在第 {count} 次')\n",
    "    count += 1\n",
    "\n",
    "    left = int(N / 2)\n",
    "    right = N - left\n",
    "\n",
    "    # 模拟在左边找到的数量\n",
    "    find = random.randint(max(0, t-right), min(t, left))\n",
    "    # 左边找 find 个\n",
    "    count = pick(left, find, count)\n",
    "    # 右边找 t-find 个\n",
    "    count = pick(right, t-find, count)\n",
    "\n",
    "    return count"
   ]
  },
  {
   "cell_type": "code",
   "execution_count": 3,
   "metadata": {},
   "outputs": [
    {
     "name": "stdout",
     "output_type": "stream",
     "text": [
      "14\n",
      "14\n",
      "14\n",
      "11\n",
      "14\n",
      "7\n",
      "14\n",
      "15\n",
      "14\n",
      "14\n",
      "14\n",
      "14\n",
      "12\n",
      "10\n",
      "15\n",
      "10\n",
      "9\n",
      "9\n",
      "15\n",
      "14\n"
     ]
    }
   ],
   "source": [
    "for i in range(20):\n",
    "    print(pick(57, 3, 1))"
   ]
  },
  {
   "cell_type": "code",
   "execution_count": 4,
   "metadata": {},
   "outputs": [
    {
     "name": "stdout",
     "output_type": "stream",
     "text": [
      "16\n",
      "13\n",
      "13\n",
      "17\n",
      "17\n",
      "17\n",
      "19\n",
      "12\n",
      "9\n",
      "10\n",
      "17\n",
      "17\n",
      "19\n",
      "16\n",
      "15\n",
      "18\n",
      "18\n",
      "18\n",
      "12\n",
      "16\n"
     ]
    }
   ],
   "source": [
    "for i in range(20):\n",
    "    print(pick(133, 3, 1))"
   ]
  },
  {
   "cell_type": "code",
   "execution_count": 5,
   "metadata": {},
   "outputs": [
    {
     "name": "stdout",
     "output_type": "stream",
     "text": [
      "24\n",
      "15\n",
      "25\n",
      "31\n",
      "26\n",
      "25\n",
      "27\n",
      "28\n",
      "19\n",
      "32\n",
      "24\n",
      "31\n",
      "31\n",
      "26\n",
      "28\n",
      "24\n",
      "25\n",
      "27\n",
      "29\n",
      "28\n"
     ]
    }
   ],
   "source": [
    "for i in range(20):\n",
    "    print(pick(502, 4, 1))"
   ]
  },
  {
   "cell_type": "code",
   "execution_count": 7,
   "metadata": {},
   "outputs": [
    {
     "name": "stdout",
     "output_type": "stream",
     "text": [
      "6\n",
      "6\n",
      "5\n",
      "5\n",
      "6\n",
      "6\n",
      "6\n",
      "6\n",
      "6\n",
      "6\n",
      "6\n",
      "5\n",
      "6\n",
      "6\n",
      "6\n",
      "6\n",
      "5\n",
      "5\n",
      "6\n",
      "6\n"
     ]
    }
   ],
   "source": [
    "for i in range(20):\n",
    "    print(pick(27, 1))"
   ]
  }
 ],
 "metadata": {
  "interpreter": {
   "hash": "ecdeaf2ac59fb4ad11976aef5258ba241a9bb1bfad09d91039c8d9c71c1b3462"
  },
  "kernelspec": {
   "display_name": "Python 3.8.12 ('miner')",
   "language": "python",
   "name": "python3"
  },
  "language_info": {
   "codemirror_mode": {
    "name": "ipython",
    "version": 3
   },
   "file_extension": ".py",
   "mimetype": "text/x-python",
   "name": "python",
   "nbconvert_exporter": "python",
   "pygments_lexer": "ipython3",
   "version": "3.8.12"
  },
  "orig_nbformat": 4
 },
 "nbformat": 4,
 "nbformat_minor": 2
}
