{
 "cells": [
  {
   "cell_type": "code",
   "execution_count": 2,
   "metadata": {},
   "outputs": [
    {
     "name": "stdout",
     "output_type": "stream",
     "text": [
      "The lab_black extension is already loaded. To reload it, use:\n",
      "  %reload_ext lab_black\n",
      "The autoreload extension is already loaded. To reload it, use:\n",
      "  %reload_ext autoreload\n"
     ]
    }
   ],
   "source": [
    "%load_ext lab_black\n",
    "%load_ext autoreload\n",
    "%autoreload 2\n",
    "\n",
    "import sys\n",
    "\n",
    "sys.path.append(\"../src\")\n",
    "import xgboost as xgb\n",
    "\n",
    "# from imblearn.over_sampling import SMOTE, ADASYN\n",
    "import pandas as pd\n",
    "import numpy as np\n",
    "\n",
    "from features.UserJoin import (\n",
    "    UserJoin,\n",
    "    submit,\n",
    "    diff,\n",
    "    plt_month,\n",
    "    plt_day,\n",
    "    load_ids,\n",
    "    info,\n",
    "    infot,\n",
    "    f1score,\n",
    "    gen_day_hol_n,\n",
    ")\n",
    "\n",
    "import config as C\n",
    "import matplotlib.pyplot as plt\n",
    "\n",
    "from sklearn.metrics import f1_score\n",
    "from sklearn.model_selection import KFold, StratifiedKFold\n",
    "import seaborn as sns\n",
    "from xgboost import plot_tree, plot_importance\n",
    "import random\n",
    "from pathlib import Path\n",
    "\n",
    "import warnings\n",
    "\n",
    "warnings.filterwarnings(\"ignore\")\n",
    "\n",
    "from tqdm import tqdm\n",
    "import itertools\n",
    "\n",
    "sns.set_style(\"ticks\", {\"axes.grid\": True})\n",
    "\n",
    "pd.options.display.max_columns = 500\n",
    "# pd.options.display.max_rows = 20\n",
    "# pd.options.display.min_rows = 20\n",
    "plt.style.use(\"ggplot\")"
   ]
  },
  {
   "cell_type": "markdown",
   "metadata": {},
   "source": [
    "# Load Data"
   ]
  },
  {
   "cell_type": "code",
   "execution_count": 3,
   "metadata": {},
   "outputs": [],
   "source": [
    "ds = UserJoin()"
   ]
  },
  {
   "cell_type": "markdown",
   "metadata": {},
   "source": [
    "# Feature Columns"
   ]
  },
  {
   "cell_type": "code",
   "execution_count": 4,
   "metadata": {},
   "outputs": [],
   "source": [
    "except_col = [\n",
    "    \"   \",\n",
    "    \"ELEC_TYPE_NAME\",\n",
    "    # \"VOLT_NAME\",\n",
    "    \"PRC_NAME\",\n",
    "    \"CONTRACT_CAP\",\n",
    "    \"RUN_CAP\",\n",
    "    \"SHIFT_NO\",\n",
    "    \"BUILD_DATE\",\n",
    "    \"CANCEL_DATE\",\n",
    "    \"CHK_CYCLE\",\n",
    "    \"LAST_CHK_DATE\",\n",
    "    \"TMP_NAME\",\n",
    "    \"TMP_DATE\",\n",
    "    \"IS_FLAG\",\n",
    "]\n",
    "\n",
    "day_feature_cv_col = [\n",
    "    \"kwh_holiday_cv\",\n",
    "    \"kwh_cal_holiday_cv\",\n",
    "    \"kwh_pap_r2_holiday_cv\",\n",
    "    \"kwh_pap_r3_holiday_cv\",\n",
    "    \"kwh_pap_r4_holiday_cv\",\n",
    "    \"kwh_workday_cv\",\n",
    "    \"kwh_cal_workday_cv\",\n",
    "    \"kwh_pap_r2_workday_cv\",\n",
    "    \"kwh_pap_r3_workday_cv\",\n",
    "    \"kwh_pap_r4_workday_cv\",\n",
    "    \"kwh_cv\",\n",
    "    \"kwh_cal_cv\",\n",
    "    \"kwh_pap_r2_cv\",\n",
    "    \"kwh_pap_r3_cv\",\n",
    "    \"kwh_pap_r4_cv\",\n",
    "]\n",
    "# 每个节假日各自算的各特征的 cv 后均值\n",
    "hol_cv_col = [\n",
    "    # \"cv1_all\",\n",
    "    \"cv2_all\",\n",
    "    \"cv3_all\",\n",
    "    \"cv4_all\",\n",
    "    \"cv_all\",\n",
    "    # \"cv1_holiday\",\n",
    "    \"cv2_holiday\",\n",
    "    \"cv3_holiday\",\n",
    "    \"cv4_holiday\",\n",
    "    \"cv_holiday\",\n",
    "    # \"cv1_workday\",\n",
    "    \"cv2_workday\",\n",
    "    \"cv3_workday\",\n",
    "    \"cv4_workday\",\n",
    "    \"cv_workday\",\n",
    "]\n",
    "\n",
    "# 节假日平均和非节假日平均的差值。\n",
    "hol_diff_col = [\n",
    "    \"kwh_holiday_diff\",\n",
    "    \"kwh_cal_holiday_diff\",\n",
    "    \"kwh_pap_r2_holiday_diff\",\n",
    "    \"kwh_pap_r3_holiday_diff\",\n",
    "    \"kwh_pap_r4_holiday_diff\",\n",
    "    \"pr2_holiday_diff\",\n",
    "    \"pr3_holiday_diff\",\n",
    "    \"pr4_holiday_diff\",\n",
    "    \"2_3_holiday_diff\",\n",
    "    \"2_4_holiday_diff\",\n",
    "    \"3_4_holiday_diff\",\n",
    "    \"daycv_holiday_diff\",\n",
    "]\n",
    "\n",
    "# 节假日均值 和 非节假日的均值\n",
    "hol_mean_col = [\n",
    "    \"kwh_holiday_mean_1\",\n",
    "    \"kwh_cal_holiday_mean_1\",\n",
    "    \"kwh_pap_r2_holiday_mean_1\",\n",
    "    \"kwh_pap_r3_holiday_mean_1\",\n",
    "    \"kwh_pap_r4_holiday_mean_1\",\n",
    "    \"pr2_holiday_mean_1\",\n",
    "    \"pr3_holiday_mean_1\",\n",
    "    \"pr4_holiday_mean_1\",\n",
    "    \"2_3_holiday_mean_1\",\n",
    "    \"2_4_holiday_mean_1\",\n",
    "    \"3_4_holiday_mean_1\",\n",
    "    \"daycv_holiday_mean_1\",\n",
    "    \"kwh_holiday_mean_0\",\n",
    "    \"kwh_cal_holiday_mean_0\",\n",
    "    \"kwh_pap_r2_holiday_mean_0\",\n",
    "    \"kwh_pap_r3_holiday_mean_0\",\n",
    "    \"kwh_pap_r4_holiday_mean_0\",\n",
    "    \"pr2_holiday_mean_0\",\n",
    "    \"pr3_holiday_mean_0\",\n",
    "    \"pr4_holiday_mean_0\",\n",
    "    \"2_3_holiday_mean_0\",\n",
    "    \"2_4_holiday_mean_0\",\n",
    "    \"3_4_holiday_mean_0\",\n",
    "    \"daycv_holiday_mean_0\",\n",
    "]\n",
    "\n",
    "# 节假日方差 和 非节假日的方差\n",
    "hol_std_col = [\n",
    "    \"kwh_holiday_std_1\",\n",
    "    \"kwh_cal_holiday_std_1\",\n",
    "    \"kwh_pap_r2_holiday_std_1\",\n",
    "    \"kwh_pap_r3_holiday_std_1\",\n",
    "    \"kwh_pap_r4_holiday_std_1\",\n",
    "    \"pr2_holiday_std_1\",\n",
    "    \"pr3_holiday_std_1\",\n",
    "    \"pr4_holiday_std_1\",\n",
    "    \"2_3_holiday_std_1\",\n",
    "    \"2_4_holiday_std_1\",\n",
    "    \"3_4_holiday_std_1\",\n",
    "    \"daycv_holiday_std_1\",\n",
    "    \"kwh_holiday_std_0\",\n",
    "    \"kwh_cal_holiday_std_0\",\n",
    "    \"kwh_pap_r2_holiday_std_0\",\n",
    "    \"kwh_pap_r3_holiday_std_0\",\n",
    "    \"kwh_pap_r4_holiday_std_0\",\n",
    "    \"pr2_holiday_std_0\",\n",
    "    \"pr3_holiday_std_0\",\n",
    "    \"pr4_holiday_std_0\",\n",
    "    \"2_3_holiday_std_0\",\n",
    "    \"2_4_holiday_std_0\",\n",
    "    \"3_4_holiday_std_0\",\n",
    "    \"daycv_holiday_std_0\",\n",
    "]\n",
    "\n",
    "# 日基础数据\n",
    "day_col = [\n",
    "    \"kwh\",\n",
    "    \"kwh_cal\",\n",
    "    \"kwh_pap_r2\",\n",
    "    \"kwh_pap_r3\",\n",
    "    \"kwh_pap_r4\",\n",
    "    \"pr2\",\n",
    "    \"pr3\",\n",
    "    \"pr4\",\n",
    "    \"2_3\",\n",
    "    \"2_4\",\n",
    "    \"3_4\",\n",
    "    \"daycv\",\n",
    "]\n",
    "\n",
    "user_col = [\n",
    "    \"ELEC_TYPE_NAME\",\n",
    "    \"VOLT_NAME\",\n",
    "    \"RUN_CAP\",\n",
    "    # 'ELEC_TYPE_NAME_CODE',\n",
    "    # 'VOLT_NAME_CODE',\n",
    "    # 'label'\n",
    "]\n",
    "\n",
    "month_col = [\n",
    "    \"pq_f\",\n",
    "    \"pq_g\",\n",
    "    \"pq_p\",\n",
    "    \"pq_z\",\n",
    "    \"pp\",\n",
    "    \"pf\",\n",
    "    \"pg\",\n",
    "    \"p_f\",\n",
    "    \"p_g\",\n",
    "    \"f_g\",\n",
    "    \"monthcv\",\n",
    "]\n",
    "\n",
    "all_col = (\n",
    "    hol_diff_col\n",
    "    + hol_mean_col\n",
    "    + hol_std_col\n",
    "    + day_col\n",
    "    + user_col\n",
    "    + month_col\n",
    "    + hol_cv_col\n",
    "    + day_feature_cv_col\n",
    ")"
   ]
  },
  {
   "cell_type": "code",
   "execution_count": 5,
   "metadata": {},
   "outputs": [],
   "source": [
    "def train_both(df, cols, params):\n",
    "    pred, model = train(df, cols, params)\n",
    "    # pred_aug, model_aug = train(df, cols, params, aug=True)\n",
    "    pred_aug, model_aug = None, None\n",
    "\n",
    "    return pred, model, pred_aug, model_aug\n",
    "\n",
    "\n",
    "def preprocess(df, cols, aug):\n",
    "    if \"ELEC_TYPE_NAME\" in cols:\n",
    "        df = pd.concat([df, pd.get_dummies(df.ELEC_TYPE_NAME)], axis=1).drop(\n",
    "            columns=[\"ELEC_TYPE_NAME\"]\n",
    "        )\n",
    "    if \"VOLT_NAME\" in cols:\n",
    "        df = pd.concat([df, pd.get_dummies(df.VOLT_NAME)], axis=1).drop(\n",
    "            columns=[\"VOLT_NAME\"]\n",
    "        )\n",
    "\n",
    "    features = [i for i in cols if i not in [\"ELEC_TYPE_NAME\", \"VOLT_NAME\"]]\n",
    "    x, x_val = (\n",
    "        df.loc[df.label != \"test\", features],\n",
    "        df.loc[df.label == \"test\", features],\n",
    "    )\n",
    "    y = df.loc[df.label != \"test\", \"label\"].astype(\"int\")\n",
    "\n",
    "    if aug:\n",
    "        x, y = SMOTE().fit_resample(x, y)\n",
    "        # x, y = ADASYN().fit_resample(x, y)\n",
    "    return x, x_val, y\n",
    "\n",
    "\n",
    "def train(df, cols, params, aug=False):\n",
    "    x, x_val, y = preprocess(df, cols, aug)\n",
    "    print(x.shape)\n",
    "\n",
    "    model = xgb.XGBClassifier(use_label_encoder=False, eval_metric=\"logloss\", **params)\n",
    "    model.fit(x, y)\n",
    "\n",
    "    pred_val = pd.DataFrame({\"id\": x_val.index.values, \"label\": model.predict(x_val)})\n",
    "    return pred_val, model\n",
    "\n",
    "\n",
    "def score(ids):\n",
    "    if type(ids) != set:\n",
    "        ids = set(ids)\n",
    "    print(\n",
    "        f\"{len(ids)} \\\n",
    "            \\t right: {len(ids & C.true_ids)} \\\n",
    "            \\t wrong: {len(ids & C.false_ids)} \\\n",
    "            \\t unknown: {len(ids - C.true_ids - C.false_ids)} \\\n",
    "            \\nf1score: {f1score(ids)}\"\n",
    "    )\n",
    "    true = len(ids & C.true_ids)\n",
    "    false = len(ids & C.false_ids)\n",
    "    unknown = len(ids) - true - false\n",
    "    if unknown == 0:\n",
    "        print(\"official:\", score_official(true, false))\n",
    "    else:\n",
    "        print(\n",
    "            f\"official: {score_official(true, false+unknown):.3f} ->  {score_official(min(true + unknown, 37), false):.3f}\"\n",
    "        )\n",
    "\n",
    "\n",
    "def score_official(right, wrong):\n",
    "    true_num = 37\n",
    "    y_true = np.zeros(15379)\n",
    "    y_pred = np.zeros(15379)\n",
    "    y_true[:true_num] = 1\n",
    "    y_pred[:right] = 1\n",
    "    if wrong:\n",
    "        y_pred[-wrong:] = 1\n",
    "    score = f1_score(y_true, y_pred, average=\"macro\")\n",
    "    return score"
   ]
  },
  {
   "cell_type": "code",
   "execution_count": 6,
   "metadata": {},
   "outputs": [
    {
     "data": {
      "text/plain": [
       "0.9860785229601627"
      ]
     },
     "execution_count": 6,
     "metadata": {},
     "output_type": "execute_result"
    }
   ],
   "source": [
    "score_official(35, 0)"
   ]
  },
  {
   "cell_type": "markdown",
   "metadata": {},
   "source": [
    "# Model 1 - 单独用月数据做训练\n",
    "每个用户对应22个月，将22个月看做22个用户。他们有各自的 label。"
   ]
  },
  {
   "cell_type": "code",
   "execution_count": 7,
   "metadata": {},
   "outputs": [
    {
     "name": "stdout",
     "output_type": "stream",
     "text": [
      "(185640, 11)\n"
     ]
    }
   ],
   "source": [
    "df1 = ds.month\n",
    "# df1 = df1[df1.index.isin(ds.train2.index.values)]\n",
    "# feature1 = C.month_features + [\"VOLT_NAME\"]\n",
    "feature1 = C.month_features\n",
    "pred1, model1, pred_aug1, model_aug1 = train_both(df1, feature1, {})"
   ]
  },
  {
   "cell_type": "code",
   "execution_count": 8,
   "metadata": {},
   "outputs": [
    {
     "name": "stdout",
     "output_type": "stream",
     "text": [
      "34             \t right: 27             \t wrong: 7             \t unknown: 0             \n",
      "f1score: 0.826890756302521\n",
      "official: 0.8800046998843847\n"
     ]
    }
   ],
   "source": [
    "pred1 = pred1.groupby(\"id\").sum()\n",
    "ids1 = set(pred1[pred1.label > 8].index.values)\n",
    "score(ids1)"
   ]
  },
  {
   "cell_type": "markdown",
   "metadata": {},
   "source": [
    "# Model 2 - 月数据平均后做训练"
   ]
  },
  {
   "cell_type": "code",
   "execution_count": 9,
   "metadata": {},
   "outputs": [
    {
     "name": "stdout",
     "output_type": "stream",
     "text": [
      "(8840, 21)\n"
     ]
    }
   ],
   "source": [
    "def is_feature(i):\n",
    "    if i in [\"label\", \"isminer\"]:\n",
    "        return False\n",
    "    if \"kwh\" in i or \"day\" in i:\n",
    "        return False\n",
    "    if i in except_col:\n",
    "        return False\n",
    "    return True\n",
    "\n",
    "\n",
    "df2 = ds.train\n",
    "feature2 = list(filter(is_feature, df2.columns))\n",
    "pred2, model2, pred_aug2, model_aug2 = train_both(df2, feature2, {})"
   ]
  },
  {
   "cell_type": "code",
   "execution_count": 10,
   "metadata": {},
   "outputs": [
    {
     "name": "stdout",
     "output_type": "stream",
     "text": [
      "36             \t right: 25             \t wrong: 11             \t unknown: 0             \n",
      "f1score: 0.7651326699834162\n",
      "official: 0.8420909774754968\n"
     ]
    }
   ],
   "source": [
    "pred2 = pred2.groupby(\"id\").sum()\n",
    "ids2 = set(pred2.query(\"label == 1\").index.values)\n",
    "score(ids2)"
   ]
  },
  {
   "cell_type": "markdown",
   "metadata": {},
   "source": [
    "# Model 3 - 单独用日数据做训练\n",
    "每个用户108天，看做108个用户，有各自的label（这个肯定不如后边想到的方法好。新方法还没实现，先把这个训练好放在这）"
   ]
  },
  {
   "cell_type": "code",
   "execution_count": 11,
   "metadata": {},
   "outputs": [
    {
     "name": "stdout",
     "output_type": "stream",
     "text": [
      "(945730, 12)\n"
     ]
    }
   ],
   "source": [
    "df3 = ds.day\n",
    "feature3 = C.day_features\n",
    "pred3, model3, pred_aug3, model_aug3 = train_both(df3, feature3, {})"
   ]
  },
  {
   "cell_type": "code",
   "execution_count": 12,
   "metadata": {},
   "outputs": [
    {
     "name": "stdout",
     "output_type": "stream",
     "text": [
      "42             \t right: 23             \t wrong: 13             \t unknown: 6             \n",
      "f1score: 0.7224295190713101\n",
      "official: 0.791 ->  0.867\n"
     ]
    }
   ],
   "source": [
    "pred3 = pred3.groupby(\"id\").sum()\n",
    "ids3 = set(pred3.query(f\"label > 30\").index.values)\n",
    "score(ids3)"
   ]
  },
  {
   "cell_type": "markdown",
   "metadata": {},
   "source": [
    "# Model 4 - 日数据平均后做训练"
   ]
  },
  {
   "cell_type": "code",
   "execution_count": 13,
   "metadata": {},
   "outputs": [
    {
     "name": "stdout",
     "output_type": "stream",
     "text": [
      "(8840, 81)\n"
     ]
    }
   ],
   "source": [
    "def is_feature(i):\n",
    "    if i in [\"label\", \"isminer\"]:\n",
    "        return False\n",
    "    if (\n",
    "        \"pq\" in i\n",
    "        or \"month\" in i\n",
    "        or \"pr\" in i\n",
    "        or i in [\"pp\", \"pr\", \"pg\", \"pf\", \"p_f\", \"f_g\", \"p_g\"]\n",
    "    ):\n",
    "        return False\n",
    "    if i in except_col:\n",
    "        return False\n",
    "    # if \"kwh\" in i or \"hol\" in i:\n",
    "    # return False\n",
    "    return True\n",
    "\n",
    "\n",
    "df4 = ds.train\n",
    "feature4 = list(filter(is_feature, df4.columns))\n",
    "pred4, model4, pred_aug4, model_aug4 = train_both(df4, feature4, {})\n",
    "# feature4"
   ]
  },
  {
   "cell_type": "code",
   "execution_count": 14,
   "metadata": {},
   "outputs": [
    {
     "name": "stdout",
     "output_type": "stream",
     "text": [
      "31             \t right: 23             \t wrong: 7             \t unknown: 1             \n",
      "f1score: 0.777056277056277\n",
      "official: 0.838 ->  0.853\n"
     ]
    }
   ],
   "source": [
    "pred4 = pred4.groupby(\"id\").sum()\n",
    "ids4 = set(pred4.query(\"label == 1\").index.values)\n",
    "score(ids4)"
   ]
  },
  {
   "cell_type": "markdown",
   "metadata": {},
   "source": [
    "# Model 5 - 单独用日数据做训练（升级版）\n",
    "每个用户108天，分布在12个节假日，看做12个用户。"
   ]
  },
  {
   "cell_type": "code",
   "execution_count": 15,
   "metadata": {},
   "outputs": [],
   "source": [
    "mean_std_cols = [\n",
    "    \"kwh_pap_r2\",\n",
    "    \"kwh_pap_r3\",\n",
    "    \"kwh_pap_r4\",\n",
    "    \"kwh_cal\",\n",
    "    \"pr2\",\n",
    "    \"pr3\",\n",
    "    \"pr4\",\n",
    "    \"2_3\",\n",
    "    \"2_4\",\n",
    "    \"3_4\",\n",
    "    \"daycv\",\n",
    "]\n",
    "\n",
    "\n",
    "def zip_df_holiday(df):\n",
    "    return [\n",
    "        (df, \"allday\"),\n",
    "        (df.query(\"type == 0\"), \"holiday\"),\n",
    "        (df.query(\"type != 0\"), \"workday\"),\n",
    "    ]\n",
    "\n",
    "\n",
    "def groupby_user_holiday_cv(df):\n",
    "    cols = [\"kwh_pap_r2\", \"kwh_pap_r3\", \"kwh_pap_r4\", \"kwh_cal\"]\n",
    "\n",
    "    holcvs = [\n",
    "        (\n",
    "            dfi.groupby([\"id\", \"hol_n\"])[cols].std()\n",
    "            / (dfi.groupby([\"id\", \"hol_n\"])[cols].mean() + 1e-5)\n",
    "        ).rename(\n",
    "            columns={col: f\"{prefix}_{col.replace('kwh_pap', 'cv')}\" for col in cols}\n",
    "        )\n",
    "        for dfi, prefix in zip_df_holiday(df)\n",
    "    ]\n",
    "    return pd.concat(\n",
    "        holcvs,\n",
    "        axis=1,\n",
    "    )\n",
    "\n",
    "\n",
    "def groupby_user_holiday_mean(df):\n",
    "    means = [\n",
    "        dfi.groupby([\"id\", \"hol_n\"])[mean_std_cols]\n",
    "        .mean()\n",
    "        .rename(columns={col: f\"{prefix}_mean_{col}\" for col in mean_std_cols})\n",
    "        for dfi, prefix in zip_df_holiday(df)\n",
    "    ]\n",
    "    return pd.concat(\n",
    "        means,\n",
    "        axis=1,\n",
    "    )\n",
    "\n",
    "\n",
    "def groupby_user_holiday_std(df):\n",
    "    stds = [\n",
    "        dfi.groupby([\"id\", \"hol_n\"])[mean_std_cols]\n",
    "        .std()\n",
    "        .rename(columns={col: f\"{prefix}_std_{col}\" for col in mean_std_cols})\n",
    "        for dfi, prefix in zip_df_holiday(df)\n",
    "    ]\n",
    "    return pd.concat(\n",
    "        stds,\n",
    "        axis=1,\n",
    "    )\n",
    "\n",
    "\n",
    "def day_split_by_holiday(df):\n",
    "    df[\"hol_n\"] = gen_day_hol_n(df)\n",
    "\n",
    "    holcv = groupby_user_holiday_cv(df)\n",
    "    mean = groupby_user_holiday_mean(df)\n",
    "    std = groupby_user_holiday_std(df)\n",
    "\n",
    "    return pd.concat([holcv, mean, std], axis=1).dropna()\n",
    "\n",
    "\n",
    "holiday_df = day_split_by_holiday(ds.day)"
   ]
  },
  {
   "cell_type": "code",
   "execution_count": 16,
   "metadata": {},
   "outputs": [],
   "source": [
    "def add_label(df):\n",
    "    df[\"label\"] = \"test\"\n",
    "    df.loc[\n",
    "        df.index.get_level_values(0).isin(\n",
    "            ds.train.query(\"label == '0'\").index.unique()\n",
    "        ),\n",
    "        \"label\",\n",
    "    ] = \"0\"\n",
    "    df.loc[\n",
    "        df.index.get_level_values(0).isin(\n",
    "            ds.train.query(\"label == '1'\").index.unique()\n",
    "        ),\n",
    "        \"label\",\n",
    "    ] = \"1\"\n",
    "    return df\n",
    "\n",
    "\n",
    "holiday_df = add_label(holiday_df)"
   ]
  },
  {
   "cell_type": "code",
   "execution_count": 17,
   "metadata": {},
   "outputs": [
    {
     "name": "stdout",
     "output_type": "stream",
     "text": [
      "(106065, 78)\n"
     ]
    }
   ],
   "source": [
    "df5 = holiday_df\n",
    "feature5 = [i for i in holiday_df.columns if i != \"label\"]\n",
    "pred5, model5, pred_aug5, model_aug5 = train_both(df5, feature5, {})\n",
    "# feature5"
   ]
  },
  {
   "cell_type": "code",
   "execution_count": 18,
   "metadata": {},
   "outputs": [
    {
     "name": "stdout",
     "output_type": "stream",
     "text": [
      "76             \t right: 34             \t wrong: 31             \t unknown: 11             \n",
      "f1score: 0.6794908062234795\n",
      "official: 0.800 ->  0.852\n"
     ]
    }
   ],
   "source": [
    "pred5[\"id_\"] = pred5.id.map(lambda x: x[0])\n",
    "ids5 = set(pred5.groupby(\"id_\").sum().query(\"label > 2\").index.values)\n",
    "score(ids5)"
   ]
  },
  {
   "cell_type": "code",
   "execution_count": 19,
   "metadata": {},
   "outputs": [
    {
     "data": {
      "text/plain": [
       "<AxesSubplot:title={'center':'Feature importance'}, xlabel='F score', ylabel='Features'>"
      ]
     },
     "execution_count": 19,
     "metadata": {},
     "output_type": "execute_result"
    },
    {
     "data": {
      "image/png": "[encoded data removed]",
      "text/plain": [
       "<Figure size 720x720 with 1 Axes>"
      ]
     },
     "metadata": {},
     "output_type": "display_data"
    }
   ],
   "source": [
    "fig, ax = plt.subplots(1, 1, figsize=(10, 10))\n",
    "plot_importance(model5, max_num_features=10, ax=ax)"
   ]
  },
  {
   "cell_type": "code",
   "execution_count": null,
   "metadata": {},
   "outputs": [],
   "source": []
  }
 ],
 "metadata": {
  "interpreter": {
   "hash": "ecdeaf2ac59fb4ad11976aef5258ba241a9bb1bfad09d91039c8d9c71c1b3462"
  },
  "kernelspec": {
   "display_name": "Python 3.8.12 ('miner')",
   "language": "python",
   "name": "python3"
  },
  "language_info": {
   "codemirror_mode": {
    "name": "ipython",
    "version": 3
   },
   "file_extension": ".py",
   "mimetype": "text/x-python",
   "name": "python",
   "nbconvert_exporter": "python",
   "pygments_lexer": "ipython3",
   "version": "3.8.12"
  },
  "orig_nbformat": 4
 },
 "nbformat": 4,
 "nbformat_minor": 2
}
