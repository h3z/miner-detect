{
 "cells": [
  {
   "cell_type": "code",
   "execution_count": 9,
   "metadata": {},
   "outputs": [
    {
     "name": "stdout",
     "output_type": "stream",
     "text": [
      "The autoreload extension is already loaded. To reload it, use:\n",
      "  %reload_ext autoreload\n"
     ]
    }
   ],
   "source": [
    "%load_ext autoreload\n",
    "%autoreload 2\n",
    "import sys\n",
    "sys.path.append('../src')\n",
    "import xgboost as xgb\n",
    "import pandas as pd\n",
    "from features.UserJoin import UserJoin\n",
    "from features.UserJoin import submit, diff, plt_month, plt_day, load_ids, diff_set, infot\n",
    "import config as C\n",
    "import matplotlib.pyplot as plt\n",
    "import plotly.express as px\n",
    "import numpy as np\n",
    "from sklearn.metrics import f1_score\n",
    "from pathlib import Path\n",
    "from functools import reduce\n",
    "import random\n",
    "from pathlib import Path"
   ]
  },
  {
   "cell_type": "code",
   "execution_count": 47,
   "metadata": {},
   "outputs": [
    {
     "name": "stdout",
     "output_type": "stream",
     "text": [
      "{2745781539} 里有 1 个 1\n",
      "{1912367373} 里有 1 个 1\n"
     ]
    }
   ],
   "source": [
    "# 2个挖矿\n",
    "ids_4_2 = {2745781539, 2602819207, 1429892107, 2624797677, }\n",
    "# 1个挖矿\n",
    "ids_3_1 = {1429892107, 2602819207, 2624797677}\n",
    "# 2个挖矿\n",
    "ids_3_2 = {2745781539, 2602819207, 1912367373}\n",
    "\n",
    "ids_2_1 = {2745781539, 2602819207}\n",
    "\n",
    "ids_7_2 = {2745781539, 2602819207, 179569085, 2624797677, 2194274407, 2044965214, 2115712219}\n",
    "\n",
    "todo = [\n",
    "    (ids_4_2, 2),\n",
    "    (ids_3_1, 1),\n",
    "    (ids_3_2, 2),\n",
    "    (ids_2_1, 1),\n",
    "    (ids_7_2, 2)\n",
    "]\n",
    "\n",
    "\n",
    "def check(known_true_ids=set(), known_false_ids=set()):\n",
    "    def pre(ids, num_1):\n",
    "        t = ids - known_true_ids\n",
    "        t = t - known_false_ids\n",
    "        num_1 -= len(ids & known_true_ids)\n",
    "        return t, num_1\n",
    "\n",
    "    for i, num_1i in todo:\n",
    "        i, num_1i = pre(i, num_1i)\n",
    "        for j, num_1j in todo:\n",
    "            j, num_1j = pre(j, num_1j)\n",
    "\n",
    "            t = i.copy()\n",
    "            num_1 = num_1i\n",
    "            if len(i & j) == len(j):\n",
    "                t -= j\n",
    "                num_1 -= num_1j\n",
    "\n",
    "            if len(t) == 0:\n",
    "                continue\n",
    "            if len(t) == (len(t) - num_1):\n",
    "                print(f'{t} 里有 {len(t) - num_1} 个 0')\n",
    "            if len(t) == num_1:\n",
    "                print(f'{t} 里有 {num_1} 个 1')\n",
    "\n",
    "check()"
   ]
  },
  {
   "cell_type": "code",
   "execution_count": 48,
   "metadata": {},
   "outputs": [
    {
     "name": "stdout",
     "output_type": "stream",
     "text": [
      "{2602819207} 里有 1 个 0\n",
      "{2602819207} 里有 1 个 0\n",
      "{2602819207} 里有 1 个 0\n",
      "{2602819207} 里有 1 个 0\n",
      "{2602819207} 里有 1 个 0\n",
      "{2602819207} 里有 1 个 0\n"
     ]
    }
   ],
   "source": [
    "check(known_true_ids={1912367373, 2745781539})"
   ]
  },
  {
   "cell_type": "code",
   "execution_count": 53,
   "metadata": {},
   "outputs": [],
   "source": [
    "check(known_true_ids={1912367373, 2745781539}, known_false_ids={2602819207})"
   ]
  },
  {
   "cell_type": "code",
   "execution_count": 55,
   "metadata": {},
   "outputs": [
    {
     "name": "stdout",
     "output_type": "stream",
     "text": [
      "set() 0 0\n",
      "set() 0 0\n",
      "set() 0 0\n",
      "set() 0 0\n",
      "set() 0 0\n"
     ]
    }
   ],
   "source": [
    "for ids, num1 in todo:\n",
    "    print(ids - C.true_ids - C.false_ids, len(ids - C.true_ids - C.false_ids), num1 - len(ids & C.true_ids))\n"
   ]
  },
  {
   "cell_type": "code",
   "execution_count": 7,
   "metadata": {},
   "outputs": [
    {
     "name": "stdout",
     "output_type": "stream",
     "text": [
      "18 3\n"
     ]
    },
    {
     "data": {
      "text/plain": [
       "23"
      ]
     },
     "execution_count": 7,
     "metadata": {},
     "output_type": "execute_result"
    }
   ],
   "source": [
    "true = set(random.sample(C.true_ids, int(len(C.true_ids)/1.6)))\n",
    "false = set(random.sample(C.false_ids, int(len(C.false_ids)/3.3)))\n",
    "print(len(true), len(false))\n",
    "# 新增2个挖矿\n",
    "t = true | false | C.tids_2\n",
    "len(t)"
   ]
  },
  {
   "cell_type": "code",
   "execution_count": 8,
   "metadata": {},
   "outputs": [
    {
     "name": "stdout",
     "output_type": "stream",
     "text": [
      "23\n"
     ]
    },
    {
     "data": {
      "text/html": [
       "<div>\n",
       "<style scoped>\n",
       "    .dataframe tbody tr th:only-of-type {\n",
       "        vertical-align: middle;\n",
       "    }\n",
       "\n",
       "    .dataframe tbody tr th {\n",
       "        vertical-align: top;\n",
       "    }\n",
       "\n",
       "    .dataframe thead th {\n",
       "        text-align: right;\n",
       "    }\n",
       "</style>\n",
       "<table border=\"1\" class=\"dataframe\">\n",
       "  <thead>\n",
       "    <tr style=\"text-align: right;\">\n",
       "      <th></th>\n",
       "      <th>id</th>\n",
       "      <th>label</th>\n",
       "    </tr>\n",
       "  </thead>\n",
       "  <tbody>\n",
       "    <tr>\n",
       "      <th>0</th>\n",
       "      <td>179406029</td>\n",
       "      <td>0</td>\n",
       "    </tr>\n",
       "    <tr>\n",
       "      <th>1</th>\n",
       "      <td>179406030</td>\n",
       "      <td>0</td>\n",
       "    </tr>\n",
       "    <tr>\n",
       "      <th>2</th>\n",
       "      <td>179406094</td>\n",
       "      <td>0</td>\n",
       "    </tr>\n",
       "    <tr>\n",
       "      <th>3</th>\n",
       "      <td>179406097</td>\n",
       "      <td>0</td>\n",
       "    </tr>\n",
       "    <tr>\n",
       "      <th>4</th>\n",
       "      <td>179406099</td>\n",
       "      <td>0</td>\n",
       "    </tr>\n",
       "    <tr>\n",
       "      <th>...</th>\n",
       "      <td>...</td>\n",
       "      <td>...</td>\n",
       "    </tr>\n",
       "    <tr>\n",
       "      <th>15374</th>\n",
       "      <td>2849971818</td>\n",
       "      <td>0</td>\n",
       "    </tr>\n",
       "    <tr>\n",
       "      <th>15375</th>\n",
       "      <td>2850017469</td>\n",
       "      <td>0</td>\n",
       "    </tr>\n",
       "    <tr>\n",
       "      <th>15376</th>\n",
       "      <td>2850017472</td>\n",
       "      <td>0</td>\n",
       "    </tr>\n",
       "    <tr>\n",
       "      <th>15377</th>\n",
       "      <td>2851323065</td>\n",
       "      <td>0</td>\n",
       "    </tr>\n",
       "    <tr>\n",
       "      <th>15378</th>\n",
       "      <td>2852368013</td>\n",
       "      <td>0</td>\n",
       "    </tr>\n",
       "  </tbody>\n",
       "</table>\n",
       "<p>15379 rows × 2 columns</p>\n",
       "</div>"
      ],
      "text/plain": [
       "               id  label\n",
       "0       179406029      0\n",
       "1       179406030      0\n",
       "2       179406094      0\n",
       "3       179406097      0\n",
       "4       179406099      0\n",
       "...           ...    ...\n",
       "15374  2849971818      0\n",
       "15375  2850017469      0\n",
       "15376  2850017472      0\n",
       "15377  2851323065      0\n",
       "15378  2852368013      0\n",
       "\n",
       "[15379 rows x 2 columns]"
      ]
     },
     "execution_count": 8,
     "metadata": {},
     "output_type": "execute_result"
    }
   ],
   "source": [
    "submit(t, 'submit_3_15_1.csv', True)"
   ]
  },
  {
   "cell_type": "code",
   "execution_count": 56,
   "metadata": {},
   "outputs": [
    {
     "name": "stdout",
     "output_type": "stream",
     "text": [
      "true ids 32 false ids 19\n"
     ]
    }
   ],
   "source": [
    "print('true ids', len(C.true_ids), 'false ids', len(C.false_ids))"
   ]
  },
  {
   "cell_type": "code",
   "execution_count": 58,
   "metadata": {},
   "outputs": [
    {
     "name": "stdout",
     "output_type": "stream",
     "text": [
      "3_10_base_98_33.csv 57 3\n",
      "3_10_base_32_27.csv 0 0\n",
      "3_10_base_175_34.csv 133 3\n",
      "3_10_base_544_35.csv 502 4\n",
      "3_10_base_63_29.csv 27 1\n",
      "3_10_base_34_27.csv 0 0\n",
      "3_10_base_35_27.csv 0 0\n",
      "3_10_base_32_24.csv 0 0\n"
     ]
    }
   ],
   "source": [
    "for i in Path('submit_csv').glob('3_10_base_*.csv'):\n",
    "    ids = load_ids(i.name)\n",
    "    num_1 = int(i.name.split('_')[-1].replace('.csv', ''))\n",
    "\n",
    "    num_1 -= len(ids & C.true_ids)\n",
    "    ids = ids - C.true_ids - C.false_ids\n",
    "\n",
    "    print(i.name, len(ids), num_1)"
   ]
  }
 ],
 "metadata": {
  "interpreter": {
   "hash": "ecdeaf2ac59fb4ad11976aef5258ba241a9bb1bfad09d91039c8d9c71c1b3462"
  },
  "kernelspec": {
   "display_name": "Python 3.8.12 ('miner')",
   "language": "python",
   "name": "python3"
  },
  "language_info": {
   "codemirror_mode": {
    "name": "ipython",
    "version": 3
   },
   "file_extension": ".py",
   "mimetype": "text/x-python",
   "name": "python",
   "nbconvert_exporter": "python",
   "pygments_lexer": "ipython3",
   "version": "3.8.12"
  },
  "orig_nbformat": 4
 },
 "nbformat": 4,
 "nbformat_minor": 2
}
