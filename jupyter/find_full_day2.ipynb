{
 "cells": [
  {
   "cell_type": "code",
   "execution_count": 1,
   "metadata": {},
   "outputs": [
    {
     "name": "stderr",
     "output_type": "stream",
     "text": [
      "/opt/conda/envs/miner/lib/python3.8/site-packages/xgboost/compat.py:31: FutureWarning: pandas.Int64Index is deprecated and will be removed from pandas in a future version. Use pandas.Index with the appropriate dtype instead.\n",
      "  from pandas import MultiIndex, Int64Index\n"
     ]
    }
   ],
   "source": [
    "%load_ext autoreload\n",
    "%autoreload 2\n",
    "import sys\n",
    "sys.path.append('../src')\n",
    "import xgboost as xgb\n",
    "import pandas as pd\n",
    "from features.UserJoin import UserJoin\n",
    "from features.UserJoin import submit, diff, plt_month, plt_day, load_ids, diff_set\n",
    "import config as C\n",
    "import matplotlib.pyplot as plt\n",
    "import plotly.express as px\n",
    "import numpy as np\n",
    "from sklearn.metrics import f1_score\n",
    "from pathlib import Path"
   ]
  },
  {
   "cell_type": "code",
   "execution_count": 2,
   "metadata": {},
   "outputs": [],
   "source": [
    "# data\n",
    "ds = UserJoin()"
   ]
  },
  {
   "cell_type": "code",
   "execution_count": 106,
   "metadata": {},
   "outputs": [],
   "source": [
    "# t = pd.read_csv('submit_csv/label.csv')\n",
    "# true_ids = set(t[t.label == 1].id.unique())\n",
    "true_ids = {179458306,\n",
    "            179569820,\n",
    "            1606708811,\n",
    "            2071313507,\n",
    "            2186749200,\n",
    "            2212416005,\n",
    "            2256064355,\n",
    "            2347718610,\n",
    "            2427050072,\n",
    "            2576321385}\n",
    "\n",
    "# false_ids = {179458306,\n",
    "#             179569820,\n",
    "#             1606708811,\n",
    "#             2071313507,\n",
    "#             2186749200,\n",
    "#             2212416005,\n",
    "#             2256064355,\n",
    "#             2347718610,\n",
    "#             2427050072}"
   ]
  },
  {
   "cell_type": "markdown",
   "metadata": {},
   "source": [
    "# 就先直接研究 32_27 了！"
   ]
  },
  {
   "cell_type": "code",
   "execution_count": 34,
   "metadata": {},
   "outputs": [
    {
     "name": "stdout",
     "output_type": "stream",
     "text": [
      "已知 label=1 {179458306, 2256064355, 2071313507, 2212416005, 1606708811, 2186749200, 2347718610, 2427050072, 179569820}\n",
      "已知 label=0 set()\n",
      "\n",
      " {2496032641, 2479963778, 2817362052, 2741872006, 2251440776, 2825175309, 2445049876, 2319973783, 2451165982, 2852503463, 2172970175, 855996491, 2238809293, 2759232590, 2347718608, 2523401557, 2533183958, 2535198432, 2471562086, 2576321385, 2717225077, 1916407803, 2717225084}\n",
      "total 23, true 18\n"
     ]
    }
   ],
   "source": [
    "def infot(target):\n",
    "    for i in Path('submit_csv').glob('3_10_base*.csv'):\n",
    "        cmp = load_ids(i.name)\n",
    "        print(i.name, target - cmp, len(target & cmp))\n",
    "\n",
    "def info(f):\n",
    "    print(f)\n",
    "    target = load_ids(f)\n",
    "    infot(target)\n",
    "    \n",
    "def except_known(f):\n",
    "    ids = load_ids(f)\n",
    "    true_num = int(f.split('_')[-1].replace('.csv', ''))\n",
    "    t = pd.read_csv('submit_csv/label.csv')\n",
    "    true_ids = set(t[t.label == 1].id.unique())\n",
    "    false_ids = set(t[t.label == 0].id.unique())\n",
    "    print('已知 label=1', ids & true_ids)\n",
    "    print('已知 label=0', ids & false_ids)\n",
    "    return ids - true_ids - false_ids, true_num-len(ids & true_ids)\n",
    "\n",
    "target, true_num = except_known('3_10_base_32_27.csv')\n",
    "print('\\n', target)\n",
    "print(f'total {len(target)}, true {true_num}')"
   ]
  },
  {
   "cell_type": "code",
   "execution_count": 21,
   "metadata": {},
   "outputs": [],
   "source": [
    "df = pd.read_csv('submit_csv/3_10_base_32_27.csv')\n",
    "df = df[df.id.isin(target)]\n",
    "df = df.set_index('id')\n",
    "df = df.sort_index()"
   ]
  },
  {
   "cell_type": "markdown",
   "metadata": {},
   "source": [
    "# 先观察和其他数据的交集，交集部分是1的概率大"
   ]
  },
  {
   "cell_type": "code",
   "execution_count": 44,
   "metadata": {},
   "outputs": [
    {
     "name": "stdout",
     "output_type": "stream",
     "text": [
      "3_10_base_98_33.csv set() 23\n",
      "3_10_base_32_27.csv set() 23\n",
      "3_10_base_175_34.csv set() 23\n",
      "3_10_base_544_35.csv set() 23\n",
      "3_10_base_63_29.csv {2576321385, 2717225084} 21\n",
      "3_10_base_34_27.csv {2852503463, 2825175309, 2533183958, 2319973783, 2717225084} 18\n",
      "3_10_base_35_27.csv {2576321385, 1916407803, 2817362052} 20\n",
      "3_10_base_32_24.csv {2817362052, 2741872006, 2238809293, 2825175309, 2319973783} 18\n"
     ]
    }
   ],
   "source": [
    "infot(set(df.index.unique().values))"
   ]
  },
  {
   "cell_type": "code",
   "execution_count": 92,
   "metadata": {},
   "outputs": [
    {
     "name": "stdout",
     "output_type": "stream",
     "text": [
      "15 10\n",
      "10\n"
     ]
    },
    {
     "data": {
      "text/html": [
       "<div>\n",
       "<style scoped>\n",
       "    .dataframe tbody tr th:only-of-type {\n",
       "        vertical-align: middle;\n",
       "    }\n",
       "\n",
       "    .dataframe tbody tr th {\n",
       "        vertical-align: top;\n",
       "    }\n",
       "\n",
       "    .dataframe thead th {\n",
       "        text-align: right;\n",
       "    }\n",
       "</style>\n",
       "<table border=\"1\" class=\"dataframe\">\n",
       "  <thead>\n",
       "    <tr style=\"text-align: right;\">\n",
       "      <th></th>\n",
       "      <th>id</th>\n",
       "      <th>label</th>\n",
       "    </tr>\n",
       "  </thead>\n",
       "  <tbody>\n",
       "    <tr>\n",
       "      <th>0</th>\n",
       "      <td>179406029</td>\n",
       "      <td>0</td>\n",
       "    </tr>\n",
       "    <tr>\n",
       "      <th>1</th>\n",
       "      <td>179406030</td>\n",
       "      <td>0</td>\n",
       "    </tr>\n",
       "    <tr>\n",
       "      <th>2</th>\n",
       "      <td>179406094</td>\n",
       "      <td>0</td>\n",
       "    </tr>\n",
       "    <tr>\n",
       "      <th>3</th>\n",
       "      <td>179406097</td>\n",
       "      <td>0</td>\n",
       "    </tr>\n",
       "    <tr>\n",
       "      <th>4</th>\n",
       "      <td>179406099</td>\n",
       "      <td>0</td>\n",
       "    </tr>\n",
       "    <tr>\n",
       "      <th>...</th>\n",
       "      <td>...</td>\n",
       "      <td>...</td>\n",
       "    </tr>\n",
       "    <tr>\n",
       "      <th>15374</th>\n",
       "      <td>2849971818</td>\n",
       "      <td>0</td>\n",
       "    </tr>\n",
       "    <tr>\n",
       "      <th>15375</th>\n",
       "      <td>2850017469</td>\n",
       "      <td>0</td>\n",
       "    </tr>\n",
       "    <tr>\n",
       "      <th>15376</th>\n",
       "      <td>2850017472</td>\n",
       "      <td>0</td>\n",
       "    </tr>\n",
       "    <tr>\n",
       "      <th>15377</th>\n",
       "      <td>2851323065</td>\n",
       "      <td>0</td>\n",
       "    </tr>\n",
       "    <tr>\n",
       "      <th>15378</th>\n",
       "      <td>2852368013</td>\n",
       "      <td>0</td>\n",
       "    </tr>\n",
       "  </tbody>\n",
       "</table>\n",
       "<p>15379 rows × 2 columns</p>\n",
       "</div>"
      ],
      "text/plain": [
       "               id  label\n",
       "0       179406029      0\n",
       "1       179406030      0\n",
       "2       179406094      0\n",
       "3       179406097      0\n",
       "4       179406099      0\n",
       "...           ...    ...\n",
       "15374  2849971818      0\n",
       "15375  2850017469      0\n",
       "15376  2850017472      0\n",
       "15377  2851323065      0\n",
       "15378  2852368013      0\n",
       "\n",
       "[15379 rows x 2 columns]"
      ]
     },
     "execution_count": 92,
     "metadata": {},
     "output_type": "execute_result"
    }
   ],
   "source": [
    "# 先试这10个。看里边是不是包括了要找的5个\n",
    "a = [2576321385, 2717225084, 2852503463, 2825175309, 2533183958, 2319973783, 2717225084, 2576321385, 1916407803, 2817362052, 2817362052, 2741872006, 2238809293, 2825175309, 2319973783, ]\n",
    "print(len(a), len(set(a)))\n",
    "submit(set(a), 'submit_3_11_1.csv')"
   ]
  },
  {
   "cell_type": "code",
   "execution_count": 93,
   "metadata": {},
   "outputs": [],
   "source": [
    "r_10_1 = set(a)"
   ]
  },
  {
   "cell_type": "markdown",
   "metadata": {},
   "source": [
    "## 以为能找到10个，结果只找到1个\n",
    "试试看曲线，选几个出来碰那1个"
   ]
  },
  {
   "cell_type": "code",
   "execution_count": 66,
   "metadata": {},
   "outputs": [],
   "source": [
    "# plt_day(a, df=ds.day)\n",
    "# plt_day(a, df=ds.day, cols=['kwh'])\n",
    "# plt_month(a, df=ds.month)"
   ]
  },
  {
   "cell_type": "code",
   "execution_count": 60,
   "metadata": {},
   "outputs": [
    {
     "data": {
      "text/plain": [
       "<seaborn.axisgrid.PairGrid at 0x7f30566b47f0>"
      ]
     },
     "execution_count": 60,
     "metadata": {},
     "output_type": "execute_result"
    },
    {
     "data": {
      "image/png": "[encoded data removed]",
      "text/plain": [
       "<Figure size 1135.12x1080 with 12 Axes>"
      ]
     },
     "metadata": {
      "needs_background": "light"
     },
     "output_type": "display_data"
    }
   ],
   "source": [
    "import seaborn as sns\n",
    "cols = [\n",
    "    'label',\n",
    "    'pr2_holiday_1',\n",
    "    'pr3_holiday_1',\n",
    "    'pr4_holiday_1',\n",
    "    # 'pr2_holiday_0',\n",
    "    # 'pr3_holiday_0',\n",
    "    # 'pr4_holiday_0',\n",
    "    #     'kwh_pap_r3_holiday_0',\n",
    "    #     'kwh_pap_r2_holiday_0',\n",
    "    #     'kwh_pap_r3',\n",
    "        # 'kwh_pap_r2',\n",
    "        # 'kwh_cal_holiday_0',\n",
    "        # 'kwh_holiday_0',\n",
    "        # 'kwh_pap_r2_holiday_1',\n",
    "        # 'kwh_pap_r3_holiday_1',\n",
    "        # 'kwh',\n",
    "    #     'kwh_cal_holiday_1',\n",
    "    #     'kwh_holiday_1',\n",
    "    # 'pr4_holiday_0',\n",
    "    # 'kwh_pap_r4',\n",
    "    # 'pr4_holiday_1',\n",
    "]\n",
    "\n",
    "# t = ds.train[ds.train.index.isin(a + C.minerids)]\n",
    "t = ds.train[ds.train.index.isin(list(df.index.unique().values) + C.minerids)]\n",
    "\n",
    "\n",
    "t = t[cols]\n",
    "\n",
    "g = sns.PairGrid(t, height=5, hue='label', hue_order=['1', 'test', '0'])\n",
    "g.map_diag(sns.histplot)\n",
    "g.map(sns.scatterplot)\n",
    "g.add_legend(title=\"\", adjust_subtitles=True)"
   ]
  },
  {
   "cell_type": "code",
   "execution_count": 63,
   "metadata": {},
   "outputs": [
    {
     "data": {
      "text/html": [
       "<div>\n",
       "<style scoped>\n",
       "    .dataframe tbody tr th:only-of-type {\n",
       "        vertical-align: middle;\n",
       "    }\n",
       "\n",
       "    .dataframe tbody tr th {\n",
       "        vertical-align: top;\n",
       "    }\n",
       "\n",
       "    .dataframe thead th {\n",
       "        text-align: right;\n",
       "    }\n",
       "</style>\n",
       "<table border=\"1\" class=\"dataframe\">\n",
       "  <thead>\n",
       "    <tr style=\"text-align: right;\">\n",
       "      <th></th>\n",
       "      <th>label</th>\n",
       "      <th>pr2_holiday_1</th>\n",
       "      <th>pr3_holiday_1</th>\n",
       "      <th>pr4_holiday_1</th>\n",
       "    </tr>\n",
       "    <tr>\n",
       "      <th>id</th>\n",
       "      <th></th>\n",
       "      <th></th>\n",
       "      <th></th>\n",
       "      <th></th>\n",
       "    </tr>\n",
       "  </thead>\n",
       "  <tbody>\n",
       "    <tr>\n",
       "      <th>2347718608</th>\n",
       "      <td>test</td>\n",
       "      <td>0.320751</td>\n",
       "      <td>0.322457</td>\n",
       "      <td>0.304161</td>\n",
       "    </tr>\n",
       "    <tr>\n",
       "      <th>2451165982</th>\n",
       "      <td>test</td>\n",
       "      <td>0.324365</td>\n",
       "      <td>0.317535</td>\n",
       "      <td>0.287924</td>\n",
       "    </tr>\n",
       "    <tr>\n",
       "      <th>2576321385</th>\n",
       "      <td>test</td>\n",
       "      <td>0.330909</td>\n",
       "      <td>0.332620</td>\n",
       "      <td>0.301383</td>\n",
       "    </tr>\n",
       "  </tbody>\n",
       "</table>\n",
       "</div>"
      ],
      "text/plain": [
       "           label  pr2_holiday_1  pr3_holiday_1  pr4_holiday_1\n",
       "id                                                           \n",
       "2347718608  test       0.320751       0.322457       0.304161\n",
       "2451165982  test       0.324365       0.317535       0.287924\n",
       "2576321385  test       0.330909       0.332620       0.301383"
      ]
     },
     "execution_count": 63,
     "metadata": {},
     "output_type": "execute_result"
    }
   ],
   "source": [
    "t[(t.pr2_holiday_1 < .34) & (t.pr4_holiday_1 < .31)]"
   ]
  },
  {
   "cell_type": "markdown",
   "metadata": {},
   "source": [
    "## 刚10个里的一个，怀疑是 2576321385 。 正好把这个 2576321385 以及其他两个。再找几个，凑一个找5个的集合。"
   ]
  },
  {
   "cell_type": "code",
   "execution_count": null,
   "metadata": {},
   "outputs": [],
   "source": [
    "# (t.pr2_holiday_1 < .34) & (t.pr4_holiday_1 < .31)\n",
    "s1 = [2451165982, 2576321385, 2347718608]"
   ]
  },
  {
   "cell_type": "code",
   "execution_count": 77,
   "metadata": {},
   "outputs": [
    {
     "data": {
      "text/plain": [
       "Index(['ELEC_TYPE_NAME', 'VOLT_NAME', 'RUN_CAP', 'label', 'kwh', 'kwh_cal',\n",
       "       'kwh_pap_r2', 'kwh_pap_r3', 'kwh_pap_r4', 'pr2', 'pr3', 'pr4', '2_3',\n",
       "       '2_4', '3_4', 'daycv', 'kwh_holiday_1', 'kwh_cal_holiday_1',\n",
       "       'kwh_pap_r2_holiday_1', 'kwh_pap_r3_holiday_1', 'kwh_pap_r4_holiday_1',\n",
       "       'pr2_holiday_1', 'pr3_holiday_1', 'pr4_holiday_1', '2_3_holiday_1',\n",
       "       '2_4_holiday_1', '3_4_holiday_1', 'daycv_holiday_1', 'kwh_holiday_0',\n",
       "       'kwh_cal_holiday_0', 'kwh_pap_r2_holiday_0', 'kwh_pap_r3_holiday_0',\n",
       "       'kwh_pap_r4_holiday_0', 'pr2_holiday_0', 'pr3_holiday_0',\n",
       "       'pr4_holiday_0', '2_3_holiday_0', '2_4_holiday_0', '3_4_holiday_0',\n",
       "       'daycv_holiday_0', 'kwh_holiday_diff', 'kwh_cal_holiday_diff',\n",
       "       'kwh_pap_r2_holiday_diff', 'kwh_pap_r3_holiday_diff',\n",
       "       'kwh_pap_r4_holiday_diff', 'pr2_holiday_diff', 'pr3_holiday_diff',\n",
       "       'pr4_holiday_diff', '2_3_holiday_diff', '2_4_holiday_diff',\n",
       "       '3_4_holiday_diff', 'daycv_holiday_diff', 'pq_f', 'pq_g', 'pq_p',\n",
       "       'pq_z', 'pp', 'pf', 'pg', 'p_f', 'p_g', 'f_g', 'monthcv',\n",
       "       'ELEC_TYPE_NAME_CODE', 'VOLT_NAME_CODE'],\n",
       "      dtype='object')"
      ]
     },
     "execution_count": 77,
     "metadata": {},
     "output_type": "execute_result"
    }
   ],
   "source": [
    "ds.train2.columns"
   ]
  },
  {
   "cell_type": "code",
   "execution_count": 91,
   "metadata": {},
   "outputs": [
    {
     "name": "stderr",
     "output_type": "stream",
     "text": [
      "/opt/conda/envs/miner/lib/python3.8/site-packages/sklearn/manifold/_t_sne.py:790: FutureWarning:\n",
      "\n",
      "The default learning rate in TSNE will change from 200.0 to 'auto' in 1.2.\n",
      "\n",
      "/opt/conda/envs/miner/lib/python3.8/site-packages/sklearn/manifold/_t_sne.py:982: FutureWarning:\n",
      "\n",
      "The PCA initialization in TSNE will change to have the standard deviation of PC1 equal to 1e-4 in 1.2. This will ensure better convergence.\n",
      "\n"
     ]
    },
    {
     "data": {
      "application/vnd.plotly.v1+json": {
       "config": {
        "plotlyServerURL": "https://plot.ly"
       },
       "data": [
        {
         "hovertemplate": "label=1<br>x=%{x}<br>y=%{y}<extra></extra>",
         "legendgroup": "1",
         "marker": {
          "color": "#636efa",
          "symbol": "circle"
         },
         "mode": "markers",
         "name": "1",
         "orientation": "v",
         "showlegend": true,
         "type": "scatter",
         "x": [
          -0.44310635328292847,
          -51.2183837890625,
          94.46922302246094,
          13.855525970458984,
          -16.406652450561523,
          10.905648231506348,
          -49.673240661621094,
          -66.57828521728516,
          55.732337951660156,
          -53.604312896728516
         ],
         "xaxis": "x",
         "y": [
          6.402369976043701,
          -123.13572692871094,
          -20.093122482299805,
          -44.83712387084961,
          60.2327995300293,
          76.44671630859375,
          24.283525466918945,
          87.41838073730469,
          -7.968948841094971,
          -71.55960845947266
         ],
         "yaxis": "y"
        },
        {
         "hovertemplate": "label=test<br>x=%{x}<br>y=%{y}<extra></extra>",
         "legendgroup": "test",
         "marker": {
          "color": "#EF553B",
          "symbol": "circle"
         },
         "mode": "markers",
         "name": "test",
         "orientation": "v",
         "showlegend": true,
         "type": "scatter",
         "x": [
          41.61687088012695,
          92.67131805419922,
          -42.55459976196289,
          -101.06111907958984,
          -80.69908142089844,
          58.05656814575195,
          28.746984481811523,
          -9.832246780395508,
          39.10381317138672,
          -32.379722595214844,
          63.4989013671875,
          -17.597360610961914,
          49.62088394165039,
          -78.79771423339844,
          -17.674238204956055,
          23.006118774414062,
          -47.35990524291992,
          -22.901409149169922,
          -65.07621002197266,
          -10.82553768157959,
          76.13517761230469,
          24.321048736572266,
          12.563511848449707
         ],
         "xaxis": "x",
         "y": [
          58.22612380981445,
          23.410594940185547,
          -32.39128875732422,
          3.4119396209716797,
          39.72077178955078,
          25.832529067993164,
          15.783561706542969,
          -22.596824645996094,
          101.15847778320312,
          -1.9912240505218506,
          -72.71602630615234,
          -55.550968170166016,
          -40.361541748046875,
          -36.37850570678711,
          29.551593780517578,
          -15.14323616027832,
          55.7654914855957,
          96.16671752929688,
          -3.4038500785827637,
          -96.3890609741211,
          68.78985595703125,
          -78.2850112915039,
          41.795711517333984
         ],
         "yaxis": "y"
        }
       ],
       "layout": {
        "legend": {
         "title": {
          "text": "label"
         },
         "tracegroupgap": 0
        },
        "margin": {
         "t": 60
        },
        "template": {
         "data": {
          "bar": [
           {
            "error_x": {
             "color": "#2a3f5f"
            },
            "error_y": {
             "color": "#2a3f5f"
            },
            "marker": {
             "line": {
              "color": "#E5ECF6",
              "width": 0.5
             },
             "pattern": {
              "fillmode": "overlay",
              "size": 10,
              "solidity": 0.2
             }
            },
            "type": "bar"
           }
          ],
          "barpolar": [
           {
            "marker": {
             "line": {
              "color": "#E5ECF6",
              "width": 0.5
             },
             "pattern": {
              "fillmode": "overlay",
              "size": 10,
              "solidity": 0.2
             }
            },
            "type": "barpolar"
           }
          ],
          "carpet": [
           {
            "aaxis": {
             "endlinecolor": "#2a3f5f",
             "gridcolor": "white",
             "linecolor": "white",
             "minorgridcolor": "white",
             "startlinecolor": "#2a3f5f"
            },
            "baxis": {
             "endlinecolor": "#2a3f5f",
             "gridcolor": "white",
             "linecolor": "white",
             "minorgridcolor": "white",
             "startlinecolor": "#2a3f5f"
            },
            "type": "carpet"
           }
          ],
          "choropleth": [
           {
            "colorbar": {
             "outlinewidth": 0,
             "ticks": ""
            },
            "type": "choropleth"
           }
          ],
          "contour": [
           {
            "colorbar": {
             "outlinewidth": 0,
             "ticks": ""
            },
            "colorscale": [
             [
              0,
              "#0d0887"
             ],
             [
              0.1111111111111111,
              "#46039f"
             ],
             [
              0.2222222222222222,
              "#7201a8"
             ],
             [
              0.3333333333333333,
              "#9c179e"
             ],
             [
              0.4444444444444444,
              "#bd3786"
             ],
             [
              0.5555555555555556,
              "#d8576b"
             ],
             [
              0.6666666666666666,
              "#ed7953"
             ],
             [
              0.7777777777777778,
              "#fb9f3a"
             ],
             [
              0.8888888888888888,
              "#fdca26"
             ],
             [
              1,
              "#f0f921"
             ]
            ],
            "type": "contour"
           }
          ],
          "contourcarpet": [
           {
            "colorbar": {
             "outlinewidth": 0,
             "ticks": ""
            },
            "type": "contourcarpet"
           }
          ],
          "heatmap": [
           {
            "colorbar": {
             "outlinewidth": 0,
             "ticks": ""
            },
            "colorscale": [
             [
              0,
              "#0d0887"
             ],
             [
              0.1111111111111111,
              "#46039f"
             ],
             [
              0.2222222222222222,
              "#7201a8"
             ],
             [
              0.3333333333333333,
              "#9c179e"
             ],
             [
              0.4444444444444444,
              "#bd3786"
             ],
             [
              0.5555555555555556,
              "#d8576b"
             ],
             [
              0.6666666666666666,
              "#ed7953"
             ],
             [
              0.7777777777777778,
              "#fb9f3a"
             ],
             [
              0.8888888888888888,
              "#fdca26"
             ],
             [
              1,
              "#f0f921"
             ]
            ],
            "type": "heatmap"
           }
          ],
          "heatmapgl": [
           {
            "colorbar": {
             "outlinewidth": 0,
             "ticks": ""
            },
            "colorscale": [
             [
              0,
              "#0d0887"
             ],
             [
              0.1111111111111111,
              "#46039f"
             ],
             [
              0.2222222222222222,
              "#7201a8"
             ],
             [
              0.3333333333333333,
              "#9c179e"
             ],
             [
              0.4444444444444444,
              "#bd3786"
             ],
             [
              0.5555555555555556,
              "#d8576b"
             ],
             [
              0.6666666666666666,
              "#ed7953"
             ],
             [
              0.7777777777777778,
              "#fb9f3a"
             ],
             [
              0.8888888888888888,
              "#fdca26"
             ],
             [
              1,
              "#f0f921"
             ]
            ],
            "type": "heatmapgl"
           }
          ],
          "histogram": [
           {
            "marker": {
             "pattern": {
              "fillmode": "overlay",
              "size": 10,
              "solidity": 0.2
             }
            },
            "type": "histogram"
           }
          ],
          "histogram2d": [
           {
            "colorbar": {
             "outlinewidth": 0,
             "ticks": ""
            },
            "colorscale": [
             [
              0,
              "#0d0887"
             ],
             [
              0.1111111111111111,
              "#46039f"
             ],
             [
              0.2222222222222222,
              "#7201a8"
             ],
             [
              0.3333333333333333,
              "#9c179e"
             ],
             [
              0.4444444444444444,
              "#bd3786"
             ],
             [
              0.5555555555555556,
              "#d8576b"
             ],
             [
              0.6666666666666666,
              "#ed7953"
             ],
             [
              0.7777777777777778,
              "#fb9f3a"
             ],
             [
              0.8888888888888888,
              "#fdca26"
             ],
             [
              1,
              "#f0f921"
             ]
            ],
            "type": "histogram2d"
           }
          ],
          "histogram2dcontour": [
           {
            "colorbar": {
             "outlinewidth": 0,
             "ticks": ""
            },
            "colorscale": [
             [
              0,
              "#0d0887"
             ],
             [
              0.1111111111111111,
              "#46039f"
             ],
             [
              0.2222222222222222,
              "#7201a8"
             ],
             [
              0.3333333333333333,
              "#9c179e"
             ],
             [
              0.4444444444444444,
              "#bd3786"
             ],
             [
              0.5555555555555556,
              "#d8576b"
             ],
             [
              0.6666666666666666,
              "#ed7953"
             ],
             [
              0.7777777777777778,
              "#fb9f3a"
             ],
             [
              0.8888888888888888,
              "#fdca26"
             ],
             [
              1,
              "#f0f921"
             ]
            ],
            "type": "histogram2dcontour"
           }
          ],
          "mesh3d": [
           {
            "colorbar": {
             "outlinewidth": 0,
             "ticks": ""
            },
            "type": "mesh3d"
           }
          ],
          "parcoords": [
           {
            "line": {
             "colorbar": {
              "outlinewidth": 0,
              "ticks": ""
             }
            },
            "type": "parcoords"
           }
          ],
          "pie": [
           {
            "automargin": true,
            "type": "pie"
           }
          ],
          "scatter": [
           {
            "marker": {
             "colorbar": {
              "outlinewidth": 0,
              "ticks": ""
             }
            },
            "type": "scatter"
           }
          ],
          "scatter3d": [
           {
            "line": {
             "colorbar": {
              "outlinewidth": 0,
              "ticks": ""
             }
            },
            "marker": {
             "colorbar": {
              "outlinewidth": 0,
              "ticks": ""
             }
            },
            "type": "scatter3d"
           }
          ],
          "scattercarpet": [
           {
            "marker": {
             "colorbar": {
              "outlinewidth": 0,
              "ticks": ""
             }
            },
            "type": "scattercarpet"
           }
          ],
          "scattergeo": [
           {
            "marker": {
             "colorbar": {
              "outlinewidth": 0,
              "ticks": ""
             }
            },
            "type": "scattergeo"
           }
          ],
          "scattergl": [
           {
            "marker": {
             "colorbar": {
              "outlinewidth": 0,
              "ticks": ""
             }
            },
            "type": "scattergl"
           }
          ],
          "scattermapbox": [
           {
            "marker": {
             "colorbar": {
              "outlinewidth": 0,
              "ticks": ""
             }
            },
            "type": "scattermapbox"
           }
          ],
          "scatterpolar": [
           {
            "marker": {
             "colorbar": {
              "outlinewidth": 0,
              "ticks": ""
             }
            },
            "type": "scatterpolar"
           }
          ],
          "scatterpolargl": [
           {
            "marker": {
             "colorbar": {
              "outlinewidth": 0,
              "ticks": ""
             }
            },
            "type": "scatterpolargl"
           }
          ],
          "scatterternary": [
           {
            "marker": {
             "colorbar": {
              "outlinewidth": 0,
              "ticks": ""
             }
            },
            "type": "scatterternary"
           }
          ],
          "surface": [
           {
            "colorbar": {
             "outlinewidth": 0,
             "ticks": ""
            },
            "colorscale": [
             [
              0,
              "#0d0887"
             ],
             [
              0.1111111111111111,
              "#46039f"
             ],
             [
              0.2222222222222222,
              "#7201a8"
             ],
             [
              0.3333333333333333,
              "#9c179e"
             ],
             [
              0.4444444444444444,
              "#bd3786"
             ],
             [
              0.5555555555555556,
              "#d8576b"
             ],
             [
              0.6666666666666666,
              "#ed7953"
             ],
             [
              0.7777777777777778,
              "#fb9f3a"
             ],
             [
              0.8888888888888888,
              "#fdca26"
             ],
             [
              1,
              "#f0f921"
             ]
            ],
            "type": "surface"
           }
          ],
          "table": [
           {
            "cells": {
             "fill": {
              "color": "#EBF0F8"
             },
             "line": {
              "color": "white"
             }
            },
            "header": {
             "fill": {
              "color": "#C8D4E3"
             },
             "line": {
              "color": "white"
             }
            },
            "type": "table"
           }
          ]
         },
         "layout": {
          "annotationdefaults": {
           "arrowcolor": "#2a3f5f",
           "arrowhead": 0,
           "arrowwidth": 1
          },
          "autotypenumbers": "strict",
          "coloraxis": {
           "colorbar": {
            "outlinewidth": 0,
            "ticks": ""
           }
          },
          "colorscale": {
           "diverging": [
            [
             0,
             "#8e0152"
            ],
            [
             0.1,
             "#c51b7d"
            ],
            [
             0.2,
             "#de77ae"
            ],
            [
             0.3,
             "#f1b6da"
            ],
            [
             0.4,
             "#fde0ef"
            ],
            [
             0.5,
             "#f7f7f7"
            ],
            [
             0.6,
             "#e6f5d0"
            ],
            [
             0.7,
             "#b8e186"
            ],
            [
             0.8,
             "#7fbc41"
            ],
            [
             0.9,
             "#4d9221"
            ],
            [
             1,
             "#276419"
            ]
           ],
           "sequential": [
            [
             0,
             "#0d0887"
            ],
            [
             0.1111111111111111,
             "#46039f"
            ],
            [
             0.2222222222222222,
             "#7201a8"
            ],
            [
             0.3333333333333333,
             "#9c179e"
            ],
            [
             0.4444444444444444,
             "#bd3786"
            ],
            [
             0.5555555555555556,
             "#d8576b"
            ],
            [
             0.6666666666666666,
             "#ed7953"
            ],
            [
             0.7777777777777778,
             "#fb9f3a"
            ],
            [
             0.8888888888888888,
             "#fdca26"
            ],
            [
             1,
             "#f0f921"
            ]
           ],
           "sequentialminus": [
            [
             0,
             "#0d0887"
            ],
            [
             0.1111111111111111,
             "#46039f"
            ],
            [
             0.2222222222222222,
             "#7201a8"
            ],
            [
             0.3333333333333333,
             "#9c179e"
            ],
            [
             0.4444444444444444,
             "#bd3786"
            ],
            [
             0.5555555555555556,
             "#d8576b"
            ],
            [
             0.6666666666666666,
             "#ed7953"
            ],
            [
             0.7777777777777778,
             "#fb9f3a"
            ],
            [
             0.8888888888888888,
             "#fdca26"
            ],
            [
             1,
             "#f0f921"
            ]
           ]
          },
          "colorway": [
           "#636efa",
           "#EF553B",
           "#00cc96",
           "#ab63fa",
           "#FFA15A",
           "#19d3f3",
           "#FF6692",
           "#B6E880",
           "#FF97FF",
           "#FECB52"
          ],
          "font": {
           "color": "#2a3f5f"
          },
          "geo": {
           "bgcolor": "white",
           "lakecolor": "white",
           "landcolor": "#E5ECF6",
           "showlakes": true,
           "showland": true,
           "subunitcolor": "white"
          },
          "hoverlabel": {
           "align": "left"
          },
          "hovermode": "closest",
          "mapbox": {
           "style": "light"
          },
          "paper_bgcolor": "white",
          "plot_bgcolor": "#E5ECF6",
          "polar": {
           "angularaxis": {
            "gridcolor": "white",
            "linecolor": "white",
            "ticks": ""
           },
           "bgcolor": "#E5ECF6",
           "radialaxis": {
            "gridcolor": "white",
            "linecolor": "white",
            "ticks": ""
           }
          },
          "scene": {
           "xaxis": {
            "backgroundcolor": "#E5ECF6",
            "gridcolor": "white",
            "gridwidth": 2,
            "linecolor": "white",
            "showbackground": true,
            "ticks": "",
            "zerolinecolor": "white"
           },
           "yaxis": {
            "backgroundcolor": "#E5ECF6",
            "gridcolor": "white",
            "gridwidth": 2,
            "linecolor": "white",
            "showbackground": true,
            "ticks": "",
            "zerolinecolor": "white"
           },
           "zaxis": {
            "backgroundcolor": "#E5ECF6",
            "gridcolor": "white",
            "gridwidth": 2,
            "linecolor": "white",
            "showbackground": true,
            "ticks": "",
            "zerolinecolor": "white"
           }
          },
          "shapedefaults": {
           "line": {
            "color": "#2a3f5f"
           }
          },
          "ternary": {
           "aaxis": {
            "gridcolor": "white",
            "linecolor": "white",
            "ticks": ""
           },
           "baxis": {
            "gridcolor": "white",
            "linecolor": "white",
            "ticks": ""
           },
           "bgcolor": "#E5ECF6",
           "caxis": {
            "gridcolor": "white",
            "linecolor": "white",
            "ticks": ""
           }
          },
          "title": {
           "x": 0.05
          },
          "xaxis": {
           "automargin": true,
           "gridcolor": "white",
           "linecolor": "white",
           "ticks": "",
           "title": {
            "standoff": 15
           },
           "zerolinecolor": "white",
           "zerolinewidth": 2
          },
          "yaxis": {
           "automargin": true,
           "gridcolor": "white",
           "linecolor": "white",
           "ticks": "",
           "title": {
            "standoff": 15
           },
           "zerolinecolor": "white",
           "zerolinewidth": 2
          }
         }
        },
        "xaxis": {
         "anchor": "y",
         "domain": [
          0,
          1
         ],
         "title": {
          "text": "x"
         }
        },
        "yaxis": {
         "anchor": "x",
         "domain": [
          0,
          1
         ],
         "title": {
          "text": "y"
         }
        }
       }
      },
      "text/html": [
       "<div>                            <div id=\"8cff877d-d58f-4a6f-adc7-73472c61b519\" class=\"plotly-graph-div\" style=\"height:525px; width:100%;\"></div>            <script type=\"text/javascript\">                require([\"plotly\"], function(Plotly) {                    window.PLOTLYENV=window.PLOTLYENV || {};                                    if (document.getElementById(\"8cff877d-d58f-4a6f-adc7-73472c61b519\")) {                    Plotly.newPlot(                        \"8cff877d-d58f-4a6f-adc7-73472c61b519\",                        [{\"hovertemplate\":\"label=1<br>x=%{x}<br>y=%{y}<extra></extra>\",\"legendgroup\":\"1\",\"marker\":{\"color\":\"#636efa\",\"symbol\":\"circle\"},\"mode\":\"markers\",\"name\":\"1\",\"orientation\":\"v\",\"showlegend\":true,\"x\":[-0.44310635328292847,-51.2183837890625,94.46922302246094,13.855525970458984,-16.406652450561523,10.905648231506348,-49.673240661621094,-66.57828521728516,55.732337951660156,-53.604312896728516],\"xaxis\":\"x\",\"y\":[6.402369976043701,-123.13572692871094,-20.093122482299805,-44.83712387084961,60.2327995300293,76.44671630859375,24.283525466918945,87.41838073730469,-7.968948841094971,-71.55960845947266],\"yaxis\":\"y\",\"type\":\"scatter\"},{\"hovertemplate\":\"label=test<br>x=%{x}<br>y=%{y}<extra></extra>\",\"legendgroup\":\"test\",\"marker\":{\"color\":\"#EF553B\",\"symbol\":\"circle\"},\"mode\":\"markers\",\"name\":\"test\",\"orientation\":\"v\",\"showlegend\":true,\"x\":[41.61687088012695,92.67131805419922,-42.55459976196289,-101.06111907958984,-80.69908142089844,58.05656814575195,28.746984481811523,-9.832246780395508,39.10381317138672,-32.379722595214844,63.4989013671875,-17.597360610961914,49.62088394165039,-78.79771423339844,-17.674238204956055,23.006118774414062,-47.35990524291992,-22.901409149169922,-65.07621002197266,-10.82553768157959,76.13517761230469,24.321048736572266,12.563511848449707],\"xaxis\":\"x\",\"y\":[58.22612380981445,23.410594940185547,-32.39128875732422,3.4119396209716797,39.72077178955078,25.832529067993164,15.783561706542969,-22.596824645996094,101.15847778320312,-1.9912240505218506,-72.71602630615234,-55.550968170166016,-40.361541748046875,-36.37850570678711,29.551593780517578,-15.14323616027832,55.7654914855957,96.16671752929688,-3.4038500785827637,-96.3890609741211,68.78985595703125,-78.2850112915039,41.795711517333984],\"yaxis\":\"y\",\"type\":\"scatter\"}],                        {\"template\":{\"data\":{\"bar\":[{\"error_x\":{\"color\":\"#2a3f5f\"},\"error_y\":{\"color\":\"#2a3f5f\"},\"marker\":{\"line\":{\"color\":\"#E5ECF6\",\"width\":0.5},\"pattern\":{\"fillmode\":\"overlay\",\"size\":10,\"solidity\":0.2}},\"type\":\"bar\"}],\"barpolar\":[{\"marker\":{\"line\":{\"color\":\"#E5ECF6\",\"width\":0.5},\"pattern\":{\"fillmode\":\"overlay\",\"size\":10,\"solidity\":0.2}},\"type\":\"barpolar\"}],\"carpet\":[{\"aaxis\":{\"endlinecolor\":\"#2a3f5f\",\"gridcolor\":\"white\",\"linecolor\":\"white\",\"minorgridcolor\":\"white\",\"startlinecolor\":\"#2a3f5f\"},\"baxis\":{\"endlinecolor\":\"#2a3f5f\",\"gridcolor\":\"white\",\"linecolor\":\"white\",\"minorgridcolor\":\"white\",\"startlinecolor\":\"#2a3f5f\"},\"type\":\"carpet\"}],\"choropleth\":[{\"colorbar\":{\"outlinewidth\":0,\"ticks\":\"\"},\"type\":\"choropleth\"}],\"contour\":[{\"colorbar\":{\"outlinewidth\":0,\"ticks\":\"\"},\"colorscale\":[[0.0,\"#0d0887\"],[0.1111111111111111,\"#46039f\"],[0.2222222222222222,\"#7201a8\"],[0.3333333333333333,\"#9c179e\"],[0.4444444444444444,\"#bd3786\"],[0.5555555555555556,\"#d8576b\"],[0.6666666666666666,\"#ed7953\"],[0.7777777777777778,\"#fb9f3a\"],[0.8888888888888888,\"#fdca26\"],[1.0,\"#f0f921\"]],\"type\":\"contour\"}],\"contourcarpet\":[{\"colorbar\":{\"outlinewidth\":0,\"ticks\":\"\"},\"type\":\"contourcarpet\"}],\"heatmap\":[{\"colorbar\":{\"outlinewidth\":0,\"ticks\":\"\"},\"colorscale\":[[0.0,\"#0d0887\"],[0.1111111111111111,\"#46039f\"],[0.2222222222222222,\"#7201a8\"],[0.3333333333333333,\"#9c179e\"],[0.4444444444444444,\"#bd3786\"],[0.5555555555555556,\"#d8576b\"],[0.6666666666666666,\"#ed7953\"],[0.7777777777777778,\"#fb9f3a\"],[0.8888888888888888,\"#fdca26\"],[1.0,\"#f0f921\"]],\"type\":\"heatmap\"}],\"heatmapgl\":[{\"colorbar\":{\"outlinewidth\":0,\"ticks\":\"\"},\"colorscale\":[[0.0,\"#0d0887\"],[0.1111111111111111,\"#46039f\"],[0.2222222222222222,\"#7201a8\"],[0.3333333333333333,\"#9c179e\"],[0.4444444444444444,\"#bd3786\"],[0.5555555555555556,\"#d8576b\"],[0.6666666666666666,\"#ed7953\"],[0.7777777777777778,\"#fb9f3a\"],[0.8888888888888888,\"#fdca26\"],[1.0,\"#f0f921\"]],\"type\":\"heatmapgl\"}],\"histogram\":[{\"marker\":{\"pattern\":{\"fillmode\":\"overlay\",\"size\":10,\"solidity\":0.2}},\"type\":\"histogram\"}],\"histogram2d\":[{\"colorbar\":{\"outlinewidth\":0,\"ticks\":\"\"},\"colorscale\":[[0.0,\"#0d0887\"],[0.1111111111111111,\"#46039f\"],[0.2222222222222222,\"#7201a8\"],[0.3333333333333333,\"#9c179e\"],[0.4444444444444444,\"#bd3786\"],[0.5555555555555556,\"#d8576b\"],[0.6666666666666666,\"#ed7953\"],[0.7777777777777778,\"#fb9f3a\"],[0.8888888888888888,\"#fdca26\"],[1.0,\"#f0f921\"]],\"type\":\"histogram2d\"}],\"histogram2dcontour\":[{\"colorbar\":{\"outlinewidth\":0,\"ticks\":\"\"},\"colorscale\":[[0.0,\"#0d0887\"],[0.1111111111111111,\"#46039f\"],[0.2222222222222222,\"#7201a8\"],[0.3333333333333333,\"#9c179e\"],[0.4444444444444444,\"#bd3786\"],[0.5555555555555556,\"#d8576b\"],[0.6666666666666666,\"#ed7953\"],[0.7777777777777778,\"#fb9f3a\"],[0.8888888888888888,\"#fdca26\"],[1.0,\"#f0f921\"]],\"type\":\"histogram2dcontour\"}],\"mesh3d\":[{\"colorbar\":{\"outlinewidth\":0,\"ticks\":\"\"},\"type\":\"mesh3d\"}],\"parcoords\":[{\"line\":{\"colorbar\":{\"outlinewidth\":0,\"ticks\":\"\"}},\"type\":\"parcoords\"}],\"pie\":[{\"automargin\":true,\"type\":\"pie\"}],\"scatter\":[{\"marker\":{\"colorbar\":{\"outlinewidth\":0,\"ticks\":\"\"}},\"type\":\"scatter\"}],\"scatter3d\":[{\"line\":{\"colorbar\":{\"outlinewidth\":0,\"ticks\":\"\"}},\"marker\":{\"colorbar\":{\"outlinewidth\":0,\"ticks\":\"\"}},\"type\":\"scatter3d\"}],\"scattercarpet\":[{\"marker\":{\"colorbar\":{\"outlinewidth\":0,\"ticks\":\"\"}},\"type\":\"scattercarpet\"}],\"scattergeo\":[{\"marker\":{\"colorbar\":{\"outlinewidth\":0,\"ticks\":\"\"}},\"type\":\"scattergeo\"}],\"scattergl\":[{\"marker\":{\"colorbar\":{\"outlinewidth\":0,\"ticks\":\"\"}},\"type\":\"scattergl\"}],\"scattermapbox\":[{\"marker\":{\"colorbar\":{\"outlinewidth\":0,\"ticks\":\"\"}},\"type\":\"scattermapbox\"}],\"scatterpolar\":[{\"marker\":{\"colorbar\":{\"outlinewidth\":0,\"ticks\":\"\"}},\"type\":\"scatterpolar\"}],\"scatterpolargl\":[{\"marker\":{\"colorbar\":{\"outlinewidth\":0,\"ticks\":\"\"}},\"type\":\"scatterpolargl\"}],\"scatterternary\":[{\"marker\":{\"colorbar\":{\"outlinewidth\":0,\"ticks\":\"\"}},\"type\":\"scatterternary\"}],\"surface\":[{\"colorbar\":{\"outlinewidth\":0,\"ticks\":\"\"},\"colorscale\":[[0.0,\"#0d0887\"],[0.1111111111111111,\"#46039f\"],[0.2222222222222222,\"#7201a8\"],[0.3333333333333333,\"#9c179e\"],[0.4444444444444444,\"#bd3786\"],[0.5555555555555556,\"#d8576b\"],[0.6666666666666666,\"#ed7953\"],[0.7777777777777778,\"#fb9f3a\"],[0.8888888888888888,\"#fdca26\"],[1.0,\"#f0f921\"]],\"type\":\"surface\"}],\"table\":[{\"cells\":{\"fill\":{\"color\":\"#EBF0F8\"},\"line\":{\"color\":\"white\"}},\"header\":{\"fill\":{\"color\":\"#C8D4E3\"},\"line\":{\"color\":\"white\"}},\"type\":\"table\"}]},\"layout\":{\"annotationdefaults\":{\"arrowcolor\":\"#2a3f5f\",\"arrowhead\":0,\"arrowwidth\":1},\"autotypenumbers\":\"strict\",\"coloraxis\":{\"colorbar\":{\"outlinewidth\":0,\"ticks\":\"\"}},\"colorscale\":{\"diverging\":[[0,\"#8e0152\"],[0.1,\"#c51b7d\"],[0.2,\"#de77ae\"],[0.3,\"#f1b6da\"],[0.4,\"#fde0ef\"],[0.5,\"#f7f7f7\"],[0.6,\"#e6f5d0\"],[0.7,\"#b8e186\"],[0.8,\"#7fbc41\"],[0.9,\"#4d9221\"],[1,\"#276419\"]],\"sequential\":[[0.0,\"#0d0887\"],[0.1111111111111111,\"#46039f\"],[0.2222222222222222,\"#7201a8\"],[0.3333333333333333,\"#9c179e\"],[0.4444444444444444,\"#bd3786\"],[0.5555555555555556,\"#d8576b\"],[0.6666666666666666,\"#ed7953\"],[0.7777777777777778,\"#fb9f3a\"],[0.8888888888888888,\"#fdca26\"],[1.0,\"#f0f921\"]],\"sequentialminus\":[[0.0,\"#0d0887\"],[0.1111111111111111,\"#46039f\"],[0.2222222222222222,\"#7201a8\"],[0.3333333333333333,\"#9c179e\"],[0.4444444444444444,\"#bd3786\"],[0.5555555555555556,\"#d8576b\"],[0.6666666666666666,\"#ed7953\"],[0.7777777777777778,\"#fb9f3a\"],[0.8888888888888888,\"#fdca26\"],[1.0,\"#f0f921\"]]},\"colorway\":[\"#636efa\",\"#EF553B\",\"#00cc96\",\"#ab63fa\",\"#FFA15A\",\"#19d3f3\",\"#FF6692\",\"#B6E880\",\"#FF97FF\",\"#FECB52\"],\"font\":{\"color\":\"#2a3f5f\"},\"geo\":{\"bgcolor\":\"white\",\"lakecolor\":\"white\",\"landcolor\":\"#E5ECF6\",\"showlakes\":true,\"showland\":true,\"subunitcolor\":\"white\"},\"hoverlabel\":{\"align\":\"left\"},\"hovermode\":\"closest\",\"mapbox\":{\"style\":\"light\"},\"paper_bgcolor\":\"white\",\"plot_bgcolor\":\"#E5ECF6\",\"polar\":{\"angularaxis\":{\"gridcolor\":\"white\",\"linecolor\":\"white\",\"ticks\":\"\"},\"bgcolor\":\"#E5ECF6\",\"radialaxis\":{\"gridcolor\":\"white\",\"linecolor\":\"white\",\"ticks\":\"\"}},\"scene\":{\"xaxis\":{\"backgroundcolor\":\"#E5ECF6\",\"gridcolor\":\"white\",\"gridwidth\":2,\"linecolor\":\"white\",\"showbackground\":true,\"ticks\":\"\",\"zerolinecolor\":\"white\"},\"yaxis\":{\"backgroundcolor\":\"#E5ECF6\",\"gridcolor\":\"white\",\"gridwidth\":2,\"linecolor\":\"white\",\"showbackground\":true,\"ticks\":\"\",\"zerolinecolor\":\"white\"},\"zaxis\":{\"backgroundcolor\":\"#E5ECF6\",\"gridcolor\":\"white\",\"gridwidth\":2,\"linecolor\":\"white\",\"showbackground\":true,\"ticks\":\"\",\"zerolinecolor\":\"white\"}},\"shapedefaults\":{\"line\":{\"color\":\"#2a3f5f\"}},\"ternary\":{\"aaxis\":{\"gridcolor\":\"white\",\"linecolor\":\"white\",\"ticks\":\"\"},\"baxis\":{\"gridcolor\":\"white\",\"linecolor\":\"white\",\"ticks\":\"\"},\"bgcolor\":\"#E5ECF6\",\"caxis\":{\"gridcolor\":\"white\",\"linecolor\":\"white\",\"ticks\":\"\"}},\"title\":{\"x\":0.05},\"xaxis\":{\"automargin\":true,\"gridcolor\":\"white\",\"linecolor\":\"white\",\"ticks\":\"\",\"title\":{\"standoff\":15},\"zerolinecolor\":\"white\",\"zerolinewidth\":2},\"yaxis\":{\"automargin\":true,\"gridcolor\":\"white\",\"linecolor\":\"white\",\"ticks\":\"\",\"title\":{\"standoff\":15},\"zerolinecolor\":\"white\",\"zerolinewidth\":2}}},\"xaxis\":{\"anchor\":\"y\",\"domain\":[0.0,1.0],\"title\":{\"text\":\"x\"}},\"yaxis\":{\"anchor\":\"x\",\"domain\":[0.0,1.0],\"title\":{\"text\":\"y\"}},\"legend\":{\"title\":{\"text\":\"label\"},\"tracegroupgap\":0},\"margin\":{\"t\":60}},                        {\"responsive\": true}                    ).then(function(){\n",
       "                            \n",
       "var gd = document.getElementById('8cff877d-d58f-4a6f-adc7-73472c61b519');\n",
       "var x = new MutationObserver(function (mutations, observer) {{\n",
       "        var display = window.getComputedStyle(gd).display;\n",
       "        if (!display || display === 'none') {{\n",
       "            console.log([gd, 'removed!']);\n",
       "            Plotly.purge(gd);\n",
       "            observer.disconnect();\n",
       "        }}\n",
       "}});\n",
       "\n",
       "// Listen for the removal of the full notebook cells\n",
       "var notebookContainer = gd.closest('#notebook-container');\n",
       "if (notebookContainer) {{\n",
       "    x.observe(notebookContainer, {childList: true});\n",
       "}}\n",
       "\n",
       "// Listen for the clearing of the current output cell\n",
       "var outputEl = gd.closest('.output');\n",
       "if (outputEl) {{\n",
       "    x.observe(outputEl, {childList: true});\n",
       "}}\n",
       "\n",
       "                        })                };                });            </script>        </div>"
      ]
     },
     "metadata": {},
     "output_type": "display_data"
    }
   ],
   "source": [
    "from sklearn.manifold import TSNE\n",
    "t = ds.train[ds.train.index.isin(list(df.index.unique().values) + C.minerids)]\n",
    "cols = ['pr2_holiday_1',\n",
    "        'pr3_holiday_1',\n",
    "        'pr4_holiday_1',\n",
    "        'pr2_holiday_0',\n",
    "        'pr3_holiday_0',\n",
    "        'pr4_holiday_0', \n",
    "        'pp','pg','pf',  'pr2', 'pr3', 'pr4',\n",
    "        'monthcv','daycv'\n",
    "        ]\n",
    "xy = TSNE(init='pca').fit_transform(t[cols])\n",
    "tsne = pd.DataFrame({'x':xy[:,0], 'y': xy[:,1], 'label': t.label})\n",
    "fig = px.scatter(tsne, x='x', y='y', color='label')\n",
    "fig.show()"
   ]
  },
  {
   "cell_type": "code",
   "execution_count": 82,
   "metadata": {},
   "outputs": [
    {
     "data": {
      "text/html": [
       "<div>\n",
       "<style scoped>\n",
       "    .dataframe tbody tr th:only-of-type {\n",
       "        vertical-align: middle;\n",
       "    }\n",
       "\n",
       "    .dataframe tbody tr th {\n",
       "        vertical-align: top;\n",
       "    }\n",
       "\n",
       "    .dataframe thead th {\n",
       "        text-align: right;\n",
       "    }\n",
       "</style>\n",
       "<table border=\"1\" class=\"dataframe\">\n",
       "  <thead>\n",
       "    <tr style=\"text-align: right;\">\n",
       "      <th></th>\n",
       "      <th>label</th>\n",
       "      <th>pp</th>\n",
       "      <th>pg</th>\n",
       "      <th>pf</th>\n",
       "      <th>pq_z</th>\n",
       "      <th>monthcv</th>\n",
       "    </tr>\n",
       "    <tr>\n",
       "      <th>id</th>\n",
       "      <th></th>\n",
       "      <th></th>\n",
       "      <th></th>\n",
       "      <th></th>\n",
       "      <th></th>\n",
       "      <th></th>\n",
       "    </tr>\n",
       "  </thead>\n",
       "  <tbody>\n",
       "    <tr>\n",
       "      <th>855996491</th>\n",
       "      <td>test</td>\n",
       "      <td>0.338715</td>\n",
       "      <td>0.324865</td>\n",
       "      <td>0.336420</td>\n",
       "      <td>15765.857143</td>\n",
       "      <td>0.022772</td>\n",
       "    </tr>\n",
       "    <tr>\n",
       "      <th>2535198432</th>\n",
       "      <td>test</td>\n",
       "      <td>0.346069</td>\n",
       "      <td>0.303258</td>\n",
       "      <td>0.350673</td>\n",
       "      <td>17293.428571</td>\n",
       "      <td>0.079201</td>\n",
       "    </tr>\n",
       "    <tr>\n",
       "      <th>2471562086</th>\n",
       "      <td>test</td>\n",
       "      <td>0.341641</td>\n",
       "      <td>0.310631</td>\n",
       "      <td>0.347728</td>\n",
       "      <td>20197.714286</td>\n",
       "      <td>0.062868</td>\n",
       "    </tr>\n",
       "    <tr>\n",
       "      <th>2717225084</th>\n",
       "      <td>test</td>\n",
       "      <td>0.342897</td>\n",
       "      <td>0.303822</td>\n",
       "      <td>0.353281</td>\n",
       "      <td>23966.190476</td>\n",
       "      <td>0.086013</td>\n",
       "    </tr>\n",
       "    <tr>\n",
       "      <th>2852503463</th>\n",
       "      <td>test</td>\n",
       "      <td>0.338726</td>\n",
       "      <td>0.305757</td>\n",
       "      <td>0.355517</td>\n",
       "      <td>26973.428571</td>\n",
       "      <td>0.076825</td>\n",
       "    </tr>\n",
       "    <tr>\n",
       "      <th>2172970175</th>\n",
       "      <td>test</td>\n",
       "      <td>0.335314</td>\n",
       "      <td>0.325764</td>\n",
       "      <td>0.338922</td>\n",
       "      <td>17407.952381</td>\n",
       "      <td>0.034218</td>\n",
       "    </tr>\n",
       "  </tbody>\n",
       "</table>\n",
       "</div>"
      ],
      "text/plain": [
       "           label        pp        pg        pf          pq_z   monthcv\n",
       "id                                                                    \n",
       "855996491   test  0.338715  0.324865  0.336420  15765.857143  0.022772\n",
       "2535198432  test  0.346069  0.303258  0.350673  17293.428571  0.079201\n",
       "2471562086  test  0.341641  0.310631  0.347728  20197.714286  0.062868\n",
       "2717225084  test  0.342897  0.303822  0.353281  23966.190476  0.086013\n",
       "2852503463  test  0.338726  0.305757  0.355517  26973.428571  0.076825\n",
       "2172970175  test  0.335314  0.325764  0.338922  17407.952381  0.034218"
      ]
     },
     "execution_count": 82,
     "metadata": {},
     "output_type": "execute_result"
    }
   ],
   "source": [
    "t[(t.pq_z > 15e3)]\n",
    "# s1 = [2451165982, 2576321385, 2347718608]"
   ]
  },
  {
   "cell_type": "markdown",
   "metadata": {},
   "source": [
    "不好找。就先按 pq_z 大的，然后前边过滤出来的3个试试把。"
   ]
  },
  {
   "cell_type": "code",
   "execution_count": 95,
   "metadata": {},
   "outputs": [
    {
     "name": "stdout",
     "output_type": "stream",
     "text": [
      "{2717225084, 2852503463}\n",
      "{2576321385}\n"
     ]
    }
   ],
   "source": [
    "s1 = [2451165982, 2576321385, 2347718608]\n",
    "\n",
    "s2 = [855996491, 2535198432, 2471562086, 2717225084, 2852503463, 2172970175]\n",
    "\n",
    "\n",
    "print(r_10_1 & set(s2))\n",
    "print(r_10_1 & set(s1))"
   ]
  },
  {
   "cell_type": "code",
   "execution_count": 99,
   "metadata": {},
   "outputs": [
    {
     "name": "stdout",
     "output_type": "stream",
     "text": [
      "{2576321385, 2717225084}\n",
      "{2471562086, 2251440776, 2576321385, 855996491, 2717225084}\n"
     ]
    }
   ],
   "source": [
    "r_9_4 = load_ids('submit_3_10_2.csv')\n",
    "print(r_9_4 & r_10_1)\n",
    "\n",
    "print(r_9_4 & set(df.index.unique().values))"
   ]
  },
  {
   "cell_type": "code",
   "execution_count": 105,
   "metadata": {},
   "outputs": [
    {
     "name": "stdout",
     "output_type": "stream",
     "text": [
      "10\n",
      "10\n"
     ]
    },
    {
     "data": {
      "text/html": [
       "<div>\n",
       "<style scoped>\n",
       "    .dataframe tbody tr th:only-of-type {\n",
       "        vertical-align: middle;\n",
       "    }\n",
       "\n",
       "    .dataframe tbody tr th {\n",
       "        vertical-align: top;\n",
       "    }\n",
       "\n",
       "    .dataframe thead th {\n",
       "        text-align: right;\n",
       "    }\n",
       "</style>\n",
       "<table border=\"1\" class=\"dataframe\">\n",
       "  <thead>\n",
       "    <tr style=\"text-align: right;\">\n",
       "      <th></th>\n",
       "      <th>id</th>\n",
       "      <th>label</th>\n",
       "    </tr>\n",
       "  </thead>\n",
       "  <tbody>\n",
       "    <tr>\n",
       "      <th>0</th>\n",
       "      <td>179406029</td>\n",
       "      <td>0</td>\n",
       "    </tr>\n",
       "    <tr>\n",
       "      <th>1</th>\n",
       "      <td>179406030</td>\n",
       "      <td>0</td>\n",
       "    </tr>\n",
       "    <tr>\n",
       "      <th>2</th>\n",
       "      <td>179406094</td>\n",
       "      <td>0</td>\n",
       "    </tr>\n",
       "    <tr>\n",
       "      <th>3</th>\n",
       "      <td>179406097</td>\n",
       "      <td>0</td>\n",
       "    </tr>\n",
       "    <tr>\n",
       "      <th>4</th>\n",
       "      <td>179406099</td>\n",
       "      <td>0</td>\n",
       "    </tr>\n",
       "    <tr>\n",
       "      <th>...</th>\n",
       "      <td>...</td>\n",
       "      <td>...</td>\n",
       "    </tr>\n",
       "    <tr>\n",
       "      <th>15374</th>\n",
       "      <td>2849971818</td>\n",
       "      <td>0</td>\n",
       "    </tr>\n",
       "    <tr>\n",
       "      <th>15375</th>\n",
       "      <td>2850017469</td>\n",
       "      <td>0</td>\n",
       "    </tr>\n",
       "    <tr>\n",
       "      <th>15376</th>\n",
       "      <td>2850017472</td>\n",
       "      <td>0</td>\n",
       "    </tr>\n",
       "    <tr>\n",
       "      <th>15377</th>\n",
       "      <td>2851323065</td>\n",
       "      <td>0</td>\n",
       "    </tr>\n",
       "    <tr>\n",
       "      <th>15378</th>\n",
       "      <td>2852368013</td>\n",
       "      <td>0</td>\n",
       "    </tr>\n",
       "  </tbody>\n",
       "</table>\n",
       "<p>15379 rows × 2 columns</p>\n",
       "</div>"
      ],
      "text/plain": [
       "               id  label\n",
       "0       179406029      0\n",
       "1       179406030      0\n",
       "2       179406094      0\n",
       "3       179406097      0\n",
       "4       179406099      0\n",
       "...           ...    ...\n",
       "15374  2849971818      0\n",
       "15375  2850017469      0\n",
       "15376  2850017472      0\n",
       "15377  2851323065      0\n",
       "15378  2852368013      0\n",
       "\n",
       "[15379 rows x 2 columns]"
      ]
     },
     "execution_count": 105,
     "metadata": {},
     "output_type": "execute_result"
    }
   ],
   "source": [
    "# 不管了。赌一下。 \n",
    "print(len(true_ids | {2576321385}))\n",
    "submit({2576321385} | true_ids, 'submit_3_11_2.csv')\n",
    "\n",
    "\n",
    "# 赌错了。。。再也不分析了"
   ]
  },
  {
   "cell_type": "markdown",
   "metadata": {},
   "source": [
    "# 有个9_4的，去掉一个刚试出来的，还有8_4。 正好有4个和 df 交集是4.   这4其中1个在 r_10_1里，另外3个在  r_13_4 里"
   ]
  },
  {
   "cell_type": "code",
   "execution_count": 110,
   "metadata": {},
   "outputs": [
    {
     "name": "stdout",
     "output_type": "stream",
     "text": [
      "{2251440776, 855996491, 2717225084, 2471562086}\n",
      "4\n"
     ]
    },
    {
     "data": {
      "text/html": [
       "<div>\n",
       "<style scoped>\n",
       "    .dataframe tbody tr th:only-of-type {\n",
       "        vertical-align: middle;\n",
       "    }\n",
       "\n",
       "    .dataframe tbody tr th {\n",
       "        vertical-align: top;\n",
       "    }\n",
       "\n",
       "    .dataframe thead th {\n",
       "        text-align: right;\n",
       "    }\n",
       "</style>\n",
       "<table border=\"1\" class=\"dataframe\">\n",
       "  <thead>\n",
       "    <tr style=\"text-align: right;\">\n",
       "      <th></th>\n",
       "      <th>id</th>\n",
       "      <th>label</th>\n",
       "    </tr>\n",
       "  </thead>\n",
       "  <tbody>\n",
       "    <tr>\n",
       "      <th>0</th>\n",
       "      <td>179406029</td>\n",
       "      <td>0</td>\n",
       "    </tr>\n",
       "    <tr>\n",
       "      <th>1</th>\n",
       "      <td>179406030</td>\n",
       "      <td>0</td>\n",
       "    </tr>\n",
       "    <tr>\n",
       "      <th>2</th>\n",
       "      <td>179406094</td>\n",
       "      <td>0</td>\n",
       "    </tr>\n",
       "    <tr>\n",
       "      <th>3</th>\n",
       "      <td>179406097</td>\n",
       "      <td>0</td>\n",
       "    </tr>\n",
       "    <tr>\n",
       "      <th>4</th>\n",
       "      <td>179406099</td>\n",
       "      <td>0</td>\n",
       "    </tr>\n",
       "    <tr>\n",
       "      <th>...</th>\n",
       "      <td>...</td>\n",
       "      <td>...</td>\n",
       "    </tr>\n",
       "    <tr>\n",
       "      <th>15374</th>\n",
       "      <td>2849971818</td>\n",
       "      <td>0</td>\n",
       "    </tr>\n",
       "    <tr>\n",
       "      <th>15375</th>\n",
       "      <td>2850017469</td>\n",
       "      <td>0</td>\n",
       "    </tr>\n",
       "    <tr>\n",
       "      <th>15376</th>\n",
       "      <td>2850017472</td>\n",
       "      <td>0</td>\n",
       "    </tr>\n",
       "    <tr>\n",
       "      <th>15377</th>\n",
       "      <td>2851323065</td>\n",
       "      <td>0</td>\n",
       "    </tr>\n",
       "    <tr>\n",
       "      <th>15378</th>\n",
       "      <td>2852368013</td>\n",
       "      <td>0</td>\n",
       "    </tr>\n",
       "  </tbody>\n",
       "</table>\n",
       "<p>15379 rows × 2 columns</p>\n",
       "</div>"
      ],
      "text/plain": [
       "               id  label\n",
       "0       179406029      0\n",
       "1       179406030      0\n",
       "2       179406094      0\n",
       "3       179406097      0\n",
       "4       179406099      0\n",
       "...           ...    ...\n",
       "15374  2849971818      0\n",
       "15375  2850017469      0\n",
       "15376  2850017472      0\n",
       "15377  2851323065      0\n",
       "15378  2852368013      0\n",
       "\n",
       "[15379 rows x 2 columns]"
      ]
     },
     "execution_count": 110,
     "metadata": {},
     "output_type": "execute_result"
    }
   ],
   "source": [
    "print({2471562086, 2251440776, 2576321385, 855996491, 2717225084} - true_ids)\n",
    "submit({2471562086, 2251440776, 2576321385, 855996491, 2717225084} - true_ids, 'submit_3_11_3.csv')"
   ]
  },
  {
   "cell_type": "code",
   "execution_count": 115,
   "metadata": {},
   "outputs": [
    {
     "name": "stdout",
     "output_type": "stream",
     "text": [
      "[2251440776, 855996491, 2717225084, 2471562086]\n"
     ]
    },
    {
     "data": {
      "application/vnd.plotly.v1+json": {
       "config": {
        "plotlyServerURL": "https://plot.ly"
       },
       "data": [
        {
         "hovertemplate": "variable=pr2<br>id=855996491<br>rq=%{x}<br>value=%{y}<extra></extra>",
         "legendgroup": "pr2",
         "line": {
          "color": "#636efa",
          "dash": "solid"
         },
         "marker": {
          "symbol": "circle"
         },
         "mode": "lines",
         "name": "pr2",
         "showlegend": true,
         "type": "scattergl",
         "x": [
          0,
          1,
          2,
          3,
          4,
          5,
          6,
          7,
          8,
          9,
          10,
          11,
          12,
          13,
          14,
          15,
          16,
          17,
          18,
          19,
          20,
          21,
          22,
          23,
          24,
          25,
          26,
          27,
          28,
          29,
          30,
          31,
          32,
          33,
          34,
          35,
          36,
          37,
          38,
          39,
          40,
          41,
          42,
          43,
          44,
          45,
          46,
          47,
          48,
          49,
          50,
          51,
          52,
          53,
          54,
          55,
          56,
          57,
          58,
          59,
          60,
          61,
          62,
          63,
          64,
          65,
          66,
          67,
          68,
          69,
          70,
          71,
          72,
          73,
          74,
          75,
          76,
          77,
          78,
          79,
          80,
          81,
          82,
          83,
          84,
          85,
          86,
          87,
          88,
          89,
          90,
          91,
          92,
          93,
          94,
          95,
          96,
          97,
          98,
          99,
          100,
          101,
          102,
          103,
          104,
          105,
          106
         ],
         "xaxis": "x",
         "y": [
          0.33606797538165706,
          0.33724928366117957,
          0.336593785954419,
          0.3381807812881251,
          0.33920955359038557,
          0.33932135727897883,
          0.33904109588396036,
          0.3391428571363973,
          0.3388666284995446,
          0.33907550961165517,
          0.33961725220718614,
          0.3402266288887587,
          0.3397921931977947,
          0.3393804074734509,
          0.33732970026635184,
          0.3342428376473989,
          0.33684210525709685,
          0.3364155561538136,
          0.33715846993921383,
          0.3336081340966638,
          0.3363412633244674,
          0.33461750136975577,
          0.3346153846092561,
          0.3342511013154506,
          0.3352601156007843,
          0.3338824821465517,
          0.33488372092412433,
          0.335798411388007,
          0.33910820788906354,
          0.3338879644974323,
          0.33288117199614975,
          0.33032155194737667,
          0.33394931361608676,
          0.33439321674025096,
          0.3318314338663869,
          0.33155934006862586,
          0.33102529959465554,
          0.3331957060234903,
          0.3325782537021887,
          0.3348296266022604,
          0.3361788617840626,
          0.3362992922098241,
          0.3370310609071261,
          0.33615990308451227,
          0.3363101278623055,
          0.33557320300908744,
          0.33584521384472715,
          0.3331264225073022,
          0.3336787564720735,
          0.337449435805302,
          0.3378205128157006,
          0.34019961774842217,
          0.3406058038503056,
          0.3409856781754987,
          0.338601428875823,
          0.3389350070818798,
          0.3385458976396081,
          0.33771029954400617,
          0.3400817995863656,
          0.33842705786011373,
          0.33901399877812927,
          0.33997965411542924,
          0.3393866020939012,
          0.33885298868687597,
          0.3387358184719242,
          0.33889001829180876,
          0.33660267111384806,
          0.3362978283304199,
          0.3396035598659708,
          0.3392820928771813,
          0.340612244893325,
          0.33501153765002434,
          0.3362831858359842,
          0.33565107458441273,
          0.3368421052584303,
          0.3391340376998946,
          0.3398963730522985,
          0.34130255564246625,
          0.3415983606510711,
          0.34125358459181687,
          0.33675823023223933,
          0.33702928869822835,
          0.33698741371854124,
          0.3383397604987709,
          0.3408865036726842,
          0.3409900990053995,
          0.3415068222221144,
          0.3373031893374068,
          0.33756805807168694,
          0.3378378375334794,
          0.333333333037037,
          0.3378378375334794,
          0.32432432403214023,
          0.333333333037037,
          0.3378378375334794,
          0.32432432403214023,
          0.333333333037037,
          0.32432432403214023,
          0.333333333037037,
          0.3378378375334794,
          0.333333333037037,
          0.333333333037037,
          0.333333333037037,
          0.3287671229874273,
          0.333333333037037,
          0.333333333037037,
          0.3378378375334794
         ],
         "yaxis": "y"
        },
        {
         "hovertemplate": "variable=pr2<br>id=2251440776<br>rq=%{x}<br>value=%{y}<extra></extra>",
         "legendgroup": "pr2",
         "line": {
          "color": "#636efa",
          "dash": "solid"
         },
         "marker": {
          "symbol": "circle"
         },
         "mode": "lines",
         "name": "pr2",
         "showlegend": false,
         "type": "scattergl",
         "x": [
          0,
          1,
          2,
          3,
          4,
          5,
          6,
          7,
          8,
          9,
          10,
          11,
          12,
          13,
          14,
          15,
          16,
          17,
          18,
          19,
          20,
          21,
          22,
          23,
          24,
          25,
          26,
          27,
          28,
          29,
          30,
          31,
          32,
          33,
          34,
          35,
          36,
          37,
          38,
          39,
          40,
          41,
          42,
          43,
          44,
          45,
          46,
          47,
          48,
          49,
          50,
          51,
          52,
          53,
          54,
          55,
          56,
          57,
          58,
          59,
          60,
          61,
          62,
          63,
          64,
          65,
          66,
          67,
          68,
          69,
          70,
          71,
          72,
          73,
          74,
          75,
          76,
          77,
          78,
          79,
          80,
          81,
          82,
          83,
          84,
          85,
          86,
          87,
          88,
          89,
          90,
          91,
          92,
          93,
          94,
          95,
          96,
          97,
          98,
          99,
          100,
          101,
          102,
          103,
          104,
          105,
          106
         ],
         "xaxis": "x2",
         "y": [
          0.299401197485269,
          0.2468354429338247,
          0.254054053962503,
          0.2765957445827674,
          0.2751322750352267,
          0.24999999988425925,
          0.3281249996582031,
          0.333333332996633,
          0.333333332996633,
          0.32835820862849924,
          0.3432835817479765,
          0.38461538428665343,
          0.32727272707438015,
          0.3357400721213622,
          0.3229508196603661,
          0.32855731224214235,
          0.31694828467940095,
          0.31881804042444034,
          0.3299646285891876,
          0.3278931750633731,
          0.3018018017866966,
          0.292246520865068,
          0.3303312962296488,
          0.33185316754821687,
          0.3636363636279197,
          0.3209328150967808,
          0.3320353063286252,
          0.3092783505098702,
          0.3143312101844091,
          0.30674846625169444,
          0.32462686566587373,
          0.251227495901494,
          0.32750269105978647,
          0.3694110391536764,
          0.322615219715566,
          0.334813992220344,
          0.3281584582382555,
          0.3423019431646934,
          0.33748271089557563,
          0.35694822885041344,
          0.36005256238632916,
          0.3453815260735938,
          0.3711734693561927,
          0.3618677042488658,
          0.36107382547104483,
          0.36816720253288676,
          0.3571428570578231,
          0.35912408755628966,
          0.3413848630873446,
          0.2668621700749334,
          0.33144933386269815,
          0.3273899848172132,
          0.32319688108321776,
          0.3297297297212425,
          0.3203696572886569,
          0.3374233128753176,
          0.33781094526242744,
          0.3371790100400154,
          0.3276051188219962,
          0.31877082561227277,
          0.3333333333254363,
          0.33155270654483493,
          0.32994389901052024,
          0.33317624881139885,
          0.32178037211913463,
          0.33519970137277094,
          0.33763440859246924,
          0.2872692853671788,
          0.33552631577815367,
          0.3364605543614368,
          0.3295833333241783,
          0.3213378492712013,
          0.3389074693296578,
          0.331779331773603,
          0.3162790697585263,
          0.33401015227861236,
          0.32983245810903,
          0.3293844965176515,
          0.32977370963082,
          0.32510504201111506,
          0.3147832024510121,
          0.33266482827220417,
          0.30004943152743285,
          0.322688642796417,
          0.3286132812446515,
          0.3311387466417761,
          0.3309773336529209,
          0.3292322834591661,
          0.2999243570272334,
          0.3387804877993694,
          0.3372262773667928,
          0.3357348703116277,
          0.3424323665554889,
          0.34115569012799807,
          0.33463414633602223,
          0.37581141099246534,
          0.36501766783592415,
          0.33412830908126034,
          0.35918972331424254,
          0.34018211533442005,
          0.3378315495526938,
          0.34648700673168936,
          0.3366658916478855,
          0.4226503210576902,
          0.331319478003362,
          0.3360381861521712,
          0.332367149753102
         ],
         "yaxis": "y2"
        },
        {
         "hovertemplate": "variable=pr2<br>id=2471562086<br>rq=%{x}<br>value=%{y}<extra></extra>",
         "legendgroup": "pr2",
         "line": {
          "color": "#636efa",
          "dash": "solid"
         },
         "marker": {
          "symbol": "circle"
         },
         "mode": "lines",
         "name": "pr2",
         "showlegend": false,
         "type": "scattergl",
         "x": [
          0,
          1,
          2,
          3,
          4,
          5,
          6,
          7,
          8,
          9,
          10,
          11,
          12,
          13,
          14,
          15,
          16,
          17,
          18,
          19,
          20,
          21,
          22,
          23,
          24,
          25,
          26,
          27,
          28,
          29,
          30,
          31,
          32,
          33,
          34,
          35,
          36,
          37,
          38,
          39,
          40,
          41,
          42,
          43,
          44,
          45,
          46,
          47,
          48,
          49,
          50,
          51,
          52,
          53,
          54,
          55,
          56,
          57,
          58,
          59,
          60,
          61,
          62,
          63,
          64,
          65,
          66,
          67,
          68,
          69,
          70,
          71,
          72,
          73,
          74,
          75,
          76,
          77,
          78,
          79,
          80,
          81,
          82,
          83,
          84,
          85,
          86,
          87,
          88,
          89,
          90,
          91,
          92,
          93,
          94,
          95,
          96,
          97,
          98,
          99,
          100,
          101,
          102,
          103,
          104,
          105,
          106
         ],
         "xaxis": "x3",
         "y": [
          0.33678756475956845,
          0.3489583333257605,
          0.35514018690897314,
          0.329999999993125,
          0.3244680850991917,
          0.33155080213164995,
          0.32291666665965896,
          0.33980582523584535,
          0.31862745097388423,
          0.31862745097388423,
          0.32352941175809785,
          0.32160804019427114,
          0.32835820894841716,
          0.3267326732605872,
          0.3443396226347417,
          0.3380952380885298,
          0.3441860465049576,
          0.3441860465049576,
          0.34090909090263427,
          0.3470319634637171,
          0.34684684684033695,
          0.35227272726716746,
          0.3409961685769317,
          0.34351145037621644,
          0.3524904214503114,
          0.3496240601448994,
          0.42431761786161787,
          0.35664335663816077,
          0.352112676051172,
          0.3591549295721955,
          0.35772357723173304,
          0.3542234332384852,
          0.35127478753126445,
          0.35087719297818126,
          0.3618784530345088,
          0.357142857138769,
          0.3532608695612176,
          0.34798534798003683,
          0.350180505409895,
          0.3382352941124658,
          0.352112676051172,
          0.3380782918099336,
          0.34736842104755306,
          0.3453237410020185,
          0.3381818181766942,
          0.3527272727219284,
          0.3458646616487177,
          0.3449612403045064,
          0.3437499999944051,
          0.33840304181973374,
          0.3333333333281893,
          0.32958801497613005,
          0.33834586465635424,
          0.33333333332807236,
          0.3382352941124658,
          0.33884297520077755,
          0.33609958505642984,
          0.33730158729601023,
          0.3235294117590418,
          0.32608695651583175,
          0.3348214285652005,
          0.32894736841504113,
          0.3362068965456859,
          0.33476394849186764,
          0.3319327731034325,
          0.326612903220319,
          0.35185185184642204,
          0.35074626865126324,
          0.34701492536773915,
          0.34482758620139164,
          0.3503937007816536,
          0.3478260869512707,
          0.33948339482872875,
          0.3512544802814926,
          0.34408602150023765,
          0.35521235520664074,
          0.3524904214503115,
          0.3517786561206887,
          0.3527131782888773,
          0.3486590038258516,
          0.3498098859260169,
          0.36296296295736163,
          0.35277777777369473,
          0.3471074380125447,
          0.3508287292777299,
          0.35211267605220525,
          0.357142857138769,
          0.35120643431243065,
          0.34782608695258344,
          0.36012861735851914,
          0.36190476189997484,
          0.3639240506281128,
          0.35483870967265,
          0.36655948552563555,
          0.3527508090567321,
          0.3583061889202184,
          0.35759493670414566,
          0.355987055011381,
          0.3588039867059966,
          0.3545150501622838,
          0.36666666666157405,
          0.353135313526497,
          0.3521594684336633,
          0.3545150501622838,
          0.36065573769999104,
          0.35197368420570213,
          0.3498349834935391
         ],
         "yaxis": "y3"
        },
        {
         "hovertemplate": "variable=pr2<br>id=2717225084<br>rq=%{x}<br>value=%{y}<extra></extra>",
         "legendgroup": "pr2",
         "line": {
          "color": "#636efa",
          "dash": "solid"
         },
         "marker": {
          "symbol": "circle"
         },
         "mode": "lines",
         "name": "pr2",
         "showlegend": false,
         "type": "scattergl",
         "x": [
          0,
          1,
          2,
          3,
          4,
          5,
          6,
          7,
          8,
          9,
          10,
          11,
          12,
          13,
          14,
          15,
          16,
          17,
          18,
          19,
          20,
          21,
          22,
          23,
          24,
          25,
          26,
          27,
          28,
          29,
          30,
          31,
          32,
          33,
          34,
          35,
          36,
          37,
          38,
          39,
          40,
          41,
          42,
          43,
          44,
          45,
          46,
          47,
          48,
          49,
          50,
          51,
          52,
          53,
          54,
          55,
          56,
          57,
          58,
          59,
          60,
          61,
          62,
          63,
          64,
          65,
          66,
          67,
          68,
          69,
          70,
          71,
          72,
          73,
          74,
          75,
          76,
          77,
          78,
          79,
          80,
          81,
          82,
          83,
          84,
          85,
          86,
          87,
          88,
          89,
          90,
          91,
          92,
          93,
          94,
          95,
          96,
          97,
          98,
          99,
          100,
          101,
          102,
          103,
          104,
          105,
          106
         ],
         "xaxis": "x4",
         "y": [
          0.3179916317925106,
          0.31932773108572843,
          0.319502074682168,
          0.3134920634858434,
          0.3083003952508241,
          0.30799999999384,
          0.30799999999384,
          0.30645161289704737,
          0.3198380566736875,
          0.3168724279770191,
          0.3107569721053634,
          0.31199999999376,
          0.3198380566736875,
          0.30555555554949293,
          0.3905723905658153,
          0.39310344826908444,
          0.3811188811122182,
          0.3758389261681906,
          0.384353741490062,
          0.38047138046497525,
          0.3807947019804504,
          0.3788819875717565,
          0.3765822784750541,
          0.3766233766172626,
          0.3793103448216409,
          0.37539432176064047,
          0.38006230529003016,
          0.37463126843105266,
          0.3691860465062618,
          0.3843930635782602,
          0.35972850678326096,
          0.35928143712216287,
          0.3408163265271345,
          0.3503054989781028,
          0.3638132295684454,
          0.35873605947621995,
          0.3624999999967634,
          0.35752688171562463,
          0.3557422969137851,
          0.3567251461936151,
          0.3613445378100652,
          0.3626666666618311,
          0.36553524803700344,
          0.3631436314313937,
          0.36927223719178875,
          0.37096774193049775,
          0.3743315507971346,
          0.3636363636315022,
          0.3663101604229103,
          0.3539603960352233,
          0.3516746411441187,
          0.3573200992511499,
          0.3604938271560433,
          0.36069651740844905,
          0.35467980295129703,
          0.3427835051502219,
          0.34883720929781864,
          0.36619718309429344,
          0.34285714285306124,
          0.3351351351306063,
          0.3361111111064429,
          0.33791208790744626,
          0.34308510637841644,
          0.34293193716828624,
          0.33678756476247684,
          0.34170854270927503,
          0.3559322033855214,
          0.34862385320701117,
          0.35211267605220525,
          0.339950372204219,
          0.3445595854877648,
          0.35309278350060447,
          0.3403141361212001,
          0.36768802227900155,
          0.3552631578900623,
          0.356020942403717,
          0.345013477084299,
          0.3401162790648239,
          0.36079545454032963,
          0.36290322580157386,
          0.35248041774996763,
          0.35324675324216565,
          0.3465045592652507,
          0.34472049688905715,
          0.3624999999943359,
          0.34967320260866547,
          0.3589743589686062,
          0.3461538461487255,
          0.34017595307419096,
          0.34488448844599934,
          0.34276206322510183,
          0.3513513513483839,
          0.34871794871496825,
          0.355108877718969,
          0.3389830508445849,
          0.34615384615082034,
          0.3472454090121265,
          0.3390119250397018,
          0.3495495495464005,
          0.34917733089260355,
          0.3470483005335685,
          0.3465703971087855,
          0.3463587921816487,
          0.350442477873005,
          0.3532513180988291,
          0.3423423423392582,
          0.34727272726957026
         ],
         "yaxis": "y4"
        },
        {
         "hovertemplate": "variable=pr3<br>id=855996491<br>rq=%{x}<br>value=%{y}<extra></extra>",
         "legendgroup": "pr3",
         "line": {
          "color": "#EF553B",
          "dash": "solid"
         },
         "marker": {
          "symbol": "circle"
         },
         "mode": "lines",
         "name": "pr3",
         "showlegend": true,
         "type": "scattergl",
         "x": [
          0,
          1,
          2,
          3,
          4,
          5,
          6,
          7,
          8,
          9,
          10,
          11,
          12,
          13,
          14,
          15,
          16,
          17,
          18,
          19,
          20,
          21,
          22,
          23,
          24,
          25,
          26,
          27,
          28,
          29,
          30,
          31,
          32,
          33,
          34,
          35,
          36,
          37,
          38,
          39,
          40,
          41,
          42,
          43,
          44,
          45,
          46,
          47,
          48,
          49,
          50,
          51,
          52,
          53,
          54,
          55,
          56,
          57,
          58,
          59,
          60,
          61,
          62,
          63,
          64,
          65,
          66,
          67,
          68,
          69,
          70,
          71,
          72,
          73,
          74,
          75,
          76,
          77,
          78,
          79,
          80,
          81,
          82,
          83,
          84,
          85,
          86,
          87,
          88,
          89,
          90,
          91,
          92,
          93,
          94,
          95,
          96,
          97,
          98,
          99,
          100,
          101,
          102,
          103,
          104,
          105,
          106
         ],
         "xaxis": "x",
         "y": [
          0.33489598592958497,
          0.3363896848073278,
          0.33544303796825004,
          0.3373253492949848,
          0.3366505544434338,
          0.3370402052972714,
          0.33675799086117275,
          0.3374285714221442,
          0.3362907841950717,
          0.33907550961165517,
          0.3370465581198315,
          0.3379603399369601,
          0.33670317325963295,
          0.33714764163480976,
          0.3365122615742686,
          0.3375170531998633,
          0.33576248312486257,
          0.3350557519656413,
          0.3357923497206595,
          0.3374553448687835,
          0.3360678151429028,
          0.3343423225034977,
          0.3343406593345359,
          0.3331497797295678,
          0.33415909715874564,
          0.33498077978519164,
          0.3343365253016993,
          0.3341550260141668,
          0.3405282590108771,
          0.33222407098664775,
          0.33884970156739286,
          0.337762423592209,
          0.337909186900072,
          0.33783783783187,
          0.33845746090046014,
          0.33767961681146563,
          0.33661784287018875,
          0.3381502890126872,
          0.33772652388333707,
          0.33748214649612346,
          0.3382113821092383,
          0.3379170879630884,
          0.33803953206483744,
          0.3377750858020354,
          0.3381367972351243,
          0.33781307268936656,
          0.33808553971027716,
          0.33767846057883055,
          0.338860103622261,
          0.34064296358894836,
          0.3410256410207831,
          0.34083669568428065,
          0.3412412624395786,
          0.3407750631797139,
          0.341848885035118,
          0.33994735776014107,
          0.34017059300920427,
          0.3383258104180232,
          0.34089979549637495,
          0.3396495517476277,
          0.33941976059593665,
          0.3407934893137905,
          0.33999192897040637,
          0.3394588045188549,
          0.33995137762912003,
          0.3399064850533319,
          0.3420283806296323,
          0.3416752843799838,
          0.34061488672679857,
          0.3396876901191146,
          0.3397959183627239,
          0.339207048453406,
          0.3394437420938412,
          0.3415507795990792,
          0.3433684210478124,
          0.3418272218722212,
          0.342176165798381,
          0.3435696619903329,
          0.3436475409789119,
          0.3433019254357053,
          0.34325854476349676,
          0.34330543932575586,
          0.3434835566335975,
          0.34483458493545993,
          0.3432717153601899,
          0.34297029702517534,
          0.34229780501822815,
          0.34335890189283597,
          0.3434160112879826,
          0.32432432403214023,
          0.333333333037037,
          0.3378378375334794,
          0.3378378375334794,
          0.333333333037037,
          0.32432432403214023,
          0.3378378375334794,
          0.333333333037037,
          0.3378378375334794,
          0.333333333037037,
          0.32432432403214023,
          0.333333333037037,
          0.333333333037037,
          0.333333333037037,
          0.3424657531119034,
          0.333333333037037,
          0.333333333037037,
          0.32432432403214023
         ],
         "yaxis": "y"
        },
        {
         "hovertemplate": "variable=pr3<br>id=2251440776<br>rq=%{x}<br>value=%{y}<extra></extra>",
         "legendgroup": "pr3",
         "line": {
          "color": "#EF553B",
          "dash": "solid"
         },
         "marker": {
          "symbol": "circle"
         },
         "mode": "lines",
         "name": "pr3",
         "showlegend": false,
         "type": "scattergl",
         "x": [
          0,
          1,
          2,
          3,
          4,
          5,
          6,
          7,
          8,
          9,
          10,
          11,
          12,
          13,
          14,
          15,
          16,
          17,
          18,
          19,
          20,
          21,
          22,
          23,
          24,
          25,
          26,
          27,
          28,
          29,
          30,
          31,
          32,
          33,
          34,
          35,
          36,
          37,
          38,
          39,
          40,
          41,
          42,
          43,
          44,
          45,
          46,
          47,
          48,
          49,
          50,
          51,
          52,
          53,
          54,
          55,
          56,
          57,
          58,
          59,
          60,
          61,
          62,
          63,
          64,
          65,
          66,
          67,
          68,
          69,
          70,
          71,
          72,
          73,
          74,
          75,
          76,
          77,
          78,
          79,
          80,
          81,
          82,
          83,
          84,
          85,
          86,
          87,
          88,
          89,
          90,
          91,
          92,
          93,
          94,
          95,
          96,
          97,
          98,
          99,
          100,
          101,
          102,
          103,
          104,
          105,
          106
         ],
         "xaxis": "x2",
         "y": [
          0.2934131735355636,
          0.259493670776585,
          0.28108108097979057,
          0.26595744671419946,
          0.2962962961917826,
          0.2430555554430298,
          0.3281249996582031,
          0.333333332996633,
          0.333333332996633,
          0.32835820862849924,
          0.32835820862849924,
          0.3461538458579881,
          0.3909090906721763,
          0.33212996381898197,
          0.3289617486218957,
          0.3330039525582014,
          0.33640552994243367,
          0.3328149300040499,
          0.3284487114593751,
          0.3358061325309658,
          0.3490990990816266,
          0.333996023845792,
          0.3293663557343333,
          0.33126110123680164,
          0.37791710204625756,
          0.3392559688998842,
          0.3364485981250182,
          0.3437330439438645,
          0.3573248407567447,
          0.31989482909105277,
          0.33582089551642114,
          0.29009819966475453,
          0.3377287405752112,
          0.330866481645989,
          0.3378885316123993,
          0.3234314269790222,
          0.34073875802389825,
          0.33482810161087917,
          0.3526970954031631,
          0.343324250650016,
          0.35611038104633286,
          0.35876840692915946,
          0.35076530609262196,
          0.3359273670267248,
          0.33288590601048,
          0.3183279742424086,
          0.4107142856164966,
          0.3664233576285719,
          0.3252818035077529,
          0.3511730205106953,
          0.3245861929666374,
          0.337253414255507,
          0.3399610136363883,
          0.33204633203778516,
          0.3265306122365157,
          0.33958859616649617,
          0.33930348257581083,
          0.32266468179325974,
          0.3356489945073577,
          0.3428359866631412,
          0.3368869935954303,
          0.3351139601060039,
          0.33695652173125396,
          0.3232799245892781,
          0.33929222910520995,
          0.3240014930863755,
          0.32387096773264884,
          0.34406057736727996,
          0.32236842104175545,
          0.3189765458331492,
          0.3312499999907986,
          0.3336155800075186,
          0.3717948717810555,
          0.33333333332757775,
          0.3048625792725902,
          0.33375634517201763,
          0.3340835208746506,
          0.33015709502394786,
          0.33358759216317335,
          0.33219537814544475,
          0.36189825878315923,
          0.33291551766803845,
          0.35491843795172456,
          0.3237187741381454,
          0.3354492187445402,
          0.33430870518842054,
          0.33292712648740064,
          0.3375984251913124,
          0.35854765505903813,
          0.33731707316524684,
          0.33065693430120585,
          0.33357348702635975,
          0.3392639531994595,
          0.33030532424374953,
          0.33609756097014476,
          0.39050222069489804,
          0.3611307420409628,
          0.33651323634094105,
          0.3362154150142257,
          0.33597945364875115,
          0.33434155420607503,
          0.33638113570201505,
          0.3331783306156215,
          0.4086398131773248,
          0.33204446592021836,
          0.33221957040044203,
          0.3359903381588407
         ],
         "yaxis": "y2"
        },
        {
         "hovertemplate": "variable=pr3<br>id=2471562086<br>rq=%{x}<br>value=%{y}<extra></extra>",
         "legendgroup": "pr3",
         "line": {
          "color": "#EF553B",
          "dash": "solid"
         },
         "marker": {
          "symbol": "circle"
         },
         "mode": "lines",
         "name": "pr3",
         "showlegend": false,
         "type": "scattergl",
         "x": [
          0,
          1,
          2,
          3,
          4,
          5,
          6,
          7,
          8,
          9,
          10,
          11,
          12,
          13,
          14,
          15,
          16,
          17,
          18,
          19,
          20,
          21,
          22,
          23,
          24,
          25,
          26,
          27,
          28,
          29,
          30,
          31,
          32,
          33,
          34,
          35,
          36,
          37,
          38,
          39,
          40,
          41,
          42,
          43,
          44,
          45,
          46,
          47,
          48,
          49,
          50,
          51,
          52,
          53,
          54,
          55,
          56,
          57,
          58,
          59,
          60,
          61,
          62,
          63,
          64,
          65,
          66,
          67,
          68,
          69,
          70,
          71,
          72,
          73,
          74,
          75,
          76,
          77,
          78,
          79,
          80,
          81,
          82,
          83,
          84,
          85,
          86,
          87,
          88,
          89,
          90,
          91,
          92,
          93,
          94,
          95,
          96,
          97,
          98,
          99,
          100,
          101,
          102,
          103,
          104,
          105,
          106
         ],
         "xaxis": "x3",
         "y": [
          0.3316062176094212,
          0.33333333332609955,
          0.341121495320461,
          0.329999999993125,
          0.3244680850991917,
          0.33155080213164995,
          0.3281249999928792,
          0.330097087371964,
          0.3382352941107386,
          0.333333333326525,
          0.3284313725423115,
          0.32663316582230667,
          0.32835820894841716,
          0.3267326732605872,
          0.339622641502759,
          0.34285714285034014,
          0.3348837209237426,
          0.3441860465049576,
          0.3318181818118974,
          0.3424657534181419,
          0.342342342335917,
          0.35227272726716746,
          0.3409961685769317,
          0.34351145037621644,
          0.3333333333280119,
          0.3458646616487177,
          0.3697270471425793,
          0.3356643356594454,
          0.34859154929066033,
          0.3415492957696369,
          0.34688346883077137,
          0.3460490463175971,
          0.3371104815824232,
          0.34502923976187827,
          0.34254143646014573,
          0.34340659340266244,
          0.34510869564826646,
          0.3516483516429846,
          0.3465703971067002,
          0.3455882352888237,
          0.34859154929066033,
          0.3380782918099336,
          0.3368421052582333,
          0.33812949639780976,
          0.3381818181766942,
          0.3418181818130027,
          0.3308270676639908,
          0.3488372092966919,
          0.3476562499943415,
          0.3498098859260169,
          0.35185185184642204,
          0.3408239700321345,
          0.33834586465635424,
          0.3446969696915294,
          0.3492647058770027,
          0.33884297520077755,
          0.33609958505642984,
          0.33730158729601023,
          0.3319327731034325,
          0.33043478260270953,
          0.3348214285652005,
          0.33771929823944224,
          0.3405172413731947,
          0.3390557939853531,
          0.3445378151200186,
          0.3467741935425609,
          0.3407407407354824,
          0.35074626865126324,
          0.3432835820842151,
          0.33716475095247184,
          0.3307086614118978,
          0.3514492753570131,
          0.3321033210281042,
          0.3476702508908651,
          0.3512544802814926,
          0.335907335901932,
          0.33716475095247184,
          0.3399209486110026,
          0.3449612403045064,
          0.34482758620139164,
          0.3498098859260169,
          0.3444444444391289,
          0.3472222222182034,
          0.3471074380125447,
          0.33977900552095097,
          0.33521126760169945,
          0.33791208790821986,
          0.34852546916500754,
          0.3451086956482664,
          0.3440514469407281,
          0.3428571428526077,
          0.34493670885621125,
          0.34193548386637185,
          0.3376205787736117,
          0.3495145631020832,
          0.3452768729594832,
          0.3512658227801785,
          0.3462783171474343,
          0.3455149501613301,
          0.34113712374106553,
          0.3399999999952778,
          0.3498349834935391,
          0.34219269102516336,
          0.34113712374106553,
          0.3442622950772642,
          0.3453947368373712,
          0.3498349834935391
         ],
         "yaxis": "y3"
        },
        {
         "hovertemplate": "variable=pr3<br>id=2717225084<br>rq=%{x}<br>value=%{y}<extra></extra>",
         "legendgroup": "pr3",
         "line": {
          "color": "#EF553B",
          "dash": "solid"
         },
         "marker": {
          "symbol": "circle"
         },
         "mode": "lines",
         "name": "pr3",
         "showlegend": false,
         "type": "scattergl",
         "x": [
          0,
          1,
          2,
          3,
          4,
          5,
          6,
          7,
          8,
          9,
          10,
          11,
          12,
          13,
          14,
          15,
          16,
          17,
          18,
          19,
          20,
          21,
          22,
          23,
          24,
          25,
          26,
          27,
          28,
          29,
          30,
          31,
          32,
          33,
          34,
          35,
          36,
          37,
          38,
          39,
          40,
          41,
          42,
          43,
          44,
          45,
          46,
          47,
          48,
          49,
          50,
          51,
          52,
          53,
          54,
          55,
          56,
          57,
          58,
          59,
          60,
          61,
          62,
          63,
          64,
          65,
          66,
          67,
          68,
          69,
          70,
          71,
          72,
          73,
          74,
          75,
          76,
          77,
          78,
          79,
          80,
          81,
          82,
          83,
          84,
          85,
          86,
          87,
          88,
          89,
          90,
          91,
          92,
          93,
          94,
          95,
          96,
          97,
          98,
          99,
          100,
          101,
          102,
          103,
          104,
          105,
          106
         ],
         "xaxis": "x4",
         "y": [
          0.32635983262915563,
          0.32352941175790906,
          0.3236514522754429,
          0.32936507935854437,
          0.3201581027604712,
          0.32399999999351997,
          0.3199999999936,
          0.3225806451547867,
          0.32388663966955694,
          0.32510288065174686,
          0.31872509959524453,
          0.31199999999376,
          0.32388663966955694,
          0.30952380951766817,
          0.3434343434285617,
          0.3275862068909037,
          0.3356643356584674,
          0.34563758388681814,
          0.3333333333276644,
          0.33670033669466837,
          0.33774834436526907,
          0.33850931676492996,
          0.3354430379693759,
          0.331168831163455,
          0.34169278996329633,
          0.33438485803888984,
          0.33333333332814125,
          0.33923303834307916,
          0.3401162790648239,
          0.3352601156020916,
          0.34162895927215353,
          0.3413173652660547,
          0.3326530612210954,
          0.3380855397114248,
          0.340466926066727,
          0.34200743494105945,
          0.34285714285408164,
          0.35752688171562463,
          0.347338935569365,
          0.3421052631528932,
          0.34453781512122494,
          0.34933333332867555,
          0.34203655352033896,
          0.34146341462951946,
          0.34770889487402007,
          0.34677419354372613,
          0.34759358288305353,
          0.35294117646586975,
          0.358288770048686,
          0.34900990098577955,
          0.3516746411441187,
          0.334987593047953,
          0.33580246913165673,
          0.34328358208528253,
          0.3497536945769735,
          0.3427835051502219,
          0.33850129198529066,
          0.34507042253116116,
          0.33095238094844104,
          0.3270270270226077,
          0.3305555555509645,
          0.3324175824130162,
          0.3351063829742672,
          0.33507853402702775,
          0.3445595854877648,
          0.3442211055233138,
          0.3607748183975693,
          0.3577981651335115,
          0.3403755868504651,
          0.337468982626086,
          0.3393782383375728,
          0.3685567010261784,
          0.35340314135663087,
          0.36768802227900155,
          0.3684210526267313,
          0.34293193716828624,
          0.3396226415048568,
          0.3343023255765363,
          0.35795454544946087,
          0.35752688171562463,
          0.35770234986478194,
          0.3636363636316411,
          0.3586626139763121,
          0.36024844719937504,
          0.3406249999946777,
          0.34640522875250973,
          0.34294871794322196,
          0.36094674555679074,
          0.35777126099182155,
          0.3580858085779036,
          0.35607321131151354,
          0.3462837837808591,
          0.34358974358680694,
          0.34505862646277174,
          0.35593220338681414,
          0.3601398601367121,
          0.35559265442107185,
          0.3526405451418004,
          0.3495495495464005,
          0.35100548445748625,
          0.3470483005335685,
          0.34476534295717726,
          0.34813499111591356,
          0.34867256636859584,
          0.34797891036601075,
          0.3603603603571139,
          0.3672727272693885
         ],
         "yaxis": "y4"
        },
        {
         "hovertemplate": "variable=pr4<br>id=855996491<br>rq=%{x}<br>value=%{y}<extra></extra>",
         "legendgroup": "pr4",
         "line": {
          "color": "#00cc96",
          "dash": "solid"
         },
         "marker": {
          "symbol": "circle"
         },
         "mode": "lines",
         "name": "pr4",
         "showlegend": true,
         "type": "scattergl",
         "x": [
          0,
          1,
          2,
          3,
          4,
          5,
          6,
          7,
          8,
          9,
          10,
          11,
          12,
          13,
          14,
          15,
          16,
          17,
          18,
          19,
          20,
          21,
          22,
          23,
          24,
          25,
          26,
          27,
          28,
          29,
          30,
          31,
          32,
          33,
          34,
          35,
          36,
          37,
          38,
          39,
          40,
          41,
          42,
          43,
          44,
          45,
          46,
          47,
          48,
          49,
          50,
          51,
          52,
          53,
          54,
          55,
          56,
          57,
          58,
          59,
          60,
          61,
          62,
          63,
          64,
          65,
          66,
          67,
          68,
          69,
          70,
          71,
          72,
          73,
          74,
          75,
          76,
          77,
          78,
          79,
          80,
          81,
          82,
          83,
          84,
          85,
          86,
          87,
          88,
          89,
          90,
          91,
          92,
          93,
          94,
          95,
          96,
          97,
          98,
          99,
          100,
          101,
          102,
          103,
          104,
          105,
          106
         ],
         "xaxis": "x",
         "y": [
          0.32903603866922476,
          0.32636103151239043,
          0.32796317605815184,
          0.32449386939788055,
          0.32413989194722514,
          0.3236384374047403,
          0.32420091323584094,
          0.3234285714224109,
          0.32484258728630333,
          0.32184898075754903,
          0.32333618965394006,
          0.3218130311553954,
          0.32350463352385084,
          0.32347195087313285,
          0.32615803814121425,
          0.32824010913454765,
          0.3273954116000468,
          0.3285286918624145,
          0.3270491803219117,
          0.3289365210162328,
          0.32759092151439995,
          0.3310401761084014,
          0.33104395603789294,
          0.3325991189366263,
          0.33058078722211987,
          0.33113673804995175,
          0.3307797537559365,
          0.3300465625795664,
          0.32036353308112536,
          0.3338879644974323,
          0.32826912641837097,
          0.33191602444269785,
          0.3281414994662417,
          0.3277689454102143,
          0.32971110521548347,
          0.3307610431021685,
          0.3323568575174015,
          0.32865400495005986,
          0.32969522240074556,
          0.3276882268880135,
          0.3256097560931489,
          0.3257836198136059,
          0.32492940701459017,
          0.32606501109999236,
          0.32555307488903923,
          0.32661372428797103,
          0.32606924643141794,
          0.32919511690007314,
          0.32746113989184855,
          0.32190760059155626,
          0.3211538461492713,
          0.3189636865531399,
          0.3181529336959944,
          0.3182392586307465,
          0.3195496860746258,
          0.3211176351444811,
          0.3212835093376485,
          0.32396389002429266,
          0.3190184049036262,
          0.3219233903786753,
          0.3215662406124086,
          0.31922685655721633,
          0.32062146892224075,
          0.32168820678080656,
          0.3213128038854496,
          0.32120349664130643,
          0.3213689482426076,
          0.32202688727580797,
          0.3197815533937462,
          0.32103021699018414,
          0.3195918367303457,
          0.3257814138825847,
          0.32427307205612765,
          0.322798145802461,
          0.3197894736797222,
          0.3190387404140731,
          0.3179274611355036,
          0.3151277823534607,
          0.3147540983563558,
          0.3154444899588223,
          0.3199832249902847,
          0.3196652719620688,
          0.31952902963432767,
          0.3168256545522384,
          0.3158417809538748,
          0.3160396039562239,
          0.3161953727464742,
          0.31933790875630014,
          0.319015930626887,
          0.3378378375334794,
          0.333333333037037,
          0.32432432403214023,
          0.3378378375334794,
          0.333333333037037,
          0.3378378375334794,
          0.3378378375334794,
          0.333333333037037,
          0.3378378375334794,
          0.333333333037037,
          0.3378378375334794,
          0.333333333037037,
          0.333333333037037,
          0.333333333037037,
          0.3287671229874273,
          0.333333333037037,
          0.333333333037037,
          0.3378378375334794
         ],
         "yaxis": "y"
        },
        {
         "hovertemplate": "variable=pr4<br>id=2251440776<br>rq=%{x}<br>value=%{y}<extra></extra>",
         "legendgroup": "pr4",
         "line": {
          "color": "#00cc96",
          "dash": "solid"
         },
         "marker": {
          "symbol": "circle"
         },
         "mode": "lines",
         "name": "pr4",
         "showlegend": false,
         "type": "scattergl",
         "x": [
          0,
          1,
          2,
          3,
          4,
          5,
          6,
          7,
          8,
          9,
          10,
          11,
          12,
          13,
          14,
          15,
          16,
          17,
          18,
          19,
          20,
          21,
          22,
          23,
          24,
          25,
          26,
          27,
          28,
          29,
          30,
          31,
          32,
          33,
          34,
          35,
          36,
          37,
          38,
          39,
          40,
          41,
          42,
          43,
          44,
          45,
          46,
          47,
          48,
          49,
          50,
          51,
          52,
          53,
          54,
          55,
          56,
          57,
          58,
          59,
          60,
          61,
          62,
          63,
          64,
          65,
          66,
          67,
          68,
          69,
          70,
          71,
          72,
          73,
          74,
          75,
          76,
          77,
          78,
          79,
          80,
          81,
          82,
          83,
          84,
          85,
          86,
          87,
          88,
          89,
          90,
          91,
          92,
          93,
          94,
          95,
          96,
          97,
          98,
          99,
          100,
          101,
          102,
          103,
          104,
          105,
          106
         ],
         "xaxis": "x2",
         "y": [
          0.4071856285799658,
          0.4936708858676494,
          0.464864864697346,
          0.45744680834842305,
          0.428571428420257,
          0.5069444442097478,
          0.34374999964192704,
          0.333333332996633,
          0.333333332996633,
          0.3432835817479765,
          0.32835820862849924,
          0.2692307690006574,
          0.2818181816473829,
          0.33212996381898197,
          0.3480874316813083,
          0.3384387351667181,
          0.3466461853440298,
          0.3483670295369494,
          0.3415866599177501,
          0.33630069237269034,
          0.3490990990816266,
          0.37375745525600534,
          0.3403023480145748,
          0.33688573119524595,
          0.25844653430260195,
          0.33981121598482666,
          0.3315160955290496,
          0.3469886055281789,
          0.32834394903761477,
          0.3733567046377766,
          0.3395522387999369,
          0.45867430440647367,
          0.3347685683470619,
          0.29972247917977757,
          0.3394962486541712,
          0.3417545807821256,
          0.3311027837200017,
          0.3228699551247763,
          0.30982019360905305,
          0.2997275204087441,
          0.28383705647973395,
          0.29585006690800086,
          0.2780612244661513,
          0.3022049286379417,
          0.3060402684289897,
          0.31350482311752365,
          0.23214285708758503,
          0.2744525547178148,
          0.3333333332975488,
          0.3819648093654954,
          0.3439644731437501,
          0.33535660090198893,
          0.33684210525440306,
          0.33822393821523233,
          0.3530997304491567,
          0.32298809093412756,
          0.32288557212859414,
          0.34015630814191394,
          0.3367458866462707,
          0.3383931876999039,
          0.3297796730554423,
          0.3333333333254194,
          0.3330995792348504,
          0.3435438265679063,
          0.3389273987513334,
          0.3407988055159687,
          0.338494623646208,
          0.3686701372339905,
          0.34210526314635276,
          0.34456289977698473,
          0.3391666666572454,
          0.3450465706930554,
          0.28929765885212566,
          0.3348873348815524,
          0.37885835094069464,
          0.3322335025324495,
          0.33608402099964846,
          0.3404584084412317,
          0.336638698189056,
          0.3426995798259331,
          0.32331853874306776,
          0.3344196540430447,
          0.3450321304878882,
          0.35359258304826857,
          0.33593749999453226,
          0.334552548153547,
          0.33609553984343005,
          0.3331692913331173,
          0.3415279878885142,
          0.3239024390191235,
          0.33211678831578073,
          0.3306916426460024,
          0.31830368022880323,
          0.3285389856114301,
          0.32926829267757285,
          0.23368636828986025,
          0.2738515900995559,
          0.32935845456189905,
          0.3045948616550626,
          0.3238384310012633,
          0.32782689622572003,
          0.3171318575502545,
          0.3301557777209927,
          0.16870986572606694,
          0.3366360560603087,
          0.33174224343147585,
          0.3316425120719542
         ],
         "yaxis": "y2"
        },
        {
         "hovertemplate": "variable=pr4<br>id=2471562086<br>rq=%{x}<br>value=%{y}<extra></extra>",
         "legendgroup": "pr4",
         "line": {
          "color": "#00cc96",
          "dash": "solid"
         },
         "marker": {
          "symbol": "circle"
         },
         "mode": "lines",
         "name": "pr4",
         "showlegend": false,
         "type": "scattergl",
         "x": [
          0,
          1,
          2,
          3,
          4,
          5,
          6,
          7,
          8,
          9,
          10,
          11,
          12,
          13,
          14,
          15,
          16,
          17,
          18,
          19,
          20,
          21,
          22,
          23,
          24,
          25,
          26,
          27,
          28,
          29,
          30,
          31,
          32,
          33,
          34,
          35,
          36,
          37,
          38,
          39,
          40,
          41,
          42,
          43,
          44,
          45,
          46,
          47,
          48,
          49,
          50,
          51,
          52,
          53,
          54,
          55,
          56,
          57,
          58,
          59,
          60,
          61,
          62,
          63,
          64,
          65,
          66,
          67,
          68,
          69,
          70,
          71,
          72,
          73,
          74,
          75,
          76,
          77,
          78,
          79,
          80,
          81,
          82,
          83,
          84,
          85,
          86,
          87,
          88,
          89,
          90,
          91,
          92,
          93,
          94,
          95,
          96,
          97,
          98,
          99,
          100,
          101,
          102,
          103,
          104,
          105,
          106
         ],
         "xaxis": "x3",
         "y": [
          0.3316062176094212,
          0.31770833332643866,
          0.30373831775109544,
          0.33999999999291663,
          0.35106382977945333,
          0.33689839571441843,
          0.3489583333257605,
          0.330097087371964,
          0.3431372548949522,
          0.34803921567916585,
          0.34803921567916585,
          0.3517587939624841,
          0.3432835820824361,
          0.3465346534581985,
          0.31603773584284517,
          0.3190476190412887,
          0.32093023255191994,
          0.3116279069707049,
          0.32727272726652895,
          0.31050228309911526,
          0.31081081080497724,
          0.29545454544988237,
          0.3180076628301723,
          0.3129770992316639,
          0.31417624520571236,
          0.3045112781907188,
          0.20595533498546365,
          0.30769230768782496,
          0.2992957746434962,
          0.2992957746434962,
          0.2953929539262038,
          0.2997275204325644,
          0.31161473087450875,
          0.3040935672477571,
          0.2955801104938354,
          0.2994505494471217,
          0.3016304347791935,
          0.300366300361716,
          0.30324909746836265,
          0.31617647058339193,
          0.2992957746434962,
          0.32384341636530484,
          0.3157894736795937,
          0.3165467625851836,
          0.32363636363146003,
          0.30545454544991735,
          0.3233082706716274,
          0.30620155038265173,
          0.3085937499949773,
          0.3117870722384064,
          0.31481481480995654,
          0.32958801497613005,
          0.3233082706716274,
          0.32196969696461536,
          0.31249999999521294,
          0.3223140495812274,
          0.3278008298698513,
          0.3253968253914452,
          0.3445378151200186,
          0.34347826086334277,
          0.33035714285099776,
          0.3333333333272417,
          0.32327586206315956,
          0.32618025750489665,
          0.3235294117590418,
          0.326612903220319,
          0.3074074074026634,
          0.2985074626819262,
          0.3097014925324984,
          0.3180076628301723,
          0.3188976377900443,
          0.30072463767661944,
          0.3284132841277919,
          0.3010752688127079,
          0.30465949820333543,
          0.30888030887533974,
          0.3103448275812525,
          0.30830039525183955,
          0.3023255813904663,
          0.3065134099567926,
          0.30038022813212323,
          0.29259259258807724,
          0.29999999999652777,
          0.3057851239634322,
          0.30939226518980906,
          0.31267605633435824,
          0.30494505494156426,
          0.3002680965113911,
          0.3070652173878276,
          0.29581993568735504,
          0.29523809523419,
          0.29113924050249024,
          0.30322580644753727,
          0.29581993568735504,
          0.2977346278277005,
          0.2964169381067262,
          0.2911392405024903,
          0.2977346278277005,
          0.2956810631188305,
          0.3043478260827153,
          0.29333333332925926,
          0.29702970296621245,
          0.3056478405273304,
          0.3043478260827153,
          0.2950819672090836,
          0.3026315789432205,
          0.3003300329991704
         ],
         "yaxis": "y3"
        },
        {
         "hovertemplate": "variable=pr4<br>id=2717225084<br>rq=%{x}<br>value=%{y}<extra></extra>",
         "legendgroup": "pr4",
         "line": {
          "color": "#00cc96",
          "dash": "solid"
         },
         "marker": {
          "symbol": "circle"
         },
         "mode": "lines",
         "name": "pr4",
         "showlegend": false,
         "type": "scattergl",
         "x": [
          0,
          1,
          2,
          3,
          4,
          5,
          6,
          7,
          8,
          9,
          10,
          11,
          12,
          13,
          14,
          15,
          16,
          17,
          18,
          19,
          20,
          21,
          22,
          23,
          24,
          25,
          26,
          27,
          28,
          29,
          30,
          31,
          32,
          33,
          34,
          35,
          36,
          37,
          38,
          39,
          40,
          41,
          42,
          43,
          44,
          45,
          46,
          47,
          48,
          49,
          50,
          51,
          52,
          53,
          54,
          55,
          56,
          57,
          58,
          59,
          60,
          61,
          62,
          63,
          64,
          65,
          66,
          67,
          68,
          69,
          70,
          71,
          72,
          73,
          74,
          75,
          76,
          77,
          78,
          79,
          80,
          81,
          82,
          83,
          84,
          85,
          86,
          87,
          88,
          89,
          90,
          91,
          92,
          93,
          94,
          95,
          96,
          97,
          98,
          99,
          100,
          101,
          102,
          103,
          104,
          105,
          106
         ],
         "xaxis": "x4",
         "y": [
          0.3556485355574132,
          0.35714285713535415,
          0.3568464730216422,
          0.357142857135771,
          0.37154150196894187,
          0.36799999999264,
          0.37199999999256,
          0.3709677419280047,
          0.35627530363651266,
          0.3580246913506579,
          0.3705179282794718,
          0.37599999999248,
          0.35627530363651266,
          0.3849206349129976,
          0.265993265988788,
          0.2793103448227705,
          0.28321678321183186,
          0.2785234899282127,
          0.2823129251652668,
          0.2828282828235214,
          0.2814569536377242,
          0.28260869564778557,
          0.28797468353974726,
          0.29220779220304854,
          0.27899686519938877,
          0.2902208201846968,
          0.2866043613662523,
          0.2861356932111189,
          0.2906976744143794,
          0.2803468208051973,
          0.2986425339332733,
          0.2994011976018024,
          0.326530612241566,
          0.3116089613002891,
          0.2957198443551,
          0.29925650557342703,
          0.2946428571402264,
          0.2849462365553099,
          0.2969187675028443,
          0.3011695906388718,
          0.2941176470547042,
          0.28799999999616,
          0.29242819842960277,
          0.29539295392553666,
          0.283018867920714,
          0.28225806451233526,
          0.27807486630644285,
          0.28342245988925907,
          0.27540106951503474,
          0.2970297029666209,
          0.29665071769980084,
          0.30769230768849015,
          0.30370370369995425,
          0.2960199004938306,
          0.2955665024594142,
          0.31443298968666966,
          0.31266149870397075,
          0.2887323943628083,
          0.32619047618659297,
          0.3378378378332725,
          0.3333333333287037,
          0.32967032966580123,
          0.3218085106340185,
          0.321989528791597,
          0.318652849736805,
          0.3140703517548484,
          0.28329297820480276,
          0.2935779816480094,
          0.3075117370855926,
          0.32258064515728807,
          0.31606217616170906,
          0.2783505154603305,
          0.30628272250908006,
          0.2646239554280693,
          0.2763157894700485,
          0.3010471204149078,
          0.31536388139736704,
          0.3255813953441049,
          0.281249999996005,
          0.2795698924693606,
          0.2898172323721956,
          0.28311688311320626,
          0.29483282674323963,
          0.2950310558960399,
          0.2968749999953613,
          0.30392156862248493,
          0.2980769230721462,
          0.29289940827969085,
          0.3020527859193247,
          0.2970297029678463,
          0.30116472545506523,
          0.3023648648623111,
          0.30769230768967787,
          0.2998324958098842,
          0.30508474576012645,
          0.29370629370372636,
          0.2971619365584544,
          0.30834752980998004,
          0.3009009008981901,
          0.2998171846407695,
          0.3059033989239186,
          0.30866425992501206,
          0.3055062166935568,
          0.3008849557495497,
          0.29876977152637285,
          0.29729729729461896,
          0.2854545454519504
         ],
         "yaxis": "y4"
        }
       ],
       "layout": {
        "annotations": [
         {
          "font": {},
          "showarrow": false,
          "text": "id=855996491",
          "x": 0.1175,
          "xanchor": "center",
          "xref": "paper",
          "y": 1,
          "yanchor": "bottom",
          "yref": "paper"
         },
         {
          "font": {},
          "showarrow": false,
          "text": "id=2251440776",
          "x": 0.3725,
          "xanchor": "center",
          "xref": "paper",
          "y": 1,
          "yanchor": "bottom",
          "yref": "paper"
         },
         {
          "font": {},
          "showarrow": false,
          "text": "id=2471562086",
          "x": 0.6275,
          "xanchor": "center",
          "xref": "paper",
          "y": 1,
          "yanchor": "bottom",
          "yref": "paper"
         },
         {
          "font": {},
          "showarrow": false,
          "text": "id=2717225084",
          "x": 0.8824999999999998,
          "xanchor": "center",
          "xref": "paper",
          "y": 1,
          "yanchor": "bottom",
          "yref": "paper"
         }
        ],
        "height": 300,
        "legend": {
         "title": {
          "text": "variable"
         },
         "tracegroupgap": 0
        },
        "margin": {
         "t": 60
        },
        "template": {
         "data": {
          "bar": [
           {
            "error_x": {
             "color": "#2a3f5f"
            },
            "error_y": {
             "color": "#2a3f5f"
            },
            "marker": {
             "line": {
              "color": "#E5ECF6",
              "width": 0.5
             },
             "pattern": {
              "fillmode": "overlay",
              "size": 10,
              "solidity": 0.2
             }
            },
            "type": "bar"
           }
          ],
          "barpolar": [
           {
            "marker": {
             "line": {
              "color": "#E5ECF6",
              "width": 0.5
             },
             "pattern": {
              "fillmode": "overlay",
              "size": 10,
              "solidity": 0.2
             }
            },
            "type": "barpolar"
           }
          ],
          "carpet": [
           {
            "aaxis": {
             "endlinecolor": "#2a3f5f",
             "gridcolor": "white",
             "linecolor": "white",
             "minorgridcolor": "white",
             "startlinecolor": "#2a3f5f"
            },
            "baxis": {
             "endlinecolor": "#2a3f5f",
             "gridcolor": "white",
             "linecolor": "white",
             "minorgridcolor": "white",
             "startlinecolor": "#2a3f5f"
            },
            "type": "carpet"
           }
          ],
          "choropleth": [
           {
            "colorbar": {
             "outlinewidth": 0,
             "ticks": ""
            },
            "type": "choropleth"
           }
          ],
          "contour": [
           {
            "colorbar": {
             "outlinewidth": 0,
             "ticks": ""
            },
            "colorscale": [
             [
              0,
              "#0d0887"
             ],
             [
              0.1111111111111111,
              "#46039f"
             ],
             [
              0.2222222222222222,
              "#7201a8"
             ],
             [
              0.3333333333333333,
              "#9c179e"
             ],
             [
              0.4444444444444444,
              "#bd3786"
             ],
             [
              0.5555555555555556,
              "#d8576b"
             ],
             [
              0.6666666666666666,
              "#ed7953"
             ],
             [
              0.7777777777777778,
              "#fb9f3a"
             ],
             [
              0.8888888888888888,
              "#fdca26"
             ],
             [
              1,
              "#f0f921"
             ]
            ],
            "type": "contour"
           }
          ],
          "contourcarpet": [
           {
            "colorbar": {
             "outlinewidth": 0,
             "ticks": ""
            },
            "type": "contourcarpet"
           }
          ],
          "heatmap": [
           {
            "colorbar": {
             "outlinewidth": 0,
             "ticks": ""
            },
            "colorscale": [
             [
              0,
              "#0d0887"
             ],
             [
              0.1111111111111111,
              "#46039f"
             ],
             [
              0.2222222222222222,
              "#7201a8"
             ],
             [
              0.3333333333333333,
              "#9c179e"
             ],
             [
              0.4444444444444444,
              "#bd3786"
             ],
             [
              0.5555555555555556,
              "#d8576b"
             ],
             [
              0.6666666666666666,
              "#ed7953"
             ],
             [
              0.7777777777777778,
              "#fb9f3a"
             ],
             [
              0.8888888888888888,
              "#fdca26"
             ],
             [
              1,
              "#f0f921"
             ]
            ],
            "type": "heatmap"
           }
          ],
          "heatmapgl": [
           {
            "colorbar": {
             "outlinewidth": 0,
             "ticks": ""
            },
            "colorscale": [
             [
              0,
              "#0d0887"
             ],
             [
              0.1111111111111111,
              "#46039f"
             ],
             [
              0.2222222222222222,
              "#7201a8"
             ],
             [
              0.3333333333333333,
              "#9c179e"
             ],
             [
              0.4444444444444444,
              "#bd3786"
             ],
             [
              0.5555555555555556,
              "#d8576b"
             ],
             [
              0.6666666666666666,
              "#ed7953"
             ],
             [
              0.7777777777777778,
              "#fb9f3a"
             ],
             [
              0.8888888888888888,
              "#fdca26"
             ],
             [
              1,
              "#f0f921"
             ]
            ],
            "type": "heatmapgl"
           }
          ],
          "histogram": [
           {
            "marker": {
             "pattern": {
              "fillmode": "overlay",
              "size": 10,
              "solidity": 0.2
             }
            },
            "type": "histogram"
           }
          ],
          "histogram2d": [
           {
            "colorbar": {
             "outlinewidth": 0,
             "ticks": ""
            },
            "colorscale": [
             [
              0,
              "#0d0887"
             ],
             [
              0.1111111111111111,
              "#46039f"
             ],
             [
              0.2222222222222222,
              "#7201a8"
             ],
             [
              0.3333333333333333,
              "#9c179e"
             ],
             [
              0.4444444444444444,
              "#bd3786"
             ],
             [
              0.5555555555555556,
              "#d8576b"
             ],
             [
              0.6666666666666666,
              "#ed7953"
             ],
             [
              0.7777777777777778,
              "#fb9f3a"
             ],
             [
              0.8888888888888888,
              "#fdca26"
             ],
             [
              1,
              "#f0f921"
             ]
            ],
            "type": "histogram2d"
           }
          ],
          "histogram2dcontour": [
           {
            "colorbar": {
             "outlinewidth": 0,
             "ticks": ""
            },
            "colorscale": [
             [
              0,
              "#0d0887"
             ],
             [
              0.1111111111111111,
              "#46039f"
             ],
             [
              0.2222222222222222,
              "#7201a8"
             ],
             [
              0.3333333333333333,
              "#9c179e"
             ],
             [
              0.4444444444444444,
              "#bd3786"
             ],
             [
              0.5555555555555556,
              "#d8576b"
             ],
             [
              0.6666666666666666,
              "#ed7953"
             ],
             [
              0.7777777777777778,
              "#fb9f3a"
             ],
             [
              0.8888888888888888,
              "#fdca26"
             ],
             [
              1,
              "#f0f921"
             ]
            ],
            "type": "histogram2dcontour"
           }
          ],
          "mesh3d": [
           {
            "colorbar": {
             "outlinewidth": 0,
             "ticks": ""
            },
            "type": "mesh3d"
           }
          ],
          "parcoords": [
           {
            "line": {
             "colorbar": {
              "outlinewidth": 0,
              "ticks": ""
             }
            },
            "type": "parcoords"
           }
          ],
          "pie": [
           {
            "automargin": true,
            "type": "pie"
           }
          ],
          "scatter": [
           {
            "marker": {
             "colorbar": {
              "outlinewidth": 0,
              "ticks": ""
             }
            },
            "type": "scatter"
           }
          ],
          "scatter3d": [
           {
            "line": {
             "colorbar": {
              "outlinewidth": 0,
              "ticks": ""
             }
            },
            "marker": {
             "colorbar": {
              "outlinewidth": 0,
              "ticks": ""
             }
            },
            "type": "scatter3d"
           }
          ],
          "scattercarpet": [
           {
            "marker": {
             "colorbar": {
              "outlinewidth": 0,
              "ticks": ""
             }
            },
            "type": "scattercarpet"
           }
          ],
          "scattergeo": [
           {
            "marker": {
             "colorbar": {
              "outlinewidth": 0,
              "ticks": ""
             }
            },
            "type": "scattergeo"
           }
          ],
          "scattergl": [
           {
            "marker": {
             "colorbar": {
              "outlinewidth": 0,
              "ticks": ""
             }
            },
            "type": "scattergl"
           }
          ],
          "scattermapbox": [
           {
            "marker": {
             "colorbar": {
              "outlinewidth": 0,
              "ticks": ""
             }
            },
            "type": "scattermapbox"
           }
          ],
          "scatterpolar": [
           {
            "marker": {
             "colorbar": {
              "outlinewidth": 0,
              "ticks": ""
             }
            },
            "type": "scatterpolar"
           }
          ],
          "scatterpolargl": [
           {
            "marker": {
             "colorbar": {
              "outlinewidth": 0,
              "ticks": ""
             }
            },
            "type": "scatterpolargl"
           }
          ],
          "scatterternary": [
           {
            "marker": {
             "colorbar": {
              "outlinewidth": 0,
              "ticks": ""
             }
            },
            "type": "scatterternary"
           }
          ],
          "surface": [
           {
            "colorbar": {
             "outlinewidth": 0,
             "ticks": ""
            },
            "colorscale": [
             [
              0,
              "#0d0887"
             ],
             [
              0.1111111111111111,
              "#46039f"
             ],
             [
              0.2222222222222222,
              "#7201a8"
             ],
             [
              0.3333333333333333,
              "#9c179e"
             ],
             [
              0.4444444444444444,
              "#bd3786"
             ],
             [
              0.5555555555555556,
              "#d8576b"
             ],
             [
              0.6666666666666666,
              "#ed7953"
             ],
             [
              0.7777777777777778,
              "#fb9f3a"
             ],
             [
              0.8888888888888888,
              "#fdca26"
             ],
             [
              1,
              "#f0f921"
             ]
            ],
            "type": "surface"
           }
          ],
          "table": [
           {
            "cells": {
             "fill": {
              "color": "#EBF0F8"
             },
             "line": {
              "color": "white"
             }
            },
            "header": {
             "fill": {
              "color": "#C8D4E3"
             },
             "line": {
              "color": "white"
             }
            },
            "type": "table"
           }
          ]
         },
         "layout": {
          "annotationdefaults": {
           "arrowcolor": "#2a3f5f",
           "arrowhead": 0,
           "arrowwidth": 1
          },
          "autotypenumbers": "strict",
          "coloraxis": {
           "colorbar": {
            "outlinewidth": 0,
            "ticks": ""
           }
          },
          "colorscale": {
           "diverging": [
            [
             0,
             "#8e0152"
            ],
            [
             0.1,
             "#c51b7d"
            ],
            [
             0.2,
             "#de77ae"
            ],
            [
             0.3,
             "#f1b6da"
            ],
            [
             0.4,
             "#fde0ef"
            ],
            [
             0.5,
             "#f7f7f7"
            ],
            [
             0.6,
             "#e6f5d0"
            ],
            [
             0.7,
             "#b8e186"
            ],
            [
             0.8,
             "#7fbc41"
            ],
            [
             0.9,
             "#4d9221"
            ],
            [
             1,
             "#276419"
            ]
           ],
           "sequential": [
            [
             0,
             "#0d0887"
            ],
            [
             0.1111111111111111,
             "#46039f"
            ],
            [
             0.2222222222222222,
             "#7201a8"
            ],
            [
             0.3333333333333333,
             "#9c179e"
            ],
            [
             0.4444444444444444,
             "#bd3786"
            ],
            [
             0.5555555555555556,
             "#d8576b"
            ],
            [
             0.6666666666666666,
             "#ed7953"
            ],
            [
             0.7777777777777778,
             "#fb9f3a"
            ],
            [
             0.8888888888888888,
             "#fdca26"
            ],
            [
             1,
             "#f0f921"
            ]
           ],
           "sequentialminus": [
            [
             0,
             "#0d0887"
            ],
            [
             0.1111111111111111,
             "#46039f"
            ],
            [
             0.2222222222222222,
             "#7201a8"
            ],
            [
             0.3333333333333333,
             "#9c179e"
            ],
            [
             0.4444444444444444,
             "#bd3786"
            ],
            [
             0.5555555555555556,
             "#d8576b"
            ],
            [
             0.6666666666666666,
             "#ed7953"
            ],
            [
             0.7777777777777778,
             "#fb9f3a"
            ],
            [
             0.8888888888888888,
             "#fdca26"
            ],
            [
             1,
             "#f0f921"
            ]
           ]
          },
          "colorway": [
           "#636efa",
           "#EF553B",
           "#00cc96",
           "#ab63fa",
           "#FFA15A",
           "#19d3f3",
           "#FF6692",
           "#B6E880",
           "#FF97FF",
           "#FECB52"
          ],
          "font": {
           "color": "#2a3f5f"
          },
          "geo": {
           "bgcolor": "white",
           "lakecolor": "white",
           "landcolor": "#E5ECF6",
           "showlakes": true,
           "showland": true,
           "subunitcolor": "white"
          },
          "hoverlabel": {
           "align": "left"
          },
          "hovermode": "closest",
          "mapbox": {
           "style": "light"
          },
          "paper_bgcolor": "white",
          "plot_bgcolor": "#E5ECF6",
          "polar": {
           "angularaxis": {
            "gridcolor": "white",
            "linecolor": "white",
            "ticks": ""
           },
           "bgcolor": "#E5ECF6",
           "radialaxis": {
            "gridcolor": "white",
            "linecolor": "white",
            "ticks": ""
           }
          },
          "scene": {
           "xaxis": {
            "backgroundcolor": "#E5ECF6",
            "gridcolor": "white",
            "gridwidth": 2,
            "linecolor": "white",
            "showbackground": true,
            "ticks": "",
            "zerolinecolor": "white"
           },
           "yaxis": {
            "backgroundcolor": "#E5ECF6",
            "gridcolor": "white",
            "gridwidth": 2,
            "linecolor": "white",
            "showbackground": true,
            "ticks": "",
            "zerolinecolor": "white"
           },
           "zaxis": {
            "backgroundcolor": "#E5ECF6",
            "gridcolor": "white",
            "gridwidth": 2,
            "linecolor": "white",
            "showbackground": true,
            "ticks": "",
            "zerolinecolor": "white"
           }
          },
          "shapedefaults": {
           "line": {
            "color": "#2a3f5f"
           }
          },
          "ternary": {
           "aaxis": {
            "gridcolor": "white",
            "linecolor": "white",
            "ticks": ""
           },
           "baxis": {
            "gridcolor": "white",
            "linecolor": "white",
            "ticks": ""
           },
           "bgcolor": "#E5ECF6",
           "caxis": {
            "gridcolor": "white",
            "linecolor": "white",
            "ticks": ""
           }
          },
          "title": {
           "x": 0.05
          },
          "xaxis": {
           "automargin": true,
           "gridcolor": "white",
           "linecolor": "white",
           "ticks": "",
           "title": {
            "standoff": 15
           },
           "zerolinecolor": "white",
           "zerolinewidth": 2
          },
          "yaxis": {
           "automargin": true,
           "gridcolor": "white",
           "linecolor": "white",
           "ticks": "",
           "title": {
            "standoff": 15
           },
           "zerolinecolor": "white",
           "zerolinewidth": 2
          }
         }
        },
        "xaxis": {
         "anchor": "y",
         "domain": [
          0,
          0.235
         ],
         "title": {
          "text": "rq"
         }
        },
        "xaxis2": {
         "anchor": "y2",
         "domain": [
          0.255,
          0.49
         ],
         "matches": "x",
         "title": {
          "text": "rq"
         }
        },
        "xaxis3": {
         "anchor": "y3",
         "domain": [
          0.51,
          0.745
         ],
         "matches": "x",
         "title": {
          "text": "rq"
         }
        },
        "xaxis4": {
         "anchor": "y4",
         "domain": [
          0.7649999999999999,
          0.9999999999999999
         ],
         "matches": "x",
         "title": {
          "text": "rq"
         }
        },
        "yaxis": {
         "anchor": "x",
         "domain": [
          0,
          1
         ],
         "range": [
          0,
          1
         ],
         "title": {
          "text": "value"
         }
        },
        "yaxis2": {
         "anchor": "x2",
         "domain": [
          0,
          1
         ],
         "matches": "y",
         "showticklabels": false
        },
        "yaxis3": {
         "anchor": "x3",
         "domain": [
          0,
          1
         ],
         "matches": "y",
         "showticklabels": false
        },
        "yaxis4": {
         "anchor": "x4",
         "domain": [
          0,
          1
         ],
         "matches": "y",
         "showticklabels": false
        }
       }
      },
      "text/html": [
       "<div>                            <div id=\"41a06466-bf7b-48d7-a7e6-a79ba1dfc89f\" class=\"plotly-graph-div\" style=\"height:300px; width:100%;\"></div>            <script type=\"text/javascript\">                require([\"plotly\"], function(Plotly) {                    window.PLOTLYENV=window.PLOTLYENV || {};                                    if (document.getElementById(\"41a06466-bf7b-48d7-a7e6-a79ba1dfc89f\")) {                    Plotly.newPlot(                        \"41a06466-bf7b-48d7-a7e6-a79ba1dfc89f\",                        [{\"hovertemplate\":\"variable=pr2<br>id=855996491<br>rq=%{x}<br>value=%{y}<extra></extra>\",\"legendgroup\":\"pr2\",\"line\":{\"color\":\"#636efa\",\"dash\":\"solid\"},\"marker\":{\"symbol\":\"circle\"},\"mode\":\"lines\",\"name\":\"pr2\",\"showlegend\":true,\"x\":[0,1,2,3,4,5,6,7,8,9,10,11,12,13,14,15,16,17,18,19,20,21,22,23,24,25,26,27,28,29,30,31,32,33,34,35,36,37,38,39,40,41,42,43,44,45,46,47,48,49,50,51,52,53,54,55,56,57,58,59,60,61,62,63,64,65,66,67,68,69,70,71,72,73,74,75,76,77,78,79,80,81,82,83,84,85,86,87,88,89,90,91,92,93,94,95,96,97,98,99,100,101,102,103,104,105,106],\"xaxis\":\"x\",\"y\":[0.33606797538165706,0.33724928366117957,0.336593785954419,0.3381807812881251,0.33920955359038557,0.33932135727897883,0.33904109588396036,0.3391428571363973,0.3388666284995446,0.33907550961165517,0.33961725220718614,0.3402266288887587,0.3397921931977947,0.3393804074734509,0.33732970026635184,0.3342428376473989,0.33684210525709685,0.3364155561538136,0.33715846993921383,0.3336081340966638,0.3363412633244674,0.33461750136975577,0.3346153846092561,0.3342511013154506,0.3352601156007843,0.3338824821465517,0.33488372092412433,0.335798411388007,0.33910820788906354,0.3338879644974323,0.33288117199614975,0.33032155194737667,0.33394931361608676,0.33439321674025096,0.3318314338663869,0.33155934006862586,0.33102529959465554,0.3331957060234903,0.3325782537021887,0.3348296266022604,0.3361788617840626,0.3362992922098241,0.3370310609071261,0.33615990308451227,0.3363101278623055,0.33557320300908744,0.33584521384472715,0.3331264225073022,0.3336787564720735,0.337449435805302,0.3378205128157006,0.34019961774842217,0.3406058038503056,0.3409856781754987,0.338601428875823,0.3389350070818798,0.3385458976396081,0.33771029954400617,0.3400817995863656,0.33842705786011373,0.33901399877812927,0.33997965411542924,0.3393866020939012,0.33885298868687597,0.3387358184719242,0.33889001829180876,0.33660267111384806,0.3362978283304199,0.3396035598659708,0.3392820928771813,0.340612244893325,0.33501153765002434,0.3362831858359842,0.33565107458441273,0.3368421052584303,0.3391340376998946,0.3398963730522985,0.34130255564246625,0.3415983606510711,0.34125358459181687,0.33675823023223933,0.33702928869822835,0.33698741371854124,0.3383397604987709,0.3408865036726842,0.3409900990053995,0.3415068222221144,0.3373031893374068,0.33756805807168694,0.3378378375334794,0.333333333037037,0.3378378375334794,0.32432432403214023,0.333333333037037,0.3378378375334794,0.32432432403214023,0.333333333037037,0.32432432403214023,0.333333333037037,0.3378378375334794,0.333333333037037,0.333333333037037,0.333333333037037,0.3287671229874273,0.333333333037037,0.333333333037037,0.3378378375334794],\"yaxis\":\"y\",\"type\":\"scattergl\"},{\"hovertemplate\":\"variable=pr2<br>id=2251440776<br>rq=%{x}<br>value=%{y}<extra></extra>\",\"legendgroup\":\"pr2\",\"line\":{\"color\":\"#636efa\",\"dash\":\"solid\"},\"marker\":{\"symbol\":\"circle\"},\"mode\":\"lines\",\"name\":\"pr2\",\"showlegend\":false,\"x\":[0,1,2,3,4,5,6,7,8,9,10,11,12,13,14,15,16,17,18,19,20,21,22,23,24,25,26,27,28,29,30,31,32,33,34,35,36,37,38,39,40,41,42,43,44,45,46,47,48,49,50,51,52,53,54,55,56,57,58,59,60,61,62,63,64,65,66,67,68,69,70,71,72,73,74,75,76,77,78,79,80,81,82,83,84,85,86,87,88,89,90,91,92,93,94,95,96,97,98,99,100,101,102,103,104,105,106],\"xaxis\":\"x2\",\"y\":[0.299401197485269,0.2468354429338247,0.254054053962503,0.2765957445827674,0.2751322750352267,0.24999999988425925,0.3281249996582031,0.333333332996633,0.333333332996633,0.32835820862849924,0.3432835817479765,0.38461538428665343,0.32727272707438015,0.3357400721213622,0.3229508196603661,0.32855731224214235,0.31694828467940095,0.31881804042444034,0.3299646285891876,0.3278931750633731,0.3018018017866966,0.292246520865068,0.3303312962296488,0.33185316754821687,0.3636363636279197,0.3209328150967808,0.3320353063286252,0.3092783505098702,0.3143312101844091,0.30674846625169444,0.32462686566587373,0.251227495901494,0.32750269105978647,0.3694110391536764,0.322615219715566,0.334813992220344,0.3281584582382555,0.3423019431646934,0.33748271089557563,0.35694822885041344,0.36005256238632916,0.3453815260735938,0.3711734693561927,0.3618677042488658,0.36107382547104483,0.36816720253288676,0.3571428570578231,0.35912408755628966,0.3413848630873446,0.2668621700749334,0.33144933386269815,0.3273899848172132,0.32319688108321776,0.3297297297212425,0.3203696572886569,0.3374233128753176,0.33781094526242744,0.3371790100400154,0.3276051188219962,0.31877082561227277,0.3333333333254363,0.33155270654483493,0.32994389901052024,0.33317624881139885,0.32178037211913463,0.33519970137277094,0.33763440859246924,0.2872692853671788,0.33552631577815367,0.3364605543614368,0.3295833333241783,0.3213378492712013,0.3389074693296578,0.331779331773603,0.3162790697585263,0.33401015227861236,0.32983245810903,0.3293844965176515,0.32977370963082,0.32510504201111506,0.3147832024510121,0.33266482827220417,0.30004943152743285,0.322688642796417,0.3286132812446515,0.3311387466417761,0.3309773336529209,0.3292322834591661,0.2999243570272334,0.3387804877993694,0.3372262773667928,0.3357348703116277,0.3424323665554889,0.34115569012799807,0.33463414633602223,0.37581141099246534,0.36501766783592415,0.33412830908126034,0.35918972331424254,0.34018211533442005,0.3378315495526938,0.34648700673168936,0.3366658916478855,0.4226503210576902,0.331319478003362,0.3360381861521712,0.332367149753102],\"yaxis\":\"y2\",\"type\":\"scattergl\"},{\"hovertemplate\":\"variable=pr2<br>id=2471562086<br>rq=%{x}<br>value=%{y}<extra></extra>\",\"legendgroup\":\"pr2\",\"line\":{\"color\":\"#636efa\",\"dash\":\"solid\"},\"marker\":{\"symbol\":\"circle\"},\"mode\":\"lines\",\"name\":\"pr2\",\"showlegend\":false,\"x\":[0,1,2,3,4,5,6,7,8,9,10,11,12,13,14,15,16,17,18,19,20,21,22,23,24,25,26,27,28,29,30,31,32,33,34,35,36,37,38,39,40,41,42,43,44,45,46,47,48,49,50,51,52,53,54,55,56,57,58,59,60,61,62,63,64,65,66,67,68,69,70,71,72,73,74,75,76,77,78,79,80,81,82,83,84,85,86,87,88,89,90,91,92,93,94,95,96,97,98,99,100,101,102,103,104,105,106],\"xaxis\":\"x3\",\"y\":[0.33678756475956845,0.3489583333257605,0.35514018690897314,0.329999999993125,0.3244680850991917,0.33155080213164995,0.32291666665965896,0.33980582523584535,0.31862745097388423,0.31862745097388423,0.32352941175809785,0.32160804019427114,0.32835820894841716,0.3267326732605872,0.3443396226347417,0.3380952380885298,0.3441860465049576,0.3441860465049576,0.34090909090263427,0.3470319634637171,0.34684684684033695,0.35227272726716746,0.3409961685769317,0.34351145037621644,0.3524904214503114,0.3496240601448994,0.42431761786161787,0.35664335663816077,0.352112676051172,0.3591549295721955,0.35772357723173304,0.3542234332384852,0.35127478753126445,0.35087719297818126,0.3618784530345088,0.357142857138769,0.3532608695612176,0.34798534798003683,0.350180505409895,0.3382352941124658,0.352112676051172,0.3380782918099336,0.34736842104755306,0.3453237410020185,0.3381818181766942,0.3527272727219284,0.3458646616487177,0.3449612403045064,0.3437499999944051,0.33840304181973374,0.3333333333281893,0.32958801497613005,0.33834586465635424,0.33333333332807236,0.3382352941124658,0.33884297520077755,0.33609958505642984,0.33730158729601023,0.3235294117590418,0.32608695651583175,0.3348214285652005,0.32894736841504113,0.3362068965456859,0.33476394849186764,0.3319327731034325,0.326612903220319,0.35185185184642204,0.35074626865126324,0.34701492536773915,0.34482758620139164,0.3503937007816536,0.3478260869512707,0.33948339482872875,0.3512544802814926,0.34408602150023765,0.35521235520664074,0.3524904214503115,0.3517786561206887,0.3527131782888773,0.3486590038258516,0.3498098859260169,0.36296296295736163,0.35277777777369473,0.3471074380125447,0.3508287292777299,0.35211267605220525,0.357142857138769,0.35120643431243065,0.34782608695258344,0.36012861735851914,0.36190476189997484,0.3639240506281128,0.35483870967265,0.36655948552563555,0.3527508090567321,0.3583061889202184,0.35759493670414566,0.355987055011381,0.3588039867059966,0.3545150501622838,0.36666666666157405,0.353135313526497,0.3521594684336633,0.3545150501622838,0.36065573769999104,0.35197368420570213,0.3498349834935391],\"yaxis\":\"y3\",\"type\":\"scattergl\"},{\"hovertemplate\":\"variable=pr2<br>id=2717225084<br>rq=%{x}<br>value=%{y}<extra></extra>\",\"legendgroup\":\"pr2\",\"line\":{\"color\":\"#636efa\",\"dash\":\"solid\"},\"marker\":{\"symbol\":\"circle\"},\"mode\":\"lines\",\"name\":\"pr2\",\"showlegend\":false,\"x\":[0,1,2,3,4,5,6,7,8,9,10,11,12,13,14,15,16,17,18,19,20,21,22,23,24,25,26,27,28,29,30,31,32,33,34,35,36,37,38,39,40,41,42,43,44,45,46,47,48,49,50,51,52,53,54,55,56,57,58,59,60,61,62,63,64,65,66,67,68,69,70,71,72,73,74,75,76,77,78,79,80,81,82,83,84,85,86,87,88,89,90,91,92,93,94,95,96,97,98,99,100,101,102,103,104,105,106],\"xaxis\":\"x4\",\"y\":[0.3179916317925106,0.31932773108572843,0.319502074682168,0.3134920634858434,0.3083003952508241,0.30799999999384,0.30799999999384,0.30645161289704737,0.3198380566736875,0.3168724279770191,0.3107569721053634,0.31199999999376,0.3198380566736875,0.30555555554949293,0.3905723905658153,0.39310344826908444,0.3811188811122182,0.3758389261681906,0.384353741490062,0.38047138046497525,0.3807947019804504,0.3788819875717565,0.3765822784750541,0.3766233766172626,0.3793103448216409,0.37539432176064047,0.38006230529003016,0.37463126843105266,0.3691860465062618,0.3843930635782602,0.35972850678326096,0.35928143712216287,0.3408163265271345,0.3503054989781028,0.3638132295684454,0.35873605947621995,0.3624999999967634,0.35752688171562463,0.3557422969137851,0.3567251461936151,0.3613445378100652,0.3626666666618311,0.36553524803700344,0.3631436314313937,0.36927223719178875,0.37096774193049775,0.3743315507971346,0.3636363636315022,0.3663101604229103,0.3539603960352233,0.3516746411441187,0.3573200992511499,0.3604938271560433,0.36069651740844905,0.35467980295129703,0.3427835051502219,0.34883720929781864,0.36619718309429344,0.34285714285306124,0.3351351351306063,0.3361111111064429,0.33791208790744626,0.34308510637841644,0.34293193716828624,0.33678756476247684,0.34170854270927503,0.3559322033855214,0.34862385320701117,0.35211267605220525,0.339950372204219,0.3445595854877648,0.35309278350060447,0.3403141361212001,0.36768802227900155,0.3552631578900623,0.356020942403717,0.345013477084299,0.3401162790648239,0.36079545454032963,0.36290322580157386,0.35248041774996763,0.35324675324216565,0.3465045592652507,0.34472049688905715,0.3624999999943359,0.34967320260866547,0.3589743589686062,0.3461538461487255,0.34017595307419096,0.34488448844599934,0.34276206322510183,0.3513513513483839,0.34871794871496825,0.355108877718969,0.3389830508445849,0.34615384615082034,0.3472454090121265,0.3390119250397018,0.3495495495464005,0.34917733089260355,0.3470483005335685,0.3465703971087855,0.3463587921816487,0.350442477873005,0.3532513180988291,0.3423423423392582,0.34727272726957026],\"yaxis\":\"y4\",\"type\":\"scattergl\"},{\"hovertemplate\":\"variable=pr3<br>id=855996491<br>rq=%{x}<br>value=%{y}<extra></extra>\",\"legendgroup\":\"pr3\",\"line\":{\"color\":\"#EF553B\",\"dash\":\"solid\"},\"marker\":{\"symbol\":\"circle\"},\"mode\":\"lines\",\"name\":\"pr3\",\"showlegend\":true,\"x\":[0,1,2,3,4,5,6,7,8,9,10,11,12,13,14,15,16,17,18,19,20,21,22,23,24,25,26,27,28,29,30,31,32,33,34,35,36,37,38,39,40,41,42,43,44,45,46,47,48,49,50,51,52,53,54,55,56,57,58,59,60,61,62,63,64,65,66,67,68,69,70,71,72,73,74,75,76,77,78,79,80,81,82,83,84,85,86,87,88,89,90,91,92,93,94,95,96,97,98,99,100,101,102,103,104,105,106],\"xaxis\":\"x\",\"y\":[0.33489598592958497,0.3363896848073278,0.33544303796825004,0.3373253492949848,0.3366505544434338,0.3370402052972714,0.33675799086117275,0.3374285714221442,0.3362907841950717,0.33907550961165517,0.3370465581198315,0.3379603399369601,0.33670317325963295,0.33714764163480976,0.3365122615742686,0.3375170531998633,0.33576248312486257,0.3350557519656413,0.3357923497206595,0.3374553448687835,0.3360678151429028,0.3343423225034977,0.3343406593345359,0.3331497797295678,0.33415909715874564,0.33498077978519164,0.3343365253016993,0.3341550260141668,0.3405282590108771,0.33222407098664775,0.33884970156739286,0.337762423592209,0.337909186900072,0.33783783783187,0.33845746090046014,0.33767961681146563,0.33661784287018875,0.3381502890126872,0.33772652388333707,0.33748214649612346,0.3382113821092383,0.3379170879630884,0.33803953206483744,0.3377750858020354,0.3381367972351243,0.33781307268936656,0.33808553971027716,0.33767846057883055,0.338860103622261,0.34064296358894836,0.3410256410207831,0.34083669568428065,0.3412412624395786,0.3407750631797139,0.341848885035118,0.33994735776014107,0.34017059300920427,0.3383258104180232,0.34089979549637495,0.3396495517476277,0.33941976059593665,0.3407934893137905,0.33999192897040637,0.3394588045188549,0.33995137762912003,0.3399064850533319,0.3420283806296323,0.3416752843799838,0.34061488672679857,0.3396876901191146,0.3397959183627239,0.339207048453406,0.3394437420938412,0.3415507795990792,0.3433684210478124,0.3418272218722212,0.342176165798381,0.3435696619903329,0.3436475409789119,0.3433019254357053,0.34325854476349676,0.34330543932575586,0.3434835566335975,0.34483458493545993,0.3432717153601899,0.34297029702517534,0.34229780501822815,0.34335890189283597,0.3434160112879826,0.32432432403214023,0.333333333037037,0.3378378375334794,0.3378378375334794,0.333333333037037,0.32432432403214023,0.3378378375334794,0.333333333037037,0.3378378375334794,0.333333333037037,0.32432432403214023,0.333333333037037,0.333333333037037,0.333333333037037,0.3424657531119034,0.333333333037037,0.333333333037037,0.32432432403214023],\"yaxis\":\"y\",\"type\":\"scattergl\"},{\"hovertemplate\":\"variable=pr3<br>id=2251440776<br>rq=%{x}<br>value=%{y}<extra></extra>\",\"legendgroup\":\"pr3\",\"line\":{\"color\":\"#EF553B\",\"dash\":\"solid\"},\"marker\":{\"symbol\":\"circle\"},\"mode\":\"lines\",\"name\":\"pr3\",\"showlegend\":false,\"x\":[0,1,2,3,4,5,6,7,8,9,10,11,12,13,14,15,16,17,18,19,20,21,22,23,24,25,26,27,28,29,30,31,32,33,34,35,36,37,38,39,40,41,42,43,44,45,46,47,48,49,50,51,52,53,54,55,56,57,58,59,60,61,62,63,64,65,66,67,68,69,70,71,72,73,74,75,76,77,78,79,80,81,82,83,84,85,86,87,88,89,90,91,92,93,94,95,96,97,98,99,100,101,102,103,104,105,106],\"xaxis\":\"x2\",\"y\":[0.2934131735355636,0.259493670776585,0.28108108097979057,0.26595744671419946,0.2962962961917826,0.2430555554430298,0.3281249996582031,0.333333332996633,0.333333332996633,0.32835820862849924,0.32835820862849924,0.3461538458579881,0.3909090906721763,0.33212996381898197,0.3289617486218957,0.3330039525582014,0.33640552994243367,0.3328149300040499,0.3284487114593751,0.3358061325309658,0.3490990990816266,0.333996023845792,0.3293663557343333,0.33126110123680164,0.37791710204625756,0.3392559688998842,0.3364485981250182,0.3437330439438645,0.3573248407567447,0.31989482909105277,0.33582089551642114,0.29009819966475453,0.3377287405752112,0.330866481645989,0.3378885316123993,0.3234314269790222,0.34073875802389825,0.33482810161087917,0.3526970954031631,0.343324250650016,0.35611038104633286,0.35876840692915946,0.35076530609262196,0.3359273670267248,0.33288590601048,0.3183279742424086,0.4107142856164966,0.3664233576285719,0.3252818035077529,0.3511730205106953,0.3245861929666374,0.337253414255507,0.3399610136363883,0.33204633203778516,0.3265306122365157,0.33958859616649617,0.33930348257581083,0.32266468179325974,0.3356489945073577,0.3428359866631412,0.3368869935954303,0.3351139601060039,0.33695652173125396,0.3232799245892781,0.33929222910520995,0.3240014930863755,0.32387096773264884,0.34406057736727996,0.32236842104175545,0.3189765458331492,0.3312499999907986,0.3336155800075186,0.3717948717810555,0.33333333332757775,0.3048625792725902,0.33375634517201763,0.3340835208746506,0.33015709502394786,0.33358759216317335,0.33219537814544475,0.36189825878315923,0.33291551766803845,0.35491843795172456,0.3237187741381454,0.3354492187445402,0.33430870518842054,0.33292712648740064,0.3375984251913124,0.35854765505903813,0.33731707316524684,0.33065693430120585,0.33357348702635975,0.3392639531994595,0.33030532424374953,0.33609756097014476,0.39050222069489804,0.3611307420409628,0.33651323634094105,0.3362154150142257,0.33597945364875115,0.33434155420607503,0.33638113570201505,0.3331783306156215,0.4086398131773248,0.33204446592021836,0.33221957040044203,0.3359903381588407],\"yaxis\":\"y2\",\"type\":\"scattergl\"},{\"hovertemplate\":\"variable=pr3<br>id=2471562086<br>rq=%{x}<br>value=%{y}<extra></extra>\",\"legendgroup\":\"pr3\",\"line\":{\"color\":\"#EF553B\",\"dash\":\"solid\"},\"marker\":{\"symbol\":\"circle\"},\"mode\":\"lines\",\"name\":\"pr3\",\"showlegend\":false,\"x\":[0,1,2,3,4,5,6,7,8,9,10,11,12,13,14,15,16,17,18,19,20,21,22,23,24,25,26,27,28,29,30,31,32,33,34,35,36,37,38,39,40,41,42,43,44,45,46,47,48,49,50,51,52,53,54,55,56,57,58,59,60,61,62,63,64,65,66,67,68,69,70,71,72,73,74,75,76,77,78,79,80,81,82,83,84,85,86,87,88,89,90,91,92,93,94,95,96,97,98,99,100,101,102,103,104,105,106],\"xaxis\":\"x3\",\"y\":[0.3316062176094212,0.33333333332609955,0.341121495320461,0.329999999993125,0.3244680850991917,0.33155080213164995,0.3281249999928792,0.330097087371964,0.3382352941107386,0.333333333326525,0.3284313725423115,0.32663316582230667,0.32835820894841716,0.3267326732605872,0.339622641502759,0.34285714285034014,0.3348837209237426,0.3441860465049576,0.3318181818118974,0.3424657534181419,0.342342342335917,0.35227272726716746,0.3409961685769317,0.34351145037621644,0.3333333333280119,0.3458646616487177,0.3697270471425793,0.3356643356594454,0.34859154929066033,0.3415492957696369,0.34688346883077137,0.3460490463175971,0.3371104815824232,0.34502923976187827,0.34254143646014573,0.34340659340266244,0.34510869564826646,0.3516483516429846,0.3465703971067002,0.3455882352888237,0.34859154929066033,0.3380782918099336,0.3368421052582333,0.33812949639780976,0.3381818181766942,0.3418181818130027,0.3308270676639908,0.3488372092966919,0.3476562499943415,0.3498098859260169,0.35185185184642204,0.3408239700321345,0.33834586465635424,0.3446969696915294,0.3492647058770027,0.33884297520077755,0.33609958505642984,0.33730158729601023,0.3319327731034325,0.33043478260270953,0.3348214285652005,0.33771929823944224,0.3405172413731947,0.3390557939853531,0.3445378151200186,0.3467741935425609,0.3407407407354824,0.35074626865126324,0.3432835820842151,0.33716475095247184,0.3307086614118978,0.3514492753570131,0.3321033210281042,0.3476702508908651,0.3512544802814926,0.335907335901932,0.33716475095247184,0.3399209486110026,0.3449612403045064,0.34482758620139164,0.3498098859260169,0.3444444444391289,0.3472222222182034,0.3471074380125447,0.33977900552095097,0.33521126760169945,0.33791208790821986,0.34852546916500754,0.3451086956482664,0.3440514469407281,0.3428571428526077,0.34493670885621125,0.34193548386637185,0.3376205787736117,0.3495145631020832,0.3452768729594832,0.3512658227801785,0.3462783171474343,0.3455149501613301,0.34113712374106553,0.3399999999952778,0.3498349834935391,0.34219269102516336,0.34113712374106553,0.3442622950772642,0.3453947368373712,0.3498349834935391],\"yaxis\":\"y3\",\"type\":\"scattergl\"},{\"hovertemplate\":\"variable=pr3<br>id=2717225084<br>rq=%{x}<br>value=%{y}<extra></extra>\",\"legendgroup\":\"pr3\",\"line\":{\"color\":\"#EF553B\",\"dash\":\"solid\"},\"marker\":{\"symbol\":\"circle\"},\"mode\":\"lines\",\"name\":\"pr3\",\"showlegend\":false,\"x\":[0,1,2,3,4,5,6,7,8,9,10,11,12,13,14,15,16,17,18,19,20,21,22,23,24,25,26,27,28,29,30,31,32,33,34,35,36,37,38,39,40,41,42,43,44,45,46,47,48,49,50,51,52,53,54,55,56,57,58,59,60,61,62,63,64,65,66,67,68,69,70,71,72,73,74,75,76,77,78,79,80,81,82,83,84,85,86,87,88,89,90,91,92,93,94,95,96,97,98,99,100,101,102,103,104,105,106],\"xaxis\":\"x4\",\"y\":[0.32635983262915563,0.32352941175790906,0.3236514522754429,0.32936507935854437,0.3201581027604712,0.32399999999351997,0.3199999999936,0.3225806451547867,0.32388663966955694,0.32510288065174686,0.31872509959524453,0.31199999999376,0.32388663966955694,0.30952380951766817,0.3434343434285617,0.3275862068909037,0.3356643356584674,0.34563758388681814,0.3333333333276644,0.33670033669466837,0.33774834436526907,0.33850931676492996,0.3354430379693759,0.331168831163455,0.34169278996329633,0.33438485803888984,0.33333333332814125,0.33923303834307916,0.3401162790648239,0.3352601156020916,0.34162895927215353,0.3413173652660547,0.3326530612210954,0.3380855397114248,0.340466926066727,0.34200743494105945,0.34285714285408164,0.35752688171562463,0.347338935569365,0.3421052631528932,0.34453781512122494,0.34933333332867555,0.34203655352033896,0.34146341462951946,0.34770889487402007,0.34677419354372613,0.34759358288305353,0.35294117646586975,0.358288770048686,0.34900990098577955,0.3516746411441187,0.334987593047953,0.33580246913165673,0.34328358208528253,0.3497536945769735,0.3427835051502219,0.33850129198529066,0.34507042253116116,0.33095238094844104,0.3270270270226077,0.3305555555509645,0.3324175824130162,0.3351063829742672,0.33507853402702775,0.3445595854877648,0.3442211055233138,0.3607748183975693,0.3577981651335115,0.3403755868504651,0.337468982626086,0.3393782383375728,0.3685567010261784,0.35340314135663087,0.36768802227900155,0.3684210526267313,0.34293193716828624,0.3396226415048568,0.3343023255765363,0.35795454544946087,0.35752688171562463,0.35770234986478194,0.3636363636316411,0.3586626139763121,0.36024844719937504,0.3406249999946777,0.34640522875250973,0.34294871794322196,0.36094674555679074,0.35777126099182155,0.3580858085779036,0.35607321131151354,0.3462837837808591,0.34358974358680694,0.34505862646277174,0.35593220338681414,0.3601398601367121,0.35559265442107185,0.3526405451418004,0.3495495495464005,0.35100548445748625,0.3470483005335685,0.34476534295717726,0.34813499111591356,0.34867256636859584,0.34797891036601075,0.3603603603571139,0.3672727272693885],\"yaxis\":\"y4\",\"type\":\"scattergl\"},{\"hovertemplate\":\"variable=pr4<br>id=855996491<br>rq=%{x}<br>value=%{y}<extra></extra>\",\"legendgroup\":\"pr4\",\"line\":{\"color\":\"#00cc96\",\"dash\":\"solid\"},\"marker\":{\"symbol\":\"circle\"},\"mode\":\"lines\",\"name\":\"pr4\",\"showlegend\":true,\"x\":[0,1,2,3,4,5,6,7,8,9,10,11,12,13,14,15,16,17,18,19,20,21,22,23,24,25,26,27,28,29,30,31,32,33,34,35,36,37,38,39,40,41,42,43,44,45,46,47,48,49,50,51,52,53,54,55,56,57,58,59,60,61,62,63,64,65,66,67,68,69,70,71,72,73,74,75,76,77,78,79,80,81,82,83,84,85,86,87,88,89,90,91,92,93,94,95,96,97,98,99,100,101,102,103,104,105,106],\"xaxis\":\"x\",\"y\":[0.32903603866922476,0.32636103151239043,0.32796317605815184,0.32449386939788055,0.32413989194722514,0.3236384374047403,0.32420091323584094,0.3234285714224109,0.32484258728630333,0.32184898075754903,0.32333618965394006,0.3218130311553954,0.32350463352385084,0.32347195087313285,0.32615803814121425,0.32824010913454765,0.3273954116000468,0.3285286918624145,0.3270491803219117,0.3289365210162328,0.32759092151439995,0.3310401761084014,0.33104395603789294,0.3325991189366263,0.33058078722211987,0.33113673804995175,0.3307797537559365,0.3300465625795664,0.32036353308112536,0.3338879644974323,0.32826912641837097,0.33191602444269785,0.3281414994662417,0.3277689454102143,0.32971110521548347,0.3307610431021685,0.3323568575174015,0.32865400495005986,0.32969522240074556,0.3276882268880135,0.3256097560931489,0.3257836198136059,0.32492940701459017,0.32606501109999236,0.32555307488903923,0.32661372428797103,0.32606924643141794,0.32919511690007314,0.32746113989184855,0.32190760059155626,0.3211538461492713,0.3189636865531399,0.3181529336959944,0.3182392586307465,0.3195496860746258,0.3211176351444811,0.3212835093376485,0.32396389002429266,0.3190184049036262,0.3219233903786753,0.3215662406124086,0.31922685655721633,0.32062146892224075,0.32168820678080656,0.3213128038854496,0.32120349664130643,0.3213689482426076,0.32202688727580797,0.3197815533937462,0.32103021699018414,0.3195918367303457,0.3257814138825847,0.32427307205612765,0.322798145802461,0.3197894736797222,0.3190387404140731,0.3179274611355036,0.3151277823534607,0.3147540983563558,0.3154444899588223,0.3199832249902847,0.3196652719620688,0.31952902963432767,0.3168256545522384,0.3158417809538748,0.3160396039562239,0.3161953727464742,0.31933790875630014,0.319015930626887,0.3378378375334794,0.333333333037037,0.32432432403214023,0.3378378375334794,0.333333333037037,0.3378378375334794,0.3378378375334794,0.333333333037037,0.3378378375334794,0.333333333037037,0.3378378375334794,0.333333333037037,0.333333333037037,0.333333333037037,0.3287671229874273,0.333333333037037,0.333333333037037,0.3378378375334794],\"yaxis\":\"y\",\"type\":\"scattergl\"},{\"hovertemplate\":\"variable=pr4<br>id=2251440776<br>rq=%{x}<br>value=%{y}<extra></extra>\",\"legendgroup\":\"pr4\",\"line\":{\"color\":\"#00cc96\",\"dash\":\"solid\"},\"marker\":{\"symbol\":\"circle\"},\"mode\":\"lines\",\"name\":\"pr4\",\"showlegend\":false,\"x\":[0,1,2,3,4,5,6,7,8,9,10,11,12,13,14,15,16,17,18,19,20,21,22,23,24,25,26,27,28,29,30,31,32,33,34,35,36,37,38,39,40,41,42,43,44,45,46,47,48,49,50,51,52,53,54,55,56,57,58,59,60,61,62,63,64,65,66,67,68,69,70,71,72,73,74,75,76,77,78,79,80,81,82,83,84,85,86,87,88,89,90,91,92,93,94,95,96,97,98,99,100,101,102,103,104,105,106],\"xaxis\":\"x2\",\"y\":[0.4071856285799658,0.4936708858676494,0.464864864697346,0.45744680834842305,0.428571428420257,0.5069444442097478,0.34374999964192704,0.333333332996633,0.333333332996633,0.3432835817479765,0.32835820862849924,0.2692307690006574,0.2818181816473829,0.33212996381898197,0.3480874316813083,0.3384387351667181,0.3466461853440298,0.3483670295369494,0.3415866599177501,0.33630069237269034,0.3490990990816266,0.37375745525600534,0.3403023480145748,0.33688573119524595,0.25844653430260195,0.33981121598482666,0.3315160955290496,0.3469886055281789,0.32834394903761477,0.3733567046377766,0.3395522387999369,0.45867430440647367,0.3347685683470619,0.29972247917977757,0.3394962486541712,0.3417545807821256,0.3311027837200017,0.3228699551247763,0.30982019360905305,0.2997275204087441,0.28383705647973395,0.29585006690800086,0.2780612244661513,0.3022049286379417,0.3060402684289897,0.31350482311752365,0.23214285708758503,0.2744525547178148,0.3333333332975488,0.3819648093654954,0.3439644731437501,0.33535660090198893,0.33684210525440306,0.33822393821523233,0.3530997304491567,0.32298809093412756,0.32288557212859414,0.34015630814191394,0.3367458866462707,0.3383931876999039,0.3297796730554423,0.3333333333254194,0.3330995792348504,0.3435438265679063,0.3389273987513334,0.3407988055159687,0.338494623646208,0.3686701372339905,0.34210526314635276,0.34456289977698473,0.3391666666572454,0.3450465706930554,0.28929765885212566,0.3348873348815524,0.37885835094069464,0.3322335025324495,0.33608402099964846,0.3404584084412317,0.336638698189056,0.3426995798259331,0.32331853874306776,0.3344196540430447,0.3450321304878882,0.35359258304826857,0.33593749999453226,0.334552548153547,0.33609553984343005,0.3331692913331173,0.3415279878885142,0.3239024390191235,0.33211678831578073,0.3306916426460024,0.31830368022880323,0.3285389856114301,0.32926829267757285,0.23368636828986025,0.2738515900995559,0.32935845456189905,0.3045948616550626,0.3238384310012633,0.32782689622572003,0.3171318575502545,0.3301557777209927,0.16870986572606694,0.3366360560603087,0.33174224343147585,0.3316425120719542],\"yaxis\":\"y2\",\"type\":\"scattergl\"},{\"hovertemplate\":\"variable=pr4<br>id=2471562086<br>rq=%{x}<br>value=%{y}<extra></extra>\",\"legendgroup\":\"pr4\",\"line\":{\"color\":\"#00cc96\",\"dash\":\"solid\"},\"marker\":{\"symbol\":\"circle\"},\"mode\":\"lines\",\"name\":\"pr4\",\"showlegend\":false,\"x\":[0,1,2,3,4,5,6,7,8,9,10,11,12,13,14,15,16,17,18,19,20,21,22,23,24,25,26,27,28,29,30,31,32,33,34,35,36,37,38,39,40,41,42,43,44,45,46,47,48,49,50,51,52,53,54,55,56,57,58,59,60,61,62,63,64,65,66,67,68,69,70,71,72,73,74,75,76,77,78,79,80,81,82,83,84,85,86,87,88,89,90,91,92,93,94,95,96,97,98,99,100,101,102,103,104,105,106],\"xaxis\":\"x3\",\"y\":[0.3316062176094212,0.31770833332643866,0.30373831775109544,0.33999999999291663,0.35106382977945333,0.33689839571441843,0.3489583333257605,0.330097087371964,0.3431372548949522,0.34803921567916585,0.34803921567916585,0.3517587939624841,0.3432835820824361,0.3465346534581985,0.31603773584284517,0.3190476190412887,0.32093023255191994,0.3116279069707049,0.32727272726652895,0.31050228309911526,0.31081081080497724,0.29545454544988237,0.3180076628301723,0.3129770992316639,0.31417624520571236,0.3045112781907188,0.20595533498546365,0.30769230768782496,0.2992957746434962,0.2992957746434962,0.2953929539262038,0.2997275204325644,0.31161473087450875,0.3040935672477571,0.2955801104938354,0.2994505494471217,0.3016304347791935,0.300366300361716,0.30324909746836265,0.31617647058339193,0.2992957746434962,0.32384341636530484,0.3157894736795937,0.3165467625851836,0.32363636363146003,0.30545454544991735,0.3233082706716274,0.30620155038265173,0.3085937499949773,0.3117870722384064,0.31481481480995654,0.32958801497613005,0.3233082706716274,0.32196969696461536,0.31249999999521294,0.3223140495812274,0.3278008298698513,0.3253968253914452,0.3445378151200186,0.34347826086334277,0.33035714285099776,0.3333333333272417,0.32327586206315956,0.32618025750489665,0.3235294117590418,0.326612903220319,0.3074074074026634,0.2985074626819262,0.3097014925324984,0.3180076628301723,0.3188976377900443,0.30072463767661944,0.3284132841277919,0.3010752688127079,0.30465949820333543,0.30888030887533974,0.3103448275812525,0.30830039525183955,0.3023255813904663,0.3065134099567926,0.30038022813212323,0.29259259258807724,0.29999999999652777,0.3057851239634322,0.30939226518980906,0.31267605633435824,0.30494505494156426,0.3002680965113911,0.3070652173878276,0.29581993568735504,0.29523809523419,0.29113924050249024,0.30322580644753727,0.29581993568735504,0.2977346278277005,0.2964169381067262,0.2911392405024903,0.2977346278277005,0.2956810631188305,0.3043478260827153,0.29333333332925926,0.29702970296621245,0.3056478405273304,0.3043478260827153,0.2950819672090836,0.3026315789432205,0.3003300329991704],\"yaxis\":\"y3\",\"type\":\"scattergl\"},{\"hovertemplate\":\"variable=pr4<br>id=2717225084<br>rq=%{x}<br>value=%{y}<extra></extra>\",\"legendgroup\":\"pr4\",\"line\":{\"color\":\"#00cc96\",\"dash\":\"solid\"},\"marker\":{\"symbol\":\"circle\"},\"mode\":\"lines\",\"name\":\"pr4\",\"showlegend\":false,\"x\":[0,1,2,3,4,5,6,7,8,9,10,11,12,13,14,15,16,17,18,19,20,21,22,23,24,25,26,27,28,29,30,31,32,33,34,35,36,37,38,39,40,41,42,43,44,45,46,47,48,49,50,51,52,53,54,55,56,57,58,59,60,61,62,63,64,65,66,67,68,69,70,71,72,73,74,75,76,77,78,79,80,81,82,83,84,85,86,87,88,89,90,91,92,93,94,95,96,97,98,99,100,101,102,103,104,105,106],\"xaxis\":\"x4\",\"y\":[0.3556485355574132,0.35714285713535415,0.3568464730216422,0.357142857135771,0.37154150196894187,0.36799999999264,0.37199999999256,0.3709677419280047,0.35627530363651266,0.3580246913506579,0.3705179282794718,0.37599999999248,0.35627530363651266,0.3849206349129976,0.265993265988788,0.2793103448227705,0.28321678321183186,0.2785234899282127,0.2823129251652668,0.2828282828235214,0.2814569536377242,0.28260869564778557,0.28797468353974726,0.29220779220304854,0.27899686519938877,0.2902208201846968,0.2866043613662523,0.2861356932111189,0.2906976744143794,0.2803468208051973,0.2986425339332733,0.2994011976018024,0.326530612241566,0.3116089613002891,0.2957198443551,0.29925650557342703,0.2946428571402264,0.2849462365553099,0.2969187675028443,0.3011695906388718,0.2941176470547042,0.28799999999616,0.29242819842960277,0.29539295392553666,0.283018867920714,0.28225806451233526,0.27807486630644285,0.28342245988925907,0.27540106951503474,0.2970297029666209,0.29665071769980084,0.30769230768849015,0.30370370369995425,0.2960199004938306,0.2955665024594142,0.31443298968666966,0.31266149870397075,0.2887323943628083,0.32619047618659297,0.3378378378332725,0.3333333333287037,0.32967032966580123,0.3218085106340185,0.321989528791597,0.318652849736805,0.3140703517548484,0.28329297820480276,0.2935779816480094,0.3075117370855926,0.32258064515728807,0.31606217616170906,0.2783505154603305,0.30628272250908006,0.2646239554280693,0.2763157894700485,0.3010471204149078,0.31536388139736704,0.3255813953441049,0.281249999996005,0.2795698924693606,0.2898172323721956,0.28311688311320626,0.29483282674323963,0.2950310558960399,0.2968749999953613,0.30392156862248493,0.2980769230721462,0.29289940827969085,0.3020527859193247,0.2970297029678463,0.30116472545506523,0.3023648648623111,0.30769230768967787,0.2998324958098842,0.30508474576012645,0.29370629370372636,0.2971619365584544,0.30834752980998004,0.3009009008981901,0.2998171846407695,0.3059033989239186,0.30866425992501206,0.3055062166935568,0.3008849557495497,0.29876977152637285,0.29729729729461896,0.2854545454519504],\"yaxis\":\"y4\",\"type\":\"scattergl\"}],                        {\"template\":{\"data\":{\"bar\":[{\"error_x\":{\"color\":\"#2a3f5f\"},\"error_y\":{\"color\":\"#2a3f5f\"},\"marker\":{\"line\":{\"color\":\"#E5ECF6\",\"width\":0.5},\"pattern\":{\"fillmode\":\"overlay\",\"size\":10,\"solidity\":0.2}},\"type\":\"bar\"}],\"barpolar\":[{\"marker\":{\"line\":{\"color\":\"#E5ECF6\",\"width\":0.5},\"pattern\":{\"fillmode\":\"overlay\",\"size\":10,\"solidity\":0.2}},\"type\":\"barpolar\"}],\"carpet\":[{\"aaxis\":{\"endlinecolor\":\"#2a3f5f\",\"gridcolor\":\"white\",\"linecolor\":\"white\",\"minorgridcolor\":\"white\",\"startlinecolor\":\"#2a3f5f\"},\"baxis\":{\"endlinecolor\":\"#2a3f5f\",\"gridcolor\":\"white\",\"linecolor\":\"white\",\"minorgridcolor\":\"white\",\"startlinecolor\":\"#2a3f5f\"},\"type\":\"carpet\"}],\"choropleth\":[{\"colorbar\":{\"outlinewidth\":0,\"ticks\":\"\"},\"type\":\"choropleth\"}],\"contour\":[{\"colorbar\":{\"outlinewidth\":0,\"ticks\":\"\"},\"colorscale\":[[0.0,\"#0d0887\"],[0.1111111111111111,\"#46039f\"],[0.2222222222222222,\"#7201a8\"],[0.3333333333333333,\"#9c179e\"],[0.4444444444444444,\"#bd3786\"],[0.5555555555555556,\"#d8576b\"],[0.6666666666666666,\"#ed7953\"],[0.7777777777777778,\"#fb9f3a\"],[0.8888888888888888,\"#fdca26\"],[1.0,\"#f0f921\"]],\"type\":\"contour\"}],\"contourcarpet\":[{\"colorbar\":{\"outlinewidth\":0,\"ticks\":\"\"},\"type\":\"contourcarpet\"}],\"heatmap\":[{\"colorbar\":{\"outlinewidth\":0,\"ticks\":\"\"},\"colorscale\":[[0.0,\"#0d0887\"],[0.1111111111111111,\"#46039f\"],[0.2222222222222222,\"#7201a8\"],[0.3333333333333333,\"#9c179e\"],[0.4444444444444444,\"#bd3786\"],[0.5555555555555556,\"#d8576b\"],[0.6666666666666666,\"#ed7953\"],[0.7777777777777778,\"#fb9f3a\"],[0.8888888888888888,\"#fdca26\"],[1.0,\"#f0f921\"]],\"type\":\"heatmap\"}],\"heatmapgl\":[{\"colorbar\":{\"outlinewidth\":0,\"ticks\":\"\"},\"colorscale\":[[0.0,\"#0d0887\"],[0.1111111111111111,\"#46039f\"],[0.2222222222222222,\"#7201a8\"],[0.3333333333333333,\"#9c179e\"],[0.4444444444444444,\"#bd3786\"],[0.5555555555555556,\"#d8576b\"],[0.6666666666666666,\"#ed7953\"],[0.7777777777777778,\"#fb9f3a\"],[0.8888888888888888,\"#fdca26\"],[1.0,\"#f0f921\"]],\"type\":\"heatmapgl\"}],\"histogram\":[{\"marker\":{\"pattern\":{\"fillmode\":\"overlay\",\"size\":10,\"solidity\":0.2}},\"type\":\"histogram\"}],\"histogram2d\":[{\"colorbar\":{\"outlinewidth\":0,\"ticks\":\"\"},\"colorscale\":[[0.0,\"#0d0887\"],[0.1111111111111111,\"#46039f\"],[0.2222222222222222,\"#7201a8\"],[0.3333333333333333,\"#9c179e\"],[0.4444444444444444,\"#bd3786\"],[0.5555555555555556,\"#d8576b\"],[0.6666666666666666,\"#ed7953\"],[0.7777777777777778,\"#fb9f3a\"],[0.8888888888888888,\"#fdca26\"],[1.0,\"#f0f921\"]],\"type\":\"histogram2d\"}],\"histogram2dcontour\":[{\"colorbar\":{\"outlinewidth\":0,\"ticks\":\"\"},\"colorscale\":[[0.0,\"#0d0887\"],[0.1111111111111111,\"#46039f\"],[0.2222222222222222,\"#7201a8\"],[0.3333333333333333,\"#9c179e\"],[0.4444444444444444,\"#bd3786\"],[0.5555555555555556,\"#d8576b\"],[0.6666666666666666,\"#ed7953\"],[0.7777777777777778,\"#fb9f3a\"],[0.8888888888888888,\"#fdca26\"],[1.0,\"#f0f921\"]],\"type\":\"histogram2dcontour\"}],\"mesh3d\":[{\"colorbar\":{\"outlinewidth\":0,\"ticks\":\"\"},\"type\":\"mesh3d\"}],\"parcoords\":[{\"line\":{\"colorbar\":{\"outlinewidth\":0,\"ticks\":\"\"}},\"type\":\"parcoords\"}],\"pie\":[{\"automargin\":true,\"type\":\"pie\"}],\"scatter\":[{\"marker\":{\"colorbar\":{\"outlinewidth\":0,\"ticks\":\"\"}},\"type\":\"scatter\"}],\"scatter3d\":[{\"line\":{\"colorbar\":{\"outlinewidth\":0,\"ticks\":\"\"}},\"marker\":{\"colorbar\":{\"outlinewidth\":0,\"ticks\":\"\"}},\"type\":\"scatter3d\"}],\"scattercarpet\":[{\"marker\":{\"colorbar\":{\"outlinewidth\":0,\"ticks\":\"\"}},\"type\":\"scattercarpet\"}],\"scattergeo\":[{\"marker\":{\"colorbar\":{\"outlinewidth\":0,\"ticks\":\"\"}},\"type\":\"scattergeo\"}],\"scattergl\":[{\"marker\":{\"colorbar\":{\"outlinewidth\":0,\"ticks\":\"\"}},\"type\":\"scattergl\"}],\"scattermapbox\":[{\"marker\":{\"colorbar\":{\"outlinewidth\":0,\"ticks\":\"\"}},\"type\":\"scattermapbox\"}],\"scatterpolar\":[{\"marker\":{\"colorbar\":{\"outlinewidth\":0,\"ticks\":\"\"}},\"type\":\"scatterpolar\"}],\"scatterpolargl\":[{\"marker\":{\"colorbar\":{\"outlinewidth\":0,\"ticks\":\"\"}},\"type\":\"scatterpolargl\"}],\"scatterternary\":[{\"marker\":{\"colorbar\":{\"outlinewidth\":0,\"ticks\":\"\"}},\"type\":\"scatterternary\"}],\"surface\":[{\"colorbar\":{\"outlinewidth\":0,\"ticks\":\"\"},\"colorscale\":[[0.0,\"#0d0887\"],[0.1111111111111111,\"#46039f\"],[0.2222222222222222,\"#7201a8\"],[0.3333333333333333,\"#9c179e\"],[0.4444444444444444,\"#bd3786\"],[0.5555555555555556,\"#d8576b\"],[0.6666666666666666,\"#ed7953\"],[0.7777777777777778,\"#fb9f3a\"],[0.8888888888888888,\"#fdca26\"],[1.0,\"#f0f921\"]],\"type\":\"surface\"}],\"table\":[{\"cells\":{\"fill\":{\"color\":\"#EBF0F8\"},\"line\":{\"color\":\"white\"}},\"header\":{\"fill\":{\"color\":\"#C8D4E3\"},\"line\":{\"color\":\"white\"}},\"type\":\"table\"}]},\"layout\":{\"annotationdefaults\":{\"arrowcolor\":\"#2a3f5f\",\"arrowhead\":0,\"arrowwidth\":1},\"autotypenumbers\":\"strict\",\"coloraxis\":{\"colorbar\":{\"outlinewidth\":0,\"ticks\":\"\"}},\"colorscale\":{\"diverging\":[[0,\"#8e0152\"],[0.1,\"#c51b7d\"],[0.2,\"#de77ae\"],[0.3,\"#f1b6da\"],[0.4,\"#fde0ef\"],[0.5,\"#f7f7f7\"],[0.6,\"#e6f5d0\"],[0.7,\"#b8e186\"],[0.8,\"#7fbc41\"],[0.9,\"#4d9221\"],[1,\"#276419\"]],\"sequential\":[[0.0,\"#0d0887\"],[0.1111111111111111,\"#46039f\"],[0.2222222222222222,\"#7201a8\"],[0.3333333333333333,\"#9c179e\"],[0.4444444444444444,\"#bd3786\"],[0.5555555555555556,\"#d8576b\"],[0.6666666666666666,\"#ed7953\"],[0.7777777777777778,\"#fb9f3a\"],[0.8888888888888888,\"#fdca26\"],[1.0,\"#f0f921\"]],\"sequentialminus\":[[0.0,\"#0d0887\"],[0.1111111111111111,\"#46039f\"],[0.2222222222222222,\"#7201a8\"],[0.3333333333333333,\"#9c179e\"],[0.4444444444444444,\"#bd3786\"],[0.5555555555555556,\"#d8576b\"],[0.6666666666666666,\"#ed7953\"],[0.7777777777777778,\"#fb9f3a\"],[0.8888888888888888,\"#fdca26\"],[1.0,\"#f0f921\"]]},\"colorway\":[\"#636efa\",\"#EF553B\",\"#00cc96\",\"#ab63fa\",\"#FFA15A\",\"#19d3f3\",\"#FF6692\",\"#B6E880\",\"#FF97FF\",\"#FECB52\"],\"font\":{\"color\":\"#2a3f5f\"},\"geo\":{\"bgcolor\":\"white\",\"lakecolor\":\"white\",\"landcolor\":\"#E5ECF6\",\"showlakes\":true,\"showland\":true,\"subunitcolor\":\"white\"},\"hoverlabel\":{\"align\":\"left\"},\"hovermode\":\"closest\",\"mapbox\":{\"style\":\"light\"},\"paper_bgcolor\":\"white\",\"plot_bgcolor\":\"#E5ECF6\",\"polar\":{\"angularaxis\":{\"gridcolor\":\"white\",\"linecolor\":\"white\",\"ticks\":\"\"},\"bgcolor\":\"#E5ECF6\",\"radialaxis\":{\"gridcolor\":\"white\",\"linecolor\":\"white\",\"ticks\":\"\"}},\"scene\":{\"xaxis\":{\"backgroundcolor\":\"#E5ECF6\",\"gridcolor\":\"white\",\"gridwidth\":2,\"linecolor\":\"white\",\"showbackground\":true,\"ticks\":\"\",\"zerolinecolor\":\"white\"},\"yaxis\":{\"backgroundcolor\":\"#E5ECF6\",\"gridcolor\":\"white\",\"gridwidth\":2,\"linecolor\":\"white\",\"showbackground\":true,\"ticks\":\"\",\"zerolinecolor\":\"white\"},\"zaxis\":{\"backgroundcolor\":\"#E5ECF6\",\"gridcolor\":\"white\",\"gridwidth\":2,\"linecolor\":\"white\",\"showbackground\":true,\"ticks\":\"\",\"zerolinecolor\":\"white\"}},\"shapedefaults\":{\"line\":{\"color\":\"#2a3f5f\"}},\"ternary\":{\"aaxis\":{\"gridcolor\":\"white\",\"linecolor\":\"white\",\"ticks\":\"\"},\"baxis\":{\"gridcolor\":\"white\",\"linecolor\":\"white\",\"ticks\":\"\"},\"bgcolor\":\"#E5ECF6\",\"caxis\":{\"gridcolor\":\"white\",\"linecolor\":\"white\",\"ticks\":\"\"}},\"title\":{\"x\":0.05},\"xaxis\":{\"automargin\":true,\"gridcolor\":\"white\",\"linecolor\":\"white\",\"ticks\":\"\",\"title\":{\"standoff\":15},\"zerolinecolor\":\"white\",\"zerolinewidth\":2},\"yaxis\":{\"automargin\":true,\"gridcolor\":\"white\",\"linecolor\":\"white\",\"ticks\":\"\",\"title\":{\"standoff\":15},\"zerolinecolor\":\"white\",\"zerolinewidth\":2}}},\"xaxis\":{\"anchor\":\"y\",\"domain\":[0.0,0.235],\"title\":{\"text\":\"rq\"}},\"yaxis\":{\"anchor\":\"x\",\"domain\":[0.0,1.0],\"title\":{\"text\":\"value\"},\"range\":[0,1]},\"xaxis2\":{\"anchor\":\"y2\",\"domain\":[0.255,0.49],\"matches\":\"x\",\"title\":{\"text\":\"rq\"}},\"yaxis2\":{\"anchor\":\"x2\",\"domain\":[0.0,1.0],\"matches\":\"y\",\"showticklabels\":false},\"xaxis3\":{\"anchor\":\"y3\",\"domain\":[0.51,0.745],\"matches\":\"x\",\"title\":{\"text\":\"rq\"}},\"yaxis3\":{\"anchor\":\"x3\",\"domain\":[0.0,1.0],\"matches\":\"y\",\"showticklabels\":false},\"xaxis4\":{\"anchor\":\"y4\",\"domain\":[0.7649999999999999,0.9999999999999999],\"matches\":\"x\",\"title\":{\"text\":\"rq\"}},\"yaxis4\":{\"anchor\":\"x4\",\"domain\":[0.0,1.0],\"matches\":\"y\",\"showticklabels\":false},\"annotations\":[{\"font\":{},\"showarrow\":false,\"text\":\"id=855996491\",\"x\":0.1175,\"xanchor\":\"center\",\"xref\":\"paper\",\"y\":1.0,\"yanchor\":\"bottom\",\"yref\":\"paper\"},{\"font\":{},\"showarrow\":false,\"text\":\"id=2251440776\",\"x\":0.3725,\"xanchor\":\"center\",\"xref\":\"paper\",\"y\":1.0,\"yanchor\":\"bottom\",\"yref\":\"paper\"},{\"font\":{},\"showarrow\":false,\"text\":\"id=2471562086\",\"x\":0.6275,\"xanchor\":\"center\",\"xref\":\"paper\",\"y\":1.0,\"yanchor\":\"bottom\",\"yref\":\"paper\"},{\"font\":{},\"showarrow\":false,\"text\":\"id=2717225084\",\"x\":0.8824999999999998,\"xanchor\":\"center\",\"xref\":\"paper\",\"y\":1.0,\"yanchor\":\"bottom\",\"yref\":\"paper\"}],\"legend\":{\"title\":{\"text\":\"variable\"},\"tracegroupgap\":0},\"margin\":{\"t\":60},\"height\":300},                        {\"responsive\": true}                    ).then(function(){\n",
       "                            \n",
       "var gd = document.getElementById('41a06466-bf7b-48d7-a7e6-a79ba1dfc89f');\n",
       "var x = new MutationObserver(function (mutations, observer) {{\n",
       "        var display = window.getComputedStyle(gd).display;\n",
       "        if (!display || display === 'none') {{\n",
       "            console.log([gd, 'removed!']);\n",
       "            Plotly.purge(gd);\n",
       "            observer.disconnect();\n",
       "        }}\n",
       "}});\n",
       "\n",
       "// Listen for the removal of the full notebook cells\n",
       "var notebookContainer = gd.closest('#notebook-container');\n",
       "if (notebookContainer) {{\n",
       "    x.observe(notebookContainer, {childList: true});\n",
       "}}\n",
       "\n",
       "// Listen for the clearing of the current output cell\n",
       "var outputEl = gd.closest('.output');\n",
       "if (outputEl) {{\n",
       "    x.observe(outputEl, {childList: true});\n",
       "}}\n",
       "\n",
       "                        })                };                });            </script>        </div>"
      ]
     },
     "metadata": {},
     "output_type": "display_data"
    },
    {
     "name": "stdout",
     "output_type": "stream",
     "text": [
      "[2251440776, 855996491, 2717225084, 2471562086]\n"
     ]
    },
    {
     "data": {
      "application/vnd.plotly.v1+json": {
       "config": {
        "plotlyServerURL": "https://plot.ly"
       },
       "data": [
        {
         "hovertemplate": "variable=pp<br>id=855996491<br>ym=%{x}<br>value=%{y}<extra></extra>",
         "legendgroup": "pp",
         "line": {
          "color": "#636efa",
          "dash": "solid"
         },
         "marker": {
          "symbol": "circle"
         },
         "mode": "lines",
         "name": "pp",
         "orientation": "v",
         "showlegend": true,
         "type": "scatter",
         "x": [
          "2020-01-01T00:00:00",
          "2020-02-01T00:00:00",
          "2020-03-01T00:00:00",
          "2020-04-01T00:00:00",
          "2020-05-01T00:00:00",
          "2020-06-01T00:00:00",
          "2020-07-01T00:00:00",
          "2020-08-01T00:00:00",
          "2020-09-01T00:00:00",
          "2020-11-01T00:00:00",
          "2020-12-01T00:00:00",
          "2021-01-01T00:00:00",
          "2021-02-01T00:00:00",
          "2021-03-01T00:00:00",
          "2021-04-01T00:00:00",
          "2021-05-01T00:00:00",
          "2021-06-01T00:00:00",
          "2021-07-01T00:00:00",
          "2021-08-01T00:00:00",
          "2021-09-01T00:00:00",
          "2021-10-01T00:00:00"
         ],
         "xaxis": "x",
         "y": [
          0.33781327100157243,
          0.336629921257722,
          0.33798668032570445,
          0.3375917683083554,
          0.3353488934554641,
          0.33491529496374556,
          0.3355416513290667,
          0.3384632922917324,
          0.3394471166534201,
          0.340816802798876,
          0.34003480490776683,
          0.3412556053796356,
          0.3405776103528418,
          0.3413088117117163,
          0.3409694091337665,
          0.34271926329152735,
          0.34023854362673117,
          0.34200587494036916,
          0.3371091979910689,
          0.3369565215560019,
          0.3352769678322807
         ],
         "yaxis": "y"
        },
        {
         "hovertemplate": "variable=pp<br>id=2251440776<br>ym=%{x}<br>value=%{y}<extra></extra>",
         "legendgroup": "pp",
         "line": {
          "color": "#636efa",
          "dash": "solid"
         },
         "marker": {
          "symbol": "circle"
         },
         "mode": "lines",
         "name": "pp",
         "orientation": "v",
         "showlegend": false,
         "type": "scatter",
         "x": [
          "2020-01-01T00:00:00",
          "2020-02-01T00:00:00",
          "2020-03-01T00:00:00",
          "2020-04-01T00:00:00",
          "2020-05-01T00:00:00",
          "2020-06-01T00:00:00",
          "2020-07-01T00:00:00",
          "2020-08-01T00:00:00",
          "2020-09-01T00:00:00",
          "2020-11-01T00:00:00",
          "2020-12-01T00:00:00",
          "2021-01-01T00:00:00",
          "2021-02-01T00:00:00",
          "2021-03-01T00:00:00",
          "2021-04-01T00:00:00",
          "2021-05-01T00:00:00",
          "2021-06-01T00:00:00",
          "2021-07-01T00:00:00",
          "2021-08-01T00:00:00",
          "2021-09-01T00:00:00",
          "2021-10-01T00:00:00"
         ],
         "xaxis": "x2",
         "y": [
          0.32263513508063596,
          0.2991452991026859,
          0.3348436791873655,
          0.3299026425545215,
          0.3337749806742434,
          0.33992389145979546,
          0.33742719675653693,
          0.33243751679432654,
          0.3352590720316369,
          0.3391038696422572,
          0.33371727748341656,
          0.33210816486976363,
          0.3344451455842924,
          0.3396926338042803,
          0.33018573435047455,
          0.3363429869373291,
          0.3382291229522317,
          0.3325058875925625,
          0.3360113960094814,
          0.33634614263026213,
          0.3369752421940959
         ],
         "yaxis": "y2"
        },
        {
         "hovertemplate": "variable=pp<br>id=2471562086<br>ym=%{x}<br>value=%{y}<extra></extra>",
         "legendgroup": "pp",
         "line": {
          "color": "#636efa",
          "dash": "solid"
         },
         "marker": {
          "symbol": "circle"
         },
         "mode": "lines",
         "name": "pp",
         "orientation": "v",
         "showlegend": false,
         "type": "scatter",
         "x": [
          "2020-01-01T00:00:00",
          "2020-02-01T00:00:00",
          "2020-03-01T00:00:00",
          "2020-04-01T00:00:00",
          "2020-05-01T00:00:00",
          "2020-06-01T00:00:00",
          "2020-07-01T00:00:00",
          "2020-08-01T00:00:00",
          "2020-09-01T00:00:00",
          "2020-11-01T00:00:00",
          "2020-12-01T00:00:00",
          "2021-01-01T00:00:00",
          "2021-02-01T00:00:00",
          "2021-03-01T00:00:00",
          "2021-04-01T00:00:00",
          "2021-05-01T00:00:00",
          "2021-06-01T00:00:00",
          "2021-07-01T00:00:00",
          "2021-08-01T00:00:00",
          "2021-09-01T00:00:00",
          "2021-10-01T00:00:00"
         ],
         "xaxis": "x3",
         "y": [
          0.33635778635562186,
          0.33224408135823774,
          0.3287904599635946,
          0.3399461180483716,
          0.34099248120095643,
          0.3442930953483124,
          0.3437374234210806,
          0.3399924613632115,
          0.3406768837789724,
          0.34696656137486676,
          0.34737934613208415,
          0.3457332652000729,
          0.341543915406506,
          0.3437597099930411,
          0.34228942125789297,
          0.34375295564010333,
          0.3431192660537342,
          0.3404128791082303,
          0.33978265501666405,
          0.34539795464497375,
          0.34728260869407934
         ],
         "yaxis": "y3"
        },
        {
         "hovertemplate": "variable=pp<br>id=2717225084<br>ym=%{x}<br>value=%{y}<extra></extra>",
         "legendgroup": "pp",
         "line": {
          "color": "#636efa",
          "dash": "solid"
         },
         "marker": {
          "symbol": "circle"
         },
         "mode": "lines",
         "name": "pp",
         "orientation": "v",
         "showlegend": false,
         "type": "scatter",
         "x": [
          "2020-01-01T00:00:00",
          "2020-02-01T00:00:00",
          "2020-03-01T00:00:00",
          "2020-04-01T00:00:00",
          "2020-05-01T00:00:00",
          "2020-06-01T00:00:00",
          "2020-07-01T00:00:00",
          "2020-08-01T00:00:00",
          "2020-09-01T00:00:00",
          "2020-11-01T00:00:00",
          "2020-12-01T00:00:00",
          "2021-01-01T00:00:00",
          "2021-02-01T00:00:00",
          "2021-03-01T00:00:00",
          "2021-04-01T00:00:00",
          "2021-05-01T00:00:00",
          "2021-06-01T00:00:00",
          "2021-07-01T00:00:00",
          "2021-08-01T00:00:00",
          "2021-09-01T00:00:00",
          "2021-10-01T00:00:00"
         ],
         "xaxis": "x4",
         "y": [
          0.32783335051908924,
          0.32643730711894825,
          0.31882222573754293,
          0.3317218296744036,
          0.3367521367503378,
          0.33468724613964923,
          0.3398963730555272,
          0.3391216736788386,
          0.34391129802987347,
          0.346917045782853,
          0.34731631057691803,
          0.34658414663037934,
          0.34059569773698933,
          0.35057425742435416,
          0.35458381969850683,
          0.3530557358789156,
          0.35463834902647445,
          0.3490134744936567,
          0.34754391853992517,
          0.3533592448629834,
          0.3574809160291699
         ],
         "yaxis": "y4"
        },
        {
         "hovertemplate": "variable=pf<br>id=855996491<br>ym=%{x}<br>value=%{y}<extra></extra>",
         "legendgroup": "pf",
         "line": {
          "color": "#EF553B",
          "dash": "solid"
         },
         "marker": {
          "symbol": "circle"
         },
         "mode": "lines",
         "name": "pf",
         "orientation": "v",
         "showlegend": true,
         "type": "scatter",
         "x": [
          "2020-01-01T00:00:00",
          "2020-02-01T00:00:00",
          "2020-03-01T00:00:00",
          "2020-04-01T00:00:00",
          "2020-05-01T00:00:00",
          "2020-06-01T00:00:00",
          "2020-07-01T00:00:00",
          "2020-08-01T00:00:00",
          "2020-09-01T00:00:00",
          "2020-11-01T00:00:00",
          "2020-12-01T00:00:00",
          "2021-01-01T00:00:00",
          "2021-02-01T00:00:00",
          "2021-03-01T00:00:00",
          "2021-04-01T00:00:00",
          "2021-05-01T00:00:00",
          "2021-06-01T00:00:00",
          "2021-07-01T00:00:00",
          "2021-08-01T00:00:00",
          "2021-09-01T00:00:00",
          "2021-10-01T00:00:00"
         ],
         "xaxis": "x",
         "y": [
          0.338722243862234,
          0.33770078739944753,
          0.33977971311257826,
          0.33718712064086254,
          0.33601402829643234,
          0.3339541030858227,
          0.3322905164990045,
          0.33242134062738016,
          0.335377134096224,
          0.33498249708128364,
          0.33733284484183307,
          0.3388789237652965,
          0.33927364048904046,
          0.3376037853747986,
          0.3371513712327739,
          0.33811484482074594,
          0.33724467622609855,
          0.3384389425023408,
          0.33303126414440276,
          0.3369565215560019,
          0.332361515938087
         ],
         "yaxis": "y"
        },
        {
         "hovertemplate": "variable=pf<br>id=2251440776<br>ym=%{x}<br>value=%{y}<extra></extra>",
         "legendgroup": "pf",
         "line": {
          "color": "#EF553B",
          "dash": "solid"
         },
         "marker": {
          "symbol": "circle"
         },
         "mode": "lines",
         "name": "pf",
         "orientation": "v",
         "showlegend": false,
         "type": "scatter",
         "x": [
          "2020-01-01T00:00:00",
          "2020-02-01T00:00:00",
          "2020-03-01T00:00:00",
          "2020-04-01T00:00:00",
          "2020-05-01T00:00:00",
          "2020-06-01T00:00:00",
          "2020-07-01T00:00:00",
          "2020-08-01T00:00:00",
          "2020-09-01T00:00:00",
          "2020-11-01T00:00:00",
          "2020-12-01T00:00:00",
          "2021-01-01T00:00:00",
          "2021-02-01T00:00:00",
          "2021-03-01T00:00:00",
          "2021-04-01T00:00:00",
          "2021-05-01T00:00:00",
          "2021-06-01T00:00:00",
          "2021-07-01T00:00:00",
          "2021-08-01T00:00:00",
          "2021-09-01T00:00:00",
          "2021-10-01T00:00:00"
         ],
         "xaxis": "x2",
         "y": [
          0.33108108102515527,
          0.2578347577980292,
          0.3352967829481062,
          0.3300417246129341,
          0.3238379154209579,
          0.3311548643255199,
          0.3259052924770454,
          0.31947057242462057,
          0.3293013179244511,
          0.3397827562681676,
          0.3292146596824166,
          0.32957031591555463,
          0.3322816190360382,
          0.33615968909492744,
          0.3275323864497617,
          0.3301533219742751,
          0.3306756189657054,
          0.3358156705471592,
          0.3379487179467923,
          0.33523820630745094,
          0.33379978471295046
         ],
         "yaxis": "y2"
        },
        {
         "hovertemplate": "variable=pf<br>id=2471562086<br>ym=%{x}<br>value=%{y}<extra></extra>",
         "legendgroup": "pf",
         "line": {
          "color": "#EF553B",
          "dash": "solid"
         },
         "marker": {
          "symbol": "circle"
         },
         "mode": "lines",
         "name": "pf",
         "orientation": "v",
         "showlegend": false,
         "type": "scatter",
         "x": [
          "2020-01-01T00:00:00",
          "2020-02-01T00:00:00",
          "2020-03-01T00:00:00",
          "2020-04-01T00:00:00",
          "2020-05-01T00:00:00",
          "2020-06-01T00:00:00",
          "2020-07-01T00:00:00",
          "2020-08-01T00:00:00",
          "2020-09-01T00:00:00",
          "2020-11-01T00:00:00",
          "2020-12-01T00:00:00",
          "2021-01-01T00:00:00",
          "2021-02-01T00:00:00",
          "2021-03-01T00:00:00",
          "2021-04-01T00:00:00",
          "2021-05-01T00:00:00",
          "2021-06-01T00:00:00",
          "2021-07-01T00:00:00",
          "2021-08-01T00:00:00",
          "2021-09-01T00:00:00",
          "2021-10-01T00:00:00"
         ],
         "xaxis": "x3",
         "y": [
          0.33700128699911835,
          0.33417805935088907,
          0.32758375922538624,
          0.3439872642643645,
          0.3458646616520549,
          0.355190230153334,
          0.35361981844853724,
          0.35650207312342064,
          0.3595945082999697,
          0.3475656246577303,
          0.34561494550936367,
          0.3416453755731137,
          0.3382433836541883,
          0.3498705334005703,
          0.3478060989919405,
          0.35174501087509813,
          0.34770642201701946,
          0.35455781156930355,
          0.3562326869790913,
          0.35878168074540334,
          0.34900362318682515
         ],
         "yaxis": "y3"
        },
        {
         "hovertemplate": "variable=pf<br>id=2717225084<br>ym=%{x}<br>value=%{y}<extra></extra>",
         "legendgroup": "pf",
         "line": {
          "color": "#EF553B",
          "dash": "solid"
         },
         "marker": {
          "symbol": "circle"
         },
         "mode": "lines",
         "name": "pf",
         "orientation": "v",
         "showlegend": false,
         "type": "scatter",
         "x": [
          "2020-01-01T00:00:00",
          "2020-02-01T00:00:00",
          "2020-03-01T00:00:00",
          "2020-04-01T00:00:00",
          "2020-05-01T00:00:00",
          "2020-06-01T00:00:00",
          "2020-07-01T00:00:00",
          "2020-08-01T00:00:00",
          "2020-09-01T00:00:00",
          "2020-11-01T00:00:00",
          "2020-12-01T00:00:00",
          "2021-01-01T00:00:00",
          "2021-02-01T00:00:00",
          "2021-03-01T00:00:00",
          "2021-04-01T00:00:00",
          "2021-05-01T00:00:00",
          "2021-06-01T00:00:00",
          "2021-07-01T00:00:00",
          "2021-08-01T00:00:00",
          "2021-09-01T00:00:00",
          "2021-10-01T00:00:00"
         ],
         "xaxis": "x4",
         "y": [
          0.3588738785172792,
          0.3382100811501988,
          0.3316447680834918,
          0.38688483946704544,
          0.3809829059808708,
          0.3666734362288451,
          0.35803108808135564,
          0.35453090736574844,
          0.3580577327459439,
          0.35562869034771255,
          0.35113774535195785,
          0.3522970721242867,
          0.34307777164762326,
          0.3473267326718918,
          0.35108197898737953,
          0.34786237596054964,
          0.3469244640335257,
          0.34841193455140634,
          0.347096341053074,
          0.34675180455206345,
          0.3474045801513458
         ],
         "yaxis": "y4"
        },
        {
         "hovertemplate": "variable=pg<br>id=855996491<br>ym=%{x}<br>value=%{y}<extra></extra>",
         "legendgroup": "pg",
         "line": {
          "color": "#00cc96",
          "dash": "solid"
         },
         "marker": {
          "symbol": "circle"
         },
         "mode": "lines",
         "name": "pg",
         "orientation": "v",
         "showlegend": true,
         "type": "scatter",
         "x": [
          "2020-01-01T00:00:00",
          "2020-02-01T00:00:00",
          "2020-03-01T00:00:00",
          "2020-04-01T00:00:00",
          "2020-05-01T00:00:00",
          "2020-06-01T00:00:00",
          "2020-07-01T00:00:00",
          "2020-08-01T00:00:00",
          "2020-09-01T00:00:00",
          "2020-11-01T00:00:00",
          "2020-12-01T00:00:00",
          "2021-01-01T00:00:00",
          "2021-02-01T00:00:00",
          "2021-03-01T00:00:00",
          "2021-04-01T00:00:00",
          "2021-05-01T00:00:00",
          "2021-06-01T00:00:00",
          "2021-07-01T00:00:00",
          "2021-08-01T00:00:00",
          "2021-09-01T00:00:00",
          "2021-10-01T00:00:00"
         ],
         "xaxis": "x",
         "y": [
          0.3234644851297009,
          0.3256692913365312,
          0.3222336065553135,
          0.3252211110450013,
          0.32863707824205685,
          0.3311306019444243,
          0.33216783216579454,
          0.3291153670751874,
          0.32517574924507014,
          0.32420070011517294,
          0.3226323502458205,
          0.31986547085058353,
          0.32014874915328817,
          0.3210874029090211,
          0.32187921962880345,
          0.31916589188329936,
          0.3225167801423414,
          0.3195551825363081,
          0.329859537819218,
          0.32608695634451795,
          0.332361515938087
         ],
         "yaxis": "y"
        },
        {
         "hovertemplate": "variable=pg<br>id=2251440776<br>ym=%{x}<br>value=%{y}<extra></extra>",
         "legendgroup": "pg",
         "line": {
          "color": "#00cc96",
          "dash": "solid"
         },
         "marker": {
          "symbol": "circle"
         },
         "mode": "lines",
         "name": "pg",
         "orientation": "v",
         "showlegend": false,
         "type": "scatter",
         "x": [
          "2020-01-01T00:00:00",
          "2020-02-01T00:00:00",
          "2020-03-01T00:00:00",
          "2020-04-01T00:00:00",
          "2020-05-01T00:00:00",
          "2020-06-01T00:00:00",
          "2020-07-01T00:00:00",
          "2020-08-01T00:00:00",
          "2020-09-01T00:00:00",
          "2020-11-01T00:00:00",
          "2020-12-01T00:00:00",
          "2021-01-01T00:00:00",
          "2021-02-01T00:00:00",
          "2021-03-01T00:00:00",
          "2021-04-01T00:00:00",
          "2021-05-01T00:00:00",
          "2021-06-01T00:00:00",
          "2021-07-01T00:00:00",
          "2021-08-01T00:00:00",
          "2021-09-01T00:00:00",
          "2021-10-01T00:00:00"
         ],
         "xaxis": "x2",
         "y": [
          0.3462837837252899,
          0.4430199429568348,
          0.329859537819218,
          0.3400556328186362,
          0.3423871038937574,
          0.32892124420641194,
          0.33666751076008694,
          0.3480919107743342,
          0.335439610034885,
          0.32111337405563095,
          0.3370680628236956,
          0.33832151920593045,
          0.3332732353706547,
          0.3241476770831276,
          0.3422818791919597,
          0.33350369108271716,
          0.331095258076068,
          0.3316784418539133,
          0.32603988603802825,
          0.32841565105645565,
          0.3292249730875714
         ],
         "yaxis": "y2"
        },
        {
         "hovertemplate": "variable=pg<br>id=2471562086<br>ym=%{x}<br>value=%{y}<extra></extra>",
         "legendgroup": "pg",
         "line": {
          "color": "#00cc96",
          "dash": "solid"
         },
         "marker": {
          "symbol": "circle"
         },
         "mode": "lines",
         "name": "pg",
         "orientation": "v",
         "showlegend": false,
         "type": "scatter",
         "x": [
          "2020-01-01T00:00:00",
          "2020-02-01T00:00:00",
          "2020-03-01T00:00:00",
          "2020-04-01T00:00:00",
          "2020-05-01T00:00:00",
          "2020-06-01T00:00:00",
          "2020-07-01T00:00:00",
          "2020-08-01T00:00:00",
          "2020-09-01T00:00:00",
          "2020-11-01T00:00:00",
          "2020-12-01T00:00:00",
          "2021-01-01T00:00:00",
          "2021-02-01T00:00:00",
          "2021-03-01T00:00:00",
          "2021-04-01T00:00:00",
          "2021-05-01T00:00:00",
          "2021-06-01T00:00:00",
          "2021-07-01T00:00:00",
          "2021-08-01T00:00:00",
          "2021-09-01T00:00:00",
          "2021-10-01T00:00:00"
         ],
         "xaxis": "x3",
         "y": [
          0.3266409266388247,
          0.3335778592842042,
          0.34362578080392087,
          0.3160666176811409,
          0.31314285714097356,
          0.30051667449365654,
          0.30264275812591046,
          0.30350546550959856,
          0.29972860791706685,
          0.30546781396195694,
          0.3070057083533627,
          0.31262135922170353,
          0.3202127009331935,
          0.30636975660120985,
          0.30990447974505847,
          0.3045020334800695,
          0.30917431192542366,
          0.30502930931821837,
          0.30398465799998303,
          0.2958203646051764,
          0.3037137681145665
         ],
         "yaxis": "y3"
        },
        {
         "hovertemplate": "variable=pg<br>id=2717225084<br>ym=%{x}<br>value=%{y}<extra></extra>",
         "legendgroup": "pg",
         "line": {
          "color": "#00cc96",
          "dash": "solid"
         },
         "marker": {
          "symbol": "circle"
         },
         "mode": "lines",
         "name": "pg",
         "orientation": "v",
         "showlegend": false,
         "type": "scatter",
         "x": [
          "2020-01-01T00:00:00",
          "2020-02-01T00:00:00",
          "2020-03-01T00:00:00",
          "2020-04-01T00:00:00",
          "2020-05-01T00:00:00",
          "2020-06-01T00:00:00",
          "2020-07-01T00:00:00",
          "2020-08-01T00:00:00",
          "2020-09-01T00:00:00",
          "2020-11-01T00:00:00",
          "2020-12-01T00:00:00",
          "2021-01-01T00:00:00",
          "2021-02-01T00:00:00",
          "2021-03-01T00:00:00",
          "2021-04-01T00:00:00",
          "2021-05-01T00:00:00",
          "2021-06-01T00:00:00",
          "2021-07-01T00:00:00",
          "2021-08-01T00:00:00",
          "2021-09-01T00:00:00",
          "2021-10-01T00:00:00"
         ],
         "xaxis": "x4",
         "y": [
          0.31329277095847535,
          0.335352611725138,
          0.34953300617105004,
          0.2813933308523528,
          0.2822649572634494,
          0.2986393176264285,
          0.3020725388587993,
          0.3063474189524496,
          0.29803096922099653,
          0.2974542638645946,
          0.30154594406678153,
          0.30111878124136665,
          0.3163265306107909,
          0.30209900989979366,
          0.29433420130962407,
          0.29908188815589776,
          0.2984371869349908,
          0.30257459095192923,
          0.30535974040420344,
          0.29988895058217685,
          0.2951145038156675
         ],
         "yaxis": "y4"
        }
       ],
       "layout": {
        "annotations": [
         {
          "font": {},
          "showarrow": false,
          "text": "id=855996491",
          "x": 0.1175,
          "xanchor": "center",
          "xref": "paper",
          "y": 1,
          "yanchor": "bottom",
          "yref": "paper"
         },
         {
          "font": {},
          "showarrow": false,
          "text": "id=2251440776",
          "x": 0.3725,
          "xanchor": "center",
          "xref": "paper",
          "y": 1,
          "yanchor": "bottom",
          "yref": "paper"
         },
         {
          "font": {},
          "showarrow": false,
          "text": "id=2471562086",
          "x": 0.6275,
          "xanchor": "center",
          "xref": "paper",
          "y": 1,
          "yanchor": "bottom",
          "yref": "paper"
         },
         {
          "font": {},
          "showarrow": false,
          "text": "id=2717225084",
          "x": 0.8824999999999998,
          "xanchor": "center",
          "xref": "paper",
          "y": 1,
          "yanchor": "bottom",
          "yref": "paper"
         }
        ],
        "height": 300,
        "legend": {
         "title": {
          "text": "variable"
         },
         "tracegroupgap": 0
        },
        "margin": {
         "t": 60
        },
        "template": {
         "data": {
          "bar": [
           {
            "error_x": {
             "color": "#2a3f5f"
            },
            "error_y": {
             "color": "#2a3f5f"
            },
            "marker": {
             "line": {
              "color": "#E5ECF6",
              "width": 0.5
             },
             "pattern": {
              "fillmode": "overlay",
              "size": 10,
              "solidity": 0.2
             }
            },
            "type": "bar"
           }
          ],
          "barpolar": [
           {
            "marker": {
             "line": {
              "color": "#E5ECF6",
              "width": 0.5
             },
             "pattern": {
              "fillmode": "overlay",
              "size": 10,
              "solidity": 0.2
             }
            },
            "type": "barpolar"
           }
          ],
          "carpet": [
           {
            "aaxis": {
             "endlinecolor": "#2a3f5f",
             "gridcolor": "white",
             "linecolor": "white",
             "minorgridcolor": "white",
             "startlinecolor": "#2a3f5f"
            },
            "baxis": {
             "endlinecolor": "#2a3f5f",
             "gridcolor": "white",
             "linecolor": "white",
             "minorgridcolor": "white",
             "startlinecolor": "#2a3f5f"
            },
            "type": "carpet"
           }
          ],
          "choropleth": [
           {
            "colorbar": {
             "outlinewidth": 0,
             "ticks": ""
            },
            "type": "choropleth"
           }
          ],
          "contour": [
           {
            "colorbar": {
             "outlinewidth": 0,
             "ticks": ""
            },
            "colorscale": [
             [
              0,
              "#0d0887"
             ],
             [
              0.1111111111111111,
              "#46039f"
             ],
             [
              0.2222222222222222,
              "#7201a8"
             ],
             [
              0.3333333333333333,
              "#9c179e"
             ],
             [
              0.4444444444444444,
              "#bd3786"
             ],
             [
              0.5555555555555556,
              "#d8576b"
             ],
             [
              0.6666666666666666,
              "#ed7953"
             ],
             [
              0.7777777777777778,
              "#fb9f3a"
             ],
             [
              0.8888888888888888,
              "#fdca26"
             ],
             [
              1,
              "#f0f921"
             ]
            ],
            "type": "contour"
           }
          ],
          "contourcarpet": [
           {
            "colorbar": {
             "outlinewidth": 0,
             "ticks": ""
            },
            "type": "contourcarpet"
           }
          ],
          "heatmap": [
           {
            "colorbar": {
             "outlinewidth": 0,
             "ticks": ""
            },
            "colorscale": [
             [
              0,
              "#0d0887"
             ],
             [
              0.1111111111111111,
              "#46039f"
             ],
             [
              0.2222222222222222,
              "#7201a8"
             ],
             [
              0.3333333333333333,
              "#9c179e"
             ],
             [
              0.4444444444444444,
              "#bd3786"
             ],
             [
              0.5555555555555556,
              "#d8576b"
             ],
             [
              0.6666666666666666,
              "#ed7953"
             ],
             [
              0.7777777777777778,
              "#fb9f3a"
             ],
             [
              0.8888888888888888,
              "#fdca26"
             ],
             [
              1,
              "#f0f921"
             ]
            ],
            "type": "heatmap"
           }
          ],
          "heatmapgl": [
           {
            "colorbar": {
             "outlinewidth": 0,
             "ticks": ""
            },
            "colorscale": [
             [
              0,
              "#0d0887"
             ],
             [
              0.1111111111111111,
              "#46039f"
             ],
             [
              0.2222222222222222,
              "#7201a8"
             ],
             [
              0.3333333333333333,
              "#9c179e"
             ],
             [
              0.4444444444444444,
              "#bd3786"
             ],
             [
              0.5555555555555556,
              "#d8576b"
             ],
             [
              0.6666666666666666,
              "#ed7953"
             ],
             [
              0.7777777777777778,
              "#fb9f3a"
             ],
             [
              0.8888888888888888,
              "#fdca26"
             ],
             [
              1,
              "#f0f921"
             ]
            ],
            "type": "heatmapgl"
           }
          ],
          "histogram": [
           {
            "marker": {
             "pattern": {
              "fillmode": "overlay",
              "size": 10,
              "solidity": 0.2
             }
            },
            "type": "histogram"
           }
          ],
          "histogram2d": [
           {
            "colorbar": {
             "outlinewidth": 0,
             "ticks": ""
            },
            "colorscale": [
             [
              0,
              "#0d0887"
             ],
             [
              0.1111111111111111,
              "#46039f"
             ],
             [
              0.2222222222222222,
              "#7201a8"
             ],
             [
              0.3333333333333333,
              "#9c179e"
             ],
             [
              0.4444444444444444,
              "#bd3786"
             ],
             [
              0.5555555555555556,
              "#d8576b"
             ],
             [
              0.6666666666666666,
              "#ed7953"
             ],
             [
              0.7777777777777778,
              "#fb9f3a"
             ],
             [
              0.8888888888888888,
              "#fdca26"
             ],
             [
              1,
              "#f0f921"
             ]
            ],
            "type": "histogram2d"
           }
          ],
          "histogram2dcontour": [
           {
            "colorbar": {
             "outlinewidth": 0,
             "ticks": ""
            },
            "colorscale": [
             [
              0,
              "#0d0887"
             ],
             [
              0.1111111111111111,
              "#46039f"
             ],
             [
              0.2222222222222222,
              "#7201a8"
             ],
             [
              0.3333333333333333,
              "#9c179e"
             ],
             [
              0.4444444444444444,
              "#bd3786"
             ],
             [
              0.5555555555555556,
              "#d8576b"
             ],
             [
              0.6666666666666666,
              "#ed7953"
             ],
             [
              0.7777777777777778,
              "#fb9f3a"
             ],
             [
              0.8888888888888888,
              "#fdca26"
             ],
             [
              1,
              "#f0f921"
             ]
            ],
            "type": "histogram2dcontour"
           }
          ],
          "mesh3d": [
           {
            "colorbar": {
             "outlinewidth": 0,
             "ticks": ""
            },
            "type": "mesh3d"
           }
          ],
          "parcoords": [
           {
            "line": {
             "colorbar": {
              "outlinewidth": 0,
              "ticks": ""
             }
            },
            "type": "parcoords"
           }
          ],
          "pie": [
           {
            "automargin": true,
            "type": "pie"
           }
          ],
          "scatter": [
           {
            "marker": {
             "colorbar": {
              "outlinewidth": 0,
              "ticks": ""
             }
            },
            "type": "scatter"
           }
          ],
          "scatter3d": [
           {
            "line": {
             "colorbar": {
              "outlinewidth": 0,
              "ticks": ""
             }
            },
            "marker": {
             "colorbar": {
              "outlinewidth": 0,
              "ticks": ""
             }
            },
            "type": "scatter3d"
           }
          ],
          "scattercarpet": [
           {
            "marker": {
             "colorbar": {
              "outlinewidth": 0,
              "ticks": ""
             }
            },
            "type": "scattercarpet"
           }
          ],
          "scattergeo": [
           {
            "marker": {
             "colorbar": {
              "outlinewidth": 0,
              "ticks": ""
             }
            },
            "type": "scattergeo"
           }
          ],
          "scattergl": [
           {
            "marker": {
             "colorbar": {
              "outlinewidth": 0,
              "ticks": ""
             }
            },
            "type": "scattergl"
           }
          ],
          "scattermapbox": [
           {
            "marker": {
             "colorbar": {
              "outlinewidth": 0,
              "ticks": ""
             }
            },
            "type": "scattermapbox"
           }
          ],
          "scatterpolar": [
           {
            "marker": {
             "colorbar": {
              "outlinewidth": 0,
              "ticks": ""
             }
            },
            "type": "scatterpolar"
           }
          ],
          "scatterpolargl": [
           {
            "marker": {
             "colorbar": {
              "outlinewidth": 0,
              "ticks": ""
             }
            },
            "type": "scatterpolargl"
           }
          ],
          "scatterternary": [
           {
            "marker": {
             "colorbar": {
              "outlinewidth": 0,
              "ticks": ""
             }
            },
            "type": "scatterternary"
           }
          ],
          "surface": [
           {
            "colorbar": {
             "outlinewidth": 0,
             "ticks": ""
            },
            "colorscale": [
             [
              0,
              "#0d0887"
             ],
             [
              0.1111111111111111,
              "#46039f"
             ],
             [
              0.2222222222222222,
              "#7201a8"
             ],
             [
              0.3333333333333333,
              "#9c179e"
             ],
             [
              0.4444444444444444,
              "#bd3786"
             ],
             [
              0.5555555555555556,
              "#d8576b"
             ],
             [
              0.6666666666666666,
              "#ed7953"
             ],
             [
              0.7777777777777778,
              "#fb9f3a"
             ],
             [
              0.8888888888888888,
              "#fdca26"
             ],
             [
              1,
              "#f0f921"
             ]
            ],
            "type": "surface"
           }
          ],
          "table": [
           {
            "cells": {
             "fill": {
              "color": "#EBF0F8"
             },
             "line": {
              "color": "white"
             }
            },
            "header": {
             "fill": {
              "color": "#C8D4E3"
             },
             "line": {
              "color": "white"
             }
            },
            "type": "table"
           }
          ]
         },
         "layout": {
          "annotationdefaults": {
           "arrowcolor": "#2a3f5f",
           "arrowhead": 0,
           "arrowwidth": 1
          },
          "autotypenumbers": "strict",
          "coloraxis": {
           "colorbar": {
            "outlinewidth": 0,
            "ticks": ""
           }
          },
          "colorscale": {
           "diverging": [
            [
             0,
             "#8e0152"
            ],
            [
             0.1,
             "#c51b7d"
            ],
            [
             0.2,
             "#de77ae"
            ],
            [
             0.3,
             "#f1b6da"
            ],
            [
             0.4,
             "#fde0ef"
            ],
            [
             0.5,
             "#f7f7f7"
            ],
            [
             0.6,
             "#e6f5d0"
            ],
            [
             0.7,
             "#b8e186"
            ],
            [
             0.8,
             "#7fbc41"
            ],
            [
             0.9,
             "#4d9221"
            ],
            [
             1,
             "#276419"
            ]
           ],
           "sequential": [
            [
             0,
             "#0d0887"
            ],
            [
             0.1111111111111111,
             "#46039f"
            ],
            [
             0.2222222222222222,
             "#7201a8"
            ],
            [
             0.3333333333333333,
             "#9c179e"
            ],
            [
             0.4444444444444444,
             "#bd3786"
            ],
            [
             0.5555555555555556,
             "#d8576b"
            ],
            [
             0.6666666666666666,
             "#ed7953"
            ],
            [
             0.7777777777777778,
             "#fb9f3a"
            ],
            [
             0.8888888888888888,
             "#fdca26"
            ],
            [
             1,
             "#f0f921"
            ]
           ],
           "sequentialminus": [
            [
             0,
             "#0d0887"
            ],
            [
             0.1111111111111111,
             "#46039f"
            ],
            [
             0.2222222222222222,
             "#7201a8"
            ],
            [
             0.3333333333333333,
             "#9c179e"
            ],
            [
             0.4444444444444444,
             "#bd3786"
            ],
            [
             0.5555555555555556,
             "#d8576b"
            ],
            [
             0.6666666666666666,
             "#ed7953"
            ],
            [
             0.7777777777777778,
             "#fb9f3a"
            ],
            [
             0.8888888888888888,
             "#fdca26"
            ],
            [
             1,
             "#f0f921"
            ]
           ]
          },
          "colorway": [
           "#636efa",
           "#EF553B",
           "#00cc96",
           "#ab63fa",
           "#FFA15A",
           "#19d3f3",
           "#FF6692",
           "#B6E880",
           "#FF97FF",
           "#FECB52"
          ],
          "font": {
           "color": "#2a3f5f"
          },
          "geo": {
           "bgcolor": "white",
           "lakecolor": "white",
           "landcolor": "#E5ECF6",
           "showlakes": true,
           "showland": true,
           "subunitcolor": "white"
          },
          "hoverlabel": {
           "align": "left"
          },
          "hovermode": "closest",
          "mapbox": {
           "style": "light"
          },
          "paper_bgcolor": "white",
          "plot_bgcolor": "#E5ECF6",
          "polar": {
           "angularaxis": {
            "gridcolor": "white",
            "linecolor": "white",
            "ticks": ""
           },
           "bgcolor": "#E5ECF6",
           "radialaxis": {
            "gridcolor": "white",
            "linecolor": "white",
            "ticks": ""
           }
          },
          "scene": {
           "xaxis": {
            "backgroundcolor": "#E5ECF6",
            "gridcolor": "white",
            "gridwidth": 2,
            "linecolor": "white",
            "showbackground": true,
            "ticks": "",
            "zerolinecolor": "white"
           },
           "yaxis": {
            "backgroundcolor": "#E5ECF6",
            "gridcolor": "white",
            "gridwidth": 2,
            "linecolor": "white",
            "showbackground": true,
            "ticks": "",
            "zerolinecolor": "white"
           },
           "zaxis": {
            "backgroundcolor": "#E5ECF6",
            "gridcolor": "white",
            "gridwidth": 2,
            "linecolor": "white",
            "showbackground": true,
            "ticks": "",
            "zerolinecolor": "white"
           }
          },
          "shapedefaults": {
           "line": {
            "color": "#2a3f5f"
           }
          },
          "ternary": {
           "aaxis": {
            "gridcolor": "white",
            "linecolor": "white",
            "ticks": ""
           },
           "baxis": {
            "gridcolor": "white",
            "linecolor": "white",
            "ticks": ""
           },
           "bgcolor": "#E5ECF6",
           "caxis": {
            "gridcolor": "white",
            "linecolor": "white",
            "ticks": ""
           }
          },
          "title": {
           "x": 0.05
          },
          "xaxis": {
           "automargin": true,
           "gridcolor": "white",
           "linecolor": "white",
           "ticks": "",
           "title": {
            "standoff": 15
           },
           "zerolinecolor": "white",
           "zerolinewidth": 2
          },
          "yaxis": {
           "automargin": true,
           "gridcolor": "white",
           "linecolor": "white",
           "ticks": "",
           "title": {
            "standoff": 15
           },
           "zerolinecolor": "white",
           "zerolinewidth": 2
          }
         }
        },
        "xaxis": {
         "anchor": "y",
         "domain": [
          0,
          0.235
         ],
         "title": {
          "text": "ym"
         }
        },
        "xaxis2": {
         "anchor": "y2",
         "domain": [
          0.255,
          0.49
         ],
         "matches": "x",
         "title": {
          "text": "ym"
         }
        },
        "xaxis3": {
         "anchor": "y3",
         "domain": [
          0.51,
          0.745
         ],
         "matches": "x",
         "title": {
          "text": "ym"
         }
        },
        "xaxis4": {
         "anchor": "y4",
         "domain": [
          0.7649999999999999,
          0.9999999999999999
         ],
         "matches": "x",
         "title": {
          "text": "ym"
         }
        },
        "yaxis": {
         "anchor": "x",
         "domain": [
          0,
          1
         ],
         "range": [
          0,
          1
         ],
         "title": {
          "text": "value"
         }
        },
        "yaxis2": {
         "anchor": "x2",
         "domain": [
          0,
          1
         ],
         "matches": "y",
         "showticklabels": false
        },
        "yaxis3": {
         "anchor": "x3",
         "domain": [
          0,
          1
         ],
         "matches": "y",
         "showticklabels": false
        },
        "yaxis4": {
         "anchor": "x4",
         "domain": [
          0,
          1
         ],
         "matches": "y",
         "showticklabels": false
        }
       }
      },
      "text/html": [
       "<div>                            <div id=\"515da1c0-5820-4dea-9880-54a322105c5a\" class=\"plotly-graph-div\" style=\"height:300px; width:100%;\"></div>            <script type=\"text/javascript\">                require([\"plotly\"], function(Plotly) {                    window.PLOTLYENV=window.PLOTLYENV || {};                                    if (document.getElementById(\"515da1c0-5820-4dea-9880-54a322105c5a\")) {                    Plotly.newPlot(                        \"515da1c0-5820-4dea-9880-54a322105c5a\",                        [{\"hovertemplate\":\"variable=pp<br>id=855996491<br>ym=%{x}<br>value=%{y}<extra></extra>\",\"legendgroup\":\"pp\",\"line\":{\"color\":\"#636efa\",\"dash\":\"solid\"},\"marker\":{\"symbol\":\"circle\"},\"mode\":\"lines\",\"name\":\"pp\",\"orientation\":\"v\",\"showlegend\":true,\"x\":[\"2020-01-01T00:00:00\",\"2020-02-01T00:00:00\",\"2020-03-01T00:00:00\",\"2020-04-01T00:00:00\",\"2020-05-01T00:00:00\",\"2020-06-01T00:00:00\",\"2020-07-01T00:00:00\",\"2020-08-01T00:00:00\",\"2020-09-01T00:00:00\",\"2020-11-01T00:00:00\",\"2020-12-01T00:00:00\",\"2021-01-01T00:00:00\",\"2021-02-01T00:00:00\",\"2021-03-01T00:00:00\",\"2021-04-01T00:00:00\",\"2021-05-01T00:00:00\",\"2021-06-01T00:00:00\",\"2021-07-01T00:00:00\",\"2021-08-01T00:00:00\",\"2021-09-01T00:00:00\",\"2021-10-01T00:00:00\"],\"xaxis\":\"x\",\"y\":[0.33781327100157243,0.336629921257722,0.33798668032570445,0.3375917683083554,0.3353488934554641,0.33491529496374556,0.3355416513290667,0.3384632922917324,0.3394471166534201,0.340816802798876,0.34003480490776683,0.3412556053796356,0.3405776103528418,0.3413088117117163,0.3409694091337665,0.34271926329152735,0.34023854362673117,0.34200587494036916,0.3371091979910689,0.3369565215560019,0.3352769678322807],\"yaxis\":\"y\",\"type\":\"scatter\"},{\"hovertemplate\":\"variable=pp<br>id=2251440776<br>ym=%{x}<br>value=%{y}<extra></extra>\",\"legendgroup\":\"pp\",\"line\":{\"color\":\"#636efa\",\"dash\":\"solid\"},\"marker\":{\"symbol\":\"circle\"},\"mode\":\"lines\",\"name\":\"pp\",\"orientation\":\"v\",\"showlegend\":false,\"x\":[\"2020-01-01T00:00:00\",\"2020-02-01T00:00:00\",\"2020-03-01T00:00:00\",\"2020-04-01T00:00:00\",\"2020-05-01T00:00:00\",\"2020-06-01T00:00:00\",\"2020-07-01T00:00:00\",\"2020-08-01T00:00:00\",\"2020-09-01T00:00:00\",\"2020-11-01T00:00:00\",\"2020-12-01T00:00:00\",\"2021-01-01T00:00:00\",\"2021-02-01T00:00:00\",\"2021-03-01T00:00:00\",\"2021-04-01T00:00:00\",\"2021-05-01T00:00:00\",\"2021-06-01T00:00:00\",\"2021-07-01T00:00:00\",\"2021-08-01T00:00:00\",\"2021-09-01T00:00:00\",\"2021-10-01T00:00:00\"],\"xaxis\":\"x2\",\"y\":[0.32263513508063596,0.2991452991026859,0.3348436791873655,0.3299026425545215,0.3337749806742434,0.33992389145979546,0.33742719675653693,0.33243751679432654,0.3352590720316369,0.3391038696422572,0.33371727748341656,0.33210816486976363,0.3344451455842924,0.3396926338042803,0.33018573435047455,0.3363429869373291,0.3382291229522317,0.3325058875925625,0.3360113960094814,0.33634614263026213,0.3369752421940959],\"yaxis\":\"y2\",\"type\":\"scatter\"},{\"hovertemplate\":\"variable=pp<br>id=2471562086<br>ym=%{x}<br>value=%{y}<extra></extra>\",\"legendgroup\":\"pp\",\"line\":{\"color\":\"#636efa\",\"dash\":\"solid\"},\"marker\":{\"symbol\":\"circle\"},\"mode\":\"lines\",\"name\":\"pp\",\"orientation\":\"v\",\"showlegend\":false,\"x\":[\"2020-01-01T00:00:00\",\"2020-02-01T00:00:00\",\"2020-03-01T00:00:00\",\"2020-04-01T00:00:00\",\"2020-05-01T00:00:00\",\"2020-06-01T00:00:00\",\"2020-07-01T00:00:00\",\"2020-08-01T00:00:00\",\"2020-09-01T00:00:00\",\"2020-11-01T00:00:00\",\"2020-12-01T00:00:00\",\"2021-01-01T00:00:00\",\"2021-02-01T00:00:00\",\"2021-03-01T00:00:00\",\"2021-04-01T00:00:00\",\"2021-05-01T00:00:00\",\"2021-06-01T00:00:00\",\"2021-07-01T00:00:00\",\"2021-08-01T00:00:00\",\"2021-09-01T00:00:00\",\"2021-10-01T00:00:00\"],\"xaxis\":\"x3\",\"y\":[0.33635778635562186,0.33224408135823774,0.3287904599635946,0.3399461180483716,0.34099248120095643,0.3442930953483124,0.3437374234210806,0.3399924613632115,0.3406768837789724,0.34696656137486676,0.34737934613208415,0.3457332652000729,0.341543915406506,0.3437597099930411,0.34228942125789297,0.34375295564010333,0.3431192660537342,0.3404128791082303,0.33978265501666405,0.34539795464497375,0.34728260869407934],\"yaxis\":\"y3\",\"type\":\"scatter\"},{\"hovertemplate\":\"variable=pp<br>id=2717225084<br>ym=%{x}<br>value=%{y}<extra></extra>\",\"legendgroup\":\"pp\",\"line\":{\"color\":\"#636efa\",\"dash\":\"solid\"},\"marker\":{\"symbol\":\"circle\"},\"mode\":\"lines\",\"name\":\"pp\",\"orientation\":\"v\",\"showlegend\":false,\"x\":[\"2020-01-01T00:00:00\",\"2020-02-01T00:00:00\",\"2020-03-01T00:00:00\",\"2020-04-01T00:00:00\",\"2020-05-01T00:00:00\",\"2020-06-01T00:00:00\",\"2020-07-01T00:00:00\",\"2020-08-01T00:00:00\",\"2020-09-01T00:00:00\",\"2020-11-01T00:00:00\",\"2020-12-01T00:00:00\",\"2021-01-01T00:00:00\",\"2021-02-01T00:00:00\",\"2021-03-01T00:00:00\",\"2021-04-01T00:00:00\",\"2021-05-01T00:00:00\",\"2021-06-01T00:00:00\",\"2021-07-01T00:00:00\",\"2021-08-01T00:00:00\",\"2021-09-01T00:00:00\",\"2021-10-01T00:00:00\"],\"xaxis\":\"x4\",\"y\":[0.32783335051908924,0.32643730711894825,0.31882222573754293,0.3317218296744036,0.3367521367503378,0.33468724613964923,0.3398963730555272,0.3391216736788386,0.34391129802987347,0.346917045782853,0.34731631057691803,0.34658414663037934,0.34059569773698933,0.35057425742435416,0.35458381969850683,0.3530557358789156,0.35463834902647445,0.3490134744936567,0.34754391853992517,0.3533592448629834,0.3574809160291699],\"yaxis\":\"y4\",\"type\":\"scatter\"},{\"hovertemplate\":\"variable=pf<br>id=855996491<br>ym=%{x}<br>value=%{y}<extra></extra>\",\"legendgroup\":\"pf\",\"line\":{\"color\":\"#EF553B\",\"dash\":\"solid\"},\"marker\":{\"symbol\":\"circle\"},\"mode\":\"lines\",\"name\":\"pf\",\"orientation\":\"v\",\"showlegend\":true,\"x\":[\"2020-01-01T00:00:00\",\"2020-02-01T00:00:00\",\"2020-03-01T00:00:00\",\"2020-04-01T00:00:00\",\"2020-05-01T00:00:00\",\"2020-06-01T00:00:00\",\"2020-07-01T00:00:00\",\"2020-08-01T00:00:00\",\"2020-09-01T00:00:00\",\"2020-11-01T00:00:00\",\"2020-12-01T00:00:00\",\"2021-01-01T00:00:00\",\"2021-02-01T00:00:00\",\"2021-03-01T00:00:00\",\"2021-04-01T00:00:00\",\"2021-05-01T00:00:00\",\"2021-06-01T00:00:00\",\"2021-07-01T00:00:00\",\"2021-08-01T00:00:00\",\"2021-09-01T00:00:00\",\"2021-10-01T00:00:00\"],\"xaxis\":\"x\",\"y\":[0.338722243862234,0.33770078739944753,0.33977971311257826,0.33718712064086254,0.33601402829643234,0.3339541030858227,0.3322905164990045,0.33242134062738016,0.335377134096224,0.33498249708128364,0.33733284484183307,0.3388789237652965,0.33927364048904046,0.3376037853747986,0.3371513712327739,0.33811484482074594,0.33724467622609855,0.3384389425023408,0.33303126414440276,0.3369565215560019,0.332361515938087],\"yaxis\":\"y\",\"type\":\"scatter\"},{\"hovertemplate\":\"variable=pf<br>id=2251440776<br>ym=%{x}<br>value=%{y}<extra></extra>\",\"legendgroup\":\"pf\",\"line\":{\"color\":\"#EF553B\",\"dash\":\"solid\"},\"marker\":{\"symbol\":\"circle\"},\"mode\":\"lines\",\"name\":\"pf\",\"orientation\":\"v\",\"showlegend\":false,\"x\":[\"2020-01-01T00:00:00\",\"2020-02-01T00:00:00\",\"2020-03-01T00:00:00\",\"2020-04-01T00:00:00\",\"2020-05-01T00:00:00\",\"2020-06-01T00:00:00\",\"2020-07-01T00:00:00\",\"2020-08-01T00:00:00\",\"2020-09-01T00:00:00\",\"2020-11-01T00:00:00\",\"2020-12-01T00:00:00\",\"2021-01-01T00:00:00\",\"2021-02-01T00:00:00\",\"2021-03-01T00:00:00\",\"2021-04-01T00:00:00\",\"2021-05-01T00:00:00\",\"2021-06-01T00:00:00\",\"2021-07-01T00:00:00\",\"2021-08-01T00:00:00\",\"2021-09-01T00:00:00\",\"2021-10-01T00:00:00\"],\"xaxis\":\"x2\",\"y\":[0.33108108102515527,0.2578347577980292,0.3352967829481062,0.3300417246129341,0.3238379154209579,0.3311548643255199,0.3259052924770454,0.31947057242462057,0.3293013179244511,0.3397827562681676,0.3292146596824166,0.32957031591555463,0.3322816190360382,0.33615968909492744,0.3275323864497617,0.3301533219742751,0.3306756189657054,0.3358156705471592,0.3379487179467923,0.33523820630745094,0.33379978471295046],\"yaxis\":\"y2\",\"type\":\"scatter\"},{\"hovertemplate\":\"variable=pf<br>id=2471562086<br>ym=%{x}<br>value=%{y}<extra></extra>\",\"legendgroup\":\"pf\",\"line\":{\"color\":\"#EF553B\",\"dash\":\"solid\"},\"marker\":{\"symbol\":\"circle\"},\"mode\":\"lines\",\"name\":\"pf\",\"orientation\":\"v\",\"showlegend\":false,\"x\":[\"2020-01-01T00:00:00\",\"2020-02-01T00:00:00\",\"2020-03-01T00:00:00\",\"2020-04-01T00:00:00\",\"2020-05-01T00:00:00\",\"2020-06-01T00:00:00\",\"2020-07-01T00:00:00\",\"2020-08-01T00:00:00\",\"2020-09-01T00:00:00\",\"2020-11-01T00:00:00\",\"2020-12-01T00:00:00\",\"2021-01-01T00:00:00\",\"2021-02-01T00:00:00\",\"2021-03-01T00:00:00\",\"2021-04-01T00:00:00\",\"2021-05-01T00:00:00\",\"2021-06-01T00:00:00\",\"2021-07-01T00:00:00\",\"2021-08-01T00:00:00\",\"2021-09-01T00:00:00\",\"2021-10-01T00:00:00\"],\"xaxis\":\"x3\",\"y\":[0.33700128699911835,0.33417805935088907,0.32758375922538624,0.3439872642643645,0.3458646616520549,0.355190230153334,0.35361981844853724,0.35650207312342064,0.3595945082999697,0.3475656246577303,0.34561494550936367,0.3416453755731137,0.3382433836541883,0.3498705334005703,0.3478060989919405,0.35174501087509813,0.34770642201701946,0.35455781156930355,0.3562326869790913,0.35878168074540334,0.34900362318682515],\"yaxis\":\"y3\",\"type\":\"scatter\"},{\"hovertemplate\":\"variable=pf<br>id=2717225084<br>ym=%{x}<br>value=%{y}<extra></extra>\",\"legendgroup\":\"pf\",\"line\":{\"color\":\"#EF553B\",\"dash\":\"solid\"},\"marker\":{\"symbol\":\"circle\"},\"mode\":\"lines\",\"name\":\"pf\",\"orientation\":\"v\",\"showlegend\":false,\"x\":[\"2020-01-01T00:00:00\",\"2020-02-01T00:00:00\",\"2020-03-01T00:00:00\",\"2020-04-01T00:00:00\",\"2020-05-01T00:00:00\",\"2020-06-01T00:00:00\",\"2020-07-01T00:00:00\",\"2020-08-01T00:00:00\",\"2020-09-01T00:00:00\",\"2020-11-01T00:00:00\",\"2020-12-01T00:00:00\",\"2021-01-01T00:00:00\",\"2021-02-01T00:00:00\",\"2021-03-01T00:00:00\",\"2021-04-01T00:00:00\",\"2021-05-01T00:00:00\",\"2021-06-01T00:00:00\",\"2021-07-01T00:00:00\",\"2021-08-01T00:00:00\",\"2021-09-01T00:00:00\",\"2021-10-01T00:00:00\"],\"xaxis\":\"x4\",\"y\":[0.3588738785172792,0.3382100811501988,0.3316447680834918,0.38688483946704544,0.3809829059808708,0.3666734362288451,0.35803108808135564,0.35453090736574844,0.3580577327459439,0.35562869034771255,0.35113774535195785,0.3522970721242867,0.34307777164762326,0.3473267326718918,0.35108197898737953,0.34786237596054964,0.3469244640335257,0.34841193455140634,0.347096341053074,0.34675180455206345,0.3474045801513458],\"yaxis\":\"y4\",\"type\":\"scatter\"},{\"hovertemplate\":\"variable=pg<br>id=855996491<br>ym=%{x}<br>value=%{y}<extra></extra>\",\"legendgroup\":\"pg\",\"line\":{\"color\":\"#00cc96\",\"dash\":\"solid\"},\"marker\":{\"symbol\":\"circle\"},\"mode\":\"lines\",\"name\":\"pg\",\"orientation\":\"v\",\"showlegend\":true,\"x\":[\"2020-01-01T00:00:00\",\"2020-02-01T00:00:00\",\"2020-03-01T00:00:00\",\"2020-04-01T00:00:00\",\"2020-05-01T00:00:00\",\"2020-06-01T00:00:00\",\"2020-07-01T00:00:00\",\"2020-08-01T00:00:00\",\"2020-09-01T00:00:00\",\"2020-11-01T00:00:00\",\"2020-12-01T00:00:00\",\"2021-01-01T00:00:00\",\"2021-02-01T00:00:00\",\"2021-03-01T00:00:00\",\"2021-04-01T00:00:00\",\"2021-05-01T00:00:00\",\"2021-06-01T00:00:00\",\"2021-07-01T00:00:00\",\"2021-08-01T00:00:00\",\"2021-09-01T00:00:00\",\"2021-10-01T00:00:00\"],\"xaxis\":\"x\",\"y\":[0.3234644851297009,0.3256692913365312,0.3222336065553135,0.3252211110450013,0.32863707824205685,0.3311306019444243,0.33216783216579454,0.3291153670751874,0.32517574924507014,0.32420070011517294,0.3226323502458205,0.31986547085058353,0.32014874915328817,0.3210874029090211,0.32187921962880345,0.31916589188329936,0.3225167801423414,0.3195551825363081,0.329859537819218,0.32608695634451795,0.332361515938087],\"yaxis\":\"y\",\"type\":\"scatter\"},{\"hovertemplate\":\"variable=pg<br>id=2251440776<br>ym=%{x}<br>value=%{y}<extra></extra>\",\"legendgroup\":\"pg\",\"line\":{\"color\":\"#00cc96\",\"dash\":\"solid\"},\"marker\":{\"symbol\":\"circle\"},\"mode\":\"lines\",\"name\":\"pg\",\"orientation\":\"v\",\"showlegend\":false,\"x\":[\"2020-01-01T00:00:00\",\"2020-02-01T00:00:00\",\"2020-03-01T00:00:00\",\"2020-04-01T00:00:00\",\"2020-05-01T00:00:00\",\"2020-06-01T00:00:00\",\"2020-07-01T00:00:00\",\"2020-08-01T00:00:00\",\"2020-09-01T00:00:00\",\"2020-11-01T00:00:00\",\"2020-12-01T00:00:00\",\"2021-01-01T00:00:00\",\"2021-02-01T00:00:00\",\"2021-03-01T00:00:00\",\"2021-04-01T00:00:00\",\"2021-05-01T00:00:00\",\"2021-06-01T00:00:00\",\"2021-07-01T00:00:00\",\"2021-08-01T00:00:00\",\"2021-09-01T00:00:00\",\"2021-10-01T00:00:00\"],\"xaxis\":\"x2\",\"y\":[0.3462837837252899,0.4430199429568348,0.329859537819218,0.3400556328186362,0.3423871038937574,0.32892124420641194,0.33666751076008694,0.3480919107743342,0.335439610034885,0.32111337405563095,0.3370680628236956,0.33832151920593045,0.3332732353706547,0.3241476770831276,0.3422818791919597,0.33350369108271716,0.331095258076068,0.3316784418539133,0.32603988603802825,0.32841565105645565,0.3292249730875714],\"yaxis\":\"y2\",\"type\":\"scatter\"},{\"hovertemplate\":\"variable=pg<br>id=2471562086<br>ym=%{x}<br>value=%{y}<extra></extra>\",\"legendgroup\":\"pg\",\"line\":{\"color\":\"#00cc96\",\"dash\":\"solid\"},\"marker\":{\"symbol\":\"circle\"},\"mode\":\"lines\",\"name\":\"pg\",\"orientation\":\"v\",\"showlegend\":false,\"x\":[\"2020-01-01T00:00:00\",\"2020-02-01T00:00:00\",\"2020-03-01T00:00:00\",\"2020-04-01T00:00:00\",\"2020-05-01T00:00:00\",\"2020-06-01T00:00:00\",\"2020-07-01T00:00:00\",\"2020-08-01T00:00:00\",\"2020-09-01T00:00:00\",\"2020-11-01T00:00:00\",\"2020-12-01T00:00:00\",\"2021-01-01T00:00:00\",\"2021-02-01T00:00:00\",\"2021-03-01T00:00:00\",\"2021-04-01T00:00:00\",\"2021-05-01T00:00:00\",\"2021-06-01T00:00:00\",\"2021-07-01T00:00:00\",\"2021-08-01T00:00:00\",\"2021-09-01T00:00:00\",\"2021-10-01T00:00:00\"],\"xaxis\":\"x3\",\"y\":[0.3266409266388247,0.3335778592842042,0.34362578080392087,0.3160666176811409,0.31314285714097356,0.30051667449365654,0.30264275812591046,0.30350546550959856,0.29972860791706685,0.30546781396195694,0.3070057083533627,0.31262135922170353,0.3202127009331935,0.30636975660120985,0.30990447974505847,0.3045020334800695,0.30917431192542366,0.30502930931821837,0.30398465799998303,0.2958203646051764,0.3037137681145665],\"yaxis\":\"y3\",\"type\":\"scatter\"},{\"hovertemplate\":\"variable=pg<br>id=2717225084<br>ym=%{x}<br>value=%{y}<extra></extra>\",\"legendgroup\":\"pg\",\"line\":{\"color\":\"#00cc96\",\"dash\":\"solid\"},\"marker\":{\"symbol\":\"circle\"},\"mode\":\"lines\",\"name\":\"pg\",\"orientation\":\"v\",\"showlegend\":false,\"x\":[\"2020-01-01T00:00:00\",\"2020-02-01T00:00:00\",\"2020-03-01T00:00:00\",\"2020-04-01T00:00:00\",\"2020-05-01T00:00:00\",\"2020-06-01T00:00:00\",\"2020-07-01T00:00:00\",\"2020-08-01T00:00:00\",\"2020-09-01T00:00:00\",\"2020-11-01T00:00:00\",\"2020-12-01T00:00:00\",\"2021-01-01T00:00:00\",\"2021-02-01T00:00:00\",\"2021-03-01T00:00:00\",\"2021-04-01T00:00:00\",\"2021-05-01T00:00:00\",\"2021-06-01T00:00:00\",\"2021-07-01T00:00:00\",\"2021-08-01T00:00:00\",\"2021-09-01T00:00:00\",\"2021-10-01T00:00:00\"],\"xaxis\":\"x4\",\"y\":[0.31329277095847535,0.335352611725138,0.34953300617105004,0.2813933308523528,0.2822649572634494,0.2986393176264285,0.3020725388587993,0.3063474189524496,0.29803096922099653,0.2974542638645946,0.30154594406678153,0.30111878124136665,0.3163265306107909,0.30209900989979366,0.29433420130962407,0.29908188815589776,0.2984371869349908,0.30257459095192923,0.30535974040420344,0.29988895058217685,0.2951145038156675],\"yaxis\":\"y4\",\"type\":\"scatter\"}],                        {\"template\":{\"data\":{\"bar\":[{\"error_x\":{\"color\":\"#2a3f5f\"},\"error_y\":{\"color\":\"#2a3f5f\"},\"marker\":{\"line\":{\"color\":\"#E5ECF6\",\"width\":0.5},\"pattern\":{\"fillmode\":\"overlay\",\"size\":10,\"solidity\":0.2}},\"type\":\"bar\"}],\"barpolar\":[{\"marker\":{\"line\":{\"color\":\"#E5ECF6\",\"width\":0.5},\"pattern\":{\"fillmode\":\"overlay\",\"size\":10,\"solidity\":0.2}},\"type\":\"barpolar\"}],\"carpet\":[{\"aaxis\":{\"endlinecolor\":\"#2a3f5f\",\"gridcolor\":\"white\",\"linecolor\":\"white\",\"minorgridcolor\":\"white\",\"startlinecolor\":\"#2a3f5f\"},\"baxis\":{\"endlinecolor\":\"#2a3f5f\",\"gridcolor\":\"white\",\"linecolor\":\"white\",\"minorgridcolor\":\"white\",\"startlinecolor\":\"#2a3f5f\"},\"type\":\"carpet\"}],\"choropleth\":[{\"colorbar\":{\"outlinewidth\":0,\"ticks\":\"\"},\"type\":\"choropleth\"}],\"contour\":[{\"colorbar\":{\"outlinewidth\":0,\"ticks\":\"\"},\"colorscale\":[[0.0,\"#0d0887\"],[0.1111111111111111,\"#46039f\"],[0.2222222222222222,\"#7201a8\"],[0.3333333333333333,\"#9c179e\"],[0.4444444444444444,\"#bd3786\"],[0.5555555555555556,\"#d8576b\"],[0.6666666666666666,\"#ed7953\"],[0.7777777777777778,\"#fb9f3a\"],[0.8888888888888888,\"#fdca26\"],[1.0,\"#f0f921\"]],\"type\":\"contour\"}],\"contourcarpet\":[{\"colorbar\":{\"outlinewidth\":0,\"ticks\":\"\"},\"type\":\"contourcarpet\"}],\"heatmap\":[{\"colorbar\":{\"outlinewidth\":0,\"ticks\":\"\"},\"colorscale\":[[0.0,\"#0d0887\"],[0.1111111111111111,\"#46039f\"],[0.2222222222222222,\"#7201a8\"],[0.3333333333333333,\"#9c179e\"],[0.4444444444444444,\"#bd3786\"],[0.5555555555555556,\"#d8576b\"],[0.6666666666666666,\"#ed7953\"],[0.7777777777777778,\"#fb9f3a\"],[0.8888888888888888,\"#fdca26\"],[1.0,\"#f0f921\"]],\"type\":\"heatmap\"}],\"heatmapgl\":[{\"colorbar\":{\"outlinewidth\":0,\"ticks\":\"\"},\"colorscale\":[[0.0,\"#0d0887\"],[0.1111111111111111,\"#46039f\"],[0.2222222222222222,\"#7201a8\"],[0.3333333333333333,\"#9c179e\"],[0.4444444444444444,\"#bd3786\"],[0.5555555555555556,\"#d8576b\"],[0.6666666666666666,\"#ed7953\"],[0.7777777777777778,\"#fb9f3a\"],[0.8888888888888888,\"#fdca26\"],[1.0,\"#f0f921\"]],\"type\":\"heatmapgl\"}],\"histogram\":[{\"marker\":{\"pattern\":{\"fillmode\":\"overlay\",\"size\":10,\"solidity\":0.2}},\"type\":\"histogram\"}],\"histogram2d\":[{\"colorbar\":{\"outlinewidth\":0,\"ticks\":\"\"},\"colorscale\":[[0.0,\"#0d0887\"],[0.1111111111111111,\"#46039f\"],[0.2222222222222222,\"#7201a8\"],[0.3333333333333333,\"#9c179e\"],[0.4444444444444444,\"#bd3786\"],[0.5555555555555556,\"#d8576b\"],[0.6666666666666666,\"#ed7953\"],[0.7777777777777778,\"#fb9f3a\"],[0.8888888888888888,\"#fdca26\"],[1.0,\"#f0f921\"]],\"type\":\"histogram2d\"}],\"histogram2dcontour\":[{\"colorbar\":{\"outlinewidth\":0,\"ticks\":\"\"},\"colorscale\":[[0.0,\"#0d0887\"],[0.1111111111111111,\"#46039f\"],[0.2222222222222222,\"#7201a8\"],[0.3333333333333333,\"#9c179e\"],[0.4444444444444444,\"#bd3786\"],[0.5555555555555556,\"#d8576b\"],[0.6666666666666666,\"#ed7953\"],[0.7777777777777778,\"#fb9f3a\"],[0.8888888888888888,\"#fdca26\"],[1.0,\"#f0f921\"]],\"type\":\"histogram2dcontour\"}],\"mesh3d\":[{\"colorbar\":{\"outlinewidth\":0,\"ticks\":\"\"},\"type\":\"mesh3d\"}],\"parcoords\":[{\"line\":{\"colorbar\":{\"outlinewidth\":0,\"ticks\":\"\"}},\"type\":\"parcoords\"}],\"pie\":[{\"automargin\":true,\"type\":\"pie\"}],\"scatter\":[{\"marker\":{\"colorbar\":{\"outlinewidth\":0,\"ticks\":\"\"}},\"type\":\"scatter\"}],\"scatter3d\":[{\"line\":{\"colorbar\":{\"outlinewidth\":0,\"ticks\":\"\"}},\"marker\":{\"colorbar\":{\"outlinewidth\":0,\"ticks\":\"\"}},\"type\":\"scatter3d\"}],\"scattercarpet\":[{\"marker\":{\"colorbar\":{\"outlinewidth\":0,\"ticks\":\"\"}},\"type\":\"scattercarpet\"}],\"scattergeo\":[{\"marker\":{\"colorbar\":{\"outlinewidth\":0,\"ticks\":\"\"}},\"type\":\"scattergeo\"}],\"scattergl\":[{\"marker\":{\"colorbar\":{\"outlinewidth\":0,\"ticks\":\"\"}},\"type\":\"scattergl\"}],\"scattermapbox\":[{\"marker\":{\"colorbar\":{\"outlinewidth\":0,\"ticks\":\"\"}},\"type\":\"scattermapbox\"}],\"scatterpolar\":[{\"marker\":{\"colorbar\":{\"outlinewidth\":0,\"ticks\":\"\"}},\"type\":\"scatterpolar\"}],\"scatterpolargl\":[{\"marker\":{\"colorbar\":{\"outlinewidth\":0,\"ticks\":\"\"}},\"type\":\"scatterpolargl\"}],\"scatterternary\":[{\"marker\":{\"colorbar\":{\"outlinewidth\":0,\"ticks\":\"\"}},\"type\":\"scatterternary\"}],\"surface\":[{\"colorbar\":{\"outlinewidth\":0,\"ticks\":\"\"},\"colorscale\":[[0.0,\"#0d0887\"],[0.1111111111111111,\"#46039f\"],[0.2222222222222222,\"#7201a8\"],[0.3333333333333333,\"#9c179e\"],[0.4444444444444444,\"#bd3786\"],[0.5555555555555556,\"#d8576b\"],[0.6666666666666666,\"#ed7953\"],[0.7777777777777778,\"#fb9f3a\"],[0.8888888888888888,\"#fdca26\"],[1.0,\"#f0f921\"]],\"type\":\"surface\"}],\"table\":[{\"cells\":{\"fill\":{\"color\":\"#EBF0F8\"},\"line\":{\"color\":\"white\"}},\"header\":{\"fill\":{\"color\":\"#C8D4E3\"},\"line\":{\"color\":\"white\"}},\"type\":\"table\"}]},\"layout\":{\"annotationdefaults\":{\"arrowcolor\":\"#2a3f5f\",\"arrowhead\":0,\"arrowwidth\":1},\"autotypenumbers\":\"strict\",\"coloraxis\":{\"colorbar\":{\"outlinewidth\":0,\"ticks\":\"\"}},\"colorscale\":{\"diverging\":[[0,\"#8e0152\"],[0.1,\"#c51b7d\"],[0.2,\"#de77ae\"],[0.3,\"#f1b6da\"],[0.4,\"#fde0ef\"],[0.5,\"#f7f7f7\"],[0.6,\"#e6f5d0\"],[0.7,\"#b8e186\"],[0.8,\"#7fbc41\"],[0.9,\"#4d9221\"],[1,\"#276419\"]],\"sequential\":[[0.0,\"#0d0887\"],[0.1111111111111111,\"#46039f\"],[0.2222222222222222,\"#7201a8\"],[0.3333333333333333,\"#9c179e\"],[0.4444444444444444,\"#bd3786\"],[0.5555555555555556,\"#d8576b\"],[0.6666666666666666,\"#ed7953\"],[0.7777777777777778,\"#fb9f3a\"],[0.8888888888888888,\"#fdca26\"],[1.0,\"#f0f921\"]],\"sequentialminus\":[[0.0,\"#0d0887\"],[0.1111111111111111,\"#46039f\"],[0.2222222222222222,\"#7201a8\"],[0.3333333333333333,\"#9c179e\"],[0.4444444444444444,\"#bd3786\"],[0.5555555555555556,\"#d8576b\"],[0.6666666666666666,\"#ed7953\"],[0.7777777777777778,\"#fb9f3a\"],[0.8888888888888888,\"#fdca26\"],[1.0,\"#f0f921\"]]},\"colorway\":[\"#636efa\",\"#EF553B\",\"#00cc96\",\"#ab63fa\",\"#FFA15A\",\"#19d3f3\",\"#FF6692\",\"#B6E880\",\"#FF97FF\",\"#FECB52\"],\"font\":{\"color\":\"#2a3f5f\"},\"geo\":{\"bgcolor\":\"white\",\"lakecolor\":\"white\",\"landcolor\":\"#E5ECF6\",\"showlakes\":true,\"showland\":true,\"subunitcolor\":\"white\"},\"hoverlabel\":{\"align\":\"left\"},\"hovermode\":\"closest\",\"mapbox\":{\"style\":\"light\"},\"paper_bgcolor\":\"white\",\"plot_bgcolor\":\"#E5ECF6\",\"polar\":{\"angularaxis\":{\"gridcolor\":\"white\",\"linecolor\":\"white\",\"ticks\":\"\"},\"bgcolor\":\"#E5ECF6\",\"radialaxis\":{\"gridcolor\":\"white\",\"linecolor\":\"white\",\"ticks\":\"\"}},\"scene\":{\"xaxis\":{\"backgroundcolor\":\"#E5ECF6\",\"gridcolor\":\"white\",\"gridwidth\":2,\"linecolor\":\"white\",\"showbackground\":true,\"ticks\":\"\",\"zerolinecolor\":\"white\"},\"yaxis\":{\"backgroundcolor\":\"#E5ECF6\",\"gridcolor\":\"white\",\"gridwidth\":2,\"linecolor\":\"white\",\"showbackground\":true,\"ticks\":\"\",\"zerolinecolor\":\"white\"},\"zaxis\":{\"backgroundcolor\":\"#E5ECF6\",\"gridcolor\":\"white\",\"gridwidth\":2,\"linecolor\":\"white\",\"showbackground\":true,\"ticks\":\"\",\"zerolinecolor\":\"white\"}},\"shapedefaults\":{\"line\":{\"color\":\"#2a3f5f\"}},\"ternary\":{\"aaxis\":{\"gridcolor\":\"white\",\"linecolor\":\"white\",\"ticks\":\"\"},\"baxis\":{\"gridcolor\":\"white\",\"linecolor\":\"white\",\"ticks\":\"\"},\"bgcolor\":\"#E5ECF6\",\"caxis\":{\"gridcolor\":\"white\",\"linecolor\":\"white\",\"ticks\":\"\"}},\"title\":{\"x\":0.05},\"xaxis\":{\"automargin\":true,\"gridcolor\":\"white\",\"linecolor\":\"white\",\"ticks\":\"\",\"title\":{\"standoff\":15},\"zerolinecolor\":\"white\",\"zerolinewidth\":2},\"yaxis\":{\"automargin\":true,\"gridcolor\":\"white\",\"linecolor\":\"white\",\"ticks\":\"\",\"title\":{\"standoff\":15},\"zerolinecolor\":\"white\",\"zerolinewidth\":2}}},\"xaxis\":{\"anchor\":\"y\",\"domain\":[0.0,0.235],\"title\":{\"text\":\"ym\"}},\"yaxis\":{\"anchor\":\"x\",\"domain\":[0.0,1.0],\"title\":{\"text\":\"value\"},\"range\":[0,1]},\"xaxis2\":{\"anchor\":\"y2\",\"domain\":[0.255,0.49],\"matches\":\"x\",\"title\":{\"text\":\"ym\"}},\"yaxis2\":{\"anchor\":\"x2\",\"domain\":[0.0,1.0],\"matches\":\"y\",\"showticklabels\":false},\"xaxis3\":{\"anchor\":\"y3\",\"domain\":[0.51,0.745],\"matches\":\"x\",\"title\":{\"text\":\"ym\"}},\"yaxis3\":{\"anchor\":\"x3\",\"domain\":[0.0,1.0],\"matches\":\"y\",\"showticklabels\":false},\"xaxis4\":{\"anchor\":\"y4\",\"domain\":[0.7649999999999999,0.9999999999999999],\"matches\":\"x\",\"title\":{\"text\":\"ym\"}},\"yaxis4\":{\"anchor\":\"x4\",\"domain\":[0.0,1.0],\"matches\":\"y\",\"showticklabels\":false},\"annotations\":[{\"font\":{},\"showarrow\":false,\"text\":\"id=855996491\",\"x\":0.1175,\"xanchor\":\"center\",\"xref\":\"paper\",\"y\":1.0,\"yanchor\":\"bottom\",\"yref\":\"paper\"},{\"font\":{},\"showarrow\":false,\"text\":\"id=2251440776\",\"x\":0.3725,\"xanchor\":\"center\",\"xref\":\"paper\",\"y\":1.0,\"yanchor\":\"bottom\",\"yref\":\"paper\"},{\"font\":{},\"showarrow\":false,\"text\":\"id=2471562086\",\"x\":0.6275,\"xanchor\":\"center\",\"xref\":\"paper\",\"y\":1.0,\"yanchor\":\"bottom\",\"yref\":\"paper\"},{\"font\":{},\"showarrow\":false,\"text\":\"id=2717225084\",\"x\":0.8824999999999998,\"xanchor\":\"center\",\"xref\":\"paper\",\"y\":1.0,\"yanchor\":\"bottom\",\"yref\":\"paper\"}],\"legend\":{\"title\":{\"text\":\"variable\"},\"tracegroupgap\":0},\"margin\":{\"t\":60},\"height\":300},                        {\"responsive\": true}                    ).then(function(){\n",
       "                            \n",
       "var gd = document.getElementById('515da1c0-5820-4dea-9880-54a322105c5a');\n",
       "var x = new MutationObserver(function (mutations, observer) {{\n",
       "        var display = window.getComputedStyle(gd).display;\n",
       "        if (!display || display === 'none') {{\n",
       "            console.log([gd, 'removed!']);\n",
       "            Plotly.purge(gd);\n",
       "            observer.disconnect();\n",
       "        }}\n",
       "}});\n",
       "\n",
       "// Listen for the removal of the full notebook cells\n",
       "var notebookContainer = gd.closest('#notebook-container');\n",
       "if (notebookContainer) {{\n",
       "    x.observe(notebookContainer, {childList: true});\n",
       "}}\n",
       "\n",
       "// Listen for the clearing of the current output cell\n",
       "var outputEl = gd.closest('.output');\n",
       "if (outputEl) {{\n",
       "    x.observe(outputEl, {childList: true});\n",
       "}}\n",
       "\n",
       "                        })                };                });            </script>        </div>"
      ]
     },
     "metadata": {},
     "output_type": "display_data"
    }
   ],
   "source": [
    "plt_day({2471562086, 2251440776, 2576321385, 855996491, 2717225084} - true_ids,df=ds.day)\n",
    "plt_month({2471562086, 2251440776, 2576321385, 855996491, 2717225084} - true_ids,df=ds.month)"
   ]
  },
  {
   "cell_type": "markdown",
   "metadata": {},
   "source": [
    "# 先只前一半标，其他标0. 如果全对，则要找的5个0在后一半"
   ]
  },
  {
   "cell_type": "code",
   "execution_count": 33,
   "metadata": {},
   "outputs": [
    {
     "name": "stdout",
     "output_type": "stream",
     "text": [
      "[ 855996491 1916407803 2172970175 2238809293 2251440776 2319973783\n",
      " 2347718608 2445049876 2451165982 2471562086 2479963778]\n",
      "11\n"
     ]
    },
    {
     "data": {
      "text/html": [
       "<div>\n",
       "<style scoped>\n",
       "    .dataframe tbody tr th:only-of-type {\n",
       "        vertical-align: middle;\n",
       "    }\n",
       "\n",
       "    .dataframe tbody tr th {\n",
       "        vertical-align: top;\n",
       "    }\n",
       "\n",
       "    .dataframe thead th {\n",
       "        text-align: right;\n",
       "    }\n",
       "</style>\n",
       "<table border=\"1\" class=\"dataframe\">\n",
       "  <thead>\n",
       "    <tr style=\"text-align: right;\">\n",
       "      <th></th>\n",
       "      <th>id</th>\n",
       "      <th>label</th>\n",
       "    </tr>\n",
       "  </thead>\n",
       "  <tbody>\n",
       "    <tr>\n",
       "      <th>0</th>\n",
       "      <td>179406029</td>\n",
       "      <td>0</td>\n",
       "    </tr>\n",
       "    <tr>\n",
       "      <th>1</th>\n",
       "      <td>179406030</td>\n",
       "      <td>0</td>\n",
       "    </tr>\n",
       "    <tr>\n",
       "      <th>2</th>\n",
       "      <td>179406094</td>\n",
       "      <td>0</td>\n",
       "    </tr>\n",
       "    <tr>\n",
       "      <th>3</th>\n",
       "      <td>179406097</td>\n",
       "      <td>0</td>\n",
       "    </tr>\n",
       "    <tr>\n",
       "      <th>4</th>\n",
       "      <td>179406099</td>\n",
       "      <td>0</td>\n",
       "    </tr>\n",
       "    <tr>\n",
       "      <th>...</th>\n",
       "      <td>...</td>\n",
       "      <td>...</td>\n",
       "    </tr>\n",
       "    <tr>\n",
       "      <th>15374</th>\n",
       "      <td>2849971818</td>\n",
       "      <td>0</td>\n",
       "    </tr>\n",
       "    <tr>\n",
       "      <th>15375</th>\n",
       "      <td>2850017469</td>\n",
       "      <td>0</td>\n",
       "    </tr>\n",
       "    <tr>\n",
       "      <th>15376</th>\n",
       "      <td>2850017472</td>\n",
       "      <td>0</td>\n",
       "    </tr>\n",
       "    <tr>\n",
       "      <th>15377</th>\n",
       "      <td>2851323065</td>\n",
       "      <td>0</td>\n",
       "    </tr>\n",
       "    <tr>\n",
       "      <th>15378</th>\n",
       "      <td>2852368013</td>\n",
       "      <td>0</td>\n",
       "    </tr>\n",
       "  </tbody>\n",
       "</table>\n",
       "<p>15379 rows × 2 columns</p>\n",
       "</div>"
      ],
      "text/plain": [
       "               id  label\n",
       "0       179406029      0\n",
       "1       179406030      0\n",
       "2       179406094      0\n",
       "3       179406097      0\n",
       "4       179406099      0\n",
       "...           ...    ...\n",
       "15374  2849971818      0\n",
       "15375  2850017469      0\n",
       "15376  2850017472      0\n",
       "15377  2851323065      0\n",
       "15378  2852368013      0\n",
       "\n",
       "[15379 rows x 2 columns]"
      ]
     },
     "execution_count": 33,
     "metadata": {},
     "output_type": "execute_result"
    }
   ],
   "source": [
    "L = int(df.shape[0]/2)\n",
    "ids = df.index.values[:L]\n",
    "print(ids)\n",
    "\n",
    "submit(ids, 'submit_3_11_1.csv')"
   ]
  },
  {
   "cell_type": "code",
   "execution_count": null,
   "metadata": {},
   "outputs": [],
   "source": []
  }
 ],
 "metadata": {
  "interpreter": {
   "hash": "ecdeaf2ac59fb4ad11976aef5258ba241a9bb1bfad09d91039c8d9c71c1b3462"
  },
  "kernelspec": {
   "display_name": "Python 3.8.12 ('miner')",
   "language": "python",
   "name": "python3"
  },
  "language_info": {
   "codemirror_mode": {
    "name": "ipython",
    "version": 3
   },
   "file_extension": ".py",
   "mimetype": "text/x-python",
   "name": "python",
   "nbconvert_exporter": "python",
   "pygments_lexer": "ipython3",
   "version": "3.8.12"
  },
  "orig_nbformat": 4
 },
 "nbformat": 4,
 "nbformat_minor": 2
}
