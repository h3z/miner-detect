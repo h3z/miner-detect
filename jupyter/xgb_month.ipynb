{
 "cells": [
  {
   "cell_type": "code",
   "execution_count": 1,
   "metadata": {},
   "outputs": [],
   "source": [
    "%load_ext autoreload\n",
    "%autoreload 2"
   ]
  },
  {
   "cell_type": "code",
   "execution_count": 2,
   "metadata": {},
   "outputs": [
    {
     "name": "stderr",
     "output_type": "stream",
     "text": [
      "/opt/conda/envs/miner/lib/python3.8/site-packages/xgboost/compat.py:31: FutureWarning: pandas.Int64Index is deprecated and will be removed from pandas in a future version. Use pandas.Index with the appropriate dtype instead.\n",
      "  from pandas import MultiIndex, Int64Index\n"
     ]
    }
   ],
   "source": [
    "import sys\n",
    "sys.path.append('../src')\n",
    "import xgboost as xgb\n",
    "import pandas as pd\n",
    "from features.UserJoin import UserJoin\n",
    "from features.UserJoin import submit, diff, plt_month, plt_day, load_ids\n",
    "import config as C\n",
    "import matplotlib.pyplot as plt\n",
    "import plotly.express as px"
   ]
  },
  {
   "cell_type": "code",
   "execution_count": 3,
   "metadata": {},
   "outputs": [],
   "source": [
    "# data\n",
    "ds = UserJoin()"
   ]
  },
  {
   "cell_type": "code",
   "execution_count": 6,
   "metadata": {},
   "outputs": [
    {
     "data": {
      "text/html": [
       "<div>\n",
       "<style scoped>\n",
       "    .dataframe tbody tr th:only-of-type {\n",
       "        vertical-align: middle;\n",
       "    }\n",
       "\n",
       "    .dataframe tbody tr th {\n",
       "        vertical-align: top;\n",
       "    }\n",
       "\n",
       "    .dataframe thead th {\n",
       "        text-align: right;\n",
       "    }\n",
       "</style>\n",
       "<table border=\"1\" class=\"dataframe\">\n",
       "  <thead>\n",
       "    <tr style=\"text-align: right;\">\n",
       "      <th></th>\n",
       "      <th>ELEC_TYPE_NAME</th>\n",
       "      <th>VOLT_NAME</th>\n",
       "      <th>PRC_NAME</th>\n",
       "      <th>CONTRACT_CAP</th>\n",
       "      <th>RUN_CAP</th>\n",
       "      <th>SHIFT_NO</th>\n",
       "      <th>BUILD_DATE</th>\n",
       "      <th>CANCEL_DATE</th>\n",
       "      <th>CHK_CYCLE</th>\n",
       "      <th>LAST_CHK_DATE</th>\n",
       "      <th>TMP_NAME</th>\n",
       "      <th>TMP_DATE</th>\n",
       "      <th>IS_FLAG</th>\n",
       "      <th>label</th>\n",
       "      <th>p_f</th>\n",
       "      <th>p_g</th>\n",
       "      <th>f_g</th>\n",
       "      <th>monthcv</th>\n",
       "    </tr>\n",
       "    <tr>\n",
       "      <th>id</th>\n",
       "      <th></th>\n",
       "      <th></th>\n",
       "      <th></th>\n",
       "      <th></th>\n",
       "      <th></th>\n",
       "      <th></th>\n",
       "      <th></th>\n",
       "      <th></th>\n",
       "      <th></th>\n",
       "      <th></th>\n",
       "      <th></th>\n",
       "      <th></th>\n",
       "      <th></th>\n",
       "      <th></th>\n",
       "      <th></th>\n",
       "      <th></th>\n",
       "      <th></th>\n",
       "      <th></th>\n",
       "    </tr>\n",
       "  </thead>\n",
       "  <tbody>\n",
       "    <tr>\n",
       "      <th>179404030</th>\n",
       "      <td>城镇居民生活用电</td>\n",
       "      <td>交流380V</td>\n",
       "      <td>居民生活&lt;1kV(合表)</td>\n",
       "      <td>20.0</td>\n",
       "      <td>20.0</td>\n",
       "      <td>0.0</td>\n",
       "      <td>1998/12/1</td>\n",
       "      <td>0</td>\n",
       "      <td>24.0</td>\n",
       "      <td>1998/12/1</td>\n",
       "      <td>非临时用电</td>\n",
       "      <td>0.0</td>\n",
       "      <td>NaN</td>\n",
       "      <td>test</td>\n",
       "      <td>0.696148</td>\n",
       "      <td>0.308131</td>\n",
       "      <td>0.388017</td>\n",
       "      <td>1.046512</td>\n",
       "    </tr>\n",
       "  </tbody>\n",
       "</table>\n",
       "</div>"
      ],
      "text/plain": [
       "          ELEC_TYPE_NAME VOLT_NAME      PRC_NAME  CONTRACT_CAP  RUN_CAP  \\\n",
       "id                                                                        \n",
       "179404030       城镇居民生活用电    交流380V  居民生活<1kV(合表)          20.0     20.0   \n",
       "\n",
       "           SHIFT_NO BUILD_DATE CANCEL_DATE  CHK_CYCLE LAST_CHK_DATE TMP_NAME  \\\n",
       "id                                                                             \n",
       "179404030       0.0  1998/12/1           0       24.0     1998/12/1    非临时用电   \n",
       "\n",
       "          TMP_DATE  IS_FLAG label       p_f       p_g       f_g   monthcv  \n",
       "id                                                                         \n",
       "179404030      0.0      NaN  test  0.696148  0.308131  0.388017  1.046512  "
      ]
     },
     "execution_count": 6,
     "metadata": {},
     "output_type": "execute_result"
    }
   ],
   "source": [
    "ds.month.iloc[:1, 9:]"
   ]
  },
  {
   "cell_type": "code",
   "execution_count": 88,
   "metadata": {},
   "outputs": [
    {
     "name": "stderr",
     "output_type": "stream",
     "text": [
      "/opt/conda/envs/miner/lib/python3.8/site-packages/xgboost/data.py:208: FutureWarning:\n",
      "\n",
      "pandas.Int64Index is deprecated and will be removed from pandas in a future version. Use pandas.Index with the appropriate dtype instead.\n",
      "\n"
     ]
    },
    {
     "name": "stdout",
     "output_type": "stream",
     "text": [
      "[18:22:11] WARNING: ../src/learner.cc:1095: Starting in XGBoost 1.3.0, the default evaluation metric used with the objective 'binary:logistic' was changed from 'error' to 'logloss'. Explicitly set eval_metric if you'd like to restore the old behavior.\n",
      "0\n"
     ]
    },
    {
     "data": {
      "text/plain": [
       "<AxesSubplot:>"
      ]
     },
     "execution_count": 88,
     "metadata": {},
     "output_type": "execute_result"
    },
    {
     "data": {
      "image/png": "[encoded data removed]",
      "text/plain": [
       "<Figure size 2304x1152 with 1 Axes>"
      ]
     },
     "metadata": {
      "needs_background": "light"
     },
     "output_type": "display_data"
    }
   ],
   "source": [
    "df = ds.month\n",
    "features = [\n",
    "    # strong\n",
    "    # 'VOLT_NAME',\n",
    "    'pq_f',\n",
    "    'pq_g',\n",
    "    'pq_p',\n",
    "    'pq_z',\n",
    "    'pf',\n",
    "    'pp',\n",
    "    'pg',\n",
    "    'p_f',\n",
    "    'p_g',\n",
    "    'f_g',\n",
    "    'monthcv',\n",
    "\n",
    "    # possible\n",
    "    # 'ym',\n",
    "    # 'CONTRACT_CAP',\n",
    "    # 'RUN_CAP',\n",
    "    # 'ELEC_TYPE_NAME',\n",
    "\n",
    "\n",
    "    # useless\n",
    "    # 'PRC_NAME',\n",
    "    # 'SHIFT_NO',\n",
    "    # 'BUILD_DATE',\n",
    "    # 'CANCEL_DATE',\n",
    "    # 'CHK_CYCLE',\n",
    "    # 'LAST_CHK_DATE',\n",
    "\n",
    "]\n",
    "x = df.loc[df.label != 'test', features]\n",
    "x_val = df.loc[df.label == 'test', features]\n",
    "y = df.loc[df.label != 'test', 'IS_FLAG']\n",
    "\n",
    "model = xgb.XGBClassifier(use_label_encoder=False)\n",
    "model.fit(x, y)\n",
    "y_pred = model.predict(x)\n",
    "print((y_pred != y).sum())\n",
    "from xgboost import plot_tree\n",
    "fig, ax = plt.subplots(figsize=(32, 16))\n",
    "plot_tree(model, ax=ax, rankdir='LR')"
   ]
  },
  {
   "cell_type": "code",
   "execution_count": 89,
   "metadata": {},
   "outputs": [
    {
     "data": {
      "text/plain": [
       "(10, 1)"
      ]
     },
     "execution_count": 89,
     "metadata": {},
     "output_type": "execute_result"
    }
   ],
   "source": [
    "pred = pd.DataFrame({'id': x.index.values, 'pred': y_pred.astype(int)}).groupby('id').sum()\n",
    "pred[pred.pred>0].shape"
   ]
  },
  {
   "cell_type": "code",
   "execution_count": 116,
   "metadata": {},
   "outputs": [
    {
     "name": "stdout",
     "output_type": "stream",
     "text": [
      "27\n",
      "in s1 not s2 7\n",
      "in s2 not s1 0\n",
      "inner 27\n"
     ]
    },
    {
     "data": {
      "image/png": "[encoded data removed]",
      "text/plain": [
       "<Figure size 432x288 with 1 Axes>"
      ]
     },
     "metadata": {
      "needs_background": "light"
     },
     "output_type": "display_data"
    }
   ],
   "source": [
    "y_val = model.predict(x_val).astype(int)\n",
    "pred = pd.DataFrame({'id': x_val.index.values, 'pred': y_val.astype(int)}).groupby('id').sum()\n",
    "pred[pred.pred != 0].hist()\n",
    "tmp = pred.loc[[362400993, 887227796, 2238809293],:]\n",
    "pred = pred[pred.pred > 11]\n",
    "\n",
    "\n",
    "pred = pd.concat([pred, tmp])\n",
    "\n",
    "submit(pred.index.unique(), 'submit_3_8_3.csv')\n",
    "inner = diff('submit_3_8_1.csv', 'submit_3_8_3.csv')"
   ]
  },
  {
   "cell_type": "code",
   "execution_count": 107,
   "metadata": {},
   "outputs": [
    {
     "name": "stdout",
     "output_type": "stream",
     "text": [
      "[362400993, 887227796, 2238809293]\n"
     ]
    },
    {
     "data": {
      "application/vnd.plotly.v1+json": {
       "config": {
        "plotlyServerURL": "https://plot.ly"
       },
       "data": [
        {
         "hovertemplate": "variable=pp<br>id=362400993<br>ym=%{x}<br>value=%{y}<extra></extra>",
         "legendgroup": "pp",
         "line": {
          "color": "#636efa",
          "dash": "solid"
         },
         "marker": {
          "symbol": "circle"
         },
         "mode": "lines",
         "name": "pp",
         "orientation": "v",
         "showlegend": true,
         "type": "scatter",
         "x": [
          "2020-01-01T00:00:00",
          "2020-02-01T00:00:00",
          "2020-03-01T00:00:00",
          "2020-04-01T00:00:00",
          "2020-05-01T00:00:00",
          "2020-06-01T00:00:00",
          "2020-07-01T00:00:00",
          "2020-08-01T00:00:00",
          "2020-09-01T00:00:00",
          "2020-10-01T00:00:00",
          "2020-11-01T00:00:00",
          "2020-12-01T00:00:00",
          "2021-01-01T00:00:00",
          "2021-02-01T00:00:00",
          "2021-03-01T00:00:00",
          "2021-04-01T00:00:00",
          "2021-05-01T00:00:00",
          "2021-06-01T00:00:00",
          "2021-07-01T00:00:00",
          "2021-08-01T00:00:00",
          "2021-09-01T00:00:00",
          "2021-10-01T00:00:00"
         ],
         "xaxis": "x",
         "y": [
          0.3337487132235263,
          0.3330697096354476,
          0.3331871161778845,
          0.3331093874040609,
          0.33329263825947203,
          0.33250233717461825,
          0.333636664457862,
          0.33330310175645467,
          0.3318080794831768,
          0.27541131394879864,
          -0.00015852885224859658,
          0.0001543209876519395,
          0,
          0,
          -0.00017337031899838123,
          0.00017956545160388641,
          0,
          0,
          0,
          -0.00035410764871267325,
          0,
          0
         ],
         "yaxis": "y"
        },
        {
         "hovertemplate": "variable=pp<br>id=887227796<br>ym=%{x}<br>value=%{y}<extra></extra>",
         "legendgroup": "pp",
         "line": {
          "color": "#636efa",
          "dash": "solid"
         },
         "marker": {
          "symbol": "circle"
         },
         "mode": "lines",
         "name": "pp",
         "orientation": "v",
         "showlegend": false,
         "type": "scatter",
         "x": [
          "2020-01-01T00:00:00",
          "2020-02-01T00:00:00",
          "2020-03-01T00:00:00",
          "2020-04-01T00:00:00",
          "2020-05-01T00:00:00",
          "2020-06-01T00:00:00",
          "2020-07-01T00:00:00",
          "2020-08-01T00:00:00",
          "2020-09-01T00:00:00",
          "2020-10-01T00:00:00",
          "2020-11-01T00:00:00",
          "2020-12-01T00:00:00",
          "2021-01-01T00:00:00",
          "2021-02-01T00:00:00",
          "2021-03-01T00:00:00",
          "2021-04-01T00:00:00",
          "2021-05-01T00:00:00",
          "2021-06-01T00:00:00",
          "2021-07-01T00:00:00",
          "2021-08-01T00:00:00",
          "2021-09-01T00:00:00",
          "2021-10-01T00:00:00"
         ],
         "xaxis": "x2",
         "y": [
          0.33961161556981206,
          0.3433380357039289,
          0.33809425239537644,
          0.3374590256565081,
          0.3455471574085576,
          0.35146271116443956,
          0.3452666391056417,
          0.3405128205116564,
          0.3378319229634599,
          0.32427458988729096,
          0.33075260167748854,
          0.3332913200557378,
          0.33112431444115203,
          0.33369670542433566,
          0.32843465772939956,
          0.3268618080429766,
          0.3273100967700295,
          0.33163138231493716,
          0.3298514475717286,
          0.33660118674552536,
          0.3365781283913419,
          0.3355484837123945
         ],
         "yaxis": "y2"
        },
        {
         "hovertemplate": "variable=pp<br>id=2238809293<br>ym=%{x}<br>value=%{y}<extra></extra>",
         "legendgroup": "pp",
         "line": {
          "color": "#636efa",
          "dash": "solid"
         },
         "marker": {
          "symbol": "circle"
         },
         "mode": "lines",
         "name": "pp",
         "orientation": "v",
         "showlegend": false,
         "type": "scatter",
         "x": [
          "2020-01-01T00:00:00",
          "2020-02-01T00:00:00",
          "2020-03-01T00:00:00",
          "2020-04-01T00:00:00",
          "2020-05-01T00:00:00",
          "2020-06-01T00:00:00",
          "2020-07-01T00:00:00",
          "2020-08-01T00:00:00",
          "2020-09-01T00:00:00",
          "2020-10-01T00:00:00",
          "2020-11-01T00:00:00",
          "2020-12-01T00:00:00",
          "2021-01-01T00:00:00",
          "2021-02-01T00:00:00",
          "2021-03-01T00:00:00",
          "2021-04-01T00:00:00",
          "2021-05-01T00:00:00",
          "2021-06-01T00:00:00",
          "2021-07-01T00:00:00",
          "2021-08-01T00:00:00",
          "2021-09-01T00:00:00",
          "2021-10-01T00:00:00"
         ],
         "xaxis": "x3",
         "y": [
          0.3380872483174205,
          0.3412894375810523,
          0.336332684820813,
          0.3325985119821907,
          0.33217893217413885,
          0.3385563832476425,
          0.34069627850731454,
          0.34258271077542596,
          0.34077079107121055,
          0.3476755028616779,
          0.3471834913504297,
          0.3416532474457642,
          0.33368588048210357,
          0.3293611386903449,
          0.338192419820143,
          0.3408476104547513,
          0.34569502074240543,
          0.34419917864034655,
          0.3494117647017716,
          0.3469189713689117,
          0.3502004007972169,
          0.3442929697895711
         ],
         "yaxis": "y3"
        },
        {
         "hovertemplate": "variable=pf<br>id=362400993<br>ym=%{x}<br>value=%{y}<extra></extra>",
         "legendgroup": "pf",
         "line": {
          "color": "#EF553B",
          "dash": "solid"
         },
         "marker": {
          "symbol": "circle"
         },
         "mode": "lines",
         "name": "pf",
         "orientation": "v",
         "showlegend": true,
         "type": "scatter",
         "x": [
          "2020-01-01T00:00:00",
          "2020-02-01T00:00:00",
          "2020-03-01T00:00:00",
          "2020-04-01T00:00:00",
          "2020-05-01T00:00:00",
          "2020-06-01T00:00:00",
          "2020-07-01T00:00:00",
          "2020-08-01T00:00:00",
          "2020-09-01T00:00:00",
          "2020-10-01T00:00:00",
          "2020-11-01T00:00:00",
          "2020-12-01T00:00:00",
          "2021-01-01T00:00:00",
          "2021-02-01T00:00:00",
          "2021-03-01T00:00:00",
          "2021-04-01T00:00:00",
          "2021-05-01T00:00:00",
          "2021-06-01T00:00:00",
          "2021-07-01T00:00:00",
          "2021-08-01T00:00:00",
          "2021-09-01T00:00:00",
          "2021-10-01T00:00:00"
         ],
         "xaxis": "x",
         "y": [
          0.33445305304039413,
          0.33273076488344405,
          0.33249780674061596,
          0.33280400659419285,
          0.3323159565356347,
          0.3321283889041313,
          0.3316512243519883,
          0.33148920732512704,
          0.3312851353074744,
          0.3758545563791161,
          0.5818008877523494,
          0.5820987654231158,
          0.5815073814983449,
          0.5819912152162886,
          0.5811373092825739,
          0.580355539583761,
          0.5826374665104358,
          0.5825168107476942,
          0.6034383953981823,
          0.5892351274578883,
          0.591143911417301,
          0.5906810035630581
         ],
         "yaxis": "y"
        },
        {
         "hovertemplate": "variable=pf<br>id=887227796<br>ym=%{x}<br>value=%{y}<extra></extra>",
         "legendgroup": "pf",
         "line": {
          "color": "#EF553B",
          "dash": "solid"
         },
         "marker": {
          "symbol": "circle"
         },
         "mode": "lines",
         "name": "pf",
         "orientation": "v",
         "showlegend": false,
         "type": "scatter",
         "x": [
          "2020-01-01T00:00:00",
          "2020-02-01T00:00:00",
          "2020-03-01T00:00:00",
          "2020-04-01T00:00:00",
          "2020-05-01T00:00:00",
          "2020-06-01T00:00:00",
          "2020-07-01T00:00:00",
          "2020-08-01T00:00:00",
          "2020-09-01T00:00:00",
          "2020-10-01T00:00:00",
          "2020-11-01T00:00:00",
          "2020-12-01T00:00:00",
          "2021-01-01T00:00:00",
          "2021-02-01T00:00:00",
          "2021-03-01T00:00:00",
          "2021-04-01T00:00:00",
          "2021-05-01T00:00:00",
          "2021-06-01T00:00:00",
          "2021-07-01T00:00:00",
          "2021-08-01T00:00:00",
          "2021-09-01T00:00:00",
          "2021-10-01T00:00:00"
         ],
         "xaxis": "x2",
         "y": [
          0.41095028319513194,
          0.4004475361171355,
          0.39874422134548576,
          0.4330281451314964,
          0.42124000437933373,
          0.42329350363767204,
          0.3744935923920029,
          0.32601709401597945,
          0.3307922381079268,
          0.32997464150191874,
          0.31612286963794617,
          0.3236702798070596,
          0.3346282754405293,
          0.33848110464911285,
          0.32513164193238325,
          0.32905217044838186,
          0.35077502783098924,
          0.3538812785373438,
          0.36469440127095565,
          0.36037297755367864,
          0.36657740464512345,
          0.3434575065502459
         ],
         "yaxis": "y2"
        },
        {
         "hovertemplate": "variable=pf<br>id=2238809293<br>ym=%{x}<br>value=%{y}<extra></extra>",
         "legendgroup": "pf",
         "line": {
          "color": "#EF553B",
          "dash": "solid"
         },
         "marker": {
          "symbol": "circle"
         },
         "mode": "lines",
         "name": "pf",
         "orientation": "v",
         "showlegend": false,
         "type": "scatter",
         "x": [
          "2020-01-01T00:00:00",
          "2020-02-01T00:00:00",
          "2020-03-01T00:00:00",
          "2020-04-01T00:00:00",
          "2020-05-01T00:00:00",
          "2020-06-01T00:00:00",
          "2020-07-01T00:00:00",
          "2020-08-01T00:00:00",
          "2020-09-01T00:00:00",
          "2020-10-01T00:00:00",
          "2020-11-01T00:00:00",
          "2020-12-01T00:00:00",
          "2021-01-01T00:00:00",
          "2021-02-01T00:00:00",
          "2021-03-01T00:00:00",
          "2021-04-01T00:00:00",
          "2021-05-01T00:00:00",
          "2021-06-01T00:00:00",
          "2021-07-01T00:00:00",
          "2021-08-01T00:00:00",
          "2021-09-01T00:00:00",
          "2021-10-01T00:00:00"
         ],
         "xaxis": "x3",
         "y": [
          0.326901565990955,
          0.3155006858667284,
          0.31785019454866426,
          0.3127583356253409,
          0.3252525252478319,
          0.3390701258625858,
          0.3457382953139767,
          0.34258271077542596,
          0.3427991886371106,
          0.34061542560050206,
          0.32905744561727474,
          0.3215244229693837,
          0.31861448968378353,
          0.3263819927122413,
          0.33119533527214,
          0.3384430417742945,
          0.3482883817382224,
          0.3477926077984113,
          0.35058823528999306,
          0.3517709849544909,
          0.3439378757471952,
          0.3368083400115369
         ],
         "yaxis": "y3"
        },
        {
         "hovertemplate": "variable=pg<br>id=362400993<br>ym=%{x}<br>value=%{y}<extra></extra>",
         "legendgroup": "pg",
         "line": {
          "color": "#00cc96",
          "dash": "solid"
         },
         "marker": {
          "symbol": "circle"
         },
         "mode": "lines",
         "name": "pg",
         "orientation": "v",
         "showlegend": true,
         "type": "scatter",
         "x": [
          "2020-01-01T00:00:00",
          "2020-02-01T00:00:00",
          "2020-03-01T00:00:00",
          "2020-04-01T00:00:00",
          "2020-05-01T00:00:00",
          "2020-06-01T00:00:00",
          "2020-07-01T00:00:00",
          "2020-08-01T00:00:00",
          "2020-09-01T00:00:00",
          "2020-10-01T00:00:00",
          "2020-11-01T00:00:00",
          "2020-12-01T00:00:00",
          "2021-01-01T00:00:00",
          "2021-02-01T00:00:00",
          "2021-03-01T00:00:00",
          "2021-04-01T00:00:00",
          "2021-05-01T00:00:00",
          "2021-06-01T00:00:00",
          "2021-07-01T00:00:00",
          "2021-08-01T00:00:00",
          "2021-09-01T00:00:00",
          "2021-10-01T00:00:00"
         ],
         "xaxis": "x",
         "y": [
          0.33179823373066153,
          0.3341995254754593,
          0.334315077075233,
          0.3340866059956386,
          0.33439140519878896,
          0.3353692739150179,
          0.33471211118187694,
          0.3352076909093487,
          0.33690678519627526,
          0.3487341296645726,
          0.41835764108404633,
          0.4177469135738002,
          0.41849261848611513,
          0.4180087847654098,
          0.41903606101908747,
          0.41946489494667866,
          0.4173625334738087,
          0.4174831892330935,
          0.3965616045731644,
          0.41111898015541365,
          0.4088560885457987,
          0.4093189964010997
         ],
         "yaxis": "y"
        },
        {
         "hovertemplate": "variable=pg<br>id=887227796<br>ym=%{x}<br>value=%{y}<extra></extra>",
         "legendgroup": "pg",
         "line": {
          "color": "#00cc96",
          "dash": "solid"
         },
         "marker": {
          "symbol": "circle"
         },
         "mode": "lines",
         "name": "pg",
         "orientation": "v",
         "showlegend": false,
         "type": "scatter",
         "x": [
          "2020-01-01T00:00:00",
          "2020-02-01T00:00:00",
          "2020-03-01T00:00:00",
          "2020-04-01T00:00:00",
          "2020-05-01T00:00:00",
          "2020-06-01T00:00:00",
          "2020-07-01T00:00:00",
          "2020-08-01T00:00:00",
          "2020-09-01T00:00:00",
          "2020-10-01T00:00:00",
          "2020-11-01T00:00:00",
          "2020-12-01T00:00:00",
          "2021-01-01T00:00:00",
          "2021-02-01T00:00:00",
          "2021-03-01T00:00:00",
          "2021-04-01T00:00:00",
          "2021-05-01T00:00:00",
          "2021-06-01T00:00:00",
          "2021-07-01T00:00:00",
          "2021-08-01T00:00:00",
          "2021-09-01T00:00:00",
          "2021-10-01T00:00:00"
         ],
         "xaxis": "x2",
         "y": [
          0.24943810123056082,
          0.25621442817407103,
          0.2631615262522379,
          0.2295128292063439,
          0.23321283820663152,
          0.22524378519331023,
          0.2802397684982214,
          0.3334700854689454,
          0.3313758389249658,
          0.34575076860854614,
          0.35312452867953786,
          0.34303840013300124,
          0.33424741011451004,
          0.3278221899204952,
          0.3464337003334302,
          0.34408602150366346,
          0.3219148753946993,
          0.3144873391435679,
          0.30545415115370134,
          0.30302583569711045,
          0.2968444669599159,
          0.3209940097326797
         ],
         "yaxis": "y2"
        },
        {
         "hovertemplate": "variable=pg<br>id=2238809293<br>ym=%{x}<br>value=%{y}<extra></extra>",
         "legendgroup": "pg",
         "line": {
          "color": "#00cc96",
          "dash": "solid"
         },
         "marker": {
          "symbol": "circle"
         },
         "mode": "lines",
         "name": "pg",
         "orientation": "v",
         "showlegend": false,
         "type": "scatter",
         "x": [
          "2020-01-01T00:00:00",
          "2020-02-01T00:00:00",
          "2020-03-01T00:00:00",
          "2020-04-01T00:00:00",
          "2020-05-01T00:00:00",
          "2020-06-01T00:00:00",
          "2020-07-01T00:00:00",
          "2020-08-01T00:00:00",
          "2020-09-01T00:00:00",
          "2020-10-01T00:00:00",
          "2020-11-01T00:00:00",
          "2020-12-01T00:00:00",
          "2021-01-01T00:00:00",
          "2021-02-01T00:00:00",
          "2021-03-01T00:00:00",
          "2021-04-01T00:00:00",
          "2021-05-01T00:00:00",
          "2021-06-01T00:00:00",
          "2021-07-01T00:00:00",
          "2021-08-01T00:00:00",
          "2021-09-01T00:00:00",
          "2021-10-01T00:00:00"
         ],
         "xaxis": "x3",
         "y": [
          0.3350111856776425,
          0.34320987653850193,
          0.34581712061836306,
          0.3546431523786905,
          0.3425685425635993,
          0.3223734908769282,
          0.31356542616670385,
          0.31483457843847557,
          0.31643002028040984,
          0.3117090715311595,
          0.3237590630183525,
          0.3368223295714329,
          0.3476996298208924,
          0.344256868580863,
          0.3306122448931398,
          0.32070934775592563,
          0.3060165975064054,
          0.3080082135484085,
          0.29999999999647053,
          0.30131004366446734,
          0.30586172344306284,
          0.31889869018552663
         ],
         "yaxis": "y3"
        }
       ],
       "layout": {
        "annotations": [
         {
          "font": {},
          "showarrow": false,
          "text": "id=362400993",
          "x": 0.15999999999999998,
          "xanchor": "center",
          "xref": "paper",
          "y": 1,
          "yanchor": "bottom",
          "yref": "paper"
         },
         {
          "font": {},
          "showarrow": false,
          "text": "id=887227796",
          "x": 0.49999999999999994,
          "xanchor": "center",
          "xref": "paper",
          "y": 1,
          "yanchor": "bottom",
          "yref": "paper"
         },
         {
          "font": {},
          "showarrow": false,
          "text": "id=2238809293",
          "x": 0.8399999999999999,
          "xanchor": "center",
          "xref": "paper",
          "y": 1,
          "yanchor": "bottom",
          "yref": "paper"
         }
        ],
        "height": 450,
        "legend": {
         "title": {
          "text": "variable"
         },
         "tracegroupgap": 0
        },
        "margin": {
         "t": 60
        },
        "template": {
         "data": {
          "bar": [
           {
            "error_x": {
             "color": "#2a3f5f"
            },
            "error_y": {
             "color": "#2a3f5f"
            },
            "marker": {
             "line": {
              "color": "#E5ECF6",
              "width": 0.5
             },
             "pattern": {
              "fillmode": "overlay",
              "size": 10,
              "solidity": 0.2
             }
            },
            "type": "bar"
           }
          ],
          "barpolar": [
           {
            "marker": {
             "line": {
              "color": "#E5ECF6",
              "width": 0.5
             },
             "pattern": {
              "fillmode": "overlay",
              "size": 10,
              "solidity": 0.2
             }
            },
            "type": "barpolar"
           }
          ],
          "carpet": [
           {
            "aaxis": {
             "endlinecolor": "#2a3f5f",
             "gridcolor": "white",
             "linecolor": "white",
             "minorgridcolor": "white",
             "startlinecolor": "#2a3f5f"
            },
            "baxis": {
             "endlinecolor": "#2a3f5f",
             "gridcolor": "white",
             "linecolor": "white",
             "minorgridcolor": "white",
             "startlinecolor": "#2a3f5f"
            },
            "type": "carpet"
           }
          ],
          "choropleth": [
           {
            "colorbar": {
             "outlinewidth": 0,
             "ticks": ""
            },
            "type": "choropleth"
           }
          ],
          "contour": [
           {
            "colorbar": {
             "outlinewidth": 0,
             "ticks": ""
            },
            "colorscale": [
             [
              0,
              "#0d0887"
             ],
             [
              0.1111111111111111,
              "#46039f"
             ],
             [
              0.2222222222222222,
              "#7201a8"
             ],
             [
              0.3333333333333333,
              "#9c179e"
             ],
             [
              0.4444444444444444,
              "#bd3786"
             ],
             [
              0.5555555555555556,
              "#d8576b"
             ],
             [
              0.6666666666666666,
              "#ed7953"
             ],
             [
              0.7777777777777778,
              "#fb9f3a"
             ],
             [
              0.8888888888888888,
              "#fdca26"
             ],
             [
              1,
              "#f0f921"
             ]
            ],
            "type": "contour"
           }
          ],
          "contourcarpet": [
           {
            "colorbar": {
             "outlinewidth": 0,
             "ticks": ""
            },
            "type": "contourcarpet"
           }
          ],
          "heatmap": [
           {
            "colorbar": {
             "outlinewidth": 0,
             "ticks": ""
            },
            "colorscale": [
             [
              0,
              "#0d0887"
             ],
             [
              0.1111111111111111,
              "#46039f"
             ],
             [
              0.2222222222222222,
              "#7201a8"
             ],
             [
              0.3333333333333333,
              "#9c179e"
             ],
             [
              0.4444444444444444,
              "#bd3786"
             ],
             [
              0.5555555555555556,
              "#d8576b"
             ],
             [
              0.6666666666666666,
              "#ed7953"
             ],
             [
              0.7777777777777778,
              "#fb9f3a"
             ],
             [
              0.8888888888888888,
              "#fdca26"
             ],
             [
              1,
              "#f0f921"
             ]
            ],
            "type": "heatmap"
           }
          ],
          "heatmapgl": [
           {
            "colorbar": {
             "outlinewidth": 0,
             "ticks": ""
            },
            "colorscale": [
             [
              0,
              "#0d0887"
             ],
             [
              0.1111111111111111,
              "#46039f"
             ],
             [
              0.2222222222222222,
              "#7201a8"
             ],
             [
              0.3333333333333333,
              "#9c179e"
             ],
             [
              0.4444444444444444,
              "#bd3786"
             ],
             [
              0.5555555555555556,
              "#d8576b"
             ],
             [
              0.6666666666666666,
              "#ed7953"
             ],
             [
              0.7777777777777778,
              "#fb9f3a"
             ],
             [
              0.8888888888888888,
              "#fdca26"
             ],
             [
              1,
              "#f0f921"
             ]
            ],
            "type": "heatmapgl"
           }
          ],
          "histogram": [
           {
            "marker": {
             "pattern": {
              "fillmode": "overlay",
              "size": 10,
              "solidity": 0.2
             }
            },
            "type": "histogram"
           }
          ],
          "histogram2d": [
           {
            "colorbar": {
             "outlinewidth": 0,
             "ticks": ""
            },
            "colorscale": [
             [
              0,
              "#0d0887"
             ],
             [
              0.1111111111111111,
              "#46039f"
             ],
             [
              0.2222222222222222,
              "#7201a8"
             ],
             [
              0.3333333333333333,
              "#9c179e"
             ],
             [
              0.4444444444444444,
              "#bd3786"
             ],
             [
              0.5555555555555556,
              "#d8576b"
             ],
             [
              0.6666666666666666,
              "#ed7953"
             ],
             [
              0.7777777777777778,
              "#fb9f3a"
             ],
             [
              0.8888888888888888,
              "#fdca26"
             ],
             [
              1,
              "#f0f921"
             ]
            ],
            "type": "histogram2d"
           }
          ],
          "histogram2dcontour": [
           {
            "colorbar": {
             "outlinewidth": 0,
             "ticks": ""
            },
            "colorscale": [
             [
              0,
              "#0d0887"
             ],
             [
              0.1111111111111111,
              "#46039f"
             ],
             [
              0.2222222222222222,
              "#7201a8"
             ],
             [
              0.3333333333333333,
              "#9c179e"
             ],
             [
              0.4444444444444444,
              "#bd3786"
             ],
             [
              0.5555555555555556,
              "#d8576b"
             ],
             [
              0.6666666666666666,
              "#ed7953"
             ],
             [
              0.7777777777777778,
              "#fb9f3a"
             ],
             [
              0.8888888888888888,
              "#fdca26"
             ],
             [
              1,
              "#f0f921"
             ]
            ],
            "type": "histogram2dcontour"
           }
          ],
          "mesh3d": [
           {
            "colorbar": {
             "outlinewidth": 0,
             "ticks": ""
            },
            "type": "mesh3d"
           }
          ],
          "parcoords": [
           {
            "line": {
             "colorbar": {
              "outlinewidth": 0,
              "ticks": ""
             }
            },
            "type": "parcoords"
           }
          ],
          "pie": [
           {
            "automargin": true,
            "type": "pie"
           }
          ],
          "scatter": [
           {
            "marker": {
             "colorbar": {
              "outlinewidth": 0,
              "ticks": ""
             }
            },
            "type": "scatter"
           }
          ],
          "scatter3d": [
           {
            "line": {
             "colorbar": {
              "outlinewidth": 0,
              "ticks": ""
             }
            },
            "marker": {
             "colorbar": {
              "outlinewidth": 0,
              "ticks": ""
             }
            },
            "type": "scatter3d"
           }
          ],
          "scattercarpet": [
           {
            "marker": {
             "colorbar": {
              "outlinewidth": 0,
              "ticks": ""
             }
            },
            "type": "scattercarpet"
           }
          ],
          "scattergeo": [
           {
            "marker": {
             "colorbar": {
              "outlinewidth": 0,
              "ticks": ""
             }
            },
            "type": "scattergeo"
           }
          ],
          "scattergl": [
           {
            "marker": {
             "colorbar": {
              "outlinewidth": 0,
              "ticks": ""
             }
            },
            "type": "scattergl"
           }
          ],
          "scattermapbox": [
           {
            "marker": {
             "colorbar": {
              "outlinewidth": 0,
              "ticks": ""
             }
            },
            "type": "scattermapbox"
           }
          ],
          "scatterpolar": [
           {
            "marker": {
             "colorbar": {
              "outlinewidth": 0,
              "ticks": ""
             }
            },
            "type": "scatterpolar"
           }
          ],
          "scatterpolargl": [
           {
            "marker": {
             "colorbar": {
              "outlinewidth": 0,
              "ticks": ""
             }
            },
            "type": "scatterpolargl"
           }
          ],
          "scatterternary": [
           {
            "marker": {
             "colorbar": {
              "outlinewidth": 0,
              "ticks": ""
             }
            },
            "type": "scatterternary"
           }
          ],
          "surface": [
           {
            "colorbar": {
             "outlinewidth": 0,
             "ticks": ""
            },
            "colorscale": [
             [
              0,
              "#0d0887"
             ],
             [
              0.1111111111111111,
              "#46039f"
             ],
             [
              0.2222222222222222,
              "#7201a8"
             ],
             [
              0.3333333333333333,
              "#9c179e"
             ],
             [
              0.4444444444444444,
              "#bd3786"
             ],
             [
              0.5555555555555556,
              "#d8576b"
             ],
             [
              0.6666666666666666,
              "#ed7953"
             ],
             [
              0.7777777777777778,
              "#fb9f3a"
             ],
             [
              0.8888888888888888,
              "#fdca26"
             ],
             [
              1,
              "#f0f921"
             ]
            ],
            "type": "surface"
           }
          ],
          "table": [
           {
            "cells": {
             "fill": {
              "color": "#EBF0F8"
             },
             "line": {
              "color": "white"
             }
            },
            "header": {
             "fill": {
              "color": "#C8D4E3"
             },
             "line": {
              "color": "white"
             }
            },
            "type": "table"
           }
          ]
         },
         "layout": {
          "annotationdefaults": {
           "arrowcolor": "#2a3f5f",
           "arrowhead": 0,
           "arrowwidth": 1
          },
          "autotypenumbers": "strict",
          "coloraxis": {
           "colorbar": {
            "outlinewidth": 0,
            "ticks": ""
           }
          },
          "colorscale": {
           "diverging": [
            [
             0,
             "#8e0152"
            ],
            [
             0.1,
             "#c51b7d"
            ],
            [
             0.2,
             "#de77ae"
            ],
            [
             0.3,
             "#f1b6da"
            ],
            [
             0.4,
             "#fde0ef"
            ],
            [
             0.5,
             "#f7f7f7"
            ],
            [
             0.6,
             "#e6f5d0"
            ],
            [
             0.7,
             "#b8e186"
            ],
            [
             0.8,
             "#7fbc41"
            ],
            [
             0.9,
             "#4d9221"
            ],
            [
             1,
             "#276419"
            ]
           ],
           "sequential": [
            [
             0,
             "#0d0887"
            ],
            [
             0.1111111111111111,
             "#46039f"
            ],
            [
             0.2222222222222222,
             "#7201a8"
            ],
            [
             0.3333333333333333,
             "#9c179e"
            ],
            [
             0.4444444444444444,
             "#bd3786"
            ],
            [
             0.5555555555555556,
             "#d8576b"
            ],
            [
             0.6666666666666666,
             "#ed7953"
            ],
            [
             0.7777777777777778,
             "#fb9f3a"
            ],
            [
             0.8888888888888888,
             "#fdca26"
            ],
            [
             1,
             "#f0f921"
            ]
           ],
           "sequentialminus": [
            [
             0,
             "#0d0887"
            ],
            [
             0.1111111111111111,
             "#46039f"
            ],
            [
             0.2222222222222222,
             "#7201a8"
            ],
            [
             0.3333333333333333,
             "#9c179e"
            ],
            [
             0.4444444444444444,
             "#bd3786"
            ],
            [
             0.5555555555555556,
             "#d8576b"
            ],
            [
             0.6666666666666666,
             "#ed7953"
            ],
            [
             0.7777777777777778,
             "#fb9f3a"
            ],
            [
             0.8888888888888888,
             "#fdca26"
            ],
            [
             1,
             "#f0f921"
            ]
           ]
          },
          "colorway": [
           "#636efa",
           "#EF553B",
           "#00cc96",
           "#ab63fa",
           "#FFA15A",
           "#19d3f3",
           "#FF6692",
           "#B6E880",
           "#FF97FF",
           "#FECB52"
          ],
          "font": {
           "color": "#2a3f5f"
          },
          "geo": {
           "bgcolor": "white",
           "lakecolor": "white",
           "landcolor": "#E5ECF6",
           "showlakes": true,
           "showland": true,
           "subunitcolor": "white"
          },
          "hoverlabel": {
           "align": "left"
          },
          "hovermode": "closest",
          "mapbox": {
           "style": "light"
          },
          "paper_bgcolor": "white",
          "plot_bgcolor": "#E5ECF6",
          "polar": {
           "angularaxis": {
            "gridcolor": "white",
            "linecolor": "white",
            "ticks": ""
           },
           "bgcolor": "#E5ECF6",
           "radialaxis": {
            "gridcolor": "white",
            "linecolor": "white",
            "ticks": ""
           }
          },
          "scene": {
           "xaxis": {
            "backgroundcolor": "#E5ECF6",
            "gridcolor": "white",
            "gridwidth": 2,
            "linecolor": "white",
            "showbackground": true,
            "ticks": "",
            "zerolinecolor": "white"
           },
           "yaxis": {
            "backgroundcolor": "#E5ECF6",
            "gridcolor": "white",
            "gridwidth": 2,
            "linecolor": "white",
            "showbackground": true,
            "ticks": "",
            "zerolinecolor": "white"
           },
           "zaxis": {
            "backgroundcolor": "#E5ECF6",
            "gridcolor": "white",
            "gridwidth": 2,
            "linecolor": "white",
            "showbackground": true,
            "ticks": "",
            "zerolinecolor": "white"
           }
          },
          "shapedefaults": {
           "line": {
            "color": "#2a3f5f"
           }
          },
          "ternary": {
           "aaxis": {
            "gridcolor": "white",
            "linecolor": "white",
            "ticks": ""
           },
           "baxis": {
            "gridcolor": "white",
            "linecolor": "white",
            "ticks": ""
           },
           "bgcolor": "#E5ECF6",
           "caxis": {
            "gridcolor": "white",
            "linecolor": "white",
            "ticks": ""
           }
          },
          "title": {
           "x": 0.05
          },
          "xaxis": {
           "automargin": true,
           "gridcolor": "white",
           "linecolor": "white",
           "ticks": "",
           "title": {
            "standoff": 15
           },
           "zerolinecolor": "white",
           "zerolinewidth": 2
          },
          "yaxis": {
           "automargin": true,
           "gridcolor": "white",
           "linecolor": "white",
           "ticks": "",
           "title": {
            "standoff": 15
           },
           "zerolinecolor": "white",
           "zerolinewidth": 2
          }
         }
        },
        "xaxis": {
         "anchor": "y",
         "domain": [
          0,
          0.31999999999999995
         ],
         "title": {
          "text": "ym"
         }
        },
        "xaxis2": {
         "anchor": "y2",
         "domain": [
          0.33999999999999997,
          0.6599999999999999
         ],
         "matches": "x",
         "title": {
          "text": "ym"
         }
        },
        "xaxis3": {
         "anchor": "y3",
         "domain": [
          0.6799999999999999,
          0.9999999999999999
         ],
         "matches": "x",
         "title": {
          "text": "ym"
         }
        },
        "yaxis": {
         "anchor": "x",
         "domain": [
          0,
          1
         ],
         "range": [
          0,
          1
         ],
         "title": {
          "text": "value"
         }
        },
        "yaxis2": {
         "anchor": "x2",
         "domain": [
          0,
          1
         ],
         "matches": "y",
         "showticklabels": false
        },
        "yaxis3": {
         "anchor": "x3",
         "domain": [
          0,
          1
         ],
         "matches": "y",
         "showticklabels": false
        }
       }
      },
      "text/html": [
       "<div>                            <div id=\"61b227bb-72a6-4356-b291-9f3a4eb9482b\" class=\"plotly-graph-div\" style=\"height:450.0px; width:100%;\"></div>            <script type=\"text/javascript\">                require([\"plotly\"], function(Plotly) {                    window.PLOTLYENV=window.PLOTLYENV || {};                                    if (document.getElementById(\"61b227bb-72a6-4356-b291-9f3a4eb9482b\")) {                    Plotly.newPlot(                        \"61b227bb-72a6-4356-b291-9f3a4eb9482b\",                        [{\"hovertemplate\":\"variable=pp<br>id=362400993<br>ym=%{x}<br>value=%{y}<extra></extra>\",\"legendgroup\":\"pp\",\"line\":{\"color\":\"#636efa\",\"dash\":\"solid\"},\"marker\":{\"symbol\":\"circle\"},\"mode\":\"lines\",\"name\":\"pp\",\"orientation\":\"v\",\"showlegend\":true,\"x\":[\"2020-01-01T00:00:00\",\"2020-02-01T00:00:00\",\"2020-03-01T00:00:00\",\"2020-04-01T00:00:00\",\"2020-05-01T00:00:00\",\"2020-06-01T00:00:00\",\"2020-07-01T00:00:00\",\"2020-08-01T00:00:00\",\"2020-09-01T00:00:00\",\"2020-10-01T00:00:00\",\"2020-11-01T00:00:00\",\"2020-12-01T00:00:00\",\"2021-01-01T00:00:00\",\"2021-02-01T00:00:00\",\"2021-03-01T00:00:00\",\"2021-04-01T00:00:00\",\"2021-05-01T00:00:00\",\"2021-06-01T00:00:00\",\"2021-07-01T00:00:00\",\"2021-08-01T00:00:00\",\"2021-09-01T00:00:00\",\"2021-10-01T00:00:00\"],\"xaxis\":\"x\",\"y\":[0.3337487132235263,0.3330697096354476,0.3331871161778845,0.3331093874040609,0.33329263825947203,0.33250233717461825,0.333636664457862,0.33330310175645467,0.3318080794831768,0.27541131394879864,-0.00015852885224859658,0.0001543209876519395,0.0,0.0,-0.00017337031899838123,0.00017956545160388641,0.0,0.0,0.0,-0.00035410764871267325,0.0,0.0],\"yaxis\":\"y\",\"type\":\"scatter\"},{\"hovertemplate\":\"variable=pp<br>id=887227796<br>ym=%{x}<br>value=%{y}<extra></extra>\",\"legendgroup\":\"pp\",\"line\":{\"color\":\"#636efa\",\"dash\":\"solid\"},\"marker\":{\"symbol\":\"circle\"},\"mode\":\"lines\",\"name\":\"pp\",\"orientation\":\"v\",\"showlegend\":false,\"x\":[\"2020-01-01T00:00:00\",\"2020-02-01T00:00:00\",\"2020-03-01T00:00:00\",\"2020-04-01T00:00:00\",\"2020-05-01T00:00:00\",\"2020-06-01T00:00:00\",\"2020-07-01T00:00:00\",\"2020-08-01T00:00:00\",\"2020-09-01T00:00:00\",\"2020-10-01T00:00:00\",\"2020-11-01T00:00:00\",\"2020-12-01T00:00:00\",\"2021-01-01T00:00:00\",\"2021-02-01T00:00:00\",\"2021-03-01T00:00:00\",\"2021-04-01T00:00:00\",\"2021-05-01T00:00:00\",\"2021-06-01T00:00:00\",\"2021-07-01T00:00:00\",\"2021-08-01T00:00:00\",\"2021-09-01T00:00:00\",\"2021-10-01T00:00:00\"],\"xaxis\":\"x2\",\"y\":[0.33961161556981206,0.3433380357039289,0.33809425239537644,0.3374590256565081,0.3455471574085576,0.35146271116443956,0.3452666391056417,0.3405128205116564,0.3378319229634599,0.32427458988729096,0.33075260167748854,0.3332913200557378,0.33112431444115203,0.33369670542433566,0.32843465772939956,0.3268618080429766,0.3273100967700295,0.33163138231493716,0.3298514475717286,0.33660118674552536,0.3365781283913419,0.3355484837123945],\"yaxis\":\"y2\",\"type\":\"scatter\"},{\"hovertemplate\":\"variable=pp<br>id=2238809293<br>ym=%{x}<br>value=%{y}<extra></extra>\",\"legendgroup\":\"pp\",\"line\":{\"color\":\"#636efa\",\"dash\":\"solid\"},\"marker\":{\"symbol\":\"circle\"},\"mode\":\"lines\",\"name\":\"pp\",\"orientation\":\"v\",\"showlegend\":false,\"x\":[\"2020-01-01T00:00:00\",\"2020-02-01T00:00:00\",\"2020-03-01T00:00:00\",\"2020-04-01T00:00:00\",\"2020-05-01T00:00:00\",\"2020-06-01T00:00:00\",\"2020-07-01T00:00:00\",\"2020-08-01T00:00:00\",\"2020-09-01T00:00:00\",\"2020-10-01T00:00:00\",\"2020-11-01T00:00:00\",\"2020-12-01T00:00:00\",\"2021-01-01T00:00:00\",\"2021-02-01T00:00:00\",\"2021-03-01T00:00:00\",\"2021-04-01T00:00:00\",\"2021-05-01T00:00:00\",\"2021-06-01T00:00:00\",\"2021-07-01T00:00:00\",\"2021-08-01T00:00:00\",\"2021-09-01T00:00:00\",\"2021-10-01T00:00:00\"],\"xaxis\":\"x3\",\"y\":[0.3380872483174205,0.3412894375810523,0.336332684820813,0.3325985119821907,0.33217893217413885,0.3385563832476425,0.34069627850731454,0.34258271077542596,0.34077079107121055,0.3476755028616779,0.3471834913504297,0.3416532474457642,0.33368588048210357,0.3293611386903449,0.338192419820143,0.3408476104547513,0.34569502074240543,0.34419917864034655,0.3494117647017716,0.3469189713689117,0.3502004007972169,0.3442929697895711],\"yaxis\":\"y3\",\"type\":\"scatter\"},{\"hovertemplate\":\"variable=pf<br>id=362400993<br>ym=%{x}<br>value=%{y}<extra></extra>\",\"legendgroup\":\"pf\",\"line\":{\"color\":\"#EF553B\",\"dash\":\"solid\"},\"marker\":{\"symbol\":\"circle\"},\"mode\":\"lines\",\"name\":\"pf\",\"orientation\":\"v\",\"showlegend\":true,\"x\":[\"2020-01-01T00:00:00\",\"2020-02-01T00:00:00\",\"2020-03-01T00:00:00\",\"2020-04-01T00:00:00\",\"2020-05-01T00:00:00\",\"2020-06-01T00:00:00\",\"2020-07-01T00:00:00\",\"2020-08-01T00:00:00\",\"2020-09-01T00:00:00\",\"2020-10-01T00:00:00\",\"2020-11-01T00:00:00\",\"2020-12-01T00:00:00\",\"2021-01-01T00:00:00\",\"2021-02-01T00:00:00\",\"2021-03-01T00:00:00\",\"2021-04-01T00:00:00\",\"2021-05-01T00:00:00\",\"2021-06-01T00:00:00\",\"2021-07-01T00:00:00\",\"2021-08-01T00:00:00\",\"2021-09-01T00:00:00\",\"2021-10-01T00:00:00\"],\"xaxis\":\"x\",\"y\":[0.33445305304039413,0.33273076488344405,0.33249780674061596,0.33280400659419285,0.3323159565356347,0.3321283889041313,0.3316512243519883,0.33148920732512704,0.3312851353074744,0.3758545563791161,0.5818008877523494,0.5820987654231158,0.5815073814983449,0.5819912152162886,0.5811373092825739,0.580355539583761,0.5826374665104358,0.5825168107476942,0.6034383953981823,0.5892351274578883,0.591143911417301,0.5906810035630581],\"yaxis\":\"y\",\"type\":\"scatter\"},{\"hovertemplate\":\"variable=pf<br>id=887227796<br>ym=%{x}<br>value=%{y}<extra></extra>\",\"legendgroup\":\"pf\",\"line\":{\"color\":\"#EF553B\",\"dash\":\"solid\"},\"marker\":{\"symbol\":\"circle\"},\"mode\":\"lines\",\"name\":\"pf\",\"orientation\":\"v\",\"showlegend\":false,\"x\":[\"2020-01-01T00:00:00\",\"2020-02-01T00:00:00\",\"2020-03-01T00:00:00\",\"2020-04-01T00:00:00\",\"2020-05-01T00:00:00\",\"2020-06-01T00:00:00\",\"2020-07-01T00:00:00\",\"2020-08-01T00:00:00\",\"2020-09-01T00:00:00\",\"2020-10-01T00:00:00\",\"2020-11-01T00:00:00\",\"2020-12-01T00:00:00\",\"2021-01-01T00:00:00\",\"2021-02-01T00:00:00\",\"2021-03-01T00:00:00\",\"2021-04-01T00:00:00\",\"2021-05-01T00:00:00\",\"2021-06-01T00:00:00\",\"2021-07-01T00:00:00\",\"2021-08-01T00:00:00\",\"2021-09-01T00:00:00\",\"2021-10-01T00:00:00\"],\"xaxis\":\"x2\",\"y\":[0.41095028319513194,0.4004475361171355,0.39874422134548576,0.4330281451314964,0.42124000437933373,0.42329350363767204,0.3744935923920029,0.32601709401597945,0.3307922381079268,0.32997464150191874,0.31612286963794617,0.3236702798070596,0.3346282754405293,0.33848110464911285,0.32513164193238325,0.32905217044838186,0.35077502783098924,0.3538812785373438,0.36469440127095565,0.36037297755367864,0.36657740464512345,0.3434575065502459],\"yaxis\":\"y2\",\"type\":\"scatter\"},{\"hovertemplate\":\"variable=pf<br>id=2238809293<br>ym=%{x}<br>value=%{y}<extra></extra>\",\"legendgroup\":\"pf\",\"line\":{\"color\":\"#EF553B\",\"dash\":\"solid\"},\"marker\":{\"symbol\":\"circle\"},\"mode\":\"lines\",\"name\":\"pf\",\"orientation\":\"v\",\"showlegend\":false,\"x\":[\"2020-01-01T00:00:00\",\"2020-02-01T00:00:00\",\"2020-03-01T00:00:00\",\"2020-04-01T00:00:00\",\"2020-05-01T00:00:00\",\"2020-06-01T00:00:00\",\"2020-07-01T00:00:00\",\"2020-08-01T00:00:00\",\"2020-09-01T00:00:00\",\"2020-10-01T00:00:00\",\"2020-11-01T00:00:00\",\"2020-12-01T00:00:00\",\"2021-01-01T00:00:00\",\"2021-02-01T00:00:00\",\"2021-03-01T00:00:00\",\"2021-04-01T00:00:00\",\"2021-05-01T00:00:00\",\"2021-06-01T00:00:00\",\"2021-07-01T00:00:00\",\"2021-08-01T00:00:00\",\"2021-09-01T00:00:00\",\"2021-10-01T00:00:00\"],\"xaxis\":\"x3\",\"y\":[0.326901565990955,0.3155006858667284,0.31785019454866426,0.3127583356253409,0.3252525252478319,0.3390701258625858,0.3457382953139767,0.34258271077542596,0.3427991886371106,0.34061542560050206,0.32905744561727474,0.3215244229693837,0.31861448968378353,0.3263819927122413,0.33119533527214,0.3384430417742945,0.3482883817382224,0.3477926077984113,0.35058823528999306,0.3517709849544909,0.3439378757471952,0.3368083400115369],\"yaxis\":\"y3\",\"type\":\"scatter\"},{\"hovertemplate\":\"variable=pg<br>id=362400993<br>ym=%{x}<br>value=%{y}<extra></extra>\",\"legendgroup\":\"pg\",\"line\":{\"color\":\"#00cc96\",\"dash\":\"solid\"},\"marker\":{\"symbol\":\"circle\"},\"mode\":\"lines\",\"name\":\"pg\",\"orientation\":\"v\",\"showlegend\":true,\"x\":[\"2020-01-01T00:00:00\",\"2020-02-01T00:00:00\",\"2020-03-01T00:00:00\",\"2020-04-01T00:00:00\",\"2020-05-01T00:00:00\",\"2020-06-01T00:00:00\",\"2020-07-01T00:00:00\",\"2020-08-01T00:00:00\",\"2020-09-01T00:00:00\",\"2020-10-01T00:00:00\",\"2020-11-01T00:00:00\",\"2020-12-01T00:00:00\",\"2021-01-01T00:00:00\",\"2021-02-01T00:00:00\",\"2021-03-01T00:00:00\",\"2021-04-01T00:00:00\",\"2021-05-01T00:00:00\",\"2021-06-01T00:00:00\",\"2021-07-01T00:00:00\",\"2021-08-01T00:00:00\",\"2021-09-01T00:00:00\",\"2021-10-01T00:00:00\"],\"xaxis\":\"x\",\"y\":[0.33179823373066153,0.3341995254754593,0.334315077075233,0.3340866059956386,0.33439140519878896,0.3353692739150179,0.33471211118187694,0.3352076909093487,0.33690678519627526,0.3487341296645726,0.41835764108404633,0.4177469135738002,0.41849261848611513,0.4180087847654098,0.41903606101908747,0.41946489494667866,0.4173625334738087,0.4174831892330935,0.3965616045731644,0.41111898015541365,0.4088560885457987,0.4093189964010997],\"yaxis\":\"y\",\"type\":\"scatter\"},{\"hovertemplate\":\"variable=pg<br>id=887227796<br>ym=%{x}<br>value=%{y}<extra></extra>\",\"legendgroup\":\"pg\",\"line\":{\"color\":\"#00cc96\",\"dash\":\"solid\"},\"marker\":{\"symbol\":\"circle\"},\"mode\":\"lines\",\"name\":\"pg\",\"orientation\":\"v\",\"showlegend\":false,\"x\":[\"2020-01-01T00:00:00\",\"2020-02-01T00:00:00\",\"2020-03-01T00:00:00\",\"2020-04-01T00:00:00\",\"2020-05-01T00:00:00\",\"2020-06-01T00:00:00\",\"2020-07-01T00:00:00\",\"2020-08-01T00:00:00\",\"2020-09-01T00:00:00\",\"2020-10-01T00:00:00\",\"2020-11-01T00:00:00\",\"2020-12-01T00:00:00\",\"2021-01-01T00:00:00\",\"2021-02-01T00:00:00\",\"2021-03-01T00:00:00\",\"2021-04-01T00:00:00\",\"2021-05-01T00:00:00\",\"2021-06-01T00:00:00\",\"2021-07-01T00:00:00\",\"2021-08-01T00:00:00\",\"2021-09-01T00:00:00\",\"2021-10-01T00:00:00\"],\"xaxis\":\"x2\",\"y\":[0.24943810123056082,0.25621442817407103,0.2631615262522379,0.2295128292063439,0.23321283820663152,0.22524378519331023,0.2802397684982214,0.3334700854689454,0.3313758389249658,0.34575076860854614,0.35312452867953786,0.34303840013300124,0.33424741011451004,0.3278221899204952,0.3464337003334302,0.34408602150366346,0.3219148753946993,0.3144873391435679,0.30545415115370134,0.30302583569711045,0.2968444669599159,0.3209940097326797],\"yaxis\":\"y2\",\"type\":\"scatter\"},{\"hovertemplate\":\"variable=pg<br>id=2238809293<br>ym=%{x}<br>value=%{y}<extra></extra>\",\"legendgroup\":\"pg\",\"line\":{\"color\":\"#00cc96\",\"dash\":\"solid\"},\"marker\":{\"symbol\":\"circle\"},\"mode\":\"lines\",\"name\":\"pg\",\"orientation\":\"v\",\"showlegend\":false,\"x\":[\"2020-01-01T00:00:00\",\"2020-02-01T00:00:00\",\"2020-03-01T00:00:00\",\"2020-04-01T00:00:00\",\"2020-05-01T00:00:00\",\"2020-06-01T00:00:00\",\"2020-07-01T00:00:00\",\"2020-08-01T00:00:00\",\"2020-09-01T00:00:00\",\"2020-10-01T00:00:00\",\"2020-11-01T00:00:00\",\"2020-12-01T00:00:00\",\"2021-01-01T00:00:00\",\"2021-02-01T00:00:00\",\"2021-03-01T00:00:00\",\"2021-04-01T00:00:00\",\"2021-05-01T00:00:00\",\"2021-06-01T00:00:00\",\"2021-07-01T00:00:00\",\"2021-08-01T00:00:00\",\"2021-09-01T00:00:00\",\"2021-10-01T00:00:00\"],\"xaxis\":\"x3\",\"y\":[0.3350111856776425,0.34320987653850193,0.34581712061836306,0.3546431523786905,0.3425685425635993,0.3223734908769282,0.31356542616670385,0.31483457843847557,0.31643002028040984,0.3117090715311595,0.3237590630183525,0.3368223295714329,0.3476996298208924,0.344256868580863,0.3306122448931398,0.32070934775592563,0.3060165975064054,0.3080082135484085,0.29999999999647053,0.30131004366446734,0.30586172344306284,0.31889869018552663],\"yaxis\":\"y3\",\"type\":\"scatter\"}],                        {\"template\":{\"data\":{\"bar\":[{\"error_x\":{\"color\":\"#2a3f5f\"},\"error_y\":{\"color\":\"#2a3f5f\"},\"marker\":{\"line\":{\"color\":\"#E5ECF6\",\"width\":0.5},\"pattern\":{\"fillmode\":\"overlay\",\"size\":10,\"solidity\":0.2}},\"type\":\"bar\"}],\"barpolar\":[{\"marker\":{\"line\":{\"color\":\"#E5ECF6\",\"width\":0.5},\"pattern\":{\"fillmode\":\"overlay\",\"size\":10,\"solidity\":0.2}},\"type\":\"barpolar\"}],\"carpet\":[{\"aaxis\":{\"endlinecolor\":\"#2a3f5f\",\"gridcolor\":\"white\",\"linecolor\":\"white\",\"minorgridcolor\":\"white\",\"startlinecolor\":\"#2a3f5f\"},\"baxis\":{\"endlinecolor\":\"#2a3f5f\",\"gridcolor\":\"white\",\"linecolor\":\"white\",\"minorgridcolor\":\"white\",\"startlinecolor\":\"#2a3f5f\"},\"type\":\"carpet\"}],\"choropleth\":[{\"colorbar\":{\"outlinewidth\":0,\"ticks\":\"\"},\"type\":\"choropleth\"}],\"contour\":[{\"colorbar\":{\"outlinewidth\":0,\"ticks\":\"\"},\"colorscale\":[[0.0,\"#0d0887\"],[0.1111111111111111,\"#46039f\"],[0.2222222222222222,\"#7201a8\"],[0.3333333333333333,\"#9c179e\"],[0.4444444444444444,\"#bd3786\"],[0.5555555555555556,\"#d8576b\"],[0.6666666666666666,\"#ed7953\"],[0.7777777777777778,\"#fb9f3a\"],[0.8888888888888888,\"#fdca26\"],[1.0,\"#f0f921\"]],\"type\":\"contour\"}],\"contourcarpet\":[{\"colorbar\":{\"outlinewidth\":0,\"ticks\":\"\"},\"type\":\"contourcarpet\"}],\"heatmap\":[{\"colorbar\":{\"outlinewidth\":0,\"ticks\":\"\"},\"colorscale\":[[0.0,\"#0d0887\"],[0.1111111111111111,\"#46039f\"],[0.2222222222222222,\"#7201a8\"],[0.3333333333333333,\"#9c179e\"],[0.4444444444444444,\"#bd3786\"],[0.5555555555555556,\"#d8576b\"],[0.6666666666666666,\"#ed7953\"],[0.7777777777777778,\"#fb9f3a\"],[0.8888888888888888,\"#fdca26\"],[1.0,\"#f0f921\"]],\"type\":\"heatmap\"}],\"heatmapgl\":[{\"colorbar\":{\"outlinewidth\":0,\"ticks\":\"\"},\"colorscale\":[[0.0,\"#0d0887\"],[0.1111111111111111,\"#46039f\"],[0.2222222222222222,\"#7201a8\"],[0.3333333333333333,\"#9c179e\"],[0.4444444444444444,\"#bd3786\"],[0.5555555555555556,\"#d8576b\"],[0.6666666666666666,\"#ed7953\"],[0.7777777777777778,\"#fb9f3a\"],[0.8888888888888888,\"#fdca26\"],[1.0,\"#f0f921\"]],\"type\":\"heatmapgl\"}],\"histogram\":[{\"marker\":{\"pattern\":{\"fillmode\":\"overlay\",\"size\":10,\"solidity\":0.2}},\"type\":\"histogram\"}],\"histogram2d\":[{\"colorbar\":{\"outlinewidth\":0,\"ticks\":\"\"},\"colorscale\":[[0.0,\"#0d0887\"],[0.1111111111111111,\"#46039f\"],[0.2222222222222222,\"#7201a8\"],[0.3333333333333333,\"#9c179e\"],[0.4444444444444444,\"#bd3786\"],[0.5555555555555556,\"#d8576b\"],[0.6666666666666666,\"#ed7953\"],[0.7777777777777778,\"#fb9f3a\"],[0.8888888888888888,\"#fdca26\"],[1.0,\"#f0f921\"]],\"type\":\"histogram2d\"}],\"histogram2dcontour\":[{\"colorbar\":{\"outlinewidth\":0,\"ticks\":\"\"},\"colorscale\":[[0.0,\"#0d0887\"],[0.1111111111111111,\"#46039f\"],[0.2222222222222222,\"#7201a8\"],[0.3333333333333333,\"#9c179e\"],[0.4444444444444444,\"#bd3786\"],[0.5555555555555556,\"#d8576b\"],[0.6666666666666666,\"#ed7953\"],[0.7777777777777778,\"#fb9f3a\"],[0.8888888888888888,\"#fdca26\"],[1.0,\"#f0f921\"]],\"type\":\"histogram2dcontour\"}],\"mesh3d\":[{\"colorbar\":{\"outlinewidth\":0,\"ticks\":\"\"},\"type\":\"mesh3d\"}],\"parcoords\":[{\"line\":{\"colorbar\":{\"outlinewidth\":0,\"ticks\":\"\"}},\"type\":\"parcoords\"}],\"pie\":[{\"automargin\":true,\"type\":\"pie\"}],\"scatter\":[{\"marker\":{\"colorbar\":{\"outlinewidth\":0,\"ticks\":\"\"}},\"type\":\"scatter\"}],\"scatter3d\":[{\"line\":{\"colorbar\":{\"outlinewidth\":0,\"ticks\":\"\"}},\"marker\":{\"colorbar\":{\"outlinewidth\":0,\"ticks\":\"\"}},\"type\":\"scatter3d\"}],\"scattercarpet\":[{\"marker\":{\"colorbar\":{\"outlinewidth\":0,\"ticks\":\"\"}},\"type\":\"scattercarpet\"}],\"scattergeo\":[{\"marker\":{\"colorbar\":{\"outlinewidth\":0,\"ticks\":\"\"}},\"type\":\"scattergeo\"}],\"scattergl\":[{\"marker\":{\"colorbar\":{\"outlinewidth\":0,\"ticks\":\"\"}},\"type\":\"scattergl\"}],\"scattermapbox\":[{\"marker\":{\"colorbar\":{\"outlinewidth\":0,\"ticks\":\"\"}},\"type\":\"scattermapbox\"}],\"scatterpolar\":[{\"marker\":{\"colorbar\":{\"outlinewidth\":0,\"ticks\":\"\"}},\"type\":\"scatterpolar\"}],\"scatterpolargl\":[{\"marker\":{\"colorbar\":{\"outlinewidth\":0,\"ticks\":\"\"}},\"type\":\"scatterpolargl\"}],\"scatterternary\":[{\"marker\":{\"colorbar\":{\"outlinewidth\":0,\"ticks\":\"\"}},\"type\":\"scatterternary\"}],\"surface\":[{\"colorbar\":{\"outlinewidth\":0,\"ticks\":\"\"},\"colorscale\":[[0.0,\"#0d0887\"],[0.1111111111111111,\"#46039f\"],[0.2222222222222222,\"#7201a8\"],[0.3333333333333333,\"#9c179e\"],[0.4444444444444444,\"#bd3786\"],[0.5555555555555556,\"#d8576b\"],[0.6666666666666666,\"#ed7953\"],[0.7777777777777778,\"#fb9f3a\"],[0.8888888888888888,\"#fdca26\"],[1.0,\"#f0f921\"]],\"type\":\"surface\"}],\"table\":[{\"cells\":{\"fill\":{\"color\":\"#EBF0F8\"},\"line\":{\"color\":\"white\"}},\"header\":{\"fill\":{\"color\":\"#C8D4E3\"},\"line\":{\"color\":\"white\"}},\"type\":\"table\"}]},\"layout\":{\"annotationdefaults\":{\"arrowcolor\":\"#2a3f5f\",\"arrowhead\":0,\"arrowwidth\":1},\"autotypenumbers\":\"strict\",\"coloraxis\":{\"colorbar\":{\"outlinewidth\":0,\"ticks\":\"\"}},\"colorscale\":{\"diverging\":[[0,\"#8e0152\"],[0.1,\"#c51b7d\"],[0.2,\"#de77ae\"],[0.3,\"#f1b6da\"],[0.4,\"#fde0ef\"],[0.5,\"#f7f7f7\"],[0.6,\"#e6f5d0\"],[0.7,\"#b8e186\"],[0.8,\"#7fbc41\"],[0.9,\"#4d9221\"],[1,\"#276419\"]],\"sequential\":[[0.0,\"#0d0887\"],[0.1111111111111111,\"#46039f\"],[0.2222222222222222,\"#7201a8\"],[0.3333333333333333,\"#9c179e\"],[0.4444444444444444,\"#bd3786\"],[0.5555555555555556,\"#d8576b\"],[0.6666666666666666,\"#ed7953\"],[0.7777777777777778,\"#fb9f3a\"],[0.8888888888888888,\"#fdca26\"],[1.0,\"#f0f921\"]],\"sequentialminus\":[[0.0,\"#0d0887\"],[0.1111111111111111,\"#46039f\"],[0.2222222222222222,\"#7201a8\"],[0.3333333333333333,\"#9c179e\"],[0.4444444444444444,\"#bd3786\"],[0.5555555555555556,\"#d8576b\"],[0.6666666666666666,\"#ed7953\"],[0.7777777777777778,\"#fb9f3a\"],[0.8888888888888888,\"#fdca26\"],[1.0,\"#f0f921\"]]},\"colorway\":[\"#636efa\",\"#EF553B\",\"#00cc96\",\"#ab63fa\",\"#FFA15A\",\"#19d3f3\",\"#FF6692\",\"#B6E880\",\"#FF97FF\",\"#FECB52\"],\"font\":{\"color\":\"#2a3f5f\"},\"geo\":{\"bgcolor\":\"white\",\"lakecolor\":\"white\",\"landcolor\":\"#E5ECF6\",\"showlakes\":true,\"showland\":true,\"subunitcolor\":\"white\"},\"hoverlabel\":{\"align\":\"left\"},\"hovermode\":\"closest\",\"mapbox\":{\"style\":\"light\"},\"paper_bgcolor\":\"white\",\"plot_bgcolor\":\"#E5ECF6\",\"polar\":{\"angularaxis\":{\"gridcolor\":\"white\",\"linecolor\":\"white\",\"ticks\":\"\"},\"bgcolor\":\"#E5ECF6\",\"radialaxis\":{\"gridcolor\":\"white\",\"linecolor\":\"white\",\"ticks\":\"\"}},\"scene\":{\"xaxis\":{\"backgroundcolor\":\"#E5ECF6\",\"gridcolor\":\"white\",\"gridwidth\":2,\"linecolor\":\"white\",\"showbackground\":true,\"ticks\":\"\",\"zerolinecolor\":\"white\"},\"yaxis\":{\"backgroundcolor\":\"#E5ECF6\",\"gridcolor\":\"white\",\"gridwidth\":2,\"linecolor\":\"white\",\"showbackground\":true,\"ticks\":\"\",\"zerolinecolor\":\"white\"},\"zaxis\":{\"backgroundcolor\":\"#E5ECF6\",\"gridcolor\":\"white\",\"gridwidth\":2,\"linecolor\":\"white\",\"showbackground\":true,\"ticks\":\"\",\"zerolinecolor\":\"white\"}},\"shapedefaults\":{\"line\":{\"color\":\"#2a3f5f\"}},\"ternary\":{\"aaxis\":{\"gridcolor\":\"white\",\"linecolor\":\"white\",\"ticks\":\"\"},\"baxis\":{\"gridcolor\":\"white\",\"linecolor\":\"white\",\"ticks\":\"\"},\"bgcolor\":\"#E5ECF6\",\"caxis\":{\"gridcolor\":\"white\",\"linecolor\":\"white\",\"ticks\":\"\"}},\"title\":{\"x\":0.05},\"xaxis\":{\"automargin\":true,\"gridcolor\":\"white\",\"linecolor\":\"white\",\"ticks\":\"\",\"title\":{\"standoff\":15},\"zerolinecolor\":\"white\",\"zerolinewidth\":2},\"yaxis\":{\"automargin\":true,\"gridcolor\":\"white\",\"linecolor\":\"white\",\"ticks\":\"\",\"title\":{\"standoff\":15},\"zerolinecolor\":\"white\",\"zerolinewidth\":2}}},\"xaxis\":{\"anchor\":\"y\",\"domain\":[0.0,0.31999999999999995],\"title\":{\"text\":\"ym\"}},\"yaxis\":{\"anchor\":\"x\",\"domain\":[0.0,1.0],\"title\":{\"text\":\"value\"},\"range\":[0,1]},\"xaxis2\":{\"anchor\":\"y2\",\"domain\":[0.33999999999999997,0.6599999999999999],\"matches\":\"x\",\"title\":{\"text\":\"ym\"}},\"yaxis2\":{\"anchor\":\"x2\",\"domain\":[0.0,1.0],\"matches\":\"y\",\"showticklabels\":false},\"xaxis3\":{\"anchor\":\"y3\",\"domain\":[0.6799999999999999,0.9999999999999999],\"matches\":\"x\",\"title\":{\"text\":\"ym\"}},\"yaxis3\":{\"anchor\":\"x3\",\"domain\":[0.0,1.0],\"matches\":\"y\",\"showticklabels\":false},\"annotations\":[{\"font\":{},\"showarrow\":false,\"text\":\"id=362400993\",\"x\":0.15999999999999998,\"xanchor\":\"center\",\"xref\":\"paper\",\"y\":1.0,\"yanchor\":\"bottom\",\"yref\":\"paper\"},{\"font\":{},\"showarrow\":false,\"text\":\"id=887227796\",\"x\":0.49999999999999994,\"xanchor\":\"center\",\"xref\":\"paper\",\"y\":1.0,\"yanchor\":\"bottom\",\"yref\":\"paper\"},{\"font\":{},\"showarrow\":false,\"text\":\"id=2238809293\",\"x\":0.8399999999999999,\"xanchor\":\"center\",\"xref\":\"paper\",\"y\":1.0,\"yanchor\":\"bottom\",\"yref\":\"paper\"}],\"legend\":{\"title\":{\"text\":\"variable\"},\"tracegroupgap\":0},\"margin\":{\"t\":60},\"height\":450.0},                        {\"responsive\": true}                    ).then(function(){\n",
       "                            \n",
       "var gd = document.getElementById('61b227bb-72a6-4356-b291-9f3a4eb9482b');\n",
       "var x = new MutationObserver(function (mutations, observer) {{\n",
       "        var display = window.getComputedStyle(gd).display;\n",
       "        if (!display || display === 'none') {{\n",
       "            console.log([gd, 'removed!']);\n",
       "            Plotly.purge(gd);\n",
       "            observer.disconnect();\n",
       "        }}\n",
       "}});\n",
       "\n",
       "// Listen for the removal of the full notebook cells\n",
       "var notebookContainer = gd.closest('#notebook-container');\n",
       "if (notebookContainer) {{\n",
       "    x.observe(notebookContainer, {childList: true});\n",
       "}}\n",
       "\n",
       "// Listen for the clearing of the current output cell\n",
       "var outputEl = gd.closest('.output');\n",
       "if (outputEl) {{\n",
       "    x.observe(outputEl, {childList: true});\n",
       "}}\n",
       "\n",
       "                        })                };                });            </script>        </div>"
      ]
     },
     "metadata": {},
     "output_type": "display_data"
    }
   ],
   "source": [
    "# s1 = load_ids('submit_3_7_1.csv')\n",
    "# s2 = load_ids('tsubmit_3_7_2.csv')\n",
    "# s = s1 - s2\n",
    "plt_month([362400993, 887227796, 2238809293], df=ds.month)\n",
    "# plt_month(list(inner), df=ds.month)"
   ]
  },
  {
   "cell_type": "code",
   "execution_count": 96,
   "metadata": {},
   "outputs": [
    {
     "name": "stdout",
     "output_type": "stream",
     "text": [
      "Int64Index([ 179433516,  179458306,  179569820,  855996491, 1606708811,\n",
      "            1916407803, 2071313507, 2172970175, 2186749200, 2212416005,\n",
      "            2251440776, 2256064355, 2347718608, 2347718610, 2427050072,\n",
      "            2445049876, 2471562086, 2479963778, 2496032641, 2523401557],\n",
      "           dtype='int64', name='id')\n"
     ]
    },
    {
     "data": {
      "application/vnd.plotly.v1+json": {
       "config": {
        "plotlyServerURL": "https://plot.ly"
       },
       "data": [
        {
         "hovertemplate": "variable=pp<br>id=179433516<br>ym=%{x}<br>value=%{y}<extra></extra>",
         "legendgroup": "pp",
         "line": {
          "color": "#636efa",
          "dash": "solid"
         },
         "marker": {
          "symbol": "circle"
         },
         "mode": "lines",
         "name": "pp",
         "showlegend": true,
         "type": "scattergl",
         "x": [
          "2020-01-01T00:00:00",
          "2020-02-01T00:00:00",
          "2020-03-01T00:00:00",
          "2020-04-01T00:00:00",
          "2020-05-01T00:00:00",
          "2020-06-01T00:00:00",
          "2020-07-01T00:00:00",
          "2020-08-01T00:00:00",
          "2020-09-01T00:00:00",
          "2020-10-01T00:00:00",
          "2020-11-01T00:00:00",
          "2020-12-01T00:00:00",
          "2021-01-01T00:00:00",
          "2021-02-01T00:00:00",
          "2021-03-01T00:00:00",
          "2021-04-01T00:00:00",
          "2021-05-01T00:00:00",
          "2021-06-01T00:00:00",
          "2021-07-01T00:00:00",
          "2021-08-01T00:00:00",
          "2021-09-01T00:00:00",
          "2021-10-01T00:00:00"
         ],
         "xaxis": "x17",
         "y": [
          0.34022087637987136,
          0.33095015639531433,
          0.3430186966025362,
          0.3366081296812464,
          0.34372965615147105,
          0.3408334032961956,
          0.3396347119592815,
          0.3384337288044981,
          0.3406859553629773,
          0.3320100490600739,
          0.330847004014062,
          0.33640977221723545,
          0.340062736265932,
          0.35682137833952926,
          0.3551658216267244,
          0.3641227116936301,
          0.3641724440187183,
          0.35555893651752396,
          0.3347725358039617,
          0.35365126153568155,
          0.350969509117799,
          0.3435398289899227
         ],
         "yaxis": "y17"
        },
        {
         "hovertemplate": "variable=pp<br>id=179458306<br>ym=%{x}<br>value=%{y}<extra></extra>",
         "legendgroup": "pp",
         "line": {
          "color": "#636efa",
          "dash": "solid"
         },
         "marker": {
          "symbol": "circle"
         },
         "mode": "lines",
         "name": "pp",
         "showlegend": false,
         "type": "scattergl",
         "x": [
          "2020-01-01T00:00:00",
          "2020-02-01T00:00:00",
          "2020-03-01T00:00:00",
          "2020-04-01T00:00:00",
          "2020-05-01T00:00:00",
          "2020-06-01T00:00:00",
          "2020-07-01T00:00:00",
          "2020-08-01T00:00:00",
          "2020-09-01T00:00:00",
          "2020-10-01T00:00:00",
          "2020-11-01T00:00:00",
          "2020-12-01T00:00:00",
          "2021-01-01T00:00:00",
          "2021-02-01T00:00:00",
          "2021-03-01T00:00:00",
          "2021-04-01T00:00:00",
          "2021-05-01T00:00:00",
          "2021-06-01T00:00:00",
          "2021-07-01T00:00:00",
          "2021-08-01T00:00:00",
          "2021-09-01T00:00:00",
          "2021-10-01T00:00:00"
         ],
         "xaxis": "x18",
         "y": [
          0.3661259115885381,
          0.34736717267140216,
          0.3548902775707762,
          0.3697707965960928,
          0.3576987215069803,
          0.34834872832660574,
          0.3404531678403745,
          0.3432184910547577,
          0.34426959619441405,
          0.34414550966014285,
          0.33333333332829657,
          0.34694780300284656,
          0.34060150375427667,
          0.33592603462964593,
          0.342150058919181,
          0.34145673603037435,
          0.3409511228488646,
          0.3393628509673412,
          0.33543307086173973,
          0.3352585627893182,
          0.3404196192810835,
          0.3395947940381109
         ],
         "yaxis": "y18"
        },
        {
         "hovertemplate": "variable=pp<br>id=179569820<br>ym=%{x}<br>value=%{y}<extra></extra>",
         "legendgroup": "pp",
         "line": {
          "color": "#636efa",
          "dash": "solid"
         },
         "marker": {
          "symbol": "circle"
         },
         "mode": "lines",
         "name": "pp",
         "showlegend": false,
         "type": "scattergl",
         "x": [
          "2020-01-01T00:00:00",
          "2020-02-01T00:00:00",
          "2020-03-01T00:00:00",
          "2020-04-01T00:00:00",
          "2020-05-01T00:00:00",
          "2020-06-01T00:00:00",
          "2020-07-01T00:00:00",
          "2020-08-01T00:00:00",
          "2020-09-01T00:00:00",
          "2020-10-01T00:00:00",
          "2020-11-01T00:00:00",
          "2020-12-01T00:00:00",
          "2021-01-01T00:00:00",
          "2021-02-01T00:00:00",
          "2021-03-01T00:00:00",
          "2021-04-01T00:00:00",
          "2021-05-01T00:00:00",
          "2021-06-01T00:00:00",
          "2021-07-01T00:00:00",
          "2021-08-01T00:00:00",
          "2021-09-01T00:00:00",
          "2021-10-01T00:00:00"
         ],
         "xaxis": "x19",
         "y": [
          0.3801504836930592,
          0.3180449386110951,
          0.3106988249806964,
          0.32304677932496884,
          0.3283145127515919,
          0.327731092432802,
          0.3337539432134542,
          0.3336844569249334,
          0.33301343569658093,
          0.3348214285692932,
          0.33296823657813573,
          0.3296031229625296,
          0.33025221180073616,
          0.32586339216690924,
          0.3324099722947842,
          0.33605875831019877,
          0.33519182264257014,
          0.33559874948571977,
          0.3309632412083316,
          0.33056690500088654,
          0.3308102742234668,
          0.3287112561136249
         ],
         "yaxis": "y19"
        },
        {
         "hovertemplate": "variable=pp<br>id=855996491<br>ym=%{x}<br>value=%{y}<extra></extra>",
         "legendgroup": "pp",
         "line": {
          "color": "#636efa",
          "dash": "solid"
         },
         "marker": {
          "symbol": "circle"
         },
         "mode": "lines",
         "name": "pp",
         "showlegend": false,
         "type": "scattergl",
         "x": [
          "2020-01-01T00:00:00",
          "2020-02-01T00:00:00",
          "2020-03-01T00:00:00",
          "2020-04-01T00:00:00",
          "2020-05-01T00:00:00",
          "2020-06-01T00:00:00",
          "2020-07-01T00:00:00",
          "2020-08-01T00:00:00",
          "2020-09-01T00:00:00",
          "2020-10-01T00:00:00",
          "2020-11-01T00:00:00",
          "2020-12-01T00:00:00",
          "2021-01-01T00:00:00",
          "2021-02-01T00:00:00",
          "2021-03-01T00:00:00",
          "2021-04-01T00:00:00",
          "2021-05-01T00:00:00",
          "2021-06-01T00:00:00",
          "2021-07-01T00:00:00",
          "2021-08-01T00:00:00",
          "2021-09-01T00:00:00",
          "2021-10-01T00:00:00"
         ],
         "xaxis": "x20",
         "y": [
          0.33781327100157243,
          0.336629921257722,
          0.33798668032570445,
          0.3375917683083554,
          0.3353488934554641,
          0.33491529496374556,
          0.3355416513290667,
          0.3384632922917324,
          0.3394471166534201,
          0.3390184241818204,
          0.340816802798876,
          0.34003480490776683,
          0.3412556053796356,
          0.3405776103528418,
          0.3413088117117163,
          0.3409694091337665,
          0.34271926329152735,
          0.34023854362673117,
          0.34200587494036916,
          0.3371091979910689,
          0.3369565215560019,
          0.3352769678322807
         ],
         "yaxis": "y20"
        },
        {
         "hovertemplate": "variable=pp<br>id=1606708811<br>ym=%{x}<br>value=%{y}<extra></extra>",
         "legendgroup": "pp",
         "line": {
          "color": "#636efa",
          "dash": "solid"
         },
         "marker": {
          "symbol": "circle"
         },
         "mode": "lines",
         "name": "pp",
         "showlegend": false,
         "type": "scattergl",
         "x": [
          "2020-01-01T00:00:00",
          "2020-02-01T00:00:00",
          "2020-03-01T00:00:00",
          "2020-04-01T00:00:00",
          "2020-05-01T00:00:00",
          "2020-06-01T00:00:00",
          "2020-07-01T00:00:00",
          "2020-08-01T00:00:00",
          "2020-09-01T00:00:00",
          "2020-10-01T00:00:00",
          "2020-11-01T00:00:00",
          "2020-12-01T00:00:00",
          "2021-01-01T00:00:00",
          "2021-02-01T00:00:00",
          "2021-03-01T00:00:00",
          "2021-04-01T00:00:00",
          "2021-05-01T00:00:00",
          "2021-06-01T00:00:00",
          "2021-07-01T00:00:00",
          "2021-08-01T00:00:00",
          "2021-09-01T00:00:00",
          "2021-10-01T00:00:00"
         ],
         "xaxis": "x13",
         "y": [
          0.337650105953171,
          0.3318660952121873,
          0.33612832664556896,
          0.33720405862077557,
          0.3378137266523395,
          0.337268702459561,
          0.33831752977950014,
          0.33784898103029976,
          0.33715909090525953,
          0.3381883367859605,
          0.3376801647181688,
          0.33774104682823425,
          0.3375690607697506,
          0.33736559139372724,
          0.33757535163722285,
          0.3374913374874394,
          0.33767825311566757,
          0.336927816897701,
          0.33665915673922686,
          0.33715770104624787,
          0.33744714889341276,
          0.3375508359654592
         ],
         "yaxis": "y13"
        },
        {
         "hovertemplate": "variable=pp<br>id=1916407803<br>ym=%{x}<br>value=%{y}<extra></extra>",
         "legendgroup": "pp",
         "line": {
          "color": "#636efa",
          "dash": "solid"
         },
         "marker": {
          "symbol": "circle"
         },
         "mode": "lines",
         "name": "pp",
         "showlegend": false,
         "type": "scattergl",
         "x": [
          "2020-01-01T00:00:00",
          "2020-02-01T00:00:00",
          "2020-03-01T00:00:00",
          "2020-04-01T00:00:00",
          "2020-05-01T00:00:00",
          "2020-06-01T00:00:00",
          "2020-07-01T00:00:00",
          "2020-08-01T00:00:00",
          "2020-09-01T00:00:00",
          "2020-10-01T00:00:00",
          "2020-11-01T00:00:00",
          "2020-12-01T00:00:00",
          "2021-01-01T00:00:00",
          "2021-02-01T00:00:00",
          "2021-03-01T00:00:00",
          "2021-04-01T00:00:00",
          "2021-05-01T00:00:00",
          "2021-06-01T00:00:00",
          "2021-07-01T00:00:00",
          "2021-08-01T00:00:00",
          "2021-09-01T00:00:00",
          "2021-10-01T00:00:00"
         ],
         "xaxis": "x14",
         "y": [
          0.33311928077808445,
          0.33403565639653104,
          0.3321912220536435,
          0.33317128503754384,
          0.33322237016755624,
          0.3340009243516561,
          0.33338676069348633,
          0.33343803988796233,
          0.3336434108475404,
          0.3337214225197531,
          0.3328103549650361,
          0.33333333332760595,
          0.33305647839978314,
          0.3339412730196254,
          0.3314646110644367,
          0.33285790692934825,
          0.33629966886721235,
          0.33441492597172146,
          0.3341673616810073,
          0.33436293435432785,
          0.3344444444370124,
          0.33420738974173525
         ],
         "yaxis": "y14"
        },
        {
         "hovertemplate": "variable=pp<br>id=2071313507<br>ym=%{x}<br>value=%{y}<extra></extra>",
         "legendgroup": "pp",
         "line": {
          "color": "#636efa",
          "dash": "solid"
         },
         "marker": {
          "symbol": "circle"
         },
         "mode": "lines",
         "name": "pp",
         "showlegend": false,
         "type": "scattergl",
         "x": [
          "2020-01-01T00:00:00",
          "2020-02-01T00:00:00",
          "2020-03-01T00:00:00",
          "2020-04-01T00:00:00",
          "2020-05-01T00:00:00",
          "2020-06-01T00:00:00",
          "2020-07-01T00:00:00",
          "2020-08-01T00:00:00",
          "2020-09-01T00:00:00",
          "2020-10-01T00:00:00",
          "2020-11-01T00:00:00",
          "2020-12-01T00:00:00",
          "2021-01-01T00:00:00",
          "2021-02-01T00:00:00",
          "2021-03-01T00:00:00",
          "2021-04-01T00:00:00",
          "2021-05-01T00:00:00",
          "2021-06-01T00:00:00",
          "2021-07-01T00:00:00",
          "2021-08-01T00:00:00",
          "2021-09-01T00:00:00",
          "2021-10-01T00:00:00"
         ],
         "xaxis": "x15",
         "y": [
          0.3347699151930017,
          0.3342442111294819,
          0.33446546983394415,
          0.33576529027991486,
          0.3354606447362505,
          0.3362903225779331,
          0.3368845843394924,
          0.3374109631438726,
          0.33725135623615693,
          0.33751104683723987,
          0.3378038558228181,
          0.33686837180024276,
          0.33705919395200673,
          0.3357624339557682,
          0.3370302929950585,
          0.3382893125735675,
          0.3367044463789302,
          0.3384279475951744,
          0.3380281690111089,
          0.3394160583910637,
          0.34047267355667954,
          0.3391791719369085
         ],
         "yaxis": "y15"
        },
        {
         "hovertemplate": "variable=pp<br>id=2172970175<br>ym=%{x}<br>value=%{y}<extra></extra>",
         "legendgroup": "pp",
         "line": {
          "color": "#636efa",
          "dash": "solid"
         },
         "marker": {
          "symbol": "circle"
         },
         "mode": "lines",
         "name": "pp",
         "showlegend": false,
         "type": "scattergl",
         "x": [
          "2020-01-01T00:00:00",
          "2020-02-01T00:00:00",
          "2020-03-01T00:00:00",
          "2020-04-01T00:00:00",
          "2020-05-01T00:00:00",
          "2020-06-01T00:00:00",
          "2020-07-01T00:00:00",
          "2020-08-01T00:00:00",
          "2020-09-01T00:00:00",
          "2020-10-01T00:00:00",
          "2020-11-01T00:00:00",
          "2020-12-01T00:00:00",
          "2021-01-01T00:00:00",
          "2021-02-01T00:00:00",
          "2021-03-01T00:00:00",
          "2021-04-01T00:00:00",
          "2021-05-01T00:00:00",
          "2021-06-01T00:00:00",
          "2021-07-01T00:00:00",
          "2021-08-01T00:00:00",
          "2021-09-01T00:00:00",
          "2021-10-01T00:00:00"
         ],
         "xaxis": "x16",
         "y": [
          0.3281070011498265,
          0.328443513048019,
          0.32511698411438,
          0.3306462098535259,
          0.33288752173108943,
          0.3381657737139502,
          0.33708676194438625,
          0.335937865529706,
          0.33586549174346264,
          0.33716951788396105,
          0.33643943109161084,
          0.3314920306097503,
          0.3308296346857242,
          0.32825539806379483,
          0.3337854573312863,
          0.33614213860907866,
          0.3399142135240618,
          0.34014613999608095,
          0.34159737969089643,
          0.341927827820584,
          0.34554973821794993,
          0.34325559591970434
         ],
         "yaxis": "y16"
        },
        {
         "hovertemplate": "variable=pp<br>id=2186749200<br>ym=%{x}<br>value=%{y}<extra></extra>",
         "legendgroup": "pp",
         "line": {
          "color": "#636efa",
          "dash": "solid"
         },
         "marker": {
          "symbol": "circle"
         },
         "mode": "lines",
         "name": "pp",
         "showlegend": false,
         "type": "scattergl",
         "x": [
          "2020-01-01T00:00:00",
          "2020-02-01T00:00:00",
          "2020-03-01T00:00:00",
          "2020-04-01T00:00:00",
          "2020-05-01T00:00:00",
          "2020-06-01T00:00:00",
          "2020-07-01T00:00:00",
          "2020-08-01T00:00:00",
          "2020-09-01T00:00:00",
          "2020-10-01T00:00:00",
          "2020-11-01T00:00:00",
          "2020-12-01T00:00:00",
          "2021-01-01T00:00:00",
          "2021-02-01T00:00:00",
          "2021-03-01T00:00:00",
          "2021-04-01T00:00:00",
          "2021-05-01T00:00:00",
          "2021-06-01T00:00:00",
          "2021-07-01T00:00:00",
          "2021-08-01T00:00:00",
          "2021-09-01T00:00:00",
          "2021-10-01T00:00:00"
         ],
         "xaxis": "x9",
         "y": [
          0.34060341693310425,
          0.3369402985011765,
          0.33660130718266745,
          0.3349344171377252,
          0.33307941343871494,
          0.3362499999939955,
          0.33729174051156874,
          0.3366319137597344,
          0.3379708177750599,
          0.33772309824694396,
          0.3362356428244491,
          0.33640389724824793,
          0.3363935562041158,
          0.33835182249725926,
          0.3419868466538251,
          0.3373338256953964,
          0.3398447282702248,
          0.3377266871436158,
          0.33618677042474526,
          0.33377362324391613,
          0.334070097880917,
          0.33397663788386006
         ],
         "yaxis": "y9"
        },
        {
         "hovertemplate": "variable=pp<br>id=2212416005<br>ym=%{x}<br>value=%{y}<extra></extra>",
         "legendgroup": "pp",
         "line": {
          "color": "#636efa",
          "dash": "solid"
         },
         "marker": {
          "symbol": "circle"
         },
         "mode": "lines",
         "name": "pp",
         "showlegend": false,
         "type": "scattergl",
         "x": [
          "2020-01-01T00:00:00",
          "2020-02-01T00:00:00",
          "2020-03-01T00:00:00",
          "2020-04-01T00:00:00",
          "2020-05-01T00:00:00",
          "2020-06-01T00:00:00",
          "2020-07-01T00:00:00",
          "2020-08-01T00:00:00",
          "2020-09-01T00:00:00",
          "2020-10-01T00:00:00",
          "2020-11-01T00:00:00",
          "2020-12-01T00:00:00",
          "2021-01-01T00:00:00",
          "2021-02-01T00:00:00",
          "2021-03-01T00:00:00",
          "2021-04-01T00:00:00",
          "2021-05-01T00:00:00",
          "2021-06-01T00:00:00",
          "2021-07-01T00:00:00",
          "2021-08-01T00:00:00",
          "2021-09-01T00:00:00",
          "2021-10-01T00:00:00"
         ],
         "xaxis": "x10",
         "y": [
          0.3529061694084976,
          0.34967634429052313,
          0.34433050973142865,
          0.3467575382049652,
          0.34847404449266633,
          0.3463219452117801,
          0.3464190981411941,
          0.34674696082650414,
          0.3462551534565606,
          0.3467225634514747,
          0.34727793696026305,
          0.35059565521828595,
          0.34751118369418793,
          0.3438026658469143,
          0.3439775910340057,
          0.3437901957957425,
          0.34491249084750836,
          0.34211801768846406,
          0.3429439413026313,
          0.3427512993456665,
          0.3438384066971606,
          0.34540718228403267
         ],
         "yaxis": "y10"
        },
        {
         "hovertemplate": "variable=pp<br>id=2251440776<br>ym=%{x}<br>value=%{y}<extra></extra>",
         "legendgroup": "pp",
         "line": {
          "color": "#636efa",
          "dash": "solid"
         },
         "marker": {
          "symbol": "circle"
         },
         "mode": "lines",
         "name": "pp",
         "showlegend": false,
         "type": "scattergl",
         "x": [
          "2020-01-01T00:00:00",
          "2020-02-01T00:00:00",
          "2020-03-01T00:00:00",
          "2020-04-01T00:00:00",
          "2020-05-01T00:00:00",
          "2020-06-01T00:00:00",
          "2020-07-01T00:00:00",
          "2020-08-01T00:00:00",
          "2020-09-01T00:00:00",
          "2020-10-01T00:00:00",
          "2020-11-01T00:00:00",
          "2020-12-01T00:00:00",
          "2021-01-01T00:00:00",
          "2021-02-01T00:00:00",
          "2021-03-01T00:00:00",
          "2021-04-01T00:00:00",
          "2021-05-01T00:00:00",
          "2021-06-01T00:00:00",
          "2021-07-01T00:00:00",
          "2021-08-01T00:00:00",
          "2021-09-01T00:00:00",
          "2021-10-01T00:00:00"
         ],
         "xaxis": "x11",
         "y": [
          0.32263513508063596,
          0.2991452991026859,
          0.3348436791873655,
          0.3299026425545215,
          0.3337749806742434,
          0.33992389145979546,
          0.33742719675653693,
          0.33243751679432654,
          0.3352590720316369,
          0.35613682091659615,
          0.3391038696422572,
          0.33371727748341656,
          0.33210816486976363,
          0.3344451455842924,
          0.3396926338042803,
          0.33018573435047455,
          0.3363429869373291,
          0.3382291229522317,
          0.3325058875925625,
          0.3360113960094814,
          0.33634614263026213,
          0.3369752421940959
         ],
         "yaxis": "y11"
        },
        {
         "hovertemplate": "variable=pp<br>id=2256064355<br>ym=%{x}<br>value=%{y}<extra></extra>",
         "legendgroup": "pp",
         "line": {
          "color": "#636efa",
          "dash": "solid"
         },
         "marker": {
          "symbol": "circle"
         },
         "mode": "lines",
         "name": "pp",
         "showlegend": false,
         "type": "scattergl",
         "x": [
          "2020-01-01T00:00:00",
          "2020-02-01T00:00:00",
          "2020-03-01T00:00:00",
          "2020-04-01T00:00:00",
          "2020-05-01T00:00:00",
          "2020-06-01T00:00:00",
          "2020-07-01T00:00:00",
          "2020-08-01T00:00:00",
          "2020-09-01T00:00:00",
          "2020-10-01T00:00:00",
          "2020-11-01T00:00:00",
          "2020-12-01T00:00:00",
          "2021-01-01T00:00:00",
          "2021-02-01T00:00:00",
          "2021-03-01T00:00:00",
          "2021-04-01T00:00:00",
          "2021-05-01T00:00:00",
          "2021-06-01T00:00:00",
          "2021-07-01T00:00:00",
          "2021-08-01T00:00:00",
          "2021-09-01T00:00:00",
          "2021-10-01T00:00:00"
         ],
         "xaxis": "x12",
         "y": [
          0.3444807643923855,
          0.3425874069898185,
          0.3403987785131992,
          0.3423862776394317,
          0.34396671289577,
          0.34486522797594366,
          0.34522770894830546,
          0.3450782519426573,
          0.3447980101179792,
          0.34628551865651197,
          0.34772287673335917,
          0.3476469133738758,
          0.3438160247006028,
          0.3427255006172007,
          0.3453556485326748,
          0.34670094258486117,
          0.34499347683997883,
          0.3441329528257165,
          0.3429056786899943,
          0.34246885616955475,
          0.3436209356435862,
          0.3438098888436657
         ],
         "yaxis": "y12"
        },
        {
         "hovertemplate": "variable=pp<br>id=2347718608<br>ym=%{x}<br>value=%{y}<extra></extra>",
         "legendgroup": "pp",
         "line": {
          "color": "#636efa",
          "dash": "solid"
         },
         "marker": {
          "symbol": "circle"
         },
         "mode": "lines",
         "name": "pp",
         "showlegend": false,
         "type": "scattergl",
         "x": [
          "2020-01-01T00:00:00",
          "2020-02-01T00:00:00",
          "2020-03-01T00:00:00",
          "2020-04-01T00:00:00",
          "2020-05-01T00:00:00",
          "2020-06-01T00:00:00",
          "2020-07-01T00:00:00",
          "2020-08-01T00:00:00",
          "2020-09-01T00:00:00",
          "2020-10-01T00:00:00",
          "2020-11-01T00:00:00",
          "2020-12-01T00:00:00",
          "2021-01-01T00:00:00",
          "2021-02-01T00:00:00",
          "2021-03-01T00:00:00",
          "2021-04-01T00:00:00",
          "2021-05-01T00:00:00",
          "2021-06-01T00:00:00",
          "2021-07-01T00:00:00",
          "2021-08-01T00:00:00",
          "2021-09-01T00:00:00",
          "2021-10-01T00:00:00"
         ],
         "xaxis": "x5",
         "y": [
          0.3449199908097012,
          0.34145077719954514,
          0.33475935828578646,
          0.3395177768668613,
          0.3385528267649699,
          0.34078474284554644,
          0.3421204859074281,
          0.34393726418329557,
          0.34748030325295465,
          0.3514021502129486,
          0.3509943603417112,
          0.34860518542600194,
          0.34913418466036544,
          0.33892409954908853,
          0.3464052287558115,
          0.3441503590008155,
          0.3464602629681556,
          0.3486854608783738,
          0.3490038872670736,
          0.3487110731894161,
          0.35278019653966425,
          0.35123314299385716
         ],
         "yaxis": "y5"
        },
        {
         "hovertemplate": "variable=pp<br>id=2347718610<br>ym=%{x}<br>value=%{y}<extra></extra>",
         "legendgroup": "pp",
         "line": {
          "color": "#636efa",
          "dash": "solid"
         },
         "marker": {
          "symbol": "circle"
         },
         "mode": "lines",
         "name": "pp",
         "showlegend": false,
         "type": "scattergl",
         "x": [
          "2020-01-01T00:00:00",
          "2020-02-01T00:00:00",
          "2020-03-01T00:00:00",
          "2020-04-01T00:00:00",
          "2020-05-01T00:00:00",
          "2020-06-01T00:00:00",
          "2020-07-01T00:00:00",
          "2020-08-01T00:00:00",
          "2020-09-01T00:00:00",
          "2020-10-01T00:00:00",
          "2020-11-01T00:00:00",
          "2020-12-01T00:00:00",
          "2021-01-01T00:00:00",
          "2021-02-01T00:00:00",
          "2021-03-01T00:00:00",
          "2021-04-01T00:00:00",
          "2021-05-01T00:00:00",
          "2021-06-01T00:00:00",
          "2021-07-01T00:00:00",
          "2021-08-01T00:00:00",
          "2021-09-01T00:00:00",
          "2021-10-01T00:00:00"
         ],
         "xaxis": "x6",
         "y": [
          0.34343084645712796,
          0.3410900725505124,
          0.3345356176705632,
          0.33265439139373754,
          0.3377763059827984,
          0.33747884317950194,
          0.33865910108751185,
          0.3357716071277908,
          0.3366155577413376,
          0.34119308920880437,
          0.34392604362022294,
          0.3435218324957514,
          0.341537570578098,
          0.33595120728268063,
          0.3382119954708547,
          0.33906770255003116,
          0.34038666463434014,
          0.34262012834291267,
          0.34378320934914386,
          0.33995800209734545,
          0.34334273302078083,
          0.346233934082385
         ],
         "yaxis": "y6"
        },
        {
         "hovertemplate": "variable=pp<br>id=2427050072<br>ym=%{x}<br>value=%{y}<extra></extra>",
         "legendgroup": "pp",
         "line": {
          "color": "#636efa",
          "dash": "solid"
         },
         "marker": {
          "symbol": "circle"
         },
         "mode": "lines",
         "name": "pp",
         "showlegend": false,
         "type": "scattergl",
         "x": [
          "2020-01-01T00:00:00",
          "2020-02-01T00:00:00",
          "2020-03-01T00:00:00",
          "2020-04-01T00:00:00",
          "2020-05-01T00:00:00",
          "2020-06-01T00:00:00",
          "2020-07-01T00:00:00",
          "2020-08-01T00:00:00",
          "2020-09-01T00:00:00",
          "2020-10-01T00:00:00",
          "2020-11-01T00:00:00",
          "2020-12-01T00:00:00",
          "2021-01-01T00:00:00",
          "2021-02-01T00:00:00",
          "2021-03-01T00:00:00",
          "2021-04-01T00:00:00",
          "2021-05-01T00:00:00",
          "2021-06-01T00:00:00",
          "2021-07-01T00:00:00",
          "2021-08-01T00:00:00",
          "2021-09-01T00:00:00",
          "2021-10-01T00:00:00"
         ],
         "xaxis": "x7",
         "y": [
          0.33308494783550047,
          0.33133817870530846,
          0.3328815090892027,
          0.3327691982194545,
          0.33282141289674394,
          0.3330498564863075,
          0.33307717641526974,
          0.33319207542818946,
          0.3343092604604824,
          0.33202304668390487,
          0.333151640680986,
          0.33312202852262945,
          0.3330505778779233,
          0.33290428270146377,
          0.33305003717908155,
          0.33198573126834735,
          0.337861524974388,
          0.3330793512535857,
          0.334447730483034,
          0.3329471244961771,
          0.33318786820496193,
          0.3331926566751087
         ],
         "yaxis": "y7"
        },
        {
         "hovertemplate": "variable=pp<br>id=2445049876<br>ym=%{x}<br>value=%{y}<extra></extra>",
         "legendgroup": "pp",
         "line": {
          "color": "#636efa",
          "dash": "solid"
         },
         "marker": {
          "symbol": "circle"
         },
         "mode": "lines",
         "name": "pp",
         "showlegend": false,
         "type": "scattergl",
         "x": [
          "2020-01-01T00:00:00",
          "2020-02-01T00:00:00",
          "2020-03-01T00:00:00",
          "2020-04-01T00:00:00",
          "2020-05-01T00:00:00",
          "2020-06-01T00:00:00",
          "2020-07-01T00:00:00",
          "2020-08-01T00:00:00",
          "2020-09-01T00:00:00",
          "2020-10-01T00:00:00",
          "2020-11-01T00:00:00",
          "2020-12-01T00:00:00",
          "2021-01-01T00:00:00",
          "2021-02-01T00:00:00",
          "2021-03-01T00:00:00",
          "2021-04-01T00:00:00",
          "2021-05-01T00:00:00",
          "2021-06-01T00:00:00",
          "2021-07-01T00:00:00",
          "2021-08-01T00:00:00",
          "2021-09-01T00:00:00",
          "2021-10-01T00:00:00"
         ],
         "xaxis": "x8",
         "y": [
          0.34374999999660055,
          0.3413115392066422,
          0.3390974272423123,
          0.34164193867120035,
          0.34223841327320137,
          0.34272882143144856,
          0.3425925925900344,
          0.3444604316521981,
          0.34164183147966914,
          0.34217247596025324,
          0.34245115452626596,
          0.34245810055547055,
          0.34323893098979613,
          0.34192672998256524,
          0.3434364120382609,
          0.34486395274894677,
          0.34223990903598406,
          0.3414877683446373,
          0.34127111825952317,
          0.34178037686532015,
          0.34205808533217946,
          0.343009795188397
         ],
         "yaxis": "y8"
        },
        {
         "hovertemplate": "variable=pp<br>id=2471562086<br>ym=%{x}<br>value=%{y}<extra></extra>",
         "legendgroup": "pp",
         "line": {
          "color": "#636efa",
          "dash": "solid"
         },
         "marker": {
          "symbol": "circle"
         },
         "mode": "lines",
         "name": "pp",
         "showlegend": false,
         "type": "scattergl",
         "x": [
          "2020-01-01T00:00:00",
          "2020-02-01T00:00:00",
          "2020-03-01T00:00:00",
          "2020-04-01T00:00:00",
          "2020-05-01T00:00:00",
          "2020-06-01T00:00:00",
          "2020-07-01T00:00:00",
          "2020-08-01T00:00:00",
          "2020-09-01T00:00:00",
          "2020-10-01T00:00:00",
          "2020-11-01T00:00:00",
          "2020-12-01T00:00:00",
          "2021-01-01T00:00:00",
          "2021-02-01T00:00:00",
          "2021-03-01T00:00:00",
          "2021-04-01T00:00:00",
          "2021-05-01T00:00:00",
          "2021-06-01T00:00:00",
          "2021-07-01T00:00:00",
          "2021-08-01T00:00:00",
          "2021-09-01T00:00:00",
          "2021-10-01T00:00:00"
         ],
         "xaxis": "x",
         "y": [
          0.33635778635562186,
          0.33224408135823774,
          0.3287904599635946,
          0.3399461180483716,
          0.34099248120095643,
          0.3442930953483124,
          0.3437374234210806,
          0.3399924613632115,
          0.3406768837789724,
          0.3446956019346075,
          0.34696656137486676,
          0.34737934613208415,
          0.3457332652000729,
          0.341543915406506,
          0.3437597099930411,
          0.34228942125789297,
          0.34375295564010333,
          0.3431192660537342,
          0.3404128791082303,
          0.33978265501666405,
          0.34539795464497375,
          0.34728260869407934
         ],
         "yaxis": "y"
        },
        {
         "hovertemplate": "variable=pp<br>id=2479963778<br>ym=%{x}<br>value=%{y}<extra></extra>",
         "legendgroup": "pp",
         "line": {
          "color": "#636efa",
          "dash": "solid"
         },
         "marker": {
          "symbol": "circle"
         },
         "mode": "lines",
         "name": "pp",
         "showlegend": false,
         "type": "scattergl",
         "x": [
          "2020-01-01T00:00:00",
          "2020-02-01T00:00:00",
          "2020-03-01T00:00:00",
          "2020-04-01T00:00:00",
          "2020-05-01T00:00:00",
          "2020-06-01T00:00:00",
          "2020-07-01T00:00:00",
          "2020-08-01T00:00:00",
          "2020-09-01T00:00:00",
          "2020-10-01T00:00:00",
          "2020-11-01T00:00:00",
          "2020-12-01T00:00:00",
          "2021-01-01T00:00:00",
          "2021-02-01T00:00:00",
          "2021-03-01T00:00:00",
          "2021-04-01T00:00:00",
          "2021-05-01T00:00:00",
          "2021-06-01T00:00:00",
          "2021-07-01T00:00:00",
          "2021-08-01T00:00:00",
          "2021-09-01T00:00:00",
          "2021-10-01T00:00:00"
         ],
         "xaxis": "x2",
         "y": [
          0.3394473271347961,
          0.34023991275528637,
          0.33834086678624914,
          0.34239198496753426,
          0.3424410362115938,
          0.34243551010524703,
          0.34456478138443075,
          0.34195155471274735,
          0.34392014518772546,
          0.3434794977025095,
          0.3454315256346757,
          0.3439314893164294,
          0.3473860062858944,
          0.34249402563173476,
          0.3461976202757765,
          0.3485720156117878,
          0.344945647519088,
          0.3452795600334988,
          0.3443446741877886,
          0.34395143156690183,
          0.34643635482810203,
          0.348361032041609
         ],
         "yaxis": "y2"
        },
        {
         "hovertemplate": "variable=pp<br>id=2496032641<br>ym=%{x}<br>value=%{y}<extra></extra>",
         "legendgroup": "pp",
         "line": {
          "color": "#636efa",
          "dash": "solid"
         },
         "marker": {
          "symbol": "circle"
         },
         "mode": "lines",
         "name": "pp",
         "showlegend": false,
         "type": "scattergl",
         "x": [
          "2020-01-01T00:00:00",
          "2020-02-01T00:00:00",
          "2020-03-01T00:00:00",
          "2020-04-01T00:00:00",
          "2020-05-01T00:00:00",
          "2020-06-01T00:00:00",
          "2020-07-01T00:00:00",
          "2020-08-01T00:00:00",
          "2020-09-01T00:00:00",
          "2020-10-01T00:00:00",
          "2020-11-01T00:00:00",
          "2020-12-01T00:00:00",
          "2021-01-01T00:00:00",
          "2021-02-01T00:00:00",
          "2021-03-01T00:00:00",
          "2021-04-01T00:00:00",
          "2021-05-01T00:00:00",
          "2021-06-01T00:00:00",
          "2021-07-01T00:00:00",
          "2021-08-01T00:00:00",
          "2021-09-01T00:00:00",
          "2021-10-01T00:00:00"
         ],
         "xaxis": "x3",
         "y": [
          0.3398009110819993,
          0.3370994940949654,
          0.33283245679627316,
          0.33708260105151944,
          0.33728726147208793,
          0.340145985398977,
          0.3393201721809461,
          0.33956434419635745,
          0.339881224300747,
          0.3461473896241978,
          0.34507991526723397,
          0.3431155407867929,
          0.34164495719816107,
          0.3366357958180418,
          0.3417123417091125,
          0.3424092409205609,
          0.3484295105884913,
          0.35456513893581226,
          0.3477483336014652,
          0.34828451882553735,
          0.34832635982899235,
          0.34793089593865073
         ],
         "yaxis": "y3"
        },
        {
         "hovertemplate": "variable=pp<br>id=2523401557<br>ym=%{x}<br>value=%{y}<extra></extra>",
         "legendgroup": "pp",
         "line": {
          "color": "#636efa",
          "dash": "solid"
         },
         "marker": {
          "symbol": "circle"
         },
         "mode": "lines",
         "name": "pp",
         "showlegend": false,
         "type": "scattergl",
         "x": [
          "2020-01-01T00:00:00",
          "2020-02-01T00:00:00",
          "2020-03-01T00:00:00",
          "2020-04-01T00:00:00",
          "2020-05-01T00:00:00",
          "2020-06-01T00:00:00",
          "2020-07-01T00:00:00",
          "2020-08-01T00:00:00",
          "2020-09-01T00:00:00",
          "2020-10-01T00:00:00",
          "2020-11-01T00:00:00",
          "2020-12-01T00:00:00",
          "2021-01-01T00:00:00",
          "2021-02-01T00:00:00",
          "2021-03-01T00:00:00",
          "2021-04-01T00:00:00",
          "2021-05-01T00:00:00",
          "2021-06-01T00:00:00",
          "2021-07-01T00:00:00",
          "2021-08-01T00:00:00",
          "2021-09-01T00:00:00",
          "2021-10-01T00:00:00"
         ],
         "xaxis": "x4",
         "y": [
          0.3389872786188702,
          0.34732913458890446,
          0.33137419534940704,
          0.341443633409821,
          0.3402758993732719,
          0.3473890659432779,
          0.34597422006028417,
          0.34854771783974103,
          0.3432626949185999,
          0.34581011460232464,
          0.34598313359580574,
          0.34204326407858165,
          0.3370676100595807,
          0.3426488456823493,
          0.34718355107788407,
          0.34541062801553124,
          0.34562021122027725,
          0.3437236731219068,
          0.3440442079375353,
          0.34315964292772305,
          0.34703102526867646,
          0.34764397905395134
         ],
         "yaxis": "y4"
        },
        {
         "hovertemplate": "variable=pf<br>id=179433516<br>ym=%{x}<br>value=%{y}<extra></extra>",
         "legendgroup": "pf",
         "line": {
          "color": "#EF553B",
          "dash": "solid"
         },
         "marker": {
          "symbol": "circle"
         },
         "mode": "lines",
         "name": "pf",
         "showlegend": true,
         "type": "scattergl",
         "x": [
          "2020-01-01T00:00:00",
          "2020-02-01T00:00:00",
          "2020-03-01T00:00:00",
          "2020-04-01T00:00:00",
          "2020-05-01T00:00:00",
          "2020-06-01T00:00:00",
          "2020-07-01T00:00:00",
          "2020-08-01T00:00:00",
          "2020-09-01T00:00:00",
          "2020-10-01T00:00:00",
          "2020-11-01T00:00:00",
          "2020-12-01T00:00:00",
          "2021-01-01T00:00:00",
          "2021-02-01T00:00:00",
          "2021-03-01T00:00:00",
          "2021-04-01T00:00:00",
          "2021-05-01T00:00:00",
          "2021-06-01T00:00:00",
          "2021-07-01T00:00:00",
          "2021-08-01T00:00:00",
          "2021-09-01T00:00:00",
          "2021-10-01T00:00:00"
         ],
         "xaxis": "x17",
         "y": [
          0.3501246882786781,
          0.336352926838493,
          0.32481736761664776,
          0.33067256129941736,
          0.35183760430793654,
          0.3444994822708078,
          0.3400185522817068,
          0.33942665105104713,
          0.3513893590974356,
          0.33714123195770795,
          0.3356048966641032,
          0.33116959754475256,
          0.3356658355447389,
          0.3821378340356724,
          0.3879145540678499,
          0.4009027835818756,
          0.3913857677894825,
          0.3657905747206919,
          0.33982729570285763,
          0.36288030318917275,
          0.3603402292215809,
          0.3422217716037341
         ],
         "yaxis": "y17"
        },
        {
         "hovertemplate": "variable=pf<br>id=179458306<br>ym=%{x}<br>value=%{y}<extra></extra>",
         "legendgroup": "pf",
         "line": {
          "color": "#EF553B",
          "dash": "solid"
         },
         "marker": {
          "symbol": "circle"
         },
         "mode": "lines",
         "name": "pf",
         "showlegend": false,
         "type": "scattergl",
         "x": [
          "2020-01-01T00:00:00",
          "2020-02-01T00:00:00",
          "2020-03-01T00:00:00",
          "2020-04-01T00:00:00",
          "2020-05-01T00:00:00",
          "2020-06-01T00:00:00",
          "2020-07-01T00:00:00",
          "2020-08-01T00:00:00",
          "2020-09-01T00:00:00",
          "2020-10-01T00:00:00",
          "2020-11-01T00:00:00",
          "2020-12-01T00:00:00",
          "2021-01-01T00:00:00",
          "2021-02-01T00:00:00",
          "2021-03-01T00:00:00",
          "2021-04-01T00:00:00",
          "2021-05-01T00:00:00",
          "2021-06-01T00:00:00",
          "2021-07-01T00:00:00",
          "2021-08-01T00:00:00",
          "2021-09-01T00:00:00",
          "2021-10-01T00:00:00"
         ],
         "xaxis": "x18",
         "y": [
          0.34514064592431704,
          0.3432163187815083,
          0.3480598750131077,
          0.3444462253511068,
          0.3464424680329844,
          0.3402505377661616,
          0.3351132919564856,
          0.33347870329505047,
          0.33343230403305474,
          0.3334596438019442,
          0.3469326080334401,
          0.33692126215958534,
          0.3396992481151925,
          0.34194305840413936,
          0.3356029854611025,
          0.33543263964491465,
          0.33394980184499407,
          0.3393628509673412,
          0.3431758530138691,
          0.3371390194716301,
          0.33249965262842157,
          0.3370454850350591
         ],
         "yaxis": "y18"
        },
        {
         "hovertemplate": "variable=pf<br>id=179569820<br>ym=%{x}<br>value=%{y}<extra></extra>",
         "legendgroup": "pf",
         "line": {
          "color": "#EF553B",
          "dash": "solid"
         },
         "marker": {
          "symbol": "circle"
         },
         "mode": "lines",
         "name": "pf",
         "showlegend": false,
         "type": "scattergl",
         "x": [
          "2020-01-01T00:00:00",
          "2020-02-01T00:00:00",
          "2020-03-01T00:00:00",
          "2020-04-01T00:00:00",
          "2020-05-01T00:00:00",
          "2020-06-01T00:00:00",
          "2020-07-01T00:00:00",
          "2020-08-01T00:00:00",
          "2020-09-01T00:00:00",
          "2020-10-01T00:00:00",
          "2020-11-01T00:00:00",
          "2020-12-01T00:00:00",
          "2021-01-01T00:00:00",
          "2021-02-01T00:00:00",
          "2021-03-01T00:00:00",
          "2021-04-01T00:00:00",
          "2021-05-01T00:00:00",
          "2021-06-01T00:00:00",
          "2021-07-01T00:00:00",
          "2021-08-01T00:00:00",
          "2021-09-01T00:00:00",
          "2021-10-01T00:00:00"
         ],
         "xaxis": "x19",
         "y": [
          0.3557864564629668,
          0.32893212878933364,
          0.3218305503979984,
          0.32267940239624443,
          0.32301686880910335,
          0.31741787623736417,
          0.3123028391127785,
          0.3112125468128369,
          0.3150191938541864,
          0.31568877550819074,
          0.31900328586638826,
          0.3224463240036116,
          0.32602667370492505,
          0.3250959324585557,
          0.315789473680045,
          0.31665742793352747,
          0.3147484401922906,
          0.3142585292875594,
          0.3159377515385573,
          0.313968335031742,
          0.3081027422718935,
          0.31111628990548684
         ],
         "yaxis": "y19"
        },
        {
         "hovertemplate": "variable=pf<br>id=855996491<br>ym=%{x}<br>value=%{y}<extra></extra>",
         "legendgroup": "pf",
         "line": {
          "color": "#EF553B",
          "dash": "solid"
         },
         "marker": {
          "symbol": "circle"
         },
         "mode": "lines",
         "name": "pf",
         "showlegend": false,
         "type": "scattergl",
         "x": [
          "2020-01-01T00:00:00",
          "2020-02-01T00:00:00",
          "2020-03-01T00:00:00",
          "2020-04-01T00:00:00",
          "2020-05-01T00:00:00",
          "2020-06-01T00:00:00",
          "2020-07-01T00:00:00",
          "2020-08-01T00:00:00",
          "2020-09-01T00:00:00",
          "2020-10-01T00:00:00",
          "2020-11-01T00:00:00",
          "2020-12-01T00:00:00",
          "2021-01-01T00:00:00",
          "2021-02-01T00:00:00",
          "2021-03-01T00:00:00",
          "2021-04-01T00:00:00",
          "2021-05-01T00:00:00",
          "2021-06-01T00:00:00",
          "2021-07-01T00:00:00",
          "2021-08-01T00:00:00",
          "2021-09-01T00:00:00",
          "2021-10-01T00:00:00"
         ],
         "xaxis": "x20",
         "y": [
          0.338722243862234,
          0.33770078739944753,
          0.33977971311257826,
          0.33718712064086254,
          0.33601402829643234,
          0.3339541030858227,
          0.3322905164990045,
          0.33242134062738016,
          0.335377134096224,
          0.33479948834107226,
          0.33498249708128364,
          0.33733284484183307,
          0.3388789237652965,
          0.33927364048904046,
          0.3376037853747986,
          0.3371513712327739,
          0.33811484482074594,
          0.33724467622609855,
          0.3384389425023408,
          0.33303126414440276,
          0.3369565215560019,
          0.332361515938087
         ],
         "yaxis": "y20"
        },
        {
         "hovertemplate": "variable=pf<br>id=1606708811<br>ym=%{x}<br>value=%{y}<extra></extra>",
         "legendgroup": "pf",
         "line": {
          "color": "#EF553B",
          "dash": "solid"
         },
         "marker": {
          "symbol": "circle"
         },
         "mode": "lines",
         "name": "pf",
         "showlegend": false,
         "type": "scattergl",
         "x": [
          "2020-01-01T00:00:00",
          "2020-02-01T00:00:00",
          "2020-03-01T00:00:00",
          "2020-04-01T00:00:00",
          "2020-05-01T00:00:00",
          "2020-06-01T00:00:00",
          "2020-07-01T00:00:00",
          "2020-08-01T00:00:00",
          "2020-09-01T00:00:00",
          "2020-10-01T00:00:00",
          "2020-11-01T00:00:00",
          "2020-12-01T00:00:00",
          "2021-01-01T00:00:00",
          "2021-02-01T00:00:00",
          "2021-03-01T00:00:00",
          "2021-04-01T00:00:00",
          "2021-05-01T00:00:00",
          "2021-06-01T00:00:00",
          "2021-07-01T00:00:00",
          "2021-08-01T00:00:00",
          "2021-09-01T00:00:00",
          "2021-10-01T00:00:00"
         ],
         "xaxis": "x13",
         "y": [
          0.33494231221644755,
          0.34124869685692977,
          0.33624984809410313,
          0.3358511837617153,
          0.33602949922283776,
          0.33545237824570945,
          0.33491368830130175,
          0.3340793968625977,
          0.33340909090530213,
          0.33381883367691545,
          0.33745138411876624,
          0.3353168044040185,
          0.33602209944380085,
          0.3387096774152162,
          0.33489618217978456,
          0.3346038345999699,
          0.3343360071264,
          0.3337367957709756,
          0.3337624718342049,
          0.33412707002560743,
          0.33436178722049636,
          0.33495255309156174
         ],
         "yaxis": "y13"
        },
        {
         "hovertemplate": "variable=pf<br>id=1916407803<br>ym=%{x}<br>value=%{y}<extra></extra>",
         "legendgroup": "pf",
         "line": {
          "color": "#EF553B",
          "dash": "solid"
         },
         "marker": {
          "symbol": "circle"
         },
         "mode": "lines",
         "name": "pf",
         "showlegend": false,
         "type": "scattergl",
         "x": [
          "2020-01-01T00:00:00",
          "2020-02-01T00:00:00",
          "2020-03-01T00:00:00",
          "2020-04-01T00:00:00",
          "2020-05-01T00:00:00",
          "2020-06-01T00:00:00",
          "2020-07-01T00:00:00",
          "2020-08-01T00:00:00",
          "2020-09-01T00:00:00",
          "2020-10-01T00:00:00",
          "2020-11-01T00:00:00",
          "2020-12-01T00:00:00",
          "2021-01-01T00:00:00",
          "2021-02-01T00:00:00",
          "2021-03-01T00:00:00",
          "2021-04-01T00:00:00",
          "2021-05-01T00:00:00",
          "2021-06-01T00:00:00",
          "2021-07-01T00:00:00",
          "2021-08-01T00:00:00",
          "2021-09-01T00:00:00",
          "2021-10-01T00:00:00"
         ],
         "xaxis": "x14",
         "y": [
          0.33424305666504667,
          0.33468395461370043,
          0.33398596834175254,
          0.3341435747798713,
          0.33438748334996027,
          0.3343090432855599,
          0.33418817117592264,
          0.33422333908694485,
          0.33395348836691546,
          0.3373200677356338,
          0.3353598744786162,
          0.3350515463859957,
          0.3357142857087091,
          0.33631223781987396,
          0.3345012847387409,
          0.33588875021686776,
          0.33278145694675537,
          0.33461772459268674,
          0.33722546565645745,
          0.33075933075081704,
          0.3362222222147506,
          0.3327771156058933
         ],
         "yaxis": "y14"
        },
        {
         "hovertemplate": "variable=pf<br>id=2071313507<br>ym=%{x}<br>value=%{y}<extra></extra>",
         "legendgroup": "pf",
         "line": {
          "color": "#EF553B",
          "dash": "solid"
         },
         "marker": {
          "symbol": "circle"
         },
         "mode": "lines",
         "name": "pf",
         "showlegend": false,
         "type": "scattergl",
         "x": [
          "2020-01-01T00:00:00",
          "2020-02-01T00:00:00",
          "2020-03-01T00:00:00",
          "2020-04-01T00:00:00",
          "2020-05-01T00:00:00",
          "2020-06-01T00:00:00",
          "2020-07-01T00:00:00",
          "2020-08-01T00:00:00",
          "2020-09-01T00:00:00",
          "2020-10-01T00:00:00",
          "2020-11-01T00:00:00",
          "2020-12-01T00:00:00",
          "2021-01-01T00:00:00",
          "2021-02-01T00:00:00",
          "2021-03-01T00:00:00",
          "2021-04-01T00:00:00",
          "2021-05-01T00:00:00",
          "2021-06-01T00:00:00",
          "2021-07-01T00:00:00",
          "2021-08-01T00:00:00",
          "2021-09-01T00:00:00",
          "2021-10-01T00:00:00"
         ],
         "xaxis": "x15",
         "y": [
          0.33198943416980403,
          0.33237451459562506,
          0.3318777292549581,
          0.33297112697661463,
          0.3328424153139188,
          0.3354838709650364,
          0.33866020984391715,
          0.33803034995092884,
          0.3404159131981584,
          0.33702900297125,
          0.3361274098882135,
          0.33624454148209415,
          0.33611460956914263,
          0.33230096556447164,
          0.3353749379214089,
          0.333916389711965,
          0.33443766346700576,
          0.3351528384248985,
          0.3353873239407096,
          0.3344890510918386,
          0.3371491875892065,
          0.33483999276500775
         ],
         "yaxis": "y15"
        },
        {
         "hovertemplate": "variable=pf<br>id=2172970175<br>ym=%{x}<br>value=%{y}<extra></extra>",
         "legendgroup": "pf",
         "line": {
          "color": "#EF553B",
          "dash": "solid"
         },
         "marker": {
          "symbol": "circle"
         },
         "mode": "lines",
         "name": "pf",
         "showlegend": false,
         "type": "scattergl",
         "x": [
          "2020-01-01T00:00:00",
          "2020-02-01T00:00:00",
          "2020-03-01T00:00:00",
          "2020-04-01T00:00:00",
          "2020-05-01T00:00:00",
          "2020-06-01T00:00:00",
          "2020-07-01T00:00:00",
          "2020-08-01T00:00:00",
          "2020-09-01T00:00:00",
          "2020-10-01T00:00:00",
          "2020-11-01T00:00:00",
          "2020-12-01T00:00:00",
          "2021-01-01T00:00:00",
          "2021-02-01T00:00:00",
          "2021-03-01T00:00:00",
          "2021-04-01T00:00:00",
          "2021-05-01T00:00:00",
          "2021-06-01T00:00:00",
          "2021-07-01T00:00:00",
          "2021-08-01T00:00:00",
          "2021-09-01T00:00:00",
          "2021-10-01T00:00:00"
         ],
         "xaxis": "x16",
         "y": [
          0.3280430052455648,
          0.32749095065518835,
          0.3198444605528251,
          0.3303861656460123,
          0.3361642369911986,
          0.3436285324070615,
          0.34262066310407285,
          0.34113133392438527,
          0.3417907424271154,
          0.34545454545356863,
          0.34440902402927653,
          0.33586512457370465,
          0.33521110731572085,
          0.3338190488784354,
          0.33797251872183776,
          0.33829773335725194,
          0.345026147245167,
          0.34581171237770936,
          0.34829931972613604,
          0.347915205780528,
          0.34757642289958013,
          0.34606820578726083
         ],
         "yaxis": "y16"
        },
        {
         "hovertemplate": "variable=pf<br>id=2186749200<br>ym=%{x}<br>value=%{y}<extra></extra>",
         "legendgroup": "pf",
         "line": {
          "color": "#EF553B",
          "dash": "solid"
         },
         "marker": {
          "symbol": "circle"
         },
         "mode": "lines",
         "name": "pf",
         "showlegend": false,
         "type": "scattergl",
         "x": [
          "2020-01-01T00:00:00",
          "2020-02-01T00:00:00",
          "2020-03-01T00:00:00",
          "2020-04-01T00:00:00",
          "2020-05-01T00:00:00",
          "2020-06-01T00:00:00",
          "2020-07-01T00:00:00",
          "2020-08-01T00:00:00",
          "2020-09-01T00:00:00",
          "2020-10-01T00:00:00",
          "2020-11-01T00:00:00",
          "2020-12-01T00:00:00",
          "2021-01-01T00:00:00",
          "2021-02-01T00:00:00",
          "2021-03-01T00:00:00",
          "2021-04-01T00:00:00",
          "2021-05-01T00:00:00",
          "2021-06-01T00:00:00",
          "2021-07-01T00:00:00",
          "2021-08-01T00:00:00",
          "2021-09-01T00:00:00",
          "2021-10-01T00:00:00"
         ],
         "xaxis": "x9",
         "y": [
          0.34060341693310425,
          0.33973880596381084,
          0.33946078430679205,
          0.34546462219941876,
          0.34126832983543576,
          0.33892857142251914,
          0.3380007089624601,
          0.34157978440817144,
          0.3425517475340592,
          0.34170854271060724,
          0.3447573175186225,
          0.3452612931736889,
          0.3412437207631865,
          0.3387480190107221,
          0.33921772238942166,
          0.3367799113674893,
          0.335962935132282,
          0.33455554454132835,
          0.33336575875162094,
          0.3348912822563006,
          0.33449110619582684,
          0.3344845099001068
         ],
         "yaxis": "y9"
        },
        {
         "hovertemplate": "variable=pf<br>id=2212416005<br>ym=%{x}<br>value=%{y}<extra></extra>",
         "legendgroup": "pf",
         "line": {
          "color": "#EF553B",
          "dash": "solid"
         },
         "marker": {
          "symbol": "circle"
         },
         "mode": "lines",
         "name": "pf",
         "showlegend": false,
         "type": "scattergl",
         "x": [
          "2020-01-01T00:00:00",
          "2020-02-01T00:00:00",
          "2020-03-01T00:00:00",
          "2020-04-01T00:00:00",
          "2020-05-01T00:00:00",
          "2020-06-01T00:00:00",
          "2020-07-01T00:00:00",
          "2020-08-01T00:00:00",
          "2020-09-01T00:00:00",
          "2020-10-01T00:00:00",
          "2020-11-01T00:00:00",
          "2020-12-01T00:00:00",
          "2021-01-01T00:00:00",
          "2021-02-01T00:00:00",
          "2021-03-01T00:00:00",
          "2021-04-01T00:00:00",
          "2021-05-01T00:00:00",
          "2021-06-01T00:00:00",
          "2021-07-01T00:00:00",
          "2021-08-01T00:00:00",
          "2021-09-01T00:00:00",
          "2021-10-01T00:00:00"
         ],
         "xaxis": "x10",
         "y": [
          0.3402764001828984,
          0.341857335125669,
          0.3384603953013935,
          0.3400110147298636,
          0.3396320593244464,
          0.34115112342049153,
          0.3431181844954723,
          0.3441017559638445,
          0.3443082913402181,
          0.3458126157734691,
          0.3448424068743206,
          0.3438682550781789,
          0.345522970955439,
          0.3461008120089926,
          0.3491596638631011,
          0.34907817635880317,
          0.3491049444310301,
          0.35078153398551565,
          0.3509113836962575,
          0.34971801393149554,
          0.3500056580267624,
          0.34881845810116713
         ],
         "yaxis": "y10"
        },
        {
         "hovertemplate": "variable=pf<br>id=2251440776<br>ym=%{x}<br>value=%{y}<extra></extra>",
         "legendgroup": "pf",
         "line": {
          "color": "#EF553B",
          "dash": "solid"
         },
         "marker": {
          "symbol": "circle"
         },
         "mode": "lines",
         "name": "pf",
         "showlegend": false,
         "type": "scattergl",
         "x": [
          "2020-01-01T00:00:00",
          "2020-02-01T00:00:00",
          "2020-03-01T00:00:00",
          "2020-04-01T00:00:00",
          "2020-05-01T00:00:00",
          "2020-06-01T00:00:00",
          "2020-07-01T00:00:00",
          "2020-08-01T00:00:00",
          "2020-09-01T00:00:00",
          "2020-10-01T00:00:00",
          "2020-11-01T00:00:00",
          "2020-12-01T00:00:00",
          "2021-01-01T00:00:00",
          "2021-02-01T00:00:00",
          "2021-03-01T00:00:00",
          "2021-04-01T00:00:00",
          "2021-05-01T00:00:00",
          "2021-06-01T00:00:00",
          "2021-07-01T00:00:00",
          "2021-08-01T00:00:00",
          "2021-09-01T00:00:00",
          "2021-10-01T00:00:00"
         ],
         "xaxis": "x11",
         "y": [
          0.33108108102515527,
          0.2578347577980292,
          0.3352967829481062,
          0.3300417246129341,
          0.3238379154209579,
          0.3311548643255199,
          0.3259052924770454,
          0.31947057242462057,
          0.3293013179244511,
          0.3556338028079569,
          0.3397827562681676,
          0.3292146596824166,
          0.32957031591555463,
          0.3322816190360382,
          0.33615968909492744,
          0.3275323864497617,
          0.3301533219742751,
          0.3306756189657054,
          0.3358156705471592,
          0.3379487179467923,
          0.33523820630745094,
          0.33379978471295046
         ],
         "yaxis": "y11"
        },
        {
         "hovertemplate": "variable=pf<br>id=2256064355<br>ym=%{x}<br>value=%{y}<extra></extra>",
         "legendgroup": "pf",
         "line": {
          "color": "#EF553B",
          "dash": "solid"
         },
         "marker": {
          "symbol": "circle"
         },
         "mode": "lines",
         "name": "pf",
         "showlegend": false,
         "type": "scattergl",
         "x": [
          "2020-01-01T00:00:00",
          "2020-02-01T00:00:00",
          "2020-03-01T00:00:00",
          "2020-04-01T00:00:00",
          "2020-05-01T00:00:00",
          "2020-06-01T00:00:00",
          "2020-07-01T00:00:00",
          "2020-08-01T00:00:00",
          "2020-09-01T00:00:00",
          "2020-10-01T00:00:00",
          "2020-11-01T00:00:00",
          "2020-12-01T00:00:00",
          "2021-01-01T00:00:00",
          "2021-02-01T00:00:00",
          "2021-03-01T00:00:00",
          "2021-04-01T00:00:00",
          "2021-05-01T00:00:00",
          "2021-06-01T00:00:00",
          "2021-07-01T00:00:00",
          "2021-08-01T00:00:00",
          "2021-09-01T00:00:00",
          "2021-10-01T00:00:00"
         ],
         "xaxis": "x12",
         "y": [
          0.3437264269521102,
          0.3458676694107859,
          0.3431830429284787,
          0.34373160682465537,
          0.34440013869326974,
          0.34368964648296507,
          0.3422613854445798,
          0.34319678439798856,
          0.3441118449237146,
          0.34444539541105595,
          0.3443819236825709,
          0.34484463858613,
          0.3430846741399067,
          0.34609250398417424,
          0.3422594142230773,
          0.3420736932275743,
          0.34336268753796995,
          0.34404901795917364,
          0.3451706843524901,
          0.3440543601333027,
          0.34324547570516445,
          0.3434266002273405
         ],
         "yaxis": "y12"
        },
        {
         "hovertemplate": "variable=pf<br>id=2347718608<br>ym=%{x}<br>value=%{y}<extra></extra>",
         "legendgroup": "pf",
         "line": {
          "color": "#EF553B",
          "dash": "solid"
         },
         "marker": {
          "symbol": "circle"
         },
         "mode": "lines",
         "name": "pf",
         "showlegend": false,
         "type": "scattergl",
         "x": [
          "2020-01-01T00:00:00",
          "2020-02-01T00:00:00",
          "2020-03-01T00:00:00",
          "2020-04-01T00:00:00",
          "2020-05-01T00:00:00",
          "2020-06-01T00:00:00",
          "2020-07-01T00:00:00",
          "2020-08-01T00:00:00",
          "2020-09-01T00:00:00",
          "2020-10-01T00:00:00",
          "2020-11-01T00:00:00",
          "2020-12-01T00:00:00",
          "2021-01-01T00:00:00",
          "2021-02-01T00:00:00",
          "2021-03-01T00:00:00",
          "2021-04-01T00:00:00",
          "2021-05-01T00:00:00",
          "2021-06-01T00:00:00",
          "2021-07-01T00:00:00",
          "2021-08-01T00:00:00",
          "2021-09-01T00:00:00",
          "2021-10-01T00:00:00"
         ],
         "xaxis": "x5",
         "y": [
          0.3391777046142012,
          0.3380458919294001,
          0.3300356506209444,
          0.3330608908840779,
          0.3362452612466108,
          0.33843989369752664,
          0.33674902900308445,
          0.3416438558826541,
          0.3473316485777662,
          0.34681602886870605,
          0.3449836746783542,
          0.3435510338014864,
          0.3445209600832752,
          0.33629618178747644,
          0.3421840958582367,
          0.34027875545304603,
          0.34542392641786757,
          0.34602470699812465,
          0.34882167152363447,
          0.34852824669176347,
          0.3463117303125618,
          0.3443688494694182
         ],
         "yaxis": "y5"
        },
        {
         "hovertemplate": "variable=pf<br>id=2347718610<br>ym=%{x}<br>value=%{y}<extra></extra>",
         "legendgroup": "pf",
         "line": {
          "color": "#EF553B",
          "dash": "solid"
         },
         "marker": {
          "symbol": "circle"
         },
         "mode": "lines",
         "name": "pf",
         "showlegend": false,
         "type": "scattergl",
         "x": [
          "2020-01-01T00:00:00",
          "2020-02-01T00:00:00",
          "2020-03-01T00:00:00",
          "2020-04-01T00:00:00",
          "2020-05-01T00:00:00",
          "2020-06-01T00:00:00",
          "2020-07-01T00:00:00",
          "2020-08-01T00:00:00",
          "2020-09-01T00:00:00",
          "2020-10-01T00:00:00",
          "2020-11-01T00:00:00",
          "2020-12-01T00:00:00",
          "2021-01-01T00:00:00",
          "2021-02-01T00:00:00",
          "2021-03-01T00:00:00",
          "2021-04-01T00:00:00",
          "2021-05-01T00:00:00",
          "2021-06-01T00:00:00",
          "2021-07-01T00:00:00",
          "2021-08-01T00:00:00",
          "2021-09-01T00:00:00",
          "2021-10-01T00:00:00"
         ],
         "xaxis": "x6",
         "y": [
          0.33442963475563064,
          0.331445761809136,
          0.3274120829546671,
          0.3240182499566236,
          0.3309876645390265,
          0.3350504084161082,
          0.33597133044396016,
          0.33626873091160947,
          0.33760022506444226,
          0.33387663442959226,
          0.33612595695264963,
          0.3319255547578244,
          0.33357463442642554,
          0.33202439635448217,
          0.33225198038225384,
          0.3340732519396379,
          0.3397777439462644,
          0.34293316637703136,
          0.34143008956777415,
          0.34003299834753237,
          0.33564514899523173,
          0.33654053277564056
         ],
         "yaxis": "y6"
        },
        {
         "hovertemplate": "variable=pf<br>id=2427050072<br>ym=%{x}<br>value=%{y}<extra></extra>",
         "legendgroup": "pf",
         "line": {
          "color": "#EF553B",
          "dash": "solid"
         },
         "marker": {
          "symbol": "circle"
         },
         "mode": "lines",
         "name": "pf",
         "showlegend": false,
         "type": "scattergl",
         "x": [
          "2020-01-01T00:00:00",
          "2020-02-01T00:00:00",
          "2020-03-01T00:00:00",
          "2020-04-01T00:00:00",
          "2020-05-01T00:00:00",
          "2020-06-01T00:00:00",
          "2020-07-01T00:00:00",
          "2020-08-01T00:00:00",
          "2020-09-01T00:00:00",
          "2020-10-01T00:00:00",
          "2020-11-01T00:00:00",
          "2020-12-01T00:00:00",
          "2021-01-01T00:00:00",
          "2021-02-01T00:00:00",
          "2021-03-01T00:00:00",
          "2021-04-01T00:00:00",
          "2021-05-01T00:00:00",
          "2021-06-01T00:00:00",
          "2021-07-01T00:00:00",
          "2021-08-01T00:00:00",
          "2021-09-01T00:00:00",
          "2021-10-01T00:00:00"
         ],
         "xaxis": "x7",
         "y": [
          0.3326591441310128,
          0.33133817870530846,
          0.33265559696902003,
          0.332451872219881,
          0.332602018425487,
          0.33251833740477815,
          0.3326380502762911,
          0.33276830172335237,
          0.3343092604604824,
          0.3318615044944706,
          0.33282459391330177,
          0.33248811410108303,
          0.33283851128901665,
          0.3327872688938358,
          0.33273132900953223,
          0.32984542211260587,
          0.33753286590340126,
          0.3324262544864218,
          0.3363764947880111,
          0.33273646513237054,
          0.3327514728307576,
          0.33277062671098573
         ],
         "yaxis": "y7"
        },
        {
         "hovertemplate": "variable=pf<br>id=2445049876<br>ym=%{x}<br>value=%{y}<extra></extra>",
         "legendgroup": "pf",
         "line": {
          "color": "#EF553B",
          "dash": "solid"
         },
         "marker": {
          "symbol": "circle"
         },
         "mode": "lines",
         "name": "pf",
         "showlegend": false,
         "type": "scattergl",
         "x": [
          "2020-01-01T00:00:00",
          "2020-02-01T00:00:00",
          "2020-03-01T00:00:00",
          "2020-04-01T00:00:00",
          "2020-05-01T00:00:00",
          "2020-06-01T00:00:00",
          "2020-07-01T00:00:00",
          "2020-08-01T00:00:00",
          "2020-09-01T00:00:00",
          "2020-10-01T00:00:00",
          "2020-11-01T00:00:00",
          "2020-12-01T00:00:00",
          "2021-01-01T00:00:00",
          "2021-02-01T00:00:00",
          "2021-03-01T00:00:00",
          "2021-04-01T00:00:00",
          "2021-05-01T00:00:00",
          "2021-06-01T00:00:00",
          "2021-07-01T00:00:00",
          "2021-08-01T00:00:00",
          "2021-09-01T00:00:00",
          "2021-10-01T00:00:00"
         ],
         "xaxis": "x8",
         "y": [
          0.34473892404722367,
          0.34539793733853474,
          0.3420497680267603,
          0.3446092977216161,
          0.3450718478005963,
          0.3439677868952767,
          0.34378733572025244,
          0.3479136690622452,
          0.3440801950667564,
          0.3438251201910163,
          0.34404973356710433,
          0.3448789571662488,
          0.34623055444409423,
          0.3459972862918815,
          0.3448699569901201,
          0.3433874709940583,
          0.34261891225750785,
          0.3436511898789844,
          0.3440064360390667,
          0.34454191032858555,
          0.345464324127416,
          0.34496883347867346
         ],
         "yaxis": "y8"
        },
        {
         "hovertemplate": "variable=pf<br>id=2471562086<br>ym=%{x}<br>value=%{y}<extra></extra>",
         "legendgroup": "pf",
         "line": {
          "color": "#EF553B",
          "dash": "solid"
         },
         "marker": {
          "symbol": "circle"
         },
         "mode": "lines",
         "name": "pf",
         "showlegend": false,
         "type": "scattergl",
         "x": [
          "2020-01-01T00:00:00",
          "2020-02-01T00:00:00",
          "2020-03-01T00:00:00",
          "2020-04-01T00:00:00",
          "2020-05-01T00:00:00",
          "2020-06-01T00:00:00",
          "2020-07-01T00:00:00",
          "2020-08-01T00:00:00",
          "2020-09-01T00:00:00",
          "2020-10-01T00:00:00",
          "2020-11-01T00:00:00",
          "2020-12-01T00:00:00",
          "2021-01-01T00:00:00",
          "2021-02-01T00:00:00",
          "2021-03-01T00:00:00",
          "2021-04-01T00:00:00",
          "2021-05-01T00:00:00",
          "2021-06-01T00:00:00",
          "2021-07-01T00:00:00",
          "2021-08-01T00:00:00",
          "2021-09-01T00:00:00",
          "2021-10-01T00:00:00"
         ],
         "xaxis": "x",
         "y": [
          0.33700128699911835,
          0.33417805935088907,
          0.32758375922538624,
          0.3439872642643645,
          0.3458646616520549,
          0.355190230153334,
          0.35361981844853724,
          0.35650207312342064,
          0.3595945082999697,
          0.3504970992504983,
          0.3475656246577303,
          0.34561494550936367,
          0.3416453755731137,
          0.3382433836541883,
          0.3498705334005703,
          0.3478060989919405,
          0.35174501087509813,
          0.34770642201701946,
          0.35455781156930355,
          0.3562326869790913,
          0.35878168074540334,
          0.34900362318682515
         ],
         "yaxis": "y"
        },
        {
         "hovertemplate": "variable=pf<br>id=2479963778<br>ym=%{x}<br>value=%{y}<extra></extra>",
         "legendgroup": "pf",
         "line": {
          "color": "#EF553B",
          "dash": "solid"
         },
         "marker": {
          "symbol": "circle"
         },
         "mode": "lines",
         "name": "pf",
         "showlegend": false,
         "type": "scattergl",
         "x": [
          "2020-01-01T00:00:00",
          "2020-02-01T00:00:00",
          "2020-03-01T00:00:00",
          "2020-04-01T00:00:00",
          "2020-05-01T00:00:00",
          "2020-06-01T00:00:00",
          "2020-07-01T00:00:00",
          "2020-08-01T00:00:00",
          "2020-09-01T00:00:00",
          "2020-10-01T00:00:00",
          "2020-11-01T00:00:00",
          "2020-12-01T00:00:00",
          "2021-01-01T00:00:00",
          "2021-02-01T00:00:00",
          "2021-03-01T00:00:00",
          "2021-04-01T00:00:00",
          "2021-05-01T00:00:00",
          "2021-06-01T00:00:00",
          "2021-07-01T00:00:00",
          "2021-08-01T00:00:00",
          "2021-09-01T00:00:00",
          "2021-10-01T00:00:00"
         ],
         "xaxis": "x2",
         "y": [
          0.3512730783111949,
          0.3494002180986979,
          0.3480457325133203,
          0.3525360050049776,
          0.35416935171601793,
          0.35138275621251003,
          0.3499799438392501,
          0.34616045352734787,
          0.3460650057717698,
          0.34965660177856034,
          0.3527115425157975,
          0.35298749876608926,
          0.3547562893046899,
          0.3524875081430318,
          0.35312984997047975,
          0.3532977193306626,
          0.34982453136737285,
          0.35132905590878705,
          0.3483812505119995,
          0.3488232648752149,
          0.34788925659578745,
          0.3530437976278299
         ],
         "yaxis": "y2"
        },
        {
         "hovertemplate": "variable=pf<br>id=2496032641<br>ym=%{x}<br>value=%{y}<extra></extra>",
         "legendgroup": "pf",
         "line": {
          "color": "#EF553B",
          "dash": "solid"
         },
         "marker": {
          "symbol": "circle"
         },
         "mode": "lines",
         "name": "pf",
         "showlegend": false,
         "type": "scattergl",
         "x": [
          "2020-01-01T00:00:00",
          "2020-02-01T00:00:00",
          "2020-03-01T00:00:00",
          "2020-04-01T00:00:00",
          "2020-05-01T00:00:00",
          "2020-06-01T00:00:00",
          "2020-07-01T00:00:00",
          "2020-08-01T00:00:00",
          "2020-09-01T00:00:00",
          "2020-10-01T00:00:00",
          "2020-11-01T00:00:00",
          "2020-12-01T00:00:00",
          "2021-01-01T00:00:00",
          "2021-02-01T00:00:00",
          "2021-03-01T00:00:00",
          "2021-04-01T00:00:00",
          "2021-05-01T00:00:00",
          "2021-06-01T00:00:00",
          "2021-07-01T00:00:00",
          "2021-08-01T00:00:00",
          "2021-09-01T00:00:00",
          "2021-10-01T00:00:00"
         ],
         "xaxis": "x3",
         "y": [
          0.3360890838507163,
          0.33541315345417017,
          0.3324567993958259,
          0.3372583479759467,
          0.33969400034089997,
          0.3417518248150237,
          0.34214041858140015,
          0.34157268654146783,
          0.3423176488477058,
          0.3463991942238274,
          0.3439245137652231,
          0.3405315614586514,
          0.343319687380505,
          0.33900495369008177,
          0.3400113400081269,
          0.34220297029350033,
          0.35007304601579553,
          0.3556477805814178,
          0.3483986343655633,
          0.34811715480880234,
          0.34539748953613597,
          0.34511852149110966
         ],
         "yaxis": "y3"
        },
        {
         "hovertemplate": "variable=pf<br>id=2523401557<br>ym=%{x}<br>value=%{y}<extra></extra>",
         "legendgroup": "pf",
         "line": {
          "color": "#EF553B",
          "dash": "solid"
         },
         "marker": {
          "symbol": "circle"
         },
         "mode": "lines",
         "name": "pf",
         "showlegend": false,
         "type": "scattergl",
         "x": [
          "2020-01-01T00:00:00",
          "2020-02-01T00:00:00",
          "2020-03-01T00:00:00",
          "2020-04-01T00:00:00",
          "2020-05-01T00:00:00",
          "2020-06-01T00:00:00",
          "2020-07-01T00:00:00",
          "2020-08-01T00:00:00",
          "2020-09-01T00:00:00",
          "2020-10-01T00:00:00",
          "2020-11-01T00:00:00",
          "2020-12-01T00:00:00",
          "2021-01-01T00:00:00",
          "2021-02-01T00:00:00",
          "2021-03-01T00:00:00",
          "2021-04-01T00:00:00",
          "2021-05-01T00:00:00",
          "2021-06-01T00:00:00",
          "2021-07-01T00:00:00",
          "2021-08-01T00:00:00",
          "2021-09-01T00:00:00",
          "2021-10-01T00:00:00"
         ],
         "xaxis": "x4",
         "y": [
          0.34247942129779896,
          0.3517611383210664,
          0.33753148614137235,
          0.3490132468187481,
          0.34325128482089196,
          0.3510664378481115,
          0.3452269755245168,
          0.3433609958480782,
          0.34866053578220046,
          0.3459152560175275,
          0.34553928095488745,
          0.34118654957869793,
          0.3431603773551183,
          0.3426488456823493,
          0.3437566930783491,
          0.34606938954385075,
          0.3470697867017284,
          0.3464616680671181,
          0.35018419975081677,
          0.3479343989999176,
          0.3509348674712252,
          0.34806282722148624
         ],
         "yaxis": "y4"
        },
        {
         "hovertemplate": "variable=pg<br>id=179433516<br>ym=%{x}<br>value=%{y}<extra></extra>",
         "legendgroup": "pg",
         "line": {
          "color": "#00cc96",
          "dash": "solid"
         },
         "marker": {
          "symbol": "circle"
         },
         "mode": "lines",
         "name": "pg",
         "showlegend": true,
         "type": "scattergl",
         "x": [
          "2020-01-01T00:00:00",
          "2020-02-01T00:00:00",
          "2020-03-01T00:00:00",
          "2020-04-01T00:00:00",
          "2020-05-01T00:00:00",
          "2020-06-01T00:00:00",
          "2020-07-01T00:00:00",
          "2020-08-01T00:00:00",
          "2020-09-01T00:00:00",
          "2020-10-01T00:00:00",
          "2020-11-01T00:00:00",
          "2020-12-01T00:00:00",
          "2021-01-01T00:00:00",
          "2021-02-01T00:00:00",
          "2021-03-01T00:00:00",
          "2021-04-01T00:00:00",
          "2021-05-01T00:00:00",
          "2021-06-01T00:00:00",
          "2021-07-01T00:00:00",
          "2021-08-01T00:00:00",
          "2021-09-01T00:00:00",
          "2021-10-01T00:00:00"
         ],
         "xaxis": "x17",
         "y": [
          0.3096544353396693,
          0.3326969167641616,
          0.3321639357787524,
          0.33271930901728947,
          0.3044327395391128,
          0.3146671144315973,
          0.32034673575741235,
          0.32213962014318176,
          0.30792468553828495,
          0.3308487189816256,
          0.3335480993205958,
          0.33242063023683177,
          0.3242714281879886,
          0.2610407876224542,
          0.25691962430334775,
          0.23497450472240455,
          0.24444178818980708,
          0.27865048875988235,
          0.3254001684914255,
          0.2834684352733911,
          0.28869026165881806,
          0.31423839940465337
         ],
         "yaxis": "y17"
        },
        {
         "hovertemplate": "variable=pg<br>id=179458306<br>ym=%{x}<br>value=%{y}<extra></extra>",
         "legendgroup": "pg",
         "line": {
          "color": "#00cc96",
          "dash": "solid"
         },
         "marker": {
          "symbol": "circle"
         },
         "mode": "lines",
         "name": "pg",
         "showlegend": false,
         "type": "scattergl",
         "x": [
          "2020-01-01T00:00:00",
          "2020-02-01T00:00:00",
          "2020-03-01T00:00:00",
          "2020-04-01T00:00:00",
          "2020-05-01T00:00:00",
          "2020-06-01T00:00:00",
          "2020-07-01T00:00:00",
          "2020-08-01T00:00:00",
          "2020-09-01T00:00:00",
          "2020-10-01T00:00:00",
          "2020-11-01T00:00:00",
          "2020-12-01T00:00:00",
          "2021-01-01T00:00:00",
          "2021-02-01T00:00:00",
          "2021-03-01T00:00:00",
          "2021-04-01T00:00:00",
          "2021-05-01T00:00:00",
          "2021-06-01T00:00:00",
          "2021-07-01T00:00:00",
          "2021-08-01T00:00:00",
          "2021-09-01T00:00:00",
          "2021-10-01T00:00:00"
         ],
         "xaxis": "x18",
         "y": [
          0.28873344247226174,
          0.30941650853522984,
          0.29704984740158336,
          0.2857829780367722,
          0.2958588104461387,
          0.3114007338945793,
          0.32443354018870785,
          0.32330280563565483,
          0.3222980997576856,
          0.32239484653033423,
          0.319734058623153,
          0.31613093482282323,
          0.3196992481154933,
          0.322130906951539,
          0.3222469556066224,
          0.32311062431101983,
          0.3250990752929313,
          0.3212742980518187,
          0.3213910761112678,
          0.3276024177256199,
          0.32708072807660027,
          0.3233597209134126
         ],
         "yaxis": "y18"
        },
        {
         "hovertemplate": "variable=pg<br>id=179569820<br>ym=%{x}<br>value=%{y}<extra></extra>",
         "legendgroup": "pg",
         "line": {
          "color": "#00cc96",
          "dash": "solid"
         },
         "marker": {
          "symbol": "circle"
         },
         "mode": "lines",
         "name": "pg",
         "showlegend": false,
         "type": "scattergl",
         "x": [
          "2020-01-01T00:00:00",
          "2020-02-01T00:00:00",
          "2020-03-01T00:00:00",
          "2020-04-01T00:00:00",
          "2020-05-01T00:00:00",
          "2020-06-01T00:00:00",
          "2020-07-01T00:00:00",
          "2020-08-01T00:00:00",
          "2020-09-01T00:00:00",
          "2020-10-01T00:00:00",
          "2020-11-01T00:00:00",
          "2020-12-01T00:00:00",
          "2021-01-01T00:00:00",
          "2021-02-01T00:00:00",
          "2021-03-01T00:00:00",
          "2021-04-01T00:00:00",
          "2021-05-01T00:00:00",
          "2021-06-01T00:00:00",
          "2021-07-01T00:00:00",
          "2021-08-01T00:00:00",
          "2021-09-01T00:00:00",
          "2021-10-01T00:00:00"
         ],
         "xaxis": "x19",
         "y": [
          0.26406305983203077,
          0.35302293258798906,
          0.36747062460893665,
          0.35427381826654086,
          0.3486686184253636,
          0.3548510313171015,
          0.353943217661149,
          0.35510299625052544,
          0.35196737043723647,
          0.34948979591613843,
          0.34802847754178495,
          0.34795055302084643,
          0.343721114481134,
          0.34904067535918587,
          0.35180055401197996,
          0.3472838137424157,
          0.35005973715186434,
          0.3501427212131284,
          0.3530990072396955,
          0.35546475995460336,
          0.36108698349223123,
          0.3601724539692359
         ],
         "yaxis": "y19"
        },
        {
         "hovertemplate": "variable=pg<br>id=855996491<br>ym=%{x}<br>value=%{y}<extra></extra>",
         "legendgroup": "pg",
         "line": {
          "color": "#00cc96",
          "dash": "solid"
         },
         "marker": {
          "symbol": "circle"
         },
         "mode": "lines",
         "name": "pg",
         "showlegend": false,
         "type": "scattergl",
         "x": [
          "2020-01-01T00:00:00",
          "2020-02-01T00:00:00",
          "2020-03-01T00:00:00",
          "2020-04-01T00:00:00",
          "2020-05-01T00:00:00",
          "2020-06-01T00:00:00",
          "2020-07-01T00:00:00",
          "2020-08-01T00:00:00",
          "2020-09-01T00:00:00",
          "2020-10-01T00:00:00",
          "2020-11-01T00:00:00",
          "2020-12-01T00:00:00",
          "2021-01-01T00:00:00",
          "2021-02-01T00:00:00",
          "2021-03-01T00:00:00",
          "2021-04-01T00:00:00",
          "2021-05-01T00:00:00",
          "2021-06-01T00:00:00",
          "2021-07-01T00:00:00",
          "2021-08-01T00:00:00",
          "2021-09-01T00:00:00",
          "2021-10-01T00:00:00"
         ],
         "xaxis": "x20",
         "y": [
          0.3234644851297009,
          0.3256692913365312,
          0.3222336065553135,
          0.3252211110450013,
          0.32863707824205685,
          0.3311306019444243,
          0.33216783216579454,
          0.3291153670751874,
          0.32517574924507014,
          0.32618208747486327,
          0.32420070011517294,
          0.3226323502458205,
          0.31986547085058353,
          0.32014874915328817,
          0.3210874029090211,
          0.32187921962880345,
          0.31916589188329936,
          0.3225167801423414,
          0.3195551825363081,
          0.329859537819218,
          0.32608695634451795,
          0.332361515938087
         ],
         "yaxis": "y20"
        },
        {
         "hovertemplate": "variable=pg<br>id=1606708811<br>ym=%{x}<br>value=%{y}<extra></extra>",
         "legendgroup": "pg",
         "line": {
          "color": "#00cc96",
          "dash": "solid"
         },
         "marker": {
          "symbol": "circle"
         },
         "mode": "lines",
         "name": "pg",
         "showlegend": false,
         "type": "scattergl",
         "x": [
          "2020-01-01T00:00:00",
          "2020-02-01T00:00:00",
          "2020-03-01T00:00:00",
          "2020-04-01T00:00:00",
          "2020-05-01T00:00:00",
          "2020-06-01T00:00:00",
          "2020-07-01T00:00:00",
          "2020-08-01T00:00:00",
          "2020-09-01T00:00:00",
          "2020-10-01T00:00:00",
          "2020-11-01T00:00:00",
          "2020-12-01T00:00:00",
          "2021-01-01T00:00:00",
          "2021-02-01T00:00:00",
          "2021-03-01T00:00:00",
          "2021-04-01T00:00:00",
          "2021-05-01T00:00:00",
          "2021-06-01T00:00:00",
          "2021-07-01T00:00:00",
          "2021-08-01T00:00:00",
          "2021-09-01T00:00:00",
          "2021-10-01T00:00:00"
         ],
         "xaxis": "x13",
         "y": [
          0.3274075818186083,
          0.32688520791929937,
          0.3276218252481757,
          0.3269447576062351,
          0.3261567741129278,
          0.32727891928337743,
          0.32676878190704145,
          0.3280716220953225,
          0.3294318181780746,
          0.3279928295315221,
          0.3248684511516258,
          0.3269421487567279,
          0.32640883977539875,
          0.3239247311788377,
          0.3275284661718293,
          0.3279048279010406,
          0.32798573974679157,
          0.3293353873203198,
          0.32957837141583973,
          0.32871522891732097,
          0.3281910638746635,
          0.32749661093168214
         ],
         "yaxis": "y13"
        },
        {
         "hovertemplate": "variable=pg<br>id=1916407803<br>ym=%{x}<br>value=%{y}<extra></extra>",
         "legendgroup": "pg",
         "line": {
          "color": "#00cc96",
          "dash": "solid"
         },
         "marker": {
          "symbol": "circle"
         },
         "mode": "lines",
         "name": "pg",
         "showlegend": false,
         "type": "scattergl",
         "x": [
          "2020-01-01T00:00:00",
          "2020-02-01T00:00:00",
          "2020-03-01T00:00:00",
          "2020-04-01T00:00:00",
          "2020-05-01T00:00:00",
          "2020-06-01T00:00:00",
          "2020-07-01T00:00:00",
          "2020-08-01T00:00:00",
          "2020-09-01T00:00:00",
          "2020-10-01T00:00:00",
          "2020-11-01T00:00:00",
          "2020-12-01T00:00:00",
          "2021-01-01T00:00:00",
          "2021-02-01T00:00:00",
          "2021-03-01T00:00:00",
          "2021-04-01T00:00:00",
          "2021-05-01T00:00:00",
          "2021-06-01T00:00:00",
          "2021-07-01T00:00:00",
          "2021-08-01T00:00:00",
          "2021-09-01T00:00:00",
          "2021-10-01T00:00:00"
         ],
         "xaxis": "x14",
         "y": [
          0.33263766254081495,
          0.3312803889735611,
          0.3338228095882881,
          0.33268514016638007,
          0.33239014646583903,
          0.3316900323473781,
          0.33242506811456285,
          0.3323386210093869,
          0.33240310077004026,
          0.3289585097340288,
          0.33182977053673607,
          0.33161512026921625,
          0.33122923587489655,
          0.3297464891422625,
          0.33403410417346335,
          0.33125334283595553,
          0.33091887416533694,
          0.330967349415312,
          0.3286071726347343,
          0.33487773486911515,
          0.32933333332601483,
          0.33301549462853364
         ],
         "yaxis": "y14"
        },
        {
         "hovertemplate": "variable=pg<br>id=2071313507<br>ym=%{x}<br>value=%{y}<extra></extra>",
         "legendgroup": "pg",
         "line": {
          "color": "#00cc96",
          "dash": "solid"
         },
         "marker": {
          "symbol": "circle"
         },
         "mode": "lines",
         "name": "pg",
         "showlegend": false,
         "type": "scattergl",
         "x": [
          "2020-01-01T00:00:00",
          "2020-02-01T00:00:00",
          "2020-03-01T00:00:00",
          "2020-04-01T00:00:00",
          "2020-05-01T00:00:00",
          "2020-06-01T00:00:00",
          "2020-07-01T00:00:00",
          "2020-08-01T00:00:00",
          "2020-09-01T00:00:00",
          "2020-10-01T00:00:00",
          "2020-11-01T00:00:00",
          "2020-12-01T00:00:00",
          "2021-01-01T00:00:00",
          "2021-02-01T00:00:00",
          "2021-03-01T00:00:00",
          "2021-04-01T00:00:00",
          "2021-05-01T00:00:00",
          "2021-06-01T00:00:00",
          "2021-07-01T00:00:00",
          "2021-08-01T00:00:00",
          "2021-09-01T00:00:00",
          "2021-10-01T00:00:00"
         ],
         "xaxis": "x15",
         "y": [
          0.333240650630243,
          0.3333812742677018,
          0.33365680090301103,
          0.3312635827357089,
          0.33169693994164867,
          0.3282258064489659,
          0.32445520580851933,
          0.32455868689745615,
          0.32233273055815,
          0.32545995018749313,
          0.32606873428058614,
          0.32688708670986516,
          0.326826196470979,
          0.33193660047065093,
          0.32759476907525575,
          0.32779429770572155,
          0.3288578901453456,
          0.3264192139708295,
          0.32658450703937864,
          0.3260948905079736,
          0.32237813884488203,
          0.3259808352890437
         ],
         "yaxis": "y15"
        },
        {
         "hovertemplate": "variable=pg<br>id=2172970175<br>ym=%{x}<br>value=%{y}<extra></extra>",
         "legendgroup": "pg",
         "line": {
          "color": "#00cc96",
          "dash": "solid"
         },
         "marker": {
          "symbol": "circle"
         },
         "mode": "lines",
         "name": "pg",
         "showlegend": false,
         "type": "scattergl",
         "x": [
          "2020-01-01T00:00:00",
          "2020-02-01T00:00:00",
          "2020-03-01T00:00:00",
          "2020-04-01T00:00:00",
          "2020-05-01T00:00:00",
          "2020-06-01T00:00:00",
          "2020-07-01T00:00:00",
          "2020-08-01T00:00:00",
          "2020-09-01T00:00:00",
          "2020-10-01T00:00:00",
          "2020-11-01T00:00:00",
          "2020-12-01T00:00:00",
          "2021-01-01T00:00:00",
          "2021-02-01T00:00:00",
          "2021-03-01T00:00:00",
          "2021-04-01T00:00:00",
          "2021-05-01T00:00:00",
          "2021-06-01T00:00:00",
          "2021-07-01T00:00:00",
          "2021-08-01T00:00:00",
          "2021-09-01T00:00:00",
          "2021-10-01T00:00:00"
         ],
         "xaxis": "x16",
         "y": [
          0.34384999359820906,
          0.3440655362904422,
          0.35503855532620415,
          0.3389676244939607,
          0.3309482412710248,
          0.31820569387373565,
          0.32029257494672875,
          0.3229308005412299,
          0.3223437658243576,
          0.31737593665964264,
          0.31915154487298214,
          0.3326428448107909,
          0.3339592579928647,
          0.3379255530511463,
          0.3282420239409787,
          0.32556012802713724,
          0.3150596392248953,
          0.3140421476209147,
          0.3101033005779284,
          0.31015696639349394,
          0.3068738388768402,
          0.3106761982871752
         ],
         "yaxis": "y16"
        },
        {
         "hovertemplate": "variable=pg<br>id=2186749200<br>ym=%{x}<br>value=%{y}<extra></extra>",
         "legendgroup": "pg",
         "line": {
          "color": "#00cc96",
          "dash": "solid"
         },
         "marker": {
          "symbol": "circle"
         },
         "mode": "lines",
         "name": "pg",
         "showlegend": false,
         "type": "scattergl",
         "x": [
          "2020-01-01T00:00:00",
          "2020-02-01T00:00:00",
          "2020-03-01T00:00:00",
          "2020-04-01T00:00:00",
          "2020-05-01T00:00:00",
          "2020-06-01T00:00:00",
          "2020-07-01T00:00:00",
          "2020-08-01T00:00:00",
          "2020-09-01T00:00:00",
          "2020-10-01T00:00:00",
          "2020-11-01T00:00:00",
          "2020-12-01T00:00:00",
          "2021-01-01T00:00:00",
          "2021-02-01T00:00:00",
          "2021-03-01T00:00:00",
          "2021-04-01T00:00:00",
          "2021-05-01T00:00:00",
          "2021-06-01T00:00:00",
          "2021-07-01T00:00:00",
          "2021-08-01T00:00:00",
          "2021-09-01T00:00:00",
          "2021-10-01T00:00:00"
         ],
         "xaxis": "x9",
         "y": [
          0.31879316611561626,
          0.32332089551635596,
          0.32393790849011567,
          0.31960096064438204,
          0.3256522567068053,
          0.3248214285656282,
          0.32470755050824696,
          0.32178830181442325,
          0.31947743467391454,
          0.32056835903378467,
          0.319007039638403,
          0.3183348095603484,
          0.32236272301537566,
          0.3229001584722088,
          0.3187954309394463,
          0.3258862629186506,
          0.3241923365849713,
          0.327717768305146,
          0.33044747081390613,
          0.3313350944896227,
          0.33143879591273084,
          0.33153885220587564
         ],
         "yaxis": "y9"
        },
        {
         "hovertemplate": "variable=pg<br>id=2212416005<br>ym=%{x}<br>value=%{y}<extra></extra>",
         "legendgroup": "pg",
         "line": {
          "color": "#00cc96",
          "dash": "solid"
         },
         "marker": {
          "symbol": "circle"
         },
         "mode": "lines",
         "name": "pg",
         "showlegend": false,
         "type": "scattergl",
         "x": [
          "2020-01-01T00:00:00",
          "2020-02-01T00:00:00",
          "2020-03-01T00:00:00",
          "2020-04-01T00:00:00",
          "2020-05-01T00:00:00",
          "2020-06-01T00:00:00",
          "2020-07-01T00:00:00",
          "2020-08-01T00:00:00",
          "2020-09-01T00:00:00",
          "2020-10-01T00:00:00",
          "2020-11-01T00:00:00",
          "2020-12-01T00:00:00",
          "2021-01-01T00:00:00",
          "2021-02-01T00:00:00",
          "2021-03-01T00:00:00",
          "2021-04-01T00:00:00",
          "2021-05-01T00:00:00",
          "2021-06-01T00:00:00",
          "2021-07-01T00:00:00",
          "2021-08-01T00:00:00",
          "2021-09-01T00:00:00",
          "2021-10-01T00:00:00"
         ],
         "xaxis": "x10",
         "y": [
          0.30681743040199155,
          0.30846632057739876,
          0.31720909495974725,
          0.313231447058287,
          0.3118938961757566,
          0.3125269313615726,
          0.3104627173574391,
          0.30915128320402324,
          0.3094365551974952,
          0.30746482077180637,
          0.30787965615825297,
          0.3055360896965274,
          0.30696584534327226,
          0.3100965221364325,
          0.3068627450958903,
          0.30713162783830833,
          0.3059825647148068,
          0.3071004483199618,
          0.3061446749953792,
          0.30753068671730877,
          0.30615593527041896,
          0.3057743596085978
         ],
         "yaxis": "y10"
        },
        {
         "hovertemplate": "variable=pg<br>id=2251440776<br>ym=%{x}<br>value=%{y}<extra></extra>",
         "legendgroup": "pg",
         "line": {
          "color": "#00cc96",
          "dash": "solid"
         },
         "marker": {
          "symbol": "circle"
         },
         "mode": "lines",
         "name": "pg",
         "showlegend": false,
         "type": "scattergl",
         "x": [
          "2020-01-01T00:00:00",
          "2020-02-01T00:00:00",
          "2020-03-01T00:00:00",
          "2020-04-01T00:00:00",
          "2020-05-01T00:00:00",
          "2020-06-01T00:00:00",
          "2020-07-01T00:00:00",
          "2020-08-01T00:00:00",
          "2020-09-01T00:00:00",
          "2020-10-01T00:00:00",
          "2020-11-01T00:00:00",
          "2020-12-01T00:00:00",
          "2021-01-01T00:00:00",
          "2021-02-01T00:00:00",
          "2021-03-01T00:00:00",
          "2021-04-01T00:00:00",
          "2021-05-01T00:00:00",
          "2021-06-01T00:00:00",
          "2021-07-01T00:00:00",
          "2021-08-01T00:00:00",
          "2021-09-01T00:00:00",
          "2021-10-01T00:00:00"
         ],
         "xaxis": "x11",
         "y": [
          0.3462837837252899,
          0.4430199429568348,
          0.329859537819218,
          0.3400556328186362,
          0.3423871038937574,
          0.32892124420641194,
          0.33666751076008694,
          0.3480919107743342,
          0.335439610034885,
          0.28822937625029604,
          0.32111337405563095,
          0.3370680628236956,
          0.33832151920593045,
          0.3332732353706547,
          0.3241476770831276,
          0.3422818791919597,
          0.33350369108271716,
          0.331095258076068,
          0.3316784418539133,
          0.32603988603802825,
          0.32841565105645565,
          0.3292249730875714
         ],
         "yaxis": "y11"
        },
        {
         "hovertemplate": "variable=pg<br>id=2256064355<br>ym=%{x}<br>value=%{y}<extra></extra>",
         "legendgroup": "pg",
         "line": {
          "color": "#00cc96",
          "dash": "solid"
         },
         "marker": {
          "symbol": "circle"
         },
         "mode": "lines",
         "name": "pg",
         "showlegend": false,
         "type": "scattergl",
         "x": [
          "2020-01-01T00:00:00",
          "2020-02-01T00:00:00",
          "2020-03-01T00:00:00",
          "2020-04-01T00:00:00",
          "2020-05-01T00:00:00",
          "2020-06-01T00:00:00",
          "2020-07-01T00:00:00",
          "2020-08-01T00:00:00",
          "2020-09-01T00:00:00",
          "2020-10-01T00:00:00",
          "2020-11-01T00:00:00",
          "2020-12-01T00:00:00",
          "2021-01-01T00:00:00",
          "2021-02-01T00:00:00",
          "2021-03-01T00:00:00",
          "2021-04-01T00:00:00",
          "2021-05-01T00:00:00",
          "2021-06-01T00:00:00",
          "2021-07-01T00:00:00",
          "2021-08-01T00:00:00",
          "2021-09-01T00:00:00",
          "2021-10-01T00:00:00"
         ],
         "xaxis": "x12",
         "y": [
          0.31179280864712267,
          0.3115449235913949,
          0.31641817854934057,
          0.31388211552750456,
          0.31163314840229167,
          0.3114451255326942,
          0.31251090559839023,
          0.31172496365080193,
          0.31109014494972903,
          0.3092690859281527,
          0.30789519957527783,
          0.30750844803175215,
          0.31309930115136436,
          0.31118199538976443,
          0.3123849372358796,
          0.3112253641789955,
          0.3116438356138972,
          0.3118180292067163,
          0.31192363694942626,
          0.3134767836895925,
          0.3131335886437401,
          0.312763510921328
         ],
         "yaxis": "y12"
        },
        {
         "hovertemplate": "variable=pg<br>id=2347718608<br>ym=%{x}<br>value=%{y}<extra></extra>",
         "legendgroup": "pg",
         "line": {
          "color": "#00cc96",
          "dash": "solid"
         },
         "marker": {
          "symbol": "circle"
         },
         "mode": "lines",
         "name": "pg",
         "showlegend": false,
         "type": "scattergl",
         "x": [
          "2020-01-01T00:00:00",
          "2020-02-01T00:00:00",
          "2020-03-01T00:00:00",
          "2020-04-01T00:00:00",
          "2020-05-01T00:00:00",
          "2020-06-01T00:00:00",
          "2020-07-01T00:00:00",
          "2020-08-01T00:00:00",
          "2020-09-01T00:00:00",
          "2020-10-01T00:00:00",
          "2020-11-01T00:00:00",
          "2020-12-01T00:00:00",
          "2021-01-01T00:00:00",
          "2021-02-01T00:00:00",
          "2021-03-01T00:00:00",
          "2021-04-01T00:00:00",
          "2021-05-01T00:00:00",
          "2021-06-01T00:00:00",
          "2021-07-01T00:00:00",
          "2021-08-01T00:00:00",
          "2021-09-01T00:00:00",
          "2021-10-01T00:00:00"
         ],
         "xaxis": "x5",
         "y": [
          0.31590230456844115,
          0.3205033308636528,
          0.3352049910843564,
          0.32742133224088743,
          0.32520191198017795,
          0.3207753634491107,
          0.3211304850812236,
          0.3144188799266522,
          0.30518804816184636,
          0.30178182091458616,
          0.30402196497251394,
          0.3078437807659478,
          0.3063448552496734,
          0.3247797186557058,
          0.3114106753791434,
          0.3155708855390992,
          0.3081158106074997,
          0.30528983211716637,
          0.30217444120321807,
          0.30276068011272617,
          0.3009080731415542,
          0.30439800753065
         ],
         "yaxis": "y5"
        },
        {
         "hovertemplate": "variable=pg<br>id=2347718610<br>ym=%{x}<br>value=%{y}<extra></extra>",
         "legendgroup": "pg",
         "line": {
          "color": "#00cc96",
          "dash": "solid"
         },
         "marker": {
          "symbol": "circle"
         },
         "mode": "lines",
         "name": "pg",
         "showlegend": false,
         "type": "scattergl",
         "x": [
          "2020-01-01T00:00:00",
          "2020-02-01T00:00:00",
          "2020-03-01T00:00:00",
          "2020-04-01T00:00:00",
          "2020-05-01T00:00:00",
          "2020-06-01T00:00:00",
          "2020-07-01T00:00:00",
          "2020-08-01T00:00:00",
          "2020-09-01T00:00:00",
          "2020-10-01T00:00:00",
          "2020-11-01T00:00:00",
          "2020-12-01T00:00:00",
          "2021-01-01T00:00:00",
          "2021-02-01T00:00:00",
          "2021-03-01T00:00:00",
          "2021-04-01T00:00:00",
          "2021-05-01T00:00:00",
          "2021-06-01T00:00:00",
          "2021-07-01T00:00:00",
          "2021-08-01T00:00:00",
          "2021-09-01T00:00:00",
          "2021-10-01T00:00:00"
         ],
         "xaxis": "x6",
         "y": [
          0.32213951877858626,
          0.32746416563150355,
          0.33805229936575243,
          0.34332735864149155,
          0.3312360294698962,
          0.3274707483970309,
          0.32536956846106185,
          0.3279596619534979,
          0.32578421718718675,
          0.32493027635798133,
          0.31994799941990504,
          0.3245526127392659,
          0.3248877949882374,
          0.33202439635448217,
          0.32953602413934713,
          0.3268590455024032,
          0.31983559141178386,
          0.31444670527223,
          0.3147867010754912,
          0.3200089995476225,
          0.32101211797636603,
          0.31722553313479407
         ],
         "yaxis": "y6"
        },
        {
         "hovertemplate": "variable=pg<br>id=2427050072<br>ym=%{x}<br>value=%{y}<extra></extra>",
         "legendgroup": "pg",
         "line": {
          "color": "#00cc96",
          "dash": "solid"
         },
         "marker": {
          "symbol": "circle"
         },
         "mode": "lines",
         "name": "pg",
         "showlegend": false,
         "type": "scattergl",
         "x": [
          "2020-01-01T00:00:00",
          "2020-02-01T00:00:00",
          "2020-03-01T00:00:00",
          "2020-04-01T00:00:00",
          "2020-05-01T00:00:00",
          "2020-06-01T00:00:00",
          "2020-07-01T00:00:00",
          "2020-08-01T00:00:00",
          "2020-09-01T00:00:00",
          "2020-10-01T00:00:00",
          "2020-11-01T00:00:00",
          "2020-12-01T00:00:00",
          "2021-01-01T00:00:00",
          "2021-02-01T00:00:00",
          "2021-03-01T00:00:00",
          "2021-04-01T00:00:00",
          "2021-05-01T00:00:00",
          "2021-06-01T00:00:00",
          "2021-07-01T00:00:00",
          "2021-08-01T00:00:00",
          "2021-09-01T00:00:00",
          "2021-10-01T00:00:00"
         ],
         "xaxis": "x7",
         "y": [
          0.3342559080228416,
          0.3373236425786947,
          0.33446289393048156,
          0.3347789295500869,
          0.33457656866679925,
          0.3344318060982839,
          0.33428477329746087,
          0.33403962283786376,
          0.33138147906819143,
          0.3361154488162397,
          0.33402376539481055,
          0.3343898573657222,
          0.33411091082245664,
          0.33430844839299895,
          0.33421863380076255,
          0.3381688466071561,
          0.3246056091112554,
          0.3344943942491075,
          0.3291757747160965,
          0.3343164103609193,
          0.33406065895337045,
          0.3340367166033547
         ],
         "yaxis": "y7"
        },
        {
         "hovertemplate": "variable=pg<br>id=2445049876<br>ym=%{x}<br>value=%{y}<extra></extra>",
         "legendgroup": "pg",
         "line": {
          "color": "#00cc96",
          "dash": "solid"
         },
         "marker": {
          "symbol": "circle"
         },
         "mode": "lines",
         "name": "pg",
         "showlegend": false,
         "type": "scattergl",
         "x": [
          "2020-01-01T00:00:00",
          "2020-02-01T00:00:00",
          "2020-03-01T00:00:00",
          "2020-04-01T00:00:00",
          "2020-05-01T00:00:00",
          "2020-06-01T00:00:00",
          "2020-07-01T00:00:00",
          "2020-08-01T00:00:00",
          "2020-09-01T00:00:00",
          "2020-10-01T00:00:00",
          "2020-11-01T00:00:00",
          "2020-12-01T00:00:00",
          "2021-01-01T00:00:00",
          "2021-02-01T00:00:00",
          "2021-03-01T00:00:00",
          "2021-04-01T00:00:00",
          "2021-05-01T00:00:00",
          "2021-06-01T00:00:00",
          "2021-07-01T00:00:00",
          "2021-08-01T00:00:00",
          "2021-09-01T00:00:00",
          "2021-10-01T00:00:00"
         ],
         "xaxis": "x8",
         "y": [
          0.31151107594628646,
          0.31329052344509345,
          0.31885280472038324,
          0.31374876359729226,
          0.31268973891608287,
          0.3133033916655312,
          0.3136200716822459,
          0.30762589927836237,
          0.31427797344680114,
          0.31400240384497446,
          0.31349911189774865,
          0.3126629422689696,
          0.3105305145561375,
          0.31207598371424605,
          0.3116936309613793,
          0.3117485762464485,
          0.31514117869703295,
          0.3148610417680574,
          0.31472244569336505,
          0.3136777127979721,
          0.31247759053144064,
          0.31202137132402474
         ],
         "yaxis": "y8"
        },
        {
         "hovertemplate": "variable=pg<br>id=2471562086<br>ym=%{x}<br>value=%{y}<extra></extra>",
         "legendgroup": "pg",
         "line": {
          "color": "#00cc96",
          "dash": "solid"
         },
         "marker": {
          "symbol": "circle"
         },
         "mode": "lines",
         "name": "pg",
         "showlegend": false,
         "type": "scattergl",
         "x": [
          "2020-01-01T00:00:00",
          "2020-02-01T00:00:00",
          "2020-03-01T00:00:00",
          "2020-04-01T00:00:00",
          "2020-05-01T00:00:00",
          "2020-06-01T00:00:00",
          "2020-07-01T00:00:00",
          "2020-08-01T00:00:00",
          "2020-09-01T00:00:00",
          "2020-10-01T00:00:00",
          "2020-11-01T00:00:00",
          "2020-12-01T00:00:00",
          "2021-01-01T00:00:00",
          "2021-02-01T00:00:00",
          "2021-03-01T00:00:00",
          "2021-04-01T00:00:00",
          "2021-05-01T00:00:00",
          "2021-06-01T00:00:00",
          "2021-07-01T00:00:00",
          "2021-08-01T00:00:00",
          "2021-09-01T00:00:00",
          "2021-10-01T00:00:00"
         ],
         "xaxis": "x",
         "y": [
          0.3266409266388247,
          0.3335778592842042,
          0.34362578080392087,
          0.3160666176811409,
          0.31314285714097356,
          0.30051667449365654,
          0.30264275812591046,
          0.30350546550959856,
          0.29972860791706685,
          0.3048072988124869,
          0.30546781396195694,
          0.3070057083533627,
          0.31262135922170353,
          0.3202127009331935,
          0.30636975660120985,
          0.30990447974505847,
          0.3045020334800695,
          0.30917431192542366,
          0.30502930931821837,
          0.30398465799998303,
          0.2958203646051764,
          0.3037137681145665
         ],
         "yaxis": "y"
        },
        {
         "hovertemplate": "variable=pg<br>id=2479963778<br>ym=%{x}<br>value=%{y}<extra></extra>",
         "legendgroup": "pg",
         "line": {
          "color": "#00cc96",
          "dash": "solid"
         },
         "marker": {
          "symbol": "circle"
         },
         "mode": "lines",
         "name": "pg",
         "showlegend": false,
         "type": "scattergl",
         "x": [
          "2020-01-01T00:00:00",
          "2020-02-01T00:00:00",
          "2020-03-01T00:00:00",
          "2020-04-01T00:00:00",
          "2020-05-01T00:00:00",
          "2020-06-01T00:00:00",
          "2020-07-01T00:00:00",
          "2020-08-01T00:00:00",
          "2020-09-01T00:00:00",
          "2020-10-01T00:00:00",
          "2020-11-01T00:00:00",
          "2020-12-01T00:00:00",
          "2021-01-01T00:00:00",
          "2021-02-01T00:00:00",
          "2021-03-01T00:00:00",
          "2021-04-01T00:00:00",
          "2021-05-01T00:00:00",
          "2021-06-01T00:00:00",
          "2021-07-01T00:00:00",
          "2021-08-01T00:00:00",
          "2021-09-01T00:00:00",
          "2021-10-01T00:00:00"
         ],
         "xaxis": "x2",
         "y": [
          0.3092795945419418,
          0.31035986913511054,
          0.3136134006871362,
          0.30507201001496465,
          0.3033896120595001,
          0.306181733670623,
          0.30545527476629103,
          0.31188799175131515,
          0.31001484903225524,
          0.30686390051486623,
          0.30185693183897594,
          0.30308101190763775,
          0.29785770439958864,
          0.30501846621437084,
          0.30067252974339703,
          0.29813026504727624,
          0.3052298211049796,
          0.30339138404854815,
          0.307274075291974,
          0.307225303550388,
          0.30567438856803875,
          0.29859517032137917
         ],
         "yaxis": "y2"
        },
        {
         "hovertemplate": "variable=pg<br>id=2496032641<br>ym=%{x}<br>value=%{y}<extra></extra>",
         "legendgroup": "pg",
         "line": {
          "color": "#00cc96",
          "dash": "solid"
         },
         "marker": {
          "symbol": "circle"
         },
         "mode": "lines",
         "name": "pg",
         "showlegend": false,
         "type": "scattergl",
         "x": [
          "2020-01-01T00:00:00",
          "2020-02-01T00:00:00",
          "2020-03-01T00:00:00",
          "2020-04-01T00:00:00",
          "2020-05-01T00:00:00",
          "2020-06-01T00:00:00",
          "2020-07-01T00:00:00",
          "2020-08-01T00:00:00",
          "2020-09-01T00:00:00",
          "2020-10-01T00:00:00",
          "2020-11-01T00:00:00",
          "2020-12-01T00:00:00",
          "2021-01-01T00:00:00",
          "2021-02-01T00:00:00",
          "2021-03-01T00:00:00",
          "2021-04-01T00:00:00",
          "2021-05-01T00:00:00",
          "2021-06-01T00:00:00",
          "2021-07-01T00:00:00",
          "2021-08-01T00:00:00",
          "2021-09-01T00:00:00",
          "2021-10-01T00:00:00"
         ],
         "xaxis": "x3",
         "y": [
          0.3241100050588484,
          0.32748735244243266,
          0.33471074379850946,
          0.32565905096374637,
          0.32301873817841653,
          0.3181021897787,
          0.318539409230232,
          0.3188629692544503,
          0.3178011268439333,
          0.307453416147778,
          0.3109955709579145,
          0.3163528977453271,
          0.3150353554120298,
          0.3243592504811075,
          0.31827631827331054,
          0.3153877887756251,
          0.30149744338658235,
          0.28978708047374785,
          0.30385303202484265,
          0.30359832635729206,
          0.3062761506244113,
          0.3069505825601953
         ],
         "yaxis": "y3"
        },
        {
         "hovertemplate": "variable=pg<br>id=2523401557<br>ym=%{x}<br>value=%{y}<extra></extra>",
         "legendgroup": "pg",
         "line": {
          "color": "#00cc96",
          "dash": "solid"
         },
         "marker": {
          "symbol": "circle"
         },
         "mode": "lines",
         "name": "pg",
         "showlegend": false,
         "type": "scattergl",
         "x": [
          "2020-01-01T00:00:00",
          "2020-02-01T00:00:00",
          "2020-03-01T00:00:00",
          "2020-04-01T00:00:00",
          "2020-05-01T00:00:00",
          "2020-06-01T00:00:00",
          "2020-07-01T00:00:00",
          "2020-08-01T00:00:00",
          "2020-09-01T00:00:00",
          "2020-10-01T00:00:00",
          "2020-11-01T00:00:00",
          "2020-12-01T00:00:00",
          "2021-01-01T00:00:00",
          "2021-02-01T00:00:00",
          "2021-03-01T00:00:00",
          "2021-04-01T00:00:00",
          "2021-05-01T00:00:00",
          "2021-06-01T00:00:00",
          "2021-07-01T00:00:00",
          "2021-08-01T00:00:00",
          "2021-09-01T00:00:00",
          "2021-10-01T00:00:00"
         ],
         "xaxis": "x4",
         "y": [
          0.3185333000708589,
          0.30090972707836583,
          0.3310943184952268,
          0.3095431197579137,
          0.31647281579231173,
          0.3015444961963527,
          0.3087988044058584,
          0.3080912863047711,
          0.3080767692892035,
          0.30827462937489075,
          0.3084775854382104,
          0.3167701863320114,
          0.31977201257547394,
          0.31470230862315063,
          0.3090597558330578,
          0.3085199824296385,
          0.3073100020676402,
          0.30981465880044423,
          0.3057715923014145,
          0.30890595806197935,
          0.302034107249825,
          0.30429319371409114
         ],
         "yaxis": "y4"
        }
       ],
       "layout": {
        "annotations": [
         {
          "font": {},
          "showarrow": false,
          "text": "id=2471562086",
          "x": 0.1175,
          "xanchor": "center",
          "xref": "paper",
          "y": 0.144,
          "yanchor": "bottom",
          "yref": "paper"
         },
         {
          "font": {},
          "showarrow": false,
          "text": "id=2479963778",
          "x": 0.3725,
          "xanchor": "center",
          "xref": "paper",
          "y": 0.144,
          "yanchor": "bottom",
          "yref": "paper"
         },
         {
          "font": {},
          "showarrow": false,
          "text": "id=2496032641",
          "x": 0.6275,
          "xanchor": "center",
          "xref": "paper",
          "y": 0.144,
          "yanchor": "bottom",
          "yref": "paper"
         },
         {
          "font": {},
          "showarrow": false,
          "text": "id=2523401557",
          "x": 0.8824999999999998,
          "xanchor": "center",
          "xref": "paper",
          "y": 0.144,
          "yanchor": "bottom",
          "yref": "paper"
         },
         {
          "font": {},
          "showarrow": false,
          "text": "id=2347718608",
          "x": 0.1175,
          "xanchor": "center",
          "xref": "paper",
          "y": 0.358,
          "yanchor": "bottom",
          "yref": "paper"
         },
         {
          "font": {},
          "showarrow": false,
          "text": "id=2347718610",
          "x": 0.3725,
          "xanchor": "center",
          "xref": "paper",
          "y": 0.358,
          "yanchor": "bottom",
          "yref": "paper"
         },
         {
          "font": {},
          "showarrow": false,
          "text": "id=2427050072",
          "x": 0.6275,
          "xanchor": "center",
          "xref": "paper",
          "y": 0.358,
          "yanchor": "bottom",
          "yref": "paper"
         },
         {
          "font": {},
          "showarrow": false,
          "text": "id=2445049876",
          "x": 0.8824999999999998,
          "xanchor": "center",
          "xref": "paper",
          "y": 0.358,
          "yanchor": "bottom",
          "yref": "paper"
         },
         {
          "font": {},
          "showarrow": false,
          "text": "id=2186749200",
          "x": 0.1175,
          "xanchor": "center",
          "xref": "paper",
          "y": 0.572,
          "yanchor": "bottom",
          "yref": "paper"
         },
         {
          "font": {},
          "showarrow": false,
          "text": "id=2212416005",
          "x": 0.3725,
          "xanchor": "center",
          "xref": "paper",
          "y": 0.572,
          "yanchor": "bottom",
          "yref": "paper"
         },
         {
          "font": {},
          "showarrow": false,
          "text": "id=2251440776",
          "x": 0.6275,
          "xanchor": "center",
          "xref": "paper",
          "y": 0.572,
          "yanchor": "bottom",
          "yref": "paper"
         },
         {
          "font": {},
          "showarrow": false,
          "text": "id=2256064355",
          "x": 0.8824999999999998,
          "xanchor": "center",
          "xref": "paper",
          "y": 0.572,
          "yanchor": "bottom",
          "yref": "paper"
         },
         {
          "font": {},
          "showarrow": false,
          "text": "id=1606708811",
          "x": 0.1175,
          "xanchor": "center",
          "xref": "paper",
          "y": 0.7859999999999999,
          "yanchor": "bottom",
          "yref": "paper"
         },
         {
          "font": {},
          "showarrow": false,
          "text": "id=1916407803",
          "x": 0.3725,
          "xanchor": "center",
          "xref": "paper",
          "y": 0.7859999999999999,
          "yanchor": "bottom",
          "yref": "paper"
         },
         {
          "font": {},
          "showarrow": false,
          "text": "id=2071313507",
          "x": 0.6275,
          "xanchor": "center",
          "xref": "paper",
          "y": 0.7859999999999999,
          "yanchor": "bottom",
          "yref": "paper"
         },
         {
          "font": {},
          "showarrow": false,
          "text": "id=2172970175",
          "x": 0.8824999999999998,
          "xanchor": "center",
          "xref": "paper",
          "y": 0.7859999999999999,
          "yanchor": "bottom",
          "yref": "paper"
         },
         {
          "font": {},
          "showarrow": false,
          "text": "id=179433516",
          "x": 0.1175,
          "xanchor": "center",
          "xref": "paper",
          "y": 1,
          "yanchor": "bottom",
          "yref": "paper"
         },
         {
          "font": {},
          "showarrow": false,
          "text": "id=179458306",
          "x": 0.3725,
          "xanchor": "center",
          "xref": "paper",
          "y": 1,
          "yanchor": "bottom",
          "yref": "paper"
         },
         {
          "font": {},
          "showarrow": false,
          "text": "id=179569820",
          "x": 0.6275,
          "xanchor": "center",
          "xref": "paper",
          "y": 1,
          "yanchor": "bottom",
          "yref": "paper"
         },
         {
          "font": {},
          "showarrow": false,
          "text": "id=855996491",
          "x": 0.8824999999999998,
          "xanchor": "center",
          "xref": "paper",
          "y": 1,
          "yanchor": "bottom",
          "yref": "paper"
         }
        ],
        "height": 1725,
        "legend": {
         "title": {
          "text": "variable"
         },
         "tracegroupgap": 0
        },
        "margin": {
         "t": 60
        },
        "template": {
         "data": {
          "bar": [
           {
            "error_x": {
             "color": "#2a3f5f"
            },
            "error_y": {
             "color": "#2a3f5f"
            },
            "marker": {
             "line": {
              "color": "#E5ECF6",
              "width": 0.5
             },
             "pattern": {
              "fillmode": "overlay",
              "size": 10,
              "solidity": 0.2
             }
            },
            "type": "bar"
           }
          ],
          "barpolar": [
           {
            "marker": {
             "line": {
              "color": "#E5ECF6",
              "width": 0.5
             },
             "pattern": {
              "fillmode": "overlay",
              "size": 10,
              "solidity": 0.2
             }
            },
            "type": "barpolar"
           }
          ],
          "carpet": [
           {
            "aaxis": {
             "endlinecolor": "#2a3f5f",
             "gridcolor": "white",
             "linecolor": "white",
             "minorgridcolor": "white",
             "startlinecolor": "#2a3f5f"
            },
            "baxis": {
             "endlinecolor": "#2a3f5f",
             "gridcolor": "white",
             "linecolor": "white",
             "minorgridcolor": "white",
             "startlinecolor": "#2a3f5f"
            },
            "type": "carpet"
           }
          ],
          "choropleth": [
           {
            "colorbar": {
             "outlinewidth": 0,
             "ticks": ""
            },
            "type": "choropleth"
           }
          ],
          "contour": [
           {
            "colorbar": {
             "outlinewidth": 0,
             "ticks": ""
            },
            "colorscale": [
             [
              0,
              "#0d0887"
             ],
             [
              0.1111111111111111,
              "#46039f"
             ],
             [
              0.2222222222222222,
              "#7201a8"
             ],
             [
              0.3333333333333333,
              "#9c179e"
             ],
             [
              0.4444444444444444,
              "#bd3786"
             ],
             [
              0.5555555555555556,
              "#d8576b"
             ],
             [
              0.6666666666666666,
              "#ed7953"
             ],
             [
              0.7777777777777778,
              "#fb9f3a"
             ],
             [
              0.8888888888888888,
              "#fdca26"
             ],
             [
              1,
              "#f0f921"
             ]
            ],
            "type": "contour"
           }
          ],
          "contourcarpet": [
           {
            "colorbar": {
             "outlinewidth": 0,
             "ticks": ""
            },
            "type": "contourcarpet"
           }
          ],
          "heatmap": [
           {
            "colorbar": {
             "outlinewidth": 0,
             "ticks": ""
            },
            "colorscale": [
             [
              0,
              "#0d0887"
             ],
             [
              0.1111111111111111,
              "#46039f"
             ],
             [
              0.2222222222222222,
              "#7201a8"
             ],
             [
              0.3333333333333333,
              "#9c179e"
             ],
             [
              0.4444444444444444,
              "#bd3786"
             ],
             [
              0.5555555555555556,
              "#d8576b"
             ],
             [
              0.6666666666666666,
              "#ed7953"
             ],
             [
              0.7777777777777778,
              "#fb9f3a"
             ],
             [
              0.8888888888888888,
              "#fdca26"
             ],
             [
              1,
              "#f0f921"
             ]
            ],
            "type": "heatmap"
           }
          ],
          "heatmapgl": [
           {
            "colorbar": {
             "outlinewidth": 0,
             "ticks": ""
            },
            "colorscale": [
             [
              0,
              "#0d0887"
             ],
             [
              0.1111111111111111,
              "#46039f"
             ],
             [
              0.2222222222222222,
              "#7201a8"
             ],
             [
              0.3333333333333333,
              "#9c179e"
             ],
             [
              0.4444444444444444,
              "#bd3786"
             ],
             [
              0.5555555555555556,
              "#d8576b"
             ],
             [
              0.6666666666666666,
              "#ed7953"
             ],
             [
              0.7777777777777778,
              "#fb9f3a"
             ],
             [
              0.8888888888888888,
              "#fdca26"
             ],
             [
              1,
              "#f0f921"
             ]
            ],
            "type": "heatmapgl"
           }
          ],
          "histogram": [
           {
            "marker": {
             "pattern": {
              "fillmode": "overlay",
              "size": 10,
              "solidity": 0.2
             }
            },
            "type": "histogram"
           }
          ],
          "histogram2d": [
           {
            "colorbar": {
             "outlinewidth": 0,
             "ticks": ""
            },
            "colorscale": [
             [
              0,
              "#0d0887"
             ],
             [
              0.1111111111111111,
              "#46039f"
             ],
             [
              0.2222222222222222,
              "#7201a8"
             ],
             [
              0.3333333333333333,
              "#9c179e"
             ],
             [
              0.4444444444444444,
              "#bd3786"
             ],
             [
              0.5555555555555556,
              "#d8576b"
             ],
             [
              0.6666666666666666,
              "#ed7953"
             ],
             [
              0.7777777777777778,
              "#fb9f3a"
             ],
             [
              0.8888888888888888,
              "#fdca26"
             ],
             [
              1,
              "#f0f921"
             ]
            ],
            "type": "histogram2d"
           }
          ],
          "histogram2dcontour": [
           {
            "colorbar": {
             "outlinewidth": 0,
             "ticks": ""
            },
            "colorscale": [
             [
              0,
              "#0d0887"
             ],
             [
              0.1111111111111111,
              "#46039f"
             ],
             [
              0.2222222222222222,
              "#7201a8"
             ],
             [
              0.3333333333333333,
              "#9c179e"
             ],
             [
              0.4444444444444444,
              "#bd3786"
             ],
             [
              0.5555555555555556,
              "#d8576b"
             ],
             [
              0.6666666666666666,
              "#ed7953"
             ],
             [
              0.7777777777777778,
              "#fb9f3a"
             ],
             [
              0.8888888888888888,
              "#fdca26"
             ],
             [
              1,
              "#f0f921"
             ]
            ],
            "type": "histogram2dcontour"
           }
          ],
          "mesh3d": [
           {
            "colorbar": {
             "outlinewidth": 0,
             "ticks": ""
            },
            "type": "mesh3d"
           }
          ],
          "parcoords": [
           {
            "line": {
             "colorbar": {
              "outlinewidth": 0,
              "ticks": ""
             }
            },
            "type": "parcoords"
           }
          ],
          "pie": [
           {
            "automargin": true,
            "type": "pie"
           }
          ],
          "scatter": [
           {
            "marker": {
             "colorbar": {
              "outlinewidth": 0,
              "ticks": ""
             }
            },
            "type": "scatter"
           }
          ],
          "scatter3d": [
           {
            "line": {
             "colorbar": {
              "outlinewidth": 0,
              "ticks": ""
             }
            },
            "marker": {
             "colorbar": {
              "outlinewidth": 0,
              "ticks": ""
             }
            },
            "type": "scatter3d"
           }
          ],
          "scattercarpet": [
           {
            "marker": {
             "colorbar": {
              "outlinewidth": 0,
              "ticks": ""
             }
            },
            "type": "scattercarpet"
           }
          ],
          "scattergeo": [
           {
            "marker": {
             "colorbar": {
              "outlinewidth": 0,
              "ticks": ""
             }
            },
            "type": "scattergeo"
           }
          ],
          "scattergl": [
           {
            "marker": {
             "colorbar": {
              "outlinewidth": 0,
              "ticks": ""
             }
            },
            "type": "scattergl"
           }
          ],
          "scattermapbox": [
           {
            "marker": {
             "colorbar": {
              "outlinewidth": 0,
              "ticks": ""
             }
            },
            "type": "scattermapbox"
           }
          ],
          "scatterpolar": [
           {
            "marker": {
             "colorbar": {
              "outlinewidth": 0,
              "ticks": ""
             }
            },
            "type": "scatterpolar"
           }
          ],
          "scatterpolargl": [
           {
            "marker": {
             "colorbar": {
              "outlinewidth": 0,
              "ticks": ""
             }
            },
            "type": "scatterpolargl"
           }
          ],
          "scatterternary": [
           {
            "marker": {
             "colorbar": {
              "outlinewidth": 0,
              "ticks": ""
             }
            },
            "type": "scatterternary"
           }
          ],
          "surface": [
           {
            "colorbar": {
             "outlinewidth": 0,
             "ticks": ""
            },
            "colorscale": [
             [
              0,
              "#0d0887"
             ],
             [
              0.1111111111111111,
              "#46039f"
             ],
             [
              0.2222222222222222,
              "#7201a8"
             ],
             [
              0.3333333333333333,
              "#9c179e"
             ],
             [
              0.4444444444444444,
              "#bd3786"
             ],
             [
              0.5555555555555556,
              "#d8576b"
             ],
             [
              0.6666666666666666,
              "#ed7953"
             ],
             [
              0.7777777777777778,
              "#fb9f3a"
             ],
             [
              0.8888888888888888,
              "#fdca26"
             ],
             [
              1,
              "#f0f921"
             ]
            ],
            "type": "surface"
           }
          ],
          "table": [
           {
            "cells": {
             "fill": {
              "color": "#EBF0F8"
             },
             "line": {
              "color": "white"
             }
            },
            "header": {
             "fill": {
              "color": "#C8D4E3"
             },
             "line": {
              "color": "white"
             }
            },
            "type": "table"
           }
          ]
         },
         "layout": {
          "annotationdefaults": {
           "arrowcolor": "#2a3f5f",
           "arrowhead": 0,
           "arrowwidth": 1
          },
          "autotypenumbers": "strict",
          "coloraxis": {
           "colorbar": {
            "outlinewidth": 0,
            "ticks": ""
           }
          },
          "colorscale": {
           "diverging": [
            [
             0,
             "#8e0152"
            ],
            [
             0.1,
             "#c51b7d"
            ],
            [
             0.2,
             "#de77ae"
            ],
            [
             0.3,
             "#f1b6da"
            ],
            [
             0.4,
             "#fde0ef"
            ],
            [
             0.5,
             "#f7f7f7"
            ],
            [
             0.6,
             "#e6f5d0"
            ],
            [
             0.7,
             "#b8e186"
            ],
            [
             0.8,
             "#7fbc41"
            ],
            [
             0.9,
             "#4d9221"
            ],
            [
             1,
             "#276419"
            ]
           ],
           "sequential": [
            [
             0,
             "#0d0887"
            ],
            [
             0.1111111111111111,
             "#46039f"
            ],
            [
             0.2222222222222222,
             "#7201a8"
            ],
            [
             0.3333333333333333,
             "#9c179e"
            ],
            [
             0.4444444444444444,
             "#bd3786"
            ],
            [
             0.5555555555555556,
             "#d8576b"
            ],
            [
             0.6666666666666666,
             "#ed7953"
            ],
            [
             0.7777777777777778,
             "#fb9f3a"
            ],
            [
             0.8888888888888888,
             "#fdca26"
            ],
            [
             1,
             "#f0f921"
            ]
           ],
           "sequentialminus": [
            [
             0,
             "#0d0887"
            ],
            [
             0.1111111111111111,
             "#46039f"
            ],
            [
             0.2222222222222222,
             "#7201a8"
            ],
            [
             0.3333333333333333,
             "#9c179e"
            ],
            [
             0.4444444444444444,
             "#bd3786"
            ],
            [
             0.5555555555555556,
             "#d8576b"
            ],
            [
             0.6666666666666666,
             "#ed7953"
            ],
            [
             0.7777777777777778,
             "#fb9f3a"
            ],
            [
             0.8888888888888888,
             "#fdca26"
            ],
            [
             1,
             "#f0f921"
            ]
           ]
          },
          "colorway": [
           "#636efa",
           "#EF553B",
           "#00cc96",
           "#ab63fa",
           "#FFA15A",
           "#19d3f3",
           "#FF6692",
           "#B6E880",
           "#FF97FF",
           "#FECB52"
          ],
          "font": {
           "color": "#2a3f5f"
          },
          "geo": {
           "bgcolor": "white",
           "lakecolor": "white",
           "landcolor": "#E5ECF6",
           "showlakes": true,
           "showland": true,
           "subunitcolor": "white"
          },
          "hoverlabel": {
           "align": "left"
          },
          "hovermode": "closest",
          "mapbox": {
           "style": "light"
          },
          "paper_bgcolor": "white",
          "plot_bgcolor": "#E5ECF6",
          "polar": {
           "angularaxis": {
            "gridcolor": "white",
            "linecolor": "white",
            "ticks": ""
           },
           "bgcolor": "#E5ECF6",
           "radialaxis": {
            "gridcolor": "white",
            "linecolor": "white",
            "ticks": ""
           }
          },
          "scene": {
           "xaxis": {
            "backgroundcolor": "#E5ECF6",
            "gridcolor": "white",
            "gridwidth": 2,
            "linecolor": "white",
            "showbackground": true,
            "ticks": "",
            "zerolinecolor": "white"
           },
           "yaxis": {
            "backgroundcolor": "#E5ECF6",
            "gridcolor": "white",
            "gridwidth": 2,
            "linecolor": "white",
            "showbackground": true,
            "ticks": "",
            "zerolinecolor": "white"
           },
           "zaxis": {
            "backgroundcolor": "#E5ECF6",
            "gridcolor": "white",
            "gridwidth": 2,
            "linecolor": "white",
            "showbackground": true,
            "ticks": "",
            "zerolinecolor": "white"
           }
          },
          "shapedefaults": {
           "line": {
            "color": "#2a3f5f"
           }
          },
          "ternary": {
           "aaxis": {
            "gridcolor": "white",
            "linecolor": "white",
            "ticks": ""
           },
           "baxis": {
            "gridcolor": "white",
            "linecolor": "white",
            "ticks": ""
           },
           "bgcolor": "#E5ECF6",
           "caxis": {
            "gridcolor": "white",
            "linecolor": "white",
            "ticks": ""
           }
          },
          "title": {
           "x": 0.05
          },
          "xaxis": {
           "automargin": true,
           "gridcolor": "white",
           "linecolor": "white",
           "ticks": "",
           "title": {
            "standoff": 15
           },
           "zerolinecolor": "white",
           "zerolinewidth": 2
          },
          "yaxis": {
           "automargin": true,
           "gridcolor": "white",
           "linecolor": "white",
           "ticks": "",
           "title": {
            "standoff": 15
           },
           "zerolinecolor": "white",
           "zerolinewidth": 2
          }
         }
        },
        "xaxis": {
         "anchor": "y",
         "domain": [
          0,
          0.235
         ],
         "title": {
          "text": "ym"
         }
        },
        "xaxis10": {
         "anchor": "y10",
         "domain": [
          0.255,
          0.49
         ],
         "matches": "x",
         "showticklabels": false
        },
        "xaxis11": {
         "anchor": "y11",
         "domain": [
          0.51,
          0.745
         ],
         "matches": "x",
         "showticklabels": false
        },
        "xaxis12": {
         "anchor": "y12",
         "domain": [
          0.7649999999999999,
          0.9999999999999999
         ],
         "matches": "x",
         "showticklabels": false
        },
        "xaxis13": {
         "anchor": "y13",
         "domain": [
          0,
          0.235
         ],
         "matches": "x",
         "showticklabels": false
        },
        "xaxis14": {
         "anchor": "y14",
         "domain": [
          0.255,
          0.49
         ],
         "matches": "x",
         "showticklabels": false
        },
        "xaxis15": {
         "anchor": "y15",
         "domain": [
          0.51,
          0.745
         ],
         "matches": "x",
         "showticklabels": false
        },
        "xaxis16": {
         "anchor": "y16",
         "domain": [
          0.7649999999999999,
          0.9999999999999999
         ],
         "matches": "x",
         "showticklabels": false
        },
        "xaxis17": {
         "anchor": "y17",
         "domain": [
          0,
          0.235
         ],
         "matches": "x",
         "showticklabels": false
        },
        "xaxis18": {
         "anchor": "y18",
         "domain": [
          0.255,
          0.49
         ],
         "matches": "x",
         "showticklabels": false
        },
        "xaxis19": {
         "anchor": "y19",
         "domain": [
          0.51,
          0.745
         ],
         "matches": "x",
         "showticklabels": false
        },
        "xaxis2": {
         "anchor": "y2",
         "domain": [
          0.255,
          0.49
         ],
         "matches": "x",
         "title": {
          "text": "ym"
         }
        },
        "xaxis20": {
         "anchor": "y20",
         "domain": [
          0.7649999999999999,
          0.9999999999999999
         ],
         "matches": "x",
         "showticklabels": false
        },
        "xaxis3": {
         "anchor": "y3",
         "domain": [
          0.51,
          0.745
         ],
         "matches": "x",
         "title": {
          "text": "ym"
         }
        },
        "xaxis4": {
         "anchor": "y4",
         "domain": [
          0.7649999999999999,
          0.9999999999999999
         ],
         "matches": "x",
         "title": {
          "text": "ym"
         }
        },
        "xaxis5": {
         "anchor": "y5",
         "domain": [
          0,
          0.235
         ],
         "matches": "x",
         "showticklabels": false
        },
        "xaxis6": {
         "anchor": "y6",
         "domain": [
          0.255,
          0.49
         ],
         "matches": "x",
         "showticklabels": false
        },
        "xaxis7": {
         "anchor": "y7",
         "domain": [
          0.51,
          0.745
         ],
         "matches": "x",
         "showticklabels": false
        },
        "xaxis8": {
         "anchor": "y8",
         "domain": [
          0.7649999999999999,
          0.9999999999999999
         ],
         "matches": "x",
         "showticklabels": false
        },
        "xaxis9": {
         "anchor": "y9",
         "domain": [
          0,
          0.235
         ],
         "matches": "x",
         "showticklabels": false
        },
        "yaxis": {
         "anchor": "x",
         "domain": [
          0,
          0.144
         ],
         "range": [
          0,
          1
         ],
         "title": {
          "text": "value"
         }
        },
        "yaxis10": {
         "anchor": "x10",
         "domain": [
          0.428,
          0.572
         ],
         "matches": "y",
         "showticklabels": false
        },
        "yaxis11": {
         "anchor": "x11",
         "domain": [
          0.428,
          0.572
         ],
         "matches": "y",
         "showticklabels": false
        },
        "yaxis12": {
         "anchor": "x12",
         "domain": [
          0.428,
          0.572
         ],
         "matches": "y",
         "showticklabels": false
        },
        "yaxis13": {
         "anchor": "x13",
         "domain": [
          0.6419999999999999,
          0.7859999999999999
         ],
         "matches": "y",
         "range": [
          0,
          1
         ],
         "title": {
          "text": "value"
         }
        },
        "yaxis14": {
         "anchor": "x14",
         "domain": [
          0.6419999999999999,
          0.7859999999999999
         ],
         "matches": "y",
         "showticklabels": false
        },
        "yaxis15": {
         "anchor": "x15",
         "domain": [
          0.6419999999999999,
          0.7859999999999999
         ],
         "matches": "y",
         "showticklabels": false
        },
        "yaxis16": {
         "anchor": "x16",
         "domain": [
          0.6419999999999999,
          0.7859999999999999
         ],
         "matches": "y",
         "showticklabels": false
        },
        "yaxis17": {
         "anchor": "x17",
         "domain": [
          0.856,
          1
         ],
         "matches": "y",
         "range": [
          0,
          1
         ],
         "title": {
          "text": "value"
         }
        },
        "yaxis18": {
         "anchor": "x18",
         "domain": [
          0.856,
          1
         ],
         "matches": "y",
         "showticklabels": false
        },
        "yaxis19": {
         "anchor": "x19",
         "domain": [
          0.856,
          1
         ],
         "matches": "y",
         "showticklabels": false
        },
        "yaxis2": {
         "anchor": "x2",
         "domain": [
          0,
          0.144
         ],
         "matches": "y",
         "showticklabels": false
        },
        "yaxis20": {
         "anchor": "x20",
         "domain": [
          0.856,
          1
         ],
         "matches": "y",
         "showticklabels": false
        },
        "yaxis3": {
         "anchor": "x3",
         "domain": [
          0,
          0.144
         ],
         "matches": "y",
         "showticklabels": false
        },
        "yaxis4": {
         "anchor": "x4",
         "domain": [
          0,
          0.144
         ],
         "matches": "y",
         "showticklabels": false
        },
        "yaxis5": {
         "anchor": "x5",
         "domain": [
          0.214,
          0.358
         ],
         "matches": "y",
         "range": [
          0,
          1
         ],
         "title": {
          "text": "value"
         }
        },
        "yaxis6": {
         "anchor": "x6",
         "domain": [
          0.214,
          0.358
         ],
         "matches": "y",
         "showticklabels": false
        },
        "yaxis7": {
         "anchor": "x7",
         "domain": [
          0.214,
          0.358
         ],
         "matches": "y",
         "showticklabels": false
        },
        "yaxis8": {
         "anchor": "x8",
         "domain": [
          0.214,
          0.358
         ],
         "matches": "y",
         "showticklabels": false
        },
        "yaxis9": {
         "anchor": "x9",
         "domain": [
          0.428,
          0.572
         ],
         "matches": "y",
         "range": [
          0,
          1
         ],
         "title": {
          "text": "value"
         }
        }
       }
      },
      "text/html": [
       "<div>                            <div id=\"9c0024d2-58d6-4e55-a547-284c7023d7e0\" class=\"plotly-graph-div\" style=\"height:1725.0px; width:100%;\"></div>            <script type=\"text/javascript\">                require([\"plotly\"], function(Plotly) {                    window.PLOTLYENV=window.PLOTLYENV || {};                                    if (document.getElementById(\"9c0024d2-58d6-4e55-a547-284c7023d7e0\")) {                    Plotly.newPlot(                        \"9c0024d2-58d6-4e55-a547-284c7023d7e0\",                        [{\"hovertemplate\":\"variable=pp<br>id=179433516<br>ym=%{x}<br>value=%{y}<extra></extra>\",\"legendgroup\":\"pp\",\"line\":{\"color\":\"#636efa\",\"dash\":\"solid\"},\"marker\":{\"symbol\":\"circle\"},\"mode\":\"lines\",\"name\":\"pp\",\"showlegend\":true,\"x\":[\"2020-01-01T00:00:00\",\"2020-02-01T00:00:00\",\"2020-03-01T00:00:00\",\"2020-04-01T00:00:00\",\"2020-05-01T00:00:00\",\"2020-06-01T00:00:00\",\"2020-07-01T00:00:00\",\"2020-08-01T00:00:00\",\"2020-09-01T00:00:00\",\"2020-10-01T00:00:00\",\"2020-11-01T00:00:00\",\"2020-12-01T00:00:00\",\"2021-01-01T00:00:00\",\"2021-02-01T00:00:00\",\"2021-03-01T00:00:00\",\"2021-04-01T00:00:00\",\"2021-05-01T00:00:00\",\"2021-06-01T00:00:00\",\"2021-07-01T00:00:00\",\"2021-08-01T00:00:00\",\"2021-09-01T00:00:00\",\"2021-10-01T00:00:00\"],\"xaxis\":\"x17\",\"y\":[0.34022087637987136,0.33095015639531433,0.3430186966025362,0.3366081296812464,0.34372965615147105,0.3408334032961956,0.3396347119592815,0.3384337288044981,0.3406859553629773,0.3320100490600739,0.330847004014062,0.33640977221723545,0.340062736265932,0.35682137833952926,0.3551658216267244,0.3641227116936301,0.3641724440187183,0.35555893651752396,0.3347725358039617,0.35365126153568155,0.350969509117799,0.3435398289899227],\"yaxis\":\"y17\",\"type\":\"scattergl\"},{\"hovertemplate\":\"variable=pp<br>id=179458306<br>ym=%{x}<br>value=%{y}<extra></extra>\",\"legendgroup\":\"pp\",\"line\":{\"color\":\"#636efa\",\"dash\":\"solid\"},\"marker\":{\"symbol\":\"circle\"},\"mode\":\"lines\",\"name\":\"pp\",\"showlegend\":false,\"x\":[\"2020-01-01T00:00:00\",\"2020-02-01T00:00:00\",\"2020-03-01T00:00:00\",\"2020-04-01T00:00:00\",\"2020-05-01T00:00:00\",\"2020-06-01T00:00:00\",\"2020-07-01T00:00:00\",\"2020-08-01T00:00:00\",\"2020-09-01T00:00:00\",\"2020-10-01T00:00:00\",\"2020-11-01T00:00:00\",\"2020-12-01T00:00:00\",\"2021-01-01T00:00:00\",\"2021-02-01T00:00:00\",\"2021-03-01T00:00:00\",\"2021-04-01T00:00:00\",\"2021-05-01T00:00:00\",\"2021-06-01T00:00:00\",\"2021-07-01T00:00:00\",\"2021-08-01T00:00:00\",\"2021-09-01T00:00:00\",\"2021-10-01T00:00:00\"],\"xaxis\":\"x18\",\"y\":[0.3661259115885381,0.34736717267140216,0.3548902775707762,0.3697707965960928,0.3576987215069803,0.34834872832660574,0.3404531678403745,0.3432184910547577,0.34426959619441405,0.34414550966014285,0.33333333332829657,0.34694780300284656,0.34060150375427667,0.33592603462964593,0.342150058919181,0.34145673603037435,0.3409511228488646,0.3393628509673412,0.33543307086173973,0.3352585627893182,0.3404196192810835,0.3395947940381109],\"yaxis\":\"y18\",\"type\":\"scattergl\"},{\"hovertemplate\":\"variable=pp<br>id=179569820<br>ym=%{x}<br>value=%{y}<extra></extra>\",\"legendgroup\":\"pp\",\"line\":{\"color\":\"#636efa\",\"dash\":\"solid\"},\"marker\":{\"symbol\":\"circle\"},\"mode\":\"lines\",\"name\":\"pp\",\"showlegend\":false,\"x\":[\"2020-01-01T00:00:00\",\"2020-02-01T00:00:00\",\"2020-03-01T00:00:00\",\"2020-04-01T00:00:00\",\"2020-05-01T00:00:00\",\"2020-06-01T00:00:00\",\"2020-07-01T00:00:00\",\"2020-08-01T00:00:00\",\"2020-09-01T00:00:00\",\"2020-10-01T00:00:00\",\"2020-11-01T00:00:00\",\"2020-12-01T00:00:00\",\"2021-01-01T00:00:00\",\"2021-02-01T00:00:00\",\"2021-03-01T00:00:00\",\"2021-04-01T00:00:00\",\"2021-05-01T00:00:00\",\"2021-06-01T00:00:00\",\"2021-07-01T00:00:00\",\"2021-08-01T00:00:00\",\"2021-09-01T00:00:00\",\"2021-10-01T00:00:00\"],\"xaxis\":\"x19\",\"y\":[0.3801504836930592,0.3180449386110951,0.3106988249806964,0.32304677932496884,0.3283145127515919,0.327731092432802,0.3337539432134542,0.3336844569249334,0.33301343569658093,0.3348214285692932,0.33296823657813573,0.3296031229625296,0.33025221180073616,0.32586339216690924,0.3324099722947842,0.33605875831019877,0.33519182264257014,0.33559874948571977,0.3309632412083316,0.33056690500088654,0.3308102742234668,0.3287112561136249],\"yaxis\":\"y19\",\"type\":\"scattergl\"},{\"hovertemplate\":\"variable=pp<br>id=855996491<br>ym=%{x}<br>value=%{y}<extra></extra>\",\"legendgroup\":\"pp\",\"line\":{\"color\":\"#636efa\",\"dash\":\"solid\"},\"marker\":{\"symbol\":\"circle\"},\"mode\":\"lines\",\"name\":\"pp\",\"showlegend\":false,\"x\":[\"2020-01-01T00:00:00\",\"2020-02-01T00:00:00\",\"2020-03-01T00:00:00\",\"2020-04-01T00:00:00\",\"2020-05-01T00:00:00\",\"2020-06-01T00:00:00\",\"2020-07-01T00:00:00\",\"2020-08-01T00:00:00\",\"2020-09-01T00:00:00\",\"2020-10-01T00:00:00\",\"2020-11-01T00:00:00\",\"2020-12-01T00:00:00\",\"2021-01-01T00:00:00\",\"2021-02-01T00:00:00\",\"2021-03-01T00:00:00\",\"2021-04-01T00:00:00\",\"2021-05-01T00:00:00\",\"2021-06-01T00:00:00\",\"2021-07-01T00:00:00\",\"2021-08-01T00:00:00\",\"2021-09-01T00:00:00\",\"2021-10-01T00:00:00\"],\"xaxis\":\"x20\",\"y\":[0.33781327100157243,0.336629921257722,0.33798668032570445,0.3375917683083554,0.3353488934554641,0.33491529496374556,0.3355416513290667,0.3384632922917324,0.3394471166534201,0.3390184241818204,0.340816802798876,0.34003480490776683,0.3412556053796356,0.3405776103528418,0.3413088117117163,0.3409694091337665,0.34271926329152735,0.34023854362673117,0.34200587494036916,0.3371091979910689,0.3369565215560019,0.3352769678322807],\"yaxis\":\"y20\",\"type\":\"scattergl\"},{\"hovertemplate\":\"variable=pp<br>id=1606708811<br>ym=%{x}<br>value=%{y}<extra></extra>\",\"legendgroup\":\"pp\",\"line\":{\"color\":\"#636efa\",\"dash\":\"solid\"},\"marker\":{\"symbol\":\"circle\"},\"mode\":\"lines\",\"name\":\"pp\",\"showlegend\":false,\"x\":[\"2020-01-01T00:00:00\",\"2020-02-01T00:00:00\",\"2020-03-01T00:00:00\",\"2020-04-01T00:00:00\",\"2020-05-01T00:00:00\",\"2020-06-01T00:00:00\",\"2020-07-01T00:00:00\",\"2020-08-01T00:00:00\",\"2020-09-01T00:00:00\",\"2020-10-01T00:00:00\",\"2020-11-01T00:00:00\",\"2020-12-01T00:00:00\",\"2021-01-01T00:00:00\",\"2021-02-01T00:00:00\",\"2021-03-01T00:00:00\",\"2021-04-01T00:00:00\",\"2021-05-01T00:00:00\",\"2021-06-01T00:00:00\",\"2021-07-01T00:00:00\",\"2021-08-01T00:00:00\",\"2021-09-01T00:00:00\",\"2021-10-01T00:00:00\"],\"xaxis\":\"x13\",\"y\":[0.337650105953171,0.3318660952121873,0.33612832664556896,0.33720405862077557,0.3378137266523395,0.337268702459561,0.33831752977950014,0.33784898103029976,0.33715909090525953,0.3381883367859605,0.3376801647181688,0.33774104682823425,0.3375690607697506,0.33736559139372724,0.33757535163722285,0.3374913374874394,0.33767825311566757,0.336927816897701,0.33665915673922686,0.33715770104624787,0.33744714889341276,0.3375508359654592],\"yaxis\":\"y13\",\"type\":\"scattergl\"},{\"hovertemplate\":\"variable=pp<br>id=1916407803<br>ym=%{x}<br>value=%{y}<extra></extra>\",\"legendgroup\":\"pp\",\"line\":{\"color\":\"#636efa\",\"dash\":\"solid\"},\"marker\":{\"symbol\":\"circle\"},\"mode\":\"lines\",\"name\":\"pp\",\"showlegend\":false,\"x\":[\"2020-01-01T00:00:00\",\"2020-02-01T00:00:00\",\"2020-03-01T00:00:00\",\"2020-04-01T00:00:00\",\"2020-05-01T00:00:00\",\"2020-06-01T00:00:00\",\"2020-07-01T00:00:00\",\"2020-08-01T00:00:00\",\"2020-09-01T00:00:00\",\"2020-10-01T00:00:00\",\"2020-11-01T00:00:00\",\"2020-12-01T00:00:00\",\"2021-01-01T00:00:00\",\"2021-02-01T00:00:00\",\"2021-03-01T00:00:00\",\"2021-04-01T00:00:00\",\"2021-05-01T00:00:00\",\"2021-06-01T00:00:00\",\"2021-07-01T00:00:00\",\"2021-08-01T00:00:00\",\"2021-09-01T00:00:00\",\"2021-10-01T00:00:00\"],\"xaxis\":\"x14\",\"y\":[0.33311928077808445,0.33403565639653104,0.3321912220536435,0.33317128503754384,0.33322237016755624,0.3340009243516561,0.33338676069348633,0.33343803988796233,0.3336434108475404,0.3337214225197531,0.3328103549650361,0.33333333332760595,0.33305647839978314,0.3339412730196254,0.3314646110644367,0.33285790692934825,0.33629966886721235,0.33441492597172146,0.3341673616810073,0.33436293435432785,0.3344444444370124,0.33420738974173525],\"yaxis\":\"y14\",\"type\":\"scattergl\"},{\"hovertemplate\":\"variable=pp<br>id=2071313507<br>ym=%{x}<br>value=%{y}<extra></extra>\",\"legendgroup\":\"pp\",\"line\":{\"color\":\"#636efa\",\"dash\":\"solid\"},\"marker\":{\"symbol\":\"circle\"},\"mode\":\"lines\",\"name\":\"pp\",\"showlegend\":false,\"x\":[\"2020-01-01T00:00:00\",\"2020-02-01T00:00:00\",\"2020-03-01T00:00:00\",\"2020-04-01T00:00:00\",\"2020-05-01T00:00:00\",\"2020-06-01T00:00:00\",\"2020-07-01T00:00:00\",\"2020-08-01T00:00:00\",\"2020-09-01T00:00:00\",\"2020-10-01T00:00:00\",\"2020-11-01T00:00:00\",\"2020-12-01T00:00:00\",\"2021-01-01T00:00:00\",\"2021-02-01T00:00:00\",\"2021-03-01T00:00:00\",\"2021-04-01T00:00:00\",\"2021-05-01T00:00:00\",\"2021-06-01T00:00:00\",\"2021-07-01T00:00:00\",\"2021-08-01T00:00:00\",\"2021-09-01T00:00:00\",\"2021-10-01T00:00:00\"],\"xaxis\":\"x15\",\"y\":[0.3347699151930017,0.3342442111294819,0.33446546983394415,0.33576529027991486,0.3354606447362505,0.3362903225779331,0.3368845843394924,0.3374109631438726,0.33725135623615693,0.33751104683723987,0.3378038558228181,0.33686837180024276,0.33705919395200673,0.3357624339557682,0.3370302929950585,0.3382893125735675,0.3367044463789302,0.3384279475951744,0.3380281690111089,0.3394160583910637,0.34047267355667954,0.3391791719369085],\"yaxis\":\"y15\",\"type\":\"scattergl\"},{\"hovertemplate\":\"variable=pp<br>id=2172970175<br>ym=%{x}<br>value=%{y}<extra></extra>\",\"legendgroup\":\"pp\",\"line\":{\"color\":\"#636efa\",\"dash\":\"solid\"},\"marker\":{\"symbol\":\"circle\"},\"mode\":\"lines\",\"name\":\"pp\",\"showlegend\":false,\"x\":[\"2020-01-01T00:00:00\",\"2020-02-01T00:00:00\",\"2020-03-01T00:00:00\",\"2020-04-01T00:00:00\",\"2020-05-01T00:00:00\",\"2020-06-01T00:00:00\",\"2020-07-01T00:00:00\",\"2020-08-01T00:00:00\",\"2020-09-01T00:00:00\",\"2020-10-01T00:00:00\",\"2020-11-01T00:00:00\",\"2020-12-01T00:00:00\",\"2021-01-01T00:00:00\",\"2021-02-01T00:00:00\",\"2021-03-01T00:00:00\",\"2021-04-01T00:00:00\",\"2021-05-01T00:00:00\",\"2021-06-01T00:00:00\",\"2021-07-01T00:00:00\",\"2021-08-01T00:00:00\",\"2021-09-01T00:00:00\",\"2021-10-01T00:00:00\"],\"xaxis\":\"x16\",\"y\":[0.3281070011498265,0.328443513048019,0.32511698411438,0.3306462098535259,0.33288752173108943,0.3381657737139502,0.33708676194438625,0.335937865529706,0.33586549174346264,0.33716951788396105,0.33643943109161084,0.3314920306097503,0.3308296346857242,0.32825539806379483,0.3337854573312863,0.33614213860907866,0.3399142135240618,0.34014613999608095,0.34159737969089643,0.341927827820584,0.34554973821794993,0.34325559591970434],\"yaxis\":\"y16\",\"type\":\"scattergl\"},{\"hovertemplate\":\"variable=pp<br>id=2186749200<br>ym=%{x}<br>value=%{y}<extra></extra>\",\"legendgroup\":\"pp\",\"line\":{\"color\":\"#636efa\",\"dash\":\"solid\"},\"marker\":{\"symbol\":\"circle\"},\"mode\":\"lines\",\"name\":\"pp\",\"showlegend\":false,\"x\":[\"2020-01-01T00:00:00\",\"2020-02-01T00:00:00\",\"2020-03-01T00:00:00\",\"2020-04-01T00:00:00\",\"2020-05-01T00:00:00\",\"2020-06-01T00:00:00\",\"2020-07-01T00:00:00\",\"2020-08-01T00:00:00\",\"2020-09-01T00:00:00\",\"2020-10-01T00:00:00\",\"2020-11-01T00:00:00\",\"2020-12-01T00:00:00\",\"2021-01-01T00:00:00\",\"2021-02-01T00:00:00\",\"2021-03-01T00:00:00\",\"2021-04-01T00:00:00\",\"2021-05-01T00:00:00\",\"2021-06-01T00:00:00\",\"2021-07-01T00:00:00\",\"2021-08-01T00:00:00\",\"2021-09-01T00:00:00\",\"2021-10-01T00:00:00\"],\"xaxis\":\"x9\",\"y\":[0.34060341693310425,0.3369402985011765,0.33660130718266745,0.3349344171377252,0.33307941343871494,0.3362499999939955,0.33729174051156874,0.3366319137597344,0.3379708177750599,0.33772309824694396,0.3362356428244491,0.33640389724824793,0.3363935562041158,0.33835182249725926,0.3419868466538251,0.3373338256953964,0.3398447282702248,0.3377266871436158,0.33618677042474526,0.33377362324391613,0.334070097880917,0.33397663788386006],\"yaxis\":\"y9\",\"type\":\"scattergl\"},{\"hovertemplate\":\"variable=pp<br>id=2212416005<br>ym=%{x}<br>value=%{y}<extra></extra>\",\"legendgroup\":\"pp\",\"line\":{\"color\":\"#636efa\",\"dash\":\"solid\"},\"marker\":{\"symbol\":\"circle\"},\"mode\":\"lines\",\"name\":\"pp\",\"showlegend\":false,\"x\":[\"2020-01-01T00:00:00\",\"2020-02-01T00:00:00\",\"2020-03-01T00:00:00\",\"2020-04-01T00:00:00\",\"2020-05-01T00:00:00\",\"2020-06-01T00:00:00\",\"2020-07-01T00:00:00\",\"2020-08-01T00:00:00\",\"2020-09-01T00:00:00\",\"2020-10-01T00:00:00\",\"2020-11-01T00:00:00\",\"2020-12-01T00:00:00\",\"2021-01-01T00:00:00\",\"2021-02-01T00:00:00\",\"2021-03-01T00:00:00\",\"2021-04-01T00:00:00\",\"2021-05-01T00:00:00\",\"2021-06-01T00:00:00\",\"2021-07-01T00:00:00\",\"2021-08-01T00:00:00\",\"2021-09-01T00:00:00\",\"2021-10-01T00:00:00\"],\"xaxis\":\"x10\",\"y\":[0.3529061694084976,0.34967634429052313,0.34433050973142865,0.3467575382049652,0.34847404449266633,0.3463219452117801,0.3464190981411941,0.34674696082650414,0.3462551534565606,0.3467225634514747,0.34727793696026305,0.35059565521828595,0.34751118369418793,0.3438026658469143,0.3439775910340057,0.3437901957957425,0.34491249084750836,0.34211801768846406,0.3429439413026313,0.3427512993456665,0.3438384066971606,0.34540718228403267],\"yaxis\":\"y10\",\"type\":\"scattergl\"},{\"hovertemplate\":\"variable=pp<br>id=2251440776<br>ym=%{x}<br>value=%{y}<extra></extra>\",\"legendgroup\":\"pp\",\"line\":{\"color\":\"#636efa\",\"dash\":\"solid\"},\"marker\":{\"symbol\":\"circle\"},\"mode\":\"lines\",\"name\":\"pp\",\"showlegend\":false,\"x\":[\"2020-01-01T00:00:00\",\"2020-02-01T00:00:00\",\"2020-03-01T00:00:00\",\"2020-04-01T00:00:00\",\"2020-05-01T00:00:00\",\"2020-06-01T00:00:00\",\"2020-07-01T00:00:00\",\"2020-08-01T00:00:00\",\"2020-09-01T00:00:00\",\"2020-10-01T00:00:00\",\"2020-11-01T00:00:00\",\"2020-12-01T00:00:00\",\"2021-01-01T00:00:00\",\"2021-02-01T00:00:00\",\"2021-03-01T00:00:00\",\"2021-04-01T00:00:00\",\"2021-05-01T00:00:00\",\"2021-06-01T00:00:00\",\"2021-07-01T00:00:00\",\"2021-08-01T00:00:00\",\"2021-09-01T00:00:00\",\"2021-10-01T00:00:00\"],\"xaxis\":\"x11\",\"y\":[0.32263513508063596,0.2991452991026859,0.3348436791873655,0.3299026425545215,0.3337749806742434,0.33992389145979546,0.33742719675653693,0.33243751679432654,0.3352590720316369,0.35613682091659615,0.3391038696422572,0.33371727748341656,0.33210816486976363,0.3344451455842924,0.3396926338042803,0.33018573435047455,0.3363429869373291,0.3382291229522317,0.3325058875925625,0.3360113960094814,0.33634614263026213,0.3369752421940959],\"yaxis\":\"y11\",\"type\":\"scattergl\"},{\"hovertemplate\":\"variable=pp<br>id=2256064355<br>ym=%{x}<br>value=%{y}<extra></extra>\",\"legendgroup\":\"pp\",\"line\":{\"color\":\"#636efa\",\"dash\":\"solid\"},\"marker\":{\"symbol\":\"circle\"},\"mode\":\"lines\",\"name\":\"pp\",\"showlegend\":false,\"x\":[\"2020-01-01T00:00:00\",\"2020-02-01T00:00:00\",\"2020-03-01T00:00:00\",\"2020-04-01T00:00:00\",\"2020-05-01T00:00:00\",\"2020-06-01T00:00:00\",\"2020-07-01T00:00:00\",\"2020-08-01T00:00:00\",\"2020-09-01T00:00:00\",\"2020-10-01T00:00:00\",\"2020-11-01T00:00:00\",\"2020-12-01T00:00:00\",\"2021-01-01T00:00:00\",\"2021-02-01T00:00:00\",\"2021-03-01T00:00:00\",\"2021-04-01T00:00:00\",\"2021-05-01T00:00:00\",\"2021-06-01T00:00:00\",\"2021-07-01T00:00:00\",\"2021-08-01T00:00:00\",\"2021-09-01T00:00:00\",\"2021-10-01T00:00:00\"],\"xaxis\":\"x12\",\"y\":[0.3444807643923855,0.3425874069898185,0.3403987785131992,0.3423862776394317,0.34396671289577,0.34486522797594366,0.34522770894830546,0.3450782519426573,0.3447980101179792,0.34628551865651197,0.34772287673335917,0.3476469133738758,0.3438160247006028,0.3427255006172007,0.3453556485326748,0.34670094258486117,0.34499347683997883,0.3441329528257165,0.3429056786899943,0.34246885616955475,0.3436209356435862,0.3438098888436657],\"yaxis\":\"y12\",\"type\":\"scattergl\"},{\"hovertemplate\":\"variable=pp<br>id=2347718608<br>ym=%{x}<br>value=%{y}<extra></extra>\",\"legendgroup\":\"pp\",\"line\":{\"color\":\"#636efa\",\"dash\":\"solid\"},\"marker\":{\"symbol\":\"circle\"},\"mode\":\"lines\",\"name\":\"pp\",\"showlegend\":false,\"x\":[\"2020-01-01T00:00:00\",\"2020-02-01T00:00:00\",\"2020-03-01T00:00:00\",\"2020-04-01T00:00:00\",\"2020-05-01T00:00:00\",\"2020-06-01T00:00:00\",\"2020-07-01T00:00:00\",\"2020-08-01T00:00:00\",\"2020-09-01T00:00:00\",\"2020-10-01T00:00:00\",\"2020-11-01T00:00:00\",\"2020-12-01T00:00:00\",\"2021-01-01T00:00:00\",\"2021-02-01T00:00:00\",\"2021-03-01T00:00:00\",\"2021-04-01T00:00:00\",\"2021-05-01T00:00:00\",\"2021-06-01T00:00:00\",\"2021-07-01T00:00:00\",\"2021-08-01T00:00:00\",\"2021-09-01T00:00:00\",\"2021-10-01T00:00:00\"],\"xaxis\":\"x5\",\"y\":[0.3449199908097012,0.34145077719954514,0.33475935828578646,0.3395177768668613,0.3385528267649699,0.34078474284554644,0.3421204859074281,0.34393726418329557,0.34748030325295465,0.3514021502129486,0.3509943603417112,0.34860518542600194,0.34913418466036544,0.33892409954908853,0.3464052287558115,0.3441503590008155,0.3464602629681556,0.3486854608783738,0.3490038872670736,0.3487110731894161,0.35278019653966425,0.35123314299385716],\"yaxis\":\"y5\",\"type\":\"scattergl\"},{\"hovertemplate\":\"variable=pp<br>id=2347718610<br>ym=%{x}<br>value=%{y}<extra></extra>\",\"legendgroup\":\"pp\",\"line\":{\"color\":\"#636efa\",\"dash\":\"solid\"},\"marker\":{\"symbol\":\"circle\"},\"mode\":\"lines\",\"name\":\"pp\",\"showlegend\":false,\"x\":[\"2020-01-01T00:00:00\",\"2020-02-01T00:00:00\",\"2020-03-01T00:00:00\",\"2020-04-01T00:00:00\",\"2020-05-01T00:00:00\",\"2020-06-01T00:00:00\",\"2020-07-01T00:00:00\",\"2020-08-01T00:00:00\",\"2020-09-01T00:00:00\",\"2020-10-01T00:00:00\",\"2020-11-01T00:00:00\",\"2020-12-01T00:00:00\",\"2021-01-01T00:00:00\",\"2021-02-01T00:00:00\",\"2021-03-01T00:00:00\",\"2021-04-01T00:00:00\",\"2021-05-01T00:00:00\",\"2021-06-01T00:00:00\",\"2021-07-01T00:00:00\",\"2021-08-01T00:00:00\",\"2021-09-01T00:00:00\",\"2021-10-01T00:00:00\"],\"xaxis\":\"x6\",\"y\":[0.34343084645712796,0.3410900725505124,0.3345356176705632,0.33265439139373754,0.3377763059827984,0.33747884317950194,0.33865910108751185,0.3357716071277908,0.3366155577413376,0.34119308920880437,0.34392604362022294,0.3435218324957514,0.341537570578098,0.33595120728268063,0.3382119954708547,0.33906770255003116,0.34038666463434014,0.34262012834291267,0.34378320934914386,0.33995800209734545,0.34334273302078083,0.346233934082385],\"yaxis\":\"y6\",\"type\":\"scattergl\"},{\"hovertemplate\":\"variable=pp<br>id=2427050072<br>ym=%{x}<br>value=%{y}<extra></extra>\",\"legendgroup\":\"pp\",\"line\":{\"color\":\"#636efa\",\"dash\":\"solid\"},\"marker\":{\"symbol\":\"circle\"},\"mode\":\"lines\",\"name\":\"pp\",\"showlegend\":false,\"x\":[\"2020-01-01T00:00:00\",\"2020-02-01T00:00:00\",\"2020-03-01T00:00:00\",\"2020-04-01T00:00:00\",\"2020-05-01T00:00:00\",\"2020-06-01T00:00:00\",\"2020-07-01T00:00:00\",\"2020-08-01T00:00:00\",\"2020-09-01T00:00:00\",\"2020-10-01T00:00:00\",\"2020-11-01T00:00:00\",\"2020-12-01T00:00:00\",\"2021-01-01T00:00:00\",\"2021-02-01T00:00:00\",\"2021-03-01T00:00:00\",\"2021-04-01T00:00:00\",\"2021-05-01T00:00:00\",\"2021-06-01T00:00:00\",\"2021-07-01T00:00:00\",\"2021-08-01T00:00:00\",\"2021-09-01T00:00:00\",\"2021-10-01T00:00:00\"],\"xaxis\":\"x7\",\"y\":[0.33308494783550047,0.33133817870530846,0.3328815090892027,0.3327691982194545,0.33282141289674394,0.3330498564863075,0.33307717641526974,0.33319207542818946,0.3343092604604824,0.33202304668390487,0.333151640680986,0.33312202852262945,0.3330505778779233,0.33290428270146377,0.33305003717908155,0.33198573126834735,0.337861524974388,0.3330793512535857,0.334447730483034,0.3329471244961771,0.33318786820496193,0.3331926566751087],\"yaxis\":\"y7\",\"type\":\"scattergl\"},{\"hovertemplate\":\"variable=pp<br>id=2445049876<br>ym=%{x}<br>value=%{y}<extra></extra>\",\"legendgroup\":\"pp\",\"line\":{\"color\":\"#636efa\",\"dash\":\"solid\"},\"marker\":{\"symbol\":\"circle\"},\"mode\":\"lines\",\"name\":\"pp\",\"showlegend\":false,\"x\":[\"2020-01-01T00:00:00\",\"2020-02-01T00:00:00\",\"2020-03-01T00:00:00\",\"2020-04-01T00:00:00\",\"2020-05-01T00:00:00\",\"2020-06-01T00:00:00\",\"2020-07-01T00:00:00\",\"2020-08-01T00:00:00\",\"2020-09-01T00:00:00\",\"2020-10-01T00:00:00\",\"2020-11-01T00:00:00\",\"2020-12-01T00:00:00\",\"2021-01-01T00:00:00\",\"2021-02-01T00:00:00\",\"2021-03-01T00:00:00\",\"2021-04-01T00:00:00\",\"2021-05-01T00:00:00\",\"2021-06-01T00:00:00\",\"2021-07-01T00:00:00\",\"2021-08-01T00:00:00\",\"2021-09-01T00:00:00\",\"2021-10-01T00:00:00\"],\"xaxis\":\"x8\",\"y\":[0.34374999999660055,0.3413115392066422,0.3390974272423123,0.34164193867120035,0.34223841327320137,0.34272882143144856,0.3425925925900344,0.3444604316521981,0.34164183147966914,0.34217247596025324,0.34245115452626596,0.34245810055547055,0.34323893098979613,0.34192672998256524,0.3434364120382609,0.34486395274894677,0.34223990903598406,0.3414877683446373,0.34127111825952317,0.34178037686532015,0.34205808533217946,0.343009795188397],\"yaxis\":\"y8\",\"type\":\"scattergl\"},{\"hovertemplate\":\"variable=pp<br>id=2471562086<br>ym=%{x}<br>value=%{y}<extra></extra>\",\"legendgroup\":\"pp\",\"line\":{\"color\":\"#636efa\",\"dash\":\"solid\"},\"marker\":{\"symbol\":\"circle\"},\"mode\":\"lines\",\"name\":\"pp\",\"showlegend\":false,\"x\":[\"2020-01-01T00:00:00\",\"2020-02-01T00:00:00\",\"2020-03-01T00:00:00\",\"2020-04-01T00:00:00\",\"2020-05-01T00:00:00\",\"2020-06-01T00:00:00\",\"2020-07-01T00:00:00\",\"2020-08-01T00:00:00\",\"2020-09-01T00:00:00\",\"2020-10-01T00:00:00\",\"2020-11-01T00:00:00\",\"2020-12-01T00:00:00\",\"2021-01-01T00:00:00\",\"2021-02-01T00:00:00\",\"2021-03-01T00:00:00\",\"2021-04-01T00:00:00\",\"2021-05-01T00:00:00\",\"2021-06-01T00:00:00\",\"2021-07-01T00:00:00\",\"2021-08-01T00:00:00\",\"2021-09-01T00:00:00\",\"2021-10-01T00:00:00\"],\"xaxis\":\"x\",\"y\":[0.33635778635562186,0.33224408135823774,0.3287904599635946,0.3399461180483716,0.34099248120095643,0.3442930953483124,0.3437374234210806,0.3399924613632115,0.3406768837789724,0.3446956019346075,0.34696656137486676,0.34737934613208415,0.3457332652000729,0.341543915406506,0.3437597099930411,0.34228942125789297,0.34375295564010333,0.3431192660537342,0.3404128791082303,0.33978265501666405,0.34539795464497375,0.34728260869407934],\"yaxis\":\"y\",\"type\":\"scattergl\"},{\"hovertemplate\":\"variable=pp<br>id=2479963778<br>ym=%{x}<br>value=%{y}<extra></extra>\",\"legendgroup\":\"pp\",\"line\":{\"color\":\"#636efa\",\"dash\":\"solid\"},\"marker\":{\"symbol\":\"circle\"},\"mode\":\"lines\",\"name\":\"pp\",\"showlegend\":false,\"x\":[\"2020-01-01T00:00:00\",\"2020-02-01T00:00:00\",\"2020-03-01T00:00:00\",\"2020-04-01T00:00:00\",\"2020-05-01T00:00:00\",\"2020-06-01T00:00:00\",\"2020-07-01T00:00:00\",\"2020-08-01T00:00:00\",\"2020-09-01T00:00:00\",\"2020-10-01T00:00:00\",\"2020-11-01T00:00:00\",\"2020-12-01T00:00:00\",\"2021-01-01T00:00:00\",\"2021-02-01T00:00:00\",\"2021-03-01T00:00:00\",\"2021-04-01T00:00:00\",\"2021-05-01T00:00:00\",\"2021-06-01T00:00:00\",\"2021-07-01T00:00:00\",\"2021-08-01T00:00:00\",\"2021-09-01T00:00:00\",\"2021-10-01T00:00:00\"],\"xaxis\":\"x2\",\"y\":[0.3394473271347961,0.34023991275528637,0.33834086678624914,0.34239198496753426,0.3424410362115938,0.34243551010524703,0.34456478138443075,0.34195155471274735,0.34392014518772546,0.3434794977025095,0.3454315256346757,0.3439314893164294,0.3473860062858944,0.34249402563173476,0.3461976202757765,0.3485720156117878,0.344945647519088,0.3452795600334988,0.3443446741877886,0.34395143156690183,0.34643635482810203,0.348361032041609],\"yaxis\":\"y2\",\"type\":\"scattergl\"},{\"hovertemplate\":\"variable=pp<br>id=2496032641<br>ym=%{x}<br>value=%{y}<extra></extra>\",\"legendgroup\":\"pp\",\"line\":{\"color\":\"#636efa\",\"dash\":\"solid\"},\"marker\":{\"symbol\":\"circle\"},\"mode\":\"lines\",\"name\":\"pp\",\"showlegend\":false,\"x\":[\"2020-01-01T00:00:00\",\"2020-02-01T00:00:00\",\"2020-03-01T00:00:00\",\"2020-04-01T00:00:00\",\"2020-05-01T00:00:00\",\"2020-06-01T00:00:00\",\"2020-07-01T00:00:00\",\"2020-08-01T00:00:00\",\"2020-09-01T00:00:00\",\"2020-10-01T00:00:00\",\"2020-11-01T00:00:00\",\"2020-12-01T00:00:00\",\"2021-01-01T00:00:00\",\"2021-02-01T00:00:00\",\"2021-03-01T00:00:00\",\"2021-04-01T00:00:00\",\"2021-05-01T00:00:00\",\"2021-06-01T00:00:00\",\"2021-07-01T00:00:00\",\"2021-08-01T00:00:00\",\"2021-09-01T00:00:00\",\"2021-10-01T00:00:00\"],\"xaxis\":\"x3\",\"y\":[0.3398009110819993,0.3370994940949654,0.33283245679627316,0.33708260105151944,0.33728726147208793,0.340145985398977,0.3393201721809461,0.33956434419635745,0.339881224300747,0.3461473896241978,0.34507991526723397,0.3431155407867929,0.34164495719816107,0.3366357958180418,0.3417123417091125,0.3424092409205609,0.3484295105884913,0.35456513893581226,0.3477483336014652,0.34828451882553735,0.34832635982899235,0.34793089593865073],\"yaxis\":\"y3\",\"type\":\"scattergl\"},{\"hovertemplate\":\"variable=pp<br>id=2523401557<br>ym=%{x}<br>value=%{y}<extra></extra>\",\"legendgroup\":\"pp\",\"line\":{\"color\":\"#636efa\",\"dash\":\"solid\"},\"marker\":{\"symbol\":\"circle\"},\"mode\":\"lines\",\"name\":\"pp\",\"showlegend\":false,\"x\":[\"2020-01-01T00:00:00\",\"2020-02-01T00:00:00\",\"2020-03-01T00:00:00\",\"2020-04-01T00:00:00\",\"2020-05-01T00:00:00\",\"2020-06-01T00:00:00\",\"2020-07-01T00:00:00\",\"2020-08-01T00:00:00\",\"2020-09-01T00:00:00\",\"2020-10-01T00:00:00\",\"2020-11-01T00:00:00\",\"2020-12-01T00:00:00\",\"2021-01-01T00:00:00\",\"2021-02-01T00:00:00\",\"2021-03-01T00:00:00\",\"2021-04-01T00:00:00\",\"2021-05-01T00:00:00\",\"2021-06-01T00:00:00\",\"2021-07-01T00:00:00\",\"2021-08-01T00:00:00\",\"2021-09-01T00:00:00\",\"2021-10-01T00:00:00\"],\"xaxis\":\"x4\",\"y\":[0.3389872786188702,0.34732913458890446,0.33137419534940704,0.341443633409821,0.3402758993732719,0.3473890659432779,0.34597422006028417,0.34854771783974103,0.3432626949185999,0.34581011460232464,0.34598313359580574,0.34204326407858165,0.3370676100595807,0.3426488456823493,0.34718355107788407,0.34541062801553124,0.34562021122027725,0.3437236731219068,0.3440442079375353,0.34315964292772305,0.34703102526867646,0.34764397905395134],\"yaxis\":\"y4\",\"type\":\"scattergl\"},{\"hovertemplate\":\"variable=pf<br>id=179433516<br>ym=%{x}<br>value=%{y}<extra></extra>\",\"legendgroup\":\"pf\",\"line\":{\"color\":\"#EF553B\",\"dash\":\"solid\"},\"marker\":{\"symbol\":\"circle\"},\"mode\":\"lines\",\"name\":\"pf\",\"showlegend\":true,\"x\":[\"2020-01-01T00:00:00\",\"2020-02-01T00:00:00\",\"2020-03-01T00:00:00\",\"2020-04-01T00:00:00\",\"2020-05-01T00:00:00\",\"2020-06-01T00:00:00\",\"2020-07-01T00:00:00\",\"2020-08-01T00:00:00\",\"2020-09-01T00:00:00\",\"2020-10-01T00:00:00\",\"2020-11-01T00:00:00\",\"2020-12-01T00:00:00\",\"2021-01-01T00:00:00\",\"2021-02-01T00:00:00\",\"2021-03-01T00:00:00\",\"2021-04-01T00:00:00\",\"2021-05-01T00:00:00\",\"2021-06-01T00:00:00\",\"2021-07-01T00:00:00\",\"2021-08-01T00:00:00\",\"2021-09-01T00:00:00\",\"2021-10-01T00:00:00\"],\"xaxis\":\"x17\",\"y\":[0.3501246882786781,0.336352926838493,0.32481736761664776,0.33067256129941736,0.35183760430793654,0.3444994822708078,0.3400185522817068,0.33942665105104713,0.3513893590974356,0.33714123195770795,0.3356048966641032,0.33116959754475256,0.3356658355447389,0.3821378340356724,0.3879145540678499,0.4009027835818756,0.3913857677894825,0.3657905747206919,0.33982729570285763,0.36288030318917275,0.3603402292215809,0.3422217716037341],\"yaxis\":\"y17\",\"type\":\"scattergl\"},{\"hovertemplate\":\"variable=pf<br>id=179458306<br>ym=%{x}<br>value=%{y}<extra></extra>\",\"legendgroup\":\"pf\",\"line\":{\"color\":\"#EF553B\",\"dash\":\"solid\"},\"marker\":{\"symbol\":\"circle\"},\"mode\":\"lines\",\"name\":\"pf\",\"showlegend\":false,\"x\":[\"2020-01-01T00:00:00\",\"2020-02-01T00:00:00\",\"2020-03-01T00:00:00\",\"2020-04-01T00:00:00\",\"2020-05-01T00:00:00\",\"2020-06-01T00:00:00\",\"2020-07-01T00:00:00\",\"2020-08-01T00:00:00\",\"2020-09-01T00:00:00\",\"2020-10-01T00:00:00\",\"2020-11-01T00:00:00\",\"2020-12-01T00:00:00\",\"2021-01-01T00:00:00\",\"2021-02-01T00:00:00\",\"2021-03-01T00:00:00\",\"2021-04-01T00:00:00\",\"2021-05-01T00:00:00\",\"2021-06-01T00:00:00\",\"2021-07-01T00:00:00\",\"2021-08-01T00:00:00\",\"2021-09-01T00:00:00\",\"2021-10-01T00:00:00\"],\"xaxis\":\"x18\",\"y\":[0.34514064592431704,0.3432163187815083,0.3480598750131077,0.3444462253511068,0.3464424680329844,0.3402505377661616,0.3351132919564856,0.33347870329505047,0.33343230403305474,0.3334596438019442,0.3469326080334401,0.33692126215958534,0.3396992481151925,0.34194305840413936,0.3356029854611025,0.33543263964491465,0.33394980184499407,0.3393628509673412,0.3431758530138691,0.3371390194716301,0.33249965262842157,0.3370454850350591],\"yaxis\":\"y18\",\"type\":\"scattergl\"},{\"hovertemplate\":\"variable=pf<br>id=179569820<br>ym=%{x}<br>value=%{y}<extra></extra>\",\"legendgroup\":\"pf\",\"line\":{\"color\":\"#EF553B\",\"dash\":\"solid\"},\"marker\":{\"symbol\":\"circle\"},\"mode\":\"lines\",\"name\":\"pf\",\"showlegend\":false,\"x\":[\"2020-01-01T00:00:00\",\"2020-02-01T00:00:00\",\"2020-03-01T00:00:00\",\"2020-04-01T00:00:00\",\"2020-05-01T00:00:00\",\"2020-06-01T00:00:00\",\"2020-07-01T00:00:00\",\"2020-08-01T00:00:00\",\"2020-09-01T00:00:00\",\"2020-10-01T00:00:00\",\"2020-11-01T00:00:00\",\"2020-12-01T00:00:00\",\"2021-01-01T00:00:00\",\"2021-02-01T00:00:00\",\"2021-03-01T00:00:00\",\"2021-04-01T00:00:00\",\"2021-05-01T00:00:00\",\"2021-06-01T00:00:00\",\"2021-07-01T00:00:00\",\"2021-08-01T00:00:00\",\"2021-09-01T00:00:00\",\"2021-10-01T00:00:00\"],\"xaxis\":\"x19\",\"y\":[0.3557864564629668,0.32893212878933364,0.3218305503979984,0.32267940239624443,0.32301686880910335,0.31741787623736417,0.3123028391127785,0.3112125468128369,0.3150191938541864,0.31568877550819074,0.31900328586638826,0.3224463240036116,0.32602667370492505,0.3250959324585557,0.315789473680045,0.31665742793352747,0.3147484401922906,0.3142585292875594,0.3159377515385573,0.313968335031742,0.3081027422718935,0.31111628990548684],\"yaxis\":\"y19\",\"type\":\"scattergl\"},{\"hovertemplate\":\"variable=pf<br>id=855996491<br>ym=%{x}<br>value=%{y}<extra></extra>\",\"legendgroup\":\"pf\",\"line\":{\"color\":\"#EF553B\",\"dash\":\"solid\"},\"marker\":{\"symbol\":\"circle\"},\"mode\":\"lines\",\"name\":\"pf\",\"showlegend\":false,\"x\":[\"2020-01-01T00:00:00\",\"2020-02-01T00:00:00\",\"2020-03-01T00:00:00\",\"2020-04-01T00:00:00\",\"2020-05-01T00:00:00\",\"2020-06-01T00:00:00\",\"2020-07-01T00:00:00\",\"2020-08-01T00:00:00\",\"2020-09-01T00:00:00\",\"2020-10-01T00:00:00\",\"2020-11-01T00:00:00\",\"2020-12-01T00:00:00\",\"2021-01-01T00:00:00\",\"2021-02-01T00:00:00\",\"2021-03-01T00:00:00\",\"2021-04-01T00:00:00\",\"2021-05-01T00:00:00\",\"2021-06-01T00:00:00\",\"2021-07-01T00:00:00\",\"2021-08-01T00:00:00\",\"2021-09-01T00:00:00\",\"2021-10-01T00:00:00\"],\"xaxis\":\"x20\",\"y\":[0.338722243862234,0.33770078739944753,0.33977971311257826,0.33718712064086254,0.33601402829643234,0.3339541030858227,0.3322905164990045,0.33242134062738016,0.335377134096224,0.33479948834107226,0.33498249708128364,0.33733284484183307,0.3388789237652965,0.33927364048904046,0.3376037853747986,0.3371513712327739,0.33811484482074594,0.33724467622609855,0.3384389425023408,0.33303126414440276,0.3369565215560019,0.332361515938087],\"yaxis\":\"y20\",\"type\":\"scattergl\"},{\"hovertemplate\":\"variable=pf<br>id=1606708811<br>ym=%{x}<br>value=%{y}<extra></extra>\",\"legendgroup\":\"pf\",\"line\":{\"color\":\"#EF553B\",\"dash\":\"solid\"},\"marker\":{\"symbol\":\"circle\"},\"mode\":\"lines\",\"name\":\"pf\",\"showlegend\":false,\"x\":[\"2020-01-01T00:00:00\",\"2020-02-01T00:00:00\",\"2020-03-01T00:00:00\",\"2020-04-01T00:00:00\",\"2020-05-01T00:00:00\",\"2020-06-01T00:00:00\",\"2020-07-01T00:00:00\",\"2020-08-01T00:00:00\",\"2020-09-01T00:00:00\",\"2020-10-01T00:00:00\",\"2020-11-01T00:00:00\",\"2020-12-01T00:00:00\",\"2021-01-01T00:00:00\",\"2021-02-01T00:00:00\",\"2021-03-01T00:00:00\",\"2021-04-01T00:00:00\",\"2021-05-01T00:00:00\",\"2021-06-01T00:00:00\",\"2021-07-01T00:00:00\",\"2021-08-01T00:00:00\",\"2021-09-01T00:00:00\",\"2021-10-01T00:00:00\"],\"xaxis\":\"x13\",\"y\":[0.33494231221644755,0.34124869685692977,0.33624984809410313,0.3358511837617153,0.33602949922283776,0.33545237824570945,0.33491368830130175,0.3340793968625977,0.33340909090530213,0.33381883367691545,0.33745138411876624,0.3353168044040185,0.33602209944380085,0.3387096774152162,0.33489618217978456,0.3346038345999699,0.3343360071264,0.3337367957709756,0.3337624718342049,0.33412707002560743,0.33436178722049636,0.33495255309156174],\"yaxis\":\"y13\",\"type\":\"scattergl\"},{\"hovertemplate\":\"variable=pf<br>id=1916407803<br>ym=%{x}<br>value=%{y}<extra></extra>\",\"legendgroup\":\"pf\",\"line\":{\"color\":\"#EF553B\",\"dash\":\"solid\"},\"marker\":{\"symbol\":\"circle\"},\"mode\":\"lines\",\"name\":\"pf\",\"showlegend\":false,\"x\":[\"2020-01-01T00:00:00\",\"2020-02-01T00:00:00\",\"2020-03-01T00:00:00\",\"2020-04-01T00:00:00\",\"2020-05-01T00:00:00\",\"2020-06-01T00:00:00\",\"2020-07-01T00:00:00\",\"2020-08-01T00:00:00\",\"2020-09-01T00:00:00\",\"2020-10-01T00:00:00\",\"2020-11-01T00:00:00\",\"2020-12-01T00:00:00\",\"2021-01-01T00:00:00\",\"2021-02-01T00:00:00\",\"2021-03-01T00:00:00\",\"2021-04-01T00:00:00\",\"2021-05-01T00:00:00\",\"2021-06-01T00:00:00\",\"2021-07-01T00:00:00\",\"2021-08-01T00:00:00\",\"2021-09-01T00:00:00\",\"2021-10-01T00:00:00\"],\"xaxis\":\"x14\",\"y\":[0.33424305666504667,0.33468395461370043,0.33398596834175254,0.3341435747798713,0.33438748334996027,0.3343090432855599,0.33418817117592264,0.33422333908694485,0.33395348836691546,0.3373200677356338,0.3353598744786162,0.3350515463859957,0.3357142857087091,0.33631223781987396,0.3345012847387409,0.33588875021686776,0.33278145694675537,0.33461772459268674,0.33722546565645745,0.33075933075081704,0.3362222222147506,0.3327771156058933],\"yaxis\":\"y14\",\"type\":\"scattergl\"},{\"hovertemplate\":\"variable=pf<br>id=2071313507<br>ym=%{x}<br>value=%{y}<extra></extra>\",\"legendgroup\":\"pf\",\"line\":{\"color\":\"#EF553B\",\"dash\":\"solid\"},\"marker\":{\"symbol\":\"circle\"},\"mode\":\"lines\",\"name\":\"pf\",\"showlegend\":false,\"x\":[\"2020-01-01T00:00:00\",\"2020-02-01T00:00:00\",\"2020-03-01T00:00:00\",\"2020-04-01T00:00:00\",\"2020-05-01T00:00:00\",\"2020-06-01T00:00:00\",\"2020-07-01T00:00:00\",\"2020-08-01T00:00:00\",\"2020-09-01T00:00:00\",\"2020-10-01T00:00:00\",\"2020-11-01T00:00:00\",\"2020-12-01T00:00:00\",\"2021-01-01T00:00:00\",\"2021-02-01T00:00:00\",\"2021-03-01T00:00:00\",\"2021-04-01T00:00:00\",\"2021-05-01T00:00:00\",\"2021-06-01T00:00:00\",\"2021-07-01T00:00:00\",\"2021-08-01T00:00:00\",\"2021-09-01T00:00:00\",\"2021-10-01T00:00:00\"],\"xaxis\":\"x15\",\"y\":[0.33198943416980403,0.33237451459562506,0.3318777292549581,0.33297112697661463,0.3328424153139188,0.3354838709650364,0.33866020984391715,0.33803034995092884,0.3404159131981584,0.33702900297125,0.3361274098882135,0.33624454148209415,0.33611460956914263,0.33230096556447164,0.3353749379214089,0.333916389711965,0.33443766346700576,0.3351528384248985,0.3353873239407096,0.3344890510918386,0.3371491875892065,0.33483999276500775],\"yaxis\":\"y15\",\"type\":\"scattergl\"},{\"hovertemplate\":\"variable=pf<br>id=2172970175<br>ym=%{x}<br>value=%{y}<extra></extra>\",\"legendgroup\":\"pf\",\"line\":{\"color\":\"#EF553B\",\"dash\":\"solid\"},\"marker\":{\"symbol\":\"circle\"},\"mode\":\"lines\",\"name\":\"pf\",\"showlegend\":false,\"x\":[\"2020-01-01T00:00:00\",\"2020-02-01T00:00:00\",\"2020-03-01T00:00:00\",\"2020-04-01T00:00:00\",\"2020-05-01T00:00:00\",\"2020-06-01T00:00:00\",\"2020-07-01T00:00:00\",\"2020-08-01T00:00:00\",\"2020-09-01T00:00:00\",\"2020-10-01T00:00:00\",\"2020-11-01T00:00:00\",\"2020-12-01T00:00:00\",\"2021-01-01T00:00:00\",\"2021-02-01T00:00:00\",\"2021-03-01T00:00:00\",\"2021-04-01T00:00:00\",\"2021-05-01T00:00:00\",\"2021-06-01T00:00:00\",\"2021-07-01T00:00:00\",\"2021-08-01T00:00:00\",\"2021-09-01T00:00:00\",\"2021-10-01T00:00:00\"],\"xaxis\":\"x16\",\"y\":[0.3280430052455648,0.32749095065518835,0.3198444605528251,0.3303861656460123,0.3361642369911986,0.3436285324070615,0.34262066310407285,0.34113133392438527,0.3417907424271154,0.34545454545356863,0.34440902402927653,0.33586512457370465,0.33521110731572085,0.3338190488784354,0.33797251872183776,0.33829773335725194,0.345026147245167,0.34581171237770936,0.34829931972613604,0.347915205780528,0.34757642289958013,0.34606820578726083],\"yaxis\":\"y16\",\"type\":\"scattergl\"},{\"hovertemplate\":\"variable=pf<br>id=2186749200<br>ym=%{x}<br>value=%{y}<extra></extra>\",\"legendgroup\":\"pf\",\"line\":{\"color\":\"#EF553B\",\"dash\":\"solid\"},\"marker\":{\"symbol\":\"circle\"},\"mode\":\"lines\",\"name\":\"pf\",\"showlegend\":false,\"x\":[\"2020-01-01T00:00:00\",\"2020-02-01T00:00:00\",\"2020-03-01T00:00:00\",\"2020-04-01T00:00:00\",\"2020-05-01T00:00:00\",\"2020-06-01T00:00:00\",\"2020-07-01T00:00:00\",\"2020-08-01T00:00:00\",\"2020-09-01T00:00:00\",\"2020-10-01T00:00:00\",\"2020-11-01T00:00:00\",\"2020-12-01T00:00:00\",\"2021-01-01T00:00:00\",\"2021-02-01T00:00:00\",\"2021-03-01T00:00:00\",\"2021-04-01T00:00:00\",\"2021-05-01T00:00:00\",\"2021-06-01T00:00:00\",\"2021-07-01T00:00:00\",\"2021-08-01T00:00:00\",\"2021-09-01T00:00:00\",\"2021-10-01T00:00:00\"],\"xaxis\":\"x9\",\"y\":[0.34060341693310425,0.33973880596381084,0.33946078430679205,0.34546462219941876,0.34126832983543576,0.33892857142251914,0.3380007089624601,0.34157978440817144,0.3425517475340592,0.34170854271060724,0.3447573175186225,0.3452612931736889,0.3412437207631865,0.3387480190107221,0.33921772238942166,0.3367799113674893,0.335962935132282,0.33455554454132835,0.33336575875162094,0.3348912822563006,0.33449110619582684,0.3344845099001068],\"yaxis\":\"y9\",\"type\":\"scattergl\"},{\"hovertemplate\":\"variable=pf<br>id=2212416005<br>ym=%{x}<br>value=%{y}<extra></extra>\",\"legendgroup\":\"pf\",\"line\":{\"color\":\"#EF553B\",\"dash\":\"solid\"},\"marker\":{\"symbol\":\"circle\"},\"mode\":\"lines\",\"name\":\"pf\",\"showlegend\":false,\"x\":[\"2020-01-01T00:00:00\",\"2020-02-01T00:00:00\",\"2020-03-01T00:00:00\",\"2020-04-01T00:00:00\",\"2020-05-01T00:00:00\",\"2020-06-01T00:00:00\",\"2020-07-01T00:00:00\",\"2020-08-01T00:00:00\",\"2020-09-01T00:00:00\",\"2020-10-01T00:00:00\",\"2020-11-01T00:00:00\",\"2020-12-01T00:00:00\",\"2021-01-01T00:00:00\",\"2021-02-01T00:00:00\",\"2021-03-01T00:00:00\",\"2021-04-01T00:00:00\",\"2021-05-01T00:00:00\",\"2021-06-01T00:00:00\",\"2021-07-01T00:00:00\",\"2021-08-01T00:00:00\",\"2021-09-01T00:00:00\",\"2021-10-01T00:00:00\"],\"xaxis\":\"x10\",\"y\":[0.3402764001828984,0.341857335125669,0.3384603953013935,0.3400110147298636,0.3396320593244464,0.34115112342049153,0.3431181844954723,0.3441017559638445,0.3443082913402181,0.3458126157734691,0.3448424068743206,0.3438682550781789,0.345522970955439,0.3461008120089926,0.3491596638631011,0.34907817635880317,0.3491049444310301,0.35078153398551565,0.3509113836962575,0.34971801393149554,0.3500056580267624,0.34881845810116713],\"yaxis\":\"y10\",\"type\":\"scattergl\"},{\"hovertemplate\":\"variable=pf<br>id=2251440776<br>ym=%{x}<br>value=%{y}<extra></extra>\",\"legendgroup\":\"pf\",\"line\":{\"color\":\"#EF553B\",\"dash\":\"solid\"},\"marker\":{\"symbol\":\"circle\"},\"mode\":\"lines\",\"name\":\"pf\",\"showlegend\":false,\"x\":[\"2020-01-01T00:00:00\",\"2020-02-01T00:00:00\",\"2020-03-01T00:00:00\",\"2020-04-01T00:00:00\",\"2020-05-01T00:00:00\",\"2020-06-01T00:00:00\",\"2020-07-01T00:00:00\",\"2020-08-01T00:00:00\",\"2020-09-01T00:00:00\",\"2020-10-01T00:00:00\",\"2020-11-01T00:00:00\",\"2020-12-01T00:00:00\",\"2021-01-01T00:00:00\",\"2021-02-01T00:00:00\",\"2021-03-01T00:00:00\",\"2021-04-01T00:00:00\",\"2021-05-01T00:00:00\",\"2021-06-01T00:00:00\",\"2021-07-01T00:00:00\",\"2021-08-01T00:00:00\",\"2021-09-01T00:00:00\",\"2021-10-01T00:00:00\"],\"xaxis\":\"x11\",\"y\":[0.33108108102515527,0.2578347577980292,0.3352967829481062,0.3300417246129341,0.3238379154209579,0.3311548643255199,0.3259052924770454,0.31947057242462057,0.3293013179244511,0.3556338028079569,0.3397827562681676,0.3292146596824166,0.32957031591555463,0.3322816190360382,0.33615968909492744,0.3275323864497617,0.3301533219742751,0.3306756189657054,0.3358156705471592,0.3379487179467923,0.33523820630745094,0.33379978471295046],\"yaxis\":\"y11\",\"type\":\"scattergl\"},{\"hovertemplate\":\"variable=pf<br>id=2256064355<br>ym=%{x}<br>value=%{y}<extra></extra>\",\"legendgroup\":\"pf\",\"line\":{\"color\":\"#EF553B\",\"dash\":\"solid\"},\"marker\":{\"symbol\":\"circle\"},\"mode\":\"lines\",\"name\":\"pf\",\"showlegend\":false,\"x\":[\"2020-01-01T00:00:00\",\"2020-02-01T00:00:00\",\"2020-03-01T00:00:00\",\"2020-04-01T00:00:00\",\"2020-05-01T00:00:00\",\"2020-06-01T00:00:00\",\"2020-07-01T00:00:00\",\"2020-08-01T00:00:00\",\"2020-09-01T00:00:00\",\"2020-10-01T00:00:00\",\"2020-11-01T00:00:00\",\"2020-12-01T00:00:00\",\"2021-01-01T00:00:00\",\"2021-02-01T00:00:00\",\"2021-03-01T00:00:00\",\"2021-04-01T00:00:00\",\"2021-05-01T00:00:00\",\"2021-06-01T00:00:00\",\"2021-07-01T00:00:00\",\"2021-08-01T00:00:00\",\"2021-09-01T00:00:00\",\"2021-10-01T00:00:00\"],\"xaxis\":\"x12\",\"y\":[0.3437264269521102,0.3458676694107859,0.3431830429284787,0.34373160682465537,0.34440013869326974,0.34368964648296507,0.3422613854445798,0.34319678439798856,0.3441118449237146,0.34444539541105595,0.3443819236825709,0.34484463858613,0.3430846741399067,0.34609250398417424,0.3422594142230773,0.3420736932275743,0.34336268753796995,0.34404901795917364,0.3451706843524901,0.3440543601333027,0.34324547570516445,0.3434266002273405],\"yaxis\":\"y12\",\"type\":\"scattergl\"},{\"hovertemplate\":\"variable=pf<br>id=2347718608<br>ym=%{x}<br>value=%{y}<extra></extra>\",\"legendgroup\":\"pf\",\"line\":{\"color\":\"#EF553B\",\"dash\":\"solid\"},\"marker\":{\"symbol\":\"circle\"},\"mode\":\"lines\",\"name\":\"pf\",\"showlegend\":false,\"x\":[\"2020-01-01T00:00:00\",\"2020-02-01T00:00:00\",\"2020-03-01T00:00:00\",\"2020-04-01T00:00:00\",\"2020-05-01T00:00:00\",\"2020-06-01T00:00:00\",\"2020-07-01T00:00:00\",\"2020-08-01T00:00:00\",\"2020-09-01T00:00:00\",\"2020-10-01T00:00:00\",\"2020-11-01T00:00:00\",\"2020-12-01T00:00:00\",\"2021-01-01T00:00:00\",\"2021-02-01T00:00:00\",\"2021-03-01T00:00:00\",\"2021-04-01T00:00:00\",\"2021-05-01T00:00:00\",\"2021-06-01T00:00:00\",\"2021-07-01T00:00:00\",\"2021-08-01T00:00:00\",\"2021-09-01T00:00:00\",\"2021-10-01T00:00:00\"],\"xaxis\":\"x5\",\"y\":[0.3391777046142012,0.3380458919294001,0.3300356506209444,0.3330608908840779,0.3362452612466108,0.33843989369752664,0.33674902900308445,0.3416438558826541,0.3473316485777662,0.34681602886870605,0.3449836746783542,0.3435510338014864,0.3445209600832752,0.33629618178747644,0.3421840958582367,0.34027875545304603,0.34542392641786757,0.34602470699812465,0.34882167152363447,0.34852824669176347,0.3463117303125618,0.3443688494694182],\"yaxis\":\"y5\",\"type\":\"scattergl\"},{\"hovertemplate\":\"variable=pf<br>id=2347718610<br>ym=%{x}<br>value=%{y}<extra></extra>\",\"legendgroup\":\"pf\",\"line\":{\"color\":\"#EF553B\",\"dash\":\"solid\"},\"marker\":{\"symbol\":\"circle\"},\"mode\":\"lines\",\"name\":\"pf\",\"showlegend\":false,\"x\":[\"2020-01-01T00:00:00\",\"2020-02-01T00:00:00\",\"2020-03-01T00:00:00\",\"2020-04-01T00:00:00\",\"2020-05-01T00:00:00\",\"2020-06-01T00:00:00\",\"2020-07-01T00:00:00\",\"2020-08-01T00:00:00\",\"2020-09-01T00:00:00\",\"2020-10-01T00:00:00\",\"2020-11-01T00:00:00\",\"2020-12-01T00:00:00\",\"2021-01-01T00:00:00\",\"2021-02-01T00:00:00\",\"2021-03-01T00:00:00\",\"2021-04-01T00:00:00\",\"2021-05-01T00:00:00\",\"2021-06-01T00:00:00\",\"2021-07-01T00:00:00\",\"2021-08-01T00:00:00\",\"2021-09-01T00:00:00\",\"2021-10-01T00:00:00\"],\"xaxis\":\"x6\",\"y\":[0.33442963475563064,0.331445761809136,0.3274120829546671,0.3240182499566236,0.3309876645390265,0.3350504084161082,0.33597133044396016,0.33626873091160947,0.33760022506444226,0.33387663442959226,0.33612595695264963,0.3319255547578244,0.33357463442642554,0.33202439635448217,0.33225198038225384,0.3340732519396379,0.3397777439462644,0.34293316637703136,0.34143008956777415,0.34003299834753237,0.33564514899523173,0.33654053277564056],\"yaxis\":\"y6\",\"type\":\"scattergl\"},{\"hovertemplate\":\"variable=pf<br>id=2427050072<br>ym=%{x}<br>value=%{y}<extra></extra>\",\"legendgroup\":\"pf\",\"line\":{\"color\":\"#EF553B\",\"dash\":\"solid\"},\"marker\":{\"symbol\":\"circle\"},\"mode\":\"lines\",\"name\":\"pf\",\"showlegend\":false,\"x\":[\"2020-01-01T00:00:00\",\"2020-02-01T00:00:00\",\"2020-03-01T00:00:00\",\"2020-04-01T00:00:00\",\"2020-05-01T00:00:00\",\"2020-06-01T00:00:00\",\"2020-07-01T00:00:00\",\"2020-08-01T00:00:00\",\"2020-09-01T00:00:00\",\"2020-10-01T00:00:00\",\"2020-11-01T00:00:00\",\"2020-12-01T00:00:00\",\"2021-01-01T00:00:00\",\"2021-02-01T00:00:00\",\"2021-03-01T00:00:00\",\"2021-04-01T00:00:00\",\"2021-05-01T00:00:00\",\"2021-06-01T00:00:00\",\"2021-07-01T00:00:00\",\"2021-08-01T00:00:00\",\"2021-09-01T00:00:00\",\"2021-10-01T00:00:00\"],\"xaxis\":\"x7\",\"y\":[0.3326591441310128,0.33133817870530846,0.33265559696902003,0.332451872219881,0.332602018425487,0.33251833740477815,0.3326380502762911,0.33276830172335237,0.3343092604604824,0.3318615044944706,0.33282459391330177,0.33248811410108303,0.33283851128901665,0.3327872688938358,0.33273132900953223,0.32984542211260587,0.33753286590340126,0.3324262544864218,0.3363764947880111,0.33273646513237054,0.3327514728307576,0.33277062671098573],\"yaxis\":\"y7\",\"type\":\"scattergl\"},{\"hovertemplate\":\"variable=pf<br>id=2445049876<br>ym=%{x}<br>value=%{y}<extra></extra>\",\"legendgroup\":\"pf\",\"line\":{\"color\":\"#EF553B\",\"dash\":\"solid\"},\"marker\":{\"symbol\":\"circle\"},\"mode\":\"lines\",\"name\":\"pf\",\"showlegend\":false,\"x\":[\"2020-01-01T00:00:00\",\"2020-02-01T00:00:00\",\"2020-03-01T00:00:00\",\"2020-04-01T00:00:00\",\"2020-05-01T00:00:00\",\"2020-06-01T00:00:00\",\"2020-07-01T00:00:00\",\"2020-08-01T00:00:00\",\"2020-09-01T00:00:00\",\"2020-10-01T00:00:00\",\"2020-11-01T00:00:00\",\"2020-12-01T00:00:00\",\"2021-01-01T00:00:00\",\"2021-02-01T00:00:00\",\"2021-03-01T00:00:00\",\"2021-04-01T00:00:00\",\"2021-05-01T00:00:00\",\"2021-06-01T00:00:00\",\"2021-07-01T00:00:00\",\"2021-08-01T00:00:00\",\"2021-09-01T00:00:00\",\"2021-10-01T00:00:00\"],\"xaxis\":\"x8\",\"y\":[0.34473892404722367,0.34539793733853474,0.3420497680267603,0.3446092977216161,0.3450718478005963,0.3439677868952767,0.34378733572025244,0.3479136690622452,0.3440801950667564,0.3438251201910163,0.34404973356710433,0.3448789571662488,0.34623055444409423,0.3459972862918815,0.3448699569901201,0.3433874709940583,0.34261891225750785,0.3436511898789844,0.3440064360390667,0.34454191032858555,0.345464324127416,0.34496883347867346],\"yaxis\":\"y8\",\"type\":\"scattergl\"},{\"hovertemplate\":\"variable=pf<br>id=2471562086<br>ym=%{x}<br>value=%{y}<extra></extra>\",\"legendgroup\":\"pf\",\"line\":{\"color\":\"#EF553B\",\"dash\":\"solid\"},\"marker\":{\"symbol\":\"circle\"},\"mode\":\"lines\",\"name\":\"pf\",\"showlegend\":false,\"x\":[\"2020-01-01T00:00:00\",\"2020-02-01T00:00:00\",\"2020-03-01T00:00:00\",\"2020-04-01T00:00:00\",\"2020-05-01T00:00:00\",\"2020-06-01T00:00:00\",\"2020-07-01T00:00:00\",\"2020-08-01T00:00:00\",\"2020-09-01T00:00:00\",\"2020-10-01T00:00:00\",\"2020-11-01T00:00:00\",\"2020-12-01T00:00:00\",\"2021-01-01T00:00:00\",\"2021-02-01T00:00:00\",\"2021-03-01T00:00:00\",\"2021-04-01T00:00:00\",\"2021-05-01T00:00:00\",\"2021-06-01T00:00:00\",\"2021-07-01T00:00:00\",\"2021-08-01T00:00:00\",\"2021-09-01T00:00:00\",\"2021-10-01T00:00:00\"],\"xaxis\":\"x\",\"y\":[0.33700128699911835,0.33417805935088907,0.32758375922538624,0.3439872642643645,0.3458646616520549,0.355190230153334,0.35361981844853724,0.35650207312342064,0.3595945082999697,0.3504970992504983,0.3475656246577303,0.34561494550936367,0.3416453755731137,0.3382433836541883,0.3498705334005703,0.3478060989919405,0.35174501087509813,0.34770642201701946,0.35455781156930355,0.3562326869790913,0.35878168074540334,0.34900362318682515],\"yaxis\":\"y\",\"type\":\"scattergl\"},{\"hovertemplate\":\"variable=pf<br>id=2479963778<br>ym=%{x}<br>value=%{y}<extra></extra>\",\"legendgroup\":\"pf\",\"line\":{\"color\":\"#EF553B\",\"dash\":\"solid\"},\"marker\":{\"symbol\":\"circle\"},\"mode\":\"lines\",\"name\":\"pf\",\"showlegend\":false,\"x\":[\"2020-01-01T00:00:00\",\"2020-02-01T00:00:00\",\"2020-03-01T00:00:00\",\"2020-04-01T00:00:00\",\"2020-05-01T00:00:00\",\"2020-06-01T00:00:00\",\"2020-07-01T00:00:00\",\"2020-08-01T00:00:00\",\"2020-09-01T00:00:00\",\"2020-10-01T00:00:00\",\"2020-11-01T00:00:00\",\"2020-12-01T00:00:00\",\"2021-01-01T00:00:00\",\"2021-02-01T00:00:00\",\"2021-03-01T00:00:00\",\"2021-04-01T00:00:00\",\"2021-05-01T00:00:00\",\"2021-06-01T00:00:00\",\"2021-07-01T00:00:00\",\"2021-08-01T00:00:00\",\"2021-09-01T00:00:00\",\"2021-10-01T00:00:00\"],\"xaxis\":\"x2\",\"y\":[0.3512730783111949,0.3494002180986979,0.3480457325133203,0.3525360050049776,0.35416935171601793,0.35138275621251003,0.3499799438392501,0.34616045352734787,0.3460650057717698,0.34965660177856034,0.3527115425157975,0.35298749876608926,0.3547562893046899,0.3524875081430318,0.35312984997047975,0.3532977193306626,0.34982453136737285,0.35132905590878705,0.3483812505119995,0.3488232648752149,0.34788925659578745,0.3530437976278299],\"yaxis\":\"y2\",\"type\":\"scattergl\"},{\"hovertemplate\":\"variable=pf<br>id=2496032641<br>ym=%{x}<br>value=%{y}<extra></extra>\",\"legendgroup\":\"pf\",\"line\":{\"color\":\"#EF553B\",\"dash\":\"solid\"},\"marker\":{\"symbol\":\"circle\"},\"mode\":\"lines\",\"name\":\"pf\",\"showlegend\":false,\"x\":[\"2020-01-01T00:00:00\",\"2020-02-01T00:00:00\",\"2020-03-01T00:00:00\",\"2020-04-01T00:00:00\",\"2020-05-01T00:00:00\",\"2020-06-01T00:00:00\",\"2020-07-01T00:00:00\",\"2020-08-01T00:00:00\",\"2020-09-01T00:00:00\",\"2020-10-01T00:00:00\",\"2020-11-01T00:00:00\",\"2020-12-01T00:00:00\",\"2021-01-01T00:00:00\",\"2021-02-01T00:00:00\",\"2021-03-01T00:00:00\",\"2021-04-01T00:00:00\",\"2021-05-01T00:00:00\",\"2021-06-01T00:00:00\",\"2021-07-01T00:00:00\",\"2021-08-01T00:00:00\",\"2021-09-01T00:00:00\",\"2021-10-01T00:00:00\"],\"xaxis\":\"x3\",\"y\":[0.3360890838507163,0.33541315345417017,0.3324567993958259,0.3372583479759467,0.33969400034089997,0.3417518248150237,0.34214041858140015,0.34157268654146783,0.3423176488477058,0.3463991942238274,0.3439245137652231,0.3405315614586514,0.343319687380505,0.33900495369008177,0.3400113400081269,0.34220297029350033,0.35007304601579553,0.3556477805814178,0.3483986343655633,0.34811715480880234,0.34539748953613597,0.34511852149110966],\"yaxis\":\"y3\",\"type\":\"scattergl\"},{\"hovertemplate\":\"variable=pf<br>id=2523401557<br>ym=%{x}<br>value=%{y}<extra></extra>\",\"legendgroup\":\"pf\",\"line\":{\"color\":\"#EF553B\",\"dash\":\"solid\"},\"marker\":{\"symbol\":\"circle\"},\"mode\":\"lines\",\"name\":\"pf\",\"showlegend\":false,\"x\":[\"2020-01-01T00:00:00\",\"2020-02-01T00:00:00\",\"2020-03-01T00:00:00\",\"2020-04-01T00:00:00\",\"2020-05-01T00:00:00\",\"2020-06-01T00:00:00\",\"2020-07-01T00:00:00\",\"2020-08-01T00:00:00\",\"2020-09-01T00:00:00\",\"2020-10-01T00:00:00\",\"2020-11-01T00:00:00\",\"2020-12-01T00:00:00\",\"2021-01-01T00:00:00\",\"2021-02-01T00:00:00\",\"2021-03-01T00:00:00\",\"2021-04-01T00:00:00\",\"2021-05-01T00:00:00\",\"2021-06-01T00:00:00\",\"2021-07-01T00:00:00\",\"2021-08-01T00:00:00\",\"2021-09-01T00:00:00\",\"2021-10-01T00:00:00\"],\"xaxis\":\"x4\",\"y\":[0.34247942129779896,0.3517611383210664,0.33753148614137235,0.3490132468187481,0.34325128482089196,0.3510664378481115,0.3452269755245168,0.3433609958480782,0.34866053578220046,0.3459152560175275,0.34553928095488745,0.34118654957869793,0.3431603773551183,0.3426488456823493,0.3437566930783491,0.34606938954385075,0.3470697867017284,0.3464616680671181,0.35018419975081677,0.3479343989999176,0.3509348674712252,0.34806282722148624],\"yaxis\":\"y4\",\"type\":\"scattergl\"},{\"hovertemplate\":\"variable=pg<br>id=179433516<br>ym=%{x}<br>value=%{y}<extra></extra>\",\"legendgroup\":\"pg\",\"line\":{\"color\":\"#00cc96\",\"dash\":\"solid\"},\"marker\":{\"symbol\":\"circle\"},\"mode\":\"lines\",\"name\":\"pg\",\"showlegend\":true,\"x\":[\"2020-01-01T00:00:00\",\"2020-02-01T00:00:00\",\"2020-03-01T00:00:00\",\"2020-04-01T00:00:00\",\"2020-05-01T00:00:00\",\"2020-06-01T00:00:00\",\"2020-07-01T00:00:00\",\"2020-08-01T00:00:00\",\"2020-09-01T00:00:00\",\"2020-10-01T00:00:00\",\"2020-11-01T00:00:00\",\"2020-12-01T00:00:00\",\"2021-01-01T00:00:00\",\"2021-02-01T00:00:00\",\"2021-03-01T00:00:00\",\"2021-04-01T00:00:00\",\"2021-05-01T00:00:00\",\"2021-06-01T00:00:00\",\"2021-07-01T00:00:00\",\"2021-08-01T00:00:00\",\"2021-09-01T00:00:00\",\"2021-10-01T00:00:00\"],\"xaxis\":\"x17\",\"y\":[0.3096544353396693,0.3326969167641616,0.3321639357787524,0.33271930901728947,0.3044327395391128,0.3146671144315973,0.32034673575741235,0.32213962014318176,0.30792468553828495,0.3308487189816256,0.3335480993205958,0.33242063023683177,0.3242714281879886,0.2610407876224542,0.25691962430334775,0.23497450472240455,0.24444178818980708,0.27865048875988235,0.3254001684914255,0.2834684352733911,0.28869026165881806,0.31423839940465337],\"yaxis\":\"y17\",\"type\":\"scattergl\"},{\"hovertemplate\":\"variable=pg<br>id=179458306<br>ym=%{x}<br>value=%{y}<extra></extra>\",\"legendgroup\":\"pg\",\"line\":{\"color\":\"#00cc96\",\"dash\":\"solid\"},\"marker\":{\"symbol\":\"circle\"},\"mode\":\"lines\",\"name\":\"pg\",\"showlegend\":false,\"x\":[\"2020-01-01T00:00:00\",\"2020-02-01T00:00:00\",\"2020-03-01T00:00:00\",\"2020-04-01T00:00:00\",\"2020-05-01T00:00:00\",\"2020-06-01T00:00:00\",\"2020-07-01T00:00:00\",\"2020-08-01T00:00:00\",\"2020-09-01T00:00:00\",\"2020-10-01T00:00:00\",\"2020-11-01T00:00:00\",\"2020-12-01T00:00:00\",\"2021-01-01T00:00:00\",\"2021-02-01T00:00:00\",\"2021-03-01T00:00:00\",\"2021-04-01T00:00:00\",\"2021-05-01T00:00:00\",\"2021-06-01T00:00:00\",\"2021-07-01T00:00:00\",\"2021-08-01T00:00:00\",\"2021-09-01T00:00:00\",\"2021-10-01T00:00:00\"],\"xaxis\":\"x18\",\"y\":[0.28873344247226174,0.30941650853522984,0.29704984740158336,0.2857829780367722,0.2958588104461387,0.3114007338945793,0.32443354018870785,0.32330280563565483,0.3222980997576856,0.32239484653033423,0.319734058623153,0.31613093482282323,0.3196992481154933,0.322130906951539,0.3222469556066224,0.32311062431101983,0.3250990752929313,0.3212742980518187,0.3213910761112678,0.3276024177256199,0.32708072807660027,0.3233597209134126],\"yaxis\":\"y18\",\"type\":\"scattergl\"},{\"hovertemplate\":\"variable=pg<br>id=179569820<br>ym=%{x}<br>value=%{y}<extra></extra>\",\"legendgroup\":\"pg\",\"line\":{\"color\":\"#00cc96\",\"dash\":\"solid\"},\"marker\":{\"symbol\":\"circle\"},\"mode\":\"lines\",\"name\":\"pg\",\"showlegend\":false,\"x\":[\"2020-01-01T00:00:00\",\"2020-02-01T00:00:00\",\"2020-03-01T00:00:00\",\"2020-04-01T00:00:00\",\"2020-05-01T00:00:00\",\"2020-06-01T00:00:00\",\"2020-07-01T00:00:00\",\"2020-08-01T00:00:00\",\"2020-09-01T00:00:00\",\"2020-10-01T00:00:00\",\"2020-11-01T00:00:00\",\"2020-12-01T00:00:00\",\"2021-01-01T00:00:00\",\"2021-02-01T00:00:00\",\"2021-03-01T00:00:00\",\"2021-04-01T00:00:00\",\"2021-05-01T00:00:00\",\"2021-06-01T00:00:00\",\"2021-07-01T00:00:00\",\"2021-08-01T00:00:00\",\"2021-09-01T00:00:00\",\"2021-10-01T00:00:00\"],\"xaxis\":\"x19\",\"y\":[0.26406305983203077,0.35302293258798906,0.36747062460893665,0.35427381826654086,0.3486686184253636,0.3548510313171015,0.353943217661149,0.35510299625052544,0.35196737043723647,0.34948979591613843,0.34802847754178495,0.34795055302084643,0.343721114481134,0.34904067535918587,0.35180055401197996,0.3472838137424157,0.35005973715186434,0.3501427212131284,0.3530990072396955,0.35546475995460336,0.36108698349223123,0.3601724539692359],\"yaxis\":\"y19\",\"type\":\"scattergl\"},{\"hovertemplate\":\"variable=pg<br>id=855996491<br>ym=%{x}<br>value=%{y}<extra></extra>\",\"legendgroup\":\"pg\",\"line\":{\"color\":\"#00cc96\",\"dash\":\"solid\"},\"marker\":{\"symbol\":\"circle\"},\"mode\":\"lines\",\"name\":\"pg\",\"showlegend\":false,\"x\":[\"2020-01-01T00:00:00\",\"2020-02-01T00:00:00\",\"2020-03-01T00:00:00\",\"2020-04-01T00:00:00\",\"2020-05-01T00:00:00\",\"2020-06-01T00:00:00\",\"2020-07-01T00:00:00\",\"2020-08-01T00:00:00\",\"2020-09-01T00:00:00\",\"2020-10-01T00:00:00\",\"2020-11-01T00:00:00\",\"2020-12-01T00:00:00\",\"2021-01-01T00:00:00\",\"2021-02-01T00:00:00\",\"2021-03-01T00:00:00\",\"2021-04-01T00:00:00\",\"2021-05-01T00:00:00\",\"2021-06-01T00:00:00\",\"2021-07-01T00:00:00\",\"2021-08-01T00:00:00\",\"2021-09-01T00:00:00\",\"2021-10-01T00:00:00\"],\"xaxis\":\"x20\",\"y\":[0.3234644851297009,0.3256692913365312,0.3222336065553135,0.3252211110450013,0.32863707824205685,0.3311306019444243,0.33216783216579454,0.3291153670751874,0.32517574924507014,0.32618208747486327,0.32420070011517294,0.3226323502458205,0.31986547085058353,0.32014874915328817,0.3210874029090211,0.32187921962880345,0.31916589188329936,0.3225167801423414,0.3195551825363081,0.329859537819218,0.32608695634451795,0.332361515938087],\"yaxis\":\"y20\",\"type\":\"scattergl\"},{\"hovertemplate\":\"variable=pg<br>id=1606708811<br>ym=%{x}<br>value=%{y}<extra></extra>\",\"legendgroup\":\"pg\",\"line\":{\"color\":\"#00cc96\",\"dash\":\"solid\"},\"marker\":{\"symbol\":\"circle\"},\"mode\":\"lines\",\"name\":\"pg\",\"showlegend\":false,\"x\":[\"2020-01-01T00:00:00\",\"2020-02-01T00:00:00\",\"2020-03-01T00:00:00\",\"2020-04-01T00:00:00\",\"2020-05-01T00:00:00\",\"2020-06-01T00:00:00\",\"2020-07-01T00:00:00\",\"2020-08-01T00:00:00\",\"2020-09-01T00:00:00\",\"2020-10-01T00:00:00\",\"2020-11-01T00:00:00\",\"2020-12-01T00:00:00\",\"2021-01-01T00:00:00\",\"2021-02-01T00:00:00\",\"2021-03-01T00:00:00\",\"2021-04-01T00:00:00\",\"2021-05-01T00:00:00\",\"2021-06-01T00:00:00\",\"2021-07-01T00:00:00\",\"2021-08-01T00:00:00\",\"2021-09-01T00:00:00\",\"2021-10-01T00:00:00\"],\"xaxis\":\"x13\",\"y\":[0.3274075818186083,0.32688520791929937,0.3276218252481757,0.3269447576062351,0.3261567741129278,0.32727891928337743,0.32676878190704145,0.3280716220953225,0.3294318181780746,0.3279928295315221,0.3248684511516258,0.3269421487567279,0.32640883977539875,0.3239247311788377,0.3275284661718293,0.3279048279010406,0.32798573974679157,0.3293353873203198,0.32957837141583973,0.32871522891732097,0.3281910638746635,0.32749661093168214],\"yaxis\":\"y13\",\"type\":\"scattergl\"},{\"hovertemplate\":\"variable=pg<br>id=1916407803<br>ym=%{x}<br>value=%{y}<extra></extra>\",\"legendgroup\":\"pg\",\"line\":{\"color\":\"#00cc96\",\"dash\":\"solid\"},\"marker\":{\"symbol\":\"circle\"},\"mode\":\"lines\",\"name\":\"pg\",\"showlegend\":false,\"x\":[\"2020-01-01T00:00:00\",\"2020-02-01T00:00:00\",\"2020-03-01T00:00:00\",\"2020-04-01T00:00:00\",\"2020-05-01T00:00:00\",\"2020-06-01T00:00:00\",\"2020-07-01T00:00:00\",\"2020-08-01T00:00:00\",\"2020-09-01T00:00:00\",\"2020-10-01T00:00:00\",\"2020-11-01T00:00:00\",\"2020-12-01T00:00:00\",\"2021-01-01T00:00:00\",\"2021-02-01T00:00:00\",\"2021-03-01T00:00:00\",\"2021-04-01T00:00:00\",\"2021-05-01T00:00:00\",\"2021-06-01T00:00:00\",\"2021-07-01T00:00:00\",\"2021-08-01T00:00:00\",\"2021-09-01T00:00:00\",\"2021-10-01T00:00:00\"],\"xaxis\":\"x14\",\"y\":[0.33263766254081495,0.3312803889735611,0.3338228095882881,0.33268514016638007,0.33239014646583903,0.3316900323473781,0.33242506811456285,0.3323386210093869,0.33240310077004026,0.3289585097340288,0.33182977053673607,0.33161512026921625,0.33122923587489655,0.3297464891422625,0.33403410417346335,0.33125334283595553,0.33091887416533694,0.330967349415312,0.3286071726347343,0.33487773486911515,0.32933333332601483,0.33301549462853364],\"yaxis\":\"y14\",\"type\":\"scattergl\"},{\"hovertemplate\":\"variable=pg<br>id=2071313507<br>ym=%{x}<br>value=%{y}<extra></extra>\",\"legendgroup\":\"pg\",\"line\":{\"color\":\"#00cc96\",\"dash\":\"solid\"},\"marker\":{\"symbol\":\"circle\"},\"mode\":\"lines\",\"name\":\"pg\",\"showlegend\":false,\"x\":[\"2020-01-01T00:00:00\",\"2020-02-01T00:00:00\",\"2020-03-01T00:00:00\",\"2020-04-01T00:00:00\",\"2020-05-01T00:00:00\",\"2020-06-01T00:00:00\",\"2020-07-01T00:00:00\",\"2020-08-01T00:00:00\",\"2020-09-01T00:00:00\",\"2020-10-01T00:00:00\",\"2020-11-01T00:00:00\",\"2020-12-01T00:00:00\",\"2021-01-01T00:00:00\",\"2021-02-01T00:00:00\",\"2021-03-01T00:00:00\",\"2021-04-01T00:00:00\",\"2021-05-01T00:00:00\",\"2021-06-01T00:00:00\",\"2021-07-01T00:00:00\",\"2021-08-01T00:00:00\",\"2021-09-01T00:00:00\",\"2021-10-01T00:00:00\"],\"xaxis\":\"x15\",\"y\":[0.333240650630243,0.3333812742677018,0.33365680090301103,0.3312635827357089,0.33169693994164867,0.3282258064489659,0.32445520580851933,0.32455868689745615,0.32233273055815,0.32545995018749313,0.32606873428058614,0.32688708670986516,0.326826196470979,0.33193660047065093,0.32759476907525575,0.32779429770572155,0.3288578901453456,0.3264192139708295,0.32658450703937864,0.3260948905079736,0.32237813884488203,0.3259808352890437],\"yaxis\":\"y15\",\"type\":\"scattergl\"},{\"hovertemplate\":\"variable=pg<br>id=2172970175<br>ym=%{x}<br>value=%{y}<extra></extra>\",\"legendgroup\":\"pg\",\"line\":{\"color\":\"#00cc96\",\"dash\":\"solid\"},\"marker\":{\"symbol\":\"circle\"},\"mode\":\"lines\",\"name\":\"pg\",\"showlegend\":false,\"x\":[\"2020-01-01T00:00:00\",\"2020-02-01T00:00:00\",\"2020-03-01T00:00:00\",\"2020-04-01T00:00:00\",\"2020-05-01T00:00:00\",\"2020-06-01T00:00:00\",\"2020-07-01T00:00:00\",\"2020-08-01T00:00:00\",\"2020-09-01T00:00:00\",\"2020-10-01T00:00:00\",\"2020-11-01T00:00:00\",\"2020-12-01T00:00:00\",\"2021-01-01T00:00:00\",\"2021-02-01T00:00:00\",\"2021-03-01T00:00:00\",\"2021-04-01T00:00:00\",\"2021-05-01T00:00:00\",\"2021-06-01T00:00:00\",\"2021-07-01T00:00:00\",\"2021-08-01T00:00:00\",\"2021-09-01T00:00:00\",\"2021-10-01T00:00:00\"],\"xaxis\":\"x16\",\"y\":[0.34384999359820906,0.3440655362904422,0.35503855532620415,0.3389676244939607,0.3309482412710248,0.31820569387373565,0.32029257494672875,0.3229308005412299,0.3223437658243576,0.31737593665964264,0.31915154487298214,0.3326428448107909,0.3339592579928647,0.3379255530511463,0.3282420239409787,0.32556012802713724,0.3150596392248953,0.3140421476209147,0.3101033005779284,0.31015696639349394,0.3068738388768402,0.3106761982871752],\"yaxis\":\"y16\",\"type\":\"scattergl\"},{\"hovertemplate\":\"variable=pg<br>id=2186749200<br>ym=%{x}<br>value=%{y}<extra></extra>\",\"legendgroup\":\"pg\",\"line\":{\"color\":\"#00cc96\",\"dash\":\"solid\"},\"marker\":{\"symbol\":\"circle\"},\"mode\":\"lines\",\"name\":\"pg\",\"showlegend\":false,\"x\":[\"2020-01-01T00:00:00\",\"2020-02-01T00:00:00\",\"2020-03-01T00:00:00\",\"2020-04-01T00:00:00\",\"2020-05-01T00:00:00\",\"2020-06-01T00:00:00\",\"2020-07-01T00:00:00\",\"2020-08-01T00:00:00\",\"2020-09-01T00:00:00\",\"2020-10-01T00:00:00\",\"2020-11-01T00:00:00\",\"2020-12-01T00:00:00\",\"2021-01-01T00:00:00\",\"2021-02-01T00:00:00\",\"2021-03-01T00:00:00\",\"2021-04-01T00:00:00\",\"2021-05-01T00:00:00\",\"2021-06-01T00:00:00\",\"2021-07-01T00:00:00\",\"2021-08-01T00:00:00\",\"2021-09-01T00:00:00\",\"2021-10-01T00:00:00\"],\"xaxis\":\"x9\",\"y\":[0.31879316611561626,0.32332089551635596,0.32393790849011567,0.31960096064438204,0.3256522567068053,0.3248214285656282,0.32470755050824696,0.32178830181442325,0.31947743467391454,0.32056835903378467,0.319007039638403,0.3183348095603484,0.32236272301537566,0.3229001584722088,0.3187954309394463,0.3258862629186506,0.3241923365849713,0.327717768305146,0.33044747081390613,0.3313350944896227,0.33143879591273084,0.33153885220587564],\"yaxis\":\"y9\",\"type\":\"scattergl\"},{\"hovertemplate\":\"variable=pg<br>id=2212416005<br>ym=%{x}<br>value=%{y}<extra></extra>\",\"legendgroup\":\"pg\",\"line\":{\"color\":\"#00cc96\",\"dash\":\"solid\"},\"marker\":{\"symbol\":\"circle\"},\"mode\":\"lines\",\"name\":\"pg\",\"showlegend\":false,\"x\":[\"2020-01-01T00:00:00\",\"2020-02-01T00:00:00\",\"2020-03-01T00:00:00\",\"2020-04-01T00:00:00\",\"2020-05-01T00:00:00\",\"2020-06-01T00:00:00\",\"2020-07-01T00:00:00\",\"2020-08-01T00:00:00\",\"2020-09-01T00:00:00\",\"2020-10-01T00:00:00\",\"2020-11-01T00:00:00\",\"2020-12-01T00:00:00\",\"2021-01-01T00:00:00\",\"2021-02-01T00:00:00\",\"2021-03-01T00:00:00\",\"2021-04-01T00:00:00\",\"2021-05-01T00:00:00\",\"2021-06-01T00:00:00\",\"2021-07-01T00:00:00\",\"2021-08-01T00:00:00\",\"2021-09-01T00:00:00\",\"2021-10-01T00:00:00\"],\"xaxis\":\"x10\",\"y\":[0.30681743040199155,0.30846632057739876,0.31720909495974725,0.313231447058287,0.3118938961757566,0.3125269313615726,0.3104627173574391,0.30915128320402324,0.3094365551974952,0.30746482077180637,0.30787965615825297,0.3055360896965274,0.30696584534327226,0.3100965221364325,0.3068627450958903,0.30713162783830833,0.3059825647148068,0.3071004483199618,0.3061446749953792,0.30753068671730877,0.30615593527041896,0.3057743596085978],\"yaxis\":\"y10\",\"type\":\"scattergl\"},{\"hovertemplate\":\"variable=pg<br>id=2251440776<br>ym=%{x}<br>value=%{y}<extra></extra>\",\"legendgroup\":\"pg\",\"line\":{\"color\":\"#00cc96\",\"dash\":\"solid\"},\"marker\":{\"symbol\":\"circle\"},\"mode\":\"lines\",\"name\":\"pg\",\"showlegend\":false,\"x\":[\"2020-01-01T00:00:00\",\"2020-02-01T00:00:00\",\"2020-03-01T00:00:00\",\"2020-04-01T00:00:00\",\"2020-05-01T00:00:00\",\"2020-06-01T00:00:00\",\"2020-07-01T00:00:00\",\"2020-08-01T00:00:00\",\"2020-09-01T00:00:00\",\"2020-10-01T00:00:00\",\"2020-11-01T00:00:00\",\"2020-12-01T00:00:00\",\"2021-01-01T00:00:00\",\"2021-02-01T00:00:00\",\"2021-03-01T00:00:00\",\"2021-04-01T00:00:00\",\"2021-05-01T00:00:00\",\"2021-06-01T00:00:00\",\"2021-07-01T00:00:00\",\"2021-08-01T00:00:00\",\"2021-09-01T00:00:00\",\"2021-10-01T00:00:00\"],\"xaxis\":\"x11\",\"y\":[0.3462837837252899,0.4430199429568348,0.329859537819218,0.3400556328186362,0.3423871038937574,0.32892124420641194,0.33666751076008694,0.3480919107743342,0.335439610034885,0.28822937625029604,0.32111337405563095,0.3370680628236956,0.33832151920593045,0.3332732353706547,0.3241476770831276,0.3422818791919597,0.33350369108271716,0.331095258076068,0.3316784418539133,0.32603988603802825,0.32841565105645565,0.3292249730875714],\"yaxis\":\"y11\",\"type\":\"scattergl\"},{\"hovertemplate\":\"variable=pg<br>id=2256064355<br>ym=%{x}<br>value=%{y}<extra></extra>\",\"legendgroup\":\"pg\",\"line\":{\"color\":\"#00cc96\",\"dash\":\"solid\"},\"marker\":{\"symbol\":\"circle\"},\"mode\":\"lines\",\"name\":\"pg\",\"showlegend\":false,\"x\":[\"2020-01-01T00:00:00\",\"2020-02-01T00:00:00\",\"2020-03-01T00:00:00\",\"2020-04-01T00:00:00\",\"2020-05-01T00:00:00\",\"2020-06-01T00:00:00\",\"2020-07-01T00:00:00\",\"2020-08-01T00:00:00\",\"2020-09-01T00:00:00\",\"2020-10-01T00:00:00\",\"2020-11-01T00:00:00\",\"2020-12-01T00:00:00\",\"2021-01-01T00:00:00\",\"2021-02-01T00:00:00\",\"2021-03-01T00:00:00\",\"2021-04-01T00:00:00\",\"2021-05-01T00:00:00\",\"2021-06-01T00:00:00\",\"2021-07-01T00:00:00\",\"2021-08-01T00:00:00\",\"2021-09-01T00:00:00\",\"2021-10-01T00:00:00\"],\"xaxis\":\"x12\",\"y\":[0.31179280864712267,0.3115449235913949,0.31641817854934057,0.31388211552750456,0.31163314840229167,0.3114451255326942,0.31251090559839023,0.31172496365080193,0.31109014494972903,0.3092690859281527,0.30789519957527783,0.30750844803175215,0.31309930115136436,0.31118199538976443,0.3123849372358796,0.3112253641789955,0.3116438356138972,0.3118180292067163,0.31192363694942626,0.3134767836895925,0.3131335886437401,0.312763510921328],\"yaxis\":\"y12\",\"type\":\"scattergl\"},{\"hovertemplate\":\"variable=pg<br>id=2347718608<br>ym=%{x}<br>value=%{y}<extra></extra>\",\"legendgroup\":\"pg\",\"line\":{\"color\":\"#00cc96\",\"dash\":\"solid\"},\"marker\":{\"symbol\":\"circle\"},\"mode\":\"lines\",\"name\":\"pg\",\"showlegend\":false,\"x\":[\"2020-01-01T00:00:00\",\"2020-02-01T00:00:00\",\"2020-03-01T00:00:00\",\"2020-04-01T00:00:00\",\"2020-05-01T00:00:00\",\"2020-06-01T00:00:00\",\"2020-07-01T00:00:00\",\"2020-08-01T00:00:00\",\"2020-09-01T00:00:00\",\"2020-10-01T00:00:00\",\"2020-11-01T00:00:00\",\"2020-12-01T00:00:00\",\"2021-01-01T00:00:00\",\"2021-02-01T00:00:00\",\"2021-03-01T00:00:00\",\"2021-04-01T00:00:00\",\"2021-05-01T00:00:00\",\"2021-06-01T00:00:00\",\"2021-07-01T00:00:00\",\"2021-08-01T00:00:00\",\"2021-09-01T00:00:00\",\"2021-10-01T00:00:00\"],\"xaxis\":\"x5\",\"y\":[0.31590230456844115,0.3205033308636528,0.3352049910843564,0.32742133224088743,0.32520191198017795,0.3207753634491107,0.3211304850812236,0.3144188799266522,0.30518804816184636,0.30178182091458616,0.30402196497251394,0.3078437807659478,0.3063448552496734,0.3247797186557058,0.3114106753791434,0.3155708855390992,0.3081158106074997,0.30528983211716637,0.30217444120321807,0.30276068011272617,0.3009080731415542,0.30439800753065],\"yaxis\":\"y5\",\"type\":\"scattergl\"},{\"hovertemplate\":\"variable=pg<br>id=2347718610<br>ym=%{x}<br>value=%{y}<extra></extra>\",\"legendgroup\":\"pg\",\"line\":{\"color\":\"#00cc96\",\"dash\":\"solid\"},\"marker\":{\"symbol\":\"circle\"},\"mode\":\"lines\",\"name\":\"pg\",\"showlegend\":false,\"x\":[\"2020-01-01T00:00:00\",\"2020-02-01T00:00:00\",\"2020-03-01T00:00:00\",\"2020-04-01T00:00:00\",\"2020-05-01T00:00:00\",\"2020-06-01T00:00:00\",\"2020-07-01T00:00:00\",\"2020-08-01T00:00:00\",\"2020-09-01T00:00:00\",\"2020-10-01T00:00:00\",\"2020-11-01T00:00:00\",\"2020-12-01T00:00:00\",\"2021-01-01T00:00:00\",\"2021-02-01T00:00:00\",\"2021-03-01T00:00:00\",\"2021-04-01T00:00:00\",\"2021-05-01T00:00:00\",\"2021-06-01T00:00:00\",\"2021-07-01T00:00:00\",\"2021-08-01T00:00:00\",\"2021-09-01T00:00:00\",\"2021-10-01T00:00:00\"],\"xaxis\":\"x6\",\"y\":[0.32213951877858626,0.32746416563150355,0.33805229936575243,0.34332735864149155,0.3312360294698962,0.3274707483970309,0.32536956846106185,0.3279596619534979,0.32578421718718675,0.32493027635798133,0.31994799941990504,0.3245526127392659,0.3248877949882374,0.33202439635448217,0.32953602413934713,0.3268590455024032,0.31983559141178386,0.31444670527223,0.3147867010754912,0.3200089995476225,0.32101211797636603,0.31722553313479407],\"yaxis\":\"y6\",\"type\":\"scattergl\"},{\"hovertemplate\":\"variable=pg<br>id=2427050072<br>ym=%{x}<br>value=%{y}<extra></extra>\",\"legendgroup\":\"pg\",\"line\":{\"color\":\"#00cc96\",\"dash\":\"solid\"},\"marker\":{\"symbol\":\"circle\"},\"mode\":\"lines\",\"name\":\"pg\",\"showlegend\":false,\"x\":[\"2020-01-01T00:00:00\",\"2020-02-01T00:00:00\",\"2020-03-01T00:00:00\",\"2020-04-01T00:00:00\",\"2020-05-01T00:00:00\",\"2020-06-01T00:00:00\",\"2020-07-01T00:00:00\",\"2020-08-01T00:00:00\",\"2020-09-01T00:00:00\",\"2020-10-01T00:00:00\",\"2020-11-01T00:00:00\",\"2020-12-01T00:00:00\",\"2021-01-01T00:00:00\",\"2021-02-01T00:00:00\",\"2021-03-01T00:00:00\",\"2021-04-01T00:00:00\",\"2021-05-01T00:00:00\",\"2021-06-01T00:00:00\",\"2021-07-01T00:00:00\",\"2021-08-01T00:00:00\",\"2021-09-01T00:00:00\",\"2021-10-01T00:00:00\"],\"xaxis\":\"x7\",\"y\":[0.3342559080228416,0.3373236425786947,0.33446289393048156,0.3347789295500869,0.33457656866679925,0.3344318060982839,0.33428477329746087,0.33403962283786376,0.33138147906819143,0.3361154488162397,0.33402376539481055,0.3343898573657222,0.33411091082245664,0.33430844839299895,0.33421863380076255,0.3381688466071561,0.3246056091112554,0.3344943942491075,0.3291757747160965,0.3343164103609193,0.33406065895337045,0.3340367166033547],\"yaxis\":\"y7\",\"type\":\"scattergl\"},{\"hovertemplate\":\"variable=pg<br>id=2445049876<br>ym=%{x}<br>value=%{y}<extra></extra>\",\"legendgroup\":\"pg\",\"line\":{\"color\":\"#00cc96\",\"dash\":\"solid\"},\"marker\":{\"symbol\":\"circle\"},\"mode\":\"lines\",\"name\":\"pg\",\"showlegend\":false,\"x\":[\"2020-01-01T00:00:00\",\"2020-02-01T00:00:00\",\"2020-03-01T00:00:00\",\"2020-04-01T00:00:00\",\"2020-05-01T00:00:00\",\"2020-06-01T00:00:00\",\"2020-07-01T00:00:00\",\"2020-08-01T00:00:00\",\"2020-09-01T00:00:00\",\"2020-10-01T00:00:00\",\"2020-11-01T00:00:00\",\"2020-12-01T00:00:00\",\"2021-01-01T00:00:00\",\"2021-02-01T00:00:00\",\"2021-03-01T00:00:00\",\"2021-04-01T00:00:00\",\"2021-05-01T00:00:00\",\"2021-06-01T00:00:00\",\"2021-07-01T00:00:00\",\"2021-08-01T00:00:00\",\"2021-09-01T00:00:00\",\"2021-10-01T00:00:00\"],\"xaxis\":\"x8\",\"y\":[0.31151107594628646,0.31329052344509345,0.31885280472038324,0.31374876359729226,0.31268973891608287,0.3133033916655312,0.3136200716822459,0.30762589927836237,0.31427797344680114,0.31400240384497446,0.31349911189774865,0.3126629422689696,0.3105305145561375,0.31207598371424605,0.3116936309613793,0.3117485762464485,0.31514117869703295,0.3148610417680574,0.31472244569336505,0.3136777127979721,0.31247759053144064,0.31202137132402474],\"yaxis\":\"y8\",\"type\":\"scattergl\"},{\"hovertemplate\":\"variable=pg<br>id=2471562086<br>ym=%{x}<br>value=%{y}<extra></extra>\",\"legendgroup\":\"pg\",\"line\":{\"color\":\"#00cc96\",\"dash\":\"solid\"},\"marker\":{\"symbol\":\"circle\"},\"mode\":\"lines\",\"name\":\"pg\",\"showlegend\":false,\"x\":[\"2020-01-01T00:00:00\",\"2020-02-01T00:00:00\",\"2020-03-01T00:00:00\",\"2020-04-01T00:00:00\",\"2020-05-01T00:00:00\",\"2020-06-01T00:00:00\",\"2020-07-01T00:00:00\",\"2020-08-01T00:00:00\",\"2020-09-01T00:00:00\",\"2020-10-01T00:00:00\",\"2020-11-01T00:00:00\",\"2020-12-01T00:00:00\",\"2021-01-01T00:00:00\",\"2021-02-01T00:00:00\",\"2021-03-01T00:00:00\",\"2021-04-01T00:00:00\",\"2021-05-01T00:00:00\",\"2021-06-01T00:00:00\",\"2021-07-01T00:00:00\",\"2021-08-01T00:00:00\",\"2021-09-01T00:00:00\",\"2021-10-01T00:00:00\"],\"xaxis\":\"x\",\"y\":[0.3266409266388247,0.3335778592842042,0.34362578080392087,0.3160666176811409,0.31314285714097356,0.30051667449365654,0.30264275812591046,0.30350546550959856,0.29972860791706685,0.3048072988124869,0.30546781396195694,0.3070057083533627,0.31262135922170353,0.3202127009331935,0.30636975660120985,0.30990447974505847,0.3045020334800695,0.30917431192542366,0.30502930931821837,0.30398465799998303,0.2958203646051764,0.3037137681145665],\"yaxis\":\"y\",\"type\":\"scattergl\"},{\"hovertemplate\":\"variable=pg<br>id=2479963778<br>ym=%{x}<br>value=%{y}<extra></extra>\",\"legendgroup\":\"pg\",\"line\":{\"color\":\"#00cc96\",\"dash\":\"solid\"},\"marker\":{\"symbol\":\"circle\"},\"mode\":\"lines\",\"name\":\"pg\",\"showlegend\":false,\"x\":[\"2020-01-01T00:00:00\",\"2020-02-01T00:00:00\",\"2020-03-01T00:00:00\",\"2020-04-01T00:00:00\",\"2020-05-01T00:00:00\",\"2020-06-01T00:00:00\",\"2020-07-01T00:00:00\",\"2020-08-01T00:00:00\",\"2020-09-01T00:00:00\",\"2020-10-01T00:00:00\",\"2020-11-01T00:00:00\",\"2020-12-01T00:00:00\",\"2021-01-01T00:00:00\",\"2021-02-01T00:00:00\",\"2021-03-01T00:00:00\",\"2021-04-01T00:00:00\",\"2021-05-01T00:00:00\",\"2021-06-01T00:00:00\",\"2021-07-01T00:00:00\",\"2021-08-01T00:00:00\",\"2021-09-01T00:00:00\",\"2021-10-01T00:00:00\"],\"xaxis\":\"x2\",\"y\":[0.3092795945419418,0.31035986913511054,0.3136134006871362,0.30507201001496465,0.3033896120595001,0.306181733670623,0.30545527476629103,0.31188799175131515,0.31001484903225524,0.30686390051486623,0.30185693183897594,0.30308101190763775,0.29785770439958864,0.30501846621437084,0.30067252974339703,0.29813026504727624,0.3052298211049796,0.30339138404854815,0.307274075291974,0.307225303550388,0.30567438856803875,0.29859517032137917],\"yaxis\":\"y2\",\"type\":\"scattergl\"},{\"hovertemplate\":\"variable=pg<br>id=2496032641<br>ym=%{x}<br>value=%{y}<extra></extra>\",\"legendgroup\":\"pg\",\"line\":{\"color\":\"#00cc96\",\"dash\":\"solid\"},\"marker\":{\"symbol\":\"circle\"},\"mode\":\"lines\",\"name\":\"pg\",\"showlegend\":false,\"x\":[\"2020-01-01T00:00:00\",\"2020-02-01T00:00:00\",\"2020-03-01T00:00:00\",\"2020-04-01T00:00:00\",\"2020-05-01T00:00:00\",\"2020-06-01T00:00:00\",\"2020-07-01T00:00:00\",\"2020-08-01T00:00:00\",\"2020-09-01T00:00:00\",\"2020-10-01T00:00:00\",\"2020-11-01T00:00:00\",\"2020-12-01T00:00:00\",\"2021-01-01T00:00:00\",\"2021-02-01T00:00:00\",\"2021-03-01T00:00:00\",\"2021-04-01T00:00:00\",\"2021-05-01T00:00:00\",\"2021-06-01T00:00:00\",\"2021-07-01T00:00:00\",\"2021-08-01T00:00:00\",\"2021-09-01T00:00:00\",\"2021-10-01T00:00:00\"],\"xaxis\":\"x3\",\"y\":[0.3241100050588484,0.32748735244243266,0.33471074379850946,0.32565905096374637,0.32301873817841653,0.3181021897787,0.318539409230232,0.3188629692544503,0.3178011268439333,0.307453416147778,0.3109955709579145,0.3163528977453271,0.3150353554120298,0.3243592504811075,0.31827631827331054,0.3153877887756251,0.30149744338658235,0.28978708047374785,0.30385303202484265,0.30359832635729206,0.3062761506244113,0.3069505825601953],\"yaxis\":\"y3\",\"type\":\"scattergl\"},{\"hovertemplate\":\"variable=pg<br>id=2523401557<br>ym=%{x}<br>value=%{y}<extra></extra>\",\"legendgroup\":\"pg\",\"line\":{\"color\":\"#00cc96\",\"dash\":\"solid\"},\"marker\":{\"symbol\":\"circle\"},\"mode\":\"lines\",\"name\":\"pg\",\"showlegend\":false,\"x\":[\"2020-01-01T00:00:00\",\"2020-02-01T00:00:00\",\"2020-03-01T00:00:00\",\"2020-04-01T00:00:00\",\"2020-05-01T00:00:00\",\"2020-06-01T00:00:00\",\"2020-07-01T00:00:00\",\"2020-08-01T00:00:00\",\"2020-09-01T00:00:00\",\"2020-10-01T00:00:00\",\"2020-11-01T00:00:00\",\"2020-12-01T00:00:00\",\"2021-01-01T00:00:00\",\"2021-02-01T00:00:00\",\"2021-03-01T00:00:00\",\"2021-04-01T00:00:00\",\"2021-05-01T00:00:00\",\"2021-06-01T00:00:00\",\"2021-07-01T00:00:00\",\"2021-08-01T00:00:00\",\"2021-09-01T00:00:00\",\"2021-10-01T00:00:00\"],\"xaxis\":\"x4\",\"y\":[0.3185333000708589,0.30090972707836583,0.3310943184952268,0.3095431197579137,0.31647281579231173,0.3015444961963527,0.3087988044058584,0.3080912863047711,0.3080767692892035,0.30827462937489075,0.3084775854382104,0.3167701863320114,0.31977201257547394,0.31470230862315063,0.3090597558330578,0.3085199824296385,0.3073100020676402,0.30981465880044423,0.3057715923014145,0.30890595806197935,0.302034107249825,0.30429319371409114],\"yaxis\":\"y4\",\"type\":\"scattergl\"}],                        {\"template\":{\"data\":{\"bar\":[{\"error_x\":{\"color\":\"#2a3f5f\"},\"error_y\":{\"color\":\"#2a3f5f\"},\"marker\":{\"line\":{\"color\":\"#E5ECF6\",\"width\":0.5},\"pattern\":{\"fillmode\":\"overlay\",\"size\":10,\"solidity\":0.2}},\"type\":\"bar\"}],\"barpolar\":[{\"marker\":{\"line\":{\"color\":\"#E5ECF6\",\"width\":0.5},\"pattern\":{\"fillmode\":\"overlay\",\"size\":10,\"solidity\":0.2}},\"type\":\"barpolar\"}],\"carpet\":[{\"aaxis\":{\"endlinecolor\":\"#2a3f5f\",\"gridcolor\":\"white\",\"linecolor\":\"white\",\"minorgridcolor\":\"white\",\"startlinecolor\":\"#2a3f5f\"},\"baxis\":{\"endlinecolor\":\"#2a3f5f\",\"gridcolor\":\"white\",\"linecolor\":\"white\",\"minorgridcolor\":\"white\",\"startlinecolor\":\"#2a3f5f\"},\"type\":\"carpet\"}],\"choropleth\":[{\"colorbar\":{\"outlinewidth\":0,\"ticks\":\"\"},\"type\":\"choropleth\"}],\"contour\":[{\"colorbar\":{\"outlinewidth\":0,\"ticks\":\"\"},\"colorscale\":[[0.0,\"#0d0887\"],[0.1111111111111111,\"#46039f\"],[0.2222222222222222,\"#7201a8\"],[0.3333333333333333,\"#9c179e\"],[0.4444444444444444,\"#bd3786\"],[0.5555555555555556,\"#d8576b\"],[0.6666666666666666,\"#ed7953\"],[0.7777777777777778,\"#fb9f3a\"],[0.8888888888888888,\"#fdca26\"],[1.0,\"#f0f921\"]],\"type\":\"contour\"}],\"contourcarpet\":[{\"colorbar\":{\"outlinewidth\":0,\"ticks\":\"\"},\"type\":\"contourcarpet\"}],\"heatmap\":[{\"colorbar\":{\"outlinewidth\":0,\"ticks\":\"\"},\"colorscale\":[[0.0,\"#0d0887\"],[0.1111111111111111,\"#46039f\"],[0.2222222222222222,\"#7201a8\"],[0.3333333333333333,\"#9c179e\"],[0.4444444444444444,\"#bd3786\"],[0.5555555555555556,\"#d8576b\"],[0.6666666666666666,\"#ed7953\"],[0.7777777777777778,\"#fb9f3a\"],[0.8888888888888888,\"#fdca26\"],[1.0,\"#f0f921\"]],\"type\":\"heatmap\"}],\"heatmapgl\":[{\"colorbar\":{\"outlinewidth\":0,\"ticks\":\"\"},\"colorscale\":[[0.0,\"#0d0887\"],[0.1111111111111111,\"#46039f\"],[0.2222222222222222,\"#7201a8\"],[0.3333333333333333,\"#9c179e\"],[0.4444444444444444,\"#bd3786\"],[0.5555555555555556,\"#d8576b\"],[0.6666666666666666,\"#ed7953\"],[0.7777777777777778,\"#fb9f3a\"],[0.8888888888888888,\"#fdca26\"],[1.0,\"#f0f921\"]],\"type\":\"heatmapgl\"}],\"histogram\":[{\"marker\":{\"pattern\":{\"fillmode\":\"overlay\",\"size\":10,\"solidity\":0.2}},\"type\":\"histogram\"}],\"histogram2d\":[{\"colorbar\":{\"outlinewidth\":0,\"ticks\":\"\"},\"colorscale\":[[0.0,\"#0d0887\"],[0.1111111111111111,\"#46039f\"],[0.2222222222222222,\"#7201a8\"],[0.3333333333333333,\"#9c179e\"],[0.4444444444444444,\"#bd3786\"],[0.5555555555555556,\"#d8576b\"],[0.6666666666666666,\"#ed7953\"],[0.7777777777777778,\"#fb9f3a\"],[0.8888888888888888,\"#fdca26\"],[1.0,\"#f0f921\"]],\"type\":\"histogram2d\"}],\"histogram2dcontour\":[{\"colorbar\":{\"outlinewidth\":0,\"ticks\":\"\"},\"colorscale\":[[0.0,\"#0d0887\"],[0.1111111111111111,\"#46039f\"],[0.2222222222222222,\"#7201a8\"],[0.3333333333333333,\"#9c179e\"],[0.4444444444444444,\"#bd3786\"],[0.5555555555555556,\"#d8576b\"],[0.6666666666666666,\"#ed7953\"],[0.7777777777777778,\"#fb9f3a\"],[0.8888888888888888,\"#fdca26\"],[1.0,\"#f0f921\"]],\"type\":\"histogram2dcontour\"}],\"mesh3d\":[{\"colorbar\":{\"outlinewidth\":0,\"ticks\":\"\"},\"type\":\"mesh3d\"}],\"parcoords\":[{\"line\":{\"colorbar\":{\"outlinewidth\":0,\"ticks\":\"\"}},\"type\":\"parcoords\"}],\"pie\":[{\"automargin\":true,\"type\":\"pie\"}],\"scatter\":[{\"marker\":{\"colorbar\":{\"outlinewidth\":0,\"ticks\":\"\"}},\"type\":\"scatter\"}],\"scatter3d\":[{\"line\":{\"colorbar\":{\"outlinewidth\":0,\"ticks\":\"\"}},\"marker\":{\"colorbar\":{\"outlinewidth\":0,\"ticks\":\"\"}},\"type\":\"scatter3d\"}],\"scattercarpet\":[{\"marker\":{\"colorbar\":{\"outlinewidth\":0,\"ticks\":\"\"}},\"type\":\"scattercarpet\"}],\"scattergeo\":[{\"marker\":{\"colorbar\":{\"outlinewidth\":0,\"ticks\":\"\"}},\"type\":\"scattergeo\"}],\"scattergl\":[{\"marker\":{\"colorbar\":{\"outlinewidth\":0,\"ticks\":\"\"}},\"type\":\"scattergl\"}],\"scattermapbox\":[{\"marker\":{\"colorbar\":{\"outlinewidth\":0,\"ticks\":\"\"}},\"type\":\"scattermapbox\"}],\"scatterpolar\":[{\"marker\":{\"colorbar\":{\"outlinewidth\":0,\"ticks\":\"\"}},\"type\":\"scatterpolar\"}],\"scatterpolargl\":[{\"marker\":{\"colorbar\":{\"outlinewidth\":0,\"ticks\":\"\"}},\"type\":\"scatterpolargl\"}],\"scatterternary\":[{\"marker\":{\"colorbar\":{\"outlinewidth\":0,\"ticks\":\"\"}},\"type\":\"scatterternary\"}],\"surface\":[{\"colorbar\":{\"outlinewidth\":0,\"ticks\":\"\"},\"colorscale\":[[0.0,\"#0d0887\"],[0.1111111111111111,\"#46039f\"],[0.2222222222222222,\"#7201a8\"],[0.3333333333333333,\"#9c179e\"],[0.4444444444444444,\"#bd3786\"],[0.5555555555555556,\"#d8576b\"],[0.6666666666666666,\"#ed7953\"],[0.7777777777777778,\"#fb9f3a\"],[0.8888888888888888,\"#fdca26\"],[1.0,\"#f0f921\"]],\"type\":\"surface\"}],\"table\":[{\"cells\":{\"fill\":{\"color\":\"#EBF0F8\"},\"line\":{\"color\":\"white\"}},\"header\":{\"fill\":{\"color\":\"#C8D4E3\"},\"line\":{\"color\":\"white\"}},\"type\":\"table\"}]},\"layout\":{\"annotationdefaults\":{\"arrowcolor\":\"#2a3f5f\",\"arrowhead\":0,\"arrowwidth\":1},\"autotypenumbers\":\"strict\",\"coloraxis\":{\"colorbar\":{\"outlinewidth\":0,\"ticks\":\"\"}},\"colorscale\":{\"diverging\":[[0,\"#8e0152\"],[0.1,\"#c51b7d\"],[0.2,\"#de77ae\"],[0.3,\"#f1b6da\"],[0.4,\"#fde0ef\"],[0.5,\"#f7f7f7\"],[0.6,\"#e6f5d0\"],[0.7,\"#b8e186\"],[0.8,\"#7fbc41\"],[0.9,\"#4d9221\"],[1,\"#276419\"]],\"sequential\":[[0.0,\"#0d0887\"],[0.1111111111111111,\"#46039f\"],[0.2222222222222222,\"#7201a8\"],[0.3333333333333333,\"#9c179e\"],[0.4444444444444444,\"#bd3786\"],[0.5555555555555556,\"#d8576b\"],[0.6666666666666666,\"#ed7953\"],[0.7777777777777778,\"#fb9f3a\"],[0.8888888888888888,\"#fdca26\"],[1.0,\"#f0f921\"]],\"sequentialminus\":[[0.0,\"#0d0887\"],[0.1111111111111111,\"#46039f\"],[0.2222222222222222,\"#7201a8\"],[0.3333333333333333,\"#9c179e\"],[0.4444444444444444,\"#bd3786\"],[0.5555555555555556,\"#d8576b\"],[0.6666666666666666,\"#ed7953\"],[0.7777777777777778,\"#fb9f3a\"],[0.8888888888888888,\"#fdca26\"],[1.0,\"#f0f921\"]]},\"colorway\":[\"#636efa\",\"#EF553B\",\"#00cc96\",\"#ab63fa\",\"#FFA15A\",\"#19d3f3\",\"#FF6692\",\"#B6E880\",\"#FF97FF\",\"#FECB52\"],\"font\":{\"color\":\"#2a3f5f\"},\"geo\":{\"bgcolor\":\"white\",\"lakecolor\":\"white\",\"landcolor\":\"#E5ECF6\",\"showlakes\":true,\"showland\":true,\"subunitcolor\":\"white\"},\"hoverlabel\":{\"align\":\"left\"},\"hovermode\":\"closest\",\"mapbox\":{\"style\":\"light\"},\"paper_bgcolor\":\"white\",\"plot_bgcolor\":\"#E5ECF6\",\"polar\":{\"angularaxis\":{\"gridcolor\":\"white\",\"linecolor\":\"white\",\"ticks\":\"\"},\"bgcolor\":\"#E5ECF6\",\"radialaxis\":{\"gridcolor\":\"white\",\"linecolor\":\"white\",\"ticks\":\"\"}},\"scene\":{\"xaxis\":{\"backgroundcolor\":\"#E5ECF6\",\"gridcolor\":\"white\",\"gridwidth\":2,\"linecolor\":\"white\",\"showbackground\":true,\"ticks\":\"\",\"zerolinecolor\":\"white\"},\"yaxis\":{\"backgroundcolor\":\"#E5ECF6\",\"gridcolor\":\"white\",\"gridwidth\":2,\"linecolor\":\"white\",\"showbackground\":true,\"ticks\":\"\",\"zerolinecolor\":\"white\"},\"zaxis\":{\"backgroundcolor\":\"#E5ECF6\",\"gridcolor\":\"white\",\"gridwidth\":2,\"linecolor\":\"white\",\"showbackground\":true,\"ticks\":\"\",\"zerolinecolor\":\"white\"}},\"shapedefaults\":{\"line\":{\"color\":\"#2a3f5f\"}},\"ternary\":{\"aaxis\":{\"gridcolor\":\"white\",\"linecolor\":\"white\",\"ticks\":\"\"},\"baxis\":{\"gridcolor\":\"white\",\"linecolor\":\"white\",\"ticks\":\"\"},\"bgcolor\":\"#E5ECF6\",\"caxis\":{\"gridcolor\":\"white\",\"linecolor\":\"white\",\"ticks\":\"\"}},\"title\":{\"x\":0.05},\"xaxis\":{\"automargin\":true,\"gridcolor\":\"white\",\"linecolor\":\"white\",\"ticks\":\"\",\"title\":{\"standoff\":15},\"zerolinecolor\":\"white\",\"zerolinewidth\":2},\"yaxis\":{\"automargin\":true,\"gridcolor\":\"white\",\"linecolor\":\"white\",\"ticks\":\"\",\"title\":{\"standoff\":15},\"zerolinecolor\":\"white\",\"zerolinewidth\":2}}},\"xaxis\":{\"anchor\":\"y\",\"domain\":[0.0,0.235],\"title\":{\"text\":\"ym\"}},\"yaxis\":{\"anchor\":\"x\",\"domain\":[0.0,0.144],\"title\":{\"text\":\"value\"},\"range\":[0,1]},\"xaxis2\":{\"anchor\":\"y2\",\"domain\":[0.255,0.49],\"matches\":\"x\",\"title\":{\"text\":\"ym\"}},\"yaxis2\":{\"anchor\":\"x2\",\"domain\":[0.0,0.144],\"matches\":\"y\",\"showticklabels\":false},\"xaxis3\":{\"anchor\":\"y3\",\"domain\":[0.51,0.745],\"matches\":\"x\",\"title\":{\"text\":\"ym\"}},\"yaxis3\":{\"anchor\":\"x3\",\"domain\":[0.0,0.144],\"matches\":\"y\",\"showticklabels\":false},\"xaxis4\":{\"anchor\":\"y4\",\"domain\":[0.7649999999999999,0.9999999999999999],\"matches\":\"x\",\"title\":{\"text\":\"ym\"}},\"yaxis4\":{\"anchor\":\"x4\",\"domain\":[0.0,0.144],\"matches\":\"y\",\"showticklabels\":false},\"xaxis5\":{\"anchor\":\"y5\",\"domain\":[0.0,0.235],\"matches\":\"x\",\"showticklabels\":false},\"yaxis5\":{\"anchor\":\"x5\",\"domain\":[0.214,0.358],\"matches\":\"y\",\"title\":{\"text\":\"value\"},\"range\":[0,1]},\"xaxis6\":{\"anchor\":\"y6\",\"domain\":[0.255,0.49],\"matches\":\"x\",\"showticklabels\":false},\"yaxis6\":{\"anchor\":\"x6\",\"domain\":[0.214,0.358],\"matches\":\"y\",\"showticklabels\":false},\"xaxis7\":{\"anchor\":\"y7\",\"domain\":[0.51,0.745],\"matches\":\"x\",\"showticklabels\":false},\"yaxis7\":{\"anchor\":\"x7\",\"domain\":[0.214,0.358],\"matches\":\"y\",\"showticklabels\":false},\"xaxis8\":{\"anchor\":\"y8\",\"domain\":[0.7649999999999999,0.9999999999999999],\"matches\":\"x\",\"showticklabels\":false},\"yaxis8\":{\"anchor\":\"x8\",\"domain\":[0.214,0.358],\"matches\":\"y\",\"showticklabels\":false},\"xaxis9\":{\"anchor\":\"y9\",\"domain\":[0.0,0.235],\"matches\":\"x\",\"showticklabels\":false},\"yaxis9\":{\"anchor\":\"x9\",\"domain\":[0.428,0.572],\"matches\":\"y\",\"title\":{\"text\":\"value\"},\"range\":[0,1]},\"xaxis10\":{\"anchor\":\"y10\",\"domain\":[0.255,0.49],\"matches\":\"x\",\"showticklabels\":false},\"yaxis10\":{\"anchor\":\"x10\",\"domain\":[0.428,0.572],\"matches\":\"y\",\"showticklabels\":false},\"xaxis11\":{\"anchor\":\"y11\",\"domain\":[0.51,0.745],\"matches\":\"x\",\"showticklabels\":false},\"yaxis11\":{\"anchor\":\"x11\",\"domain\":[0.428,0.572],\"matches\":\"y\",\"showticklabels\":false},\"xaxis12\":{\"anchor\":\"y12\",\"domain\":[0.7649999999999999,0.9999999999999999],\"matches\":\"x\",\"showticklabels\":false},\"yaxis12\":{\"anchor\":\"x12\",\"domain\":[0.428,0.572],\"matches\":\"y\",\"showticklabels\":false},\"xaxis13\":{\"anchor\":\"y13\",\"domain\":[0.0,0.235],\"matches\":\"x\",\"showticklabels\":false},\"yaxis13\":{\"anchor\":\"x13\",\"domain\":[0.6419999999999999,0.7859999999999999],\"matches\":\"y\",\"title\":{\"text\":\"value\"},\"range\":[0,1]},\"xaxis14\":{\"anchor\":\"y14\",\"domain\":[0.255,0.49],\"matches\":\"x\",\"showticklabels\":false},\"yaxis14\":{\"anchor\":\"x14\",\"domain\":[0.6419999999999999,0.7859999999999999],\"matches\":\"y\",\"showticklabels\":false},\"xaxis15\":{\"anchor\":\"y15\",\"domain\":[0.51,0.745],\"matches\":\"x\",\"showticklabels\":false},\"yaxis15\":{\"anchor\":\"x15\",\"domain\":[0.6419999999999999,0.7859999999999999],\"matches\":\"y\",\"showticklabels\":false},\"xaxis16\":{\"anchor\":\"y16\",\"domain\":[0.7649999999999999,0.9999999999999999],\"matches\":\"x\",\"showticklabels\":false},\"yaxis16\":{\"anchor\":\"x16\",\"domain\":[0.6419999999999999,0.7859999999999999],\"matches\":\"y\",\"showticklabels\":false},\"xaxis17\":{\"anchor\":\"y17\",\"domain\":[0.0,0.235],\"matches\":\"x\",\"showticklabels\":false},\"yaxis17\":{\"anchor\":\"x17\",\"domain\":[0.856,1.0],\"matches\":\"y\",\"title\":{\"text\":\"value\"},\"range\":[0,1]},\"xaxis18\":{\"anchor\":\"y18\",\"domain\":[0.255,0.49],\"matches\":\"x\",\"showticklabels\":false},\"yaxis18\":{\"anchor\":\"x18\",\"domain\":[0.856,1.0],\"matches\":\"y\",\"showticklabels\":false},\"xaxis19\":{\"anchor\":\"y19\",\"domain\":[0.51,0.745],\"matches\":\"x\",\"showticklabels\":false},\"yaxis19\":{\"anchor\":\"x19\",\"domain\":[0.856,1.0],\"matches\":\"y\",\"showticklabels\":false},\"xaxis20\":{\"anchor\":\"y20\",\"domain\":[0.7649999999999999,0.9999999999999999],\"matches\":\"x\",\"showticklabels\":false},\"yaxis20\":{\"anchor\":\"x20\",\"domain\":[0.856,1.0],\"matches\":\"y\",\"showticklabels\":false},\"annotations\":[{\"font\":{},\"showarrow\":false,\"text\":\"id=2471562086\",\"x\":0.1175,\"xanchor\":\"center\",\"xref\":\"paper\",\"y\":0.144,\"yanchor\":\"bottom\",\"yref\":\"paper\"},{\"font\":{},\"showarrow\":false,\"text\":\"id=2479963778\",\"x\":0.3725,\"xanchor\":\"center\",\"xref\":\"paper\",\"y\":0.144,\"yanchor\":\"bottom\",\"yref\":\"paper\"},{\"font\":{},\"showarrow\":false,\"text\":\"id=2496032641\",\"x\":0.6275,\"xanchor\":\"center\",\"xref\":\"paper\",\"y\":0.144,\"yanchor\":\"bottom\",\"yref\":\"paper\"},{\"font\":{},\"showarrow\":false,\"text\":\"id=2523401557\",\"x\":0.8824999999999998,\"xanchor\":\"center\",\"xref\":\"paper\",\"y\":0.144,\"yanchor\":\"bottom\",\"yref\":\"paper\"},{\"font\":{},\"showarrow\":false,\"text\":\"id=2347718608\",\"x\":0.1175,\"xanchor\":\"center\",\"xref\":\"paper\",\"y\":0.358,\"yanchor\":\"bottom\",\"yref\":\"paper\"},{\"font\":{},\"showarrow\":false,\"text\":\"id=2347718610\",\"x\":0.3725,\"xanchor\":\"center\",\"xref\":\"paper\",\"y\":0.358,\"yanchor\":\"bottom\",\"yref\":\"paper\"},{\"font\":{},\"showarrow\":false,\"text\":\"id=2427050072\",\"x\":0.6275,\"xanchor\":\"center\",\"xref\":\"paper\",\"y\":0.358,\"yanchor\":\"bottom\",\"yref\":\"paper\"},{\"font\":{},\"showarrow\":false,\"text\":\"id=2445049876\",\"x\":0.8824999999999998,\"xanchor\":\"center\",\"xref\":\"paper\",\"y\":0.358,\"yanchor\":\"bottom\",\"yref\":\"paper\"},{\"font\":{},\"showarrow\":false,\"text\":\"id=2186749200\",\"x\":0.1175,\"xanchor\":\"center\",\"xref\":\"paper\",\"y\":0.572,\"yanchor\":\"bottom\",\"yref\":\"paper\"},{\"font\":{},\"showarrow\":false,\"text\":\"id=2212416005\",\"x\":0.3725,\"xanchor\":\"center\",\"xref\":\"paper\",\"y\":0.572,\"yanchor\":\"bottom\",\"yref\":\"paper\"},{\"font\":{},\"showarrow\":false,\"text\":\"id=2251440776\",\"x\":0.6275,\"xanchor\":\"center\",\"xref\":\"paper\",\"y\":0.572,\"yanchor\":\"bottom\",\"yref\":\"paper\"},{\"font\":{},\"showarrow\":false,\"text\":\"id=2256064355\",\"x\":0.8824999999999998,\"xanchor\":\"center\",\"xref\":\"paper\",\"y\":0.572,\"yanchor\":\"bottom\",\"yref\":\"paper\"},{\"font\":{},\"showarrow\":false,\"text\":\"id=1606708811\",\"x\":0.1175,\"xanchor\":\"center\",\"xref\":\"paper\",\"y\":0.7859999999999999,\"yanchor\":\"bottom\",\"yref\":\"paper\"},{\"font\":{},\"showarrow\":false,\"text\":\"id=1916407803\",\"x\":0.3725,\"xanchor\":\"center\",\"xref\":\"paper\",\"y\":0.7859999999999999,\"yanchor\":\"bottom\",\"yref\":\"paper\"},{\"font\":{},\"showarrow\":false,\"text\":\"id=2071313507\",\"x\":0.6275,\"xanchor\":\"center\",\"xref\":\"paper\",\"y\":0.7859999999999999,\"yanchor\":\"bottom\",\"yref\":\"paper\"},{\"font\":{},\"showarrow\":false,\"text\":\"id=2172970175\",\"x\":0.8824999999999998,\"xanchor\":\"center\",\"xref\":\"paper\",\"y\":0.7859999999999999,\"yanchor\":\"bottom\",\"yref\":\"paper\"},{\"font\":{},\"showarrow\":false,\"text\":\"id=179433516\",\"x\":0.1175,\"xanchor\":\"center\",\"xref\":\"paper\",\"y\":1.0,\"yanchor\":\"bottom\",\"yref\":\"paper\"},{\"font\":{},\"showarrow\":false,\"text\":\"id=179458306\",\"x\":0.3725,\"xanchor\":\"center\",\"xref\":\"paper\",\"y\":1.0,\"yanchor\":\"bottom\",\"yref\":\"paper\"},{\"font\":{},\"showarrow\":false,\"text\":\"id=179569820\",\"x\":0.6275,\"xanchor\":\"center\",\"xref\":\"paper\",\"y\":1.0,\"yanchor\":\"bottom\",\"yref\":\"paper\"},{\"font\":{},\"showarrow\":false,\"text\":\"id=855996491\",\"x\":0.8824999999999998,\"xanchor\":\"center\",\"xref\":\"paper\",\"y\":1.0,\"yanchor\":\"bottom\",\"yref\":\"paper\"}],\"legend\":{\"title\":{\"text\":\"variable\"},\"tracegroupgap\":0},\"margin\":{\"t\":60},\"height\":1725.0},                        {\"responsive\": true}                    ).then(function(){\n",
       "                            \n",
       "var gd = document.getElementById('9c0024d2-58d6-4e55-a547-284c7023d7e0');\n",
       "var x = new MutationObserver(function (mutations, observer) {{\n",
       "        var display = window.getComputedStyle(gd).display;\n",
       "        if (!display || display === 'none') {{\n",
       "            console.log([gd, 'removed!']);\n",
       "            Plotly.purge(gd);\n",
       "            observer.disconnect();\n",
       "        }}\n",
       "}});\n",
       "\n",
       "// Listen for the removal of the full notebook cells\n",
       "var notebookContainer = gd.closest('#notebook-container');\n",
       "if (notebookContainer) {{\n",
       "    x.observe(notebookContainer, {childList: true});\n",
       "}}\n",
       "\n",
       "// Listen for the clearing of the current output cell\n",
       "var outputEl = gd.closest('.output');\n",
       "if (outputEl) {{\n",
       "    x.observe(outputEl, {childList: true});\n",
       "}}\n",
       "\n",
       "                        })                };                });            </script>        </div>"
      ]
     },
     "metadata": {},
     "output_type": "display_data"
    },
    {
     "name": "stdout",
     "output_type": "stream",
     "text": [
      "Int64Index([2576321385, 2602819207, 2717225077, 2745781539, 2759232590], dtype='int64', name='id')\n"
     ]
    },
    {
     "data": {
      "application/vnd.plotly.v1+json": {
       "config": {
        "plotlyServerURL": "https://plot.ly"
       },
       "data": [
        {
         "hovertemplate": "variable=pp<br>id=2576321385<br>ym=%{x}<br>value=%{y}<extra></extra>",
         "legendgroup": "pp",
         "line": {
          "color": "#636efa",
          "dash": "solid"
         },
         "marker": {
          "symbol": "circle"
         },
         "mode": "lines",
         "name": "pp",
         "orientation": "v",
         "showlegend": true,
         "type": "scatter",
         "x": [
          "2020-01-01T00:00:00",
          "2020-02-01T00:00:00",
          "2020-03-01T00:00:00",
          "2020-04-01T00:00:00",
          "2020-05-01T00:00:00",
          "2020-06-01T00:00:00",
          "2020-07-01T00:00:00",
          "2020-08-01T00:00:00",
          "2020-09-01T00:00:00",
          "2020-10-01T00:00:00",
          "2020-11-01T00:00:00",
          "2020-12-01T00:00:00",
          "2021-01-01T00:00:00",
          "2021-02-01T00:00:00",
          "2021-03-01T00:00:00",
          "2021-04-01T00:00:00",
          "2021-05-01T00:00:00",
          "2021-06-01T00:00:00",
          "2021-07-01T00:00:00",
          "2021-08-01T00:00:00",
          "2021-09-01T00:00:00",
          "2021-10-01T00:00:00"
         ],
         "xaxis": "x5",
         "y": [
          0.37997658077400603,
          0.34197024114492086,
          0.33347698672355214,
          0.3333061557249628,
          0.33338971582938604,
          0.33336109953908066,
          0.330969267136582,
          0.33333333333049525,
          0.33347784617763393,
          0.33331854087009266,
          0.3327772411947249,
          0.3326869376331625,
          0.33335994889545384,
          0.32551578204615134,
          0.3304828973815352,
          0.3439587707544955,
          0.37868260143998494,
          0.4155961234975074,
          0.35047444137816847,
          0.3349056603733078,
          0.33303480040515565,
          0.3352399900480572
         ],
         "yaxis": "y5"
        },
        {
         "hovertemplate": "variable=pp<br>id=2602819207<br>ym=%{x}<br>value=%{y}<extra></extra>",
         "legendgroup": "pp",
         "line": {
          "color": "#636efa",
          "dash": "solid"
         },
         "marker": {
          "symbol": "circle"
         },
         "mode": "lines",
         "name": "pp",
         "orientation": "v",
         "showlegend": false,
         "type": "scatter",
         "x": [
          "2020-01-01T00:00:00",
          "2020-02-01T00:00:00",
          "2020-03-01T00:00:00",
          "2020-04-01T00:00:00",
          "2020-05-01T00:00:00",
          "2020-06-01T00:00:00",
          "2020-07-01T00:00:00",
          "2020-08-01T00:00:00",
          "2020-09-01T00:00:00",
          "2020-10-01T00:00:00",
          "2020-11-01T00:00:00",
          "2020-12-01T00:00:00",
          "2021-01-01T00:00:00",
          "2021-02-01T00:00:00",
          "2021-03-01T00:00:00",
          "2021-04-01T00:00:00",
          "2021-05-01T00:00:00",
          "2021-06-01T00:00:00",
          "2021-07-01T00:00:00",
          "2021-08-01T00:00:00",
          "2021-09-01T00:00:00",
          "2021-10-01T00:00:00"
         ],
         "xaxis": "x6",
         "y": [
          0.3248337028779818,
          0.3270142180051736,
          0.32268959164380273,
          0.3188552188498509,
          0.3222423146415508,
          0.3194748358803889,
          0.33199060086720394,
          0.3336204421427847,
          0.3374451754339714,
          0.3258539852618398,
          0.3291903409032459,
          0.32836266029930866,
          0.32697547683552475,
          0.3178447849688848,
          0.32178797097681033,
          0.3222679912730522,
          0.324565416281741,
          0.32159227985136796,
          0.32002661343623834,
          0.3209292320894716,
          0.32529043788734036,
          0.32471131639347905
         ],
         "yaxis": "y6"
        },
        {
         "hovertemplate": "variable=pp<br>id=2717225077<br>ym=%{x}<br>value=%{y}<extra></extra>",
         "legendgroup": "pp",
         "line": {
          "color": "#636efa",
          "dash": "solid"
         },
         "marker": {
          "symbol": "circle"
         },
         "mode": "lines",
         "name": "pp",
         "orientation": "v",
         "showlegend": false,
         "type": "scatter",
         "x": [
          "2020-01-01T00:00:00",
          "2020-02-01T00:00:00",
          "2020-03-01T00:00:00",
          "2020-04-01T00:00:00",
          "2020-05-01T00:00:00",
          "2020-06-01T00:00:00",
          "2020-07-01T00:00:00",
          "2020-08-01T00:00:00",
          "2020-09-01T00:00:00",
          "2020-10-01T00:00:00",
          "2020-11-01T00:00:00",
          "2020-12-01T00:00:00",
          "2021-01-01T00:00:00",
          "2021-02-01T00:00:00",
          "2021-03-01T00:00:00",
          "2021-04-01T00:00:00",
          "2021-05-01T00:00:00",
          "2021-06-01T00:00:00",
          "2021-07-01T00:00:00",
          "2021-08-01T00:00:00",
          "2021-09-01T00:00:00",
          "2021-10-01T00:00:00"
         ],
         "xaxis": "x7",
         "y": [
          0.32952286282033194,
          0.330566037731691,
          0.3268576979063161,
          0.3231075697168246,
          0.33321479373715956,
          0.33345132742969374,
          0.33058443886302635,
          0.32076162577418815,
          0.3221003134754167,
          0.32609639600363727,
          0.32595682931056313,
          0.32225849817346996,
          0.32405986185517993,
          0.321909667192803,
          0.3225305647174945,
          0.32227930873172755,
          0.3223801065695502,
          0.32404103478795687,
          0.3250051198011809,
          0.3271531100456728,
          0.32761788119801577,
          0.3253868674172216
         ],
         "yaxis": "y7"
        },
        {
         "hovertemplate": "variable=pp<br>id=2745781539<br>ym=%{x}<br>value=%{y}<extra></extra>",
         "legendgroup": "pp",
         "line": {
          "color": "#636efa",
          "dash": "solid"
         },
         "marker": {
          "symbol": "circle"
         },
         "mode": "lines",
         "name": "pp",
         "orientation": "v",
         "showlegend": false,
         "type": "scatter",
         "x": [
          "2020-01-01T00:00:00",
          "2020-02-01T00:00:00",
          "2020-03-01T00:00:00",
          "2020-04-01T00:00:00",
          "2020-05-01T00:00:00",
          "2020-06-01T00:00:00",
          "2020-07-01T00:00:00",
          "2020-08-01T00:00:00",
          "2020-09-01T00:00:00",
          "2020-10-01T00:00:00",
          "2020-11-01T00:00:00",
          "2020-12-01T00:00:00",
          "2021-01-01T00:00:00",
          "2021-02-01T00:00:00",
          "2021-03-01T00:00:00",
          "2021-04-01T00:00:00",
          "2021-05-01T00:00:00",
          "2021-06-01T00:00:00",
          "2021-07-01T00:00:00",
          "2021-08-01T00:00:00",
          "2021-09-01T00:00:00",
          "2021-10-01T00:00:00"
         ],
         "xaxis": "x8",
         "y": [
          0.20865688812044392,
          0.33824925165847813,
          0.3427607680302477,
          0.36274662109396655,
          0.3431934334803841,
          0.3457777143240361,
          0.3334815473519084,
          0.340410322393735,
          0.34145855472674375,
          0.36255587159568414,
          0.36498847845565957,
          0.4003553268369763,
          0.34396000214857286,
          0.35089177267563193,
          0.32869508052849405,
          0.338824430821263,
          0.3367793659985401,
          0.3384501255401823,
          0.3311585707715421,
          0.33465246067816007,
          0.33820349174356135,
          0.33629201680495646
         ],
         "yaxis": "y8"
        },
        {
         "hovertemplate": "variable=pp<br>id=2759232590<br>ym=%{x}<br>value=%{y}<extra></extra>",
         "legendgroup": "pp",
         "line": {
          "color": "#636efa",
          "dash": "solid"
         },
         "marker": {
          "symbol": "circle"
         },
         "mode": "lines",
         "name": "pp",
         "orientation": "v",
         "showlegend": false,
         "type": "scatter",
         "x": [
          "2020-01-01T00:00:00",
          "2020-02-01T00:00:00",
          "2020-03-01T00:00:00",
          "2020-04-01T00:00:00",
          "2020-05-01T00:00:00",
          "2020-06-01T00:00:00",
          "2020-07-01T00:00:00",
          "2020-08-01T00:00:00",
          "2020-09-01T00:00:00",
          "2020-10-01T00:00:00",
          "2020-11-01T00:00:00",
          "2020-12-01T00:00:00",
          "2021-01-01T00:00:00",
          "2021-02-01T00:00:00",
          "2021-03-01T00:00:00",
          "2021-04-01T00:00:00",
          "2021-05-01T00:00:00",
          "2021-06-01T00:00:00",
          "2021-07-01T00:00:00",
          "2021-08-01T00:00:00",
          "2021-09-01T00:00:00",
          "2021-10-01T00:00:00"
         ],
         "xaxis": "x",
         "y": [
          0.33191747572632435,
          0.3232893910819424,
          0.31999999999452994,
          0.3176140350832616,
          0.31919500700141135,
          0.32144342761728945,
          0.3240878814959331,
          0.31494750874591776,
          0.31971620612158536,
          0.3260869565203706,
          0.3385044448288434,
          0.3373358348942789,
          0.3343867569576043,
          0.3360999329281011,
          0.33676394912639296,
          0.3406026962700983,
          0.34511529125951823,
          0.34586760673446243,
          0.3470531112247176,
          0.3498720831045052,
          0.3517912710416357,
          0.3521049753936413
         ],
         "yaxis": "y"
        },
        {
         "hovertemplate": "variable=pf<br>id=2576321385<br>ym=%{x}<br>value=%{y}<extra></extra>",
         "legendgroup": "pf",
         "line": {
          "color": "#EF553B",
          "dash": "solid"
         },
         "marker": {
          "symbol": "circle"
         },
         "mode": "lines",
         "name": "pf",
         "orientation": "v",
         "showlegend": true,
         "type": "scatter",
         "x": [
          "2020-01-01T00:00:00",
          "2020-02-01T00:00:00",
          "2020-03-01T00:00:00",
          "2020-04-01T00:00:00",
          "2020-05-01T00:00:00",
          "2020-06-01T00:00:00",
          "2020-07-01T00:00:00",
          "2020-08-01T00:00:00",
          "2020-09-01T00:00:00",
          "2020-10-01T00:00:00",
          "2020-11-01T00:00:00",
          "2020-12-01T00:00:00",
          "2021-01-01T00:00:00",
          "2021-02-01T00:00:00",
          "2021-03-01T00:00:00",
          "2021-04-01T00:00:00",
          "2021-05-01T00:00:00",
          "2021-06-01T00:00:00",
          "2021-07-01T00:00:00",
          "2021-08-01T00:00:00",
          "2021-09-01T00:00:00",
          "2021-10-01T00:00:00"
         ],
         "xaxis": "x5",
         "y": [
          0.5562060889604095,
          0.3597998973786583,
          0.3335631787594073,
          0.33338768854192097,
          0.33347428957769387,
          0.33344439816465266,
          0.33237019525144584,
          0.3335036185582503,
          0.33330443076100486,
          0.3342060885757779,
          0.3362894020516613,
          0.33361774743768524,
          0.3332002555067614,
          0.329218832654477,
          0.3139671361476025,
          0.3496850543963572,
          0.3871595330685498,
          0.39734054540461256,
          0.34726048361880535,
          0.333454281563456,
          0.3266376663213071,
          0.3352399900480572
         ],
         "yaxis": "y5"
        },
        {
         "hovertemplate": "variable=pf<br>id=2602819207<br>ym=%{x}<br>value=%{y}<extra></extra>",
         "legendgroup": "pf",
         "line": {
          "color": "#EF553B",
          "dash": "solid"
         },
         "marker": {
          "symbol": "circle"
         },
         "mode": "lines",
         "name": "pf",
         "orientation": "v",
         "showlegend": false,
         "type": "scatter",
         "x": [
          "2020-01-01T00:00:00",
          "2020-02-01T00:00:00",
          "2020-03-01T00:00:00",
          "2020-04-01T00:00:00",
          "2020-05-01T00:00:00",
          "2020-06-01T00:00:00",
          "2020-07-01T00:00:00",
          "2020-08-01T00:00:00",
          "2020-09-01T00:00:00",
          "2020-10-01T00:00:00",
          "2020-11-01T00:00:00",
          "2020-12-01T00:00:00",
          "2021-01-01T00:00:00",
          "2021-02-01T00:00:00",
          "2021-03-01T00:00:00",
          "2021-04-01T00:00:00",
          "2021-05-01T00:00:00",
          "2021-06-01T00:00:00",
          "2021-07-01T00:00:00",
          "2021-08-01T00:00:00",
          "2021-09-01T00:00:00",
          "2021-10-01T00:00:00"
         ],
         "xaxis": "x6",
         "y": [
          0.30931263857664476,
          0.3296471827234117,
          0.3233036536640574,
          0.3205387205333243,
          0.3421338155453502,
          0.33515681983342166,
          0.3528029540054917,
          0.3672121734084523,
          0.36513157894236387,
          0.3293703951747373,
          0.312144886358094,
          0.3048016701415926,
          0.3076748410500945,
          0.3156203657894758,
          0.3107886730597848,
          0.31257572085882507,
          0.31770356815739126,
          0.3230398069924844,
          0.32468396539892785,
          0.3217896321755023,
          0.318141197494212,
          0.30946882216732713
         ],
         "yaxis": "y6"
        },
        {
         "hovertemplate": "variable=pf<br>id=2717225077<br>ym=%{x}<br>value=%{y}<extra></extra>",
         "legendgroup": "pf",
         "line": {
          "color": "#EF553B",
          "dash": "solid"
         },
         "marker": {
          "symbol": "circle"
         },
         "mode": "lines",
         "name": "pf",
         "orientation": "v",
         "showlegend": false,
         "type": "scatter",
         "x": [
          "2020-01-01T00:00:00",
          "2020-02-01T00:00:00",
          "2020-03-01T00:00:00",
          "2020-04-01T00:00:00",
          "2020-05-01T00:00:00",
          "2020-06-01T00:00:00",
          "2020-07-01T00:00:00",
          "2020-08-01T00:00:00",
          "2020-09-01T00:00:00",
          "2020-10-01T00:00:00",
          "2020-11-01T00:00:00",
          "2020-12-01T00:00:00",
          "2021-01-01T00:00:00",
          "2021-02-01T00:00:00",
          "2021-03-01T00:00:00",
          "2021-04-01T00:00:00",
          "2021-05-01T00:00:00",
          "2021-06-01T00:00:00",
          "2021-07-01T00:00:00",
          "2021-08-01T00:00:00",
          "2021-09-01T00:00:00",
          "2021-10-01T00:00:00"
         ],
         "xaxis": "x7",
         "y": [
          0.3354870775320122,
          0.3309433962222523,
          0.31617289946064153,
          0.3334661354537388,
          0.3421052631538394,
          0.34654867256228256,
          0.3381140193577373,
          0.3258879531267437,
          0.3213166144158658,
          0.32001736864804353,
          0.3179756938126974,
          0.31035144996920583,
          0.31331542593813433,
          0.3122028526128354,
          0.3145740345409498,
          0.3180756655743572,
          0.3221580817027667,
          0.32359500445789774,
          0.3252099119371615,
          0.3243620414651491,
          0.324556031841025,
          0.3193224592198569
         ],
         "yaxis": "y7"
        },
        {
         "hovertemplate": "variable=pf<br>id=2745781539<br>ym=%{x}<br>value=%{y}<extra></extra>",
         "legendgroup": "pf",
         "line": {
          "color": "#EF553B",
          "dash": "solid"
         },
         "marker": {
          "symbol": "circle"
         },
         "mode": "lines",
         "name": "pf",
         "orientation": "v",
         "showlegend": false,
         "type": "scatter",
         "x": [
          "2020-01-01T00:00:00",
          "2020-02-01T00:00:00",
          "2020-03-01T00:00:00",
          "2020-04-01T00:00:00",
          "2020-05-01T00:00:00",
          "2020-06-01T00:00:00",
          "2020-07-01T00:00:00",
          "2020-08-01T00:00:00",
          "2020-09-01T00:00:00",
          "2020-10-01T00:00:00",
          "2020-11-01T00:00:00",
          "2020-12-01T00:00:00",
          "2021-01-01T00:00:00",
          "2021-02-01T00:00:00",
          "2021-03-01T00:00:00",
          "2021-04-01T00:00:00",
          "2021-05-01T00:00:00",
          "2021-06-01T00:00:00",
          "2021-07-01T00:00:00",
          "2021-08-01T00:00:00",
          "2021-09-01T00:00:00",
          "2021-10-01T00:00:00"
         ],
         "xaxis": "x8",
         "y": [
          0.4516824848975289,
          0.34525808570967903,
          0.39084933402187466,
          0.3678732328695986,
          0.3558153941431329,
          0.32657577271520755,
          0.3437083148040336,
          0.331903638570792,
          0.37187832093270534,
          0.39567249085603523,
          0.3948048320620431,
          0.3904306806322953,
          0.3410031718706467,
          0.3494214664683921,
          0.34792374273941096,
          0.3228436952696867,
          0.32306556252796526,
          0.32606710796435706,
          0.3348284825916977,
          0.337696600708586,
          0.33604093042704763,
          0.3342962184856392
         ],
         "yaxis": "y8"
        },
        {
         "hovertemplate": "variable=pf<br>id=2759232590<br>ym=%{x}<br>value=%{y}<extra></extra>",
         "legendgroup": "pf",
         "line": {
          "color": "#EF553B",
          "dash": "solid"
         },
         "marker": {
          "symbol": "circle"
         },
         "mode": "lines",
         "name": "pf",
         "orientation": "v",
         "showlegend": false,
         "type": "scatter",
         "x": [
          "2020-01-01T00:00:00",
          "2020-02-01T00:00:00",
          "2020-03-01T00:00:00",
          "2020-04-01T00:00:00",
          "2020-05-01T00:00:00",
          "2020-06-01T00:00:00",
          "2020-07-01T00:00:00",
          "2020-08-01T00:00:00",
          "2020-09-01T00:00:00",
          "2020-10-01T00:00:00",
          "2020-11-01T00:00:00",
          "2020-12-01T00:00:00",
          "2021-01-01T00:00:00",
          "2021-02-01T00:00:00",
          "2021-03-01T00:00:00",
          "2021-04-01T00:00:00",
          "2021-05-01T00:00:00",
          "2021-06-01T00:00:00",
          "2021-07-01T00:00:00",
          "2021-08-01T00:00:00",
          "2021-09-01T00:00:00",
          "2021-10-01T00:00:00"
         ],
         "xaxis": "x",
         "y": [
          0.3372683142082013,
          0.31738857501170886,
          0.31179487178954196,
          0.32715789473225043,
          0.3335880779476043,
          0.3405782029914665,
          0.33899990058316926,
          0.32644559239854654,
          0.32815533980337447,
          0.3233171059244447,
          0.33118354540412076,
          0.3268292682902302,
          0.3282919488312393,
          0.32142857142587666,
          0.3228699551545771,
          0.3316415543193367,
          0.33737864077414,
          0.34030552291155264,
          0.34204825576796855,
          0.3435925265497822,
          0.34101970796823566,
          0.33882683745732384
         ],
         "yaxis": "y"
        },
        {
         "hovertemplate": "variable=pg<br>id=2576321385<br>ym=%{x}<br>value=%{y}<extra></extra>",
         "legendgroup": "pg",
         "line": {
          "color": "#00cc96",
          "dash": "solid"
         },
         "marker": {
          "symbol": "circle"
         },
         "mode": "lines",
         "name": "pg",
         "orientation": "v",
         "showlegend": true,
         "type": "scatter",
         "x": [
          "2020-01-01T00:00:00",
          "2020-02-01T00:00:00",
          "2020-03-01T00:00:00",
          "2020-04-01T00:00:00",
          "2020-05-01T00:00:00",
          "2020-06-01T00:00:00",
          "2020-07-01T00:00:00",
          "2020-08-01T00:00:00",
          "2020-09-01T00:00:00",
          "2020-10-01T00:00:00",
          "2020-11-01T00:00:00",
          "2020-12-01T00:00:00",
          "2021-01-01T00:00:00",
          "2021-02-01T00:00:00",
          "2021-03-01T00:00:00",
          "2021-04-01T00:00:00",
          "2021-05-01T00:00:00",
          "2021-06-01T00:00:00",
          "2021-07-01T00:00:00",
          "2021-08-01T00:00:00",
          "2021-09-01T00:00:00",
          "2021-10-01T00:00:00"
         ],
         "xaxis": "x5",
         "y": [
          0.06381733020703645,
          0.29822986146359376,
          0.33295983450842126,
          0.3333061557249628,
          0.33313599458446264,
          0.33319450228793673,
          0.33666053760321635,
          0.33316304810274017,
          0.3332177230526904,
          0.3324753705496917,
          0.3309333567448333,
          0.3336953149213955,
          0.3334397955898,
          0.34526538529055484,
          0.3555499664624786,
          0.30635617483960337,
          0.23415786547756867,
          0.1870633310753423,
          0.3022650749877217,
          0.3316400580511412,
          0.340327533260743,
          0.3295200198914509
         ],
         "yaxis": "y5"
        },
        {
         "hovertemplate": "variable=pg<br>id=2602819207<br>ym=%{x}<br>value=%{y}<extra></extra>",
         "legendgroup": "pg",
         "line": {
          "color": "#00cc96",
          "dash": "solid"
         },
         "marker": {
          "symbol": "circle"
         },
         "mode": "lines",
         "name": "pg",
         "orientation": "v",
         "showlegend": false,
         "type": "scatter",
         "x": [
          "2020-01-01T00:00:00",
          "2020-02-01T00:00:00",
          "2020-03-01T00:00:00",
          "2020-04-01T00:00:00",
          "2020-05-01T00:00:00",
          "2020-06-01T00:00:00",
          "2020-07-01T00:00:00",
          "2020-08-01T00:00:00",
          "2020-09-01T00:00:00",
          "2020-10-01T00:00:00",
          "2020-11-01T00:00:00",
          "2020-12-01T00:00:00",
          "2021-01-01T00:00:00",
          "2021-02-01T00:00:00",
          "2021-03-01T00:00:00",
          "2021-04-01T00:00:00",
          "2021-05-01T00:00:00",
          "2021-06-01T00:00:00",
          "2021-07-01T00:00:00",
          "2021-08-01T00:00:00",
          "2021-09-01T00:00:00",
          "2021-10-01T00:00:00"
         ],
         "xaxis": "x6",
         "y": [
          0.36585365853151536,
          0.3433385992582499,
          0.3540067546767884,
          0.3606060605999898,
          0.33562386979501585,
          0.34536834426795465,
          0.3152064451105202,
          0.2991673844344076,
          0.2974232456099586,
          0.3447756195550504,
          0.3586647727209044,
          0.3668356695441868,
          0.3653496821030273,
          0.3665348492292816,
          0.3674233559517034,
          0.3651562878560073,
          0.3577310155494312,
          0.3553679131440848,
          0.35528942115374484,
          0.357281135724271,
          0.3565683646072769,
          0.3658198614276464
         ],
         "yaxis": "y6"
        },
        {
         "hovertemplate": "variable=pg<br>id=2717225077<br>ym=%{x}<br>value=%{y}<extra></extra>",
         "legendgroup": "pg",
         "line": {
          "color": "#00cc96",
          "dash": "solid"
         },
         "marker": {
          "symbol": "circle"
         },
         "mode": "lines",
         "name": "pg",
         "orientation": "v",
         "showlegend": false,
         "type": "scatter",
         "x": [
          "2020-01-01T00:00:00",
          "2020-02-01T00:00:00",
          "2020-03-01T00:00:00",
          "2020-04-01T00:00:00",
          "2020-05-01T00:00:00",
          "2020-06-01T00:00:00",
          "2020-07-01T00:00:00",
          "2020-08-01T00:00:00",
          "2020-09-01T00:00:00",
          "2020-10-01T00:00:00",
          "2020-11-01T00:00:00",
          "2020-12-01T00:00:00",
          "2021-01-01T00:00:00",
          "2021-02-01T00:00:00",
          "2021-03-01T00:00:00",
          "2021-04-01T00:00:00",
          "2021-05-01T00:00:00",
          "2021-06-01T00:00:00",
          "2021-07-01T00:00:00",
          "2021-08-01T00:00:00",
          "2021-09-01T00:00:00",
          "2021-10-01T00:00:00"
         ],
         "xaxis": "x7",
         "y": [
          0.3349900596393722,
          0.3384905660334781,
          0.35696940261685334,
          0.3434262948161564,
          0.324679943097147,
          0.31999999999622414,
          0.33130154176728455,
          0.35335042108686254,
          0.35658307209565593,
          0.3538862353434945,
          0.35606747687069307,
          0.3673900518509225,
          0.3626247122002902,
          0.36588748018775824,
          0.362895400735087,
          0.3596450256861307,
          0.35546181172028224,
          0.3523639607467115,
          0.34978496825483113,
          0.34848484848253264,
          0.34782608695415507,
          0.3552906733559508
         ],
         "yaxis": "y7"
        },
        {
         "hovertemplate": "variable=pg<br>id=2745781539<br>ym=%{x}<br>value=%{y}<extra></extra>",
         "legendgroup": "pg",
         "line": {
          "color": "#00cc96",
          "dash": "solid"
         },
         "marker": {
          "symbol": "circle"
         },
         "mode": "lines",
         "name": "pg",
         "orientation": "v",
         "showlegend": false,
         "type": "scatter",
         "x": [
          "2020-01-01T00:00:00",
          "2020-02-01T00:00:00",
          "2020-03-01T00:00:00",
          "2020-04-01T00:00:00",
          "2020-05-01T00:00:00",
          "2020-06-01T00:00:00",
          "2020-07-01T00:00:00",
          "2020-08-01T00:00:00",
          "2020-09-01T00:00:00",
          "2020-10-01T00:00:00",
          "2020-11-01T00:00:00",
          "2020-12-01T00:00:00",
          "2021-01-01T00:00:00",
          "2021-02-01T00:00:00",
          "2021-03-01T00:00:00",
          "2021-04-01T00:00:00",
          "2021-05-01T00:00:00",
          "2021-06-01T00:00:00",
          "2021-07-01T00:00:00",
          "2021-08-01T00:00:00",
          "2021-09-01T00:00:00",
          "2021-10-01T00:00:00"
         ],
         "xaxis": "x8",
         "y": [
          0.33966062697483707,
          0.3164926626245419,
          0.26638989793922857,
          0.2693801460286672,
          0.3009911723687394,
          0.327646512953618,
          0.3228101378366473,
          0.3276860390283245,
          0.28666312433390895,
          0.24177163754489445,
          0.2402066894753145,
          0.209213992524602,
          0.31503682597540433,
          0.2996867608495833,
          0.3233811767266167,
          0.33833187390357744,
          0.34015507146822005,
          0.3354827664897541,
          0.3340129466316631,
          0.32765093860818034,
          0.32575557782411646,
          0.32941176470415223
         ],
         "yaxis": "y8"
        },
        {
         "hovertemplate": "variable=pg<br>id=2759232590<br>ym=%{x}<br>value=%{y}<extra></extra>",
         "legendgroup": "pg",
         "line": {
          "color": "#00cc96",
          "dash": "solid"
         },
         "marker": {
          "symbol": "circle"
         },
         "mode": "lines",
         "name": "pg",
         "orientation": "v",
         "showlegend": false,
         "type": "scatter",
         "x": [
          "2020-01-01T00:00:00",
          "2020-02-01T00:00:00",
          "2020-03-01T00:00:00",
          "2020-04-01T00:00:00",
          "2020-05-01T00:00:00",
          "2020-06-01T00:00:00",
          "2020-07-01T00:00:00",
          "2020-08-01T00:00:00",
          "2020-09-01T00:00:00",
          "2020-10-01T00:00:00",
          "2020-11-01T00:00:00",
          "2020-12-01T00:00:00",
          "2021-01-01T00:00:00",
          "2021-02-01T00:00:00",
          "2021-03-01T00:00:00",
          "2021-04-01T00:00:00",
          "2021-05-01T00:00:00",
          "2021-06-01T00:00:00",
          "2021-07-01T00:00:00",
          "2021-08-01T00:00:00",
          "2021-09-01T00:00:00",
          "2021-10-01T00:00:00"
         ],
         "xaxis": "x",
         "y": [
          0.330814210059958,
          0.3593220338937938,
          0.3682051281988341,
          0.35522807017045294,
          0.34721691503824714,
          0.33797836938084463,
          0.3369122179109562,
          0.3586068988472037,
          0.3521284540675718,
          0.35059593755098795,
          0.3303120097583204,
          0.3358348968079862,
          0.3373212942036319,
          0.34247149563763857,
          0.34036609571167853,
          0.32775574940263474,
          0.31750606795875674,
          0.313826870346151,
          0.3108986329998439,
          0.30653539033796,
          0.3071890209821496,
          0.30906818714122414
         ],
         "yaxis": "y"
        }
       ],
       "layout": {
        "annotations": [
         {
          "font": {},
          "showarrow": false,
          "text": "id=2759232590",
          "x": 0.1175,
          "xanchor": "center",
          "xref": "paper",
          "y": 0.46499999999999997,
          "yanchor": "bottom",
          "yref": "paper"
         },
         {
          "font": {},
          "showarrow": false,
          "text": "id=2576321385",
          "x": 0.1175,
          "xanchor": "center",
          "xref": "paper",
          "y": 0.9999999999999999,
          "yanchor": "bottom",
          "yref": "paper"
         },
         {
          "font": {},
          "showarrow": false,
          "text": "id=2602819207",
          "x": 0.3725,
          "xanchor": "center",
          "xref": "paper",
          "y": 0.9999999999999999,
          "yanchor": "bottom",
          "yref": "paper"
         },
         {
          "font": {},
          "showarrow": false,
          "text": "id=2717225077",
          "x": 0.6275,
          "xanchor": "center",
          "xref": "paper",
          "y": 0.9999999999999999,
          "yanchor": "bottom",
          "yref": "paper"
         },
         {
          "font": {},
          "showarrow": false,
          "text": "id=2745781539",
          "x": 0.8824999999999998,
          "xanchor": "center",
          "xref": "paper",
          "y": 0.9999999999999999,
          "yanchor": "bottom",
          "yref": "paper"
         }
        ],
        "height": 600,
        "legend": {
         "title": {
          "text": "variable"
         },
         "tracegroupgap": 0
        },
        "margin": {
         "t": 60
        },
        "template": {
         "data": {
          "bar": [
           {
            "error_x": {
             "color": "#2a3f5f"
            },
            "error_y": {
             "color": "#2a3f5f"
            },
            "marker": {
             "line": {
              "color": "#E5ECF6",
              "width": 0.5
             },
             "pattern": {
              "fillmode": "overlay",
              "size": 10,
              "solidity": 0.2
             }
            },
            "type": "bar"
           }
          ],
          "barpolar": [
           {
            "marker": {
             "line": {
              "color": "#E5ECF6",
              "width": 0.5
             },
             "pattern": {
              "fillmode": "overlay",
              "size": 10,
              "solidity": 0.2
             }
            },
            "type": "barpolar"
           }
          ],
          "carpet": [
           {
            "aaxis": {
             "endlinecolor": "#2a3f5f",
             "gridcolor": "white",
             "linecolor": "white",
             "minorgridcolor": "white",
             "startlinecolor": "#2a3f5f"
            },
            "baxis": {
             "endlinecolor": "#2a3f5f",
             "gridcolor": "white",
             "linecolor": "white",
             "minorgridcolor": "white",
             "startlinecolor": "#2a3f5f"
            },
            "type": "carpet"
           }
          ],
          "choropleth": [
           {
            "colorbar": {
             "outlinewidth": 0,
             "ticks": ""
            },
            "type": "choropleth"
           }
          ],
          "contour": [
           {
            "colorbar": {
             "outlinewidth": 0,
             "ticks": ""
            },
            "colorscale": [
             [
              0,
              "#0d0887"
             ],
             [
              0.1111111111111111,
              "#46039f"
             ],
             [
              0.2222222222222222,
              "#7201a8"
             ],
             [
              0.3333333333333333,
              "#9c179e"
             ],
             [
              0.4444444444444444,
              "#bd3786"
             ],
             [
              0.5555555555555556,
              "#d8576b"
             ],
             [
              0.6666666666666666,
              "#ed7953"
             ],
             [
              0.7777777777777778,
              "#fb9f3a"
             ],
             [
              0.8888888888888888,
              "#fdca26"
             ],
             [
              1,
              "#f0f921"
             ]
            ],
            "type": "contour"
           }
          ],
          "contourcarpet": [
           {
            "colorbar": {
             "outlinewidth": 0,
             "ticks": ""
            },
            "type": "contourcarpet"
           }
          ],
          "heatmap": [
           {
            "colorbar": {
             "outlinewidth": 0,
             "ticks": ""
            },
            "colorscale": [
             [
              0,
              "#0d0887"
             ],
             [
              0.1111111111111111,
              "#46039f"
             ],
             [
              0.2222222222222222,
              "#7201a8"
             ],
             [
              0.3333333333333333,
              "#9c179e"
             ],
             [
              0.4444444444444444,
              "#bd3786"
             ],
             [
              0.5555555555555556,
              "#d8576b"
             ],
             [
              0.6666666666666666,
              "#ed7953"
             ],
             [
              0.7777777777777778,
              "#fb9f3a"
             ],
             [
              0.8888888888888888,
              "#fdca26"
             ],
             [
              1,
              "#f0f921"
             ]
            ],
            "type": "heatmap"
           }
          ],
          "heatmapgl": [
           {
            "colorbar": {
             "outlinewidth": 0,
             "ticks": ""
            },
            "colorscale": [
             [
              0,
              "#0d0887"
             ],
             [
              0.1111111111111111,
              "#46039f"
             ],
             [
              0.2222222222222222,
              "#7201a8"
             ],
             [
              0.3333333333333333,
              "#9c179e"
             ],
             [
              0.4444444444444444,
              "#bd3786"
             ],
             [
              0.5555555555555556,
              "#d8576b"
             ],
             [
              0.6666666666666666,
              "#ed7953"
             ],
             [
              0.7777777777777778,
              "#fb9f3a"
             ],
             [
              0.8888888888888888,
              "#fdca26"
             ],
             [
              1,
              "#f0f921"
             ]
            ],
            "type": "heatmapgl"
           }
          ],
          "histogram": [
           {
            "marker": {
             "pattern": {
              "fillmode": "overlay",
              "size": 10,
              "solidity": 0.2
             }
            },
            "type": "histogram"
           }
          ],
          "histogram2d": [
           {
            "colorbar": {
             "outlinewidth": 0,
             "ticks": ""
            },
            "colorscale": [
             [
              0,
              "#0d0887"
             ],
             [
              0.1111111111111111,
              "#46039f"
             ],
             [
              0.2222222222222222,
              "#7201a8"
             ],
             [
              0.3333333333333333,
              "#9c179e"
             ],
             [
              0.4444444444444444,
              "#bd3786"
             ],
             [
              0.5555555555555556,
              "#d8576b"
             ],
             [
              0.6666666666666666,
              "#ed7953"
             ],
             [
              0.7777777777777778,
              "#fb9f3a"
             ],
             [
              0.8888888888888888,
              "#fdca26"
             ],
             [
              1,
              "#f0f921"
             ]
            ],
            "type": "histogram2d"
           }
          ],
          "histogram2dcontour": [
           {
            "colorbar": {
             "outlinewidth": 0,
             "ticks": ""
            },
            "colorscale": [
             [
              0,
              "#0d0887"
             ],
             [
              0.1111111111111111,
              "#46039f"
             ],
             [
              0.2222222222222222,
              "#7201a8"
             ],
             [
              0.3333333333333333,
              "#9c179e"
             ],
             [
              0.4444444444444444,
              "#bd3786"
             ],
             [
              0.5555555555555556,
              "#d8576b"
             ],
             [
              0.6666666666666666,
              "#ed7953"
             ],
             [
              0.7777777777777778,
              "#fb9f3a"
             ],
             [
              0.8888888888888888,
              "#fdca26"
             ],
             [
              1,
              "#f0f921"
             ]
            ],
            "type": "histogram2dcontour"
           }
          ],
          "mesh3d": [
           {
            "colorbar": {
             "outlinewidth": 0,
             "ticks": ""
            },
            "type": "mesh3d"
           }
          ],
          "parcoords": [
           {
            "line": {
             "colorbar": {
              "outlinewidth": 0,
              "ticks": ""
             }
            },
            "type": "parcoords"
           }
          ],
          "pie": [
           {
            "automargin": true,
            "type": "pie"
           }
          ],
          "scatter": [
           {
            "marker": {
             "colorbar": {
              "outlinewidth": 0,
              "ticks": ""
             }
            },
            "type": "scatter"
           }
          ],
          "scatter3d": [
           {
            "line": {
             "colorbar": {
              "outlinewidth": 0,
              "ticks": ""
             }
            },
            "marker": {
             "colorbar": {
              "outlinewidth": 0,
              "ticks": ""
             }
            },
            "type": "scatter3d"
           }
          ],
          "scattercarpet": [
           {
            "marker": {
             "colorbar": {
              "outlinewidth": 0,
              "ticks": ""
             }
            },
            "type": "scattercarpet"
           }
          ],
          "scattergeo": [
           {
            "marker": {
             "colorbar": {
              "outlinewidth": 0,
              "ticks": ""
             }
            },
            "type": "scattergeo"
           }
          ],
          "scattergl": [
           {
            "marker": {
             "colorbar": {
              "outlinewidth": 0,
              "ticks": ""
             }
            },
            "type": "scattergl"
           }
          ],
          "scattermapbox": [
           {
            "marker": {
             "colorbar": {
              "outlinewidth": 0,
              "ticks": ""
             }
            },
            "type": "scattermapbox"
           }
          ],
          "scatterpolar": [
           {
            "marker": {
             "colorbar": {
              "outlinewidth": 0,
              "ticks": ""
             }
            },
            "type": "scatterpolar"
           }
          ],
          "scatterpolargl": [
           {
            "marker": {
             "colorbar": {
              "outlinewidth": 0,
              "ticks": ""
             }
            },
            "type": "scatterpolargl"
           }
          ],
          "scatterternary": [
           {
            "marker": {
             "colorbar": {
              "outlinewidth": 0,
              "ticks": ""
             }
            },
            "type": "scatterternary"
           }
          ],
          "surface": [
           {
            "colorbar": {
             "outlinewidth": 0,
             "ticks": ""
            },
            "colorscale": [
             [
              0,
              "#0d0887"
             ],
             [
              0.1111111111111111,
              "#46039f"
             ],
             [
              0.2222222222222222,
              "#7201a8"
             ],
             [
              0.3333333333333333,
              "#9c179e"
             ],
             [
              0.4444444444444444,
              "#bd3786"
             ],
             [
              0.5555555555555556,
              "#d8576b"
             ],
             [
              0.6666666666666666,
              "#ed7953"
             ],
             [
              0.7777777777777778,
              "#fb9f3a"
             ],
             [
              0.8888888888888888,
              "#fdca26"
             ],
             [
              1,
              "#f0f921"
             ]
            ],
            "type": "surface"
           }
          ],
          "table": [
           {
            "cells": {
             "fill": {
              "color": "#EBF0F8"
             },
             "line": {
              "color": "white"
             }
            },
            "header": {
             "fill": {
              "color": "#C8D4E3"
             },
             "line": {
              "color": "white"
             }
            },
            "type": "table"
           }
          ]
         },
         "layout": {
          "annotationdefaults": {
           "arrowcolor": "#2a3f5f",
           "arrowhead": 0,
           "arrowwidth": 1
          },
          "autotypenumbers": "strict",
          "coloraxis": {
           "colorbar": {
            "outlinewidth": 0,
            "ticks": ""
           }
          },
          "colorscale": {
           "diverging": [
            [
             0,
             "#8e0152"
            ],
            [
             0.1,
             "#c51b7d"
            ],
            [
             0.2,
             "#de77ae"
            ],
            [
             0.3,
             "#f1b6da"
            ],
            [
             0.4,
             "#fde0ef"
            ],
            [
             0.5,
             "#f7f7f7"
            ],
            [
             0.6,
             "#e6f5d0"
            ],
            [
             0.7,
             "#b8e186"
            ],
            [
             0.8,
             "#7fbc41"
            ],
            [
             0.9,
             "#4d9221"
            ],
            [
             1,
             "#276419"
            ]
           ],
           "sequential": [
            [
             0,
             "#0d0887"
            ],
            [
             0.1111111111111111,
             "#46039f"
            ],
            [
             0.2222222222222222,
             "#7201a8"
            ],
            [
             0.3333333333333333,
             "#9c179e"
            ],
            [
             0.4444444444444444,
             "#bd3786"
            ],
            [
             0.5555555555555556,
             "#d8576b"
            ],
            [
             0.6666666666666666,
             "#ed7953"
            ],
            [
             0.7777777777777778,
             "#fb9f3a"
            ],
            [
             0.8888888888888888,
             "#fdca26"
            ],
            [
             1,
             "#f0f921"
            ]
           ],
           "sequentialminus": [
            [
             0,
             "#0d0887"
            ],
            [
             0.1111111111111111,
             "#46039f"
            ],
            [
             0.2222222222222222,
             "#7201a8"
            ],
            [
             0.3333333333333333,
             "#9c179e"
            ],
            [
             0.4444444444444444,
             "#bd3786"
            ],
            [
             0.5555555555555556,
             "#d8576b"
            ],
            [
             0.6666666666666666,
             "#ed7953"
            ],
            [
             0.7777777777777778,
             "#fb9f3a"
            ],
            [
             0.8888888888888888,
             "#fdca26"
            ],
            [
             1,
             "#f0f921"
            ]
           ]
          },
          "colorway": [
           "#636efa",
           "#EF553B",
           "#00cc96",
           "#ab63fa",
           "#FFA15A",
           "#19d3f3",
           "#FF6692",
           "#B6E880",
           "#FF97FF",
           "#FECB52"
          ],
          "font": {
           "color": "#2a3f5f"
          },
          "geo": {
           "bgcolor": "white",
           "lakecolor": "white",
           "landcolor": "#E5ECF6",
           "showlakes": true,
           "showland": true,
           "subunitcolor": "white"
          },
          "hoverlabel": {
           "align": "left"
          },
          "hovermode": "closest",
          "mapbox": {
           "style": "light"
          },
          "paper_bgcolor": "white",
          "plot_bgcolor": "#E5ECF6",
          "polar": {
           "angularaxis": {
            "gridcolor": "white",
            "linecolor": "white",
            "ticks": ""
           },
           "bgcolor": "#E5ECF6",
           "radialaxis": {
            "gridcolor": "white",
            "linecolor": "white",
            "ticks": ""
           }
          },
          "scene": {
           "xaxis": {
            "backgroundcolor": "#E5ECF6",
            "gridcolor": "white",
            "gridwidth": 2,
            "linecolor": "white",
            "showbackground": true,
            "ticks": "",
            "zerolinecolor": "white"
           },
           "yaxis": {
            "backgroundcolor": "#E5ECF6",
            "gridcolor": "white",
            "gridwidth": 2,
            "linecolor": "white",
            "showbackground": true,
            "ticks": "",
            "zerolinecolor": "white"
           },
           "zaxis": {
            "backgroundcolor": "#E5ECF6",
            "gridcolor": "white",
            "gridwidth": 2,
            "linecolor": "white",
            "showbackground": true,
            "ticks": "",
            "zerolinecolor": "white"
           }
          },
          "shapedefaults": {
           "line": {
            "color": "#2a3f5f"
           }
          },
          "ternary": {
           "aaxis": {
            "gridcolor": "white",
            "linecolor": "white",
            "ticks": ""
           },
           "baxis": {
            "gridcolor": "white",
            "linecolor": "white",
            "ticks": ""
           },
           "bgcolor": "#E5ECF6",
           "caxis": {
            "gridcolor": "white",
            "linecolor": "white",
            "ticks": ""
           }
          },
          "title": {
           "x": 0.05
          },
          "xaxis": {
           "automargin": true,
           "gridcolor": "white",
           "linecolor": "white",
           "ticks": "",
           "title": {
            "standoff": 15
           },
           "zerolinecolor": "white",
           "zerolinewidth": 2
          },
          "yaxis": {
           "automargin": true,
           "gridcolor": "white",
           "linecolor": "white",
           "ticks": "",
           "title": {
            "standoff": 15
           },
           "zerolinecolor": "white",
           "zerolinewidth": 2
          }
         }
        },
        "xaxis": {
         "anchor": "y",
         "domain": [
          0,
          0.235
         ],
         "title": {
          "text": "ym"
         }
        },
        "xaxis2": {
         "anchor": "y2",
         "domain": [
          0.255,
          0.49
         ],
         "matches": "x",
         "title": {
          "text": "ym"
         }
        },
        "xaxis3": {
         "anchor": "y3",
         "domain": [
          0.51,
          0.745
         ],
         "matches": "x",
         "title": {
          "text": "ym"
         }
        },
        "xaxis4": {
         "anchor": "y4",
         "domain": [
          0.7649999999999999,
          0.9999999999999999
         ],
         "matches": "x",
         "title": {
          "text": "ym"
         }
        },
        "xaxis5": {
         "anchor": "y5",
         "domain": [
          0,
          0.235
         ],
         "matches": "x",
         "showticklabels": false
        },
        "xaxis6": {
         "anchor": "y6",
         "domain": [
          0.255,
          0.49
         ],
         "matches": "x",
         "showticklabels": false
        },
        "xaxis7": {
         "anchor": "y7",
         "domain": [
          0.51,
          0.745
         ],
         "matches": "x",
         "showticklabels": false
        },
        "xaxis8": {
         "anchor": "y8",
         "domain": [
          0.7649999999999999,
          0.9999999999999999
         ],
         "matches": "x",
         "showticklabels": false
        },
        "yaxis": {
         "anchor": "x",
         "domain": [
          0,
          0.46499999999999997
         ],
         "range": [
          0,
          1
         ],
         "title": {
          "text": "value"
         }
        },
        "yaxis2": {
         "anchor": "x2",
         "domain": [
          0,
          0.46499999999999997
         ],
         "matches": "y",
         "showticklabels": false
        },
        "yaxis3": {
         "anchor": "x3",
         "domain": [
          0,
          0.46499999999999997
         ],
         "matches": "y",
         "showticklabels": false
        },
        "yaxis4": {
         "anchor": "x4",
         "domain": [
          0,
          0.46499999999999997
         ],
         "matches": "y",
         "showticklabels": false
        },
        "yaxis5": {
         "anchor": "x5",
         "domain": [
          0.5349999999999999,
          0.9999999999999999
         ],
         "matches": "y",
         "range": [
          0,
          1
         ],
         "title": {
          "text": "value"
         }
        },
        "yaxis6": {
         "anchor": "x6",
         "domain": [
          0.5349999999999999,
          0.9999999999999999
         ],
         "matches": "y",
         "showticklabels": false
        },
        "yaxis7": {
         "anchor": "x7",
         "domain": [
          0.5349999999999999,
          0.9999999999999999
         ],
         "matches": "y",
         "showticklabels": false
        },
        "yaxis8": {
         "anchor": "x8",
         "domain": [
          0.5349999999999999,
          0.9999999999999999
         ],
         "matches": "y",
         "showticklabels": false
        }
       }
      },
      "text/html": [
       "<div>                            <div id=\"634b922f-1b59-4cea-9797-c9afff3a4336\" class=\"plotly-graph-div\" style=\"height:600.0px; width:100%;\"></div>            <script type=\"text/javascript\">                require([\"plotly\"], function(Plotly) {                    window.PLOTLYENV=window.PLOTLYENV || {};                                    if (document.getElementById(\"634b922f-1b59-4cea-9797-c9afff3a4336\")) {                    Plotly.newPlot(                        \"634b922f-1b59-4cea-9797-c9afff3a4336\",                        [{\"hovertemplate\":\"variable=pp<br>id=2576321385<br>ym=%{x}<br>value=%{y}<extra></extra>\",\"legendgroup\":\"pp\",\"line\":{\"color\":\"#636efa\",\"dash\":\"solid\"},\"marker\":{\"symbol\":\"circle\"},\"mode\":\"lines\",\"name\":\"pp\",\"orientation\":\"v\",\"showlegend\":true,\"x\":[\"2020-01-01T00:00:00\",\"2020-02-01T00:00:00\",\"2020-03-01T00:00:00\",\"2020-04-01T00:00:00\",\"2020-05-01T00:00:00\",\"2020-06-01T00:00:00\",\"2020-07-01T00:00:00\",\"2020-08-01T00:00:00\",\"2020-09-01T00:00:00\",\"2020-10-01T00:00:00\",\"2020-11-01T00:00:00\",\"2020-12-01T00:00:00\",\"2021-01-01T00:00:00\",\"2021-02-01T00:00:00\",\"2021-03-01T00:00:00\",\"2021-04-01T00:00:00\",\"2021-05-01T00:00:00\",\"2021-06-01T00:00:00\",\"2021-07-01T00:00:00\",\"2021-08-01T00:00:00\",\"2021-09-01T00:00:00\",\"2021-10-01T00:00:00\"],\"xaxis\":\"x5\",\"y\":[0.37997658077400603,0.34197024114492086,0.33347698672355214,0.3333061557249628,0.33338971582938604,0.33336109953908066,0.330969267136582,0.33333333333049525,0.33347784617763393,0.33331854087009266,0.3327772411947249,0.3326869376331625,0.33335994889545384,0.32551578204615134,0.3304828973815352,0.3439587707544955,0.37868260143998494,0.4155961234975074,0.35047444137816847,0.3349056603733078,0.33303480040515565,0.3352399900480572],\"yaxis\":\"y5\",\"type\":\"scatter\"},{\"hovertemplate\":\"variable=pp<br>id=2602819207<br>ym=%{x}<br>value=%{y}<extra></extra>\",\"legendgroup\":\"pp\",\"line\":{\"color\":\"#636efa\",\"dash\":\"solid\"},\"marker\":{\"symbol\":\"circle\"},\"mode\":\"lines\",\"name\":\"pp\",\"orientation\":\"v\",\"showlegend\":false,\"x\":[\"2020-01-01T00:00:00\",\"2020-02-01T00:00:00\",\"2020-03-01T00:00:00\",\"2020-04-01T00:00:00\",\"2020-05-01T00:00:00\",\"2020-06-01T00:00:00\",\"2020-07-01T00:00:00\",\"2020-08-01T00:00:00\",\"2020-09-01T00:00:00\",\"2020-10-01T00:00:00\",\"2020-11-01T00:00:00\",\"2020-12-01T00:00:00\",\"2021-01-01T00:00:00\",\"2021-02-01T00:00:00\",\"2021-03-01T00:00:00\",\"2021-04-01T00:00:00\",\"2021-05-01T00:00:00\",\"2021-06-01T00:00:00\",\"2021-07-01T00:00:00\",\"2021-08-01T00:00:00\",\"2021-09-01T00:00:00\",\"2021-10-01T00:00:00\"],\"xaxis\":\"x6\",\"y\":[0.3248337028779818,0.3270142180051736,0.32268959164380273,0.3188552188498509,0.3222423146415508,0.3194748358803889,0.33199060086720394,0.3336204421427847,0.3374451754339714,0.3258539852618398,0.3291903409032459,0.32836266029930866,0.32697547683552475,0.3178447849688848,0.32178797097681033,0.3222679912730522,0.324565416281741,0.32159227985136796,0.32002661343623834,0.3209292320894716,0.32529043788734036,0.32471131639347905],\"yaxis\":\"y6\",\"type\":\"scatter\"},{\"hovertemplate\":\"variable=pp<br>id=2717225077<br>ym=%{x}<br>value=%{y}<extra></extra>\",\"legendgroup\":\"pp\",\"line\":{\"color\":\"#636efa\",\"dash\":\"solid\"},\"marker\":{\"symbol\":\"circle\"},\"mode\":\"lines\",\"name\":\"pp\",\"orientation\":\"v\",\"showlegend\":false,\"x\":[\"2020-01-01T00:00:00\",\"2020-02-01T00:00:00\",\"2020-03-01T00:00:00\",\"2020-04-01T00:00:00\",\"2020-05-01T00:00:00\",\"2020-06-01T00:00:00\",\"2020-07-01T00:00:00\",\"2020-08-01T00:00:00\",\"2020-09-01T00:00:00\",\"2020-10-01T00:00:00\",\"2020-11-01T00:00:00\",\"2020-12-01T00:00:00\",\"2021-01-01T00:00:00\",\"2021-02-01T00:00:00\",\"2021-03-01T00:00:00\",\"2021-04-01T00:00:00\",\"2021-05-01T00:00:00\",\"2021-06-01T00:00:00\",\"2021-07-01T00:00:00\",\"2021-08-01T00:00:00\",\"2021-09-01T00:00:00\",\"2021-10-01T00:00:00\"],\"xaxis\":\"x7\",\"y\":[0.32952286282033194,0.330566037731691,0.3268576979063161,0.3231075697168246,0.33321479373715956,0.33345132742969374,0.33058443886302635,0.32076162577418815,0.3221003134754167,0.32609639600363727,0.32595682931056313,0.32225849817346996,0.32405986185517993,0.321909667192803,0.3225305647174945,0.32227930873172755,0.3223801065695502,0.32404103478795687,0.3250051198011809,0.3271531100456728,0.32761788119801577,0.3253868674172216],\"yaxis\":\"y7\",\"type\":\"scatter\"},{\"hovertemplate\":\"variable=pp<br>id=2745781539<br>ym=%{x}<br>value=%{y}<extra></extra>\",\"legendgroup\":\"pp\",\"line\":{\"color\":\"#636efa\",\"dash\":\"solid\"},\"marker\":{\"symbol\":\"circle\"},\"mode\":\"lines\",\"name\":\"pp\",\"orientation\":\"v\",\"showlegend\":false,\"x\":[\"2020-01-01T00:00:00\",\"2020-02-01T00:00:00\",\"2020-03-01T00:00:00\",\"2020-04-01T00:00:00\",\"2020-05-01T00:00:00\",\"2020-06-01T00:00:00\",\"2020-07-01T00:00:00\",\"2020-08-01T00:00:00\",\"2020-09-01T00:00:00\",\"2020-10-01T00:00:00\",\"2020-11-01T00:00:00\",\"2020-12-01T00:00:00\",\"2021-01-01T00:00:00\",\"2021-02-01T00:00:00\",\"2021-03-01T00:00:00\",\"2021-04-01T00:00:00\",\"2021-05-01T00:00:00\",\"2021-06-01T00:00:00\",\"2021-07-01T00:00:00\",\"2021-08-01T00:00:00\",\"2021-09-01T00:00:00\",\"2021-10-01T00:00:00\"],\"xaxis\":\"x8\",\"y\":[0.20865688812044392,0.33824925165847813,0.3427607680302477,0.36274662109396655,0.3431934334803841,0.3457777143240361,0.3334815473519084,0.340410322393735,0.34145855472674375,0.36255587159568414,0.36498847845565957,0.4003553268369763,0.34396000214857286,0.35089177267563193,0.32869508052849405,0.338824430821263,0.3367793659985401,0.3384501255401823,0.3311585707715421,0.33465246067816007,0.33820349174356135,0.33629201680495646],\"yaxis\":\"y8\",\"type\":\"scatter\"},{\"hovertemplate\":\"variable=pp<br>id=2759232590<br>ym=%{x}<br>value=%{y}<extra></extra>\",\"legendgroup\":\"pp\",\"line\":{\"color\":\"#636efa\",\"dash\":\"solid\"},\"marker\":{\"symbol\":\"circle\"},\"mode\":\"lines\",\"name\":\"pp\",\"orientation\":\"v\",\"showlegend\":false,\"x\":[\"2020-01-01T00:00:00\",\"2020-02-01T00:00:00\",\"2020-03-01T00:00:00\",\"2020-04-01T00:00:00\",\"2020-05-01T00:00:00\",\"2020-06-01T00:00:00\",\"2020-07-01T00:00:00\",\"2020-08-01T00:00:00\",\"2020-09-01T00:00:00\",\"2020-10-01T00:00:00\",\"2020-11-01T00:00:00\",\"2020-12-01T00:00:00\",\"2021-01-01T00:00:00\",\"2021-02-01T00:00:00\",\"2021-03-01T00:00:00\",\"2021-04-01T00:00:00\",\"2021-05-01T00:00:00\",\"2021-06-01T00:00:00\",\"2021-07-01T00:00:00\",\"2021-08-01T00:00:00\",\"2021-09-01T00:00:00\",\"2021-10-01T00:00:00\"],\"xaxis\":\"x\",\"y\":[0.33191747572632435,0.3232893910819424,0.31999999999452994,0.3176140350832616,0.31919500700141135,0.32144342761728945,0.3240878814959331,0.31494750874591776,0.31971620612158536,0.3260869565203706,0.3385044448288434,0.3373358348942789,0.3343867569576043,0.3360999329281011,0.33676394912639296,0.3406026962700983,0.34511529125951823,0.34586760673446243,0.3470531112247176,0.3498720831045052,0.3517912710416357,0.3521049753936413],\"yaxis\":\"y\",\"type\":\"scatter\"},{\"hovertemplate\":\"variable=pf<br>id=2576321385<br>ym=%{x}<br>value=%{y}<extra></extra>\",\"legendgroup\":\"pf\",\"line\":{\"color\":\"#EF553B\",\"dash\":\"solid\"},\"marker\":{\"symbol\":\"circle\"},\"mode\":\"lines\",\"name\":\"pf\",\"orientation\":\"v\",\"showlegend\":true,\"x\":[\"2020-01-01T00:00:00\",\"2020-02-01T00:00:00\",\"2020-03-01T00:00:00\",\"2020-04-01T00:00:00\",\"2020-05-01T00:00:00\",\"2020-06-01T00:00:00\",\"2020-07-01T00:00:00\",\"2020-08-01T00:00:00\",\"2020-09-01T00:00:00\",\"2020-10-01T00:00:00\",\"2020-11-01T00:00:00\",\"2020-12-01T00:00:00\",\"2021-01-01T00:00:00\",\"2021-02-01T00:00:00\",\"2021-03-01T00:00:00\",\"2021-04-01T00:00:00\",\"2021-05-01T00:00:00\",\"2021-06-01T00:00:00\",\"2021-07-01T00:00:00\",\"2021-08-01T00:00:00\",\"2021-09-01T00:00:00\",\"2021-10-01T00:00:00\"],\"xaxis\":\"x5\",\"y\":[0.5562060889604095,0.3597998973786583,0.3335631787594073,0.33338768854192097,0.33347428957769387,0.33344439816465266,0.33237019525144584,0.3335036185582503,0.33330443076100486,0.3342060885757779,0.3362894020516613,0.33361774743768524,0.3332002555067614,0.329218832654477,0.3139671361476025,0.3496850543963572,0.3871595330685498,0.39734054540461256,0.34726048361880535,0.333454281563456,0.3266376663213071,0.3352399900480572],\"yaxis\":\"y5\",\"type\":\"scatter\"},{\"hovertemplate\":\"variable=pf<br>id=2602819207<br>ym=%{x}<br>value=%{y}<extra></extra>\",\"legendgroup\":\"pf\",\"line\":{\"color\":\"#EF553B\",\"dash\":\"solid\"},\"marker\":{\"symbol\":\"circle\"},\"mode\":\"lines\",\"name\":\"pf\",\"orientation\":\"v\",\"showlegend\":false,\"x\":[\"2020-01-01T00:00:00\",\"2020-02-01T00:00:00\",\"2020-03-01T00:00:00\",\"2020-04-01T00:00:00\",\"2020-05-01T00:00:00\",\"2020-06-01T00:00:00\",\"2020-07-01T00:00:00\",\"2020-08-01T00:00:00\",\"2020-09-01T00:00:00\",\"2020-10-01T00:00:00\",\"2020-11-01T00:00:00\",\"2020-12-01T00:00:00\",\"2021-01-01T00:00:00\",\"2021-02-01T00:00:00\",\"2021-03-01T00:00:00\",\"2021-04-01T00:00:00\",\"2021-05-01T00:00:00\",\"2021-06-01T00:00:00\",\"2021-07-01T00:00:00\",\"2021-08-01T00:00:00\",\"2021-09-01T00:00:00\",\"2021-10-01T00:00:00\"],\"xaxis\":\"x6\",\"y\":[0.30931263857664476,0.3296471827234117,0.3233036536640574,0.3205387205333243,0.3421338155453502,0.33515681983342166,0.3528029540054917,0.3672121734084523,0.36513157894236387,0.3293703951747373,0.312144886358094,0.3048016701415926,0.3076748410500945,0.3156203657894758,0.3107886730597848,0.31257572085882507,0.31770356815739126,0.3230398069924844,0.32468396539892785,0.3217896321755023,0.318141197494212,0.30946882216732713],\"yaxis\":\"y6\",\"type\":\"scatter\"},{\"hovertemplate\":\"variable=pf<br>id=2717225077<br>ym=%{x}<br>value=%{y}<extra></extra>\",\"legendgroup\":\"pf\",\"line\":{\"color\":\"#EF553B\",\"dash\":\"solid\"},\"marker\":{\"symbol\":\"circle\"},\"mode\":\"lines\",\"name\":\"pf\",\"orientation\":\"v\",\"showlegend\":false,\"x\":[\"2020-01-01T00:00:00\",\"2020-02-01T00:00:00\",\"2020-03-01T00:00:00\",\"2020-04-01T00:00:00\",\"2020-05-01T00:00:00\",\"2020-06-01T00:00:00\",\"2020-07-01T00:00:00\",\"2020-08-01T00:00:00\",\"2020-09-01T00:00:00\",\"2020-10-01T00:00:00\",\"2020-11-01T00:00:00\",\"2020-12-01T00:00:00\",\"2021-01-01T00:00:00\",\"2021-02-01T00:00:00\",\"2021-03-01T00:00:00\",\"2021-04-01T00:00:00\",\"2021-05-01T00:00:00\",\"2021-06-01T00:00:00\",\"2021-07-01T00:00:00\",\"2021-08-01T00:00:00\",\"2021-09-01T00:00:00\",\"2021-10-01T00:00:00\"],\"xaxis\":\"x7\",\"y\":[0.3354870775320122,0.3309433962222523,0.31617289946064153,0.3334661354537388,0.3421052631538394,0.34654867256228256,0.3381140193577373,0.3258879531267437,0.3213166144158658,0.32001736864804353,0.3179756938126974,0.31035144996920583,0.31331542593813433,0.3122028526128354,0.3145740345409498,0.3180756655743572,0.3221580817027667,0.32359500445789774,0.3252099119371615,0.3243620414651491,0.324556031841025,0.3193224592198569],\"yaxis\":\"y7\",\"type\":\"scatter\"},{\"hovertemplate\":\"variable=pf<br>id=2745781539<br>ym=%{x}<br>value=%{y}<extra></extra>\",\"legendgroup\":\"pf\",\"line\":{\"color\":\"#EF553B\",\"dash\":\"solid\"},\"marker\":{\"symbol\":\"circle\"},\"mode\":\"lines\",\"name\":\"pf\",\"orientation\":\"v\",\"showlegend\":false,\"x\":[\"2020-01-01T00:00:00\",\"2020-02-01T00:00:00\",\"2020-03-01T00:00:00\",\"2020-04-01T00:00:00\",\"2020-05-01T00:00:00\",\"2020-06-01T00:00:00\",\"2020-07-01T00:00:00\",\"2020-08-01T00:00:00\",\"2020-09-01T00:00:00\",\"2020-10-01T00:00:00\",\"2020-11-01T00:00:00\",\"2020-12-01T00:00:00\",\"2021-01-01T00:00:00\",\"2021-02-01T00:00:00\",\"2021-03-01T00:00:00\",\"2021-04-01T00:00:00\",\"2021-05-01T00:00:00\",\"2021-06-01T00:00:00\",\"2021-07-01T00:00:00\",\"2021-08-01T00:00:00\",\"2021-09-01T00:00:00\",\"2021-10-01T00:00:00\"],\"xaxis\":\"x8\",\"y\":[0.4516824848975289,0.34525808570967903,0.39084933402187466,0.3678732328695986,0.3558153941431329,0.32657577271520755,0.3437083148040336,0.331903638570792,0.37187832093270534,0.39567249085603523,0.3948048320620431,0.3904306806322953,0.3410031718706467,0.3494214664683921,0.34792374273941096,0.3228436952696867,0.32306556252796526,0.32606710796435706,0.3348284825916977,0.337696600708586,0.33604093042704763,0.3342962184856392],\"yaxis\":\"y8\",\"type\":\"scatter\"},{\"hovertemplate\":\"variable=pf<br>id=2759232590<br>ym=%{x}<br>value=%{y}<extra></extra>\",\"legendgroup\":\"pf\",\"line\":{\"color\":\"#EF553B\",\"dash\":\"solid\"},\"marker\":{\"symbol\":\"circle\"},\"mode\":\"lines\",\"name\":\"pf\",\"orientation\":\"v\",\"showlegend\":false,\"x\":[\"2020-01-01T00:00:00\",\"2020-02-01T00:00:00\",\"2020-03-01T00:00:00\",\"2020-04-01T00:00:00\",\"2020-05-01T00:00:00\",\"2020-06-01T00:00:00\",\"2020-07-01T00:00:00\",\"2020-08-01T00:00:00\",\"2020-09-01T00:00:00\",\"2020-10-01T00:00:00\",\"2020-11-01T00:00:00\",\"2020-12-01T00:00:00\",\"2021-01-01T00:00:00\",\"2021-02-01T00:00:00\",\"2021-03-01T00:00:00\",\"2021-04-01T00:00:00\",\"2021-05-01T00:00:00\",\"2021-06-01T00:00:00\",\"2021-07-01T00:00:00\",\"2021-08-01T00:00:00\",\"2021-09-01T00:00:00\",\"2021-10-01T00:00:00\"],\"xaxis\":\"x\",\"y\":[0.3372683142082013,0.31738857501170886,0.31179487178954196,0.32715789473225043,0.3335880779476043,0.3405782029914665,0.33899990058316926,0.32644559239854654,0.32815533980337447,0.3233171059244447,0.33118354540412076,0.3268292682902302,0.3282919488312393,0.32142857142587666,0.3228699551545771,0.3316415543193367,0.33737864077414,0.34030552291155264,0.34204825576796855,0.3435925265497822,0.34101970796823566,0.33882683745732384],\"yaxis\":\"y\",\"type\":\"scatter\"},{\"hovertemplate\":\"variable=pg<br>id=2576321385<br>ym=%{x}<br>value=%{y}<extra></extra>\",\"legendgroup\":\"pg\",\"line\":{\"color\":\"#00cc96\",\"dash\":\"solid\"},\"marker\":{\"symbol\":\"circle\"},\"mode\":\"lines\",\"name\":\"pg\",\"orientation\":\"v\",\"showlegend\":true,\"x\":[\"2020-01-01T00:00:00\",\"2020-02-01T00:00:00\",\"2020-03-01T00:00:00\",\"2020-04-01T00:00:00\",\"2020-05-01T00:00:00\",\"2020-06-01T00:00:00\",\"2020-07-01T00:00:00\",\"2020-08-01T00:00:00\",\"2020-09-01T00:00:00\",\"2020-10-01T00:00:00\",\"2020-11-01T00:00:00\",\"2020-12-01T00:00:00\",\"2021-01-01T00:00:00\",\"2021-02-01T00:00:00\",\"2021-03-01T00:00:00\",\"2021-04-01T00:00:00\",\"2021-05-01T00:00:00\",\"2021-06-01T00:00:00\",\"2021-07-01T00:00:00\",\"2021-08-01T00:00:00\",\"2021-09-01T00:00:00\",\"2021-10-01T00:00:00\"],\"xaxis\":\"x5\",\"y\":[0.06381733020703645,0.29822986146359376,0.33295983450842126,0.3333061557249628,0.33313599458446264,0.33319450228793673,0.33666053760321635,0.33316304810274017,0.3332177230526904,0.3324753705496917,0.3309333567448333,0.3336953149213955,0.3334397955898,0.34526538529055484,0.3555499664624786,0.30635617483960337,0.23415786547756867,0.1870633310753423,0.3022650749877217,0.3316400580511412,0.340327533260743,0.3295200198914509],\"yaxis\":\"y5\",\"type\":\"scatter\"},{\"hovertemplate\":\"variable=pg<br>id=2602819207<br>ym=%{x}<br>value=%{y}<extra></extra>\",\"legendgroup\":\"pg\",\"line\":{\"color\":\"#00cc96\",\"dash\":\"solid\"},\"marker\":{\"symbol\":\"circle\"},\"mode\":\"lines\",\"name\":\"pg\",\"orientation\":\"v\",\"showlegend\":false,\"x\":[\"2020-01-01T00:00:00\",\"2020-02-01T00:00:00\",\"2020-03-01T00:00:00\",\"2020-04-01T00:00:00\",\"2020-05-01T00:00:00\",\"2020-06-01T00:00:00\",\"2020-07-01T00:00:00\",\"2020-08-01T00:00:00\",\"2020-09-01T00:00:00\",\"2020-10-01T00:00:00\",\"2020-11-01T00:00:00\",\"2020-12-01T00:00:00\",\"2021-01-01T00:00:00\",\"2021-02-01T00:00:00\",\"2021-03-01T00:00:00\",\"2021-04-01T00:00:00\",\"2021-05-01T00:00:00\",\"2021-06-01T00:00:00\",\"2021-07-01T00:00:00\",\"2021-08-01T00:00:00\",\"2021-09-01T00:00:00\",\"2021-10-01T00:00:00\"],\"xaxis\":\"x6\",\"y\":[0.36585365853151536,0.3433385992582499,0.3540067546767884,0.3606060605999898,0.33562386979501585,0.34536834426795465,0.3152064451105202,0.2991673844344076,0.2974232456099586,0.3447756195550504,0.3586647727209044,0.3668356695441868,0.3653496821030273,0.3665348492292816,0.3674233559517034,0.3651562878560073,0.3577310155494312,0.3553679131440848,0.35528942115374484,0.357281135724271,0.3565683646072769,0.3658198614276464],\"yaxis\":\"y6\",\"type\":\"scatter\"},{\"hovertemplate\":\"variable=pg<br>id=2717225077<br>ym=%{x}<br>value=%{y}<extra></extra>\",\"legendgroup\":\"pg\",\"line\":{\"color\":\"#00cc96\",\"dash\":\"solid\"},\"marker\":{\"symbol\":\"circle\"},\"mode\":\"lines\",\"name\":\"pg\",\"orientation\":\"v\",\"showlegend\":false,\"x\":[\"2020-01-01T00:00:00\",\"2020-02-01T00:00:00\",\"2020-03-01T00:00:00\",\"2020-04-01T00:00:00\",\"2020-05-01T00:00:00\",\"2020-06-01T00:00:00\",\"2020-07-01T00:00:00\",\"2020-08-01T00:00:00\",\"2020-09-01T00:00:00\",\"2020-10-01T00:00:00\",\"2020-11-01T00:00:00\",\"2020-12-01T00:00:00\",\"2021-01-01T00:00:00\",\"2021-02-01T00:00:00\",\"2021-03-01T00:00:00\",\"2021-04-01T00:00:00\",\"2021-05-01T00:00:00\",\"2021-06-01T00:00:00\",\"2021-07-01T00:00:00\",\"2021-08-01T00:00:00\",\"2021-09-01T00:00:00\",\"2021-10-01T00:00:00\"],\"xaxis\":\"x7\",\"y\":[0.3349900596393722,0.3384905660334781,0.35696940261685334,0.3434262948161564,0.324679943097147,0.31999999999622414,0.33130154176728455,0.35335042108686254,0.35658307209565593,0.3538862353434945,0.35606747687069307,0.3673900518509225,0.3626247122002902,0.36588748018775824,0.362895400735087,0.3596450256861307,0.35546181172028224,0.3523639607467115,0.34978496825483113,0.34848484848253264,0.34782608695415507,0.3552906733559508],\"yaxis\":\"y7\",\"type\":\"scatter\"},{\"hovertemplate\":\"variable=pg<br>id=2745781539<br>ym=%{x}<br>value=%{y}<extra></extra>\",\"legendgroup\":\"pg\",\"line\":{\"color\":\"#00cc96\",\"dash\":\"solid\"},\"marker\":{\"symbol\":\"circle\"},\"mode\":\"lines\",\"name\":\"pg\",\"orientation\":\"v\",\"showlegend\":false,\"x\":[\"2020-01-01T00:00:00\",\"2020-02-01T00:00:00\",\"2020-03-01T00:00:00\",\"2020-04-01T00:00:00\",\"2020-05-01T00:00:00\",\"2020-06-01T00:00:00\",\"2020-07-01T00:00:00\",\"2020-08-01T00:00:00\",\"2020-09-01T00:00:00\",\"2020-10-01T00:00:00\",\"2020-11-01T00:00:00\",\"2020-12-01T00:00:00\",\"2021-01-01T00:00:00\",\"2021-02-01T00:00:00\",\"2021-03-01T00:00:00\",\"2021-04-01T00:00:00\",\"2021-05-01T00:00:00\",\"2021-06-01T00:00:00\",\"2021-07-01T00:00:00\",\"2021-08-01T00:00:00\",\"2021-09-01T00:00:00\",\"2021-10-01T00:00:00\"],\"xaxis\":\"x8\",\"y\":[0.33966062697483707,0.3164926626245419,0.26638989793922857,0.2693801460286672,0.3009911723687394,0.327646512953618,0.3228101378366473,0.3276860390283245,0.28666312433390895,0.24177163754489445,0.2402066894753145,0.209213992524602,0.31503682597540433,0.2996867608495833,0.3233811767266167,0.33833187390357744,0.34015507146822005,0.3354827664897541,0.3340129466316631,0.32765093860818034,0.32575557782411646,0.32941176470415223],\"yaxis\":\"y8\",\"type\":\"scatter\"},{\"hovertemplate\":\"variable=pg<br>id=2759232590<br>ym=%{x}<br>value=%{y}<extra></extra>\",\"legendgroup\":\"pg\",\"line\":{\"color\":\"#00cc96\",\"dash\":\"solid\"},\"marker\":{\"symbol\":\"circle\"},\"mode\":\"lines\",\"name\":\"pg\",\"orientation\":\"v\",\"showlegend\":false,\"x\":[\"2020-01-01T00:00:00\",\"2020-02-01T00:00:00\",\"2020-03-01T00:00:00\",\"2020-04-01T00:00:00\",\"2020-05-01T00:00:00\",\"2020-06-01T00:00:00\",\"2020-07-01T00:00:00\",\"2020-08-01T00:00:00\",\"2020-09-01T00:00:00\",\"2020-10-01T00:00:00\",\"2020-11-01T00:00:00\",\"2020-12-01T00:00:00\",\"2021-01-01T00:00:00\",\"2021-02-01T00:00:00\",\"2021-03-01T00:00:00\",\"2021-04-01T00:00:00\",\"2021-05-01T00:00:00\",\"2021-06-01T00:00:00\",\"2021-07-01T00:00:00\",\"2021-08-01T00:00:00\",\"2021-09-01T00:00:00\",\"2021-10-01T00:00:00\"],\"xaxis\":\"x\",\"y\":[0.330814210059958,0.3593220338937938,0.3682051281988341,0.35522807017045294,0.34721691503824714,0.33797836938084463,0.3369122179109562,0.3586068988472037,0.3521284540675718,0.35059593755098795,0.3303120097583204,0.3358348968079862,0.3373212942036319,0.34247149563763857,0.34036609571167853,0.32775574940263474,0.31750606795875674,0.313826870346151,0.3108986329998439,0.30653539033796,0.3071890209821496,0.30906818714122414],\"yaxis\":\"y\",\"type\":\"scatter\"}],                        {\"template\":{\"data\":{\"bar\":[{\"error_x\":{\"color\":\"#2a3f5f\"},\"error_y\":{\"color\":\"#2a3f5f\"},\"marker\":{\"line\":{\"color\":\"#E5ECF6\",\"width\":0.5},\"pattern\":{\"fillmode\":\"overlay\",\"size\":10,\"solidity\":0.2}},\"type\":\"bar\"}],\"barpolar\":[{\"marker\":{\"line\":{\"color\":\"#E5ECF6\",\"width\":0.5},\"pattern\":{\"fillmode\":\"overlay\",\"size\":10,\"solidity\":0.2}},\"type\":\"barpolar\"}],\"carpet\":[{\"aaxis\":{\"endlinecolor\":\"#2a3f5f\",\"gridcolor\":\"white\",\"linecolor\":\"white\",\"minorgridcolor\":\"white\",\"startlinecolor\":\"#2a3f5f\"},\"baxis\":{\"endlinecolor\":\"#2a3f5f\",\"gridcolor\":\"white\",\"linecolor\":\"white\",\"minorgridcolor\":\"white\",\"startlinecolor\":\"#2a3f5f\"},\"type\":\"carpet\"}],\"choropleth\":[{\"colorbar\":{\"outlinewidth\":0,\"ticks\":\"\"},\"type\":\"choropleth\"}],\"contour\":[{\"colorbar\":{\"outlinewidth\":0,\"ticks\":\"\"},\"colorscale\":[[0.0,\"#0d0887\"],[0.1111111111111111,\"#46039f\"],[0.2222222222222222,\"#7201a8\"],[0.3333333333333333,\"#9c179e\"],[0.4444444444444444,\"#bd3786\"],[0.5555555555555556,\"#d8576b\"],[0.6666666666666666,\"#ed7953\"],[0.7777777777777778,\"#fb9f3a\"],[0.8888888888888888,\"#fdca26\"],[1.0,\"#f0f921\"]],\"type\":\"contour\"}],\"contourcarpet\":[{\"colorbar\":{\"outlinewidth\":0,\"ticks\":\"\"},\"type\":\"contourcarpet\"}],\"heatmap\":[{\"colorbar\":{\"outlinewidth\":0,\"ticks\":\"\"},\"colorscale\":[[0.0,\"#0d0887\"],[0.1111111111111111,\"#46039f\"],[0.2222222222222222,\"#7201a8\"],[0.3333333333333333,\"#9c179e\"],[0.4444444444444444,\"#bd3786\"],[0.5555555555555556,\"#d8576b\"],[0.6666666666666666,\"#ed7953\"],[0.7777777777777778,\"#fb9f3a\"],[0.8888888888888888,\"#fdca26\"],[1.0,\"#f0f921\"]],\"type\":\"heatmap\"}],\"heatmapgl\":[{\"colorbar\":{\"outlinewidth\":0,\"ticks\":\"\"},\"colorscale\":[[0.0,\"#0d0887\"],[0.1111111111111111,\"#46039f\"],[0.2222222222222222,\"#7201a8\"],[0.3333333333333333,\"#9c179e\"],[0.4444444444444444,\"#bd3786\"],[0.5555555555555556,\"#d8576b\"],[0.6666666666666666,\"#ed7953\"],[0.7777777777777778,\"#fb9f3a\"],[0.8888888888888888,\"#fdca26\"],[1.0,\"#f0f921\"]],\"type\":\"heatmapgl\"}],\"histogram\":[{\"marker\":{\"pattern\":{\"fillmode\":\"overlay\",\"size\":10,\"solidity\":0.2}},\"type\":\"histogram\"}],\"histogram2d\":[{\"colorbar\":{\"outlinewidth\":0,\"ticks\":\"\"},\"colorscale\":[[0.0,\"#0d0887\"],[0.1111111111111111,\"#46039f\"],[0.2222222222222222,\"#7201a8\"],[0.3333333333333333,\"#9c179e\"],[0.4444444444444444,\"#bd3786\"],[0.5555555555555556,\"#d8576b\"],[0.6666666666666666,\"#ed7953\"],[0.7777777777777778,\"#fb9f3a\"],[0.8888888888888888,\"#fdca26\"],[1.0,\"#f0f921\"]],\"type\":\"histogram2d\"}],\"histogram2dcontour\":[{\"colorbar\":{\"outlinewidth\":0,\"ticks\":\"\"},\"colorscale\":[[0.0,\"#0d0887\"],[0.1111111111111111,\"#46039f\"],[0.2222222222222222,\"#7201a8\"],[0.3333333333333333,\"#9c179e\"],[0.4444444444444444,\"#bd3786\"],[0.5555555555555556,\"#d8576b\"],[0.6666666666666666,\"#ed7953\"],[0.7777777777777778,\"#fb9f3a\"],[0.8888888888888888,\"#fdca26\"],[1.0,\"#f0f921\"]],\"type\":\"histogram2dcontour\"}],\"mesh3d\":[{\"colorbar\":{\"outlinewidth\":0,\"ticks\":\"\"},\"type\":\"mesh3d\"}],\"parcoords\":[{\"line\":{\"colorbar\":{\"outlinewidth\":0,\"ticks\":\"\"}},\"type\":\"parcoords\"}],\"pie\":[{\"automargin\":true,\"type\":\"pie\"}],\"scatter\":[{\"marker\":{\"colorbar\":{\"outlinewidth\":0,\"ticks\":\"\"}},\"type\":\"scatter\"}],\"scatter3d\":[{\"line\":{\"colorbar\":{\"outlinewidth\":0,\"ticks\":\"\"}},\"marker\":{\"colorbar\":{\"outlinewidth\":0,\"ticks\":\"\"}},\"type\":\"scatter3d\"}],\"scattercarpet\":[{\"marker\":{\"colorbar\":{\"outlinewidth\":0,\"ticks\":\"\"}},\"type\":\"scattercarpet\"}],\"scattergeo\":[{\"marker\":{\"colorbar\":{\"outlinewidth\":0,\"ticks\":\"\"}},\"type\":\"scattergeo\"}],\"scattergl\":[{\"marker\":{\"colorbar\":{\"outlinewidth\":0,\"ticks\":\"\"}},\"type\":\"scattergl\"}],\"scattermapbox\":[{\"marker\":{\"colorbar\":{\"outlinewidth\":0,\"ticks\":\"\"}},\"type\":\"scattermapbox\"}],\"scatterpolar\":[{\"marker\":{\"colorbar\":{\"outlinewidth\":0,\"ticks\":\"\"}},\"type\":\"scatterpolar\"}],\"scatterpolargl\":[{\"marker\":{\"colorbar\":{\"outlinewidth\":0,\"ticks\":\"\"}},\"type\":\"scatterpolargl\"}],\"scatterternary\":[{\"marker\":{\"colorbar\":{\"outlinewidth\":0,\"ticks\":\"\"}},\"type\":\"scatterternary\"}],\"surface\":[{\"colorbar\":{\"outlinewidth\":0,\"ticks\":\"\"},\"colorscale\":[[0.0,\"#0d0887\"],[0.1111111111111111,\"#46039f\"],[0.2222222222222222,\"#7201a8\"],[0.3333333333333333,\"#9c179e\"],[0.4444444444444444,\"#bd3786\"],[0.5555555555555556,\"#d8576b\"],[0.6666666666666666,\"#ed7953\"],[0.7777777777777778,\"#fb9f3a\"],[0.8888888888888888,\"#fdca26\"],[1.0,\"#f0f921\"]],\"type\":\"surface\"}],\"table\":[{\"cells\":{\"fill\":{\"color\":\"#EBF0F8\"},\"line\":{\"color\":\"white\"}},\"header\":{\"fill\":{\"color\":\"#C8D4E3\"},\"line\":{\"color\":\"white\"}},\"type\":\"table\"}]},\"layout\":{\"annotationdefaults\":{\"arrowcolor\":\"#2a3f5f\",\"arrowhead\":0,\"arrowwidth\":1},\"autotypenumbers\":\"strict\",\"coloraxis\":{\"colorbar\":{\"outlinewidth\":0,\"ticks\":\"\"}},\"colorscale\":{\"diverging\":[[0,\"#8e0152\"],[0.1,\"#c51b7d\"],[0.2,\"#de77ae\"],[0.3,\"#f1b6da\"],[0.4,\"#fde0ef\"],[0.5,\"#f7f7f7\"],[0.6,\"#e6f5d0\"],[0.7,\"#b8e186\"],[0.8,\"#7fbc41\"],[0.9,\"#4d9221\"],[1,\"#276419\"]],\"sequential\":[[0.0,\"#0d0887\"],[0.1111111111111111,\"#46039f\"],[0.2222222222222222,\"#7201a8\"],[0.3333333333333333,\"#9c179e\"],[0.4444444444444444,\"#bd3786\"],[0.5555555555555556,\"#d8576b\"],[0.6666666666666666,\"#ed7953\"],[0.7777777777777778,\"#fb9f3a\"],[0.8888888888888888,\"#fdca26\"],[1.0,\"#f0f921\"]],\"sequentialminus\":[[0.0,\"#0d0887\"],[0.1111111111111111,\"#46039f\"],[0.2222222222222222,\"#7201a8\"],[0.3333333333333333,\"#9c179e\"],[0.4444444444444444,\"#bd3786\"],[0.5555555555555556,\"#d8576b\"],[0.6666666666666666,\"#ed7953\"],[0.7777777777777778,\"#fb9f3a\"],[0.8888888888888888,\"#fdca26\"],[1.0,\"#f0f921\"]]},\"colorway\":[\"#636efa\",\"#EF553B\",\"#00cc96\",\"#ab63fa\",\"#FFA15A\",\"#19d3f3\",\"#FF6692\",\"#B6E880\",\"#FF97FF\",\"#FECB52\"],\"font\":{\"color\":\"#2a3f5f\"},\"geo\":{\"bgcolor\":\"white\",\"lakecolor\":\"white\",\"landcolor\":\"#E5ECF6\",\"showlakes\":true,\"showland\":true,\"subunitcolor\":\"white\"},\"hoverlabel\":{\"align\":\"left\"},\"hovermode\":\"closest\",\"mapbox\":{\"style\":\"light\"},\"paper_bgcolor\":\"white\",\"plot_bgcolor\":\"#E5ECF6\",\"polar\":{\"angularaxis\":{\"gridcolor\":\"white\",\"linecolor\":\"white\",\"ticks\":\"\"},\"bgcolor\":\"#E5ECF6\",\"radialaxis\":{\"gridcolor\":\"white\",\"linecolor\":\"white\",\"ticks\":\"\"}},\"scene\":{\"xaxis\":{\"backgroundcolor\":\"#E5ECF6\",\"gridcolor\":\"white\",\"gridwidth\":2,\"linecolor\":\"white\",\"showbackground\":true,\"ticks\":\"\",\"zerolinecolor\":\"white\"},\"yaxis\":{\"backgroundcolor\":\"#E5ECF6\",\"gridcolor\":\"white\",\"gridwidth\":2,\"linecolor\":\"white\",\"showbackground\":true,\"ticks\":\"\",\"zerolinecolor\":\"white\"},\"zaxis\":{\"backgroundcolor\":\"#E5ECF6\",\"gridcolor\":\"white\",\"gridwidth\":2,\"linecolor\":\"white\",\"showbackground\":true,\"ticks\":\"\",\"zerolinecolor\":\"white\"}},\"shapedefaults\":{\"line\":{\"color\":\"#2a3f5f\"}},\"ternary\":{\"aaxis\":{\"gridcolor\":\"white\",\"linecolor\":\"white\",\"ticks\":\"\"},\"baxis\":{\"gridcolor\":\"white\",\"linecolor\":\"white\",\"ticks\":\"\"},\"bgcolor\":\"#E5ECF6\",\"caxis\":{\"gridcolor\":\"white\",\"linecolor\":\"white\",\"ticks\":\"\"}},\"title\":{\"x\":0.05},\"xaxis\":{\"automargin\":true,\"gridcolor\":\"white\",\"linecolor\":\"white\",\"ticks\":\"\",\"title\":{\"standoff\":15},\"zerolinecolor\":\"white\",\"zerolinewidth\":2},\"yaxis\":{\"automargin\":true,\"gridcolor\":\"white\",\"linecolor\":\"white\",\"ticks\":\"\",\"title\":{\"standoff\":15},\"zerolinecolor\":\"white\",\"zerolinewidth\":2}}},\"xaxis\":{\"anchor\":\"y\",\"domain\":[0.0,0.235],\"title\":{\"text\":\"ym\"}},\"yaxis\":{\"anchor\":\"x\",\"domain\":[0.0,0.46499999999999997],\"title\":{\"text\":\"value\"},\"range\":[0,1]},\"xaxis2\":{\"anchor\":\"y2\",\"domain\":[0.255,0.49],\"matches\":\"x\",\"title\":{\"text\":\"ym\"}},\"yaxis2\":{\"anchor\":\"x2\",\"domain\":[0.0,0.46499999999999997],\"matches\":\"y\",\"showticklabels\":false},\"xaxis3\":{\"anchor\":\"y3\",\"domain\":[0.51,0.745],\"matches\":\"x\",\"title\":{\"text\":\"ym\"}},\"yaxis3\":{\"anchor\":\"x3\",\"domain\":[0.0,0.46499999999999997],\"matches\":\"y\",\"showticklabels\":false},\"xaxis4\":{\"anchor\":\"y4\",\"domain\":[0.7649999999999999,0.9999999999999999],\"matches\":\"x\",\"title\":{\"text\":\"ym\"}},\"yaxis4\":{\"anchor\":\"x4\",\"domain\":[0.0,0.46499999999999997],\"matches\":\"y\",\"showticklabels\":false},\"xaxis5\":{\"anchor\":\"y5\",\"domain\":[0.0,0.235],\"matches\":\"x\",\"showticklabels\":false},\"yaxis5\":{\"anchor\":\"x5\",\"domain\":[0.5349999999999999,0.9999999999999999],\"matches\":\"y\",\"title\":{\"text\":\"value\"},\"range\":[0,1]},\"xaxis6\":{\"anchor\":\"y6\",\"domain\":[0.255,0.49],\"matches\":\"x\",\"showticklabels\":false},\"yaxis6\":{\"anchor\":\"x6\",\"domain\":[0.5349999999999999,0.9999999999999999],\"matches\":\"y\",\"showticklabels\":false},\"xaxis7\":{\"anchor\":\"y7\",\"domain\":[0.51,0.745],\"matches\":\"x\",\"showticklabels\":false},\"yaxis7\":{\"anchor\":\"x7\",\"domain\":[0.5349999999999999,0.9999999999999999],\"matches\":\"y\",\"showticklabels\":false},\"xaxis8\":{\"anchor\":\"y8\",\"domain\":[0.7649999999999999,0.9999999999999999],\"matches\":\"x\",\"showticklabels\":false},\"yaxis8\":{\"anchor\":\"x8\",\"domain\":[0.5349999999999999,0.9999999999999999],\"matches\":\"y\",\"showticklabels\":false},\"annotations\":[{\"font\":{},\"showarrow\":false,\"text\":\"id=2759232590\",\"x\":0.1175,\"xanchor\":\"center\",\"xref\":\"paper\",\"y\":0.46499999999999997,\"yanchor\":\"bottom\",\"yref\":\"paper\"},{\"font\":{},\"showarrow\":false,\"text\":\"id=2576321385\",\"x\":0.1175,\"xanchor\":\"center\",\"xref\":\"paper\",\"y\":0.9999999999999999,\"yanchor\":\"bottom\",\"yref\":\"paper\"},{\"font\":{},\"showarrow\":false,\"text\":\"id=2602819207\",\"x\":0.3725,\"xanchor\":\"center\",\"xref\":\"paper\",\"y\":0.9999999999999999,\"yanchor\":\"bottom\",\"yref\":\"paper\"},{\"font\":{},\"showarrow\":false,\"text\":\"id=2717225077\",\"x\":0.6275,\"xanchor\":\"center\",\"xref\":\"paper\",\"y\":0.9999999999999999,\"yanchor\":\"bottom\",\"yref\":\"paper\"},{\"font\":{},\"showarrow\":false,\"text\":\"id=2745781539\",\"x\":0.8824999999999998,\"xanchor\":\"center\",\"xref\":\"paper\",\"y\":0.9999999999999999,\"yanchor\":\"bottom\",\"yref\":\"paper\"}],\"legend\":{\"title\":{\"text\":\"variable\"},\"tracegroupgap\":0},\"margin\":{\"t\":60},\"height\":600.0},                        {\"responsive\": true}                    ).then(function(){\n",
       "                            \n",
       "var gd = document.getElementById('634b922f-1b59-4cea-9797-c9afff3a4336');\n",
       "var x = new MutationObserver(function (mutations, observer) {{\n",
       "        var display = window.getComputedStyle(gd).display;\n",
       "        if (!display || display === 'none') {{\n",
       "            console.log([gd, 'removed!']);\n",
       "            Plotly.purge(gd);\n",
       "            observer.disconnect();\n",
       "        }}\n",
       "}});\n",
       "\n",
       "// Listen for the removal of the full notebook cells\n",
       "var notebookContainer = gd.closest('#notebook-container');\n",
       "if (notebookContainer) {{\n",
       "    x.observe(notebookContainer, {childList: true});\n",
       "}}\n",
       "\n",
       "// Listen for the clearing of the current output cell\n",
       "var outputEl = gd.closest('.output');\n",
       "if (outputEl) {{\n",
       "    x.observe(outputEl, {childList: true});\n",
       "}}\n",
       "\n",
       "                        })                };                });            </script>        </div>"
      ]
     },
     "metadata": {},
     "output_type": "display_data"
    }
   ],
   "source": [
    "plt_month(pred.index.unique(), df=ds.month)\n"
   ]
  },
  {
   "cell_type": "code",
   "execution_count": 83,
   "metadata": {},
   "outputs": [
    {
     "name": "stdout",
     "output_type": "stream",
     "text": [
      "16\n",
      "25\n"
     ]
    },
    {
     "data": {
      "text/plain": [
       "13"
      ]
     },
     "execution_count": 83,
     "metadata": {},
     "output_type": "execute_result"
    }
   ],
   "source": [
    "s1 = set([179458306, 2745781539, 2071313507, 2212416005, 2471562086, 2251440776, 2576321385, 855996491, 179433516, 1606708811, 2186749200, 2445049876, 2717225077, 2427050072, 1916407803, 2172970175])\n",
    "s2 = set([2496032641, 179458306, 2479963778, 2212416005, 2602819207, 2251440776, 2186749200, 2445049876, 179569820, 2451165982, 2172970175, 855996491, 1606708811, 2238809293, 2759232590, 2347718608, 2347718610, 2523401557, 2427050072, 2535198432, 2071313507, 2256064355, 2471562086, 2717225077, 1916407803])\n",
    "print(len(s1))\n",
    "print(len(s2))\n",
    "len(s1 & s2)"
   ]
  },
  {
   "cell_type": "code",
   "execution_count": 44,
   "metadata": {},
   "outputs": [
    {
     "data": {
      "text/plain": [
       "Index(['ym', 'pq_f', 'pq_g', 'pq_p', 'pq_z', 'pf', 'pg', 'pp', '   ',\n",
       "       'ELEC_TYPE_NAME', 'VOLT_NAME', 'PRC_NAME', 'CONTRACT_CAP', 'RUN_CAP',\n",
       "       'SHIFT_NO', 'BUILD_DATE', 'CANCEL_DATE', 'CHK_CYCLE', 'LAST_CHK_DATE',\n",
       "       'TMP_NAME', 'TMP_DATE', 'IS_FLAG', 'label', 'p_f', 'p_g', 'f_g',\n",
       "       'monthcv', 'pq_cv'],\n",
       "      dtype='object')"
      ]
     },
     "execution_count": 44,
     "metadata": {},
     "output_type": "execute_result"
    }
   ],
   "source": [
    "ds.month.columns"
   ]
  },
  {
   "cell_type": "code",
   "execution_count": 60,
   "metadata": {},
   "outputs": [
    {
     "name": "stdout",
     "output_type": "stream",
     "text": [
      "43\n"
     ]
    },
    {
     "data": {
      "text/html": [
       "<div>\n",
       "<style scoped>\n",
       "    .dataframe tbody tr th:only-of-type {\n",
       "        vertical-align: middle;\n",
       "    }\n",
       "\n",
       "    .dataframe tbody tr th {\n",
       "        vertical-align: top;\n",
       "    }\n",
       "\n",
       "    .dataframe thead th {\n",
       "        text-align: right;\n",
       "    }\n",
       "</style>\n",
       "<table border=\"1\" class=\"dataframe\">\n",
       "  <thead>\n",
       "    <tr style=\"text-align: right;\">\n",
       "      <th></th>\n",
       "      <th>id</th>\n",
       "      <th>label</th>\n",
       "    </tr>\n",
       "  </thead>\n",
       "  <tbody>\n",
       "    <tr>\n",
       "      <th>0</th>\n",
       "      <td>179406029</td>\n",
       "      <td>0</td>\n",
       "    </tr>\n",
       "    <tr>\n",
       "      <th>1</th>\n",
       "      <td>179406030</td>\n",
       "      <td>0</td>\n",
       "    </tr>\n",
       "    <tr>\n",
       "      <th>2</th>\n",
       "      <td>179406094</td>\n",
       "      <td>0</td>\n",
       "    </tr>\n",
       "    <tr>\n",
       "      <th>3</th>\n",
       "      <td>179406097</td>\n",
       "      <td>0</td>\n",
       "    </tr>\n",
       "    <tr>\n",
       "      <th>4</th>\n",
       "      <td>179406099</td>\n",
       "      <td>0</td>\n",
       "    </tr>\n",
       "    <tr>\n",
       "      <th>...</th>\n",
       "      <td>...</td>\n",
       "      <td>...</td>\n",
       "    </tr>\n",
       "    <tr>\n",
       "      <th>15374</th>\n",
       "      <td>2849971818</td>\n",
       "      <td>0</td>\n",
       "    </tr>\n",
       "    <tr>\n",
       "      <th>15375</th>\n",
       "      <td>2850017469</td>\n",
       "      <td>0</td>\n",
       "    </tr>\n",
       "    <tr>\n",
       "      <th>15376</th>\n",
       "      <td>2850017472</td>\n",
       "      <td>0</td>\n",
       "    </tr>\n",
       "    <tr>\n",
       "      <th>15377</th>\n",
       "      <td>2851323065</td>\n",
       "      <td>0</td>\n",
       "    </tr>\n",
       "    <tr>\n",
       "      <th>15378</th>\n",
       "      <td>2852368013</td>\n",
       "      <td>0</td>\n",
       "    </tr>\n",
       "  </tbody>\n",
       "</table>\n",
       "<p>15379 rows × 2 columns</p>\n",
       "</div>"
      ],
      "text/plain": [
       "               id  label\n",
       "0       179406029      0\n",
       "1       179406030      0\n",
       "2       179406094      0\n",
       "3       179406097      0\n",
       "4       179406099      0\n",
       "...           ...    ...\n",
       "15374  2849971818      0\n",
       "15375  2850017469      0\n",
       "15376  2850017472      0\n",
       "15377  2851323065      0\n",
       "15378  2852368013      0\n",
       "\n",
       "[15379 rows x 2 columns]"
      ]
     },
     "execution_count": 60,
     "metadata": {},
     "output_type": "execute_result"
    }
   ],
   "source": [
    "mean = ds.month[['pq_f', 'pq_g', 'pq_p']].mean(axis=1)\n",
    "std = ds.month[['pq_f', 'pq_g', 'pq_p']].std(axis=1)\n",
    "\n",
    "# ds.month['pq_cv'] = std / (mean + 1e-5)\n",
    "# print(ds.month[(ds.month['monthcv'] < 0.085) & (ds.month.pq_z > 4500) & (ds.month.label != 'test')].index.nunique())\n",
    "# print(ds.month[(ds.month.pq_cv < 0.085) & (ds.month.pq_z > 4500) & (ds.month.label != 'test')].index.nunique())\n",
    "\n",
    "baseids = ds.train[(ds.train.monthcv < 0.085) & (ds.train.pq_z > 4500) & (ds.train.label == 'test')].index.unique()\n",
    "submit(baseids, 'wechat.csv')"
   ]
  },
  {
   "cell_type": "code",
   "execution_count": 38,
   "metadata": {},
   "outputs": [],
   "source": [
    "import sys\n",
    "sys.path.append('../src')\n",
    "from features.MonthData import MonthData\n",
    "d = MonthData().df\n",
    "mean = d[['pq_f', 'pq_g', 'pq_p']].mean(axis=1)\n",
    "std = d[['pq_f', 'pq_g', 'pq_p']].std(axis=1)\n",
    "d['cv'] = std / (mean + 1e-5)"
   ]
  },
  {
   "cell_type": "code",
   "execution_count": 39,
   "metadata": {},
   "outputs": [
    {
     "data": {
      "text/html": [
       "<div>\n",
       "<style scoped>\n",
       "    .dataframe tbody tr th:only-of-type {\n",
       "        vertical-align: middle;\n",
       "    }\n",
       "\n",
       "    .dataframe tbody tr th {\n",
       "        vertical-align: top;\n",
       "    }\n",
       "\n",
       "    .dataframe thead th {\n",
       "        text-align: right;\n",
       "    }\n",
       "</style>\n",
       "<table border=\"1\" class=\"dataframe\">\n",
       "  <thead>\n",
       "    <tr style=\"text-align: right;\">\n",
       "      <th></th>\n",
       "      <th>pq_f</th>\n",
       "      <th>pq_g</th>\n",
       "      <th>pq_p</th>\n",
       "    </tr>\n",
       "  </thead>\n",
       "  <tbody>\n",
       "    <tr>\n",
       "      <th>0</th>\n",
       "      <td>615</td>\n",
       "      <td>161</td>\n",
       "      <td>0</td>\n",
       "    </tr>\n",
       "    <tr>\n",
       "      <th>1</th>\n",
       "      <td>492</td>\n",
       "      <td>154</td>\n",
       "      <td>-1</td>\n",
       "    </tr>\n",
       "    <tr>\n",
       "      <th>2</th>\n",
       "      <td>457</td>\n",
       "      <td>114</td>\n",
       "      <td>1</td>\n",
       "    </tr>\n",
       "    <tr>\n",
       "      <th>3</th>\n",
       "      <td>522</td>\n",
       "      <td>171</td>\n",
       "      <td>0</td>\n",
       "    </tr>\n",
       "    <tr>\n",
       "      <th>4</th>\n",
       "      <td>519</td>\n",
       "      <td>181</td>\n",
       "      <td>0</td>\n",
       "    </tr>\n",
       "    <tr>\n",
       "      <th>...</th>\n",
       "      <td>...</td>\n",
       "      <td>...</td>\n",
       "      <td>...</td>\n",
       "    </tr>\n",
       "    <tr>\n",
       "      <th>194475</th>\n",
       "      <td>107</td>\n",
       "      <td>67</td>\n",
       "      <td>-1</td>\n",
       "    </tr>\n",
       "    <tr>\n",
       "      <th>194476</th>\n",
       "      <td>170</td>\n",
       "      <td>112</td>\n",
       "      <td>1</td>\n",
       "    </tr>\n",
       "    <tr>\n",
       "      <th>194477</th>\n",
       "      <td>102</td>\n",
       "      <td>67</td>\n",
       "      <td>0</td>\n",
       "    </tr>\n",
       "    <tr>\n",
       "      <th>194478</th>\n",
       "      <td>112</td>\n",
       "      <td>65</td>\n",
       "      <td>-1</td>\n",
       "    </tr>\n",
       "    <tr>\n",
       "      <th>194479</th>\n",
       "      <td>144</td>\n",
       "      <td>84</td>\n",
       "      <td>1</td>\n",
       "    </tr>\n",
       "  </tbody>\n",
       "</table>\n",
       "<p>194480 rows × 3 columns</p>\n",
       "</div>"
      ],
      "text/plain": [
       "        pq_f  pq_g  pq_p\n",
       "0        615   161     0\n",
       "1        492   154    -1\n",
       "2        457   114     1\n",
       "3        522   171     0\n",
       "4        519   181     0\n",
       "...      ...   ...   ...\n",
       "194475   107    67    -1\n",
       "194476   170   112     1\n",
       "194477   102    67     0\n",
       "194478   112    65    -1\n",
       "194479   144    84     1\n",
       "\n",
       "[194480 rows x 3 columns]"
      ]
     },
     "execution_count": 39,
     "metadata": {},
     "output_type": "execute_result"
    }
   ],
   "source": []
  }
 ],
 "metadata": {
  "interpreter": {
   "hash": "ecdeaf2ac59fb4ad11976aef5258ba241a9bb1bfad09d91039c8d9c71c1b3462"
  },
  "kernelspec": {
   "display_name": "Python 3.8.12 ('miner')",
   "language": "python",
   "name": "python3"
  },
  "language_info": {
   "codemirror_mode": {
    "name": "ipython",
    "version": 3
   },
   "file_extension": ".py",
   "mimetype": "text/x-python",
   "name": "python",
   "nbconvert_exporter": "python",
   "pygments_lexer": "ipython3",
   "version": "3.8.12"
  },
  "orig_nbformat": 4
 },
 "nbformat": 4,
 "nbformat_minor": 2
}
