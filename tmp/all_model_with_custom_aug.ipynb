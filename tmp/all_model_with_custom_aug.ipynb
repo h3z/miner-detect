{
 "cells": [
  {
   "cell_type": "code",
   "execution_count": 134,
   "metadata": {},
   "outputs": [
    {
     "name": "stdout",
     "output_type": "stream",
     "text": [
      "The lab_black extension is already loaded. To reload it, use:\n",
      "  %reload_ext lab_black\n",
      "The autoreload extension is already loaded. To reload it, use:\n",
      "  %reload_ext autoreload\n"
     ]
    }
   ],
   "source": [
    "%load_ext lab_black\n",
    "%load_ext autoreload\n",
    "%autoreload 2\n",
    "\n",
    "import sys\n",
    "\n",
    "sys.path.append(\"../src\")\n",
    "import xgboost as xgb\n",
    "from imblearn.over_sampling import SMOTE, ADASYN\n",
    "import pandas as pd\n",
    "import numpy as np\n",
    "\n",
    "from features.UserJoin import (\n",
    "    UserJoin,\n",
    "    submit,\n",
    "    diff,\n",
    "    plt_month,\n",
    "    plt_day,\n",
    "    load_ids,\n",
    "    info,\n",
    "    infot,\n",
    "    f1score,\n",
    "    gen_day_hol_n,\n",
    ")\n",
    "\n",
    "import config as C\n",
    "import matplotlib.pyplot as plt\n",
    "\n",
    "from sklearn.metrics import f1_score\n",
    "from sklearn.model_selection import KFold, StratifiedKFold\n",
    "import seaborn as sns\n",
    "from xgboost import plot_tree, plot_importance\n",
    "import random\n",
    "from pathlib import Path\n",
    "\n",
    "import warnings\n",
    "\n",
    "warnings.filterwarnings(\"ignore\")\n",
    "\n",
    "from tqdm import tqdm\n",
    "import itertools\n",
    "\n",
    "sns.set_style(\"ticks\", {\"axes.grid\": True})\n",
    "\n",
    "pd.options.display.max_columns = 500\n",
    "# pd.options.display.max_rows = 20\n",
    "# pd.options.display.min_rows = 20\n",
    "plt.style.use(\"ggplot\")"
   ]
  },
  {
   "cell_type": "markdown",
   "metadata": {},
   "source": [
    "# Load Data"
   ]
  },
  {
   "cell_type": "code",
   "execution_count": 135,
   "metadata": {},
   "outputs": [
    {
     "name": "stdout",
     "output_type": "stream",
     "text": [
      "after (9330, 14)\n",
      "after (1007489, 7)\n",
      "after (205260, 5)\n"
     ]
    }
   ],
   "source": [
    "ds = UserJoin()\n",
    "ds_aug = UserJoin(True)"
   ]
  },
  {
   "cell_type": "code",
   "execution_count": 136,
   "metadata": {},
   "outputs": [
    {
     "name": "stdout",
     "output_type": "stream",
     "text": [
      "(2590941, 31)\n",
      "(2643371, 31)\n"
     ]
    }
   ],
   "source": [
    "print(ds.day.shape)\n",
    "print(ds_aug.day.shape)"
   ]
  },
  {
   "cell_type": "markdown",
   "metadata": {},
   "source": [
    "# Feature Columns"
   ]
  },
  {
   "cell_type": "code",
   "execution_count": 137,
   "metadata": {},
   "outputs": [],
   "source": [
    "except_col = [\n",
    "    \"   \",\n",
    "    \"ELEC_TYPE_NAME\",\n",
    "    # \"VOLT_NAME\",\n",
    "    \"PRC_NAME\",\n",
    "    \"CONTRACT_CAP\",\n",
    "    \"RUN_CAP\",\n",
    "    \"SHIFT_NO\",\n",
    "    \"BUILD_DATE\",\n",
    "    \"CANCEL_DATE\",\n",
    "    \"CHK_CYCLE\",\n",
    "    \"LAST_CHK_DATE\",\n",
    "    \"TMP_NAME\",\n",
    "    \"TMP_DATE\",\n",
    "    \"IS_FLAG\",\n",
    "]\n",
    "\n",
    "day_feature_cv_col = [\n",
    "    \"kwh_holiday_cv\",\n",
    "    \"kwh_cal_holiday_cv\",\n",
    "    \"kwh_pap_r2_holiday_cv\",\n",
    "    \"kwh_pap_r3_holiday_cv\",\n",
    "    \"kwh_pap_r4_holiday_cv\",\n",
    "    \"kwh_workday_cv\",\n",
    "    \"kwh_cal_workday_cv\",\n",
    "    \"kwh_pap_r2_workday_cv\",\n",
    "    \"kwh_pap_r3_workday_cv\",\n",
    "    \"kwh_pap_r4_workday_cv\",\n",
    "    \"kwh_cv\",\n",
    "    \"kwh_cal_cv\",\n",
    "    \"kwh_pap_r2_cv\",\n",
    "    \"kwh_pap_r3_cv\",\n",
    "    \"kwh_pap_r4_cv\",\n",
    "]\n",
    "# 每个节假日各自算的各特征的 cv 后均值\n",
    "hol_cv_col = [\n",
    "    # \"cv1_all\",\n",
    "    \"cv2_all\",\n",
    "    \"cv3_all\",\n",
    "    \"cv4_all\",\n",
    "    \"cv_all\",\n",
    "    # \"cv1_holiday\",\n",
    "    \"cv2_holiday\",\n",
    "    \"cv3_holiday\",\n",
    "    \"cv4_holiday\",\n",
    "    \"cv_holiday\",\n",
    "    # \"cv1_workday\",\n",
    "    \"cv2_workday\",\n",
    "    \"cv3_workday\",\n",
    "    \"cv4_workday\",\n",
    "    \"cv_workday\",\n",
    "]\n",
    "\n",
    "# 节假日平均和非节假日平均的差值。\n",
    "hol_diff_col = [\n",
    "    \"kwh_holiday_diff\",\n",
    "    \"kwh_cal_holiday_diff\",\n",
    "    \"kwh_pap_r2_holiday_diff\",\n",
    "    \"kwh_pap_r3_holiday_diff\",\n",
    "    \"kwh_pap_r4_holiday_diff\",\n",
    "    \"pr2_holiday_diff\",\n",
    "    \"pr3_holiday_diff\",\n",
    "    \"pr4_holiday_diff\",\n",
    "    \"2_3_holiday_diff\",\n",
    "    \"2_4_holiday_diff\",\n",
    "    \"3_4_holiday_diff\",\n",
    "    \"daycv_holiday_diff\",\n",
    "]\n",
    "\n",
    "# 节假日均值 和 非节假日的均值\n",
    "hol_mean_col = [\n",
    "    \"kwh_holiday_mean_1\",\n",
    "    \"kwh_cal_holiday_mean_1\",\n",
    "    \"kwh_pap_r2_holiday_mean_1\",\n",
    "    \"kwh_pap_r3_holiday_mean_1\",\n",
    "    \"kwh_pap_r4_holiday_mean_1\",\n",
    "    \"pr2_holiday_mean_1\",\n",
    "    \"pr3_holiday_mean_1\",\n",
    "    \"pr4_holiday_mean_1\",\n",
    "    \"2_3_holiday_mean_1\",\n",
    "    \"2_4_holiday_mean_1\",\n",
    "    \"3_4_holiday_mean_1\",\n",
    "    \"daycv_holiday_mean_1\",\n",
    "    \"kwh_holiday_mean_0\",\n",
    "    \"kwh_cal_holiday_mean_0\",\n",
    "    \"kwh_pap_r2_holiday_mean_0\",\n",
    "    \"kwh_pap_r3_holiday_mean_0\",\n",
    "    \"kwh_pap_r4_holiday_mean_0\",\n",
    "    \"pr2_holiday_mean_0\",\n",
    "    \"pr3_holiday_mean_0\",\n",
    "    \"pr4_holiday_mean_0\",\n",
    "    \"2_3_holiday_mean_0\",\n",
    "    \"2_4_holiday_mean_0\",\n",
    "    \"3_4_holiday_mean_0\",\n",
    "    \"daycv_holiday_mean_0\",\n",
    "]\n",
    "\n",
    "# 节假日方差 和 非节假日的方差\n",
    "hol_std_col = [\n",
    "    \"kwh_holiday_std_1\",\n",
    "    \"kwh_cal_holiday_std_1\",\n",
    "    \"kwh_pap_r2_holiday_std_1\",\n",
    "    \"kwh_pap_r3_holiday_std_1\",\n",
    "    \"kwh_pap_r4_holiday_std_1\",\n",
    "    \"pr2_holiday_std_1\",\n",
    "    \"pr3_holiday_std_1\",\n",
    "    \"pr4_holiday_std_1\",\n",
    "    \"2_3_holiday_std_1\",\n",
    "    \"2_4_holiday_std_1\",\n",
    "    \"3_4_holiday_std_1\",\n",
    "    \"daycv_holiday_std_1\",\n",
    "    \"kwh_holiday_std_0\",\n",
    "    \"kwh_cal_holiday_std_0\",\n",
    "    \"kwh_pap_r2_holiday_std_0\",\n",
    "    \"kwh_pap_r3_holiday_std_0\",\n",
    "    \"kwh_pap_r4_holiday_std_0\",\n",
    "    \"pr2_holiday_std_0\",\n",
    "    \"pr3_holiday_std_0\",\n",
    "    \"pr4_holiday_std_0\",\n",
    "    \"2_3_holiday_std_0\",\n",
    "    \"2_4_holiday_std_0\",\n",
    "    \"3_4_holiday_std_0\",\n",
    "    \"daycv_holiday_std_0\",\n",
    "]\n",
    "\n",
    "# 日基础数据\n",
    "day_col = [\n",
    "    \"kwh\",\n",
    "    \"kwh_cal\",\n",
    "    \"kwh_pap_r2\",\n",
    "    \"kwh_pap_r3\",\n",
    "    \"kwh_pap_r4\",\n",
    "    \"pr2\",\n",
    "    \"pr3\",\n",
    "    \"pr4\",\n",
    "    \"2_3\",\n",
    "    \"2_4\",\n",
    "    \"3_4\",\n",
    "    \"daycv\",\n",
    "]\n",
    "\n",
    "user_col = [\n",
    "    \"ELEC_TYPE_NAME\",\n",
    "    \"VOLT_NAME\",\n",
    "    \"RUN_CAP\",\n",
    "    # 'ELEC_TYPE_NAME_CODE',\n",
    "    # 'VOLT_NAME_CODE',\n",
    "    # 'label'\n",
    "]\n",
    "\n",
    "month_col = [\n",
    "    \"pq_f\",\n",
    "    \"pq_g\",\n",
    "    \"pq_p\",\n",
    "    \"pq_z\",\n",
    "    \"pp\",\n",
    "    \"pf\",\n",
    "    \"pg\",\n",
    "    \"p_f\",\n",
    "    \"p_g\",\n",
    "    \"f_g\",\n",
    "    \"monthcv\",\n",
    "]\n",
    "\n",
    "all_col = (\n",
    "    hol_diff_col\n",
    "    + hol_mean_col\n",
    "    + hol_std_col\n",
    "    + day_col\n",
    "    + user_col\n",
    "    + month_col\n",
    "    + hol_cv_col\n",
    "    + day_feature_cv_col\n",
    ")"
   ]
  },
  {
   "cell_type": "code",
   "execution_count": 138,
   "metadata": {},
   "outputs": [],
   "source": [
    "def train_both(df, df_aug, cols, params):\n",
    "    pred, model = train(df, cols, params)\n",
    "    pred_aug, model_aug = train(df_aug, cols, params)\n",
    "    # pred_aug, model_aug = None, None\n",
    "\n",
    "    return pred, model, pred_aug, model_aug\n",
    "\n",
    "\n",
    "def preprocess(df, cols, aug):\n",
    "    if \"ELEC_TYPE_NAME\" in cols:\n",
    "        df = pd.concat([df, pd.get_dummies(df.ELEC_TYPE_NAME)], axis=1).drop(\n",
    "            columns=[\"ELEC_TYPE_NAME\"]\n",
    "        )\n",
    "    if \"VOLT_NAME\" in cols:\n",
    "        df = pd.concat([df, pd.get_dummies(df.VOLT_NAME)], axis=1).drop(\n",
    "            columns=[\"VOLT_NAME\"]\n",
    "        )\n",
    "\n",
    "    features = [i for i in cols if i not in [\"ELEC_TYPE_NAME\", \"VOLT_NAME\"]]\n",
    "    x, x_val = (\n",
    "        df.loc[df.label != \"test\", features],\n",
    "        df.loc[df.label == \"test\", features],\n",
    "    )\n",
    "    y = df.loc[df.label != \"test\", \"label\"].astype(\"int\")\n",
    "\n",
    "    if aug:\n",
    "        x, y = SMOTE().fit_resample(x, y)\n",
    "        # x, y = ADASYN().fit_resample(x, y)\n",
    "    return x, x_val, y\n",
    "\n",
    "\n",
    "def train(df, cols, params, aug=False):\n",
    "    x, x_val, y = preprocess(df, cols, aug)\n",
    "    print(x.shape)\n",
    "\n",
    "    model = xgb.XGBClassifier(use_label_encoder=False, eval_metric=\"logloss\", **params)\n",
    "    model.fit(x, y)\n",
    "\n",
    "    pred_val = pd.DataFrame({\"id\": x_val.index.values, \"label\": model.predict(x_val)})\n",
    "    return pred_val, model\n",
    "\n",
    "\n",
    "def score(ids):\n",
    "    if type(ids) != set:\n",
    "        ids = set(ids)\n",
    "    print(\n",
    "        f\"{len(ids)} \\\n",
    "            \\t right: {len(ids & C.true_ids)} \\\n",
    "            \\t wrong: {len(ids & C.false_ids)} \\\n",
    "            \\t unknown: {len(ids - C.true_ids - C.false_ids)} \\\n",
    "            \\nf1score: {f1score(ids)}\"\n",
    "    )\n",
    "    true = len(ids & C.true_ids)\n",
    "    false = len(ids & C.false_ids)\n",
    "    unknown = len(ids) - true - false\n",
    "    if unknown == 0:\n",
    "        print(\"official:\", score_official(true, false))\n",
    "    else:\n",
    "        print(\n",
    "            f\"official: {score_official(true, false+unknown):.3f} ->  {score_official(true + min(unknown, 2), false):.3f}\"\n",
    "        )\n",
    "\n",
    "\n",
    "def score_official(right, wrong):\n",
    "    true_num = 37\n",
    "    y_true = np.zeros(15379)\n",
    "    y_pred = np.zeros(15379)\n",
    "    y_true[:true_num] = 1\n",
    "    y_pred[:right] = 1\n",
    "    if wrong:\n",
    "        y_pred[-wrong:] = 1\n",
    "    score = f1_score(y_true, y_pred, average=\"macro\")\n",
    "    return score"
   ]
  },
  {
   "cell_type": "code",
   "execution_count": 139,
   "metadata": {},
   "outputs": [
    {
     "data": {
      "text/plain": [
       "0.9860785229601627"
      ]
     },
     "execution_count": 139,
     "metadata": {},
     "output_type": "execute_result"
    }
   ],
   "source": [
    "score_official(35, 0)"
   ]
  },
  {
   "cell_type": "markdown",
   "metadata": {},
   "source": [
    "# Model 1 - 单独用月数据做训练\n",
    "每个用户对应22个月，将22个月看做22个用户。他们有各自的 label。"
   ]
  },
  {
   "cell_type": "code",
   "execution_count": 140,
   "metadata": {},
   "outputs": [
    {
     "name": "stdout",
     "output_type": "stream",
     "text": [
      "(185640, 11)\n",
      "(195930, 11)\n"
     ]
    }
   ],
   "source": [
    "df1 = ds.month\n",
    "df_aug1 = ds_aug.month\n",
    "# df1 = df1[df1.index.isin(ds.train2.index.values)]\n",
    "# feature1 = C.month_features + [\"VOLT_NAME\"]\n",
    "feature1 = C.month_features\n",
    "pred1, model1, pred_aug1, model_aug1 = train_both(df1, df_aug1, feature1, {})"
   ]
  },
  {
   "cell_type": "code",
   "execution_count": 141,
   "metadata": {},
   "outputs": [
    {
     "name": "stdout",
     "output_type": "stream",
     "text": [
      "34             \t right: 27             \t wrong: 7             \t unknown: 0             \n",
      "f1score: 0.8357487922705314\n",
      "official: 0.8800046998843847\n",
      "9             \t right: 9             \t wrong: 0             \t unknown: 0             \n",
      "f1score: 0.6232954545454545\n",
      "official: 0.6951963260359921\n"
     ]
    }
   ],
   "source": [
    "pred1 = pred1.groupby(\"id\").sum()\n",
    "ids1 = set(pred1[pred1.label > 8].index.values)\n",
    "score(ids1)\n",
    "\n",
    "\n",
    "pred_aug1 = pred_aug1.groupby(\"id\").sum()\n",
    "ids1 = set(pred_aug1[pred_aug1.label > 18].index.values)\n",
    "score(ids1)"
   ]
  },
  {
   "cell_type": "markdown",
   "metadata": {},
   "source": [
    "# Model 2 - 月数据平均后做训练"
   ]
  },
  {
   "cell_type": "code",
   "execution_count": 142,
   "metadata": {},
   "outputs": [
    {
     "name": "stdout",
     "output_type": "stream",
     "text": [
      "(8840, 21)\n",
      "(9330, 21)\n"
     ]
    }
   ],
   "source": [
    "def is_feature(i):\n",
    "    if i in [\"label\", \"isminer\"]:\n",
    "        return False\n",
    "    if \"kwh\" in i or \"day\" in i:\n",
    "        return False\n",
    "    if i in except_col:\n",
    "        return False\n",
    "    return True\n",
    "\n",
    "\n",
    "df2 = ds.train\n",
    "df_aug2 = ds_aug.train\n",
    "feature2 = list(filter(is_feature, df2.columns))\n",
    "pred2, model2, pred_aug2, model_aug2 = train_both(df2, df_aug2, feature2, {})"
   ]
  },
  {
   "cell_type": "code",
   "execution_count": 143,
   "metadata": {},
   "outputs": [
    {
     "name": "stdout",
     "output_type": "stream",
     "text": [
      "36             \t right: 25             \t wrong: 11             \t unknown: 0             \n",
      "f1score: 0.7731653076352855\n",
      "official: 0.8420909774754968\n",
      "55             \t right: 30             \t wrong: 24             \t unknown: 1             \n",
      "f1score: 0.7109916951636541\n",
      "official: 0.826 ->  0.836\n"
     ]
    }
   ],
   "source": [
    "pred2 = pred2.groupby(\"id\").sum()\n",
    "ids2 = set(pred2.query(\"label == 1\").index.values)\n",
    "score(ids2)\n",
    "\n",
    "\n",
    "pred_aug2 = pred_aug2.groupby(\"id\").sum()\n",
    "ids2 = set(pred_aug2.query(\"label == 1\").index.values)\n",
    "score(ids2)"
   ]
  },
  {
   "cell_type": "markdown",
   "metadata": {},
   "source": [
    "# Model 3 - 单独用日数据做训练\n",
    "每个用户108天，看做108个用户，有各自的label（这个肯定不如后边想到的方法好。新方法还没实现，先把这个训练好放在这）"
   ]
  },
  {
   "cell_type": "code",
   "execution_count": 144,
   "metadata": {},
   "outputs": [
    {
     "name": "stdout",
     "output_type": "stream",
     "text": [
      "(945730, 12)\n",
      "(998160, 12)\n"
     ]
    }
   ],
   "source": [
    "df3 = ds.day\n",
    "df_aug3 = ds_aug.day\n",
    "feature3 = C.day_features\n",
    "pred3, model3, pred_aug3, model_aug3 = train_both(df3, df_aug3, feature3, {})"
   ]
  },
  {
   "cell_type": "code",
   "execution_count": 145,
   "metadata": {},
   "outputs": [
    {
     "name": "stdout",
     "output_type": "stream",
     "text": [
      "42             \t right: 22             \t wrong: 13             \t unknown: 7             \n",
      "f1score: 0.71727078891258\n",
      "official: 0.778 ->  0.824\n",
      "76             \t right: 28             \t wrong: 24             \t unknown: 24             \n",
      "f1score: 0.6893604479811376\n",
      "official: 0.747 ->  0.829\n"
     ]
    }
   ],
   "source": [
    "pred3 = pred3.groupby(\"id\").sum()\n",
    "ids3 = set(pred3.query(f\"label > 30\").index.values)\n",
    "score(ids3)\n",
    "\n",
    "pred_aug3 = pred_aug3.groupby(\"id\").sum()\n",
    "ids3 = set(pred_aug3.query(f\"label > 30\").index.values)\n",
    "score(ids3)"
   ]
  },
  {
   "cell_type": "markdown",
   "metadata": {},
   "source": [
    "# Model 4 - 日数据平均后做训练"
   ]
  },
  {
   "cell_type": "code",
   "execution_count": 146,
   "metadata": {},
   "outputs": [
    {
     "name": "stdout",
     "output_type": "stream",
     "text": [
      "(8840, 81)\n",
      "(9330, 81)\n"
     ]
    }
   ],
   "source": [
    "def is_feature(i):\n",
    "    if i in [\"label\", \"isminer\"]:\n",
    "        return False\n",
    "    if (\n",
    "        \"pq\" in i\n",
    "        or \"month\" in i\n",
    "        or \"pr\" in i\n",
    "        or i in [\"pp\", \"pr\", \"pg\", \"pf\", \"p_f\", \"f_g\", \"p_g\"]\n",
    "    ):\n",
    "        return False\n",
    "    if i in except_col:\n",
    "        return False\n",
    "    # if \"kwh\" in i or \"hol\" in i:\n",
    "    # return False\n",
    "    return True\n",
    "\n",
    "\n",
    "df4 = ds.train\n",
    "df_aug4 = ds_aug.train\n",
    "feature4 = list(filter(is_feature, df4.columns))\n",
    "pred4, model4, pred_aug4, model_aug4 = train_both(df4, df_aug4, feature4, {})\n",
    "# feature4"
   ]
  },
  {
   "cell_type": "code",
   "execution_count": 147,
   "metadata": {},
   "outputs": [
    {
     "name": "stdout",
     "output_type": "stream",
     "text": [
      "31             \t right: 23             \t wrong: 7             \t unknown: 1             \n",
      "f1score: 0.7855008301051467\n",
      "official: 0.838 ->  0.853\n",
      "41             \t right: 26             \t wrong: 13             \t unknown: 2             \n",
      "f1score: 0.7667359667359668\n",
      "official: 0.833 ->  0.859\n"
     ]
    }
   ],
   "source": [
    "pred4 = pred4.groupby(\"id\").sum()\n",
    "ids4 = set(pred4.query(\"label == 1\").index.values)\n",
    "score(ids4)\n",
    "\n",
    "pred_aug4 = pred_aug4.groupby(\"id\").sum()\n",
    "ids4 = set(pred_aug4.query(\"label == 1\").index.values)\n",
    "score(ids4)"
   ]
  },
  {
   "cell_type": "markdown",
   "metadata": {},
   "source": [
    "# Model 5 - 单独用日数据做训练（升级版）\n",
    "每个用户108天，分布在12个节假日，看做12个用户。"
   ]
  },
  {
   "cell_type": "code",
   "execution_count": 148,
   "metadata": {},
   "outputs": [],
   "source": [
    "mean_std_cols = [\n",
    "    \"kwh_pap_r2\",\n",
    "    \"kwh_pap_r3\",\n",
    "    \"kwh_pap_r4\",\n",
    "    \"kwh_cal\",\n",
    "    \"pr2\",\n",
    "    \"pr3\",\n",
    "    \"pr4\",\n",
    "    \"2_3\",\n",
    "    \"2_4\",\n",
    "    \"3_4\",\n",
    "    \"daycv\",\n",
    "]\n",
    "\n",
    "\n",
    "def zip_df_holiday(df):\n",
    "    return [\n",
    "        (df, \"allday\"),\n",
    "        (df.query(\"type == 0\"), \"holiday\"),\n",
    "        (df.query(\"type != 0\"), \"workday\"),\n",
    "    ]\n",
    "\n",
    "\n",
    "def groupby_user_holiday_cv(df):\n",
    "    cols = [\"kwh_pap_r2\", \"kwh_pap_r3\", \"kwh_pap_r4\", \"kwh_cal\"]\n",
    "\n",
    "    holcvs = [\n",
    "        (\n",
    "            dfi.groupby([\"id\", \"hol_n\"])[cols].std()\n",
    "            / (dfi.groupby([\"id\", \"hol_n\"])[cols].mean() + 1e-5)\n",
    "        ).rename(\n",
    "            columns={col: f\"{prefix}_{col.replace('kwh_pap', 'cv')}\" for col in cols}\n",
    "        )\n",
    "        for dfi, prefix in zip_df_holiday(df)\n",
    "    ]\n",
    "    return pd.concat(\n",
    "        holcvs,\n",
    "        axis=1,\n",
    "    )\n",
    "\n",
    "\n",
    "def groupby_user_holiday_mean(df):\n",
    "    means = [\n",
    "        dfi.groupby([\"id\", \"hol_n\"])[mean_std_cols]\n",
    "        .mean()\n",
    "        .rename(columns={col: f\"{prefix}_mean_{col}\" for col in mean_std_cols})\n",
    "        for dfi, prefix in zip_df_holiday(df)\n",
    "    ]\n",
    "    return pd.concat(\n",
    "        means,\n",
    "        axis=1,\n",
    "    )\n",
    "\n",
    "\n",
    "def groupby_user_holiday_std(df):\n",
    "    stds = [\n",
    "        dfi.groupby([\"id\", \"hol_n\"])[mean_std_cols]\n",
    "        .std()\n",
    "        .rename(columns={col: f\"{prefix}_std_{col}\" for col in mean_std_cols})\n",
    "        for dfi, prefix in zip_df_holiday(df)\n",
    "    ]\n",
    "    return pd.concat(\n",
    "        stds,\n",
    "        axis=1,\n",
    "    )\n",
    "\n",
    "\n",
    "def day_split_by_holiday(df):\n",
    "    df[\"hol_n\"] = gen_day_hol_n(df)\n",
    "\n",
    "    holcv = groupby_user_holiday_cv(df)\n",
    "    mean = groupby_user_holiday_mean(df)\n",
    "    std = groupby_user_holiday_std(df)\n",
    "\n",
    "    return pd.concat([holcv, mean, std], axis=1).dropna()\n",
    "\n",
    "\n",
    "holiday_df = day_split_by_holiday(ds.day)\n",
    "holiday_df_aug = day_split_by_holiday(ds_aug.day)"
   ]
  },
  {
   "cell_type": "code",
   "execution_count": 149,
   "metadata": {},
   "outputs": [],
   "source": [
    "def add_label(df):\n",
    "    df[\"label\"] = \"test\"\n",
    "    df.loc[\n",
    "        df.index.get_level_values(0).isin(\n",
    "            ds.train.query(\"label == '0'\").index.unique()\n",
    "        ),\n",
    "        \"label\",\n",
    "    ] = \"0\"\n",
    "    df.loc[\n",
    "        df.index.get_level_values(0).isin(\n",
    "            ds.train.query(\"label == '1'\").index.unique()\n",
    "        ),\n",
    "        \"label\",\n",
    "    ] = \"1\"\n",
    "    return df\n",
    "\n",
    "\n",
    "holiday_df = add_label(holiday_df)\n",
    "holiday_df_aug = add_label(holiday_df_aug)"
   ]
  },
  {
   "cell_type": "code",
   "execution_count": 150,
   "metadata": {},
   "outputs": [
    {
     "name": "stdout",
     "output_type": "stream",
     "text": [
      "(106065, 78)\n",
      "(106065, 78)\n"
     ]
    }
   ],
   "source": [
    "df5 = holiday_df\n",
    "df_aug5 = holiday_df_aug\n",
    "feature5 = [i for i in holiday_df.columns if i != \"label\"]\n",
    "pred5, model5, pred_aug5, model_aug5 = train_both(df5, df_aug5, feature5, {})\n",
    "# feature5"
   ]
  },
  {
   "cell_type": "code",
   "execution_count": 157,
   "metadata": {},
   "outputs": [
    {
     "name": "stdout",
     "output_type": "stream",
     "text": [
      "76             \t right: 33             \t wrong: 31             \t unknown: 12             \n",
      "f1score: 0.6761904761904761\n",
      "official: 0.791 ->  0.839\n",
      "505             \t right: 13             \t wrong: 1             \t unknown: 491             \n",
      "f1score: 0.6911125740618829\n",
      "official: 0.515 ->  0.783\n"
     ]
    }
   ],
   "source": [
    "pred5[\"id_\"] = pred5.id.map(lambda x: x[0])\n",
    "ids5 = set(pred5.groupby(\"id_\").sum().query(\"label > 2\").index.values)\n",
    "score(ids5)\n",
    "\n",
    "\n",
    "pred_aug5[\"id_\"] = pred_aug5.id.map(lambda x: x[0])\n",
    "ids5 = set(pred_aug5.groupby(\"id_\").sum().query(\"label > 9\").index.values)\n",
    "score(ids5)"
   ]
  },
  {
   "cell_type": "code",
   "execution_count": null,
   "metadata": {},
   "outputs": [],
   "source": []
  }
 ],
 "metadata": {
  "interpreter": {
   "hash": "ecdeaf2ac59fb4ad11976aef5258ba241a9bb1bfad09d91039c8d9c71c1b3462"
  },
  "kernelspec": {
   "display_name": "Python 3.8.12 ('miner')",
   "language": "python",
   "name": "python3"
  },
  "language_info": {
   "codemirror_mode": {
    "name": "ipython",
    "version": 3
   },
   "file_extension": ".py",
   "mimetype": "text/x-python",
   "name": "python",
   "nbconvert_exporter": "python",
   "pygments_lexer": "ipython3",
   "version": "3.8.12"
  },
  "orig_nbformat": 4
 },
 "nbformat": 4,
 "nbformat_minor": 2
}
