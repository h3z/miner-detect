{
 "cells": [
  {
   "cell_type": "code",
   "execution_count": 1,
   "metadata": {},
   "outputs": [
    {
     "name": "stderr",
     "output_type": "stream",
     "text": [
      "/opt/conda/envs/miner/lib/python3.8/site-packages/xgboost/compat.py:36: FutureWarning: pandas.Int64Index is deprecated and will be removed from pandas in a future version. Use pandas.Index with the appropriate dtype instead.\n",
      "  from pandas import MultiIndex, Int64Index\n"
     ]
    }
   ],
   "source": [
    "%load_ext autoreload\n",
    "%autoreload 2\n",
    "import sys\n",
    "sys.path.append('../src')\n",
    "import xgboost as xgb\n",
    "import pandas as pd\n",
    "from features.UserJoin import UserJoin\n",
    "from features.UserJoin import submit, diff, plt_month, plt_day, load_ids, diff_set, infot\n",
    "import config as C\n",
    "import matplotlib.pyplot as plt\n",
    "import plotly.express as px\n",
    "import numpy as np\n",
    "from sklearn.metrics import f1_score\n",
    "from pathlib import Path\n",
    "from functools import reduce\n",
    "import random\n",
    "from pathlib import Path"
   ]
  },
  {
   "cell_type": "markdown",
   "metadata": {},
   "source": [
    "# 提交"
   ]
  },
  {
   "cell_type": "code",
   "execution_count": 4,
   "metadata": {},
   "outputs": [
    {
     "data": {
      "text/plain": [
       "{179418058,\n",
       " 179458306,\n",
       " 179547052,\n",
       " 179569820,\n",
       " 362400993,\n",
       " 855996491,\n",
       " 1606708811,\n",
       " 1862376457,\n",
       " 1912367373,\n",
       " 1916407803,\n",
       " 2071313507,\n",
       " 2172970175,\n",
       " 2186749200,\n",
       " 2212416005,\n",
       " 2212577893,\n",
       " 2238809293,\n",
       " 2256064355,\n",
       " 2319973783,\n",
       " 2323237963,\n",
       " 2347718608,\n",
       " 2347718610,\n",
       " 2427050072,\n",
       " 2445049876,\n",
       " 2471562086,\n",
       " 2496032641,\n",
       " 2523401557,\n",
       " 2533183958,\n",
       " 2540517219,\n",
       " 2576321385,\n",
       " 2624797677,\n",
       " 2717225077,\n",
       " 2741872006,\n",
       " 2745781539,\n",
       " 2759232590,\n",
       " 2817362052,\n",
       " 2825175309,\n",
       " 2852503463}"
      ]
     },
     "execution_count": 4,
     "metadata": {},
     "output_type": "execute_result"
    }
   ],
   "source": [
    "C.true_ids"
   ]
  },
  {
   "cell_type": "code",
   "execution_count": 3,
   "metadata": {},
   "outputs": [
    {
     "name": "stdout",
     "output_type": "stream",
     "text": [
      "37\n"
     ]
    },
    {
     "data": {
      "text/html": [
       "<div>\n",
       "<style scoped>\n",
       "    .dataframe tbody tr th:only-of-type {\n",
       "        vertical-align: middle;\n",
       "    }\n",
       "\n",
       "    .dataframe tbody tr th {\n",
       "        vertical-align: top;\n",
       "    }\n",
       "\n",
       "    .dataframe thead th {\n",
       "        text-align: right;\n",
       "    }\n",
       "</style>\n",
       "<table border=\"1\" class=\"dataframe\">\n",
       "  <thead>\n",
       "    <tr style=\"text-align: right;\">\n",
       "      <th></th>\n",
       "      <th>id</th>\n",
       "      <th>label</th>\n",
       "    </tr>\n",
       "  </thead>\n",
       "  <tbody>\n",
       "    <tr>\n",
       "      <th>0</th>\n",
       "      <td>179406029</td>\n",
       "      <td>0</td>\n",
       "    </tr>\n",
       "    <tr>\n",
       "      <th>1</th>\n",
       "      <td>179406030</td>\n",
       "      <td>0</td>\n",
       "    </tr>\n",
       "    <tr>\n",
       "      <th>2</th>\n",
       "      <td>179406094</td>\n",
       "      <td>0</td>\n",
       "    </tr>\n",
       "    <tr>\n",
       "      <th>3</th>\n",
       "      <td>179406097</td>\n",
       "      <td>0</td>\n",
       "    </tr>\n",
       "    <tr>\n",
       "      <th>4</th>\n",
       "      <td>179406099</td>\n",
       "      <td>0</td>\n",
       "    </tr>\n",
       "    <tr>\n",
       "      <th>...</th>\n",
       "      <td>...</td>\n",
       "      <td>...</td>\n",
       "    </tr>\n",
       "    <tr>\n",
       "      <th>15374</th>\n",
       "      <td>2849971818</td>\n",
       "      <td>0</td>\n",
       "    </tr>\n",
       "    <tr>\n",
       "      <th>15375</th>\n",
       "      <td>2850017469</td>\n",
       "      <td>0</td>\n",
       "    </tr>\n",
       "    <tr>\n",
       "      <th>15376</th>\n",
       "      <td>2850017472</td>\n",
       "      <td>0</td>\n",
       "    </tr>\n",
       "    <tr>\n",
       "      <th>15377</th>\n",
       "      <td>2851323065</td>\n",
       "      <td>0</td>\n",
       "    </tr>\n",
       "    <tr>\n",
       "      <th>15378</th>\n",
       "      <td>2852368013</td>\n",
       "      <td>0</td>\n",
       "    </tr>\n",
       "  </tbody>\n",
       "</table>\n",
       "<p>15379 rows × 2 columns</p>\n",
       "</div>"
      ],
      "text/plain": [
       "               id  label\n",
       "0       179406029      0\n",
       "1       179406030      0\n",
       "2       179406094      0\n",
       "3       179406097      0\n",
       "4       179406099      0\n",
       "...           ...    ...\n",
       "15374  2849971818      0\n",
       "15375  2850017469      0\n",
       "15376  2850017472      0\n",
       "15377  2851323065      0\n",
       "15378  2852368013      0\n",
       "\n",
       "[15379 rows x 2 columns]"
      ]
     },
     "execution_count": 3,
     "metadata": {},
     "output_type": "execute_result"
    }
   ],
   "source": [
    "submit(C.true_ids, 'submit.csv', True)"
   ]
  },
  {
   "cell_type": "code",
   "execution_count": 3,
   "metadata": {},
   "outputs": [
    {
     "name": "stdout",
     "output_type": "stream",
     "text": [
      "26 14\n"
     ]
    },
    {
     "data": {
      "text/plain": [
       "43"
      ]
     },
     "execution_count": 3,
     "metadata": {},
     "output_type": "execute_result"
    }
   ],
   "source": [
    "true = set(random.sample(C.true_ids, int(len(C.true_ids)/1.3)))\n",
    "false = set(random.sample(C.false_ids, int(len(C.false_ids)/3.3)))\n",
    "print(len(true), len(false))\n",
    "t = true | false | {2098712195, 2212577893, 2533183961}\n",
    "len(t)"
   ]
  },
  {
   "cell_type": "code",
   "execution_count": 4,
   "metadata": {},
   "outputs": [
    {
     "name": "stdout",
     "output_type": "stream",
     "text": [
      "43\n"
     ]
    },
    {
     "data": {
      "text/html": [
       "<div>\n",
       "<style scoped>\n",
       "    .dataframe tbody tr th:only-of-type {\n",
       "        vertical-align: middle;\n",
       "    }\n",
       "\n",
       "    .dataframe tbody tr th {\n",
       "        vertical-align: top;\n",
       "    }\n",
       "\n",
       "    .dataframe thead th {\n",
       "        text-align: right;\n",
       "    }\n",
       "</style>\n",
       "<table border=\"1\" class=\"dataframe\">\n",
       "  <thead>\n",
       "    <tr style=\"text-align: right;\">\n",
       "      <th></th>\n",
       "      <th>id</th>\n",
       "      <th>label</th>\n",
       "    </tr>\n",
       "  </thead>\n",
       "  <tbody>\n",
       "    <tr>\n",
       "      <th>0</th>\n",
       "      <td>179406029</td>\n",
       "      <td>0</td>\n",
       "    </tr>\n",
       "    <tr>\n",
       "      <th>1</th>\n",
       "      <td>179406030</td>\n",
       "      <td>0</td>\n",
       "    </tr>\n",
       "    <tr>\n",
       "      <th>2</th>\n",
       "      <td>179406094</td>\n",
       "      <td>0</td>\n",
       "    </tr>\n",
       "    <tr>\n",
       "      <th>3</th>\n",
       "      <td>179406097</td>\n",
       "      <td>0</td>\n",
       "    </tr>\n",
       "    <tr>\n",
       "      <th>4</th>\n",
       "      <td>179406099</td>\n",
       "      <td>0</td>\n",
       "    </tr>\n",
       "    <tr>\n",
       "      <th>...</th>\n",
       "      <td>...</td>\n",
       "      <td>...</td>\n",
       "    </tr>\n",
       "    <tr>\n",
       "      <th>15374</th>\n",
       "      <td>2849971818</td>\n",
       "      <td>0</td>\n",
       "    </tr>\n",
       "    <tr>\n",
       "      <th>15375</th>\n",
       "      <td>2850017469</td>\n",
       "      <td>0</td>\n",
       "    </tr>\n",
       "    <tr>\n",
       "      <th>15376</th>\n",
       "      <td>2850017472</td>\n",
       "      <td>0</td>\n",
       "    </tr>\n",
       "    <tr>\n",
       "      <th>15377</th>\n",
       "      <td>2851323065</td>\n",
       "      <td>0</td>\n",
       "    </tr>\n",
       "    <tr>\n",
       "      <th>15378</th>\n",
       "      <td>2852368013</td>\n",
       "      <td>0</td>\n",
       "    </tr>\n",
       "  </tbody>\n",
       "</table>\n",
       "<p>15379 rows × 2 columns</p>\n",
       "</div>"
      ],
      "text/plain": [
       "               id  label\n",
       "0       179406029      0\n",
       "1       179406030      0\n",
       "2       179406094      0\n",
       "3       179406097      0\n",
       "4       179406099      0\n",
       "...           ...    ...\n",
       "15374  2849971818      0\n",
       "15375  2850017469      0\n",
       "15376  2850017472      0\n",
       "15377  2851323065      0\n",
       "15378  2852368013      0\n",
       "\n",
       "[15379 rows x 2 columns]"
      ]
     },
     "execution_count": 4,
     "metadata": {},
     "output_type": "execute_result"
    }
   ],
   "source": [
    "submit(t, 'submit_3_18_1.csv', True)"
   ]
  },
  {
   "cell_type": "markdown",
   "metadata": {},
   "source": [
    "# 普通查询"
   ]
  },
  {
   "cell_type": "code",
   "execution_count": 2,
   "metadata": {},
   "outputs": [
    {
     "name": "stdout",
     "output_type": "stream",
     "text": [
      "true ids 36 false ids 67\n"
     ]
    }
   ],
   "source": [
    "print('true ids', len(C.true_ids), 'false ids', len(C.false_ids))"
   ]
  },
  {
   "cell_type": "markdown",
   "metadata": {},
   "source": [
    "# baseline 中剩余"
   ]
  },
  {
   "cell_type": "code",
   "execution_count": 3,
   "metadata": {},
   "outputs": [
    {
     "name": "stdout",
     "output_type": "stream",
     "text": [
      "3_10_base_98_33.csv 39 0\n",
      "3_10_base_32_27.csv 0 0\n",
      "3_10_base_175_34.csv 104 0\n",
      "3_10_base_544_35.csv 468 1\n",
      "3_10_base_63_29.csv 19 0\n",
      "3_10_base_34_27.csv 0 0\n",
      "3_10_base_35_27.csv 0 0\n",
      "3_10_base_32_24.csv 0 0\n"
     ]
    }
   ],
   "source": [
    "for i in Path('submit_csv').glob('3_10_base_*.csv'):\n",
    "    ids = load_ids(i.name)\n",
    "    num_1 = int(i.name.split('_')[-1].replace('.csv', ''))\n",
    "\n",
    "    num_1 -= len(ids & C.true_ids)\n",
    "    ids = ids - C.true_ids - C.false_ids\n",
    "\n",
    "    print(i.name, len(ids), num_1)"
   ]
  },
  {
   "cell_type": "code",
   "execution_count": 3,
   "metadata": {},
   "outputs": [
    {
     "data": {
      "text/plain": [
       "{179418058,\n",
       " 179458306,\n",
       " 179547052,\n",
       " 179569820,\n",
       " 362400993,\n",
       " 855996491,\n",
       " 1606708811,\n",
       " 1862376457,\n",
       " 1912367373,\n",
       " 1916407803,\n",
       " 2071313507,\n",
       " 2172970175,\n",
       " 2186749200,\n",
       " 2212416005,\n",
       " 2212577893,\n",
       " 2238809293,\n",
       " 2256064355,\n",
       " 2319973783,\n",
       " 2347718608,\n",
       " 2347718610,\n",
       " 2427050072,\n",
       " 2445049876,\n",
       " 2471562086,\n",
       " 2496032641,\n",
       " 2523401557,\n",
       " 2533183958,\n",
       " 2540517219,\n",
       " 2576321385,\n",
       " 2624797677,\n",
       " 2717225077,\n",
       " 2741872006,\n",
       " 2745781539,\n",
       " 2759232590,\n",
       " 2817362052,\n",
       " 2825175309,\n",
       " 2852503463}"
      ]
     },
     "execution_count": 3,
     "metadata": {},
     "output_type": "execute_result"
    }
   ],
   "source": [
    "C.true_ids"
   ]
  },
  {
   "cell_type": "code",
   "execution_count": null,
   "metadata": {},
   "outputs": [],
   "source": []
  }
 ],
 "metadata": {
  "interpreter": {
   "hash": "ecdeaf2ac59fb4ad11976aef5258ba241a9bb1bfad09d91039c8d9c71c1b3462"
  },
  "kernelspec": {
   "display_name": "Python 3.8.12 ('miner')",
   "language": "python",
   "name": "python3"
  },
  "language_info": {
   "codemirror_mode": {
    "name": "ipython",
    "version": 3
   },
   "file_extension": ".py",
   "mimetype": "text/x-python",
   "name": "python",
   "nbconvert_exporter": "python",
   "pygments_lexer": "ipython3",
   "version": "3.8.12"
  },
  "orig_nbformat": 4
 },
 "nbformat": 4,
 "nbformat_minor": 2
}
