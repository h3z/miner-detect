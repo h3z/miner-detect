{
 "cells": [
  {
   "cell_type": "code",
   "execution_count": 1,
   "id": "04e0ded4-03ce-4384-b91e-6035947ec937",
   "metadata": {},
   "outputs": [],
   "source": [
    "from sklearn.metrics import f1_score\n",
    "import numpy as np\n",
    "import pandas as pd\n",
    "from tqdm import tqdm"
   ]
  },
  {
   "cell_type": "code",
   "execution_count": 2,
   "id": "b029e56b-354e-4a12-9403-8847ceb7852b",
   "metadata": {},
   "outputs": [
    {
     "name": "stderr",
     "output_type": "stream",
     "text": [
      "100%|██████████| 2/2 [00:00<00:00, 138.57it/s]\n"
     ]
    },
    {
     "data": {
      "text/html": [
       "<div>\n",
       "<style scoped>\n",
       "    .dataframe tbody tr th:only-of-type {\n",
       "        vertical-align: middle;\n",
       "    }\n",
       "\n",
       "    .dataframe tbody tr th {\n",
       "        vertical-align: top;\n",
       "    }\n",
       "\n",
       "    .dataframe thead th {\n",
       "        text-align: right;\n",
       "    }\n",
       "</style>\n",
       "<table border=\"1\" class=\"dataframe\">\n",
       "  <thead>\n",
       "    <tr style=\"text-align: right;\">\n",
       "      <th></th>\n",
       "      <th>pred_num</th>\n",
       "      <th>pred_true_num</th>\n",
       "      <th>score</th>\n",
       "    </tr>\n",
       "  </thead>\n",
       "  <tbody>\n",
       "    <tr>\n",
       "      <th>0</th>\n",
       "      <td>0</td>\n",
       "      <td>0</td>\n",
       "      <td>0.49939781</td>\n",
       "    </tr>\n",
       "    <tr>\n",
       "      <th>1</th>\n",
       "      <td>1</td>\n",
       "      <td>0</td>\n",
       "      <td>0.49938151</td>\n",
       "    </tr>\n",
       "    <tr>\n",
       "      <th>2</th>\n",
       "      <td>1</td>\n",
       "      <td>1</td>\n",
       "      <td>0.52572985</td>\n",
       "    </tr>\n",
       "  </tbody>\n",
       "</table>\n",
       "</div>"
      ],
      "text/plain": [
       "  pred_num pred_true_num       score\n",
       "0        0             0  0.49939781\n",
       "1        1             0  0.49938151\n",
       "2        1             1  0.52572985"
      ]
     },
     "execution_count": 2,
     "metadata": {},
     "output_type": "execute_result"
    }
   ],
   "source": [
    "data = []\n",
    "true_num = 37\n",
    "for pred_num in tqdm(range(0, 2)):\n",
    "    for pred_true_num in range(0,min(true_num,pred_num)+1):\n",
    "        y_true = np.zeros(15379)\n",
    "        y_pred = np.zeros(15379)\n",
    "        y_true[:true_num] = 1\n",
    "        y_pred[:pred_true_num] = 1\n",
    "        if pred_num-pred_true_num > 0:\n",
    "            y_pred[-(pred_num-pred_true_num):] = 1\n",
    "        score = f1_score(y_true,y_pred,average='macro')\n",
    "        data.append([pred_num,pred_true_num,score])\n",
    "\n",
    "df = pd.DataFrame(data,columns=['pred_num','pred_true_num','score'],dtype='str')\n",
    "df['score'] = df['score'].map(lambda x:\"{:.8f}\".format(float(x),8))\n",
    "df.head()"
   ]
  },
  {
   "cell_type": "code",
   "execution_count": 14,
   "id": "80a66fc3-ba94-4e62-a764-444b12a47399",
   "metadata": {},
   "outputs": [
    {
     "data": {
      "text/html": [
       "<div>\n",
       "<style scoped>\n",
       "    .dataframe tbody tr th:only-of-type {\n",
       "        vertical-align: middle;\n",
       "    }\n",
       "\n",
       "    .dataframe tbody tr th {\n",
       "        vertical-align: top;\n",
       "    }\n",
       "\n",
       "    .dataframe thead th {\n",
       "        text-align: right;\n",
       "    }\n",
       "</style>\n",
       "<table border=\"1\" class=\"dataframe\">\n",
       "  <thead>\n",
       "    <tr style=\"text-align: right;\">\n",
       "      <th></th>\n",
       "      <th>pred_num</th>\n",
       "      <th>pred_true_num</th>\n",
       "      <th>score</th>\n",
       "    </tr>\n",
       "  </thead>\n",
       "  <tbody>\n",
       "  </tbody>\n",
       "</table>\n",
       "</div>"
      ],
      "text/plain": [
       "Empty DataFrame\n",
       "Columns: [pred_num, pred_true_num, score]\n",
       "Index: []"
      ]
     },
     "execution_count": 14,
     "metadata": {},
     "output_type": "execute_result"
    }
   ],
   "source": [
    "df[df.score=='0.77742870561']"
   ]
  },
  {
   "cell_type": "code",
   "execution_count": 7,
   "id": "20118058-774f-444b-bfce-18545dcf632d",
   "metadata": {},
   "outputs": [],
   "source": [
    "df.to_csv(\"df.csv\",index=None)"
   ]
  },
  {
   "cell_type": "code",
   "execution_count": 3,
   "id": "29a05e24-e207-4964-a04c-65319086089a",
   "metadata": {},
   "outputs": [
    {
     "data": {
      "text/html": [
       "<div>\n",
       "<style scoped>\n",
       "    .dataframe tbody tr th:only-of-type {\n",
       "        vertical-align: middle;\n",
       "    }\n",
       "\n",
       "    .dataframe tbody tr th {\n",
       "        vertical-align: top;\n",
       "    }\n",
       "\n",
       "    .dataframe thead th {\n",
       "        text-align: right;\n",
       "    }\n",
       "</style>\n",
       "<table border=\"1\" class=\"dataframe\">\n",
       "  <thead>\n",
       "    <tr style=\"text-align: right;\">\n",
       "      <th></th>\n",
       "      <th>pred_num</th>\n",
       "      <th>pred_true_num</th>\n",
       "      <th>score</th>\n",
       "    </tr>\n",
       "  </thead>\n",
       "  <tbody>\n",
       "    <tr>\n",
       "      <th>1</th>\n",
       "      <td>1</td>\n",
       "      <td>0</td>\n",
       "      <td>0.49938151</td>\n",
       "    </tr>\n",
       "    <tr>\n",
       "      <th>2</th>\n",
       "      <td>1</td>\n",
       "      <td>1</td>\n",
       "      <td>0.52572985</td>\n",
       "    </tr>\n",
       "  </tbody>\n",
       "</table>\n",
       "</div>"
      ],
      "text/plain": [
       "  pred_num pred_true_num       score\n",
       "1        1             0  0.49938151\n",
       "2        1             1  0.52572985"
      ]
     },
     "execution_count": 3,
     "metadata": {},
     "output_type": "execute_result"
    }
   ],
   "source": [
    "df[df.pred_num == '1']"
   ]
  },
  {
   "cell_type": "code",
   "execution_count": 11,
   "id": "c07895f8",
   "metadata": {},
   "outputs": [
    {
     "data": {
      "text/plain": [
       "23"
      ]
     },
     "execution_count": 11,
     "metadata": {},
     "output_type": "execute_result"
    }
   ],
   "source": [
    "a=    {\n",
    "        179458306,\n",
    "        1606708811,\n",
    "        2071313507,\n",
    "        2427050072,\n",
    "        179569820,\n",
    "        2186749200,\n",
    "        2212416005,\n",
    "        2256064355,\n",
    "        2347718610,\n",
    "        2576321385,\n",
    "    }    | {\n",
    "        2238809293,\n",
    "        2741872006,\n",
    "        2817362052,\n",
    "        2825175309,\n",
    "        2852503463,\n",
    "        2533183958,\n",
    "        2319973783,\n",
    "        1916407803,\n",
    "        855996491,\n",
    "    }    | {2717225077, 2445049876, 2172970175, 2323237963}\n",
    "len(a)"
   ]
  }
 ],
 "metadata": {
  "kernelspec": {
   "display_name": "Python 3",
   "language": "python",
   "name": "python3"
  },
  "language_info": {
   "codemirror_mode": {
    "name": "ipython",
    "version": 3
   },
   "file_extension": ".py",
   "mimetype": "text/x-python",
   "name": "python",
   "nbconvert_exporter": "python",
   "pygments_lexer": "ipython3",
   "version": "3.8.12"
  }
 },
 "nbformat": 4,
 "nbformat_minor": 5
}
